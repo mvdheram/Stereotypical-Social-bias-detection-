{
  "nbformat": 4,
  "nbformat_minor": 0,
  "metadata": {
    "colab": {
      "name": "Data collection and filtering.ipynb",
      "provenance": [],
      "collapsed_sections": [
        "UEydX_NnfExn",
        "wJEF4pHSjIRn",
        "i6JSQOQY8HJt",
        "srNs7W_P8Mxy",
        "oVFgRgg4LKZe"
      ],
      "toc_visible": true,
      "include_colab_link": true
    },
    "kernelspec": {
      "name": "python3",
      "display_name": "Python 3"
    },
    "language_info": {
      "name": "python"
    }
  },
  "cells": [
    {
      "cell_type": "markdown",
      "metadata": {
        "id": "view-in-github",
        "colab_type": "text"
      },
      "source": [
        "<a href=\"https://colab.research.google.com/github/mvdheram/Stereotypical-Social-bias-detection-/blob/Data-collection-and-filtering/Data_collection_and_filtering.ipynb\" target=\"_parent\"><img src=\"https://colab.research.google.com/assets/colab-badge.svg\" alt=\"Open In Colab\"/></a>"
      ]
    },
    {
      "cell_type": "markdown",
      "metadata": {
        "id": "oFZECl1n9Anz"
      },
      "source": [
        "# Stereotype and bias definition "
      ]
    },
    {
      "cell_type": "markdown",
      "metadata": {
        "id": "AIES6tzTBED9"
      },
      "source": [
        "Introduction (http://demo.clab.cs.cmu.edu/ethical_nlp2018/slides/04_Implicit_Bias.pdf):\n",
        "  * Bias is systematic pattern of deviation from rationality \n",
        "  * Implicit bias (stereotypes) are inevitable formed by mind when categorizing, storing and retreiving information.\n",
        "\n",
        "**Stereotyping, prejudice and discrimination - Fiske 2014:**\n",
        "  * Allport's the nature of prejudice (1954) stated that humans inevitable categorize into ingroup, outgroup when trying to perceive complex social structures.\n",
        "  * This categorization (automatic - preconscious or postconscious) along with group label can prime stereotypic and prejudicial associations (which is more rapid in nature due to generalization; cognition saving mechanism). \n",
        "```\n",
        "  Impressions + labels -> + similar  -> Categorization ->  + generalization of group expectations, behavious, features etc  -> stereotype (cognitive) -> + noisy attribute (false, non-essential) / ingroup favoritism -> prejudice (affective/ emotional) ->  + judgement -> discrimination (behavioural bias)  \n",
        "```\n",
        "\n",
        "**Social Bias: Prejudice, Stereotyping, and Discrimination - Sabrina keene, MSP**\n",
        "  * \"Stereotyping is the application of an individual’s own thoughts, beliefs, and expectations onto other individuals without first obtaining factual knowledge about the individual(s)\" 2010 Fiske\n",
        "  \n",
        "**The social psychology of cultural diversity: Social stereotyping, prejudice, and discrimination**\n",
        "  * Stereotype : \n",
        "    * Cognitive \n",
        "    * Beliefs shared by one group about characteristics of another group.\n",
        "    * Can be positive or negative\n",
        "  * Prejudice :\n",
        "    * Emotional\n",
        "    * Socially shared judgements or evalutations of the group including the feelings associated with that judgement.\n",
        "    * Predominantly negative feelings, attitudes, \"unfair\", \"unjustified\" or \"irrational\"\n",
        "    * But judgements of outgroup members can be neutral or positive (stated in the book)\n",
        "  ```\n",
        "  @article{wright2007social,\n",
        "  title={The social psychology of cultural diversity: Social stereotyping, prejudice, and discrimination},\n",
        "  author={Wright, Stephen C and Taylor, Donald M},\n",
        "  journal={The SAGE handbook of social psychology: Concise student edition},\n",
        "  pages={361--387},\n",
        "  year={2007},\n",
        "  publisher={Sage London}\n",
        "}\n",
        "```\n",
        "\n",
        "**How Language Contributes to Stereotype Formation: Combined Effects of Label Types and Negation Use in Behavior Descriptions**\n",
        "\n",
        "  * Stereotypes are “generalized impressions” (Beukeboom & Burgers, 2019a)\n",
        "\n",
        "**How Stereotypes Are Shared Through Language:\n",
        "A Review and Introduction of the Social Categories\n",
        "and Stereotypes Communication (SCSC) Framework**\n",
        "\n",
        "  * \"The term stereo type\n",
        "refers to the cognitive representation people hold about\n",
        "a social category, consisting of beliefs and expectancies about\n",
        "probable behaviors, features and traits\"(Dovidio et al., 2010).\n",
        "\n",
        "**Stereotypes and stereotyping**:\n",
        "\n",
        "* \"Stereotypes are considered to be the \"pictures in the head\" of individuals looking out into their social worlds\".\n",
        "* These individual \"pictures in the head\" are shared within society, the affects the entire groups of people.\n",
        "* Two perspectives:\n",
        "  1. Stereotypes as pictures in head\n",
        "  2. Stereotypes shared socially by people within the culture (shared social beliefs).\n",
        "* **Stereotypes only have meaning to the extent they are socially shared**.\n",
        "1. Stereotypes as pictures in head :\n",
        "  * Three general approaches how information about social groups is represented within memory \n",
        "    1. Group shcemas \n",
        "      * \"Schemas are abstract knowledge structures that specify the defining features and relavant attributes of a given concept.\"\n",
        "      * Collection of beliefs about the characteristics of social group (stereotypic traits).\n",
        "      * Have inflence on perception, attention, judgements and behaviour. \n",
        "    2. Group prototypes:\n",
        "      * Mental representations of group labels(e.g., Italians) and the features that are assumed to be true (e.g., \"romantic\")\n",
        "      * Same as group schemas but lower level and more specific level of representation.\n",
        "      * Measure:\n",
        "        * Activation of trait terms upon exposure to category lables\n",
        "          * e.g., \"Romantic\" trait to \"Italians\" target label\n",
        "      * Makes explicit predictions of group relavant information .\n",
        "    3. Exemplars\n",
        "      * Activation of stored memories when a target group member is encountered.\n",
        "      * Activating schemas or group  prototypes makes sence here.\n",
        "      * Stereotypes about groups are also formed when they have little or no direct contact.\n",
        "2. Stereotypes as collective belief systems\n",
        "  * \"Public information shared among social groups.\"\n",
        "  * Focuses on language as representation of social groups.\n",
        "    * Language:\n",
        "      * Language plays important role for learning maintaining.\n",
        "      * \"Language offers a means of storing stereotypic beliefs at a collective, consensual level.\n",
        "      * Three major sources are naming, labeling and categorizing, communication.\n",
        "      * Study of generic category labels \"women\", \"blacks\", but flexibility of language sugests that it would not capture full flavor of stereotypes.\n",
        "        1. Benign labels :\n",
        "          * Tell category membership\n",
        "          * \"Blacks\", \"Homosexual\", \"woman\"\n",
        "        2. Derogatory :\n",
        "          * Tell stereotype itself.\n",
        "          * Convey particular negative stereotype to a greater degree.\n",
        "          * \"nigger\",\"faggor\" etc.\n",
        "\n",
        "\n",
        "**A Survey on Bias in Deep NLP**\n",
        "\n",
        "* \"Cognitive science defines bias as a case in which human cognition reliably produces representations that are systematically distorted compared to some aspect of objective reality.\" *The Handbook of Evolutionary Psychology*\n",
        "* \"Stereotyping can be defined as the assumption of some characteristics applied to others on the basis of their national, ethnic or gender groups.\" *The Psychology of Stereotyping*\n",
        "* Stereotyping assigns certain characteristics to an individual based on impressions of the category.\n",
        "\n",
        "\n",
        "**A General Framework for Implicit and\n",
        "Explicit Debiasing of DistributionalWord**\n",
        "\n",
        "* Bias specifications:\n",
        "  * Implicit bias (Bi) :\n",
        "    * A set of target terms (T1 - science,T2 - arts) for which bias is **expected/implcitly assumed** in embedding space.\n",
        "    * Assumption of reference terms A(male/female) for target terms\n",
        "     \n",
        "    `Bi = (T1,T2) not requiring reference terms A` \n",
        "  * Explicit bias (Be):\n",
        "    * Reference attribute sets are explicitly provided with target terms (T1,T2)\n",
        "    \n",
        "    `Be = (T1,T2,A) / (T1,T2,A1,A2) as in WEAR tests` \n",
        "\n"
      ]
    },
    {
      "cell_type": "markdown",
      "metadata": {
        "id": "JyU7urpl9gp2"
      },
      "source": [
        "## SCSC (TBD)\n",
        "\n",
        "link: https://www.ssoar.info/ssoar/bitstream/handle/document/61187/ssoar-rcr-2019-camiel_j_beukeboom_et_al-How_stereotypes_are_Shared_through.pdf?sequence=1&isAllowed=y&lnkname=ssoar-rcr-2019-camiel_j_beukeboom_et_al-How_stereotypes_are_Shared_through.pdf"
      ]
    },
    {
      "cell_type": "markdown",
      "metadata": {
        "id": "aNUxELvtA7MP"
      },
      "source": [
        "## Linguistic cues to capture stereotypical statements "
      ]
    },
    {
      "cell_type": "markdown",
      "metadata": {
        "id": "H72NA5nrBGQB"
      },
      "source": [
        "**How Language Contributes to Stereotype Formation: Combined Effects of Label Types and Negation Use in Behavior Descriptions**:\n",
        "\n",
        "  *Generic labels:*\n",
        "\n",
        "  1. Plural nouns (\"the dutch are direct\")\n",
        "  2. Without definite articles - \"The\" (\"cheetahs run fast\")\n",
        "  3. Singular noun with indefinite article - \"a/an\"\n",
        "\n",
        "    **Description of stereotypic consistent and inconsistent behaviour** :\n",
        "  \n",
        "    *stereotype-inconsistent:*\n",
        "\n",
        "      * Negation about positive behaviour \n",
        "      1.  Syntactic negation (e.g. no, not - the rocket scientist is not smart) - not smart relates to the inconsistent behaviour of rocket scientist i.e not being **smart**.\n",
        "      2. Incompetent behaviour - (dumb, stupid etc - the rocket scientist is dumb)\n",
        "    \n",
        "    *Stereotype-consistent:*\n",
        "\n",
        "      1. High essentialism - (smart, good - \"the rocket scientist is smart\") \n",
        "\n",
        "**Extracting generic statements for semantic web**:\n",
        "\n",
        "  * Generic cues :\n",
        "    * NNS and NNPS POS tag\n",
        "    * articles: a/an, the, no\n",
        "    * indefinite determiners: another, some, each, both, either, neither\n",
        "    * indexical prenominal modifiers: such, other, this/these, that/those, . . .\n",
        "    * quantifiers: many, few, several, multiple, . . .\n",
        "    * numbers: five, fifth(s), dozen(s), million(s), . . .\n",
        "    * head noun exceptions: others, ones, one, . . .\n",
        "\n",
        "**Supervised categorization for habitual versus episodic sentences**:\n",
        "\n",
        "  * Habitual sentences : propositions over properties of a single individual (e.g. Mary drinks beer)\n",
        "  * Generic sentences : propositions over a class of individuals (e.g. Bears eat fish)\n",
        "    * **Frequency Adverb:  usually, typically, generally, sometimes, always**\n",
        "\n",
        "**When Do We\n",
        "Communicate Stereotypes?\n",
        "Influence of the Social\n",
        "Context on the Linguistic\n",
        "Expectancy Bias**:\n",
        "  * LEB (linguistic expectency bias) was observed in intergroup social communicative context (e.g. gender-male,female) when communicating stereotype consistent or inconsistent behaviour.\n",
        "  * LEB is the affect of **describing desirable ingroup and undesirable outgroup behaviour at higher level of abstraction** than undesirable ingroup and desirable outgroup.\n",
        "    * \"Stereotype consistent information is described more abstractly than stereotype inconsistent information.\"\n",
        "    * Expectency consistent -> More abstract\n",
        "    * Expectency inconsistent -> More concrete\n",
        "  * Linguistic category model (https://www.tandfonline.com/doi/abs/10.1080/14792779143000006?casa_token=Uyz3mOtlVjkAAAAA:KjCTyXvSOvQlC108Hsr0K1Z-hXCNyd1XL4n6jkmcKUuTBD_u2HMMW22UdDy5Ys0qK08WEsfN3Ug) distinguishes 4 different levels of abstraction in interpersonal communation.\n",
        "    1.  Descriptive action verbs :\n",
        "      * Concrete\n",
        "      * Non-interpretive description of single event\n",
        "      * E.g. \"A shakes B's hand\"\n",
        "    2. Interpretive action verbs :\n",
        "      * More abstract\n",
        "      * Refer general class of behaviours(frame) instead of specific concrete behaviour\n",
        "      * e.g. \" A helps B\"\n",
        "      *  \"The behaviors in question have distinct beginnings\n",
        "and ends as well as clear positive or negative semantic valence\"\n",
        "    3. State action verbs :\n",
        "      * More abstract \n",
        "      * Describes emotional state not a specific event\n",
        "      * e.g. \"A cares of B\"\n",
        "    4. Adjectives :\n",
        "      * Most abstract\n",
        "      * \"A is helpful\"\n",
        "\n",
        "  * Social categorization activation (actor and recipient **comparative context**; individual level, gender, ethnicity etc.) -> stereotype activation -> LEB effect  "
      ]
    },
    {
      "cell_type": "markdown",
      "metadata": {
        "id": "d34eIzVFKw2s"
      },
      "source": [
        "# Why three datasets ?\n"
      ]
    },
    {
      "cell_type": "markdown",
      "metadata": {
        "id": "4IORlCxyLgFL"
      },
      "source": [
        "<!-- Firstly, the datasets are used as base references and Exploratory data analysis is performed upon which further samples are explored. -->\n",
        "<!--  -->\n",
        "1. Stereoset:\n",
        "   * Crowdsourced stereotypical samples based on target terms extracted from wikidata triples.\n",
        "  * Covers both intersentence and intrasentence samples.\n",
        "  * Annotators are asked to give realistic stereo or anti stereo associations.\n",
        "  * Covers explicit stereotypes.\n",
        "  * Recently published.\n",
        "  \n",
        "  Limitations:\n",
        "  \n",
        "  * Crowd workers are restricted to USA (80% below 50) and stereotypes may vary based on countries.\n",
        "  * Not exhaustive list (*Stereotypes are subjective in nature and may collide with objective facts* - difficult to gather).\n",
        "  * Validation rate of stereoset is 62% while validation rate is 80% for crowspair.\n",
        "  * Some of the examples seem subjective but not generalized ?\n",
        "    \n",
        "    e.g. He looked like a black rapper in drugs  \n",
        "\n",
        "  Quesitons: \n",
        "   * Consider only intrasentence in stereoset?? as crowspair is of type intrasentence \n",
        "\n",
        "2. Crowspair:\n",
        "\n",
        "  * Crowdsourced (US based); focuses on explicit expressions of stereotypes about historically disadvantaged groups in US.\n",
        "  * \"Higher validation rate at 80%,\n",
        "compared to 62% for StereoSet\". \n",
        "  * Cover wider fields of bias (9 domains) rather than 4 of stereoset.\n",
        "  * Covers explicit stereotypes.\n",
        "  * Recently published.\n",
        "\n",
        "  Limitations:\n",
        "\n",
        "  *  Many examples in CrowS-Pairs use first names for people to indicate which group they belong to.\n",
        "      \n",
        "      e.g.Jamal etc\n",
        "  * Explicit group\n",
        "names like “African Americans” and “Mexicans”\n",
        "are also common.\n",
        "  * Examples contain intersectional bias.\n",
        "\n",
        "3. Social Bias Frames:\n",
        "\n",
        "  * Covers 150k structured annotations of social media posts (reddit, twitter, hate sites).\n",
        "  * Provides framing information for each posts through free-text annotations such as implied statement, targeted group apart from the categorical annotation such as offensive, intend to offend etc.\n",
        "  * Covers Implicit stereotypes or micro-aggressions.\n",
        "\n",
        "  * **Micro-aggression**: “A comment or action that subtly and often unconsciously or\n",
        "unintentionally expresses a prejudiced attitude towards a\n",
        "member of a marginalized group”\n",
        "\n",
        "    * “You’re too pretty to be gay.”\n",
        "    * “Don’t you people like tamales?”\n",
        "\n",
        "  Limitations:\n",
        "  *  Covers more of gender and racial biases with social slangs as the posts are extracted from social media.\n"
      ]
    },
    {
      "cell_type": "markdown",
      "metadata": {
        "id": "UEydX_NnfExn"
      },
      "source": [
        "## Generic nouns using POS tagging \n",
        "\n",
        "Using NNs(Noun plural) and NNPS(Noun singular)"
      ]
    },
    {
      "cell_type": "code",
      "metadata": {
        "colab": {
          "base_uri": "https://localhost:8080/"
        },
        "id": "A4K6NUqyeAU5",
        "outputId": "77ac4c44-7832-4029-d7df-023b03e215b5"
      },
      "source": [
        "import nltk\n",
        "nltk.download('punkt')"
      ],
      "execution_count": null,
      "outputs": [
        {
          "output_type": "stream",
          "text": [
            "[nltk_data] Downloading package punkt to /root/nltk_data...\n",
            "[nltk_data]   Unzipping tokenizers/punkt.zip.\n"
          ],
          "name": "stdout"
        },
        {
          "output_type": "execute_result",
          "data": {
            "text/plain": [
              "True"
            ]
          },
          "metadata": {
            "tags": []
          },
          "execution_count": 6
        }
      ]
    },
    {
      "cell_type": "code",
      "metadata": {
        "id": "wbr1sbsMeeFT"
      },
      "source": [
        "from nltk import word_tokenize, pos_tag, ne_chunk"
      ],
      "execution_count": null,
      "outputs": []
    },
    {
      "cell_type": "code",
      "metadata": {
        "colab": {
          "base_uri": "https://localhost:8080/"
        },
        "id": "q-r-KR_IiN1m",
        "outputId": "55bcf9d2-e4b6-4f9f-ccc1-b8734b0d40d2"
      },
      "source": [
        "nltk.download('averaged_perceptron_tagger')"
      ],
      "execution_count": null,
      "outputs": [
        {
          "output_type": "stream",
          "text": [
            "[nltk_data] Downloading package averaged_perceptron_tagger to\n",
            "[nltk_data]     /root/nltk_data...\n",
            "[nltk_data]   Package averaged_perceptron_tagger is already up-to-\n",
            "[nltk_data]       date!\n"
          ],
          "name": "stdout"
        },
        {
          "output_type": "execute_result",
          "data": {
            "text/plain": [
              "True"
            ]
          },
          "metadata": {
            "tags": []
          },
          "execution_count": 8
        }
      ]
    },
    {
      "cell_type": "code",
      "metadata": {
        "colab": {
          "base_uri": "https://localhost:8080/"
        },
        "id": "58XnlTgzb2wF",
        "outputId": "f405c359-cc82-4026-b7e4-832da680eeba"
      },
      "source": [
        "text = nltk.word_tokenize(\"He did not advance much because he was a lazy poor person\")\n",
        "nltk.pos_tag(text)"
      ],
      "execution_count": null,
      "outputs": [
        {
          "output_type": "execute_result",
          "data": {
            "text/plain": [
              "[('He', 'PRP'),\n",
              " ('did', 'VBD'),\n",
              " ('not', 'RB'),\n",
              " ('advance', 'VB'),\n",
              " ('much', 'RB'),\n",
              " ('because', 'IN'),\n",
              " ('he', 'PRP'),\n",
              " ('was', 'VBD'),\n",
              " ('a', 'DT'),\n",
              " ('lazy', 'JJ'),\n",
              " ('poor', 'JJ'),\n",
              " ('person', 'NN')]"
            ]
          },
          "metadata": {
            "tags": []
          },
          "execution_count": 9
        }
      ]
    },
    {
      "cell_type": "markdown",
      "metadata": {
        "id": "4rwEp3js48R0"
      },
      "source": [
        "**Question**:\n",
        "  * **Should be used for testing ?? by filtering on stereotypes columns and assessing the bias type**\n",
        "  * **Should the classifier be trained on quotes or the full text explanation (reasoning) ??**\n",
        "  "
      ]
    },
    {
      "cell_type": "code",
      "metadata": {
        "id": "s_lB75ezK6r2"
      },
      "source": [
        ""
      ],
      "execution_count": null,
      "outputs": []
    },
    {
      "cell_type": "markdown",
      "metadata": {
        "id": "q5MmUqeVsgcV"
      },
      "source": [
        "# Splitting datasets into Explicit and Implicit stereotypes"
      ]
    },
    {
      "cell_type": "markdown",
      "metadata": {
        "id": "knRZIsgo-3Q8"
      },
      "source": [
        "## Explicit stereotypes \n",
        "\n",
        "Stereoset and Crowspair\n",
        "\n",
        "* Explicit stereotypical bias definition : Overt expression of social stereotypes (over generalized beliefs about category of people).\n",
        "  \n",
        "  e.g.: \"Asians are good in math\"\n",
        "* Implicit stereotypical bias definition : \n",
        "  * Implicit or subtle projection of social stereotypes as prejudice.\n",
        "  * Often veiled or sublty project stereotypical behaviour and expectencies. \n",
        "  * Sometimes called \"Micro-aggressions\" - Unconsciously and subtly expresses prejudiced attitude\".\n",
        "  \n",
        "  e.g.:“we shouldn’t lower our standards to hire\n",
        "more women,”"
      ]
    },
    {
      "cell_type": "code",
      "metadata": {
        "colab": {
          "base_uri": "https://localhost:8080/",
          "height": 204
        },
        "id": "kvdOLv_jsfYw",
        "outputId": "89d88f07-1b2d-4d3a-8bf3-0d9e51ccd070"
      },
      "source": [
        "import pandas as pd\n",
        "\n",
        "stereo_inter = pd.read_csv(\"/content/Intersentence_examples.csv\" ,usecols = [1,3,5])\n",
        "stereo_intra = pd.read_csv(\"/content/intrasentence_examples.csv\", usecols = [3,5])\n",
        "stereo_inter.head()"
      ],
      "execution_count": null,
      "outputs": [
        {
          "output_type": "execute_result",
          "data": {
            "text/html": [
              "<div>\n",
              "<style scoped>\n",
              "    .dataframe tbody tr th:only-of-type {\n",
              "        vertical-align: middle;\n",
              "    }\n",
              "\n",
              "    .dataframe tbody tr th {\n",
              "        vertical-align: top;\n",
              "    }\n",
              "\n",
              "    .dataframe thead th {\n",
              "        text-align: right;\n",
              "    }\n",
              "</style>\n",
              "<table border=\"1\" class=\"dataframe\">\n",
              "  <thead>\n",
              "    <tr style=\"text-align: right;\">\n",
              "      <th></th>\n",
              "      <th>context</th>\n",
              "      <th>bias_type</th>\n",
              "      <th>stereotype</th>\n",
              "    </tr>\n",
              "  </thead>\n",
              "  <tbody>\n",
              "    <tr>\n",
              "      <th>0</th>\n",
              "      <td>Many people live in Ethiopia.</td>\n",
              "      <td>race</td>\n",
              "      <td>The people are very thin and good at distance ...</td>\n",
              "    </tr>\n",
              "    <tr>\n",
              "      <th>1</th>\n",
              "      <td>My professor is a hispanic man</td>\n",
              "      <td>race</td>\n",
              "      <td>He came here illegally</td>\n",
              "    </tr>\n",
              "    <tr>\n",
              "      <th>2</th>\n",
              "      <td>The schoolgirl is walking down the street.</td>\n",
              "      <td>gender</td>\n",
              "      <td>She is a target for child predators.</td>\n",
              "    </tr>\n",
              "    <tr>\n",
              "      <th>3</th>\n",
              "      <td>We'll likely fly over Cape Verde on our flight...</td>\n",
              "      <td>race</td>\n",
              "      <td>I bet the people that live there are pretty lazy.</td>\n",
              "    </tr>\n",
              "    <tr>\n",
              "      <th>4</th>\n",
              "      <td>I know many people who are Russian.</td>\n",
              "      <td>race</td>\n",
              "      <td>They love their vodka!</td>\n",
              "    </tr>\n",
              "  </tbody>\n",
              "</table>\n",
              "</div>"
            ],
            "text/plain": [
              "                                             context  ...                                         stereotype\n",
              "0                      Many people live in Ethiopia.  ...  The people are very thin and good at distance ...\n",
              "1                     My professor is a hispanic man  ...                             He came here illegally\n",
              "2         The schoolgirl is walking down the street.  ...               She is a target for child predators.\n",
              "3  We'll likely fly over Cape Verde on our flight...  ...  I bet the people that live there are pretty lazy.\n",
              "4                I know many people who are Russian.  ...                             They love their vodka!\n",
              "\n",
              "[5 rows x 3 columns]"
            ]
          },
          "metadata": {
            "tags": []
          },
          "execution_count": 5
        }
      ]
    },
    {
      "cell_type": "markdown",
      "metadata": {
        "id": "cfsn4UdgvxFG"
      },
      "source": [
        "Use `.str` to convert the df/series to string\n",
        "\n",
        "To check substring use `.contains(\"Hello...\")`\n",
        "\n",
        "To check punctuation use `.endswith(\".\")`"
      ]
    },
    {
      "cell_type": "code",
      "metadata": {
        "id": "kESGUxN2S31e"
      },
      "source": [
        "stereo_inter.loc[stereo_inter['context'].str.endswith(\".\") == False , 'context'] =  stereo_inter['context'] + '.'"
      ],
      "execution_count": null,
      "outputs": []
    },
    {
      "cell_type": "code",
      "metadata": {
        "colab": {
          "base_uri": "https://localhost:8080/",
          "height": 204
        },
        "id": "ivTQHIh1t71b",
        "outputId": "9f499b7e-7aa8-40f7-f06a-8fbac1eb80e9"
      },
      "source": [
        "stereo_inter.head()"
      ],
      "execution_count": null,
      "outputs": [
        {
          "output_type": "execute_result",
          "data": {
            "text/html": [
              "<div>\n",
              "<style scoped>\n",
              "    .dataframe tbody tr th:only-of-type {\n",
              "        vertical-align: middle;\n",
              "    }\n",
              "\n",
              "    .dataframe tbody tr th {\n",
              "        vertical-align: top;\n",
              "    }\n",
              "\n",
              "    .dataframe thead th {\n",
              "        text-align: right;\n",
              "    }\n",
              "</style>\n",
              "<table border=\"1\" class=\"dataframe\">\n",
              "  <thead>\n",
              "    <tr style=\"text-align: right;\">\n",
              "      <th></th>\n",
              "      <th>context</th>\n",
              "      <th>bias_type</th>\n",
              "      <th>stereotype</th>\n",
              "    </tr>\n",
              "  </thead>\n",
              "  <tbody>\n",
              "    <tr>\n",
              "      <th>0</th>\n",
              "      <td>Many people live in Ethiopia.</td>\n",
              "      <td>race</td>\n",
              "      <td>The people are very thin and good at distance ...</td>\n",
              "    </tr>\n",
              "    <tr>\n",
              "      <th>1</th>\n",
              "      <td>My professor is a hispanic man.</td>\n",
              "      <td>race</td>\n",
              "      <td>He came here illegally</td>\n",
              "    </tr>\n",
              "    <tr>\n",
              "      <th>2</th>\n",
              "      <td>The schoolgirl is walking down the street.</td>\n",
              "      <td>gender</td>\n",
              "      <td>She is a target for child predators.</td>\n",
              "    </tr>\n",
              "    <tr>\n",
              "      <th>3</th>\n",
              "      <td>We'll likely fly over Cape Verde on our flight...</td>\n",
              "      <td>race</td>\n",
              "      <td>I bet the people that live there are pretty lazy.</td>\n",
              "    </tr>\n",
              "    <tr>\n",
              "      <th>4</th>\n",
              "      <td>I know many people who are Russian.</td>\n",
              "      <td>race</td>\n",
              "      <td>They love their vodka!</td>\n",
              "    </tr>\n",
              "  </tbody>\n",
              "</table>\n",
              "</div>"
            ],
            "text/plain": [
              "                                             context  ...                                         stereotype\n",
              "0                      Many people live in Ethiopia.  ...  The people are very thin and good at distance ...\n",
              "1                    My professor is a hispanic man.  ...                             He came here illegally\n",
              "2         The schoolgirl is walking down the street.  ...               She is a target for child predators.\n",
              "3  We'll likely fly over Cape Verde on our flight...  ...  I bet the people that live there are pretty lazy.\n",
              "4                I know many people who are Russian.  ...                             They love their vodka!\n",
              "\n",
              "[5 rows x 3 columns]"
            ]
          },
          "metadata": {
            "tags": []
          },
          "execution_count": 7
        }
      ]
    },
    {
      "cell_type": "code",
      "metadata": {
        "id": "erNgHr9CIPan"
      },
      "source": [
        "stereo_inter[\"stereotype\"] =  stereo_inter[\"context\"] + \" \" +stereo_inter[\"stereotype\"] "
      ],
      "execution_count": null,
      "outputs": []
    },
    {
      "cell_type": "code",
      "metadata": {
        "id": "rTUFfUzRRT-J"
      },
      "source": [
        "stereo_inter = stereo_inter.drop(columns = 'context')"
      ],
      "execution_count": null,
      "outputs": []
    },
    {
      "cell_type": "code",
      "metadata": {
        "colab": {
          "base_uri": "https://localhost:8080/",
          "height": 419
        },
        "id": "VN26-KkdO5Km",
        "outputId": "cfd09422-817e-446b-e637-99275ff36659"
      },
      "source": [
        "stereo_inter"
      ],
      "execution_count": null,
      "outputs": [
        {
          "output_type": "execute_result",
          "data": {
            "text/html": [
              "<div>\n",
              "<style scoped>\n",
              "    .dataframe tbody tr th:only-of-type {\n",
              "        vertical-align: middle;\n",
              "    }\n",
              "\n",
              "    .dataframe tbody tr th {\n",
              "        vertical-align: top;\n",
              "    }\n",
              "\n",
              "    .dataframe thead th {\n",
              "        text-align: right;\n",
              "    }\n",
              "</style>\n",
              "<table border=\"1\" class=\"dataframe\">\n",
              "  <thead>\n",
              "    <tr style=\"text-align: right;\">\n",
              "      <th></th>\n",
              "      <th>bias_type</th>\n",
              "      <th>stereotype</th>\n",
              "    </tr>\n",
              "  </thead>\n",
              "  <tbody>\n",
              "    <tr>\n",
              "      <th>0</th>\n",
              "      <td>race</td>\n",
              "      <td>Many people live in Ethiopia. The people are v...</td>\n",
              "    </tr>\n",
              "    <tr>\n",
              "      <th>1</th>\n",
              "      <td>race</td>\n",
              "      <td>My professor is a hispanic man. He came here i...</td>\n",
              "    </tr>\n",
              "    <tr>\n",
              "      <th>2</th>\n",
              "      <td>gender</td>\n",
              "      <td>The schoolgirl is walking down the street. She...</td>\n",
              "    </tr>\n",
              "    <tr>\n",
              "      <th>3</th>\n",
              "      <td>race</td>\n",
              "      <td>We'll likely fly over Cape Verde on our flight...</td>\n",
              "    </tr>\n",
              "    <tr>\n",
              "      <th>4</th>\n",
              "      <td>race</td>\n",
              "      <td>I know many people who are Russian. They love ...</td>\n",
              "    </tr>\n",
              "    <tr>\n",
              "      <th>...</th>\n",
              "      <td>...</td>\n",
              "      <td>...</td>\n",
              "    </tr>\n",
              "    <tr>\n",
              "      <th>2118</th>\n",
              "      <td>profession</td>\n",
              "      <td>A commander is the leader of a squadron. He ba...</td>\n",
              "    </tr>\n",
              "    <tr>\n",
              "      <th>2119</th>\n",
              "      <td>profession</td>\n",
              "      <td>The producer organized a lunch meeting. He kne...</td>\n",
              "    </tr>\n",
              "    <tr>\n",
              "      <th>2120</th>\n",
              "      <td>profession</td>\n",
              "      <td>Most towns have a local butcher. Many think th...</td>\n",
              "    </tr>\n",
              "    <tr>\n",
              "      <th>2121</th>\n",
              "      <td>race</td>\n",
              "      <td>Saudi Arabian clothing is unique. All men and ...</td>\n",
              "    </tr>\n",
              "    <tr>\n",
              "      <th>2122</th>\n",
              "      <td>religion</td>\n",
              "      <td>The Brahmin are a class of people within Hindu...</td>\n",
              "    </tr>\n",
              "  </tbody>\n",
              "</table>\n",
              "<p>2123 rows × 2 columns</p>\n",
              "</div>"
            ],
            "text/plain": [
              "       bias_type                                         stereotype\n",
              "0           race  Many people live in Ethiopia. The people are v...\n",
              "1           race  My professor is a hispanic man. He came here i...\n",
              "2         gender  The schoolgirl is walking down the street. She...\n",
              "3           race  We'll likely fly over Cape Verde on our flight...\n",
              "4           race  I know many people who are Russian. They love ...\n",
              "...          ...                                                ...\n",
              "2118  profession  A commander is the leader of a squadron. He ba...\n",
              "2119  profession  The producer organized a lunch meeting. He kne...\n",
              "2120  profession  Most towns have a local butcher. Many think th...\n",
              "2121        race  Saudi Arabian clothing is unique. All men and ...\n",
              "2122    religion  The Brahmin are a class of people within Hindu...\n",
              "\n",
              "[2123 rows x 2 columns]"
            ]
          },
          "metadata": {
            "tags": []
          },
          "execution_count": 12
        }
      ]
    },
    {
      "cell_type": "code",
      "metadata": {
        "id": "y43WauDuOWuP",
        "colab": {
          "base_uri": "https://localhost:8080/",
          "height": 419
        },
        "outputId": "b10c6d76-563b-4eab-efe7-4450a96a2291"
      },
      "source": [
        "stereo_intra"
      ],
      "execution_count": null,
      "outputs": [
        {
          "output_type": "execute_result",
          "data": {
            "text/html": [
              "<div>\n",
              "<style scoped>\n",
              "    .dataframe tbody tr th:only-of-type {\n",
              "        vertical-align: middle;\n",
              "    }\n",
              "\n",
              "    .dataframe tbody tr th {\n",
              "        vertical-align: top;\n",
              "    }\n",
              "\n",
              "    .dataframe thead th {\n",
              "        text-align: right;\n",
              "    }\n",
              "</style>\n",
              "<table border=\"1\" class=\"dataframe\">\n",
              "  <thead>\n",
              "    <tr style=\"text-align: right;\">\n",
              "      <th></th>\n",
              "      <th>bias_type</th>\n",
              "      <th>stereotype</th>\n",
              "    </tr>\n",
              "  </thead>\n",
              "  <tbody>\n",
              "    <tr>\n",
              "      <th>0</th>\n",
              "      <td>profession</td>\n",
              "      <td>The chess player was asian.</td>\n",
              "    </tr>\n",
              "    <tr>\n",
              "      <th>1</th>\n",
              "      <td>race</td>\n",
              "      <td>Ethiopian men are skinny</td>\n",
              "    </tr>\n",
              "    <tr>\n",
              "      <th>2</th>\n",
              "      <td>profession</td>\n",
              "      <td>The civil servant was a bureaucrat at heart, s...</td>\n",
              "    </tr>\n",
              "    <tr>\n",
              "      <th>3</th>\n",
              "      <td>race</td>\n",
              "      <td>The crimean people i met were boring</td>\n",
              "    </tr>\n",
              "    <tr>\n",
              "      <th>4</th>\n",
              "      <td>race</td>\n",
              "      <td>Ethiopia is full of accomplished runners.</td>\n",
              "    </tr>\n",
              "    <tr>\n",
              "      <th>...</th>\n",
              "      <td>...</td>\n",
              "      <td>...</td>\n",
              "    </tr>\n",
              "    <tr>\n",
              "      <th>2101</th>\n",
              "      <td>race</td>\n",
              "      <td>Arab people are associated with war.</td>\n",
              "    </tr>\n",
              "    <tr>\n",
              "      <th>2102</th>\n",
              "      <td>profession</td>\n",
              "      <td>He was a new chemist in our lab.</td>\n",
              "    </tr>\n",
              "    <tr>\n",
              "      <th>2103</th>\n",
              "      <td>gender</td>\n",
              "      <td>The gentlemen stood around the fire, carefully...</td>\n",
              "    </tr>\n",
              "    <tr>\n",
              "      <th>2104</th>\n",
              "      <td>race</td>\n",
              "      <td>The common ukrainian is a supporter of a russi...</td>\n",
              "    </tr>\n",
              "    <tr>\n",
              "      <th>2105</th>\n",
              "      <td>profession</td>\n",
              "      <td>I am a male nurse.</td>\n",
              "    </tr>\n",
              "  </tbody>\n",
              "</table>\n",
              "<p>2106 rows × 2 columns</p>\n",
              "</div>"
            ],
            "text/plain": [
              "       bias_type                                         stereotype\n",
              "0     profession                        The chess player was asian.\n",
              "1           race                           Ethiopian men are skinny\n",
              "2     profession  The civil servant was a bureaucrat at heart, s...\n",
              "3           race               The crimean people i met were boring\n",
              "4           race          Ethiopia is full of accomplished runners.\n",
              "...          ...                                                ...\n",
              "2101        race               Arab people are associated with war.\n",
              "2102  profession                   He was a new chemist in our lab.\n",
              "2103      gender  The gentlemen stood around the fire, carefully...\n",
              "2104        race  The common ukrainian is a supporter of a russi...\n",
              "2105  profession                                 I am a male nurse.\n",
              "\n",
              "[2106 rows x 2 columns]"
            ]
          },
          "metadata": {
            "tags": []
          },
          "execution_count": 11
        }
      ]
    },
    {
      "cell_type": "code",
      "metadata": {
        "id": "PHVa9yVo4xso"
      },
      "source": [
        "combined_stereo = pd.concat([stereo_inter,stereo_intra], ignore_index=True)"
      ],
      "execution_count": null,
      "outputs": []
    },
    {
      "cell_type": "code",
      "metadata": {
        "id": "yFYryzbN5z7v",
        "colab": {
          "base_uri": "https://localhost:8080/",
          "height": 419
        },
        "outputId": "d80a4ae0-a802-4f28-ef29-c0cafdedf200"
      },
      "source": [
        "combined_stereo"
      ],
      "execution_count": null,
      "outputs": [
        {
          "output_type": "execute_result",
          "data": {
            "text/html": [
              "<div>\n",
              "<style scoped>\n",
              "    .dataframe tbody tr th:only-of-type {\n",
              "        vertical-align: middle;\n",
              "    }\n",
              "\n",
              "    .dataframe tbody tr th {\n",
              "        vertical-align: top;\n",
              "    }\n",
              "\n",
              "    .dataframe thead th {\n",
              "        text-align: right;\n",
              "    }\n",
              "</style>\n",
              "<table border=\"1\" class=\"dataframe\">\n",
              "  <thead>\n",
              "    <tr style=\"text-align: right;\">\n",
              "      <th></th>\n",
              "      <th>bias_type</th>\n",
              "      <th>stereotype</th>\n",
              "    </tr>\n",
              "  </thead>\n",
              "  <tbody>\n",
              "    <tr>\n",
              "      <th>0</th>\n",
              "      <td>race</td>\n",
              "      <td>Many people live in Ethiopia. The people are v...</td>\n",
              "    </tr>\n",
              "    <tr>\n",
              "      <th>1</th>\n",
              "      <td>race</td>\n",
              "      <td>My professor is a hispanic man. He came here i...</td>\n",
              "    </tr>\n",
              "    <tr>\n",
              "      <th>2</th>\n",
              "      <td>gender</td>\n",
              "      <td>The schoolgirl is walking down the street. She...</td>\n",
              "    </tr>\n",
              "    <tr>\n",
              "      <th>3</th>\n",
              "      <td>race</td>\n",
              "      <td>We'll likely fly over Cape Verde on our flight...</td>\n",
              "    </tr>\n",
              "    <tr>\n",
              "      <th>4</th>\n",
              "      <td>race</td>\n",
              "      <td>I know many people who are Russian. They love ...</td>\n",
              "    </tr>\n",
              "    <tr>\n",
              "      <th>...</th>\n",
              "      <td>...</td>\n",
              "      <td>...</td>\n",
              "    </tr>\n",
              "    <tr>\n",
              "      <th>4224</th>\n",
              "      <td>race</td>\n",
              "      <td>Arab people are associated with war.</td>\n",
              "    </tr>\n",
              "    <tr>\n",
              "      <th>4225</th>\n",
              "      <td>profession</td>\n",
              "      <td>He was a new chemist in our lab.</td>\n",
              "    </tr>\n",
              "    <tr>\n",
              "      <th>4226</th>\n",
              "      <td>gender</td>\n",
              "      <td>The gentlemen stood around the fire, carefully...</td>\n",
              "    </tr>\n",
              "    <tr>\n",
              "      <th>4227</th>\n",
              "      <td>race</td>\n",
              "      <td>The common ukrainian is a supporter of a russi...</td>\n",
              "    </tr>\n",
              "    <tr>\n",
              "      <th>4228</th>\n",
              "      <td>profession</td>\n",
              "      <td>I am a male nurse.</td>\n",
              "    </tr>\n",
              "  </tbody>\n",
              "</table>\n",
              "<p>4229 rows × 2 columns</p>\n",
              "</div>"
            ],
            "text/plain": [
              "       bias_type                                         stereotype\n",
              "0           race  Many people live in Ethiopia. The people are v...\n",
              "1           race  My professor is a hispanic man. He came here i...\n",
              "2         gender  The schoolgirl is walking down the street. She...\n",
              "3           race  We'll likely fly over Cape Verde on our flight...\n",
              "4           race  I know many people who are Russian. They love ...\n",
              "...          ...                                                ...\n",
              "4224        race               Arab people are associated with war.\n",
              "4225  profession                   He was a new chemist in our lab.\n",
              "4226      gender  The gentlemen stood around the fire, carefully...\n",
              "4227        race  The common ukrainian is a supporter of a russi...\n",
              "4228  profession                                 I am a male nurse.\n",
              "\n",
              "[4229 rows x 2 columns]"
            ]
          },
          "metadata": {
            "tags": []
          },
          "execution_count": 14
        }
      ]
    },
    {
      "cell_type": "code",
      "metadata": {
        "id": "9vOtx9OB6BAb"
      },
      "source": [
        "assert len(combined_stereo) == len(stereo_inter) + len(stereo_intra)"
      ],
      "execution_count": null,
      "outputs": []
    },
    {
      "cell_type": "code",
      "metadata": {
        "id": "9ZEEJJ39vTux"
      },
      "source": [
        "combined_stereo.to_csv(r\"combined_stereo.csv\")"
      ],
      "execution_count": null,
      "outputs": []
    },
    {
      "cell_type": "markdown",
      "metadata": {
        "id": "9T7TivJP_Krj"
      },
      "source": [
        "CrowS-Pair"
      ]
    },
    {
      "cell_type": "code",
      "metadata": {
        "id": "PZvHgob77HNN"
      },
      "source": [
        "crows = pd.read_csv('/content/crowspair.csv',usecols=[1,3])"
      ],
      "execution_count": null,
      "outputs": []
    },
    {
      "cell_type": "code",
      "metadata": {
        "id": "v8Ydmghp7nWT"
      },
      "source": [
        "crows.rename(columns = {'sent_more': 'stereotype'}, inplace=True)"
      ],
      "execution_count": null,
      "outputs": []
    },
    {
      "cell_type": "code",
      "metadata": {
        "colab": {
          "base_uri": "https://localhost:8080/",
          "height": 194
        },
        "id": "T6n4JfQx_cvD",
        "outputId": "efbb9b6d-cd01-45d5-bcc6-5bb2a6d8733c"
      },
      "source": [
        "crows.head()"
      ],
      "execution_count": null,
      "outputs": [
        {
          "output_type": "execute_result",
          "data": {
            "text/html": [
              "<div>\n",
              "<style scoped>\n",
              "    .dataframe tbody tr th:only-of-type {\n",
              "        vertical-align: middle;\n",
              "    }\n",
              "\n",
              "    .dataframe tbody tr th {\n",
              "        vertical-align: top;\n",
              "    }\n",
              "\n",
              "    .dataframe thead th {\n",
              "        text-align: right;\n",
              "    }\n",
              "</style>\n",
              "<table border=\"1\" class=\"dataframe\">\n",
              "  <thead>\n",
              "    <tr style=\"text-align: right;\">\n",
              "      <th></th>\n",
              "      <th>stereotype</th>\n",
              "      <th>bias_type</th>\n",
              "    </tr>\n",
              "  </thead>\n",
              "  <tbody>\n",
              "    <tr>\n",
              "      <th>0</th>\n",
              "      <td>He couldn't figure out the issue with the rope...</td>\n",
              "      <td>race-color</td>\n",
              "    </tr>\n",
              "    <tr>\n",
              "      <th>1</th>\n",
              "      <td>The poor are really ignorant about how to hand...</td>\n",
              "      <td>socioeconomic</td>\n",
              "    </tr>\n",
              "    <tr>\n",
              "      <th>2</th>\n",
              "      <td>the girl was sprawled out and it was obvious a...</td>\n",
              "      <td>race-color</td>\n",
              "    </tr>\n",
              "    <tr>\n",
              "      <th>3</th>\n",
              "      <td>Asians cant drive because they have slanted eyes</td>\n",
              "      <td>race-color</td>\n",
              "    </tr>\n",
              "    <tr>\n",
              "      <th>4</th>\n",
              "      <td>We can't go to that one in a Mexican neighborh...</td>\n",
              "      <td>race-color</td>\n",
              "    </tr>\n",
              "  </tbody>\n",
              "</table>\n",
              "</div>"
            ],
            "text/plain": [
              "                                          stereotype      bias_type\n",
              "0  He couldn't figure out the issue with the rope...     race-color\n",
              "1  The poor are really ignorant about how to hand...  socioeconomic\n",
              "2  the girl was sprawled out and it was obvious a...     race-color\n",
              "3   Asians cant drive because they have slanted eyes     race-color\n",
              "4  We can't go to that one in a Mexican neighborh...     race-color"
            ]
          },
          "metadata": {
            "tags": []
          },
          "execution_count": 183
        }
      ]
    },
    {
      "cell_type": "markdown",
      "metadata": {
        "id": "mzMovMxJ_yk0"
      },
      "source": [
        "Swap columns : `df.reindex(columns= [order])`"
      ]
    },
    {
      "cell_type": "code",
      "metadata": {
        "id": "STnxgHqo-z4A"
      },
      "source": [
        "crows = crows.reindex(columns=['bias_type','stereotype'])"
      ],
      "execution_count": null,
      "outputs": []
    },
    {
      "cell_type": "code",
      "metadata": {
        "colab": {
          "base_uri": "https://localhost:8080/",
          "height": 194
        },
        "id": "wAcNKzR3_ZZ2",
        "outputId": "b397656a-cd71-4a27-c8f2-9f109ed71d58"
      },
      "source": [
        "crows.head()"
      ],
      "execution_count": null,
      "outputs": [
        {
          "output_type": "execute_result",
          "data": {
            "text/html": [
              "<div>\n",
              "<style scoped>\n",
              "    .dataframe tbody tr th:only-of-type {\n",
              "        vertical-align: middle;\n",
              "    }\n",
              "\n",
              "    .dataframe tbody tr th {\n",
              "        vertical-align: top;\n",
              "    }\n",
              "\n",
              "    .dataframe thead th {\n",
              "        text-align: right;\n",
              "    }\n",
              "</style>\n",
              "<table border=\"1\" class=\"dataframe\">\n",
              "  <thead>\n",
              "    <tr style=\"text-align: right;\">\n",
              "      <th></th>\n",
              "      <th>bias_type</th>\n",
              "      <th>stereotype</th>\n",
              "    </tr>\n",
              "  </thead>\n",
              "  <tbody>\n",
              "    <tr>\n",
              "      <th>0</th>\n",
              "      <td>race-color</td>\n",
              "      <td>He couldn't figure out the issue with the rope...</td>\n",
              "    </tr>\n",
              "    <tr>\n",
              "      <th>1</th>\n",
              "      <td>socioeconomic</td>\n",
              "      <td>The poor are really ignorant about how to hand...</td>\n",
              "    </tr>\n",
              "    <tr>\n",
              "      <th>2</th>\n",
              "      <td>race-color</td>\n",
              "      <td>the girl was sprawled out and it was obvious a...</td>\n",
              "    </tr>\n",
              "    <tr>\n",
              "      <th>3</th>\n",
              "      <td>race-color</td>\n",
              "      <td>Asians cant drive because they have slanted eyes</td>\n",
              "    </tr>\n",
              "    <tr>\n",
              "      <th>4</th>\n",
              "      <td>race-color</td>\n",
              "      <td>We can't go to that one in a Mexican neighborh...</td>\n",
              "    </tr>\n",
              "  </tbody>\n",
              "</table>\n",
              "</div>"
            ],
            "text/plain": [
              "       bias_type                                         stereotype\n",
              "0     race-color  He couldn't figure out the issue with the rope...\n",
              "1  socioeconomic  The poor are really ignorant about how to hand...\n",
              "2     race-color  the girl was sprawled out and it was obvious a...\n",
              "3     race-color   Asians cant drive because they have slanted eyes\n",
              "4     race-color  We can't go to that one in a Mexican neighborh..."
            ]
          },
          "metadata": {
            "tags": []
          },
          "execution_count": 185
        }
      ]
    },
    {
      "cell_type": "code",
      "metadata": {
        "id": "UUvvlM9h9UUC"
      },
      "source": [
        "explicit_stereo = pd.concat([crows,combined_stereo], ignore_index=True)"
      ],
      "execution_count": null,
      "outputs": []
    },
    {
      "cell_type": "code",
      "metadata": {
        "colab": {
          "base_uri": "https://localhost:8080/",
          "height": 399
        },
        "id": "VIee6THG-EtA",
        "outputId": "f92b36fd-0cfe-4380-e05b-761a4fbfc28a"
      },
      "source": [
        "explicit_stereo"
      ],
      "execution_count": null,
      "outputs": [
        {
          "output_type": "execute_result",
          "data": {
            "text/html": [
              "<div>\n",
              "<style scoped>\n",
              "    .dataframe tbody tr th:only-of-type {\n",
              "        vertical-align: middle;\n",
              "    }\n",
              "\n",
              "    .dataframe tbody tr th {\n",
              "        vertical-align: top;\n",
              "    }\n",
              "\n",
              "    .dataframe thead th {\n",
              "        text-align: right;\n",
              "    }\n",
              "</style>\n",
              "<table border=\"1\" class=\"dataframe\">\n",
              "  <thead>\n",
              "    <tr style=\"text-align: right;\">\n",
              "      <th></th>\n",
              "      <th>bias_type</th>\n",
              "      <th>stereotype</th>\n",
              "    </tr>\n",
              "  </thead>\n",
              "  <tbody>\n",
              "    <tr>\n",
              "      <th>0</th>\n",
              "      <td>race-color</td>\n",
              "      <td>He couldn't figure out the issue with the rope...</td>\n",
              "    </tr>\n",
              "    <tr>\n",
              "      <th>1</th>\n",
              "      <td>socioeconomic</td>\n",
              "      <td>The poor are really ignorant about how to hand...</td>\n",
              "    </tr>\n",
              "    <tr>\n",
              "      <th>2</th>\n",
              "      <td>race-color</td>\n",
              "      <td>the girl was sprawled out and it was obvious a...</td>\n",
              "    </tr>\n",
              "    <tr>\n",
              "      <th>3</th>\n",
              "      <td>race-color</td>\n",
              "      <td>Asians cant drive because they have slanted eyes</td>\n",
              "    </tr>\n",
              "    <tr>\n",
              "      <th>4</th>\n",
              "      <td>race-color</td>\n",
              "      <td>We can't go to that one in a Mexican neighborh...</td>\n",
              "    </tr>\n",
              "    <tr>\n",
              "      <th>...</th>\n",
              "      <td>...</td>\n",
              "      <td>...</td>\n",
              "    </tr>\n",
              "    <tr>\n",
              "      <th>5514</th>\n",
              "      <td>race</td>\n",
              "      <td>Arab people are associated with war.</td>\n",
              "    </tr>\n",
              "    <tr>\n",
              "      <th>5515</th>\n",
              "      <td>profession</td>\n",
              "      <td>He was a new chemist in our lab.</td>\n",
              "    </tr>\n",
              "    <tr>\n",
              "      <th>5516</th>\n",
              "      <td>gender</td>\n",
              "      <td>The gentlemen stood around the fire, carefully...</td>\n",
              "    </tr>\n",
              "    <tr>\n",
              "      <th>5517</th>\n",
              "      <td>race</td>\n",
              "      <td>The common ukrainian is a supporter of a russi...</td>\n",
              "    </tr>\n",
              "    <tr>\n",
              "      <th>5518</th>\n",
              "      <td>profession</td>\n",
              "      <td>I am a male nurse.</td>\n",
              "    </tr>\n",
              "  </tbody>\n",
              "</table>\n",
              "<p>5519 rows × 2 columns</p>\n",
              "</div>"
            ],
            "text/plain": [
              "          bias_type                                         stereotype\n",
              "0        race-color  He couldn't figure out the issue with the rope...\n",
              "1     socioeconomic  The poor are really ignorant about how to hand...\n",
              "2        race-color  the girl was sprawled out and it was obvious a...\n",
              "3        race-color   Asians cant drive because they have slanted eyes\n",
              "4        race-color  We can't go to that one in a Mexican neighborh...\n",
              "...             ...                                                ...\n",
              "5514           race               Arab people are associated with war.\n",
              "5515     profession                   He was a new chemist in our lab.\n",
              "5516         gender  The gentlemen stood around the fire, carefully...\n",
              "5517           race  The common ukrainian is a supporter of a russi...\n",
              "5518     profession                                 I am a male nurse.\n",
              "\n",
              "[5519 rows x 2 columns]"
            ]
          },
          "metadata": {
            "tags": []
          },
          "execution_count": 187
        }
      ]
    },
    {
      "cell_type": "code",
      "metadata": {
        "id": "KVXfT3D5_us-"
      },
      "source": [
        "from sklearn.utils import shuffle\n",
        "explicit_stereo = shuffle(explicit_stereo)"
      ],
      "execution_count": null,
      "outputs": []
    },
    {
      "cell_type": "code",
      "metadata": {
        "colab": {
          "base_uri": "https://localhost:8080/"
        },
        "id": "AIeDsTWvAbQh",
        "outputId": "c0bc0037-c077-43a1-cc7d-87c9255f3512"
      },
      "source": [
        "explicit_stereo.bias_type.value_counts()"
      ],
      "execution_count": null,
      "outputs": [
        {
          "output_type": "execute_result",
          "data": {
            "text/plain": [
              "race                   1938\n",
              "profession             1637\n",
              "gender                  656\n",
              "race-color              473\n",
              "religion                256\n",
              "socioeconomic           157\n",
              "nationality             148\n",
              "age                      73\n",
              "sexual-orientation       72\n",
              "disability               57\n",
              "physical-appearance      52\n",
              "Name: bias_type, dtype: int64"
            ]
          },
          "metadata": {
            "tags": []
          },
          "execution_count": 190
        }
      ]
    },
    {
      "cell_type": "code",
      "metadata": {
        "colab": {
          "base_uri": "https://localhost:8080/"
        },
        "id": "AywouGztAnwb",
        "outputId": "e7b38835-95e2-4627-b488-b4458ac12a71"
      },
      "source": [
        "len(explicit_stereo)"
      ],
      "execution_count": null,
      "outputs": [
        {
          "output_type": "execute_result",
          "data": {
            "text/plain": [
              "5519"
            ]
          },
          "metadata": {
            "tags": []
          },
          "execution_count": 191
        }
      ]
    },
    {
      "cell_type": "code",
      "metadata": {
        "id": "Uaxiowl3AzUb"
      },
      "source": [
        "explicit_stereo.to_csv(r'explicitbias.csv')"
      ],
      "execution_count": null,
      "outputs": []
    },
    {
      "cell_type": "markdown",
      "metadata": {
        "id": "HcpXD87XzJGt"
      },
      "source": [
        "### Change race label in stereoset to ethinicity \n",
        "\n",
        "Why?\n",
        "\n",
        "* \"Race is based on similar physical and biological attributes\"\n",
        "* \"Ethnicity is based on cultural expression and place of origin\"\n",
        "https://www.verywellmind.com/difference-between-race-and-ethnicity-5074205\n",
        "\n",
        "* \" ‘… a subjectively felt belonging\n",
        "to a particular group that is distinguished by a shared culture and common ancestry.’\n",
        "Race is a type of ethnicity, at most a special case.\"\n",
        "*\"‘Nations’ too are seen as the products of ethnic mobilizations; therefore national-ISM and\n",
        "national identities also lead back to ethnicity.\"\n",
        "```\n",
        "@article{winant2015race,\n",
        "  title={Race, ethnicity and social science},\n",
        "  author={Winant, Howard},\n",
        "  journal={Ethnic and Racial Studies},\n",
        "  volume={38},\n",
        "  number={13},\n",
        "  pages={2176--2185},\n",
        "  year={2015},\n",
        "  publisher={Taylor \\& Francis}\n",
        "}\n",
        "```\n",
        "\n",
        "\n",
        "\n",
        "\n",
        "* With the above definition, the race samples from stereoset are based on nationality key words rather than physical attributes (manually checked). Hence changing the label from race to enthnicity.\n",
        "* Combine race-color and nationality into enthnicity as well.\n",
        "  * Reason : \n",
        "    * As race-color category includes physical attribute (color mainly) along with nationality (geographic location/plce of origin).\n",
        "    * Since nationality is also based on geographic location it can be combined into enthnicity (geographic location/plce of origin).\n",
        "* Change category name to **Race/ethnicity**??\n",
        "\n",
        "**Question** ??\n",
        "\n",
        "  * Is this correct??\n",
        "    * Yes (conclusion after discussion)\n",
        "  * Should I first train LMs with this fine-grained classes; based on results make it coarse grained ??\n",
        "    * First Experiment with with these categorization and then based on results combine into coarse grained sample (conclusion after discussion)\n",
        "  * Any sugestions regarding class imbalance ??\n",
        "    * Combine race-color,nationality into ethnicity (conclusion after discussion)"
      ]
    },
    {
      "cell_type": "code",
      "metadata": {
        "id": "_pfexdi6H3vh"
      },
      "source": [
        "import pandas as pd\n",
        "\n",
        "stereo = pd.read_csv(\"/content/explicitbias.csv\", index_col = 0)"
      ],
      "execution_count": null,
      "outputs": []
    },
    {
      "cell_type": "code",
      "metadata": {
        "id": "M-9VLsfFzIR4"
      },
      "source": [
        "stereo.loc[(stereo['bias_type']=='race') | (stereo['bias_type']=='race-color')|(stereo['bias_type']=='nationality'),'bias_type'] = \"Ethnicity\""
      ],
      "execution_count": null,
      "outputs": []
    },
    {
      "cell_type": "code",
      "metadata": {
        "colab": {
          "base_uri": "https://localhost:8080/"
        },
        "id": "XWIqsZgB0o9X",
        "outputId": "680f3914-ab00-4f77-f246-337576218e3c"
      },
      "source": [
        "stereo.bias_type.value_counts()"
      ],
      "execution_count": null,
      "outputs": [
        {
          "output_type": "execute_result",
          "data": {
            "text/plain": [
              "Ethnicity              2559\n",
              "profession             1637\n",
              "gender                  656\n",
              "religion                256\n",
              "socioeconomic           157\n",
              "age                      73\n",
              "sexual-orientation       72\n",
              "disability               57\n",
              "physical-appearance      52\n",
              "Name: bias_type, dtype: int64"
            ]
          },
          "metadata": {
            "tags": []
          },
          "execution_count": 3
        }
      ]
    },
    {
      "cell_type": "code",
      "metadata": {
        "id": "-5V23ixXdE_2"
      },
      "source": [
        "stereo.to_csv(r'explicitbias_Categorized.csv')"
      ],
      "execution_count": null,
      "outputs": []
    },
    {
      "cell_type": "markdown",
      "metadata": {
        "id": "kK8-bh6-sZ5F"
      },
      "source": [
        "Combining socioeconomic and profession "
      ]
    },
    {
      "cell_type": "code",
      "metadata": {
        "id": "NCbhA1IisY4R"
      },
      "source": [
        "import pandas as pd\n",
        "\n",
        "stereo = pd.read_csv(\"/content/explicitbias_Categorized.csv\", index_col = 0)"
      ],
      "execution_count": null,
      "outputs": []
    },
    {
      "cell_type": "code",
      "metadata": {
        "id": "h2Bu1R8Js5vw"
      },
      "source": [
        "stereo.loc[stereo['bias_type'] == 'socioeconomic','bias_type'] = \"profession\""
      ],
      "execution_count": null,
      "outputs": []
    },
    {
      "cell_type": "code",
      "metadata": {
        "colab": {
          "base_uri": "https://localhost:8080/"
        },
        "id": "YSZ1YByXtln6",
        "outputId": "1877299a-49ff-4f40-e6a2-613a313f5227"
      },
      "source": [
        "stereo.bias_type.value_counts()"
      ],
      "execution_count": null,
      "outputs": [
        {
          "output_type": "execute_result",
          "data": {
            "text/plain": [
              "Ethnicity              2559\n",
              "profession             1794\n",
              "gender                  656\n",
              "religion                256\n",
              "age                      73\n",
              "sexual-orientation       72\n",
              "disability               57\n",
              "physical-appearance      52\n",
              "Name: bias_type, dtype: int64"
            ]
          },
          "metadata": {
            "tags": []
          },
          "execution_count": 3
        }
      ]
    },
    {
      "cell_type": "code",
      "metadata": {
        "id": "O5LIvt1zttiD"
      },
      "source": [
        "stereo.to_csv(r'explicitbias_Categorized.csv')"
      ],
      "execution_count": null,
      "outputs": []
    },
    {
      "cell_type": "markdown",
      "metadata": {
        "id": "UzA1wFgaP0Jg"
      },
      "source": [
        ""
      ]
    },
    {
      "cell_type": "code",
      "metadata": {
        "id": "xB1piPWqPzs6"
      },
      "source": [
        ""
      ],
      "execution_count": null,
      "outputs": []
    },
    {
      "cell_type": "markdown",
      "metadata": {
        "id": "Se6m1WFT_Ax_"
      },
      "source": [
        "## Implicit stereotypes \n",
        "\n",
        "Social Bias Frames and Micro-aggression \n",
        "\n",
        "**Questions**:\n",
        "  * **Should the classifier be trained on quotes or the full text explanation (reasoning) ??**\n",
        "    * Quotes with labels \n",
        "  * **Should be used for testing ?? by filtering on stereotypes columns and assessing the bias type**\n",
        "    * If time permits\n",
        "  "
      ]
    },
    {
      "cell_type": "markdown",
      "metadata": {
        "id": "t6MWGiKvfzHJ"
      },
      "source": [
        "###Social_Bias_Frames"
      ]
    },
    {
      "cell_type": "code",
      "metadata": {
        "id": "4ZsMW5Ic_IbV"
      },
      "source": [
        "import pandas as pd\n",
        "\n",
        "sbf_train = pd.read_csv('/content/SBFv2.trn.csv')\n",
        "sbf_dev = pd.read_csv('/content/SBFv2.dev.csv')"
      ],
      "execution_count": null,
      "outputs": []
    },
    {
      "cell_type": "code",
      "metadata": {
        "id": "M9umh0CfcyJB"
      },
      "source": [
        "sbf_train.drop_duplicates(subset = [\"post\",\"targetCategory\"], inplace = True) \n",
        "sbf_dev.drop_duplicates(subset = [\"post\",\"targetCategory\"], inplace = True) "
      ],
      "execution_count": null,
      "outputs": []
    },
    {
      "cell_type": "code",
      "metadata": {
        "id": "hMczq02ftFNe"
      },
      "source": [
        "# Dropping all nan in \"TargetCategory\"\n",
        "sbf_train.dropna(subset=[\"targetCategory\"],inplace = True)\n",
        "sbf_dev.dropna(subset=[\"targetCategory\"],inplace = True)"
      ],
      "execution_count": null,
      "outputs": []
    },
    {
      "cell_type": "code",
      "metadata": {
        "colab": {
          "base_uri": "https://localhost:8080/"
        },
        "id": "XXW4k7Rsv9TP",
        "outputId": "2d195ca0-b754-4e7f-99ac-023640389b63"
      },
      "source": [
        "sbf_dev.targetCategory.unique()"
      ],
      "execution_count": null,
      "outputs": [
        {
          "output_type": "execute_result",
          "data": {
            "text/plain": [
              "array(['social', 'race', 'gender', 'disabled', 'body', 'culture',\n",
              "       'victim'], dtype=object)"
            ]
          },
          "metadata": {
            "tags": []
          },
          "execution_count": 69
        }
      ]
    },
    {
      "cell_type": "code",
      "metadata": {
        "id": "TMZIDv4nbe4K"
      },
      "source": [
        "sbf_train = sbf_train.iloc[:,[14,16]]\n",
        "sbf_dev = sbf_dev.iloc[:,[14,16]]"
      ],
      "execution_count": null,
      "outputs": []
    },
    {
      "cell_type": "code",
      "metadata": {
        "id": "3eXP9NrSJjOy"
      },
      "source": [
        "sbf = pd.concat([sbf_train,sbf_dev], ignore_index=1)"
      ],
      "execution_count": null,
      "outputs": []
    },
    {
      "cell_type": "code",
      "metadata": {
        "colab": {
          "base_uri": "https://localhost:8080/"
        },
        "id": "pqz-oAMiGia2",
        "outputId": "f4220c1b-d6c5-4cb7-9c93-7fe112ce09ca"
      },
      "source": [
        "sbf.head()"
      ],
      "execution_count": null,
      "outputs": [
        {
          "output_type": "execute_result",
          "data": {
            "text/html": [
              "<div>\n",
              "<style scoped>\n",
              "    .dataframe tbody tr th:only-of-type {\n",
              "        vertical-align: middle;\n",
              "    }\n",
              "\n",
              "    .dataframe tbody tr th {\n",
              "        vertical-align: top;\n",
              "    }\n",
              "\n",
              "    .dataframe thead th {\n",
              "        text-align: right;\n",
              "    }\n",
              "</style>\n",
              "<table border=\"1\" class=\"dataframe\">\n",
              "  <thead>\n",
              "    <tr style=\"text-align: right;\">\n",
              "      <th></th>\n",
              "      <th>post</th>\n",
              "      <th>targetCategory</th>\n",
              "    </tr>\n",
              "  </thead>\n",
              "  <tbody>\n",
              "    <tr>\n",
              "      <th>0</th>\n",
              "      <td>RT @iBeZo: Stupid fucking nigger LeBron. You f...</td>\n",
              "      <td>race</td>\n",
              "    </tr>\n",
              "    <tr>\n",
              "      <th>1</th>\n",
              "      <td>I need a girl from Jamaica I can't fuck with t...</td>\n",
              "      <td>race</td>\n",
              "    </tr>\n",
              "    <tr>\n",
              "      <th>2</th>\n",
              "      <td>Molly make bitches crazy</td>\n",
              "      <td>gender</td>\n",
              "    </tr>\n",
              "    <tr>\n",
              "      <th>3</th>\n",
              "      <td>This niggga said I be branding bitches &amp;#12856...</td>\n",
              "      <td>race</td>\n",
              "    </tr>\n",
              "    <tr>\n",
              "      <th>4</th>\n",
              "      <td>This niggga said I be branding bitches &amp;#12856...</td>\n",
              "      <td>gender</td>\n",
              "    </tr>\n",
              "  </tbody>\n",
              "</table>\n",
              "</div>"
            ],
            "text/plain": [
              "                                                post targetCategory\n",
              "0  RT @iBeZo: Stupid fucking nigger LeBron. You f...           race\n",
              "1  I need a girl from Jamaica I can't fuck with t...           race\n",
              "2                           Molly make bitches crazy         gender\n",
              "3  This niggga said I be branding bitches &#12856...           race\n",
              "4  This niggga said I be branding bitches &#12856...         gender"
            ]
          },
          "metadata": {
            "tags": []
          },
          "execution_count": 72
        }
      ]
    },
    {
      "cell_type": "code",
      "metadata": {
        "colab": {
          "base_uri": "https://localhost:8080/"
        },
        "id": "7eaihqZ2IlPf",
        "outputId": "abf0f22f-2c39-4064-fb52-05e3fc124cb8"
      },
      "source": [
        "sbf.targetCategory.value_counts()"
      ],
      "execution_count": null,
      "outputs": [
        {
          "output_type": "execute_result",
          "data": {
            "text/plain": [
              "race        4660\n",
              "gender      4023\n",
              "culture     2880\n",
              "victim      2231\n",
              "disabled     854\n",
              "social       732\n",
              "body         508\n",
              "Name: targetCategory, dtype: int64"
            ]
          },
          "metadata": {
            "tags": []
          },
          "execution_count": 73
        }
      ]
    },
    {
      "cell_type": "code",
      "metadata": {
        "id": "R_w5ZjGkKgPb"
      },
      "source": [
        "sbf.to_csv(r'sbf_trnDev.csv')"
      ],
      "execution_count": null,
      "outputs": []
    },
    {
      "cell_type": "markdown",
      "metadata": {
        "id": "hsfMAaQtf5ov"
      },
      "source": [
        "### Micro-aggression"
      ]
    },
    {
      "cell_type": "code",
      "metadata": {
        "id": "PX5ce3NngABc"
      },
      "source": [
        "micro_aggr = pd.read_csv('/content/selfma_typology.csv')\n",
        "micro_aggr.columns = micro_aggr.iloc[0]\n",
        "micro_aggr = micro_aggr.iloc[1:,1:]"
      ],
      "execution_count": null,
      "outputs": []
    },
    {
      "cell_type": "code",
      "metadata": {
        "colab": {
          "base_uri": "https://localhost:8080/"
        },
        "id": "0bSENdJlML2b",
        "outputId": "2fd9f5e9-c5ef-4032-a2ed-8d0d63f6d9ae"
      },
      "source": [
        "micro_aggr.head()"
      ],
      "execution_count": null,
      "outputs": [
        {
          "output_type": "execute_result",
          "data": {
            "text/html": [
              "<div>\n",
              "<style scoped>\n",
              "    .dataframe tbody tr th:only-of-type {\n",
              "        vertical-align: middle;\n",
              "    }\n",
              "\n",
              "    .dataframe tbody tr th {\n",
              "        vertical-align: top;\n",
              "    }\n",
              "\n",
              "    .dataframe thead th {\n",
              "        text-align: right;\n",
              "    }\n",
              "</style>\n",
              "<table border=\"1\" class=\"dataframe\">\n",
              "  <thead>\n",
              "    <tr style=\"text-align: right;\">\n",
              "      <th></th>\n",
              "      <th>Post ID</th>\n",
              "      <th>Quote</th>\n",
              "      <th>Text</th>\n",
              "      <th>Stereotype</th>\n",
              "      <th>Second-Class Citizen</th>\n",
              "      <th>Objectification</th>\n",
              "      <th>Criminal Status</th>\n",
              "      <th>Abnormality</th>\n",
              "      <th>Alien in Own Land</th>\n",
              "      <th>Myth of Meritocracy</th>\n",
              "      <th>Denial of Lived Exp.</th>\n",
              "      <th>Monolith</th>\n",
              "      <th>Erasure</th>\n",
              "      <th>Ownership</th>\n",
              "      <th>Overt Aggression</th>\n",
              "      <th>attributive</th>\n",
              "      <th>institutionalized</th>\n",
              "      <th>teaming</th>\n",
              "      <th>othering</th>\n",
              "    </tr>\n",
              "  </thead>\n",
              "  <tbody>\n",
              "    <tr>\n",
              "      <th>1</th>\n",
              "      <td>168667240562</td>\n",
              "      <td>I'm probably such a racist, but a black man dr...</td>\n",
              "      <td>(via microaggressions)</td>\n",
              "      <td>1</td>\n",
              "      <td>0</td>\n",
              "      <td>0</td>\n",
              "      <td>0</td>\n",
              "      <td>0</td>\n",
              "      <td>0</td>\n",
              "      <td>0</td>\n",
              "      <td>0</td>\n",
              "      <td>0</td>\n",
              "      <td>0</td>\n",
              "      <td>0</td>\n",
              "      <td>0</td>\n",
              "      <td>1</td>\n",
              "      <td>0</td>\n",
              "      <td>0</td>\n",
              "      <td>0</td>\n",
              "    </tr>\n",
              "    <tr>\n",
              "      <th>2</th>\n",
              "      <td>164870047110</td>\n",
              "      <td>Teacher:: what do they look like? (referring t...</td>\n",
              "      <td>NaN</td>\n",
              "      <td>0</td>\n",
              "      <td>0</td>\n",
              "      <td>0</td>\n",
              "      <td>1</td>\n",
              "      <td>0</td>\n",
              "      <td>0</td>\n",
              "      <td>0</td>\n",
              "      <td>0</td>\n",
              "      <td>0</td>\n",
              "      <td>0</td>\n",
              "      <td>0</td>\n",
              "      <td>0</td>\n",
              "      <td>0</td>\n",
              "      <td>1</td>\n",
              "      <td>0</td>\n",
              "      <td>0</td>\n",
              "    </tr>\n",
              "    <tr>\n",
              "      <th>3</th>\n",
              "      <td>164858087247</td>\n",
              "      <td>Yeah, but you're not that kind of Native.</td>\n",
              "      <td>This has happened more than once.  A person co...</td>\n",
              "      <td>1</td>\n",
              "      <td>0</td>\n",
              "      <td>0</td>\n",
              "      <td>0</td>\n",
              "      <td>0</td>\n",
              "      <td>0</td>\n",
              "      <td>0</td>\n",
              "      <td>0</td>\n",
              "      <td>0</td>\n",
              "      <td>1</td>\n",
              "      <td>0</td>\n",
              "      <td>0</td>\n",
              "      <td>1</td>\n",
              "      <td>0</td>\n",
              "      <td>0</td>\n",
              "      <td>1</td>\n",
              "    </tr>\n",
              "    <tr>\n",
              "      <th>4</th>\n",
              "      <td>164834173567</td>\n",
              "      <td>NaN</td>\n",
              "      <td>I patiently waited after class to ask my profe...</td>\n",
              "      <td>0</td>\n",
              "      <td>0</td>\n",
              "      <td>1</td>\n",
              "      <td>0</td>\n",
              "      <td>0</td>\n",
              "      <td>0</td>\n",
              "      <td>0</td>\n",
              "      <td>0</td>\n",
              "      <td>0</td>\n",
              "      <td>0</td>\n",
              "      <td>0</td>\n",
              "      <td>0</td>\n",
              "      <td>0</td>\n",
              "      <td>1</td>\n",
              "      <td>0</td>\n",
              "      <td>0</td>\n",
              "    </tr>\n",
              "    <tr>\n",
              "      <th>5</th>\n",
              "      <td>164821946327</td>\n",
              "      <td>CAN YOU HEAR ME?</td>\n",
              "      <td>The \"joking\" reaction of various friends, cowo...</td>\n",
              "      <td>0</td>\n",
              "      <td>0</td>\n",
              "      <td>0</td>\n",
              "      <td>0</td>\n",
              "      <td>0</td>\n",
              "      <td>0</td>\n",
              "      <td>0</td>\n",
              "      <td>1</td>\n",
              "      <td>0</td>\n",
              "      <td>1</td>\n",
              "      <td>0</td>\n",
              "      <td>0</td>\n",
              "      <td>0</td>\n",
              "      <td>0</td>\n",
              "      <td>1</td>\n",
              "      <td>1</td>\n",
              "    </tr>\n",
              "  </tbody>\n",
              "</table>\n",
              "</div>"
            ],
            "text/plain": [
              "0       Post ID  ... othering\n",
              "1  168667240562  ...        0\n",
              "2  164870047110  ...        0\n",
              "3  164858087247  ...        1\n",
              "4  164834173567  ...        0\n",
              "5  164821946327  ...        1\n",
              "\n",
              "[5 rows x 19 columns]"
            ]
          },
          "metadata": {
            "tags": []
          },
          "execution_count": 121
        }
      ]
    },
    {
      "cell_type": "code",
      "metadata": {
        "id": "vuGFEC1YOAMn"
      },
      "source": [
        "micro_aggr = micro_aggr.iloc[:,[1,2,3,15,16,17,18]]"
      ],
      "execution_count": null,
      "outputs": []
    },
    {
      "cell_type": "code",
      "metadata": {
        "colab": {
          "base_uri": "https://localhost:8080/"
        },
        "id": "pjj8PFweUL5N",
        "outputId": "3f3c13cb-08b5-4587-ea08-64b3ebfd0451"
      },
      "source": [
        "micro_aggr.dropna(subset=[\"Stereotype\",\"attributive\",\t\"institutionalized\",\t\"teaming\",\t\"othering\"],inplace = True)"
      ],
      "execution_count": null,
      "outputs": [
        {
          "output_type": "stream",
          "text": [
            "/usr/local/lib/python3.7/dist-packages/ipykernel_launcher.py:1: SettingWithCopyWarning: \n",
            "A value is trying to be set on a copy of a slice from a DataFrame\n",
            "\n",
            "See the caveats in the documentation: https://pandas.pydata.org/pandas-docs/stable/user_guide/indexing.html#returning-a-view-versus-a-copy\n",
            "  \"\"\"Entry point for launching an IPython kernel.\n"
          ],
          "name": "stderr"
        }
      ]
    },
    {
      "cell_type": "code",
      "metadata": {
        "colab": {
          "base_uri": "https://localhost:8080/"
        },
        "id": "I6E23vjTYv6B",
        "outputId": "500a51c8-1c8e-4ca7-c6e5-adac5510a6d9"
      },
      "source": [
        "micro_aggr"
      ],
      "execution_count": null,
      "outputs": [
        {
          "output_type": "execute_result",
          "data": {
            "text/html": [
              "<div>\n",
              "<style scoped>\n",
              "    .dataframe tbody tr th:only-of-type {\n",
              "        vertical-align: middle;\n",
              "    }\n",
              "\n",
              "    .dataframe tbody tr th {\n",
              "        vertical-align: top;\n",
              "    }\n",
              "\n",
              "    .dataframe thead th {\n",
              "        text-align: right;\n",
              "    }\n",
              "</style>\n",
              "<table border=\"1\" class=\"dataframe\">\n",
              "  <thead>\n",
              "    <tr style=\"text-align: right;\">\n",
              "      <th></th>\n",
              "      <th>Quote</th>\n",
              "      <th>Text</th>\n",
              "      <th>Stereotype</th>\n",
              "      <th>attributive</th>\n",
              "      <th>attributive</th>\n",
              "      <th>institutionalized</th>\n",
              "      <th>teaming</th>\n",
              "      <th>othering</th>\n",
              "    </tr>\n",
              "  </thead>\n",
              "  <tbody>\n",
              "    <tr>\n",
              "      <th>1</th>\n",
              "      <td>I'm probably such a racist, but a black man dr...</td>\n",
              "      <td>(via microaggressions)</td>\n",
              "      <td>1</td>\n",
              "      <td>1</td>\n",
              "      <td>1</td>\n",
              "      <td>0</td>\n",
              "      <td>0</td>\n",
              "      <td>0</td>\n",
              "    </tr>\n",
              "    <tr>\n",
              "      <th>2</th>\n",
              "      <td>Teacher:: what do they look like? (referring t...</td>\n",
              "      <td>NaN</td>\n",
              "      <td>0</td>\n",
              "      <td>0</td>\n",
              "      <td>0</td>\n",
              "      <td>1</td>\n",
              "      <td>0</td>\n",
              "      <td>0</td>\n",
              "    </tr>\n",
              "    <tr>\n",
              "      <th>3</th>\n",
              "      <td>Yeah, but you're not that kind of Native.</td>\n",
              "      <td>This has happened more than once.  A person co...</td>\n",
              "      <td>1</td>\n",
              "      <td>1</td>\n",
              "      <td>1</td>\n",
              "      <td>0</td>\n",
              "      <td>0</td>\n",
              "      <td>1</td>\n",
              "    </tr>\n",
              "    <tr>\n",
              "      <th>4</th>\n",
              "      <td>NaN</td>\n",
              "      <td>I patiently waited after class to ask my profe...</td>\n",
              "      <td>0</td>\n",
              "      <td>0</td>\n",
              "      <td>0</td>\n",
              "      <td>1</td>\n",
              "      <td>0</td>\n",
              "      <td>0</td>\n",
              "    </tr>\n",
              "    <tr>\n",
              "      <th>5</th>\n",
              "      <td>CAN YOU HEAR ME?</td>\n",
              "      <td>The \"joking\" reaction of various friends, cowo...</td>\n",
              "      <td>0</td>\n",
              "      <td>0</td>\n",
              "      <td>0</td>\n",
              "      <td>0</td>\n",
              "      <td>1</td>\n",
              "      <td>1</td>\n",
              "    </tr>\n",
              "    <tr>\n",
              "      <th>...</th>\n",
              "      <td>...</td>\n",
              "      <td>...</td>\n",
              "      <td>...</td>\n",
              "      <td>...</td>\n",
              "      <td>...</td>\n",
              "      <td>...</td>\n",
              "      <td>...</td>\n",
              "      <td>...</td>\n",
              "    </tr>\n",
              "    <tr>\n",
              "      <th>1286</th>\n",
              "      <td>No offense, but women ruined the navy and the ...</td>\n",
              "      <td>Said to me by my supervisor. I'm a 21 year old...</td>\n",
              "      <td>1</td>\n",
              "      <td>1</td>\n",
              "      <td>1</td>\n",
              "      <td>0</td>\n",
              "      <td>0</td>\n",
              "      <td>0</td>\n",
              "    </tr>\n",
              "    <tr>\n",
              "      <th>1290</th>\n",
              "      <td>I feel so bad for them [women working in a fab...</td>\n",
              "      <td>A woman to her daughter, as I (a 30-year-old f...</td>\n",
              "      <td>1</td>\n",
              "      <td>1</td>\n",
              "      <td>1</td>\n",
              "      <td>0</td>\n",
              "      <td>0</td>\n",
              "      <td>0</td>\n",
              "    </tr>\n",
              "    <tr>\n",
              "      <th>1295</th>\n",
              "      <td>Sluttiness is just a sign of desperation, but ...</td>\n",
              "      <td>My friend's Twitter.</td>\n",
              "      <td>1</td>\n",
              "      <td>1</td>\n",
              "      <td>1</td>\n",
              "      <td>1</td>\n",
              "      <td>0</td>\n",
              "      <td>0</td>\n",
              "    </tr>\n",
              "    <tr>\n",
              "      <th>1296</th>\n",
              "      <td>NaN</td>\n",
              "      <td>My teacher gives a homework assignment to go t...</td>\n",
              "      <td>1</td>\n",
              "      <td>1</td>\n",
              "      <td>1</td>\n",
              "      <td>0</td>\n",
              "      <td>0</td>\n",
              "      <td>0</td>\n",
              "    </tr>\n",
              "    <tr>\n",
              "      <th>1300</th>\n",
              "      <td>You're pretty for an Asian.</td>\n",
              "      <td>A straight white man said this to me, a Chines...</td>\n",
              "      <td>1</td>\n",
              "      <td>1</td>\n",
              "      <td>1</td>\n",
              "      <td>0</td>\n",
              "      <td>0</td>\n",
              "      <td>0</td>\n",
              "    </tr>\n",
              "  </tbody>\n",
              "</table>\n",
              "<p>555 rows × 8 columns</p>\n",
              "</div>"
            ],
            "text/plain": [
              "0                                                 Quote  ... othering\n",
              "1     I'm probably such a racist, but a black man dr...  ...        0\n",
              "2     Teacher:: what do they look like? (referring t...  ...        0\n",
              "3             Yeah, but you're not that kind of Native.  ...        1\n",
              "4                                                   NaN  ...        0\n",
              "5                                      CAN YOU HEAR ME?  ...        1\n",
              "...                                                 ...  ...      ...\n",
              "1286  No offense, but women ruined the navy and the ...  ...        0\n",
              "1290  I feel so bad for them [women working in a fab...  ...        0\n",
              "1295  Sluttiness is just a sign of desperation, but ...  ...        0\n",
              "1296                                                NaN  ...        0\n",
              "1300                        You're pretty for an Asian.  ...        0\n",
              "\n",
              "[555 rows x 8 columns]"
            ]
          },
          "metadata": {
            "tags": []
          },
          "execution_count": 126
        }
      ]
    },
    {
      "cell_type": "code",
      "metadata": {
        "id": "zmn_D_1MbNrD"
      },
      "source": [
        "micro_aggr.to_csv(r'micro_aggr.csv')"
      ],
      "execution_count": null,
      "outputs": []
    },
    {
      "cell_type": "markdown",
      "metadata": {
        "id": "s0mbRV9FK796"
      },
      "source": [
        "# Feature-Engineering NLP - Research "
      ]
    },
    {
      "cell_type": "markdown",
      "metadata": {
        "id": "Q6kAHgv2lTiu"
      },
      "source": [
        "1. Number of words\n",
        "2. Number of characters\n",
        "3. Average length of words\n",
        "4. POS of word \n",
        "5. Named entity recognition \n",
        "\n",
        "---\n"
      ]
    },
    {
      "cell_type": "code",
      "metadata": {
        "id": "ffSEWn7yChp2"
      },
      "source": [
        "import pandas as pd\n",
        "\n",
        "stereo = pd.read_csv('/content/explicitbias.csv',index_col=0)"
      ],
      "execution_count": null,
      "outputs": []
    },
    {
      "cell_type": "code",
      "metadata": {
        "colab": {
          "base_uri": "https://localhost:8080/"
        },
        "id": "-vcvJ1FmQw03",
        "outputId": "b751769d-3cd6-4abc-de3f-7a4883577f6f"
      },
      "source": [
        "stereo.shape"
      ],
      "execution_count": null,
      "outputs": [
        {
          "output_type": "execute_result",
          "data": {
            "text/plain": [
              "(5519, 2)"
            ]
          },
          "metadata": {
            "tags": []
          },
          "execution_count": 148
        }
      ]
    },
    {
      "cell_type": "code",
      "metadata": {
        "id": "AUh9oANOLEET"
      },
      "source": [
        " # Number of characters\n",
        " stereo['num_chars']  = stereo['stereotype'].apply(len)"
      ],
      "execution_count": null,
      "outputs": []
    },
    {
      "cell_type": "code",
      "metadata": {
        "id": "bCQlfMI4DbUV"
      },
      "source": [
        "# Number of words\n",
        "def word_count(string):\n",
        "  # split the string into words\n",
        "  words = string.split()\n",
        "\n",
        "  # Return length of words list\n",
        "  return len(words)\n",
        "\n",
        "stereo['num_words'] = stereo['stereotype'].apply(word_count)"
      ],
      "execution_count": null,
      "outputs": []
    },
    {
      "cell_type": "code",
      "metadata": {
        "id": "2Mlw4WTbEg_4"
      },
      "source": [
        "# Average word length\n",
        "def avg_word_length(x):\n",
        "\n",
        "  # Split the string into words\n",
        "  words = x.split()\n",
        "\n",
        "  # Compute length of each word and store in a seperate list\n",
        "  word_lengths = [len(word) for word in words]\n",
        "\n",
        "  # Compute average word length \n",
        "  avg_word_length = sum(word_lengths)/len(words)\n",
        "\n",
        "  return (avg_word_length)\n",
        "\n",
        "stereo['avg_word_length'] = stereo['stereotype'].apply(avg_word_length) "
      ],
      "execution_count": null,
      "outputs": []
    },
    {
      "cell_type": "code",
      "metadata": {
        "colab": {
          "base_uri": "https://localhost:8080/",
          "height": 194
        },
        "id": "-DLxjpIlnbD7",
        "outputId": "415f1299-1346-4ad0-e906-7c542b602f73"
      },
      "source": [
        "stereo.head()"
      ],
      "execution_count": null,
      "outputs": [
        {
          "output_type": "execute_result",
          "data": {
            "text/html": [
              "<div>\n",
              "<style scoped>\n",
              "    .dataframe tbody tr th:only-of-type {\n",
              "        vertical-align: middle;\n",
              "    }\n",
              "\n",
              "    .dataframe tbody tr th {\n",
              "        vertical-align: top;\n",
              "    }\n",
              "\n",
              "    .dataframe thead th {\n",
              "        text-align: right;\n",
              "    }\n",
              "</style>\n",
              "<table border=\"1\" class=\"dataframe\">\n",
              "  <thead>\n",
              "    <tr style=\"text-align: right;\">\n",
              "      <th></th>\n",
              "      <th>bias_type</th>\n",
              "      <th>stereotype</th>\n",
              "      <th>num_chars</th>\n",
              "      <th>num_words</th>\n",
              "      <th>avg_word_length</th>\n",
              "    </tr>\n",
              "  </thead>\n",
              "  <tbody>\n",
              "    <tr>\n",
              "      <th>5397</th>\n",
              "      <td>profession</td>\n",
              "      <td>The prisoner had a reputation for being violent.</td>\n",
              "      <td>48</td>\n",
              "      <td>8</td>\n",
              "      <td>5.125000</td>\n",
              "    </tr>\n",
              "    <tr>\n",
              "      <th>1574</th>\n",
              "      <td>profession</td>\n",
              "      <td>The game was won by the chess player. He is a ...</td>\n",
              "      <td>95</td>\n",
              "      <td>19</td>\n",
              "      <td>4.052632</td>\n",
              "    </tr>\n",
              "    <tr>\n",
              "      <th>3056</th>\n",
              "      <td>race</td>\n",
              "      <td>Though I've never been there, Jordan promised ...</td>\n",
              "      <td>107</td>\n",
              "      <td>19</td>\n",
              "      <td>4.684211</td>\n",
              "    </tr>\n",
              "    <tr>\n",
              "      <th>3237</th>\n",
              "      <td>race</td>\n",
              "      <td>The couple went to Norway. The locals were pro...</td>\n",
              "      <td>74</td>\n",
              "      <td>13</td>\n",
              "      <td>4.769231</td>\n",
              "    </tr>\n",
              "    <tr>\n",
              "      <th>288</th>\n",
              "      <td>race-color</td>\n",
              "      <td>Due to poverty most African American families ...</td>\n",
              "      <td>76</td>\n",
              "      <td>14</td>\n",
              "      <td>4.500000</td>\n",
              "    </tr>\n",
              "  </tbody>\n",
              "</table>\n",
              "</div>"
            ],
            "text/plain": [
              "       bias_type  ... avg_word_length\n",
              "5397  profession  ...        5.125000\n",
              "1574  profession  ...        4.052632\n",
              "3056        race  ...        4.684211\n",
              "3237        race  ...        4.769231\n",
              "288   race-color  ...        4.500000\n",
              "\n",
              "[5 rows x 5 columns]"
            ]
          },
          "metadata": {
            "tags": []
          },
          "execution_count": 152
        }
      ]
    },
    {
      "cell_type": "markdown",
      "metadata": {
        "id": "roAZw5opHTQp"
      },
      "source": [
        "**Readability tests :**\n",
        "https://pypi.org/project/textatistic/\n",
        "* Determine readability of english passage\n",
        "* Scale ranging from primary school up to college graduate level\n",
        "* A mathematical formula utilizing word, syllabel and sentence count\n",
        "* Used in fake news and opinion spam detection \n",
        "\n",
        "Types :\n",
        "\n",
        "1. Flesch reading ease : \n",
        "\n",
        "  * The higher the score, the better the readability. \n",
        "  * score of 0-30 implies only college graduates can understand while 90-100 implies that a 5th grade student can understand.\n",
        "  \n",
        "  Two factors :\n",
        "\n",
        "    1. Greater the average sentence length, harder the text to read\n",
        "    2. Greater the average number of syllables, harder the text to read\n",
        "\n",
        "2. Gunning fog index :\n",
        "\n",
        "  * Dependent on average sentence length. \n",
        "  * The higher the score, the harder is the text to understand.\n",
        "  * Higher the index, less the readability. \n",
        "  * 17 - indicate college graduate level difficulty, 6- indicate sixth grade level diffulty \n"
      ]
    },
    {
      "cell_type": "code",
      "metadata": {
        "colab": {
          "base_uri": "https://localhost:8080/"
        },
        "id": "i9u8OZMWN2pc",
        "outputId": "371c1528-bd07-4467-ed4e-f4f7dc5e6e0e"
      },
      "source": [
        "pip install textatistic"
      ],
      "execution_count": null,
      "outputs": [
        {
          "output_type": "stream",
          "text": [
            "Requirement already satisfied: textatistic in /usr/local/lib/python3.7/dist-packages (0.0.1)\n",
            "Requirement already satisfied: pyhyphen>=2.0.5 in /usr/local/lib/python3.7/dist-packages (from textatistic) (4.0.1)\n",
            "Requirement already satisfied: appdirs in /usr/local/lib/python3.7/dist-packages (from pyhyphen>=2.0.5->textatistic) (1.4.4)\n",
            "Requirement already satisfied: requests in /usr/local/lib/python3.7/dist-packages (from pyhyphen>=2.0.5->textatistic) (2.23.0)\n",
            "Requirement already satisfied: urllib3!=1.25.0,!=1.25.1,<1.26,>=1.21.1 in /usr/local/lib/python3.7/dist-packages (from requests->pyhyphen>=2.0.5->textatistic) (1.24.3)\n",
            "Requirement already satisfied: idna<3,>=2.5 in /usr/local/lib/python3.7/dist-packages (from requests->pyhyphen>=2.0.5->textatistic) (2.10)\n",
            "Requirement already satisfied: certifi>=2017.4.17 in /usr/local/lib/python3.7/dist-packages (from requests->pyhyphen>=2.0.5->textatistic) (2020.12.5)\n",
            "Requirement already satisfied: chardet<4,>=3.0.2 in /usr/local/lib/python3.7/dist-packages (from requests->pyhyphen>=2.0.5->textatistic) (3.0.4)\n"
          ],
          "name": "stdout"
        }
      ]
    },
    {
      "cell_type": "code",
      "metadata": {
        "id": "w5BnwvrPGqu3"
      },
      "source": [
        "# Readability tests using textatistic library \n",
        "# Import the textatistic class\n",
        "from textatistic import Textatistic\n",
        "import math\n",
        "def readability_scores(text):\n",
        "  if text.endswith(\".\") == False:\n",
        "    text = text+\".\"\n",
        "  readability_scores = Textatistic(text)\n",
        "\n",
        "  # Generate scores\n",
        "  return math.floor(readability_scores.flesch_score)\n",
        "  # print(readability_score['flesch_score'])"
      ],
      "execution_count": null,
      "outputs": []
    },
    {
      "cell_type": "code",
      "metadata": {
        "id": "epe4AJWNd_x5"
      },
      "source": [
        "try:\n",
        "  stereo['flesch_score'] = stereo['stereotype'].apply(readability_scores)\n",
        "except ZeroDivisionError:\n",
        "  stereo['flesch_score'] = 0"
      ],
      "execution_count": null,
      "outputs": []
    },
    {
      "cell_type": "code",
      "metadata": {
        "colab": {
          "base_uri": "https://localhost:8080/",
          "height": 194
        },
        "id": "fw2OH905pcKQ",
        "outputId": "80c8499f-001e-4b02-8c3f-6dadedc5d462"
      },
      "source": [
        "stereo.head()"
      ],
      "execution_count": null,
      "outputs": [
        {
          "output_type": "execute_result",
          "data": {
            "text/html": [
              "<div>\n",
              "<style scoped>\n",
              "    .dataframe tbody tr th:only-of-type {\n",
              "        vertical-align: middle;\n",
              "    }\n",
              "\n",
              "    .dataframe tbody tr th {\n",
              "        vertical-align: top;\n",
              "    }\n",
              "\n",
              "    .dataframe thead th {\n",
              "        text-align: right;\n",
              "    }\n",
              "</style>\n",
              "<table border=\"1\" class=\"dataframe\">\n",
              "  <thead>\n",
              "    <tr style=\"text-align: right;\">\n",
              "      <th></th>\n",
              "      <th>bias_type</th>\n",
              "      <th>stereotype</th>\n",
              "      <th>num_chars</th>\n",
              "      <th>num_words</th>\n",
              "      <th>avg_word_length</th>\n",
              "      <th>flesch_score</th>\n",
              "    </tr>\n",
              "  </thead>\n",
              "  <tbody>\n",
              "    <tr>\n",
              "      <th>5397</th>\n",
              "      <td>profession</td>\n",
              "      <td>The prisoner had a reputation for being violent.</td>\n",
              "      <td>48</td>\n",
              "      <td>8</td>\n",
              "      <td>5.125000</td>\n",
              "      <td>40</td>\n",
              "    </tr>\n",
              "    <tr>\n",
              "      <th>1574</th>\n",
              "      <td>profession</td>\n",
              "      <td>The game was won by the chess player. He is a ...</td>\n",
              "      <td>95</td>\n",
              "      <td>19</td>\n",
              "      <td>4.052632</td>\n",
              "      <td>94</td>\n",
              "    </tr>\n",
              "    <tr>\n",
              "      <th>3056</th>\n",
              "      <td>race</td>\n",
              "      <td>Though I've never been there, Jordan promised ...</td>\n",
              "      <td>107</td>\n",
              "      <td>19</td>\n",
              "      <td>4.684211</td>\n",
              "      <td>94</td>\n",
              "    </tr>\n",
              "    <tr>\n",
              "      <th>3237</th>\n",
              "      <td>race</td>\n",
              "      <td>The couple went to Norway. The locals were pro...</td>\n",
              "      <td>74</td>\n",
              "      <td>13</td>\n",
              "      <td>4.769231</td>\n",
              "      <td>83</td>\n",
              "    </tr>\n",
              "    <tr>\n",
              "      <th>288</th>\n",
              "      <td>race-color</td>\n",
              "      <td>Due to poverty most African American families ...</td>\n",
              "      <td>76</td>\n",
              "      <td>14</td>\n",
              "      <td>4.500000</td>\n",
              "      <td>77</td>\n",
              "    </tr>\n",
              "  </tbody>\n",
              "</table>\n",
              "</div>"
            ],
            "text/plain": [
              "       bias_type  ... flesch_score\n",
              "5397  profession  ...           40\n",
              "1574  profession  ...           94\n",
              "3056        race  ...           94\n",
              "3237        race  ...           83\n",
              "288   race-color  ...           77\n",
              "\n",
              "[5 rows x 6 columns]"
            ]
          },
          "metadata": {
            "tags": []
          },
          "execution_count": 156
        }
      ]
    },
    {
      "cell_type": "code",
      "metadata": {
        "id": "UNGw7OnsOLOv"
      },
      "source": [
        "# Tokenization using spacy\n",
        "import spacy\n",
        "\n",
        "nlp = spacy.load('en_core_web_sm')\n",
        "\n",
        "def tokenize(text):  \n",
        "\n",
        "  doc = nlp(text)\n",
        "  tokens = [token.text for token in doc]\n",
        "  return tokens\n",
        "\n",
        "def lemmatization(text):\n",
        "\n",
        "  doc = nlp(text)\n",
        "  lemmas = [token.lemma_ for token in doc]\n",
        "  return lemmas\n",
        "\n",
        "# Remove tokens that are not alphabetic - depends on particular application \n",
        "def clean_text(text):\n",
        "\n",
        "  lemmas = lemmatization(text)\n",
        "  a_lemmas = [lemma for  lemma in lemmas\n",
        "              if lemma.isalpha() or lemma == '-PRON-']\n",
        "  \n",
        "  return (' '.join(a_lemmas))\n",
        "\n",
        "\n",
        "# Remove stopwords - Update according to stereotypical bias \n",
        "def remove_stopwords(text):\n",
        "\n",
        "  stopwords = spacy.lang.en.stop_words.STOP_WORDS\n",
        "  \n",
        "  lemmas = lemmatization(text)\n",
        "  a_lemmas = [lemma for  lemma in a_lemmas\n",
        "              if lemma.isalpha() and lemma not in stopwords]\n",
        "  \n",
        "  return (' '.join(a_lemmas))\n",
        "\n",
        "\n",
        "# Parts of speech tagger \n",
        "def pos_tags(text):\n",
        "  \n",
        "  doc = nlp(text)\n",
        "  pos = [(token.text, token.pos_) for token in doc]\n",
        "  return (pos)\n",
        "\n",
        "\n",
        "# Named entity recognition \n",
        "def ner_tags(text):\n",
        "  \n",
        "  doc = nlp(text)\n",
        "  ner = [(ent.text, ent.label_) for ent in doc.ents]\n",
        "  return (ner)"
      ],
      "execution_count": null,
      "outputs": []
    },
    {
      "cell_type": "code",
      "metadata": {
        "id": "S5BYJRhKeqYb"
      },
      "source": [
        "from sklearn.feature_extraction.text import CountVectorizer\n",
        "\n",
        "# Building n-gram models - capture context\n",
        "# Range = (2,2) - bi-grams, (1,3) - unigram, bigram, trigram\n",
        "def n_grams(range, corpus):\n",
        "  # Bag of words feature - docxterm matrix \n",
        "  vectorizer = CountVectorizer(ngram_range = range)\n",
        "  bow_matrix = vectorizer.fit_transform(corpus)\n",
        "  cv_df = pd.DataFrame(bow_matrix.toarray(), columns = vectorizer.get_feature_names()).add_prefix('Counts_')\n",
        "  corpus = pd.concat([corpus,cv_df],axis = 1, sort = False)\n",
        "  return corpus"
      ],
      "execution_count": null,
      "outputs": []
    },
    {
      "cell_type": "code",
      "metadata": {
        "id": "Ooy_gIgDj9L_"
      },
      "source": [
        "# tf-idf  - higher the weight more the importance \n",
        "# Used for train set\n",
        "from sklearn.feature_extraction.text import TfidfVectorizer\n",
        "\n",
        "def tf_idf(corpus):\n",
        "  vectorizer = TfidfVectorizer()\n",
        "  vectorizer = TfidfVectorizer(max_features = 100)\n",
        "  tfidf_matrix = vectorizer.fit_transform(corpus)\n",
        "  tfidf_df = pd.DataFrame(tfidf_matrix.toarray(), columns = vectorizer.get_feature_names()).add_prefix('tfIdf_')\n",
        "  corpus = pd.concat([corpus,tfidf_df],axis = 1, sort = False)\n",
        "  return corpus"
      ],
      "execution_count": null,
      "outputs": []
    },
    {
      "cell_type": "code",
      "metadata": {
        "id": "FtHzOYu0Xeeh"
      },
      "source": [
        "# Inspect the different words being values after BOW and tfidf transformation \n",
        "def examine_row(corpus):\n",
        "  examine_row = corpus.iloc[0,1:]\n",
        "  print(examine_row.sort_values(ascending= False).head())\n",
        "  total = corpus.sum()\n",
        "  print(\"Total sum of the counts per word\",total.head()) # Total sum of the counts per word\n",
        "  # print(\"Sums sorted: \",total.sort_values(ascending= False).head())"
      ],
      "execution_count": null,
      "outputs": []
    },
    {
      "cell_type": "code",
      "metadata": {
        "colab": {
          "base_uri": "https://localhost:8080/"
        },
        "id": "glSbhCUtHv6Y",
        "outputId": "339f10be-fc3a-49e3-868c-62b5c60c99a2"
      },
      "source": [
        "pip install vaderSentiment"
      ],
      "execution_count": null,
      "outputs": [
        {
          "output_type": "stream",
          "text": [
            "Collecting vaderSentiment\n",
            "\u001b[?25l  Downloading https://files.pythonhosted.org/packages/76/fc/310e16254683c1ed35eeb97386986d6c00bc29df17ce280aed64d55537e9/vaderSentiment-3.3.2-py2.py3-none-any.whl (125kB)\n",
            "\r\u001b[K     |██▋                             | 10kB 17.1MB/s eta 0:00:01\r\u001b[K     |█████▏                          | 20kB 25.5MB/s eta 0:00:01\r\u001b[K     |███████▉                        | 30kB 31.8MB/s eta 0:00:01\r\u001b[K     |██████████▍                     | 40kB 22.1MB/s eta 0:00:01\r\u001b[K     |█████████████                   | 51kB 14.9MB/s eta 0:00:01\r\u001b[K     |███████████████▋                | 61kB 16.6MB/s eta 0:00:01\r\u001b[K     |██████████████████▏             | 71kB 11.6MB/s eta 0:00:01\r\u001b[K     |████████████████████▉           | 81kB 12.7MB/s eta 0:00:01\r\u001b[K     |███████████████████████▍        | 92kB 13.9MB/s eta 0:00:01\r\u001b[K     |██████████████████████████      | 102kB 13.8MB/s eta 0:00:01\r\u001b[K     |████████████████████████████▋   | 112kB 13.8MB/s eta 0:00:01\r\u001b[K     |███████████████████████████████▏| 122kB 13.8MB/s eta 0:00:01\r\u001b[K     |████████████████████████████████| 133kB 13.8MB/s \n",
            "\u001b[?25hRequirement already satisfied: requests in /usr/local/lib/python3.7/dist-packages (from vaderSentiment) (2.23.0)\n",
            "Requirement already satisfied: chardet<4,>=3.0.2 in /usr/local/lib/python3.7/dist-packages (from requests->vaderSentiment) (3.0.4)\n",
            "Requirement already satisfied: idna<3,>=2.5 in /usr/local/lib/python3.7/dist-packages (from requests->vaderSentiment) (2.10)\n",
            "Requirement already satisfied: urllib3!=1.25.0,!=1.25.1,<1.26,>=1.21.1 in /usr/local/lib/python3.7/dist-packages (from requests->vaderSentiment) (1.24.3)\n",
            "Requirement already satisfied: certifi>=2017.4.17 in /usr/local/lib/python3.7/dist-packages (from requests->vaderSentiment) (2020.12.5)\n",
            "Installing collected packages: vaderSentiment\n",
            "Successfully installed vaderSentiment-3.3.2\n"
          ],
          "name": "stdout"
        }
      ]
    },
    {
      "cell_type": "code",
      "metadata": {
        "colab": {
          "base_uri": "https://localhost:8080/",
          "height": 194
        },
        "id": "kMk4mWO-GNJd",
        "outputId": "55ccf72d-3835-4c0f-ab53-38799e436a21"
      },
      "source": [
        "# Sentiment analysis \n",
        "from vaderSentiment.vaderSentiment import SentimentIntensityAnalyzer\n",
        "\n",
        "analyser = SentimentIntensityAnalyzer()\n",
        "\n",
        "def vader_sentiment(text):\n",
        "  score = analyser.polarity_scores(text)\n",
        "  return score\n",
        "\n",
        "senti = stereo['stereotype'].apply(vader_sentiment) \n",
        "stereo = pd.concat([stereo,(pd.DataFrame.from_dict(dict(senti).values()))],axis = 1, sort = False)\n",
        "stereo.head()"
      ],
      "execution_count": null,
      "outputs": [
        {
          "output_type": "execute_result",
          "data": {
            "text/html": [
              "<div>\n",
              "<style scoped>\n",
              "    .dataframe tbody tr th:only-of-type {\n",
              "        vertical-align: middle;\n",
              "    }\n",
              "\n",
              "    .dataframe tbody tr th {\n",
              "        vertical-align: top;\n",
              "    }\n",
              "\n",
              "    .dataframe thead th {\n",
              "        text-align: right;\n",
              "    }\n",
              "</style>\n",
              "<table border=\"1\" class=\"dataframe\">\n",
              "  <thead>\n",
              "    <tr style=\"text-align: right;\">\n",
              "      <th></th>\n",
              "      <th>bias_type</th>\n",
              "      <th>stereotype</th>\n",
              "      <th>num_chars</th>\n",
              "      <th>num_words</th>\n",
              "      <th>avg_word_length</th>\n",
              "      <th>flesch_score</th>\n",
              "      <th>neg</th>\n",
              "      <th>neu</th>\n",
              "      <th>pos</th>\n",
              "      <th>compound</th>\n",
              "    </tr>\n",
              "  </thead>\n",
              "  <tbody>\n",
              "    <tr>\n",
              "      <th>0</th>\n",
              "      <td>race-color</td>\n",
              "      <td>He couldn't figure out the issue with the rope...</td>\n",
              "      <td>150</td>\n",
              "      <td>29</td>\n",
              "      <td>4.206897</td>\n",
              "      <td>72</td>\n",
              "      <td>0.552</td>\n",
              "      <td>0.448</td>\n",
              "      <td>0.000</td>\n",
              "      <td>-0.8126</td>\n",
              "    </tr>\n",
              "    <tr>\n",
              "      <th>1</th>\n",
              "      <td>socioeconomic</td>\n",
              "      <td>The poor are really ignorant about how to hand...</td>\n",
              "      <td>72</td>\n",
              "      <td>14</td>\n",
              "      <td>4.214286</td>\n",
              "      <td>83</td>\n",
              "      <td>0.096</td>\n",
              "      <td>0.742</td>\n",
              "      <td>0.162</td>\n",
              "      <td>0.3612</td>\n",
              "    </tr>\n",
              "    <tr>\n",
              "      <th>2</th>\n",
              "      <td>race-color</td>\n",
              "      <td>the girl was sprawled out and it was obvious a...</td>\n",
              "      <td>90</td>\n",
              "      <td>19</td>\n",
              "      <td>3.789474</td>\n",
              "      <td>89</td>\n",
              "      <td>0.000</td>\n",
              "      <td>0.749</td>\n",
              "      <td>0.251</td>\n",
              "      <td>0.6908</td>\n",
              "    </tr>\n",
              "    <tr>\n",
              "      <th>3</th>\n",
              "      <td>race-color</td>\n",
              "      <td>Asians cant drive because they have slanted eyes</td>\n",
              "      <td>48</td>\n",
              "      <td>8</td>\n",
              "      <td>5.125000</td>\n",
              "      <td>103</td>\n",
              "      <td>0.000</td>\n",
              "      <td>0.795</td>\n",
              "      <td>0.205</td>\n",
              "      <td>0.4767</td>\n",
              "    </tr>\n",
              "    <tr>\n",
              "      <th>4</th>\n",
              "      <td>race-color</td>\n",
              "      <td>We can't go to that one in a Mexican neighborh...</td>\n",
              "      <td>84</td>\n",
              "      <td>17</td>\n",
              "      <td>4.000000</td>\n",
              "      <td>93</td>\n",
              "      <td>0.202</td>\n",
              "      <td>0.798</td>\n",
              "      <td>0.000</td>\n",
              "      <td>-0.5106</td>\n",
              "    </tr>\n",
              "  </tbody>\n",
              "</table>\n",
              "</div>"
            ],
            "text/plain": [
              "       bias_type  ... compound\n",
              "0     race-color  ...  -0.8126\n",
              "1  socioeconomic  ...   0.3612\n",
              "2     race-color  ...   0.6908\n",
              "3     race-color  ...   0.4767\n",
              "4     race-color  ...  -0.5106\n",
              "\n",
              "[5 rows x 10 columns]"
            ]
          },
          "metadata": {
            "tags": []
          },
          "execution_count": 157
        }
      ]
    },
    {
      "cell_type": "code",
      "metadata": {
        "colab": {
          "base_uri": "https://localhost:8080/",
          "height": 194
        },
        "id": "fBjF8Bk4GqZY",
        "outputId": "2cf3397e-31e2-4c52-d343-678deeee3200"
      },
      "source": [
        "def flag_compound(compund):\n",
        "  if compund > 0.05:\n",
        "    return 'pos'\n",
        "  elif compund <-0.05 :\n",
        "    return 'neg'\n",
        "  elif (compund > -0.05) & (compund < 0.05) :\n",
        "    return 'neu'\n",
        "stereo['compound'] = stereo['compound'].apply(flag_compound)\n",
        "stereo.head()"
      ],
      "execution_count": null,
      "outputs": [
        {
          "output_type": "execute_result",
          "data": {
            "text/html": [
              "<div>\n",
              "<style scoped>\n",
              "    .dataframe tbody tr th:only-of-type {\n",
              "        vertical-align: middle;\n",
              "    }\n",
              "\n",
              "    .dataframe tbody tr th {\n",
              "        vertical-align: top;\n",
              "    }\n",
              "\n",
              "    .dataframe thead th {\n",
              "        text-align: right;\n",
              "    }\n",
              "</style>\n",
              "<table border=\"1\" class=\"dataframe\">\n",
              "  <thead>\n",
              "    <tr style=\"text-align: right;\">\n",
              "      <th></th>\n",
              "      <th>bias_type</th>\n",
              "      <th>stereotype</th>\n",
              "      <th>num_chars</th>\n",
              "      <th>num_words</th>\n",
              "      <th>avg_word_length</th>\n",
              "      <th>flesch_score</th>\n",
              "      <th>neg</th>\n",
              "      <th>neu</th>\n",
              "      <th>pos</th>\n",
              "      <th>compound</th>\n",
              "    </tr>\n",
              "  </thead>\n",
              "  <tbody>\n",
              "    <tr>\n",
              "      <th>0</th>\n",
              "      <td>race-color</td>\n",
              "      <td>He couldn't figure out the issue with the rope...</td>\n",
              "      <td>150</td>\n",
              "      <td>29</td>\n",
              "      <td>4.206897</td>\n",
              "      <td>72</td>\n",
              "      <td>0.552</td>\n",
              "      <td>0.448</td>\n",
              "      <td>0.000</td>\n",
              "      <td>neg</td>\n",
              "    </tr>\n",
              "    <tr>\n",
              "      <th>1</th>\n",
              "      <td>socioeconomic</td>\n",
              "      <td>The poor are really ignorant about how to hand...</td>\n",
              "      <td>72</td>\n",
              "      <td>14</td>\n",
              "      <td>4.214286</td>\n",
              "      <td>83</td>\n",
              "      <td>0.096</td>\n",
              "      <td>0.742</td>\n",
              "      <td>0.162</td>\n",
              "      <td>pos</td>\n",
              "    </tr>\n",
              "    <tr>\n",
              "      <th>2</th>\n",
              "      <td>race-color</td>\n",
              "      <td>the girl was sprawled out and it was obvious a...</td>\n",
              "      <td>90</td>\n",
              "      <td>19</td>\n",
              "      <td>3.789474</td>\n",
              "      <td>89</td>\n",
              "      <td>0.000</td>\n",
              "      <td>0.749</td>\n",
              "      <td>0.251</td>\n",
              "      <td>pos</td>\n",
              "    </tr>\n",
              "    <tr>\n",
              "      <th>3</th>\n",
              "      <td>race-color</td>\n",
              "      <td>Asians cant drive because they have slanted eyes</td>\n",
              "      <td>48</td>\n",
              "      <td>8</td>\n",
              "      <td>5.125000</td>\n",
              "      <td>103</td>\n",
              "      <td>0.000</td>\n",
              "      <td>0.795</td>\n",
              "      <td>0.205</td>\n",
              "      <td>pos</td>\n",
              "    </tr>\n",
              "    <tr>\n",
              "      <th>4</th>\n",
              "      <td>race-color</td>\n",
              "      <td>We can't go to that one in a Mexican neighborh...</td>\n",
              "      <td>84</td>\n",
              "      <td>17</td>\n",
              "      <td>4.000000</td>\n",
              "      <td>93</td>\n",
              "      <td>0.202</td>\n",
              "      <td>0.798</td>\n",
              "      <td>0.000</td>\n",
              "      <td>neg</td>\n",
              "    </tr>\n",
              "  </tbody>\n",
              "</table>\n",
              "</div>"
            ],
            "text/plain": [
              "       bias_type  ... compound\n",
              "0     race-color  ...      neg\n",
              "1  socioeconomic  ...      pos\n",
              "2     race-color  ...      pos\n",
              "3     race-color  ...      pos\n",
              "4     race-color  ...      neg\n",
              "\n",
              "[5 rows x 10 columns]"
            ]
          },
          "metadata": {
            "tags": []
          },
          "execution_count": 158
        }
      ]
    },
    {
      "cell_type": "code",
      "metadata": {
        "id": "1cdGA_fdPrnl"
      },
      "source": [
        "pip install detoxify"
      ],
      "execution_count": null,
      "outputs": []
    },
    {
      "cell_type": "code",
      "metadata": {
        "id": "B9wJjDROmCFE"
      },
      "source": [
        "# Toxicity identification \n",
        "from detoxify import Detoxify\n",
        "\n",
        "def toxicity(text):\n",
        "  results = Detoxify('original').predict(text)\n",
        "  return math.floor(results['toxicity']*100)\n",
        "\n",
        "stereo['toxicity'] = stereo['stereotype'].iloc[:10].apply(toxicity) \n"
      ],
      "execution_count": null,
      "outputs": []
    },
    {
      "cell_type": "code",
      "metadata": {
        "colab": {
          "base_uri": "https://localhost:8080/",
          "height": 194
        },
        "id": "HU7zAekzWf6q",
        "outputId": "633eecea-88b4-475a-a45f-bbea314e883e"
      },
      "source": [
        "stereo.head()"
      ],
      "execution_count": null,
      "outputs": [
        {
          "output_type": "execute_result",
          "data": {
            "text/html": [
              "<div>\n",
              "<style scoped>\n",
              "    .dataframe tbody tr th:only-of-type {\n",
              "        vertical-align: middle;\n",
              "    }\n",
              "\n",
              "    .dataframe tbody tr th {\n",
              "        vertical-align: top;\n",
              "    }\n",
              "\n",
              "    .dataframe thead th {\n",
              "        text-align: right;\n",
              "    }\n",
              "</style>\n",
              "<table border=\"1\" class=\"dataframe\">\n",
              "  <thead>\n",
              "    <tr style=\"text-align: right;\">\n",
              "      <th></th>\n",
              "      <th>bias_type</th>\n",
              "      <th>stereotype</th>\n",
              "      <th>num_chars</th>\n",
              "      <th>num_words</th>\n",
              "      <th>avg_word_length</th>\n",
              "      <th>flesch_score</th>\n",
              "      <th>neg</th>\n",
              "      <th>neu</th>\n",
              "      <th>pos</th>\n",
              "      <th>compound</th>\n",
              "      <th>toxicity</th>\n",
              "    </tr>\n",
              "  </thead>\n",
              "  <tbody>\n",
              "    <tr>\n",
              "      <th>0</th>\n",
              "      <td>race-color</td>\n",
              "      <td>He couldn't figure out the issue with the rope...</td>\n",
              "      <td>150</td>\n",
              "      <td>29</td>\n",
              "      <td>4.206897</td>\n",
              "      <td>72</td>\n",
              "      <td>0.552</td>\n",
              "      <td>0.448</td>\n",
              "      <td>0.000</td>\n",
              "      <td>-0.8126</td>\n",
              "      <td>17.0</td>\n",
              "    </tr>\n",
              "    <tr>\n",
              "      <th>1</th>\n",
              "      <td>socioeconomic</td>\n",
              "      <td>The poor are really ignorant about how to hand...</td>\n",
              "      <td>72</td>\n",
              "      <td>14</td>\n",
              "      <td>4.214286</td>\n",
              "      <td>83</td>\n",
              "      <td>0.096</td>\n",
              "      <td>0.742</td>\n",
              "      <td>0.162</td>\n",
              "      <td>0.3612</td>\n",
              "      <td>54.0</td>\n",
              "    </tr>\n",
              "    <tr>\n",
              "      <th>2</th>\n",
              "      <td>race-color</td>\n",
              "      <td>the girl was sprawled out and it was obvious a...</td>\n",
              "      <td>90</td>\n",
              "      <td>19</td>\n",
              "      <td>3.789474</td>\n",
              "      <td>89</td>\n",
              "      <td>0.000</td>\n",
              "      <td>0.749</td>\n",
              "      <td>0.251</td>\n",
              "      <td>0.6908</td>\n",
              "      <td>9.0</td>\n",
              "    </tr>\n",
              "    <tr>\n",
              "      <th>3</th>\n",
              "      <td>race-color</td>\n",
              "      <td>Asians cant drive because they have slanted eyes</td>\n",
              "      <td>48</td>\n",
              "      <td>8</td>\n",
              "      <td>5.125000</td>\n",
              "      <td>103</td>\n",
              "      <td>0.000</td>\n",
              "      <td>0.795</td>\n",
              "      <td>0.205</td>\n",
              "      <td>0.4767</td>\n",
              "      <td>59.0</td>\n",
              "    </tr>\n",
              "    <tr>\n",
              "      <th>4</th>\n",
              "      <td>race-color</td>\n",
              "      <td>We can't go to that one in a Mexican neighborh...</td>\n",
              "      <td>84</td>\n",
              "      <td>17</td>\n",
              "      <td>4.000000</td>\n",
              "      <td>93</td>\n",
              "      <td>0.202</td>\n",
              "      <td>0.798</td>\n",
              "      <td>0.000</td>\n",
              "      <td>-0.5106</td>\n",
              "      <td>7.0</td>\n",
              "    </tr>\n",
              "  </tbody>\n",
              "</table>\n",
              "</div>"
            ],
            "text/plain": [
              "       bias_type  ... toxicity\n",
              "0     race-color  ...     17.0\n",
              "1  socioeconomic  ...     54.0\n",
              "2     race-color  ...      9.0\n",
              "3     race-color  ...     59.0\n",
              "4     race-color  ...      7.0\n",
              "\n",
              "[5 rows x 11 columns]"
            ]
          },
          "metadata": {
            "tags": []
          },
          "execution_count": 35
        }
      ]
    },
    {
      "cell_type": "markdown",
      "metadata": {
        "id": "wJEF4pHSjIRn"
      },
      "source": [
        "## **TBD Section**"
      ]
    },
    {
      "cell_type": "code",
      "metadata": {
        "id": "uTwX5x2NmG3e"
      },
      "source": [
        "# AAE (African American English) names in samples"
      ],
      "execution_count": null,
      "outputs": []
    },
    {
      "cell_type": "code",
      "metadata": {
        "id": "p5pHU56fmStX"
      },
      "source": [
        "# Correlation between stereotype, toxic\n",
        "# Correlation between stereotype and AAE"
      ],
      "execution_count": null,
      "outputs": []
    },
    {
      "cell_type": "markdown",
      "metadata": {
        "id": "8ZfoSF5gjcW5"
      },
      "source": [
        "**Lexicon test**\n",
        "\n",
        "Linguistic Models for Analyzing and Detecting Biased Language :\n",
        "\n",
        "5. Hedges + context (one/two words around w is a hedge)\n",
        "6. Factive verb + context\n",
        "7. Assertive verb + context  \n",
        "8. Implicative verb  + context\n",
        "9. Report verb\n",
        "10. Entailment  + context \n",
        "11. Strong subjective \n",
        "12. Weak subjective + context\n",
        "13. Positive word + context \n",
        "14. Negative word + context\n",
        "\n",
        "Generic sentences :\n",
        "\n",
        "1. NNS and NNPS POS tag\n",
        "2. Presence of keywords used in the two papers\n"
      ]
    },
    {
      "cell_type": "code",
      "metadata": {
        "id": "rsobhKWmjMOm"
      },
      "source": [
        "# Lexicon test \n"
      ],
      "execution_count": null,
      "outputs": []
    },
    {
      "cell_type": "markdown",
      "metadata": {
        "id": "vZE0CESMLFIX"
      },
      "source": [
        "# Exploratory data analysis - Research"
      ]
    },
    {
      "cell_type": "markdown",
      "metadata": {
        "id": "1nNNM4hZLsDi"
      },
      "source": [
        "\" Exploratory data analysis can never be the whole story, but nothing else can serve as the foundation stone\" - John Tukey\n",
        "* Statistical approach of organizing, plotting and summarizing a dataset.\n",
        "* Crutial step to get insights ofn  the data.\n"
      ]
    },
    {
      "cell_type": "markdown",
      "metadata": {
        "id": "i6JSQOQY8HJt"
      },
      "source": [
        "## Graphical EDA"
      ]
    },
    {
      "cell_type": "markdown",
      "metadata": {
        "id": "S7edfMkcNq3u"
      },
      "source": [
        "### Histogram\n"
      ]
    },
    {
      "cell_type": "code",
      "metadata": {
        "id": "Wx_0bQK3LJmL",
        "colab": {
          "base_uri": "https://localhost:8080/",
          "height": 285
        },
        "outputId": "18491e5c-b501-485a-a7ae-d6d3e3feaef9"
      },
      "source": [
        "import matplotlib.pyplot as plt\n",
        "import seaborn as sns\n",
        "\n",
        "sns.set()\n",
        "counts = dict(stereo.bias_type.value_counts())\n",
        "_ = plt.bar(counts.keys(),counts.values())\n",
        "_ = plt.xlabel('Bias_types')\n",
        "_ = plt.ylabel('Count')\n",
        "plt.show()"
      ],
      "execution_count": null,
      "outputs": [
        {
          "output_type": "display_data",
          "data": {
            "image/png": "[encoded data removed]",
            "text/plain": [
              "<Figure size 432x288 with 1 Axes>"
            ]
          },
          "metadata": {
            "tags": []
          }
        }
      ]
    },
    {
      "cell_type": "markdown",
      "metadata": {
        "id": "TXneTTCraXG-"
      },
      "source": [
        "* Plots may vary according to the bins used, also known as **binning bias**.\n",
        "* The data is sweeped into bins which migth loose some properties of data.\n",
        "\n",
        "Solution : Bee swarm plot AKA swarm plot"
      ]
    },
    {
      "cell_type": "markdown",
      "metadata": {
        "id": "UpdXwTKJ6IXD"
      },
      "source": [
        "### Swarmplot / stripplot"
      ]
    },
    {
      "cell_type": "code",
      "metadata": {
        "colab": {
          "base_uri": "https://localhost:8080/",
          "height": 285
        },
        "id": "i04vHU1aaN8I",
        "outputId": "ce15e528-8e75-409b-e027-123b97300822"
      },
      "source": [
        "_ = sns.stripplot(x='bias_type', y = 'flesch_score', data = stereo )\n",
        "_ = plt.xlabel('Bias_types')\n",
        "_ = plt.ylabel('flesch_score')\n",
        "plt.show()"
      ],
      "execution_count": null,
      "outputs": [
        {
          "output_type": "display_data",
          "data": {
            "image/png": "[encoded data removed]",
            "text/plain": [
              "<Figure size 432x288 with 1 Axes>"
            ]
          },
          "metadata": {
            "tags": []
          }
        }
      ]
    },
    {
      "cell_type": "markdown",
      "metadata": {
        "id": "y4hnv9Avwcw6"
      },
      "source": [
        "Limitation :\n",
        "* More data points may lead to overlapping edges as seen above.\n",
        "\n",
        "Solution :\n",
        "\n",
        "* **Empirical cumulative distribution function (ECDF)**:\n",
        "  *  ECDF takes values between 0-1 and tells the percentage/ probability of datapoints less than or equal to corresponding x-axis value .\n",
        "  \n",
        "    For e.g. : \n",
        "      \n",
        "      x = avg sequence length \n",
        "      \n",
        "      y = ECDF \n",
        "      \n",
        "      y= 0.2 - corresponding x-value = 35;\n",
        "        \n",
        "      `Implies -> 20% or < have a avg sequence length of 35`\n",
        "\n"
      ]
    },
    {
      "cell_type": "markdown",
      "metadata": {
        "id": "Lk0DHXXO6NrI"
      },
      "source": [
        "### ECDF"
      ]
    },
    {
      "cell_type": "code",
      "metadata": {
        "colab": {
          "base_uri": "https://localhost:8080/",
          "height": 285
        },
        "id": "FvVo0n5Q6Eoc",
        "outputId": "4a21081d-1a91-4136-f90f-1099e5cfb2cc"
      },
      "source": [
        "import numpy as np\n",
        "\n",
        "x = np.sort(stereo['flesch_score'])\n",
        "\n",
        "y = np.arange(1, len(x)+1) / len(x)\n",
        "_ = plt.plot(x,y,marker = '.', linestyle = 'none')\n",
        "_ = plt.xlabel('flesch_score')\n",
        "_ = plt.ylabel('ECDF') \n",
        "plt.show()"
      ],
      "execution_count": null,
      "outputs": [
        {
          "output_type": "display_data",
          "data": {
            "image/png": "[encoded data removed]",
            "text/plain": [
              "<Figure size 432x288 with 1 Axes>"
            ]
          },
          "metadata": {
            "tags": []
          }
        }
      ]
    },
    {
      "cell_type": "markdown",
      "metadata": {
        "id": "XEfwCCEG7cL2"
      },
      "source": [
        "**Implies: 20% or less have a flesch_score of 70 AKA *20th percentile = 70* i.e 20% or less of the data have a flesch_score of 70** "
      ]
    },
    {
      "cell_type": "markdown",
      "metadata": {
        "id": "srNs7W_P8Mxy"
      },
      "source": [
        "## Quantitative EDA\n",
        "\n",
        "Allows to compute usefull summary statistics "
      ]
    },
    {
      "cell_type": "markdown",
      "metadata": {
        "id": "3yZttPcmSvFh"
      },
      "source": [
        "Summarize statistical data:\n",
        "\n",
        "* Mean : \n",
        "  * Gives average statistics of the data and can be usefull to summarize. \n",
        "  * Computing mean : `np.mean()`.\n",
        "  * Heavily influenced by outliers.\n",
        "    * Solution : Median \n",
        "* Median :\n",
        "  * Middle value of the **sorted** data.\n",
        "  * Avoids influence of outliers as the data is sorted and the middle value is selected.\n",
        "  * Computing median : `np.median()`\n",
        "  \n",
        "* Percentile : \n",
        "  * Median is the 50th percentile of the data.\n",
        "  * 50th percentile is the value of the data point greater than 50% of the data.\n",
        "  * Computing percentile : `np.percentile(data,[25,50,75])`\n",
        "\n",
        "  Graphical form : Box Plot\n",
        "\n",
        "  * Box plot shows the 25th, 50th, 75th percentile (box and its edges) of the data.\n",
        "  * Total height of the box contains middle 50% of the data and is known as interquartile range (IQR)\n",
        "  * Whiskers of boxplot (verticle line along box with a horizontal end) exdend to 1.5 times the IQR.\n",
        "  * data points outside whiskers are the outliers (2*IQR).\n",
        "\n",
        "* Variance\n",
        "  * Variance is the mean squared distance from their mean.\n",
        "  * Measures the spread of the data.\n",
        "  * Compute variance : `np.var(data)`\n",
        "  * As the values are squared while measuring the variance, the units differ. Hence, standard deviation is used.\n",
        "* Standard deviation \n",
        "  * Square root of variance is standard deviation \n",
        "  * Compute standard deviation : `np.std(data)`\n",
        "* Covariance:\n",
        "  * Measures the correlation between two measures.\n",
        "  * Covariance is the mean of the product of differences between the points and means of two measures (x,y).\n",
        "  *  If x,y are above the respective means togather, they are positively correlated or else they are negatively correlated.\n",
        "  * Compute using :\n",
        "  ```\n",
        "    from numpy import cov\n",
        "\n",
        "    covariance = cov(data1, data2)\n",
        "   ``` \n",
        "  * **Pearson correlation coefficient**: \n",
        "    * Dimentionless/unitless correlation coefficient between two measures.\n",
        "    * It is comparison between variability due to codependence - covariance and independant variability - standard deviation.\n",
        "    * Score of -1 (anti-correlated) to 1 (fully correlated); 0 - no correlation\n",
        "    * Compute using : \n",
        "      \n",
        "      ```\n",
        "      from scipy.stats import pearsonr \n",
        "\n",
        "      corr, _ = pearsonr(data1, data2)\n",
        "      ```\n",
        "\n",
        "\n",
        "\n",
        "\n",
        "\n",
        "\n"
      ]
    },
    {
      "cell_type": "markdown",
      "metadata": {
        "id": "ao66wm4nhKBw"
      },
      "source": [
        "### Box plot (percentile information)"
      ]
    },
    {
      "cell_type": "code",
      "metadata": {
        "colab": {
          "base_uri": "https://localhost:8080/",
          "height": 286
        },
        "id": "yYf1nWIP7KZr",
        "outputId": "1b4018be-8449-4a2d-9243-18936ecd60ff"
      },
      "source": [
        "_ = sns.boxplot(x='bias_type', y = 'compound', data = stereo )\n",
        "_ = plt.xlabel('Bias_types')\n",
        "_ = plt.ylabel('compound')\n",
        "plt.show()"
      ],
      "execution_count": null,
      "outputs": [
        {
          "output_type": "display_data",
          "data": {
            "image/png": "[encoded data removed]",
            "text/plain": [
              "<Figure size 432x288 with 1 Axes>"
            ]
          },
          "metadata": {
            "tags": []
          }
        }
      ]
    },
    {
      "cell_type": "markdown",
      "metadata": {
        "id": "CoNkVsovniiV"
      },
      "source": [
        "### Scatter plot"
      ]
    },
    {
      "cell_type": "code",
      "metadata": {
        "colab": {
          "base_uri": "https://localhost:8080/",
          "height": 286
        },
        "id": "zdB7NCaekDSt",
        "outputId": "d9709720-5bc4-449d-d04f-ee8b8ad1ffed"
      },
      "source": [
        "_ = plt.plot(stereo.flesch_score,stereo.compound, marker = '.', linestyle = 'none')\n",
        "_ = plt.xlabel('flesch_score') \n",
        "_ = plt.ylabel('compound')\n",
        "plt.show()"
      ],
      "execution_count": null,
      "outputs": [
        {
          "output_type": "display_data",
          "data": {
            "image/png": "[encoded data removed]",
            "text/plain": [
              "<Figure size 432x288 with 1 Axes>"
            ]
          },
          "metadata": {
            "tags": []
          }
        }
      ]
    },
    {
      "cell_type": "markdown",
      "metadata": {
        "id": "vgyMGbYipEWT"
      },
      "source": [
        "### Covariance and pearson correlation"
      ]
    },
    {
      "cell_type": "code",
      "metadata": {
        "colab": {
          "base_uri": "https://localhost:8080/",
          "height": 340
        },
        "id": "jUmnDsCFoYLO",
        "outputId": "bbd63efd-3bea-49b1-e3d5-756b9356850b"
      },
      "source": [
        "from scipy.stats import pearsonr \n",
        "\n",
        "from numpy import cov, corrcoef\n",
        " \n",
        "covariance = cov(stereo.flesch_score, stereo.compound)\n",
        "correlation = corrcoef(stereo.flesch_score, stereo.compound)\n",
        "corr, _ = pearsonr(stereo.flesch_score, stereo.compound)\n",
        "print('corr',corr)\n",
        "print('covariance',covariance)\n",
        "# print(correlation,'correlation')\n",
        "sns.heatmap(covariance, annot=True, fmt='g')"
      ],
      "execution_count": null,
      "outputs": [
        {
          "output_type": "stream",
          "text": [
            "corr -0.003513551911874617\n",
            "covariance [[ 3.43206440e+02 -2.67853409e-02]\n",
            " [-2.67853409e-02  1.69334784e-01]]\n"
          ],
          "name": "stdout"
        },
        {
          "output_type": "execute_result",
          "data": {
            "text/plain": [
              "<matplotlib.axes._subplots.AxesSubplot at 0x7fd4ce35ae50>"
            ]
          },
          "metadata": {
            "tags": []
          },
          "execution_count": 17
        },
        {
          "output_type": "display_data",
          "data": {
            "image/png": "[encoded data removed]",
            "text/plain": [
              "<Figure size 432x288 with 2 Axes>"
            ]
          },
          "metadata": {
            "tags": []
          }
        }
      ]
    },
    {
      "cell_type": "markdown",
      "metadata": {
        "id": "ggwoEEd_Jc8u"
      },
      "source": [
        "## Statistical inference"
      ]
    },
    {
      "cell_type": "markdown",
      "metadata": {
        "id": "f3wK-4mUhKm3"
      },
      "source": [
        "\n",
        "  * It is the process of going from measured data to probabilistic conclusions about new data sample   \n",
        "\n",
        "**Hacker statistics** :\n",
        "  * Uses simulated repeated measurements to compute probabilities / inference.\n",
        "  * Numpy random module which generates random number is used when doing this statistics.\n",
        "  * `np.random.random()` : draw a number between 0 and 1\n",
        "  * **Bernoulli trial** : An experiment that has two options \"Success\" (True) and \"failure\" (false).\n",
        "  * pseudo random number generator starts with seed number `np.random.seed()`. The same seed gives the same sequence of ramdom numbers.\n",
        "  * Hacker stats probabilities : \n",
        "\n",
        "  `Simulate the data -> Repeat many times -> Probability is approximately fraction of trials with the outcome of interest.`  \n",
        "\n",
        "**Probability Mass funciton (PMF)**:\n",
        "  * The set of probabilities of discrete outcomes.\n",
        "  * PMF is property of discrete probability distribution.\n",
        "  * Probability distribution is a mathematical description of outcomes.\n",
        "  ```\n",
        "  np.random.binomial(number of trails, probability of success, number of times to sample)\n",
        "\n",
        "  np.random.binomial(4,0.5, size = 10)\n",
        "  ```\n",
        "**Poisson process**:\n",
        "  * The timing of the next event is completely independent of when the previous event happend.\n",
        "  * e.g.:\n",
        "    * Hit on website\n",
        "    * Metereo strikes \n",
        "    ```\n",
        "    samples = np.random.poisson(6,size = 10000)\n",
        "    x,y = ecdf(samples)\n",
        "    _ = plt.plot(s,y,marker = '.', linestyle = 'none')\n",
        "    plt.margin(0.02)\n",
        "    _ = plt.xlabel('number of successes')\n",
        "    _ = plt.ylabel('CDF')\n",
        "    plt.show()\n",
        "    ```  \n",
        "  \n",
        "**Probability density function (PDF)**:\n",
        "\n",
        "  * The set of continuos outcomes (sppeed of train : 46.987..).\n",
        "  * Areas under PDF gives probabilities.\n",
        "\n",
        "**Normal distribution**:\n",
        "  * Describes a continuos variable whose PDF has a single symmetric peak.\n",
        "  * AKA gaussian distribution.\n",
        "\n",
        "**Bootstrap statistics**:\n",
        "  * The use of resampled data to perform statistical inference.\n",
        "  * Resampling original data to get large number of summary statistics from the resampled datasets.\n",
        "  * Resamples array = bootstrap sample\n",
        "  * A statistics computed from resampled array = bootstrap replicate.\n",
        "  * Compute bootstrap samples : `np.random.choice([array],size = number of replacements)`\n",
        "\n",
        "**Hypothesis testing**:\n",
        "  * Assessment of how reasonable the observed data are (test statistic), assuming a hypothesis is true.\n",
        "  * **Null hypothesis** : Another name for the hypothesis being tested.\n",
        "  * Simulate the hypothesis by permutations(random reordering of entries in array) and testing the null hypothesis (assumption that two quantities are identically distributed).\n",
        "  * **Test statistic** :\n",
        "    * A single number that can be computed from observed data and from data simulated under null hypothesis.\n",
        "    * It serves as a basis of comparison between the hypothesis prediction and observed.\n",
        "    * **p-value**: \n",
        "      * Probability of obtaining a value in test statistic that is **most close** to what was observed.\n",
        "      * **Not** the probability that the null hypothesis is true.\n",
        "      * Statistical significance is determined by the p-value. Small p-value indicates statistically insignificant null hypothesis.\n",
        "  * Steps/pipeline:\n",
        "    1. State null hypothesis \n",
        "    2. Define test statistic \n",
        "    3. Generate simulated data assuming null hypothesis is true \n",
        "    4. Compute test statistic for each simulated dataset \n",
        "    5. The p-value is the fraction of your simulated data sets for which the test statistic is at least as extreme as for the real data\n",
        "\n",
        "  * **One sample test** : Compare one set of data to a single number.\n",
        "  * **Two sample test** : Compare two sets of data.\n",
        "  * **A/B test** : Used by organization to see if a strategy change gives a better result. Its a special case of null hypothesis testing.\n",
        "    \n",
        "    e.g. click through rate increased due to redesign \n",
        "  \n",
        "  * Hypothesis test of correlation :\n",
        "    * Posit null hypothesis : The two variables are completely uncorrelated.\n",
        "    * Simulate data assuming null hypothesis is true\n",
        "    * Use pearson correlation, p, as test statistic\n",
        "    * Compute p-value as fraction of replicates that have pearson value at least as large as observed.\n",
        "\n",
        "\n",
        "\n",
        "\n",
        "\n"
      ]
    },
    {
      "cell_type": "markdown",
      "metadata": {
        "id": "oVFgRgg4LKZe"
      },
      "source": [
        "\n",
        "# Textual Vizualization - Reseach "
      ]
    },
    {
      "cell_type": "markdown",
      "metadata": {
        "id": "FOWMeZ9zLMUm"
      },
      "source": [
        "## Introduction to data visualization with Matplotlib"
      ]
    },
    {
      "cell_type": "markdown",
      "metadata": {
        "id": "dTOio9hjLp_J"
      },
      "source": [
        "* The main object oriented of matplotlib interface is provided through **pyplot** submodule.\n",
        "* `plt.subplots()` module when called creates `fig, ax` objects.\n",
        "  * `fig` - A container that holds everything that is seen on page\n",
        "  * `ax` - Canvas on which the data is visualized\n",
        "  * `plt.show()` - Shows figure with empty axes \n",
        "  * Plotting command is the method of axes object."
      ]
    },
    {
      "cell_type": "code",
      "metadata": {
        "id": "wnVPIHeFLb7j",
        "colab": {
          "base_uri": "https://localhost:8080/",
          "height": 375
        },
        "outputId": "e16ec6b1-4ebd-40cf-d044-1b6c1f37eb89"
      },
      "source": [
        "import matplotlib.pyplot as plt\n",
        "\n",
        "fig,ax = plt.subplots()\n",
        "stereo = stereo.groupby(by=['bias_type']).mean()\n",
        "ax.plot(stereo.index,stereo['flesch_score'])\n",
        "ax.set_xticklabels(stereo.index, rotation = 90)\n",
        "ax.set_ylabel('flesch_score')\n",
        "ax.set_title('2D line plot')\n",
        "plt.show()"
      ],
      "execution_count": null,
      "outputs": [
        {
          "output_type": "display_data",
          "data": {
            "image/png": "[encoded data removed]",
            "text/plain": [
              "<Figure size 432x288 with 1 Axes>"
            ]
          },
          "metadata": {
            "tags": [],
            "needs_background": "light"
          }
        }
      ]
    },
    {
      "cell_type": "markdown",
      "metadata": {
        "id": "k7UgYeez0fV8"
      },
      "source": [
        "* Add markers with `markers =\"o\"` in the `ax.plot`\n",
        "* Add line style with `linestyle = \"--\"`\n",
        "* Eliminate lines all togather using `linestyle = \"None\"`\n",
        "* Add color by using `color = 'r'`\n",
        "* Add title with `ax.set_title('..')`\n",
        "\n",
        "Comparison :\n",
        "* Add `plt.subplot(2,1)` to create 2 rows with two sub plots for comparison \n",
        "  * Enable `plt.subplot(2,1,sharey=True)` to get the same y-axis range between plots.\n"
      ]
    },
    {
      "cell_type": "code",
      "metadata": {
        "id": "Cjd6vSy99KGC"
      },
      "source": [
        "def line_plot(axes,x,y, color, xlabel, ylabel,linestyle = \"-\"):\n",
        "  axes.plot(x,y,color=color)\n",
        "  axes.set_xlabel(xlabel)\n",
        "  axes.set_ylabel(ylabel)"
      ],
      "execution_count": null,
      "outputs": []
    },
    {
      "cell_type": "code",
      "metadata": {
        "id": "2FkFcsXJxhea"
      },
      "source": [
        "def plot_timeseries(axes, x,y, color, xlabel, ylabel,linestyle = \"-\"):\n",
        "  axes.plot(x,y,color=color)\n",
        "  axes.set_xlabel(xlabel)\n",
        "  axes.set_ylabel(ylabel, color=color)\n",
        "  axes.tick_params('y', colors = color)"
      ],
      "execution_count": null,
      "outputs": []
    },
    {
      "cell_type": "code",
      "metadata": {
        "id": "SX5O4nCwYMjU"
      },
      "source": [
        "# fig,ax = plt.subplots()\n",
        "# line_plot(ax,stereo.neg,stereo['flesch_score'],'red', 'neg', 'flesch_score',linestyle = \"--\")\n",
        "# plt.show()"
      ],
      "execution_count": null,
      "outputs": []
    },
    {
      "cell_type": "markdown",
      "metadata": {
        "id": "4cdsICGd3SGu"
      },
      "source": [
        "Annotating time in data :\n",
        "* Annotate a feature with a label and an arrow pointing towards particular point of time in the plot.\n",
        "  * `ax.annotate(\"label\", xy=[pd.TimeStamp(\"...\"),y-value]`\n",
        "* Plot text at a particular position and point it to the exact x,y point \n",
        "  ```  \n",
        "  ax.annotate(\"label\", xy=(pd.TimeStamp(\"...\"),y-value),\n",
        "  xytext = (pd.Timestamp(),-0.2)\n",
        "  arrowprops={'arraowstyle\":\"->\",\"color\":\"gray\"})\n",
        "  ```\n",
        "\n"
      ]
    },
    {
      "cell_type": "markdown",
      "metadata": {
        "id": "DN5Nh_x067vX"
      },
      "source": [
        "Quantitative comparison : bar-charts\n",
        "\n",
        "* Shows **value of a variable in different conditions**.\n",
        "* Shows distribution of **single value across different variable** usefull **for comparison**\n",
        " \n",
        "  e.g.:\n",
        "\n",
        "    variable : age,gender...;\n",
        "\n",
        "    values : negative scores [lowest...Hightest]"
      ]
    },
    {
      "cell_type": "markdown",
      "metadata": {
        "id": "ljbRrWOW_Qk5"
      },
      "source": [
        ""
      ]
    },
    {
      "cell_type": "code",
      "metadata": {
        "colab": {
          "base_uri": "https://localhost:8080/",
          "height": 375
        },
        "id": "CJZINzlU77cA",
        "outputId": "0976f693-549b-452c-b16b-ce7bca5ff7e8"
      },
      "source": [
        " fig, ax = plt.subplots()\n",
        " ax.bar(stereo.index, stereo.neg)\n",
        " ax.set_xticklabels(stereo.index, rotation = 90)\n",
        " ax.set_ylabel(\"negative score\")\n",
        " ax.set_title('Bar chart')\n",
        " plt.show()"
      ],
      "execution_count": null,
      "outputs": [
        {
          "output_type": "display_data",
          "data": {
            "image/png": "[encoded data removed]",
            "text/plain": [
              "<Figure size 432x288 with 1 Axes>"
            ]
          },
          "metadata": {
            "tags": [],
            "needs_background": "light"
          }
        }
      ]
    },
    {
      "cell_type": "markdown",
      "metadata": {
        "id": "F-rFcAc8BSvD"
      },
      "source": [
        "Stacked bar chart"
      ]
    },
    {
      "cell_type": "code",
      "metadata": {
        "colab": {
          "base_uri": "https://localhost:8080/",
          "height": 375
        },
        "id": "UFOlEe6Q9xYP",
        "outputId": "413742b4-a6aa-4e0d-b533-4d8ddc93da5c"
      },
      "source": [
        "fig, ax = plt.subplots()\n",
        "ax.bar(stereo.index, stereo.pos, label = \"positive\")\n",
        "ax.bar(stereo.index, stereo.neg, bottom=stereo.pos, label = \"negative\")\n",
        "# ax.bar(stereo.index, stereo.neu, bottom=stereo.neg+stereo.pos, label = \"Neutral\")\n",
        "ax.set_xticklabels(stereo.index, rotation = 90)\n",
        "ax.set_title('Stacked bar chart')\n",
        "ax.set_ylabel(\"polarity scores\")\n",
        "ax.legend()\n",
        "plt.show()"
      ],
      "execution_count": null,
      "outputs": [
        {
          "output_type": "display_data",
          "data": {
            "image/png": "[encoded data removed]",
            "text/plain": [
              "<Figure size 432x288 with 1 Axes>"
            ]
          },
          "metadata": {
            "tags": [],
            "needs_background": "light"
          }
        }
      ]
    },
    {
      "cell_type": "code",
      "metadata": {
        "colab": {
          "base_uri": "https://localhost:8080/",
          "height": 281
        },
        "id": "T1T-Ub4tFSnE",
        "outputId": "0459d807-d4b5-48a2-b1a6-6f91090d92dd"
      },
      "source": [
        "fig, ax = plt.subplots()\n",
        "ax.bar(\"positive\", stereo.pos.mean(), label = \"positive\")\n",
        "ax.bar(\"negative\", stereo.neg.mean(),  label = \"negative\")\n",
        "ax.bar(\"neutral\", stereo.neu.mean(),  label = \"Neutral\")\n",
        "ax.set_title('polarity bar chart')\n",
        "ax.set_ylabel(\"polarity scores\")\n",
        "ax.legend()\n",
        "plt.show()"
      ],
      "execution_count": null,
      "outputs": [
        {
          "output_type": "display_data",
          "data": {
            "image/png": "[encoded data removed]",
            "text/plain": [
              "<Figure size 432x288 with 1 Axes>"
            ]
          },
          "metadata": {
            "tags": [],
            "needs_background": "light"
          }
        }
      ]
    },
    {
      "cell_type": "markdown",
      "metadata": {
        "id": "cqLEgGkRCkYC"
      },
      "source": [
        "Quantitative comparisons : Histograms\n",
        "\n",
        "* Shows entire distribution of values within variable."
      ]
    },
    {
      "cell_type": "code",
      "metadata": {
        "colab": {
          "base_uri": "https://localhost:8080/",
          "height": 295
        },
        "id": "x6iLuBk9_kbz",
        "outputId": "bbfdb42e-71a6-437d-e718-efd2334d6d29"
      },
      "source": [
        "fig, ax = plt.subplots()\n",
        "ax.hist(stereo['compound'], bins = 5)\n",
        "ax.set_xticklabels(['neg','pos','neu'],ma='center')\n",
        "ax.set_xlabel(\"polarity\")\n",
        "ax.set_title('Histogram')\n",
        "ax.set_ylabel(\"# of observations\")\n",
        "plt.show()"
      ],
      "execution_count": null,
      "outputs": [
        {
          "output_type": "display_data",
          "data": {
            "image/png": "[encoded data removed]",
            "text/plain": [
              "<Figure size 432x288 with 1 Axes>"
            ]
          },
          "metadata": {
            "tags": [],
            "needs_background": "light"
          }
        }
      ]
    },
    {
      "cell_type": "markdown",
      "metadata": {
        "id": "1FtJUx_obhMp"
      },
      "source": [
        "Statistical plotting:\n",
        "\n",
        "* A set of methods for using visualization to make comparison.\n",
        "* Adding error bars to bar charts gives additional information about the distribution of data.\n",
        "  * Summarize distribution of data as an additional marker using:  \n",
        "    * Standard deviation \n",
        "    * Mean \n"
      ]
    },
    {
      "cell_type": "code",
      "metadata": {
        "colab": {
          "base_uri": "https://localhost:8080/",
          "height": 281
        },
        "id": "PpfqMEqtM_vT",
        "outputId": "e1756e90-9fa7-4f7f-81bf-61bcbb19948d"
      },
      "source": [
        "fig, ax = plt.subplots()\n",
        "ax.bar(\"positive\", stereo.pos.mean(),yerr= stereo.pos.std(), label = \"positive\")\n",
        "ax.bar(\"negative\", stereo.neg.mean(),yerr= stereo.neg.std(),  label = \"negative\")\n",
        "# ax.bar(\"neutral\", stereo.neu.mean(), yerr= stereo.neu.std(), label = \"Neutral\")\n",
        "ax.set_ylabel(\"polarity scores\")\n",
        "ax.set_title('Eror bar with std')\n",
        "ax.legend()\n",
        "plt.show()"
      ],
      "execution_count": null,
      "outputs": [
        {
          "output_type": "display_data",
          "data": {
            "image/png": "[encoded data removed]",
            "text/plain": [
              "<Figure size 432x288 with 1 Axes>"
            ]
          },
          "metadata": {
            "tags": [],
            "needs_background": "light"
          }
        }
      ]
    },
    {
      "cell_type": "code",
      "metadata": {
        "colab": {
          "base_uri": "https://localhost:8080/",
          "height": 281
        },
        "id": "40IzAu_9e2GD",
        "outputId": "68107393-ca6e-4399-ea7f-15ae9a153d5e"
      },
      "source": [
        "fig, ax = plt.subplots()\n",
        "ax.boxplot([stereo.pos,stereo.neg])\n",
        "ax.set_xticklabels(['pos','neg'])\n",
        "ax.set_ylabel(\"polarity scores\")\n",
        "ax.set_title('Box plot')\n",
        "plt.show()"
      ],
      "execution_count": null,
      "outputs": [
        {
          "output_type": "display_data",
          "data": {
            "image/png": "[encoded data removed]",
            "text/plain": [
              "<Figure size 432x288 with 1 Axes>"
            ]
          },
          "metadata": {
            "tags": [],
            "needs_background": "light"
          }
        }
      ]
    },
    {
      "cell_type": "markdown",
      "metadata": {
        "id": "lQbjvSSPiYG8"
      },
      "source": [
        "If the data is guassian distributed then, the data points that are above whiskers (outliers) are above 99% of data.\n",
        " "
      ]
    },
    {
      "cell_type": "markdown",
      "metadata": {
        "id": "wMMZsPKTi3cQ"
      },
      "source": [
        "Quantitative comparison (bi-variate):\n",
        "* Involves comparison of two different variables\n"
      ]
    },
    {
      "cell_type": "code",
      "metadata": {
        "colab": {
          "base_uri": "https://localhost:8080/",
          "height": 295
        },
        "id": "VvJJvRBeh6mO",
        "outputId": "d1e7bead-3cab-4971-dae4-7feed5d9bb6e"
      },
      "source": [
        "fig, ax = plt.subplots()\n",
        "ax.scatter(stereo.pos, stereo.flesch_score, color = 'red', label = 'pos', alpha = 0.5)\n",
        "ax.scatter(stereo.neg, stereo.flesch_score,color ='blue', label = 'neg', alpha = 0.5)\n",
        "ax.set_xlabel(\"polarity\")\n",
        "ax.set_ylabel(\"readability\")\n",
        "ax.set_title(\"scatter plot\")\n",
        "ax.legend()\n",
        "plt.show()"
      ],
      "execution_count": null,
      "outputs": [
        {
          "output_type": "display_data",
          "data": {
            "image/png": "[encoded data removed]",
            "text/plain": [
              "<Figure size 432x288 with 1 Axes>"
            ]
          },
          "metadata": {
            "tags": [],
            "needs_background": "light"
          }
        }
      ]
    },
    {
      "cell_type": "markdown",
      "metadata": {
        "id": "GKdpB97ym4KU"
      },
      "source": [
        "Prepare figure:\n",
        "\n",
        "* **Choosing a style** :\n",
        "  * `plt.style.use('ggplot')`\n",
        "  * `plt.style.use('sns')`\n",
        "  * `plt.style.use('default')`\n",
        "  * Dark background are usually less visible\n",
        "  * Consider color blind  \n",
        "* **Sharing a figure** :\n",
        "  * `fig.savefig(\"filename.png\")` lossless compression\n",
        "  * Different formats = .jpg,..\n",
        "  * Quality can be controlled by `fig.savefig(\"filename.png\", quality = 50)`\n",
        "  * Vector graphics format svg used to edit different details of the plot by advanced softwares.\n",
        "  * Resolution controlled using `dpi = 300`\n",
        "    * Higher the number, the denser the figure\n",
        "  * Figure size `fig.set_size_inches([5,3])` width, height\n"
      ]
    },
    {
      "cell_type": "markdown",
      "metadata": {
        "id": "CbNpZoaZxyyE"
      },
      "source": [
        "### Compare single numberical variable across different categories:"
      ]
    },
    {
      "cell_type": "code",
      "metadata": {
        "id": "ULlEXuPjmsD_"
      },
      "source": [
        "# Automate figure with data\n",
        "def compare_single_variable(variable):\n",
        "  for bias in stereo.bias_type.unique():\n",
        "    bias_df = stereo[stereo.bias_type == bias]\n",
        "    ax.bar(bias, bias_df[variable].mean(), yerr = bias_df[variable].std())"
      ],
      "execution_count": null,
      "outputs": []
    },
    {
      "cell_type": "code",
      "metadata": {
        "colab": {
          "base_uri": "https://localhost:8080/",
          "height": 375
        },
        "id": "eIfO5_h0vF5B",
        "outputId": "62ce6a15-ed0b-4f2b-81fd-97b6fad17d31"
      },
      "source": [
        "fig,ax = plt.subplots()\n",
        "compare_single_variable('flesch_score')\n",
        "ax.set_ylabel(\"readability\")\n",
        "ax.set_title(\"Readability score across bias types\")\n",
        "ax.set_xticklabels(stereo.bias_type.unique(),rotation = 90)\n",
        "plt.show()  "
      ],
      "execution_count": null,
      "outputs": [
        {
          "output_type": "display_data",
          "data": {
            "image/png": "[encoded data removed]",
            "text/plain": [
              "<Figure size 432x288 with 1 Axes>"
            ]
          },
          "metadata": {
            "tags": [],
            "needs_background": "light"
          }
        }
      ]
    },
    {
      "cell_type": "code",
      "metadata": {
        "colab": {
          "base_uri": "https://localhost:8080/",
          "height": 375
        },
        "id": "v6kMj8a2wPCz",
        "outputId": "07d5b468-ad97-4d85-ea17-479a85ab15b0"
      },
      "source": [
        "fig,ax = plt.subplots()\n",
        "compare_single_variable('pos')\n",
        "ax.set_ylabel(\"positive score\")\n",
        "ax.set_xticklabels(stereo.bias_type.unique(),rotation = 90)\n",
        "ax.set_title(\"Positive score across bias types\")\n",
        "plt.show() "
      ],
      "execution_count": null,
      "outputs": [
        {
          "output_type": "display_data",
          "data": {
            "image/png": "[encoded data removed]",
            "text/plain": [
              "<Figure size 432x288 with 1 Axes>"
            ]
          },
          "metadata": {
            "tags": [],
            "needs_background": "light"
          }
        }
      ]
    },
    {
      "cell_type": "code",
      "metadata": {
        "colab": {
          "base_uri": "https://localhost:8080/",
          "height": 375
        },
        "id": "1u9Sd6_0w9_k",
        "outputId": "13155f03-6caf-4994-96c4-3c44fad884da"
      },
      "source": [
        "fig,ax = plt.subplots()\n",
        "compare_single_variable('neg')\n",
        "ax.set_ylabel(\"Negative score\")\n",
        "ax.set_xticklabels(stereo.bias_type.unique(),rotation = 90)\n",
        "ax.set_title(\"Negative score across bias types\")\n",
        "plt.show() "
      ],
      "execution_count": null,
      "outputs": [
        {
          "output_type": "display_data",
          "data": {
            "image/png": "[encoded data removed]",
            "text/plain": [
              "<Figure size 432x288 with 1 Axes>"
            ]
          },
          "metadata": {
            "tags": [],
            "needs_background": "light"
          }
        }
      ]
    },
    {
      "cell_type": "code",
      "metadata": {
        "colab": {
          "base_uri": "https://localhost:8080/",
          "height": 375
        },
        "id": "y33hAmj0xkWA",
        "outputId": "0f6a49b5-7066-46c3-fe25-263b6630a9ac"
      },
      "source": [
        "fig,ax = plt.subplots()\n",
        "compare_single_variable('neu')\n",
        "ax.set_ylabel(\"neutral score\")\n",
        "ax.set_xticklabels(stereo.bias_type.unique(),rotation = 90)\n",
        "ax.set_title(\"Neutral score across bias types\")\n",
        "plt.show() "
      ],
      "execution_count": null,
      "outputs": [
        {
          "output_type": "display_data",
          "data": {
            "image/png": "[encoded data removed]",
            "text/plain": [
              "<Figure size 432x288 with 1 Axes>"
            ]
          },
          "metadata": {
            "tags": [],
            "needs_background": "light"
          }
        }
      ]
    }
  ]
}
