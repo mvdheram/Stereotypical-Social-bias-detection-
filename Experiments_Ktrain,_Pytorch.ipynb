{
  "nbformat": 4,
  "nbformat_minor": 0,
  "metadata": {
    "colab": {
      "name": "Experiments Ktrain, Pytorch.ipynb",
      "provenance": [],
      "collapsed_sections": [],
      "include_colab_link": true
    },
    "kernelspec": {
      "name": "python3",
      "display_name": "Python 3"
    },
    "language_info": {
      "name": "python"
    },
    "widgets": {
      "application/vnd.jupyter.widget-state+json": {
        "300303f0bd594951b3dfa860fc9bdba5": {
          "model_module": "@jupyter-widgets/controls",
          "model_name": "HBoxModel",
          "state": {
            "_view_name": "HBoxView",
            "_dom_classes": [],
            "_model_name": "HBoxModel",
            "_view_module": "@jupyter-widgets/controls",
            "_model_module_version": "1.5.0",
            "_view_count": null,
            "_view_module_version": "1.5.0",
            "box_style": "",
            "layout": "IPY_MODEL_c244a410058d4bee9bb86243fd992600",
            "_model_module": "@jupyter-widgets/controls",
            "children": [
              "IPY_MODEL_c340ad1ed12f4149afc5e54e64a98969",
              "IPY_MODEL_bfb2ad7afc314b148c054350a155d980"
            ]
          }
        },
        "c244a410058d4bee9bb86243fd992600": {
          "model_module": "@jupyter-widgets/base",
          "model_name": "LayoutModel",
          "state": {
            "_view_name": "LayoutView",
            "grid_template_rows": null,
            "right": null,
            "justify_content": null,
            "_view_module": "@jupyter-widgets/base",
            "overflow": null,
            "_model_module_version": "1.2.0",
            "_view_count": null,
            "flex_flow": null,
            "width": null,
            "min_width": null,
            "border": null,
            "align_items": null,
            "bottom": null,
            "_model_module": "@jupyter-widgets/base",
            "top": null,
            "grid_column": null,
            "overflow_y": null,
            "overflow_x": null,
            "grid_auto_flow": null,
            "grid_area": null,
            "grid_template_columns": null,
            "flex": null,
            "_model_name": "LayoutModel",
            "justify_items": null,
            "grid_row": null,
            "max_height": null,
            "align_content": null,
            "visibility": null,
            "align_self": null,
            "height": null,
            "min_height": null,
            "padding": null,
            "grid_auto_rows": null,
            "grid_gap": null,
            "max_width": null,
            "order": null,
            "_view_module_version": "1.2.0",
            "grid_template_areas": null,
            "object_position": null,
            "object_fit": null,
            "grid_auto_columns": null,
            "margin": null,
            "display": null,
            "left": null
          }
        },
        "c340ad1ed12f4149afc5e54e64a98969": {
          "model_module": "@jupyter-widgets/controls",
          "model_name": "FloatProgressModel",
          "state": {
            "_view_name": "ProgressView",
            "style": "IPY_MODEL_a9517d5952854111883a133b66b2eb8b",
            "_dom_classes": [],
            "description": "Downloading: 100%",
            "_model_name": "FloatProgressModel",
            "bar_style": "success",
            "max": 570,
            "_view_module": "@jupyter-widgets/controls",
            "_model_module_version": "1.5.0",
            "value": 570,
            "_view_count": null,
            "_view_module_version": "1.5.0",
            "orientation": "horizontal",
            "min": 0,
            "description_tooltip": null,
            "_model_module": "@jupyter-widgets/controls",
            "layout": "IPY_MODEL_fb014e604fb64f6a9d12dda8c40aefe2"
          }
        },
        "bfb2ad7afc314b148c054350a155d980": {
          "model_module": "@jupyter-widgets/controls",
          "model_name": "HTMLModel",
          "state": {
            "_view_name": "HTMLView",
            "style": "IPY_MODEL_8122d09c6d3b448bba9b6ee6c8784096",
            "_dom_classes": [],
            "description": "",
            "_model_name": "HTMLModel",
            "placeholder": "​",
            "_view_module": "@jupyter-widgets/controls",
            "_model_module_version": "1.5.0",
            "value": " 570/570 [00:00&lt;00:00, 11.0kB/s]",
            "_view_count": null,
            "_view_module_version": "1.5.0",
            "description_tooltip": null,
            "_model_module": "@jupyter-widgets/controls",
            "layout": "IPY_MODEL_8b1dad37d5da48c0920e50079e4297d3"
          }
        },
        "a9517d5952854111883a133b66b2eb8b": {
          "model_module": "@jupyter-widgets/controls",
          "model_name": "ProgressStyleModel",
          "state": {
            "_view_name": "StyleView",
            "_model_name": "ProgressStyleModel",
            "description_width": "initial",
            "_view_module": "@jupyter-widgets/base",
            "_model_module_version": "1.5.0",
            "_view_count": null,
            "_view_module_version": "1.2.0",
            "bar_color": null,
            "_model_module": "@jupyter-widgets/controls"
          }
        },
        "fb014e604fb64f6a9d12dda8c40aefe2": {
          "model_module": "@jupyter-widgets/base",
          "model_name": "LayoutModel",
          "state": {
            "_view_name": "LayoutView",
            "grid_template_rows": null,
            "right": null,
            "justify_content": null,
            "_view_module": "@jupyter-widgets/base",
            "overflow": null,
            "_model_module_version": "1.2.0",
            "_view_count": null,
            "flex_flow": null,
            "width": null,
            "min_width": null,
            "border": null,
            "align_items": null,
            "bottom": null,
            "_model_module": "@jupyter-widgets/base",
            "top": null,
            "grid_column": null,
            "overflow_y": null,
            "overflow_x": null,
            "grid_auto_flow": null,
            "grid_area": null,
            "grid_template_columns": null,
            "flex": null,
            "_model_name": "LayoutModel",
            "justify_items": null,
            "grid_row": null,
            "max_height": null,
            "align_content": null,
            "visibility": null,
            "align_self": null,
            "height": null,
            "min_height": null,
            "padding": null,
            "grid_auto_rows": null,
            "grid_gap": null,
            "max_width": null,
            "order": null,
            "_view_module_version": "1.2.0",
            "grid_template_areas": null,
            "object_position": null,
            "object_fit": null,
            "grid_auto_columns": null,
            "margin": null,
            "display": null,
            "left": null
          }
        },
        "8122d09c6d3b448bba9b6ee6c8784096": {
          "model_module": "@jupyter-widgets/controls",
          "model_name": "DescriptionStyleModel",
          "state": {
            "_view_name": "StyleView",
            "_model_name": "DescriptionStyleModel",
            "description_width": "",
            "_view_module": "@jupyter-widgets/base",
            "_model_module_version": "1.5.0",
            "_view_count": null,
            "_view_module_version": "1.2.0",
            "_model_module": "@jupyter-widgets/controls"
          }
        },
        "8b1dad37d5da48c0920e50079e4297d3": {
          "model_module": "@jupyter-widgets/base",
          "model_name": "LayoutModel",
          "state": {
            "_view_name": "LayoutView",
            "grid_template_rows": null,
            "right": null,
            "justify_content": null,
            "_view_module": "@jupyter-widgets/base",
            "overflow": null,
            "_model_module_version": "1.2.0",
            "_view_count": null,
            "flex_flow": null,
            "width": null,
            "min_width": null,
            "border": null,
            "align_items": null,
            "bottom": null,
            "_model_module": "@jupyter-widgets/base",
            "top": null,
            "grid_column": null,
            "overflow_y": null,
            "overflow_x": null,
            "grid_auto_flow": null,
            "grid_area": null,
            "grid_template_columns": null,
            "flex": null,
            "_model_name": "LayoutModel",
            "justify_items": null,
            "grid_row": null,
            "max_height": null,
            "align_content": null,
            "visibility": null,
            "align_self": null,
            "height": null,
            "min_height": null,
            "padding": null,
            "grid_auto_rows": null,
            "grid_gap": null,
            "max_width": null,
            "order": null,
            "_view_module_version": "1.2.0",
            "grid_template_areas": null,
            "object_position": null,
            "object_fit": null,
            "grid_auto_columns": null,
            "margin": null,
            "display": null,
            "left": null
          }
        },
        "7fa26b1a563d480e9549af42479f1006": {
          "model_module": "@jupyter-widgets/controls",
          "model_name": "HBoxModel",
          "state": {
            "_view_name": "HBoxView",
            "_dom_classes": [],
            "_model_name": "HBoxModel",
            "_view_module": "@jupyter-widgets/controls",
            "_model_module_version": "1.5.0",
            "_view_count": null,
            "_view_module_version": "1.5.0",
            "box_style": "",
            "layout": "IPY_MODEL_0fc3a861fde04481b8b69ecf2ff6b18d",
            "_model_module": "@jupyter-widgets/controls",
            "children": [
              "IPY_MODEL_d340e7e0fd6e4b7a9d70f4a3d1c0fb52",
              "IPY_MODEL_ad1be0d47bf24c1db2bd7ba209b477d3"
            ]
          }
        },
        "0fc3a861fde04481b8b69ecf2ff6b18d": {
          "model_module": "@jupyter-widgets/base",
          "model_name": "LayoutModel",
          "state": {
            "_view_name": "LayoutView",
            "grid_template_rows": null,
            "right": null,
            "justify_content": null,
            "_view_module": "@jupyter-widgets/base",
            "overflow": null,
            "_model_module_version": "1.2.0",
            "_view_count": null,
            "flex_flow": null,
            "width": null,
            "min_width": null,
            "border": null,
            "align_items": null,
            "bottom": null,
            "_model_module": "@jupyter-widgets/base",
            "top": null,
            "grid_column": null,
            "overflow_y": null,
            "overflow_x": null,
            "grid_auto_flow": null,
            "grid_area": null,
            "grid_template_columns": null,
            "flex": null,
            "_model_name": "LayoutModel",
            "justify_items": null,
            "grid_row": null,
            "max_height": null,
            "align_content": null,
            "visibility": null,
            "align_self": null,
            "height": null,
            "min_height": null,
            "padding": null,
            "grid_auto_rows": null,
            "grid_gap": null,
            "max_width": null,
            "order": null,
            "_view_module_version": "1.2.0",
            "grid_template_areas": null,
            "object_position": null,
            "object_fit": null,
            "grid_auto_columns": null,
            "margin": null,
            "display": null,
            "left": null
          }
        },
        "d340e7e0fd6e4b7a9d70f4a3d1c0fb52": {
          "model_module": "@jupyter-widgets/controls",
          "model_name": "FloatProgressModel",
          "state": {
            "_view_name": "ProgressView",
            "style": "IPY_MODEL_82edd96c3da9437ea71ea200150d8e43",
            "_dom_classes": [],
            "description": "Downloading: 100%",
            "_model_name": "FloatProgressModel",
            "bar_style": "success",
            "max": 440473133,
            "_view_module": "@jupyter-widgets/controls",
            "_model_module_version": "1.5.0",
            "value": 440473133,
            "_view_count": null,
            "_view_module_version": "1.5.0",
            "orientation": "horizontal",
            "min": 0,
            "description_tooltip": null,
            "_model_module": "@jupyter-widgets/controls",
            "layout": "IPY_MODEL_5cc549b36c094ddbb2bcbd38149e1e58"
          }
        },
        "ad1be0d47bf24c1db2bd7ba209b477d3": {
          "model_module": "@jupyter-widgets/controls",
          "model_name": "HTMLModel",
          "state": {
            "_view_name": "HTMLView",
            "style": "IPY_MODEL_c0a46a0b1ae44250b3f7125aa172dd35",
            "_dom_classes": [],
            "description": "",
            "_model_name": "HTMLModel",
            "placeholder": "​",
            "_view_module": "@jupyter-widgets/controls",
            "_model_module_version": "1.5.0",
            "value": " 440M/440M [00:09&lt;00:00, 45.2MB/s]",
            "_view_count": null,
            "_view_module_version": "1.5.0",
            "description_tooltip": null,
            "_model_module": "@jupyter-widgets/controls",
            "layout": "IPY_MODEL_08100b88dcf94a1f8b43f4defa752c6c"
          }
        },
        "82edd96c3da9437ea71ea200150d8e43": {
          "model_module": "@jupyter-widgets/controls",
          "model_name": "ProgressStyleModel",
          "state": {
            "_view_name": "StyleView",
            "_model_name": "ProgressStyleModel",
            "description_width": "initial",
            "_view_module": "@jupyter-widgets/base",
            "_model_module_version": "1.5.0",
            "_view_count": null,
            "_view_module_version": "1.2.0",
            "bar_color": null,
            "_model_module": "@jupyter-widgets/controls"
          }
        },
        "5cc549b36c094ddbb2bcbd38149e1e58": {
          "model_module": "@jupyter-widgets/base",
          "model_name": "LayoutModel",
          "state": {
            "_view_name": "LayoutView",
            "grid_template_rows": null,
            "right": null,
            "justify_content": null,
            "_view_module": "@jupyter-widgets/base",
            "overflow": null,
            "_model_module_version": "1.2.0",
            "_view_count": null,
            "flex_flow": null,
            "width": null,
            "min_width": null,
            "border": null,
            "align_items": null,
            "bottom": null,
            "_model_module": "@jupyter-widgets/base",
            "top": null,
            "grid_column": null,
            "overflow_y": null,
            "overflow_x": null,
            "grid_auto_flow": null,
            "grid_area": null,
            "grid_template_columns": null,
            "flex": null,
            "_model_name": "LayoutModel",
            "justify_items": null,
            "grid_row": null,
            "max_height": null,
            "align_content": null,
            "visibility": null,
            "align_self": null,
            "height": null,
            "min_height": null,
            "padding": null,
            "grid_auto_rows": null,
            "grid_gap": null,
            "max_width": null,
            "order": null,
            "_view_module_version": "1.2.0",
            "grid_template_areas": null,
            "object_position": null,
            "object_fit": null,
            "grid_auto_columns": null,
            "margin": null,
            "display": null,
            "left": null
          }
        },
        "c0a46a0b1ae44250b3f7125aa172dd35": {
          "model_module": "@jupyter-widgets/controls",
          "model_name": "DescriptionStyleModel",
          "state": {
            "_view_name": "StyleView",
            "_model_name": "DescriptionStyleModel",
            "description_width": "",
            "_view_module": "@jupyter-widgets/base",
            "_model_module_version": "1.5.0",
            "_view_count": null,
            "_view_module_version": "1.2.0",
            "_model_module": "@jupyter-widgets/controls"
          }
        },
        "08100b88dcf94a1f8b43f4defa752c6c": {
          "model_module": "@jupyter-widgets/base",
          "model_name": "LayoutModel",
          "state": {
            "_view_name": "LayoutView",
            "grid_template_rows": null,
            "right": null,
            "justify_content": null,
            "_view_module": "@jupyter-widgets/base",
            "overflow": null,
            "_model_module_version": "1.2.0",
            "_view_count": null,
            "flex_flow": null,
            "width": null,
            "min_width": null,
            "border": null,
            "align_items": null,
            "bottom": null,
            "_model_module": "@jupyter-widgets/base",
            "top": null,
            "grid_column": null,
            "overflow_y": null,
            "overflow_x": null,
            "grid_auto_flow": null,
            "grid_area": null,
            "grid_template_columns": null,
            "flex": null,
            "_model_name": "LayoutModel",
            "justify_items": null,
            "grid_row": null,
            "max_height": null,
            "align_content": null,
            "visibility": null,
            "align_self": null,
            "height": null,
            "min_height": null,
            "padding": null,
            "grid_auto_rows": null,
            "grid_gap": null,
            "max_width": null,
            "order": null,
            "_view_module_version": "1.2.0",
            "grid_template_areas": null,
            "object_position": null,
            "object_fit": null,
            "grid_auto_columns": null,
            "margin": null,
            "display": null,
            "left": null
          }
        },
        "3503df6bc4c0464a9d5466683c690ff1": {
          "model_module": "@jupyter-widgets/controls",
          "model_name": "HBoxModel",
          "state": {
            "_view_name": "HBoxView",
            "_dom_classes": [],
            "_model_name": "HBoxModel",
            "_view_module": "@jupyter-widgets/controls",
            "_model_module_version": "1.5.0",
            "_view_count": null,
            "_view_module_version": "1.5.0",
            "box_style": "",
            "layout": "IPY_MODEL_c134000cbc4444f49c8546eed665e0e7",
            "_model_module": "@jupyter-widgets/controls",
            "children": [
              "IPY_MODEL_a8f40f6c5bcf47dca9b047a19b42ab31",
              "IPY_MODEL_629a9e13fdde4c6088c96a8c43562489"
            ]
          }
        },
        "c134000cbc4444f49c8546eed665e0e7": {
          "model_module": "@jupyter-widgets/base",
          "model_name": "LayoutModel",
          "state": {
            "_view_name": "LayoutView",
            "grid_template_rows": null,
            "right": null,
            "justify_content": null,
            "_view_module": "@jupyter-widgets/base",
            "overflow": null,
            "_model_module_version": "1.2.0",
            "_view_count": null,
            "flex_flow": null,
            "width": null,
            "min_width": null,
            "border": null,
            "align_items": null,
            "bottom": null,
            "_model_module": "@jupyter-widgets/base",
            "top": null,
            "grid_column": null,
            "overflow_y": null,
            "overflow_x": null,
            "grid_auto_flow": null,
            "grid_area": null,
            "grid_template_columns": null,
            "flex": null,
            "_model_name": "LayoutModel",
            "justify_items": null,
            "grid_row": null,
            "max_height": null,
            "align_content": null,
            "visibility": null,
            "align_self": null,
            "height": null,
            "min_height": null,
            "padding": null,
            "grid_auto_rows": null,
            "grid_gap": null,
            "max_width": null,
            "order": null,
            "_view_module_version": "1.2.0",
            "grid_template_areas": null,
            "object_position": null,
            "object_fit": null,
            "grid_auto_columns": null,
            "margin": null,
            "display": null,
            "left": null
          }
        },
        "a8f40f6c5bcf47dca9b047a19b42ab31": {
          "model_module": "@jupyter-widgets/controls",
          "model_name": "FloatProgressModel",
          "state": {
            "_view_name": "ProgressView",
            "style": "IPY_MODEL_c9db70003da54994a8f8a06b2850c735",
            "_dom_classes": [],
            "description": "Downloading: 100%",
            "_model_name": "FloatProgressModel",
            "bar_style": "success",
            "max": 231508,
            "_view_module": "@jupyter-widgets/controls",
            "_model_module_version": "1.5.0",
            "value": 231508,
            "_view_count": null,
            "_view_module_version": "1.5.0",
            "orientation": "horizontal",
            "min": 0,
            "description_tooltip": null,
            "_model_module": "@jupyter-widgets/controls",
            "layout": "IPY_MODEL_71862f36e08949909a846cc5bb63e439"
          }
        },
        "629a9e13fdde4c6088c96a8c43562489": {
          "model_module": "@jupyter-widgets/controls",
          "model_name": "HTMLModel",
          "state": {
            "_view_name": "HTMLView",
            "style": "IPY_MODEL_29e424d2599d4f6ca2bded9959e045bc",
            "_dom_classes": [],
            "description": "",
            "_model_name": "HTMLModel",
            "placeholder": "​",
            "_view_module": "@jupyter-widgets/controls",
            "_model_module_version": "1.5.0",
            "value": " 232k/232k [00:00&lt;00:00, 919kB/s]",
            "_view_count": null,
            "_view_module_version": "1.5.0",
            "description_tooltip": null,
            "_model_module": "@jupyter-widgets/controls",
            "layout": "IPY_MODEL_66d3a467e471486dae7e0cee57b508ba"
          }
        },
        "c9db70003da54994a8f8a06b2850c735": {
          "model_module": "@jupyter-widgets/controls",
          "model_name": "ProgressStyleModel",
          "state": {
            "_view_name": "StyleView",
            "_model_name": "ProgressStyleModel",
            "description_width": "initial",
            "_view_module": "@jupyter-widgets/base",
            "_model_module_version": "1.5.0",
            "_view_count": null,
            "_view_module_version": "1.2.0",
            "bar_color": null,
            "_model_module": "@jupyter-widgets/controls"
          }
        },
        "71862f36e08949909a846cc5bb63e439": {
          "model_module": "@jupyter-widgets/base",
          "model_name": "LayoutModel",
          "state": {
            "_view_name": "LayoutView",
            "grid_template_rows": null,
            "right": null,
            "justify_content": null,
            "_view_module": "@jupyter-widgets/base",
            "overflow": null,
            "_model_module_version": "1.2.0",
            "_view_count": null,
            "flex_flow": null,
            "width": null,
            "min_width": null,
            "border": null,
            "align_items": null,
            "bottom": null,
            "_model_module": "@jupyter-widgets/base",
            "top": null,
            "grid_column": null,
            "overflow_y": null,
            "overflow_x": null,
            "grid_auto_flow": null,
            "grid_area": null,
            "grid_template_columns": null,
            "flex": null,
            "_model_name": "LayoutModel",
            "justify_items": null,
            "grid_row": null,
            "max_height": null,
            "align_content": null,
            "visibility": null,
            "align_self": null,
            "height": null,
            "min_height": null,
            "padding": null,
            "grid_auto_rows": null,
            "grid_gap": null,
            "max_width": null,
            "order": null,
            "_view_module_version": "1.2.0",
            "grid_template_areas": null,
            "object_position": null,
            "object_fit": null,
            "grid_auto_columns": null,
            "margin": null,
            "display": null,
            "left": null
          }
        },
        "29e424d2599d4f6ca2bded9959e045bc": {
          "model_module": "@jupyter-widgets/controls",
          "model_name": "DescriptionStyleModel",
          "state": {
            "_view_name": "StyleView",
            "_model_name": "DescriptionStyleModel",
            "description_width": "",
            "_view_module": "@jupyter-widgets/base",
            "_model_module_version": "1.5.0",
            "_view_count": null,
            "_view_module_version": "1.2.0",
            "_model_module": "@jupyter-widgets/controls"
          }
        },
        "66d3a467e471486dae7e0cee57b508ba": {
          "model_module": "@jupyter-widgets/base",
          "model_name": "LayoutModel",
          "state": {
            "_view_name": "LayoutView",
            "grid_template_rows": null,
            "right": null,
            "justify_content": null,
            "_view_module": "@jupyter-widgets/base",
            "overflow": null,
            "_model_module_version": "1.2.0",
            "_view_count": null,
            "flex_flow": null,
            "width": null,
            "min_width": null,
            "border": null,
            "align_items": null,
            "bottom": null,
            "_model_module": "@jupyter-widgets/base",
            "top": null,
            "grid_column": null,
            "overflow_y": null,
            "overflow_x": null,
            "grid_auto_flow": null,
            "grid_area": null,
            "grid_template_columns": null,
            "flex": null,
            "_model_name": "LayoutModel",
            "justify_items": null,
            "grid_row": null,
            "max_height": null,
            "align_content": null,
            "visibility": null,
            "align_self": null,
            "height": null,
            "min_height": null,
            "padding": null,
            "grid_auto_rows": null,
            "grid_gap": null,
            "max_width": null,
            "order": null,
            "_view_module_version": "1.2.0",
            "grid_template_areas": null,
            "object_position": null,
            "object_fit": null,
            "grid_auto_columns": null,
            "margin": null,
            "display": null,
            "left": null
          }
        },
        "1deb724a4e204c4fb8ed011aeb9be64c": {
          "model_module": "@jupyter-widgets/controls",
          "model_name": "HBoxModel",
          "state": {
            "_view_name": "HBoxView",
            "_dom_classes": [],
            "_model_name": "HBoxModel",
            "_view_module": "@jupyter-widgets/controls",
            "_model_module_version": "1.5.0",
            "_view_count": null,
            "_view_module_version": "1.5.0",
            "box_style": "",
            "layout": "IPY_MODEL_ad73c371d0664e0dbe673ba313545891",
            "_model_module": "@jupyter-widgets/controls",
            "children": [
              "IPY_MODEL_72f5243d3ed948a2b4d4e988d7fdce23",
              "IPY_MODEL_7ed0170f6b8444da937548aaa29f3683"
            ]
          }
        },
        "ad73c371d0664e0dbe673ba313545891": {
          "model_module": "@jupyter-widgets/base",
          "model_name": "LayoutModel",
          "state": {
            "_view_name": "LayoutView",
            "grid_template_rows": null,
            "right": null,
            "justify_content": null,
            "_view_module": "@jupyter-widgets/base",
            "overflow": null,
            "_model_module_version": "1.2.0",
            "_view_count": null,
            "flex_flow": null,
            "width": null,
            "min_width": null,
            "border": null,
            "align_items": null,
            "bottom": null,
            "_model_module": "@jupyter-widgets/base",
            "top": null,
            "grid_column": null,
            "overflow_y": null,
            "overflow_x": null,
            "grid_auto_flow": null,
            "grid_area": null,
            "grid_template_columns": null,
            "flex": null,
            "_model_name": "LayoutModel",
            "justify_items": null,
            "grid_row": null,
            "max_height": null,
            "align_content": null,
            "visibility": null,
            "align_self": null,
            "height": null,
            "min_height": null,
            "padding": null,
            "grid_auto_rows": null,
            "grid_gap": null,
            "max_width": null,
            "order": null,
            "_view_module_version": "1.2.0",
            "grid_template_areas": null,
            "object_position": null,
            "object_fit": null,
            "grid_auto_columns": null,
            "margin": null,
            "display": null,
            "left": null
          }
        },
        "72f5243d3ed948a2b4d4e988d7fdce23": {
          "model_module": "@jupyter-widgets/controls",
          "model_name": "FloatProgressModel",
          "state": {
            "_view_name": "ProgressView",
            "style": "IPY_MODEL_3998852b58d740609fd73477f894850c",
            "_dom_classes": [],
            "description": "Downloading: 100%",
            "_model_name": "FloatProgressModel",
            "bar_style": "success",
            "max": 466062,
            "_view_module": "@jupyter-widgets/controls",
            "_model_module_version": "1.5.0",
            "value": 466062,
            "_view_count": null,
            "_view_module_version": "1.5.0",
            "orientation": "horizontal",
            "min": 0,
            "description_tooltip": null,
            "_model_module": "@jupyter-widgets/controls",
            "layout": "IPY_MODEL_b05cb93047b849c4bdf352c5bb07ef62"
          }
        },
        "7ed0170f6b8444da937548aaa29f3683": {
          "model_module": "@jupyter-widgets/controls",
          "model_name": "HTMLModel",
          "state": {
            "_view_name": "HTMLView",
            "style": "IPY_MODEL_9b0ac79707c24d2d855fa125f73d299d",
            "_dom_classes": [],
            "description": "",
            "_model_name": "HTMLModel",
            "placeholder": "​",
            "_view_module": "@jupyter-widgets/controls",
            "_model_module_version": "1.5.0",
            "value": " 466k/466k [00:00&lt;00:00, 3.29MB/s]",
            "_view_count": null,
            "_view_module_version": "1.5.0",
            "description_tooltip": null,
            "_model_module": "@jupyter-widgets/controls",
            "layout": "IPY_MODEL_df7240affb6549239ba04651baf4c53c"
          }
        },
        "3998852b58d740609fd73477f894850c": {
          "model_module": "@jupyter-widgets/controls",
          "model_name": "ProgressStyleModel",
          "state": {
            "_view_name": "StyleView",
            "_model_name": "ProgressStyleModel",
            "description_width": "initial",
            "_view_module": "@jupyter-widgets/base",
            "_model_module_version": "1.5.0",
            "_view_count": null,
            "_view_module_version": "1.2.0",
            "bar_color": null,
            "_model_module": "@jupyter-widgets/controls"
          }
        },
        "b05cb93047b849c4bdf352c5bb07ef62": {
          "model_module": "@jupyter-widgets/base",
          "model_name": "LayoutModel",
          "state": {
            "_view_name": "LayoutView",
            "grid_template_rows": null,
            "right": null,
            "justify_content": null,
            "_view_module": "@jupyter-widgets/base",
            "overflow": null,
            "_model_module_version": "1.2.0",
            "_view_count": null,
            "flex_flow": null,
            "width": null,
            "min_width": null,
            "border": null,
            "align_items": null,
            "bottom": null,
            "_model_module": "@jupyter-widgets/base",
            "top": null,
            "grid_column": null,
            "overflow_y": null,
            "overflow_x": null,
            "grid_auto_flow": null,
            "grid_area": null,
            "grid_template_columns": null,
            "flex": null,
            "_model_name": "LayoutModel",
            "justify_items": null,
            "grid_row": null,
            "max_height": null,
            "align_content": null,
            "visibility": null,
            "align_self": null,
            "height": null,
            "min_height": null,
            "padding": null,
            "grid_auto_rows": null,
            "grid_gap": null,
            "max_width": null,
            "order": null,
            "_view_module_version": "1.2.0",
            "grid_template_areas": null,
            "object_position": null,
            "object_fit": null,
            "grid_auto_columns": null,
            "margin": null,
            "display": null,
            "left": null
          }
        },
        "9b0ac79707c24d2d855fa125f73d299d": {
          "model_module": "@jupyter-widgets/controls",
          "model_name": "DescriptionStyleModel",
          "state": {
            "_view_name": "StyleView",
            "_model_name": "DescriptionStyleModel",
            "description_width": "",
            "_view_module": "@jupyter-widgets/base",
            "_model_module_version": "1.5.0",
            "_view_count": null,
            "_view_module_version": "1.2.0",
            "_model_module": "@jupyter-widgets/controls"
          }
        },
        "df7240affb6549239ba04651baf4c53c": {
          "model_module": "@jupyter-widgets/base",
          "model_name": "LayoutModel",
          "state": {
            "_view_name": "LayoutView",
            "grid_template_rows": null,
            "right": null,
            "justify_content": null,
            "_view_module": "@jupyter-widgets/base",
            "overflow": null,
            "_model_module_version": "1.2.0",
            "_view_count": null,
            "flex_flow": null,
            "width": null,
            "min_width": null,
            "border": null,
            "align_items": null,
            "bottom": null,
            "_model_module": "@jupyter-widgets/base",
            "top": null,
            "grid_column": null,
            "overflow_y": null,
            "overflow_x": null,
            "grid_auto_flow": null,
            "grid_area": null,
            "grid_template_columns": null,
            "flex": null,
            "_model_name": "LayoutModel",
            "justify_items": null,
            "grid_row": null,
            "max_height": null,
            "align_content": null,
            "visibility": null,
            "align_self": null,
            "height": null,
            "min_height": null,
            "padding": null,
            "grid_auto_rows": null,
            "grid_gap": null,
            "max_width": null,
            "order": null,
            "_view_module_version": "1.2.0",
            "grid_template_areas": null,
            "object_position": null,
            "object_fit": null,
            "grid_auto_columns": null,
            "margin": null,
            "display": null,
            "left": null
          }
        },
        "bf370d242d7c4da1bb40ea59f45cabba": {
          "model_module": "@jupyter-widgets/controls",
          "model_name": "HBoxModel",
          "state": {
            "_view_name": "HBoxView",
            "_dom_classes": [],
            "_model_name": "HBoxModel",
            "_view_module": "@jupyter-widgets/controls",
            "_model_module_version": "1.5.0",
            "_view_count": null,
            "_view_module_version": "1.5.0",
            "box_style": "",
            "layout": "IPY_MODEL_9844eba09bb242b2bb9ab64b170bef8a",
            "_model_module": "@jupyter-widgets/controls",
            "children": [
              "IPY_MODEL_0bf63613bd3e468bafdf4b5918d4456b",
              "IPY_MODEL_612ba1eb75f8487e988644c1b82688b5"
            ]
          }
        },
        "9844eba09bb242b2bb9ab64b170bef8a": {
          "model_module": "@jupyter-widgets/base",
          "model_name": "LayoutModel",
          "state": {
            "_view_name": "LayoutView",
            "grid_template_rows": null,
            "right": null,
            "justify_content": null,
            "_view_module": "@jupyter-widgets/base",
            "overflow": null,
            "_model_module_version": "1.2.0",
            "_view_count": null,
            "flex_flow": null,
            "width": null,
            "min_width": null,
            "border": null,
            "align_items": null,
            "bottom": null,
            "_model_module": "@jupyter-widgets/base",
            "top": null,
            "grid_column": null,
            "overflow_y": null,
            "overflow_x": null,
            "grid_auto_flow": null,
            "grid_area": null,
            "grid_template_columns": null,
            "flex": null,
            "_model_name": "LayoutModel",
            "justify_items": null,
            "grid_row": null,
            "max_height": null,
            "align_content": null,
            "visibility": null,
            "align_self": null,
            "height": null,
            "min_height": null,
            "padding": null,
            "grid_auto_rows": null,
            "grid_gap": null,
            "max_width": null,
            "order": null,
            "_view_module_version": "1.2.0",
            "grid_template_areas": null,
            "object_position": null,
            "object_fit": null,
            "grid_auto_columns": null,
            "margin": null,
            "display": null,
            "left": null
          }
        },
        "0bf63613bd3e468bafdf4b5918d4456b": {
          "model_module": "@jupyter-widgets/controls",
          "model_name": "FloatProgressModel",
          "state": {
            "_view_name": "ProgressView",
            "style": "IPY_MODEL_047900257a34471d9e20585865e2d2f5",
            "_dom_classes": [],
            "description": "Downloading: 100%",
            "_model_name": "FloatProgressModel",
            "bar_style": "success",
            "max": 28,
            "_view_module": "@jupyter-widgets/controls",
            "_model_module_version": "1.5.0",
            "value": 28,
            "_view_count": null,
            "_view_module_version": "1.5.0",
            "orientation": "horizontal",
            "min": 0,
            "description_tooltip": null,
            "_model_module": "@jupyter-widgets/controls",
            "layout": "IPY_MODEL_1bbec0e95b5c4bca959264a683f72449"
          }
        },
        "612ba1eb75f8487e988644c1b82688b5": {
          "model_module": "@jupyter-widgets/controls",
          "model_name": "HTMLModel",
          "state": {
            "_view_name": "HTMLView",
            "style": "IPY_MODEL_8b8c074466084bcc94eab34a5af36974",
            "_dom_classes": [],
            "description": "",
            "_model_name": "HTMLModel",
            "placeholder": "​",
            "_view_module": "@jupyter-widgets/controls",
            "_model_module_version": "1.5.0",
            "value": " 28.0/28.0 [00:04&lt;00:00, 6.36B/s]",
            "_view_count": null,
            "_view_module_version": "1.5.0",
            "description_tooltip": null,
            "_model_module": "@jupyter-widgets/controls",
            "layout": "IPY_MODEL_dad72fd2053a4a4e82680e3cf3471855"
          }
        },
        "047900257a34471d9e20585865e2d2f5": {
          "model_module": "@jupyter-widgets/controls",
          "model_name": "ProgressStyleModel",
          "state": {
            "_view_name": "StyleView",
            "_model_name": "ProgressStyleModel",
            "description_width": "initial",
            "_view_module": "@jupyter-widgets/base",
            "_model_module_version": "1.5.0",
            "_view_count": null,
            "_view_module_version": "1.2.0",
            "bar_color": null,
            "_model_module": "@jupyter-widgets/controls"
          }
        },
        "1bbec0e95b5c4bca959264a683f72449": {
          "model_module": "@jupyter-widgets/base",
          "model_name": "LayoutModel",
          "state": {
            "_view_name": "LayoutView",
            "grid_template_rows": null,
            "right": null,
            "justify_content": null,
            "_view_module": "@jupyter-widgets/base",
            "overflow": null,
            "_model_module_version": "1.2.0",
            "_view_count": null,
            "flex_flow": null,
            "width": null,
            "min_width": null,
            "border": null,
            "align_items": null,
            "bottom": null,
            "_model_module": "@jupyter-widgets/base",
            "top": null,
            "grid_column": null,
            "overflow_y": null,
            "overflow_x": null,
            "grid_auto_flow": null,
            "grid_area": null,
            "grid_template_columns": null,
            "flex": null,
            "_model_name": "LayoutModel",
            "justify_items": null,
            "grid_row": null,
            "max_height": null,
            "align_content": null,
            "visibility": null,
            "align_self": null,
            "height": null,
            "min_height": null,
            "padding": null,
            "grid_auto_rows": null,
            "grid_gap": null,
            "max_width": null,
            "order": null,
            "_view_module_version": "1.2.0",
            "grid_template_areas": null,
            "object_position": null,
            "object_fit": null,
            "grid_auto_columns": null,
            "margin": null,
            "display": null,
            "left": null
          }
        },
        "8b8c074466084bcc94eab34a5af36974": {
          "model_module": "@jupyter-widgets/controls",
          "model_name": "DescriptionStyleModel",
          "state": {
            "_view_name": "StyleView",
            "_model_name": "DescriptionStyleModel",
            "description_width": "",
            "_view_module": "@jupyter-widgets/base",
            "_model_module_version": "1.5.0",
            "_view_count": null,
            "_view_module_version": "1.2.0",
            "_model_module": "@jupyter-widgets/controls"
          }
        },
        "dad72fd2053a4a4e82680e3cf3471855": {
          "model_module": "@jupyter-widgets/base",
          "model_name": "LayoutModel",
          "state": {
            "_view_name": "LayoutView",
            "grid_template_rows": null,
            "right": null,
            "justify_content": null,
            "_view_module": "@jupyter-widgets/base",
            "overflow": null,
            "_model_module_version": "1.2.0",
            "_view_count": null,
            "flex_flow": null,
            "width": null,
            "min_width": null,
            "border": null,
            "align_items": null,
            "bottom": null,
            "_model_module": "@jupyter-widgets/base",
            "top": null,
            "grid_column": null,
            "overflow_y": null,
            "overflow_x": null,
            "grid_auto_flow": null,
            "grid_area": null,
            "grid_template_columns": null,
            "flex": null,
            "_model_name": "LayoutModel",
            "justify_items": null,
            "grid_row": null,
            "max_height": null,
            "align_content": null,
            "visibility": null,
            "align_self": null,
            "height": null,
            "min_height": null,
            "padding": null,
            "grid_auto_rows": null,
            "grid_gap": null,
            "max_width": null,
            "order": null,
            "_view_module_version": "1.2.0",
            "grid_template_areas": null,
            "object_position": null,
            "object_fit": null,
            "grid_auto_columns": null,
            "margin": null,
            "display": null,
            "left": null
          }
        },
        "54c01b855bb94937b960d98c1e23623f": {
          "model_module": "@jupyter-widgets/controls",
          "model_name": "HBoxModel",
          "state": {
            "_view_name": "HBoxView",
            "_dom_classes": [],
            "_model_name": "HBoxModel",
            "_view_module": "@jupyter-widgets/controls",
            "_model_module_version": "1.5.0",
            "_view_count": null,
            "_view_module_version": "1.5.0",
            "box_style": "",
            "layout": "IPY_MODEL_22f0bedd2e1c415e840e38852ba889ed",
            "_model_module": "@jupyter-widgets/controls",
            "children": [
              "IPY_MODEL_34c62c216dec4fae869cfc3e0a524447",
              "IPY_MODEL_3f02ff388705479197c192699994dcf5"
            ]
          }
        },
        "22f0bedd2e1c415e840e38852ba889ed": {
          "model_module": "@jupyter-widgets/base",
          "model_name": "LayoutModel",
          "state": {
            "_view_name": "LayoutView",
            "grid_template_rows": null,
            "right": null,
            "justify_content": null,
            "_view_module": "@jupyter-widgets/base",
            "overflow": null,
            "_model_module_version": "1.2.0",
            "_view_count": null,
            "flex_flow": null,
            "width": null,
            "min_width": null,
            "border": null,
            "align_items": null,
            "bottom": null,
            "_model_module": "@jupyter-widgets/base",
            "top": null,
            "grid_column": null,
            "overflow_y": null,
            "overflow_x": null,
            "grid_auto_flow": null,
            "grid_area": null,
            "grid_template_columns": null,
            "flex": null,
            "_model_name": "LayoutModel",
            "justify_items": null,
            "grid_row": null,
            "max_height": null,
            "align_content": null,
            "visibility": null,
            "align_self": null,
            "height": null,
            "min_height": null,
            "padding": null,
            "grid_auto_rows": null,
            "grid_gap": null,
            "max_width": null,
            "order": null,
            "_view_module_version": "1.2.0",
            "grid_template_areas": null,
            "object_position": null,
            "object_fit": null,
            "grid_auto_columns": null,
            "margin": null,
            "display": null,
            "left": null
          }
        },
        "34c62c216dec4fae869cfc3e0a524447": {
          "model_module": "@jupyter-widgets/controls",
          "model_name": "FloatProgressModel",
          "state": {
            "_view_name": "ProgressView",
            "style": "IPY_MODEL_4ece0a2b7e1e4e6290c5bdcf0c7b1f9d",
            "_dom_classes": [],
            "description": "100%",
            "_model_name": "FloatProgressModel",
            "bar_style": "success",
            "max": 244715968,
            "_view_module": "@jupyter-widgets/controls",
            "_model_module_version": "1.5.0",
            "value": 244715968,
            "_view_count": null,
            "_view_module_version": "1.5.0",
            "orientation": "horizontal",
            "min": 0,
            "description_tooltip": null,
            "_model_module": "@jupyter-widgets/controls",
            "layout": "IPY_MODEL_7af27eed25c447f9b7b9c1a0c9dcbf46"
          }
        },
        "3f02ff388705479197c192699994dcf5": {
          "model_module": "@jupyter-widgets/controls",
          "model_name": "HTMLModel",
          "state": {
            "_view_name": "HTMLView",
            "style": "IPY_MODEL_98593d39cc3a4996aa507ffcd7625b2e",
            "_dom_classes": [],
            "description": "",
            "_model_name": "HTMLModel",
            "placeholder": "​",
            "_view_module": "@jupyter-widgets/controls",
            "_model_module_version": "1.5.0",
            "value": " 245M/245M [00:20&lt;00:00, 11.8MB/s]",
            "_view_count": null,
            "_view_module_version": "1.5.0",
            "description_tooltip": null,
            "_model_module": "@jupyter-widgets/controls",
            "layout": "IPY_MODEL_9b120ccac44c4eb7958d77bcb29276d1"
          }
        },
        "4ece0a2b7e1e4e6290c5bdcf0c7b1f9d": {
          "model_module": "@jupyter-widgets/controls",
          "model_name": "ProgressStyleModel",
          "state": {
            "_view_name": "StyleView",
            "_model_name": "ProgressStyleModel",
            "description_width": "initial",
            "_view_module": "@jupyter-widgets/base",
            "_model_module_version": "1.5.0",
            "_view_count": null,
            "_view_module_version": "1.2.0",
            "bar_color": null,
            "_model_module": "@jupyter-widgets/controls"
          }
        },
        "7af27eed25c447f9b7b9c1a0c9dcbf46": {
          "model_module": "@jupyter-widgets/base",
          "model_name": "LayoutModel",
          "state": {
            "_view_name": "LayoutView",
            "grid_template_rows": null,
            "right": null,
            "justify_content": null,
            "_view_module": "@jupyter-widgets/base",
            "overflow": null,
            "_model_module_version": "1.2.0",
            "_view_count": null,
            "flex_flow": null,
            "width": null,
            "min_width": null,
            "border": null,
            "align_items": null,
            "bottom": null,
            "_model_module": "@jupyter-widgets/base",
            "top": null,
            "grid_column": null,
            "overflow_y": null,
            "overflow_x": null,
            "grid_auto_flow": null,
            "grid_area": null,
            "grid_template_columns": null,
            "flex": null,
            "_model_name": "LayoutModel",
            "justify_items": null,
            "grid_row": null,
            "max_height": null,
            "align_content": null,
            "visibility": null,
            "align_self": null,
            "height": null,
            "min_height": null,
            "padding": null,
            "grid_auto_rows": null,
            "grid_gap": null,
            "max_width": null,
            "order": null,
            "_view_module_version": "1.2.0",
            "grid_template_areas": null,
            "object_position": null,
            "object_fit": null,
            "grid_auto_columns": null,
            "margin": null,
            "display": null,
            "left": null
          }
        },
        "98593d39cc3a4996aa507ffcd7625b2e": {
          "model_module": "@jupyter-widgets/controls",
          "model_name": "DescriptionStyleModel",
          "state": {
            "_view_name": "StyleView",
            "_model_name": "DescriptionStyleModel",
            "description_width": "",
            "_view_module": "@jupyter-widgets/base",
            "_model_module_version": "1.5.0",
            "_view_count": null,
            "_view_module_version": "1.2.0",
            "_model_module": "@jupyter-widgets/controls"
          }
        },
        "9b120ccac44c4eb7958d77bcb29276d1": {
          "model_module": "@jupyter-widgets/base",
          "model_name": "LayoutModel",
          "state": {
            "_view_name": "LayoutView",
            "grid_template_rows": null,
            "right": null,
            "justify_content": null,
            "_view_module": "@jupyter-widgets/base",
            "overflow": null,
            "_model_module_version": "1.2.0",
            "_view_count": null,
            "flex_flow": null,
            "width": null,
            "min_width": null,
            "border": null,
            "align_items": null,
            "bottom": null,
            "_model_module": "@jupyter-widgets/base",
            "top": null,
            "grid_column": null,
            "overflow_y": null,
            "overflow_x": null,
            "grid_auto_flow": null,
            "grid_area": null,
            "grid_template_columns": null,
            "flex": null,
            "_model_name": "LayoutModel",
            "justify_items": null,
            "grid_row": null,
            "max_height": null,
            "align_content": null,
            "visibility": null,
            "align_self": null,
            "height": null,
            "min_height": null,
            "padding": null,
            "grid_auto_rows": null,
            "grid_gap": null,
            "max_width": null,
            "order": null,
            "_view_module_version": "1.2.0",
            "grid_template_areas": null,
            "object_position": null,
            "object_fit": null,
            "grid_auto_columns": null,
            "margin": null,
            "display": null,
            "left": null
          }
        },
        "fc72b7a6240145818dd5dbf48c1a6384": {
          "model_module": "@jupyter-widgets/controls",
          "model_name": "HBoxModel",
          "state": {
            "_view_name": "HBoxView",
            "_dom_classes": [],
            "_model_name": "HBoxModel",
            "_view_module": "@jupyter-widgets/controls",
            "_model_module_version": "1.5.0",
            "_view_count": null,
            "_view_module_version": "1.5.0",
            "box_style": "",
            "layout": "IPY_MODEL_aeb71031b0184cc09a1fd2aef89f8b38",
            "_model_module": "@jupyter-widgets/controls",
            "children": [
              "IPY_MODEL_fb3dbeb82e7546c2af99e827cd61c1b8",
              "IPY_MODEL_08864cb4aea54322982b70c5e6c041b1"
            ]
          }
        },
        "aeb71031b0184cc09a1fd2aef89f8b38": {
          "model_module": "@jupyter-widgets/base",
          "model_name": "LayoutModel",
          "state": {
            "_view_name": "LayoutView",
            "grid_template_rows": null,
            "right": null,
            "justify_content": null,
            "_view_module": "@jupyter-widgets/base",
            "overflow": null,
            "_model_module_version": "1.2.0",
            "_view_count": null,
            "flex_flow": null,
            "width": null,
            "min_width": null,
            "border": null,
            "align_items": null,
            "bottom": null,
            "_model_module": "@jupyter-widgets/base",
            "top": null,
            "grid_column": null,
            "overflow_y": null,
            "overflow_x": null,
            "grid_auto_flow": null,
            "grid_area": null,
            "grid_template_columns": null,
            "flex": null,
            "_model_name": "LayoutModel",
            "justify_items": null,
            "grid_row": null,
            "max_height": null,
            "align_content": null,
            "visibility": null,
            "align_self": null,
            "height": null,
            "min_height": null,
            "padding": null,
            "grid_auto_rows": null,
            "grid_gap": null,
            "max_width": null,
            "order": null,
            "_view_module_version": "1.2.0",
            "grid_template_areas": null,
            "object_position": null,
            "object_fit": null,
            "grid_auto_columns": null,
            "margin": null,
            "display": null,
            "left": null
          }
        },
        "fb3dbeb82e7546c2af99e827cd61c1b8": {
          "model_module": "@jupyter-widgets/controls",
          "model_name": "FloatProgressModel",
          "state": {
            "_view_name": "ProgressView",
            "style": "IPY_MODEL_cc3952894ee041edb51c7878e4553d34",
            "_dom_classes": [],
            "description": "Downloading: 100%",
            "_model_name": "FloatProgressModel",
            "bar_style": "success",
            "max": 442,
            "_view_module": "@jupyter-widgets/controls",
            "_model_module_version": "1.5.0",
            "value": 442,
            "_view_count": null,
            "_view_module_version": "1.5.0",
            "orientation": "horizontal",
            "min": 0,
            "description_tooltip": null,
            "_model_module": "@jupyter-widgets/controls",
            "layout": "IPY_MODEL_4a71b1d786594e2680d74de7dc6e6d39"
          }
        },
        "08864cb4aea54322982b70c5e6c041b1": {
          "model_module": "@jupyter-widgets/controls",
          "model_name": "HTMLModel",
          "state": {
            "_view_name": "HTMLView",
            "style": "IPY_MODEL_cd0b3446b2fe4907aac45b08dbad4cd4",
            "_dom_classes": [],
            "description": "",
            "_model_name": "HTMLModel",
            "placeholder": "​",
            "_view_module": "@jupyter-widgets/controls",
            "_model_module_version": "1.5.0",
            "value": " 442/442 [00:09&lt;00:00, 46.9B/s]",
            "_view_count": null,
            "_view_module_version": "1.5.0",
            "description_tooltip": null,
            "_model_module": "@jupyter-widgets/controls",
            "layout": "IPY_MODEL_f540fb212192429898a4af93ec933f73"
          }
        },
        "cc3952894ee041edb51c7878e4553d34": {
          "model_module": "@jupyter-widgets/controls",
          "model_name": "ProgressStyleModel",
          "state": {
            "_view_name": "StyleView",
            "_model_name": "ProgressStyleModel",
            "description_width": "initial",
            "_view_module": "@jupyter-widgets/base",
            "_model_module_version": "1.5.0",
            "_view_count": null,
            "_view_module_version": "1.2.0",
            "bar_color": null,
            "_model_module": "@jupyter-widgets/controls"
          }
        },
        "4a71b1d786594e2680d74de7dc6e6d39": {
          "model_module": "@jupyter-widgets/base",
          "model_name": "LayoutModel",
          "state": {
            "_view_name": "LayoutView",
            "grid_template_rows": null,
            "right": null,
            "justify_content": null,
            "_view_module": "@jupyter-widgets/base",
            "overflow": null,
            "_model_module_version": "1.2.0",
            "_view_count": null,
            "flex_flow": null,
            "width": null,
            "min_width": null,
            "border": null,
            "align_items": null,
            "bottom": null,
            "_model_module": "@jupyter-widgets/base",
            "top": null,
            "grid_column": null,
            "overflow_y": null,
            "overflow_x": null,
            "grid_auto_flow": null,
            "grid_area": null,
            "grid_template_columns": null,
            "flex": null,
            "_model_name": "LayoutModel",
            "justify_items": null,
            "grid_row": null,
            "max_height": null,
            "align_content": null,
            "visibility": null,
            "align_self": null,
            "height": null,
            "min_height": null,
            "padding": null,
            "grid_auto_rows": null,
            "grid_gap": null,
            "max_width": null,
            "order": null,
            "_view_module_version": "1.2.0",
            "grid_template_areas": null,
            "object_position": null,
            "object_fit": null,
            "grid_auto_columns": null,
            "margin": null,
            "display": null,
            "left": null
          }
        },
        "cd0b3446b2fe4907aac45b08dbad4cd4": {
          "model_module": "@jupyter-widgets/controls",
          "model_name": "DescriptionStyleModel",
          "state": {
            "_view_name": "StyleView",
            "_model_name": "DescriptionStyleModel",
            "description_width": "",
            "_view_module": "@jupyter-widgets/base",
            "_model_module_version": "1.5.0",
            "_view_count": null,
            "_view_module_version": "1.2.0",
            "_model_module": "@jupyter-widgets/controls"
          }
        },
        "f540fb212192429898a4af93ec933f73": {
          "model_module": "@jupyter-widgets/base",
          "model_name": "LayoutModel",
          "state": {
            "_view_name": "LayoutView",
            "grid_template_rows": null,
            "right": null,
            "justify_content": null,
            "_view_module": "@jupyter-widgets/base",
            "overflow": null,
            "_model_module_version": "1.2.0",
            "_view_count": null,
            "flex_flow": null,
            "width": null,
            "min_width": null,
            "border": null,
            "align_items": null,
            "bottom": null,
            "_model_module": "@jupyter-widgets/base",
            "top": null,
            "grid_column": null,
            "overflow_y": null,
            "overflow_x": null,
            "grid_auto_flow": null,
            "grid_area": null,
            "grid_template_columns": null,
            "flex": null,
            "_model_name": "LayoutModel",
            "justify_items": null,
            "grid_row": null,
            "max_height": null,
            "align_content": null,
            "visibility": null,
            "align_self": null,
            "height": null,
            "min_height": null,
            "padding": null,
            "grid_auto_rows": null,
            "grid_gap": null,
            "max_width": null,
            "order": null,
            "_view_module_version": "1.2.0",
            "grid_template_areas": null,
            "object_position": null,
            "object_fit": null,
            "grid_auto_columns": null,
            "margin": null,
            "display": null,
            "left": null
          }
        },
        "fba02c96947a4a50919a8c0aa4f6a5f5": {
          "model_module": "@jupyter-widgets/controls",
          "model_name": "HBoxModel",
          "state": {
            "_view_name": "HBoxView",
            "_dom_classes": [],
            "_model_name": "HBoxModel",
            "_view_module": "@jupyter-widgets/controls",
            "_model_module_version": "1.5.0",
            "_view_count": null,
            "_view_module_version": "1.5.0",
            "box_style": "",
            "layout": "IPY_MODEL_e6a836eee9c34465a3300328fc586f2e",
            "_model_module": "@jupyter-widgets/controls",
            "children": [
              "IPY_MODEL_926279375c914f2597dabfd17e4bcca2",
              "IPY_MODEL_7d16ad1a1c4e4e8bbb8923c99558469d"
            ]
          }
        },
        "e6a836eee9c34465a3300328fc586f2e": {
          "model_module": "@jupyter-widgets/base",
          "model_name": "LayoutModel",
          "state": {
            "_view_name": "LayoutView",
            "grid_template_rows": null,
            "right": null,
            "justify_content": null,
            "_view_module": "@jupyter-widgets/base",
            "overflow": null,
            "_model_module_version": "1.2.0",
            "_view_count": null,
            "flex_flow": null,
            "width": null,
            "min_width": null,
            "border": null,
            "align_items": null,
            "bottom": null,
            "_model_module": "@jupyter-widgets/base",
            "top": null,
            "grid_column": null,
            "overflow_y": null,
            "overflow_x": null,
            "grid_auto_flow": null,
            "grid_area": null,
            "grid_template_columns": null,
            "flex": null,
            "_model_name": "LayoutModel",
            "justify_items": null,
            "grid_row": null,
            "max_height": null,
            "align_content": null,
            "visibility": null,
            "align_self": null,
            "height": null,
            "min_height": null,
            "padding": null,
            "grid_auto_rows": null,
            "grid_gap": null,
            "max_width": null,
            "order": null,
            "_view_module_version": "1.2.0",
            "grid_template_areas": null,
            "object_position": null,
            "object_fit": null,
            "grid_auto_columns": null,
            "margin": null,
            "display": null,
            "left": null
          }
        },
        "926279375c914f2597dabfd17e4bcca2": {
          "model_module": "@jupyter-widgets/controls",
          "model_name": "FloatProgressModel",
          "state": {
            "_view_name": "ProgressView",
            "style": "IPY_MODEL_5a34d18afab1420391418e3a962736ec",
            "_dom_classes": [],
            "description": "Downloading: 100%",
            "_model_name": "FloatProgressModel",
            "bar_style": "success",
            "max": 231508,
            "_view_module": "@jupyter-widgets/controls",
            "_model_module_version": "1.5.0",
            "value": 231508,
            "_view_count": null,
            "_view_module_version": "1.5.0",
            "orientation": "horizontal",
            "min": 0,
            "description_tooltip": null,
            "_model_module": "@jupyter-widgets/controls",
            "layout": "IPY_MODEL_5fc7f12d7c784dc4b5c66d9e2db0013c"
          }
        },
        "7d16ad1a1c4e4e8bbb8923c99558469d": {
          "model_module": "@jupyter-widgets/controls",
          "model_name": "HTMLModel",
          "state": {
            "_view_name": "HTMLView",
            "style": "IPY_MODEL_b97536acc7064a8d9cd889eb797d3043",
            "_dom_classes": [],
            "description": "",
            "_model_name": "HTMLModel",
            "placeholder": "​",
            "_view_module": "@jupyter-widgets/controls",
            "_model_module_version": "1.5.0",
            "value": " 232k/232k [00:00&lt;00:00, 257kB/s]",
            "_view_count": null,
            "_view_module_version": "1.5.0",
            "description_tooltip": null,
            "_model_module": "@jupyter-widgets/controls",
            "layout": "IPY_MODEL_d53cc50e61d2449abeea56e51eeeea7f"
          }
        },
        "5a34d18afab1420391418e3a962736ec": {
          "model_module": "@jupyter-widgets/controls",
          "model_name": "ProgressStyleModel",
          "state": {
            "_view_name": "StyleView",
            "_model_name": "ProgressStyleModel",
            "description_width": "initial",
            "_view_module": "@jupyter-widgets/base",
            "_model_module_version": "1.5.0",
            "_view_count": null,
            "_view_module_version": "1.2.0",
            "bar_color": null,
            "_model_module": "@jupyter-widgets/controls"
          }
        },
        "5fc7f12d7c784dc4b5c66d9e2db0013c": {
          "model_module": "@jupyter-widgets/base",
          "model_name": "LayoutModel",
          "state": {
            "_view_name": "LayoutView",
            "grid_template_rows": null,
            "right": null,
            "justify_content": null,
            "_view_module": "@jupyter-widgets/base",
            "overflow": null,
            "_model_module_version": "1.2.0",
            "_view_count": null,
            "flex_flow": null,
            "width": null,
            "min_width": null,
            "border": null,
            "align_items": null,
            "bottom": null,
            "_model_module": "@jupyter-widgets/base",
            "top": null,
            "grid_column": null,
            "overflow_y": null,
            "overflow_x": null,
            "grid_auto_flow": null,
            "grid_area": null,
            "grid_template_columns": null,
            "flex": null,
            "_model_name": "LayoutModel",
            "justify_items": null,
            "grid_row": null,
            "max_height": null,
            "align_content": null,
            "visibility": null,
            "align_self": null,
            "height": null,
            "min_height": null,
            "padding": null,
            "grid_auto_rows": null,
            "grid_gap": null,
            "max_width": null,
            "order": null,
            "_view_module_version": "1.2.0",
            "grid_template_areas": null,
            "object_position": null,
            "object_fit": null,
            "grid_auto_columns": null,
            "margin": null,
            "display": null,
            "left": null
          }
        },
        "b97536acc7064a8d9cd889eb797d3043": {
          "model_module": "@jupyter-widgets/controls",
          "model_name": "DescriptionStyleModel",
          "state": {
            "_view_name": "StyleView",
            "_model_name": "DescriptionStyleModel",
            "description_width": "",
            "_view_module": "@jupyter-widgets/base",
            "_model_module_version": "1.5.0",
            "_view_count": null,
            "_view_module_version": "1.2.0",
            "_model_module": "@jupyter-widgets/controls"
          }
        },
        "d53cc50e61d2449abeea56e51eeeea7f": {
          "model_module": "@jupyter-widgets/base",
          "model_name": "LayoutModel",
          "state": {
            "_view_name": "LayoutView",
            "grid_template_rows": null,
            "right": null,
            "justify_content": null,
            "_view_module": "@jupyter-widgets/base",
            "overflow": null,
            "_model_module_version": "1.2.0",
            "_view_count": null,
            "flex_flow": null,
            "width": null,
            "min_width": null,
            "border": null,
            "align_items": null,
            "bottom": null,
            "_model_module": "@jupyter-widgets/base",
            "top": null,
            "grid_column": null,
            "overflow_y": null,
            "overflow_x": null,
            "grid_auto_flow": null,
            "grid_area": null,
            "grid_template_columns": null,
            "flex": null,
            "_model_name": "LayoutModel",
            "justify_items": null,
            "grid_row": null,
            "max_height": null,
            "align_content": null,
            "visibility": null,
            "align_self": null,
            "height": null,
            "min_height": null,
            "padding": null,
            "grid_auto_rows": null,
            "grid_gap": null,
            "max_width": null,
            "order": null,
            "_view_module_version": "1.2.0",
            "grid_template_areas": null,
            "object_position": null,
            "object_fit": null,
            "grid_auto_columns": null,
            "margin": null,
            "display": null,
            "left": null
          }
        },
        "6a828e39370045b5be7c7b6103635c6b": {
          "model_module": "@jupyter-widgets/controls",
          "model_name": "HBoxModel",
          "state": {
            "_view_name": "HBoxView",
            "_dom_classes": [],
            "_model_name": "HBoxModel",
            "_view_module": "@jupyter-widgets/controls",
            "_model_module_version": "1.5.0",
            "_view_count": null,
            "_view_module_version": "1.5.0",
            "box_style": "",
            "layout": "IPY_MODEL_23a643b2c129487a8b06323d0d435549",
            "_model_module": "@jupyter-widgets/controls",
            "children": [
              "IPY_MODEL_a6e83c6f15ee41cca313623a6f1310ef",
              "IPY_MODEL_ae6a292ddd484afab8fa862e7eeb29f8"
            ]
          }
        },
        "23a643b2c129487a8b06323d0d435549": {
          "model_module": "@jupyter-widgets/base",
          "model_name": "LayoutModel",
          "state": {
            "_view_name": "LayoutView",
            "grid_template_rows": null,
            "right": null,
            "justify_content": null,
            "_view_module": "@jupyter-widgets/base",
            "overflow": null,
            "_model_module_version": "1.2.0",
            "_view_count": null,
            "flex_flow": null,
            "width": null,
            "min_width": null,
            "border": null,
            "align_items": null,
            "bottom": null,
            "_model_module": "@jupyter-widgets/base",
            "top": null,
            "grid_column": null,
            "overflow_y": null,
            "overflow_x": null,
            "grid_auto_flow": null,
            "grid_area": null,
            "grid_template_columns": null,
            "flex": null,
            "_model_name": "LayoutModel",
            "justify_items": null,
            "grid_row": null,
            "max_height": null,
            "align_content": null,
            "visibility": null,
            "align_self": null,
            "height": null,
            "min_height": null,
            "padding": null,
            "grid_auto_rows": null,
            "grid_gap": null,
            "max_width": null,
            "order": null,
            "_view_module_version": "1.2.0",
            "grid_template_areas": null,
            "object_position": null,
            "object_fit": null,
            "grid_auto_columns": null,
            "margin": null,
            "display": null,
            "left": null
          }
        },
        "a6e83c6f15ee41cca313623a6f1310ef": {
          "model_module": "@jupyter-widgets/controls",
          "model_name": "FloatProgressModel",
          "state": {
            "_view_name": "ProgressView",
            "style": "IPY_MODEL_f2e0290725fb4dd4b50af1214d3473bf",
            "_dom_classes": [],
            "description": "Downloading: 100%",
            "_model_name": "FloatProgressModel",
            "bar_style": "success",
            "max": 466062,
            "_view_module": "@jupyter-widgets/controls",
            "_model_module_version": "1.5.0",
            "value": 466062,
            "_view_count": null,
            "_view_module_version": "1.5.0",
            "orientation": "horizontal",
            "min": 0,
            "description_tooltip": null,
            "_model_module": "@jupyter-widgets/controls",
            "layout": "IPY_MODEL_188f907da12a467f97a5facf1f75d5ab"
          }
        },
        "ae6a292ddd484afab8fa862e7eeb29f8": {
          "model_module": "@jupyter-widgets/controls",
          "model_name": "HTMLModel",
          "state": {
            "_view_name": "HTMLView",
            "style": "IPY_MODEL_0a32ba989ec446afac74545c9b871a88",
            "_dom_classes": [],
            "description": "",
            "_model_name": "HTMLModel",
            "placeholder": "​",
            "_view_module": "@jupyter-widgets/controls",
            "_model_module_version": "1.5.0",
            "value": " 466k/466k [00:00&lt;00:00, 1.32MB/s]",
            "_view_count": null,
            "_view_module_version": "1.5.0",
            "description_tooltip": null,
            "_model_module": "@jupyter-widgets/controls",
            "layout": "IPY_MODEL_78fced46923a42ca8bbfe54e4084c822"
          }
        },
        "f2e0290725fb4dd4b50af1214d3473bf": {
          "model_module": "@jupyter-widgets/controls",
          "model_name": "ProgressStyleModel",
          "state": {
            "_view_name": "StyleView",
            "_model_name": "ProgressStyleModel",
            "description_width": "initial",
            "_view_module": "@jupyter-widgets/base",
            "_model_module_version": "1.5.0",
            "_view_count": null,
            "_view_module_version": "1.2.0",
            "bar_color": null,
            "_model_module": "@jupyter-widgets/controls"
          }
        },
        "188f907da12a467f97a5facf1f75d5ab": {
          "model_module": "@jupyter-widgets/base",
          "model_name": "LayoutModel",
          "state": {
            "_view_name": "LayoutView",
            "grid_template_rows": null,
            "right": null,
            "justify_content": null,
            "_view_module": "@jupyter-widgets/base",
            "overflow": null,
            "_model_module_version": "1.2.0",
            "_view_count": null,
            "flex_flow": null,
            "width": null,
            "min_width": null,
            "border": null,
            "align_items": null,
            "bottom": null,
            "_model_module": "@jupyter-widgets/base",
            "top": null,
            "grid_column": null,
            "overflow_y": null,
            "overflow_x": null,
            "grid_auto_flow": null,
            "grid_area": null,
            "grid_template_columns": null,
            "flex": null,
            "_model_name": "LayoutModel",
            "justify_items": null,
            "grid_row": null,
            "max_height": null,
            "align_content": null,
            "visibility": null,
            "align_self": null,
            "height": null,
            "min_height": null,
            "padding": null,
            "grid_auto_rows": null,
            "grid_gap": null,
            "max_width": null,
            "order": null,
            "_view_module_version": "1.2.0",
            "grid_template_areas": null,
            "object_position": null,
            "object_fit": null,
            "grid_auto_columns": null,
            "margin": null,
            "display": null,
            "left": null
          }
        },
        "0a32ba989ec446afac74545c9b871a88": {
          "model_module": "@jupyter-widgets/controls",
          "model_name": "DescriptionStyleModel",
          "state": {
            "_view_name": "StyleView",
            "_model_name": "DescriptionStyleModel",
            "description_width": "",
            "_view_module": "@jupyter-widgets/base",
            "_model_module_version": "1.5.0",
            "_view_count": null,
            "_view_module_version": "1.2.0",
            "_model_module": "@jupyter-widgets/controls"
          }
        },
        "78fced46923a42ca8bbfe54e4084c822": {
          "model_module": "@jupyter-widgets/base",
          "model_name": "LayoutModel",
          "state": {
            "_view_name": "LayoutView",
            "grid_template_rows": null,
            "right": null,
            "justify_content": null,
            "_view_module": "@jupyter-widgets/base",
            "overflow": null,
            "_model_module_version": "1.2.0",
            "_view_count": null,
            "flex_flow": null,
            "width": null,
            "min_width": null,
            "border": null,
            "align_items": null,
            "bottom": null,
            "_model_module": "@jupyter-widgets/base",
            "top": null,
            "grid_column": null,
            "overflow_y": null,
            "overflow_x": null,
            "grid_auto_flow": null,
            "grid_area": null,
            "grid_template_columns": null,
            "flex": null,
            "_model_name": "LayoutModel",
            "justify_items": null,
            "grid_row": null,
            "max_height": null,
            "align_content": null,
            "visibility": null,
            "align_self": null,
            "height": null,
            "min_height": null,
            "padding": null,
            "grid_auto_rows": null,
            "grid_gap": null,
            "max_width": null,
            "order": null,
            "_view_module_version": "1.2.0",
            "grid_template_areas": null,
            "object_position": null,
            "object_fit": null,
            "grid_auto_columns": null,
            "margin": null,
            "display": null,
            "left": null
          }
        },
        "e8e6dbfd16bd48c79962e6648158f114": {
          "model_module": "@jupyter-widgets/controls",
          "model_name": "HBoxModel",
          "state": {
            "_view_name": "HBoxView",
            "_dom_classes": [],
            "_model_name": "HBoxModel",
            "_view_module": "@jupyter-widgets/controls",
            "_model_module_version": "1.5.0",
            "_view_count": null,
            "_view_module_version": "1.5.0",
            "box_style": "",
            "layout": "IPY_MODEL_89d286b9f78f43cf835117ac1942b180",
            "_model_module": "@jupyter-widgets/controls",
            "children": [
              "IPY_MODEL_86a42e7e03ff49e8a333ec6f8d26b2ac",
              "IPY_MODEL_c41d754309c348dd861e461812649d20"
            ]
          }
        },
        "89d286b9f78f43cf835117ac1942b180": {
          "model_module": "@jupyter-widgets/base",
          "model_name": "LayoutModel",
          "state": {
            "_view_name": "LayoutView",
            "grid_template_rows": null,
            "right": null,
            "justify_content": null,
            "_view_module": "@jupyter-widgets/base",
            "overflow": null,
            "_model_module_version": "1.2.0",
            "_view_count": null,
            "flex_flow": null,
            "width": null,
            "min_width": null,
            "border": null,
            "align_items": null,
            "bottom": null,
            "_model_module": "@jupyter-widgets/base",
            "top": null,
            "grid_column": null,
            "overflow_y": null,
            "overflow_x": null,
            "grid_auto_flow": null,
            "grid_area": null,
            "grid_template_columns": null,
            "flex": null,
            "_model_name": "LayoutModel",
            "justify_items": null,
            "grid_row": null,
            "max_height": null,
            "align_content": null,
            "visibility": null,
            "align_self": null,
            "height": null,
            "min_height": null,
            "padding": null,
            "grid_auto_rows": null,
            "grid_gap": null,
            "max_width": null,
            "order": null,
            "_view_module_version": "1.2.0",
            "grid_template_areas": null,
            "object_position": null,
            "object_fit": null,
            "grid_auto_columns": null,
            "margin": null,
            "display": null,
            "left": null
          }
        },
        "86a42e7e03ff49e8a333ec6f8d26b2ac": {
          "model_module": "@jupyter-widgets/controls",
          "model_name": "FloatProgressModel",
          "state": {
            "_view_name": "ProgressView",
            "style": "IPY_MODEL_9cd89b0312904e0f8ccb81f0a86f0cca",
            "_dom_classes": [],
            "description": "Downloading: 100%",
            "_model_name": "FloatProgressModel",
            "bar_style": "success",
            "max": 363423424,
            "_view_module": "@jupyter-widgets/controls",
            "_model_module_version": "1.5.0",
            "value": 363423424,
            "_view_count": null,
            "_view_module_version": "1.5.0",
            "orientation": "horizontal",
            "min": 0,
            "description_tooltip": null,
            "_model_module": "@jupyter-widgets/controls",
            "layout": "IPY_MODEL_f4c00d534e784d3fb0bd9bbc45ebe15d"
          }
        },
        "c41d754309c348dd861e461812649d20": {
          "model_module": "@jupyter-widgets/controls",
          "model_name": "HTMLModel",
          "state": {
            "_view_name": "HTMLView",
            "style": "IPY_MODEL_d1e165c075764df981ca8e201c189400",
            "_dom_classes": [],
            "description": "",
            "_model_name": "HTMLModel",
            "placeholder": "​",
            "_view_module": "@jupyter-widgets/controls",
            "_model_module_version": "1.5.0",
            "value": " 363M/363M [00:16&lt;00:00, 22.7MB/s]",
            "_view_count": null,
            "_view_module_version": "1.5.0",
            "description_tooltip": null,
            "_model_module": "@jupyter-widgets/controls",
            "layout": "IPY_MODEL_8a89ca83b72940c58e864e778a9abf15"
          }
        },
        "9cd89b0312904e0f8ccb81f0a86f0cca": {
          "model_module": "@jupyter-widgets/controls",
          "model_name": "ProgressStyleModel",
          "state": {
            "_view_name": "StyleView",
            "_model_name": "ProgressStyleModel",
            "description_width": "initial",
            "_view_module": "@jupyter-widgets/base",
            "_model_module_version": "1.5.0",
            "_view_count": null,
            "_view_module_version": "1.2.0",
            "bar_color": null,
            "_model_module": "@jupyter-widgets/controls"
          }
        },
        "f4c00d534e784d3fb0bd9bbc45ebe15d": {
          "model_module": "@jupyter-widgets/base",
          "model_name": "LayoutModel",
          "state": {
            "_view_name": "LayoutView",
            "grid_template_rows": null,
            "right": null,
            "justify_content": null,
            "_view_module": "@jupyter-widgets/base",
            "overflow": null,
            "_model_module_version": "1.2.0",
            "_view_count": null,
            "flex_flow": null,
            "width": null,
            "min_width": null,
            "border": null,
            "align_items": null,
            "bottom": null,
            "_model_module": "@jupyter-widgets/base",
            "top": null,
            "grid_column": null,
            "overflow_y": null,
            "overflow_x": null,
            "grid_auto_flow": null,
            "grid_area": null,
            "grid_template_columns": null,
            "flex": null,
            "_model_name": "LayoutModel",
            "justify_items": null,
            "grid_row": null,
            "max_height": null,
            "align_content": null,
            "visibility": null,
            "align_self": null,
            "height": null,
            "min_height": null,
            "padding": null,
            "grid_auto_rows": null,
            "grid_gap": null,
            "max_width": null,
            "order": null,
            "_view_module_version": "1.2.0",
            "grid_template_areas": null,
            "object_position": null,
            "object_fit": null,
            "grid_auto_columns": null,
            "margin": null,
            "display": null,
            "left": null
          }
        },
        "d1e165c075764df981ca8e201c189400": {
          "model_module": "@jupyter-widgets/controls",
          "model_name": "DescriptionStyleModel",
          "state": {
            "_view_name": "StyleView",
            "_model_name": "DescriptionStyleModel",
            "description_width": "",
            "_view_module": "@jupyter-widgets/base",
            "_model_module_version": "1.5.0",
            "_view_count": null,
            "_view_module_version": "1.2.0",
            "_model_module": "@jupyter-widgets/controls"
          }
        },
        "8a89ca83b72940c58e864e778a9abf15": {
          "model_module": "@jupyter-widgets/base",
          "model_name": "LayoutModel",
          "state": {
            "_view_name": "LayoutView",
            "grid_template_rows": null,
            "right": null,
            "justify_content": null,
            "_view_module": "@jupyter-widgets/base",
            "overflow": null,
            "_model_module_version": "1.2.0",
            "_view_count": null,
            "flex_flow": null,
            "width": null,
            "min_width": null,
            "border": null,
            "align_items": null,
            "bottom": null,
            "_model_module": "@jupyter-widgets/base",
            "top": null,
            "grid_column": null,
            "overflow_y": null,
            "overflow_x": null,
            "grid_auto_flow": null,
            "grid_area": null,
            "grid_template_columns": null,
            "flex": null,
            "_model_name": "LayoutModel",
            "justify_items": null,
            "grid_row": null,
            "max_height": null,
            "align_content": null,
            "visibility": null,
            "align_self": null,
            "height": null,
            "min_height": null,
            "padding": null,
            "grid_auto_rows": null,
            "grid_gap": null,
            "max_width": null,
            "order": null,
            "_view_module_version": "1.2.0",
            "grid_template_areas": null,
            "object_position": null,
            "object_fit": null,
            "grid_auto_columns": null,
            "margin": null,
            "display": null,
            "left": null
          }
        }
      }
    },
    "accelerator": "GPU"
  },
  "cells": [
    {
      "cell_type": "markdown",
      "metadata": {
        "id": "view-in-github",
        "colab_type": "text"
      },
      "source": [
        "<a href=\"https://colab.research.google.com/github/mvdheram/Stereotypical-Social-bias-detection-/blob/Pre-trained-LM-selection-and-training/Experiments_Ktrain%2C_Pytorch.ipynb\" target=\"_parent\"><img src=\"https://colab.research.google.com/assets/colab-badge.svg\" alt=\"Open In Colab\"/></a>"
      ]
    },
    {
      "cell_type": "markdown",
      "metadata": {
        "id": "Kdo2scsoLi8J"
      },
      "source": [
        "# Categorization "
      ]
    },
    {
      "cell_type": "markdown",
      "metadata": {
        "id": "n9GtOgJ2L2Kr"
      },
      "source": [
        "Explicit stereotypes :\n",
        "* Overt expression of social stereotypes (over generalized beliefs and expectancies of social categories)\n",
        "* Crowdsourced using amazon mechanical turk.\n",
        "  e.g. : \"Asians are good in math\"\n",
        "* Datasets :\n",
        "  1. Stereoset\n",
        "  2. CrowsSpair\n",
        "\n",
        "Implicit stereotypes :\n",
        "  * Implicit or subtle projection of stereotypes as prejudiced attitude.\n",
        "  * Often veiled or subtly projection of stereotypical behaviour and expectencies. \n",
        "  * Sometimes called \"Micro-aggressions\"- Unconsciously and sublty expresses prejudiced attitude.\n",
        "  * Dataset:\n",
        "    1. SocialBias Frames\n",
        "    2. Microaggression (Not sure)\n",
        "\n",
        "Datasets division :\n",
        "  1. Stereoset\n",
        "    * Categories :\n",
        "        1. Race/Ethnicity - (976 + 962) -> 1938\n",
        "        2. Profession -  (810 + 827) -> 1637\n",
        "        3. Gender - (242 + 255) -> 497\n",
        "        4. Religion - (78 + 79) -> 157\n",
        "    * Total : 2123 (Intersentence) + 2106 (Intrasentence) = 4229\n",
        "  2. CrowsSpair\n",
        "    * Categories :\n",
        "      1. Race-color - 473 \n",
        "      2. Gender/gender identity - 159\n",
        "      3. Socioeconomic / occupation - 157\n",
        "      4. Nationality - 148 \n",
        "      5. Religion - 99\n",
        "      6. Age - 73\n",
        "      7. Sexual orientation - 72\n",
        "      8. Disability - 57\n",
        "      9. Physical appearance - 52\n",
        "    * Total : 1290\n",
        "  * **Analyze keywords (TBD) per domain**\n",
        "  * Why?\n",
        "    * Mostly explicit as they are crowdsourced.\n",
        "    * For each target terms (Asian) from each domains (race,..); crowdworker writes sentence containing target term (Asians) with stereotype attribute; \n",
        "    * Both were compared which implies both datasets are of same type.\n",
        "\n",
        "**Stats of Explicit stereo (Stereo + CrowSpair)** :\n",
        "* Categories After combining:\n",
        "    1. Ethnicity - 2559\n",
        "    2. Profession - 1637\n",
        "    3. Gender - 656\n",
        "    4. Religion - 256\n",
        "    5. Socio-economic / Occupation - 157\n",
        "    6. Age - 73\n",
        "    7. Sexual-orientation - 72\n",
        "    8. Disability - 57\n",
        "    9. Physical appearance - 52\n",
        "* Total : 5519\n",
        "\n",
        "Definitions:\n",
        "\n",
        "  1. Ethnicity/race :  \n",
        "    * Combination of Race, race-color, nationality.\n",
        "    * \"The quality or fact of belonging to a population group or subgroup made up of people who share a common cultural background or descent\". Oxford dictionary\n",
        "    * \"Shared social experience or one's ancestors' experiences\"  Humanity: An Introduction to Cultural Anthropology\n",
        "    * Wikidata : ethnic group (P172)\n",
        "    * E.g. nationality -> poor, smelly  \n",
        "  2. Profession :\n",
        "    * Occupation of a person. (Profession/ Job)\n",
        "    * Wikidata : Profession (P106)\n",
        "    * E.g. physicist, barber .. -> nerdy, smelly ...\n",
        "  3. Gender :\n",
        "    * Covers two gender mainly (male,female) with keywords such as man, woman, he ,she father.. and stereotypic attributes.\n",
        "    * Covers attributes of the corresponding genders like feminine, polite, studious, bossy etc.\n",
        "    * e.g. : \"He cut himself shaving. He was strong and confident.\"\n",
        "  4. Religion :\n",
        "    * Covers stereotypes of religions such as chritains, hindu, ...\n",
        "    * Stereotypic keywords include atheist, saviour etc.\n",
        "    * Wikidata : Religion (P140)\n",
        "    * E.g : \"The Brahmin man wore a robe. He was very religious\"\n",
        "  5. Socioeconomic status / Occupaiton  (CrowSpair):\n",
        "    * Crowspair socioeconimic status / occupation domian mainly deals with stereotypes about the economic status of people (poor, ..) etc. \n",
        "  6. Age (CrowSpair):\n",
        "    * Age related stereotypes of men and woman.\n",
        "    * E.g. : Old people, young people, teens etc.\n",
        "  7. Sexual Orientation (CrowSpair):\n",
        "    * Stereotypes related to sexual orientation (Homosexuals, gay etc.)\n",
        "  8. Disability (CrowSpair):\n",
        "    * Stereotypes related to disability  of persons like (autism, handicapped etc.)\n",
        "  9. Physical Appearance (CrowSpair):\n",
        "    * Deals with physical attributes of persons (obese, blonde, skinny etc)\n",
        "\n",
        "Notes:\n",
        "\n",
        "1. Combined race,race-color,nationality into ethnicity.\n",
        "2. Combining Socioeconomic into profession category ?\n",
        "\n",
        "Questions:\n",
        "\n",
        "* Should I avoid Age, sexual orientation, disability and physical appearance categories as the samples are very few (`<100`)??\n",
        "  * Helpful doing EDA ??\n",
        "  * **Yes**\n",
        "\n",
        "* Gender bias is explored by looking at associations between gender and occupation (GPT-3)?\n",
        "  * Target names (he,she,..) and attributes(occupation )\n",
        "  * **Search for the above pattern and merge the sentences where the stereotypic attribute is based on gender(he/she) rather than stereotypic profession terms (nerdy,bossy etc)**\n",
        "* For inter-sentence samples, I am encdoing it as single sentence than multiple sentences.\n",
        "  * Same `token_ids` for two sentences ??\n",
        "  * **OK**\n",
        "\n",
        "* Should I combine socioeconomic/ocupation into occupation ??\n",
        "  * **Yes**\n",
        "  * Socioeconomic status of crowSpair is a dimention of occupation which deals with the \n",
        "  \n",
        "  **Quora**:\n",
        "\n",
        "  \"An occupation is job.\n",
        "\n",
        "  A profession is by definition employment where the needs of the     people you work for supercede your needs.\"\n",
        "\n",
        "  A person proficient can do occupation in a different field or else both are same.\n",
        "\n"
      ]
    },
    {
      "cell_type": "markdown",
      "metadata": {
        "id": "xbkush5W65NA"
      },
      "source": [
        "# Experiments"
      ]
    },
    {
      "cell_type": "markdown",
      "metadata": {
        "id": "xiU-8kXf67xS"
      },
      "source": [
        "Experiments:\n",
        "\n",
        "1. Train on stereoset and test on crowSpair\n",
        "  * Result :\n",
        "    * Accuracy and recall is severely effected.\n",
        "2. Train on stereoset, crowSpair as Multi-label classification (bias_type + stero/anti-stereo) \n",
        "  * Combine intrasentence stereoset and crowspair sentences and train to classify stereotype or anti-stereotype.\n",
        "\n",
        "2. Train with only four categories (stereoset and crowspair)\n",
        "  1. Ethnicity - 2559\n",
        "  2. Profession - 1794\n",
        "  3. Gender - 656\n",
        "  4. Religion - 256\n",
        "  * Result :\n",
        "    * Intrasentence samples are classified based on categories such as profession, race, gender by taking into consideration the related keyterms into consideration rather than considering the stereotypic target such as \"asian\" but only considering the attribute \"chess\".\n",
        "3. Train with four categories with anti-stereotypical instances\n",
        "  * Why?\n",
        "    * By experimenting 2nd approach, the classifier is basing its prediction based on keyterms of the category rather than subject and object for intrasentence samples\n",
        "    * e.g. :\n",
        "      * The prediction \"The chess player was asian.\" and \"The chess player was hispanic.\" both have their prediction as \"profession\" as the classifier is relying on keyterm \"chess player\" rather than replying on \"chess player and asian\". \n",
        "4. Train a binary classifier to predict stereotype or not \n",
        "  * Use sigmoid activation and threshold  \n",
        "5. Combining explicit and Implicit i.e Stereo + CrowSpair + SocialBiasFrames\n",
        "\n",
        " * Categories:\n",
        "  1. Ethnicity/Race/Nationality - 4660 + 2559\n",
        "  2. Profession - 1794 \n",
        "  3. Gender - 656 + 4023\n",
        "  4. Religion - 256\n",
        "  5. Culture - 2880\n",
        "  6. Victim - 2231 ??\n",
        "  7. Disabled/Dsiability - 854 + 57\n",
        "  8. Social - 732 ??\n",
        "  9. Body/Physical apperance - 508 + 52\n",
        " "
      ]
    },
    {
      "cell_type": "markdown",
      "metadata": {
        "id": "-xxLEZhxdVRh"
      },
      "source": [
        "# Implicit stereo "
      ]
    },
    {
      "cell_type": "markdown",
      "metadata": {
        "id": "4kEZLe5YdYud"
      },
      "source": [
        "Implicit stereotypes :\n",
        "  * Social Bias frames (train,dev)\n",
        "    * Categories :\n",
        "      1. Race - 4660\n",
        "      2. Gender - 4023\n",
        "      3. Culture - 2880\n",
        "      4. Victim - 2231\n",
        "      5. Disabled - 854\n",
        "      6. Social - 732\n",
        "      7. Body - 508\n",
        "    * Total : 15,888\n",
        "\n",
        "Definitions (**TBD**) :\n",
        "\n",
        "  1. Race :\n",
        "  2. Gender :\n",
        "  3. Culture :\n",
        "  4. Victim :\n",
        "  5. Disabled : \n",
        "  6. Social :\n",
        "  7. Body :\n",
        "\n",
        "Remarks :\n",
        "\n",
        "* Too ambigious to put into a category ??"
      ]
    },
    {
      "cell_type": "markdown",
      "metadata": {
        "id": "V_ruKzS7Lw5R"
      },
      "source": [
        "# Pytorch \n"
      ]
    },
    {
      "cell_type": "code",
      "metadata": {
        "id": "6E8Z3526L1Wg",
        "colab": {
          "base_uri": "https://localhost:8080/"
        },
        "outputId": "93b920c1-793d-412d-d464-64c1c0fb7f09"
      },
      "source": [
        "!pip install transformers==4.5.1 --quiet"
      ],
      "execution_count": 1,
      "outputs": [
        {
          "output_type": "stream",
          "text": [
            "\u001b[K     |████████████████████████████████| 2.1MB 29.1MB/s \n",
            "\u001b[K     |████████████████████████████████| 901kB 48.5MB/s \n",
            "\u001b[K     |████████████████████████████████| 3.3MB 50.6MB/s \n",
            "\u001b[?25h"
          ],
          "name": "stdout"
        }
      ]
    },
    {
      "cell_type": "code",
      "metadata": {
        "colab": {
          "base_uri": "https://localhost:8080/"
        },
        "id": "kymDjF6D-ZAD",
        "outputId": "874c8b18-4124-4c1d-e67f-07dec490de40"
      },
      "source": [
        "!nvidia-smi"
      ],
      "execution_count": 2,
      "outputs": [
        {
          "output_type": "stream",
          "text": [
            "Sun May 16 16:19:21 2021       \n",
            "+-----------------------------------------------------------------------------+\n",
            "| NVIDIA-SMI 465.19.01    Driver Version: 460.32.03    CUDA Version: 11.2     |\n",
            "|-------------------------------+----------------------+----------------------+\n",
            "| GPU  Name        Persistence-M| Bus-Id        Disp.A | Volatile Uncorr. ECC |\n",
            "| Fan  Temp  Perf  Pwr:Usage/Cap|         Memory-Usage | GPU-Util  Compute M. |\n",
            "|                               |                      |               MIG M. |\n",
            "|===============================+======================+======================|\n",
            "|   0  Tesla T4            Off  | 00000000:00:04.0 Off |                    0 |\n",
            "| N/A   55C    P8    10W /  70W |      0MiB / 15109MiB |      0%      Default |\n",
            "|                               |                      |                  N/A |\n",
            "+-------------------------------+----------------------+----------------------+\n",
            "                                                                               \n",
            "+-----------------------------------------------------------------------------+\n",
            "| Processes:                                                                  |\n",
            "|  GPU   GI   CI        PID   Type   Process name                  GPU Memory |\n",
            "|        ID   ID                                                   Usage      |\n",
            "|=============================================================================|\n",
            "|  No running processes found                                                 |\n",
            "+-----------------------------------------------------------------------------+\n"
          ],
          "name": "stdout"
        }
      ]
    },
    {
      "cell_type": "code",
      "metadata": {
        "id": "7Gg4_SD76S-u"
      },
      "source": [
        "import numpy as np\n",
        "import pandas as pd\n",
        "import torch\n",
        "import torch.nn as nn\n",
        "from sklearn.model_selection import train_test_split\n",
        "from sklearn.metrics import classification_report\n",
        "import transformers\n",
        "from transformers import AutoModel, BertTokenizerFast\n",
        "\n",
        "# specify GPU\n",
        "device = torch.device(\"cuda\")"
      ],
      "execution_count": 4,
      "outputs": []
    },
    {
      "cell_type": "markdown",
      "metadata": {
        "id": "a9DipnwUxmFa"
      },
      "source": [
        "## Loading dataset"
      ]
    },
    {
      "cell_type": "code",
      "metadata": {
        "id": "MUjtRvY-6WXg"
      },
      "source": [
        "df = pd.read_csv('/content/combined_stereo.csv',index_col=0)"
      ],
      "execution_count": 5,
      "outputs": []
    },
    {
      "cell_type": "code",
      "metadata": {
        "colab": {
          "base_uri": "https://localhost:8080/",
          "height": 196
        },
        "id": "GL1pKcjj6fAE",
        "outputId": "882e6b0e-605e-4399-8370-f76295d8bfef"
      },
      "source": [
        "df.head()"
      ],
      "execution_count": 6,
      "outputs": [
        {
          "output_type": "execute_result",
          "data": {
            "text/html": [
              "<div>\n",
              "<style scoped>\n",
              "    .dataframe tbody tr th:only-of-type {\n",
              "        vertical-align: middle;\n",
              "    }\n",
              "\n",
              "    .dataframe tbody tr th {\n",
              "        vertical-align: top;\n",
              "    }\n",
              "\n",
              "    .dataframe thead th {\n",
              "        text-align: right;\n",
              "    }\n",
              "</style>\n",
              "<table border=\"1\" class=\"dataframe\">\n",
              "  <thead>\n",
              "    <tr style=\"text-align: right;\">\n",
              "      <th></th>\n",
              "      <th>bias_type</th>\n",
              "      <th>stereotype</th>\n",
              "    </tr>\n",
              "  </thead>\n",
              "  <tbody>\n",
              "    <tr>\n",
              "      <th>0</th>\n",
              "      <td>race</td>\n",
              "      <td>Many people live in Ethiopia. The people are v...</td>\n",
              "    </tr>\n",
              "    <tr>\n",
              "      <th>1</th>\n",
              "      <td>race</td>\n",
              "      <td>My professor is a hispanic man. He came here i...</td>\n",
              "    </tr>\n",
              "    <tr>\n",
              "      <th>2</th>\n",
              "      <td>gender</td>\n",
              "      <td>The schoolgirl is walking down the street. She...</td>\n",
              "    </tr>\n",
              "    <tr>\n",
              "      <th>3</th>\n",
              "      <td>race</td>\n",
              "      <td>We'll likely fly over Cape Verde on our flight...</td>\n",
              "    </tr>\n",
              "    <tr>\n",
              "      <th>4</th>\n",
              "      <td>race</td>\n",
              "      <td>I know many people who are Russian. They love ...</td>\n",
              "    </tr>\n",
              "  </tbody>\n",
              "</table>\n",
              "</div>"
            ],
            "text/plain": [
              "  bias_type                                         stereotype\n",
              "0      race  Many people live in Ethiopia. The people are v...\n",
              "1      race  My professor is a hispanic man. He came here i...\n",
              "2    gender  The schoolgirl is walking down the street. She...\n",
              "3      race  We'll likely fly over Cape Verde on our flight...\n",
              "4      race  I know many people who are Russian. They love ..."
            ]
          },
          "metadata": {
            "tags": []
          },
          "execution_count": 6
        }
      ]
    },
    {
      "cell_type": "code",
      "metadata": {
        "colab": {
          "base_uri": "https://localhost:8080/"
        },
        "id": "E0Y9DhTa6uQL",
        "outputId": "b1aa8f35-9947-41ba-c9bc-2a72d3176418"
      },
      "source": [
        "df.bias_type.value_counts(normalize = True)*100"
      ],
      "execution_count": 7,
      "outputs": [
        {
          "output_type": "execute_result",
          "data": {
            "text/plain": [
              "race          45.826437\n",
              "profession    38.708915\n",
              "gender        11.752187\n",
              "religion       3.712462\n",
              "Name: bias_type, dtype: float64"
            ]
          },
          "metadata": {
            "tags": []
          },
          "execution_count": 7
        }
      ]
    },
    {
      "cell_type": "markdown",
      "metadata": {
        "id": "ekejGdbbxq2h"
      },
      "source": [
        "## Label Encoding"
      ]
    },
    {
      "cell_type": "code",
      "metadata": {
        "colab": {
          "base_uri": "https://localhost:8080/"
        },
        "id": "vGpmpM2W8OrN",
        "outputId": "c043bb91-7549-499b-84e8-ad1eac25f807"
      },
      "source": [
        "from sklearn.preprocessing import LabelEncoder\n",
        "from keras.utils import np_utils\n",
        "\n",
        "labels = df['bias_type']\n",
        "# encode class values as integers\n",
        "encoder = LabelEncoder()\n",
        "encoder.fit(labels)"
      ],
      "execution_count": 8,
      "outputs": [
        {
          "output_type": "execute_result",
          "data": {
            "text/plain": [
              "LabelEncoder()"
            ]
          },
          "metadata": {
            "tags": []
          },
          "execution_count": 8
        }
      ]
    },
    {
      "cell_type": "code",
      "metadata": {
        "colab": {
          "base_uri": "https://localhost:8080/"
        },
        "id": "7z5rUi-pngRW",
        "outputId": "0d2e6627-834e-4606-e69d-688b049c9b88"
      },
      "source": [
        "for cls in range(len(encoder.classes_)):\n",
        "  print(cls,\":\" ,encoder.classes_[cls])"
      ],
      "execution_count": 9,
      "outputs": [
        {
          "output_type": "stream",
          "text": [
            "0 : gender\n",
            "1 : profession\n",
            "2 : race\n",
            "3 : religion\n"
          ],
          "name": "stdout"
        }
      ]
    },
    {
      "cell_type": "code",
      "metadata": {
        "id": "rdeAqCiKngRa"
      },
      "source": [
        "encoded_labels = {}\n",
        "for cls in range(len(encoder.classes_)):\n",
        "  encoded_labels[encoder.classes_[cls]] = cls"
      ],
      "execution_count": 10,
      "outputs": []
    },
    {
      "cell_type": "code",
      "metadata": {
        "id": "-7b42Wbh-4QY"
      },
      "source": [
        "dfLabelEncod = df"
      ],
      "execution_count": 11,
      "outputs": []
    },
    {
      "cell_type": "code",
      "metadata": {
        "id": "3kDthFG2MhCd"
      },
      "source": [
        "dfLabelEncod['Label_encoded'] = dfLabelEncod['bias_type'].replace(encoded_labels)"
      ],
      "execution_count": 12,
      "outputs": []
    },
    {
      "cell_type": "code",
      "metadata": {
        "colab": {
          "base_uri": "https://localhost:8080/",
          "height": 404
        },
        "id": "Jog2ydUbngRb",
        "outputId": "03977dd2-a126-4892-9545-8a4f8fb429f8"
      },
      "source": [
        "dfLabelEncod"
      ],
      "execution_count": 13,
      "outputs": [
        {
          "output_type": "execute_result",
          "data": {
            "text/html": [
              "<div>\n",
              "<style scoped>\n",
              "    .dataframe tbody tr th:only-of-type {\n",
              "        vertical-align: middle;\n",
              "    }\n",
              "\n",
              "    .dataframe tbody tr th {\n",
              "        vertical-align: top;\n",
              "    }\n",
              "\n",
              "    .dataframe thead th {\n",
              "        text-align: right;\n",
              "    }\n",
              "</style>\n",
              "<table border=\"1\" class=\"dataframe\">\n",
              "  <thead>\n",
              "    <tr style=\"text-align: right;\">\n",
              "      <th></th>\n",
              "      <th>bias_type</th>\n",
              "      <th>stereotype</th>\n",
              "      <th>Label_encoded</th>\n",
              "    </tr>\n",
              "  </thead>\n",
              "  <tbody>\n",
              "    <tr>\n",
              "      <th>0</th>\n",
              "      <td>race</td>\n",
              "      <td>Many people live in Ethiopia. The people are v...</td>\n",
              "      <td>2</td>\n",
              "    </tr>\n",
              "    <tr>\n",
              "      <th>1</th>\n",
              "      <td>race</td>\n",
              "      <td>My professor is a hispanic man. He came here i...</td>\n",
              "      <td>2</td>\n",
              "    </tr>\n",
              "    <tr>\n",
              "      <th>2</th>\n",
              "      <td>gender</td>\n",
              "      <td>The schoolgirl is walking down the street. She...</td>\n",
              "      <td>0</td>\n",
              "    </tr>\n",
              "    <tr>\n",
              "      <th>3</th>\n",
              "      <td>race</td>\n",
              "      <td>We'll likely fly over Cape Verde on our flight...</td>\n",
              "      <td>2</td>\n",
              "    </tr>\n",
              "    <tr>\n",
              "      <th>4</th>\n",
              "      <td>race</td>\n",
              "      <td>I know many people who are Russian. They love ...</td>\n",
              "      <td>2</td>\n",
              "    </tr>\n",
              "    <tr>\n",
              "      <th>...</th>\n",
              "      <td>...</td>\n",
              "      <td>...</td>\n",
              "      <td>...</td>\n",
              "    </tr>\n",
              "    <tr>\n",
              "      <th>4224</th>\n",
              "      <td>race</td>\n",
              "      <td>Arab people are associated with war.</td>\n",
              "      <td>2</td>\n",
              "    </tr>\n",
              "    <tr>\n",
              "      <th>4225</th>\n",
              "      <td>profession</td>\n",
              "      <td>He was a new chemist in our lab.</td>\n",
              "      <td>1</td>\n",
              "    </tr>\n",
              "    <tr>\n",
              "      <th>4226</th>\n",
              "      <td>gender</td>\n",
              "      <td>The gentlemen stood around the fire, carefully...</td>\n",
              "      <td>0</td>\n",
              "    </tr>\n",
              "    <tr>\n",
              "      <th>4227</th>\n",
              "      <td>race</td>\n",
              "      <td>The common ukrainian is a supporter of a russi...</td>\n",
              "      <td>2</td>\n",
              "    </tr>\n",
              "    <tr>\n",
              "      <th>4228</th>\n",
              "      <td>profession</td>\n",
              "      <td>I am a male nurse.</td>\n",
              "      <td>1</td>\n",
              "    </tr>\n",
              "  </tbody>\n",
              "</table>\n",
              "<p>4229 rows × 3 columns</p>\n",
              "</div>"
            ],
            "text/plain": [
              "       bias_type  ... Label_encoded\n",
              "0           race  ...             2\n",
              "1           race  ...             2\n",
              "2         gender  ...             0\n",
              "3           race  ...             2\n",
              "4           race  ...             2\n",
              "...          ...  ...           ...\n",
              "4224        race  ...             2\n",
              "4225  profession  ...             1\n",
              "4226      gender  ...             0\n",
              "4227        race  ...             2\n",
              "4228  profession  ...             1\n",
              "\n",
              "[4229 rows x 3 columns]"
            ]
          },
          "metadata": {
            "tags": []
          },
          "execution_count": 13
        }
      ]
    },
    {
      "cell_type": "markdown",
      "metadata": {
        "id": "00agiHptxucZ"
      },
      "source": [
        "## Train test validation split"
      ]
    },
    {
      "cell_type": "code",
      "metadata": {
        "id": "XmNnj9KE6zkP"
      },
      "source": [
        "train_text, temp_text, train_labels, temp_labels = train_test_split(dfLabelEncod['stereotype'], dfLabelEncod['Label_encoded'], \n",
        "                                                                    random_state=2018, \n",
        "                                                                    test_size=0.3, \n",
        "                                                                    stratify=df['bias_type'])\n",
        "\n",
        "# we will use temp_text and temp_labels to create validation and test set\n",
        "val_text, test_text, val_labels, test_labels = train_test_split(temp_text, temp_labels, \n",
        "                                                                random_state=2018, \n",
        "                                                                test_size=0.5, \n",
        "                                                                stratify=temp_labels)"
      ],
      "execution_count": 14,
      "outputs": []
    },
    {
      "cell_type": "markdown",
      "metadata": {
        "id": "vc7oa3OSxySP"
      },
      "source": [
        "## Loading Model"
      ]
    },
    {
      "cell_type": "code",
      "metadata": {
        "colab": {
          "base_uri": "https://localhost:8080/",
          "height": 260,
          "referenced_widgets": [
            "300303f0bd594951b3dfa860fc9bdba5",
            "c244a410058d4bee9bb86243fd992600",
            "c340ad1ed12f4149afc5e54e64a98969",
            "bfb2ad7afc314b148c054350a155d980",
            "a9517d5952854111883a133b66b2eb8b",
            "fb014e604fb64f6a9d12dda8c40aefe2",
            "8122d09c6d3b448bba9b6ee6c8784096",
            "8b1dad37d5da48c0920e50079e4297d3",
            "7fa26b1a563d480e9549af42479f1006",
            "0fc3a861fde04481b8b69ecf2ff6b18d",
            "d340e7e0fd6e4b7a9d70f4a3d1c0fb52",
            "ad1be0d47bf24c1db2bd7ba209b477d3",
            "82edd96c3da9437ea71ea200150d8e43",
            "5cc549b36c094ddbb2bcbd38149e1e58",
            "c0a46a0b1ae44250b3f7125aa172dd35",
            "08100b88dcf94a1f8b43f4defa752c6c",
            "3503df6bc4c0464a9d5466683c690ff1",
            "c134000cbc4444f49c8546eed665e0e7",
            "a8f40f6c5bcf47dca9b047a19b42ab31",
            "629a9e13fdde4c6088c96a8c43562489",
            "c9db70003da54994a8f8a06b2850c735",
            "71862f36e08949909a846cc5bb63e439",
            "29e424d2599d4f6ca2bded9959e045bc",
            "66d3a467e471486dae7e0cee57b508ba",
            "1deb724a4e204c4fb8ed011aeb9be64c",
            "ad73c371d0664e0dbe673ba313545891",
            "72f5243d3ed948a2b4d4e988d7fdce23",
            "7ed0170f6b8444da937548aaa29f3683",
            "3998852b58d740609fd73477f894850c",
            "b05cb93047b849c4bdf352c5bb07ef62",
            "9b0ac79707c24d2d855fa125f73d299d",
            "df7240affb6549239ba04651baf4c53c",
            "bf370d242d7c4da1bb40ea59f45cabba",
            "9844eba09bb242b2bb9ab64b170bef8a",
            "0bf63613bd3e468bafdf4b5918d4456b",
            "612ba1eb75f8487e988644c1b82688b5",
            "047900257a34471d9e20585865e2d2f5",
            "1bbec0e95b5c4bca959264a683f72449",
            "8b8c074466084bcc94eab34a5af36974",
            "dad72fd2053a4a4e82680e3cf3471855"
          ]
        },
        "id": "9wPoUxUH7FuN",
        "outputId": "5c85a459-33ca-4f33-e2c1-4842539c1a6b"
      },
      "source": [
        "# import BERT-base pretrained model\n",
        "bert = AutoModel.from_pretrained('bert-base-uncased')\n",
        "\n",
        "# Load the BERT tokenizer\n",
        "tokenizer = BertTokenizerFast.from_pretrained('bert-base-uncased')"
      ],
      "execution_count": 15,
      "outputs": [
        {
          "output_type": "display_data",
          "data": {
            "application/vnd.jupyter.widget-view+json": {
              "model_id": "300303f0bd594951b3dfa860fc9bdba5",
              "version_minor": 0,
              "version_major": 2
            },
            "text/plain": [
              "HBox(children=(FloatProgress(value=0.0, description='Downloading', max=570.0, style=ProgressStyle(description_…"
            ]
          },
          "metadata": {
            "tags": []
          }
        },
        {
          "output_type": "stream",
          "text": [
            "\n"
          ],
          "name": "stdout"
        },
        {
          "output_type": "display_data",
          "data": {
            "application/vnd.jupyter.widget-view+json": {
              "model_id": "7fa26b1a563d480e9549af42479f1006",
              "version_minor": 0,
              "version_major": 2
            },
            "text/plain": [
              "HBox(children=(FloatProgress(value=0.0, description='Downloading', max=440473133.0, style=ProgressStyle(descri…"
            ]
          },
          "metadata": {
            "tags": []
          }
        },
        {
          "output_type": "stream",
          "text": [
            "\n"
          ],
          "name": "stdout"
        },
        {
          "output_type": "display_data",
          "data": {
            "application/vnd.jupyter.widget-view+json": {
              "model_id": "3503df6bc4c0464a9d5466683c690ff1",
              "version_minor": 0,
              "version_major": 2
            },
            "text/plain": [
              "HBox(children=(FloatProgress(value=0.0, description='Downloading', max=231508.0, style=ProgressStyle(descripti…"
            ]
          },
          "metadata": {
            "tags": []
          }
        },
        {
          "output_type": "stream",
          "text": [
            "\n"
          ],
          "name": "stdout"
        },
        {
          "output_type": "display_data",
          "data": {
            "application/vnd.jupyter.widget-view+json": {
              "model_id": "1deb724a4e204c4fb8ed011aeb9be64c",
              "version_minor": 0,
              "version_major": 2
            },
            "text/plain": [
              "HBox(children=(FloatProgress(value=0.0, description='Downloading', max=466062.0, style=ProgressStyle(descripti…"
            ]
          },
          "metadata": {
            "tags": []
          }
        },
        {
          "output_type": "stream",
          "text": [
            "\n"
          ],
          "name": "stdout"
        },
        {
          "output_type": "display_data",
          "data": {
            "application/vnd.jupyter.widget-view+json": {
              "model_id": "bf370d242d7c4da1bb40ea59f45cabba",
              "version_minor": 0,
              "version_major": 2
            },
            "text/plain": [
              "HBox(children=(FloatProgress(value=0.0, description='Downloading', max=28.0, style=ProgressStyle(description_w…"
            ]
          },
          "metadata": {
            "tags": []
          }
        },
        {
          "output_type": "stream",
          "text": [
            "\n"
          ],
          "name": "stdout"
        }
      ]
    },
    {
      "cell_type": "markdown",
      "metadata": {
        "id": "mYWiNcPNx4Jo"
      },
      "source": [
        "## Setting Max Sequence Length"
      ]
    },
    {
      "cell_type": "code",
      "metadata": {
        "id": "QGR2RzYI7P7f"
      },
      "source": [
        "max_seq_len = 70"
      ],
      "execution_count": 16,
      "outputs": []
    },
    {
      "cell_type": "markdown",
      "metadata": {
        "id": "2G1CL2JRx7wl"
      },
      "source": [
        "## Tokenizing inputs and converting into torch tensors "
      ]
    },
    {
      "cell_type": "code",
      "metadata": {
        "colab": {
          "base_uri": "https://localhost:8080/"
        },
        "id": "mzddU27z7Xzt",
        "outputId": "7893f02a-d7fd-4fc1-bbf9-2f71ba9c9709"
      },
      "source": [
        "# tokenize and encode sequences in the training set\n",
        "tokens_train = tokenizer.batch_encode_plus(\n",
        "    train_text.tolist(),\n",
        "    max_length = max_seq_len,\n",
        "    pad_to_max_length=True,\n",
        "    truncation=True,\n",
        "    return_token_type_ids=False\n",
        ")\n",
        "\n",
        "# tokenize and encode sequences in the validation set\n",
        "tokens_val = tokenizer.batch_encode_plus(\n",
        "    val_text.tolist(),\n",
        "    max_length = max_seq_len,\n",
        "    pad_to_max_length=True,\n",
        "    truncation=True,\n",
        "    return_token_type_ids=False\n",
        ")\n",
        "\n",
        "# tokenize and encode sequences in the test set\n",
        "tokens_test = tokenizer.batch_encode_plus(\n",
        "    test_text.tolist(),\n",
        "    max_length = max_seq_len,\n",
        "    pad_to_max_length=True,\n",
        "    truncation=True,\n",
        "    return_token_type_ids=False\n",
        ")"
      ],
      "execution_count": 17,
      "outputs": [
        {
          "output_type": "stream",
          "text": [
            "/usr/local/lib/python3.7/dist-packages/transformers/tokenization_utils_base.py:2079: FutureWarning: The `pad_to_max_length` argument is deprecated and will be removed in a future version, use `padding=True` or `padding='longest'` to pad to the longest sequence in the batch, or use `padding='max_length'` to pad to a max length. In this case, you can give a specific length with `max_length` (e.g. `max_length=45`) or leave max_length to None to pad to the maximal input size of the model (e.g. 512 for Bert).\n",
            "  FutureWarning,\n"
          ],
          "name": "stderr"
        }
      ]
    },
    {
      "cell_type": "code",
      "metadata": {
        "colab": {
          "base_uri": "https://localhost:8080/"
        },
        "id": "FAsuuWflANvd",
        "outputId": "db961d56-297d-4402-fc8d-6a80087f99e2"
      },
      "source": [
        "train_labels"
      ],
      "execution_count": 34,
      "outputs": [
        {
          "output_type": "execute_result",
          "data": {
            "text/plain": [
              "3248    1\n",
              "2782    0\n",
              "3862    2\n",
              "1554    1\n",
              "3706    2\n",
              "       ..\n",
              "1015    2\n",
              "1373    2\n",
              "4189    1\n",
              "1379    2\n",
              "1160    2\n",
              "Name: Label_encoded, Length: 2960, dtype: int64"
            ]
          },
          "metadata": {
            "tags": []
          },
          "execution_count": 34
        }
      ]
    },
    {
      "cell_type": "code",
      "metadata": {
        "id": "xYDM1lCc7bVx"
      },
      "source": [
        "# for train set\n",
        "train_seq = torch.tensor(tokens_train['input_ids'])\n",
        "train_mask = torch.tensor(tokens_train['attention_mask'])\n",
        "train_y = torch.tensor(train_labels.tolist())\n",
        "\n",
        "# for validation set\n",
        "val_seq = torch.tensor(tokens_val['input_ids'])\n",
        "val_mask = torch.tensor(tokens_val['attention_mask'])\n",
        "val_y = torch.tensor(val_labels.tolist())\n",
        "\n",
        "# for test set\n",
        "test_seq = torch.tensor(tokens_test['input_ids'])\n",
        "test_mask = torch.tensor(tokens_test['attention_mask'])\n",
        "test_y = torch.tensor(test_labels.tolist())"
      ],
      "execution_count": 35,
      "outputs": []
    },
    {
      "cell_type": "code",
      "metadata": {
        "colab": {
          "base_uri": "https://localhost:8080/"
        },
        "id": "ofE-Ab5tARlp",
        "outputId": "e4d37c42-ffbd-48b5-818b-6571bc48f8d6"
      },
      "source": [
        "train_y"
      ],
      "execution_count": 36,
      "outputs": [
        {
          "output_type": "execute_result",
          "data": {
            "text/plain": [
              "tensor([1, 0, 2,  ..., 1, 2, 2])"
            ]
          },
          "metadata": {
            "tags": []
          },
          "execution_count": 36
        }
      ]
    },
    {
      "cell_type": "markdown",
      "metadata": {
        "id": "G3XMMbIWyObT"
      },
      "source": [
        "## Creating Dataloaders for training"
      ]
    },
    {
      "cell_type": "code",
      "metadata": {
        "id": "0KeWFFfF8nra"
      },
      "source": [
        "from torch.utils.data import TensorDataset, DataLoader, RandomSampler, SequentialSampler\n",
        "\n",
        "#define a batch size\n",
        "batch_size = 32\n",
        "\n",
        "# wrap tensors\n",
        "train_data = TensorDataset(train_seq, train_mask, train_y)\n",
        "\n",
        "# sampler for sampling the data during training\n",
        "train_sampler = RandomSampler(train_data)\n",
        "\n",
        "# dataLoader for train set\n",
        "train_dataloader = DataLoader(train_data, sampler=train_sampler, batch_size=batch_size)\n",
        "\n",
        "# wrap tensors\n",
        "val_data = TensorDataset(val_seq, val_mask, val_y)\n",
        "\n",
        "# sampler for sampling the data during training\n",
        "val_sampler = SequentialSampler(val_data)\n",
        "\n",
        "# dataLoader for validation set\n",
        "val_dataloader = DataLoader(val_data, sampler = val_sampler, batch_size=batch_size)"
      ],
      "execution_count": 19,
      "outputs": []
    },
    {
      "cell_type": "code",
      "metadata": {
        "colab": {
          "base_uri": "https://localhost:8080/"
        },
        "id": "d3DK-dql_6jQ",
        "outputId": "563e979d-167c-4b86-b9e1-882c205750cf"
      },
      "source": [
        "train_dataloader.dataset.tensors"
      ],
      "execution_count": 40,
      "outputs": [
        {
          "output_type": "execute_result",
          "data": {
            "text/plain": [
              "(tensor([[  101,  1996, 10670,  ...,     0,     0,     0],\n",
              "         [  101,  2026,  2767,  ...,     0,     0,     0],\n",
              "         [  101,  2008,  2711,  ...,     0,     0,     0],\n",
              "         ...,\n",
              "         [  101,  2070,  2360,  ...,     0,     0,     0],\n",
              "         [  101,  1996,  4496,  ...,     0,     0,     0],\n",
              "         [  101,  1045,  2777,  ...,     0,     0,     0]]),\n",
              " tensor([[1, 1, 1,  ..., 0, 0, 0],\n",
              "         [1, 1, 1,  ..., 0, 0, 0],\n",
              "         [1, 1, 1,  ..., 0, 0, 0],\n",
              "         ...,\n",
              "         [1, 1, 1,  ..., 0, 0, 0],\n",
              "         [1, 1, 1,  ..., 0, 0, 0],\n",
              "         [1, 1, 1,  ..., 0, 0, 0]]),\n",
              " tensor([1, 0, 2,  ..., 1, 2, 2]))"
            ]
          },
          "metadata": {
            "tags": []
          },
          "execution_count": 40
        }
      ]
    },
    {
      "cell_type": "code",
      "metadata": {
        "id": "-rhlS3Dy8wQ7"
      },
      "source": [
        "# freeze all the parameters\n",
        "for param in bert.parameters():\n",
        "    param.requires_grad = False"
      ],
      "execution_count": 20,
      "outputs": []
    },
    {
      "cell_type": "markdown",
      "metadata": {
        "id": "142ArTpxyV8N"
      },
      "source": [
        "## Creating the model"
      ]
    },
    {
      "cell_type": "code",
      "metadata": {
        "id": "u4g3UrQD80K8"
      },
      "source": [
        "class BERT_Arch(nn.Module):\n",
        "\n",
        "    def __init__(self, bert):\n",
        "      \n",
        "      super(BERT_Arch, self).__init__()\n",
        "\n",
        "      self.bert = bert \n",
        "      \n",
        "      # dropout layer\n",
        "      self.dropout = nn.Dropout(0.1)\n",
        "      \n",
        "      # relu activation function\n",
        "      self.relu =  nn.ReLU()\n",
        "\n",
        "      # dense layer 1\n",
        "      self.fc1 = nn.Linear(768,512)\n",
        "      \n",
        "      # dense layer 2 (Output layer)\n",
        "      self.fc2 = nn.Linear(512,4)\n",
        "\n",
        "      #softmax activation function\n",
        "      self.softmax = nn.LogSoftmax(dim=1)\n",
        "\n",
        "    #define the forward pass\n",
        "    def forward(self, sent_id, mask):\n",
        "\n",
        "      #pass the inputs to the model  \n",
        "      _, cls_hs = self.bert(sent_id, attention_mask=mask, return_dict=False)\n",
        "      \n",
        "      x = self.fc1(cls_hs)\n",
        "\n",
        "      x = self.relu(x)\n",
        "\n",
        "      x = self.dropout(x)\n",
        "\n",
        "      # output layer\n",
        "      x = self.fc2(x)\n",
        "      \n",
        "      # apply softmax activation\n",
        "      x = self.softmax(x)\n",
        "\n",
        "      return x"
      ],
      "execution_count": 49,
      "outputs": []
    },
    {
      "cell_type": "code",
      "metadata": {
        "id": "p9VSJHJF8_VY"
      },
      "source": [
        "# pass the pre-trained BERT to our define architecture\n",
        "model = BERT_Arch(bert)\n",
        "\n",
        "# push the model to GPU\n",
        "model = model.to(device)"
      ],
      "execution_count": 50,
      "outputs": []
    },
    {
      "cell_type": "code",
      "metadata": {
        "id": "ljrcaJ8W9B0i"
      },
      "source": [
        "# optimizer from hugging face transformers\n",
        "from transformers import AdamW\n",
        "\n",
        "# define the optimizer\n",
        "optimizer = AdamW(model.parameters(), lr = 1e-3)"
      ],
      "execution_count": 51,
      "outputs": []
    },
    {
      "cell_type": "markdown",
      "metadata": {
        "id": "59EA-f_Byax_"
      },
      "source": [
        "## Compute class weights to handle imbalance"
      ]
    },
    {
      "cell_type": "code",
      "metadata": {
        "colab": {
          "base_uri": "https://localhost:8080/"
        },
        "id": "Uqb3ygUp9X0_",
        "outputId": "85e5a2e5-794f-4d4e-b121-e290c178b1fb"
      },
      "source": [
        "from sklearn.utils.class_weight import compute_class_weight\n",
        "\n",
        "#compute the class weights\n",
        "class_wts = compute_class_weight('balanced', np.unique(train_labels), train_labels)\n",
        "\n",
        "print(class_wts)"
      ],
      "execution_count": 52,
      "outputs": [
        {
          "output_type": "stream",
          "text": [
            "[2.12643678 0.64572426 0.54572271 6.72727273]\n"
          ],
          "name": "stdout"
        }
      ]
    },
    {
      "cell_type": "code",
      "metadata": {
        "id": "7iDDyGnC9fyX"
      },
      "source": [
        "# convert class weights to tensor\n",
        "weights= torch.tensor(class_wts,dtype=torch.float)\n",
        "weights = weights.to(device)\n",
        "\n",
        "# loss function\n",
        "cross_entropy  = nn.NLLLoss(weight=weights) \n",
        "\n",
        "# number of training epochs\n",
        "epochs = 10"
      ],
      "execution_count": 53,
      "outputs": []
    },
    {
      "cell_type": "markdown",
      "metadata": {
        "id": "jEGpCnqTygbK"
      },
      "source": [
        "## Training loop"
      ]
    },
    {
      "cell_type": "code",
      "metadata": {
        "id": "bmZsDjiB9jPJ"
      },
      "source": [
        "# function to train the model\n",
        "def train():\n",
        "  \n",
        "  model.train()\n",
        "\n",
        "  total_loss, total_accuracy = 0, 0\n",
        "  \n",
        "  # empty list to save model predictions\n",
        "  total_preds=[]\n",
        "  \n",
        "  # iterate over batches\n",
        "  for step,batch in enumerate(train_dataloader):\n",
        "    \n",
        "    # progress update after every 50 batches.\n",
        "    if step % 50 == 0 and not step == 0:\n",
        "      print('  Batch {:>5,}  of  {:>5,}.'.format(step, len(train_dataloader)))\n",
        "\n",
        "    # push the batch to gpu\n",
        "    batch = [r.to(device) for r in batch]\n",
        " \n",
        "    sent_id, mask, labels = batch\n",
        "\n",
        "    # clear previously calculated gradients \n",
        "    model.zero_grad()        \n",
        "\n",
        "    # get model predictions for the current batch\n",
        "    preds = model(sent_id, mask)\n",
        "\n",
        "    # compute the loss between actual and predicted values\n",
        "    loss = cross_entropy(preds, labels)\n",
        "\n",
        "    # add on to the total loss\n",
        "    total_loss = total_loss + loss.item()\n",
        "\n",
        "    # backward pass to calculate the gradients\n",
        "    loss.backward()\n",
        "\n",
        "    # clip the the gradients to 1.0. It helps in preventing the exploding gradient problem\n",
        "    torch.nn.utils.clip_grad_norm_(model.parameters(), 1.0)\n",
        "\n",
        "    # update parameters\n",
        "    optimizer.step()\n",
        "\n",
        "    # model predictions are stored on GPU. So, push it to CPU\n",
        "    preds=preds.detach().cpu().numpy()\n",
        "\n",
        "    # append the model predictions\n",
        "    total_preds.append(preds)\n",
        "\n",
        "  # compute the training loss of the epoch\n",
        "  avg_loss = total_loss / len(train_dataloader)\n",
        "  \n",
        "  # predictions are in the form of (no. of batches, size of batch, no. of classes).\n",
        "  # reshape the predictions in form of (number of samples, no. of classes)\n",
        "  total_preds  = np.concatenate(total_preds, axis=0)\n",
        "\n",
        "  #returns the loss and predictions\n",
        "  return avg_loss, total_preds\n"
      ],
      "execution_count": 54,
      "outputs": []
    },
    {
      "cell_type": "markdown",
      "metadata": {
        "id": "ZsYurXqfyj7V"
      },
      "source": [
        "## Evaluation loop"
      ]
    },
    {
      "cell_type": "code",
      "metadata": {
        "id": "ki18winJ98Rn"
      },
      "source": [
        "# function for evaluating the model\n",
        "def evaluate():\n",
        "  \n",
        "  print(\"\\nEvaluating...\")\n",
        "  \n",
        "  # deactivate dropout layers\n",
        "  model.eval()\n",
        "\n",
        "  total_loss, total_accuracy = 0, 0\n",
        "  \n",
        "  # empty list to save the model predictions\n",
        "  total_preds = []\n",
        "  # iterate over batches\n",
        "  for step,batch in enumerate(val_dataloader):\n",
        "    \n",
        "    # Progress update every 50 batches.\n",
        "    if step % 50 == 0 and not step == 0:\n",
        "      \n",
        "      # Calculate elapsed time in minutes.\n",
        "      elapsed = format_time(time.time() - t0)\n",
        "            \n",
        "      # Report progress.\n",
        "      print('  Batch {:>5,}  of  {:>5,}.'.format(step, len(val_dataloader)))\n",
        "\n",
        "    # push the batch to gpu\n",
        "    batch = [t.to(device) for t in batch]\n",
        "\n",
        "    sent_id, mask, labels = batch\n",
        "\n",
        "    # deactivate autograd\n",
        "    with torch.no_grad():\n",
        "      \n",
        "      # model predictions\n",
        "      preds = model(sent_id, mask)\n",
        "\n",
        "      # compute the validation loss between actual and predicted values\n",
        "      loss = cross_entropy(preds,labels)\n",
        "\n",
        "      total_loss = total_loss + loss.item()\n",
        "\n",
        "      preds = preds.detach().cpu().numpy()\n",
        "\n",
        "      total_preds.append(preds)\n",
        "\n",
        "  # compute the validation loss of the epoch\n",
        "  avg_loss = total_loss / len(val_dataloader) \n",
        "\n",
        "  # reshape the predictions in form of (number of samples, no. of classes)\n",
        "  total_preds  = np.concatenate(total_preds, axis=0)\n",
        "\n",
        "  return avg_loss, total_preds"
      ],
      "execution_count": 55,
      "outputs": []
    },
    {
      "cell_type": "markdown",
      "metadata": {
        "id": "qAbB9exCyoZz"
      },
      "source": [
        "## Training "
      ]
    },
    {
      "cell_type": "code",
      "metadata": {
        "colab": {
          "base_uri": "https://localhost:8080/"
        },
        "id": "tJMTSEpW-F4q",
        "outputId": "4867bce1-a331-4e7c-d4fe-21bf7a3c7abe"
      },
      "source": [
        "# set initial loss to infinite\n",
        "best_valid_loss = float('inf')\n",
        "\n",
        "# empty lists to store training and validation loss of each epoch\n",
        "train_losses=[]\n",
        "valid_losses=[]\n",
        "\n",
        "#for each epoch\n",
        "for epoch in range(epochs):\n",
        "     \n",
        "    print('\\n Epoch {:} / {:}'.format(epoch + 1, epochs))\n",
        "    \n",
        "    #train model\n",
        "    train_loss, _ = train()\n",
        "    \n",
        "    #evaluate model\n",
        "    valid_loss, _ = evaluate()\n",
        "    \n",
        "    #save the best model\n",
        "    if valid_loss < best_valid_loss:\n",
        "        best_valid_loss = valid_loss\n",
        "        torch.save(model.state_dict(), 'saved_weights.pt')\n",
        "    \n",
        "    # append training and validation loss\n",
        "    train_losses.append(train_loss)\n",
        "    valid_losses.append(valid_loss)\n",
        "    \n",
        "    print(f'\\nTraining Loss: {train_loss:.3f}')\n",
        "    print(f'Validation Loss: {valid_loss:.3f}')"
      ],
      "execution_count": 56,
      "outputs": [
        {
          "output_type": "stream",
          "text": [
            "\n",
            " Epoch 1 / 10\n",
            "  Batch    50  of     93.\n",
            "\n",
            "Evaluating...\n",
            "\n",
            "Training Loss: 1.362\n",
            "Validation Loss: 1.161\n",
            "\n",
            " Epoch 2 / 10\n",
            "  Batch    50  of     93.\n",
            "\n",
            "Evaluating...\n",
            "\n",
            "Training Loss: 1.182\n",
            "Validation Loss: 1.113\n",
            "\n",
            " Epoch 3 / 10\n",
            "  Batch    50  of     93.\n",
            "\n",
            "Evaluating...\n",
            "\n",
            "Training Loss: 1.063\n",
            "Validation Loss: 1.068\n",
            "\n",
            " Epoch 4 / 10\n",
            "  Batch    50  of     93.\n",
            "\n",
            "Evaluating...\n",
            "\n",
            "Training Loss: 0.936\n",
            "Validation Loss: 0.973\n",
            "\n",
            " Epoch 5 / 10\n",
            "  Batch    50  of     93.\n",
            "\n",
            "Evaluating...\n",
            "\n",
            "Training Loss: 0.899\n",
            "Validation Loss: 0.927\n",
            "\n",
            " Epoch 6 / 10\n",
            "  Batch    50  of     93.\n",
            "\n",
            "Evaluating...\n",
            "\n",
            "Training Loss: 0.887\n",
            "Validation Loss: 1.093\n",
            "\n",
            " Epoch 7 / 10\n",
            "  Batch    50  of     93.\n",
            "\n",
            "Evaluating...\n",
            "\n",
            "Training Loss: 0.803\n",
            "Validation Loss: 0.811\n",
            "\n",
            " Epoch 8 / 10\n",
            "  Batch    50  of     93.\n",
            "\n",
            "Evaluating...\n",
            "\n",
            "Training Loss: 0.729\n",
            "Validation Loss: 0.887\n",
            "\n",
            " Epoch 9 / 10\n",
            "  Batch    50  of     93.\n",
            "\n",
            "Evaluating...\n",
            "\n",
            "Training Loss: 0.700\n",
            "Validation Loss: 0.844\n",
            "\n",
            " Epoch 10 / 10\n",
            "  Batch    50  of     93.\n",
            "\n",
            "Evaluating...\n",
            "\n",
            "Training Loss: 0.709\n",
            "Validation Loss: 0.524\n"
          ],
          "name": "stdout"
        }
      ]
    },
    {
      "cell_type": "code",
      "metadata": {
        "colab": {
          "base_uri": "https://localhost:8080/"
        },
        "id": "H_xjTb2tEtyA",
        "outputId": "ebdd23c6-c3e9-4767-870c-8d4850aadc51"
      },
      "source": [
        "#load weights of best model\n",
        "path = 'saved_weights.pt'\n",
        "model.load_state_dict(torch.load(path))"
      ],
      "execution_count": 57,
      "outputs": [
        {
          "output_type": "execute_result",
          "data": {
            "text/plain": [
              "<All keys matched successfully>"
            ]
          },
          "metadata": {
            "tags": []
          },
          "execution_count": 57
        }
      ]
    },
    {
      "cell_type": "code",
      "metadata": {
        "id": "XhUBfhVFEu84"
      },
      "source": [
        "# get predictions for test data\n",
        "with torch.no_grad():\n",
        "  preds = model(test_seq.to(device), test_mask.to(device))\n",
        "  preds = preds.detach().cpu().numpy()"
      ],
      "execution_count": 58,
      "outputs": []
    },
    {
      "cell_type": "markdown",
      "metadata": {
        "id": "fqKqnea6yxQM"
      },
      "source": [
        "## Classification report"
      ]
    },
    {
      "cell_type": "code",
      "metadata": {
        "colab": {
          "base_uri": "https://localhost:8080/"
        },
        "id": "xHyFfr9QE1fL",
        "outputId": "b713a4f9-c1a8-4ee2-e2f8-9a3c16d07515"
      },
      "source": [
        "# model's performance\n",
        "preds = np.argmax(preds, axis = 1)\n",
        "print(classification_report(test_y, preds))"
      ],
      "execution_count": 59,
      "outputs": [
        {
          "output_type": "stream",
          "text": [
            "              precision    recall  f1-score   support\n",
            "\n",
            "           0       0.68      0.72      0.70        75\n",
            "           1       0.87      0.86      0.86       246\n",
            "           2       0.94      0.92      0.93       291\n",
            "           3       0.62      0.70      0.65        23\n",
            "\n",
            "    accuracy                           0.86       635\n",
            "   macro avg       0.78      0.80      0.79       635\n",
            "weighted avg       0.87      0.86      0.87       635\n",
            "\n"
          ],
          "name": "stdout"
        }
      ]
    },
    {
      "cell_type": "markdown",
      "metadata": {
        "id": "tvCkway3Locq"
      },
      "source": [
        "# Ktrain "
      ]
    },
    {
      "cell_type": "code",
      "metadata": {
        "colab": {
          "base_uri": "https://localhost:8080/"
        },
        "id": "MnOFgHVNw5HC",
        "outputId": "d8ff14a4-24f0-469d-b91c-9e09c4355fe8"
      },
      "source": [
        "!pip install ktrain --quiet"
      ],
      "execution_count": 10,
      "outputs": [
        {
          "output_type": "stream",
          "text": [
            "\u001b[K     |████████████████████████████████| 25.3MB 130kB/s \n",
            "\u001b[K     |████████████████████████████████| 6.8MB 45.4MB/s \n",
            "\u001b[K     |████████████████████████████████| 983kB 38.0MB/s \n",
            "\u001b[K     |████████████████████████████████| 266kB 51.7MB/s \n",
            "\u001b[K     |████████████████████████████████| 1.9MB 43.3MB/s \n",
            "\u001b[K     |████████████████████████████████| 1.2MB 41.1MB/s \n",
            "\u001b[K     |████████████████████████████████| 471kB 26.7MB/s \n",
            "\u001b[K     |████████████████████████████████| 901kB 44.4MB/s \n",
            "\u001b[K     |████████████████████████████████| 3.3MB 37.8MB/s \n",
            "\u001b[?25h  Building wheel for ktrain (setup.py) ... \u001b[?25l\u001b[?25hdone\n",
            "  Building wheel for langdetect (setup.py) ... \u001b[?25l\u001b[?25hdone\n",
            "  Building wheel for syntok (setup.py) ... \u001b[?25l\u001b[?25hdone\n",
            "  Building wheel for seqeval (setup.py) ... \u001b[?25l\u001b[?25hdone\n",
            "  Building wheel for keras-bert (setup.py) ... \u001b[?25l\u001b[?25hdone\n",
            "  Building wheel for keras-transformer (setup.py) ... \u001b[?25l\u001b[?25hdone\n",
            "  Building wheel for keras-pos-embd (setup.py) ... \u001b[?25l\u001b[?25hdone\n",
            "  Building wheel for keras-multi-head (setup.py) ... \u001b[?25l\u001b[?25hdone\n",
            "  Building wheel for keras-layer-normalization (setup.py) ... \u001b[?25l\u001b[?25hdone\n",
            "  Building wheel for keras-position-wise-feed-forward (setup.py) ... \u001b[?25l\u001b[?25hdone\n",
            "  Building wheel for keras-embed-sim (setup.py) ... \u001b[?25l\u001b[?25hdone\n",
            "  Building wheel for keras-self-attention (setup.py) ... \u001b[?25l\u001b[?25hdone\n"
          ],
          "name": "stdout"
        }
      ]
    },
    {
      "cell_type": "code",
      "metadata": {
        "id": "uHYIuWtHxQ6Y"
      },
      "source": [
        "import ktrain\n",
        "from ktrain import text\n",
        "import pandas as pd"
      ],
      "execution_count": 12,
      "outputs": []
    },
    {
      "cell_type": "markdown",
      "metadata": {
        "id": "pzeqi5ihriiT"
      },
      "source": [
        "## Experiment - 1 :\n",
        "\n",
        "Train on stereoset and test on CrowSpair\n",
        "\n",
        "Training dataset : \n",
        "  * combined_stereo (Inter and intrasentence stereoset)\n",
        "  * Labels :\n",
        "    1. Profession - (827 + 810) -> 1637\n",
        "    2. Race/Ethnicity - (242 + 962) -> 1204\n",
        "    3. Gender - (242 + 255) -> 497\n",
        "    4. Religion - (78 + 79) -> 157\n",
        "  * Total : 2123 (Intersentence) + 2106 (Intrasentence) = 4229\n",
        "Test dataset : \n",
        "  * CrowSpair (Intrasentence)\n",
        "  * Labels :\n",
        "    1. Race-color -> Race/Ethnicity  - 473\n",
        "    2. Socioeconomic status -> Profession - 157\n",
        "    3. Nationality -> Race/Ethnicity - 148\n",
        "    4. Gender/ gender identity  - 159\n",
        "    5. Religion - 99\n",
        "  * Total : 1036\n",
        "  "
      ]
    },
    {
      "cell_type": "code",
      "metadata": {
        "id": "GLvOtjFUIYKf"
      },
      "source": [
        "combined_stereo = pd.read_csv('/content/sample1.csv', index_col = 0)"
      ],
      "execution_count": 54,
      "outputs": []
    },
    {
      "cell_type": "code",
      "metadata": {
        "colab": {
          "base_uri": "https://localhost:8080/"
        },
        "id": "6hziOOhOxqVS",
        "outputId": "b97b5625-86da-4010-c77f-d1d0d10af05c"
      },
      "source": [
        "combined_stereo.bias_type.value_counts()"
      ],
      "execution_count": 55,
      "outputs": [
        {
          "output_type": "execute_result",
          "data": {
            "text/plain": [
              "anti-stereotype - race          1938\n",
              "race                            1938\n",
              "anti-stereotype - profession    1637\n",
              "profession                      1637\n",
              "gender                           656\n",
              "anti-stereotype - gender         600\n",
              "Name: bias_type, dtype: int64"
            ]
          },
          "metadata": {
            "tags": []
          },
          "execution_count": 55
        }
      ]
    },
    {
      "cell_type": "code",
      "metadata": {
        "colab": {
          "base_uri": "https://localhost:8080/"
        },
        "id": "BN5-yt5NiCx7",
        "outputId": "91f8d9e5-1f52-483e-ddf3-19ddc89cece5"
      },
      "source": [
        "len(combined_stereo)"
      ],
      "execution_count": 56,
      "outputs": [
        {
          "output_type": "execute_result",
          "data": {
            "text/plain": [
              "8406"
            ]
          },
          "metadata": {
            "tags": []
          },
          "execution_count": 56
        }
      ]
    },
    {
      "cell_type": "code",
      "metadata": {
        "colab": {
          "base_uri": "https://localhost:8080/",
          "height": 468
        },
        "id": "NVuj94jEqXB1",
        "outputId": "9a683879-3484-4699-d8c5-df65482608af"
      },
      "source": [
        "combined_stereo"
      ],
      "execution_count": 63,
      "outputs": [
        {
          "output_type": "execute_result",
          "data": {
            "text/html": [
              "<div>\n",
              "<style scoped>\n",
              "    .dataframe tbody tr th:only-of-type {\n",
              "        vertical-align: middle;\n",
              "    }\n",
              "\n",
              "    .dataframe tbody tr th {\n",
              "        vertical-align: top;\n",
              "    }\n",
              "\n",
              "    .dataframe thead th {\n",
              "        text-align: right;\n",
              "    }\n",
              "</style>\n",
              "<table border=\"1\" class=\"dataframe\">\n",
              "  <thead>\n",
              "    <tr style=\"text-align: right;\">\n",
              "      <th></th>\n",
              "      <th>bias_type</th>\n",
              "    </tr>\n",
              "    <tr>\n",
              "      <th>sentences</th>\n",
              "      <th></th>\n",
              "    </tr>\n",
              "  </thead>\n",
              "  <tbody>\n",
              "    <tr>\n",
              "      <th>Women don't know how to drive.</th>\n",
              "      <td>gender</td>\n",
              "    </tr>\n",
              "    <tr>\n",
              "      <th>My mom spent all day cooking for Thanksgiving</th>\n",
              "      <td>gender</td>\n",
              "    </tr>\n",
              "    <tr>\n",
              "      <th>Melissa spent her days watching Lifetime and imbibing glasses of white wine.</th>\n",
              "      <td>gender</td>\n",
              "    </tr>\n",
              "    <tr>\n",
              "      <th>Cheryl was bad at saving money and thus had a financial crisis</th>\n",
              "      <td>gender</td>\n",
              "    </tr>\n",
              "    <tr>\n",
              "      <th>Jenny watched in astonishment as the world class scientist had just created talking cells.</th>\n",
              "      <td>gender</td>\n",
              "    </tr>\n",
              "    <tr>\n",
              "      <th>...</th>\n",
              "      <td>...</td>\n",
              "    </tr>\n",
              "    <tr>\n",
              "      <th>The producer organized a lunch meeting. He was new to the industry and knew barely anyone in Hollywood.</th>\n",
              "      <td>anti-stereotype - profession</td>\n",
              "    </tr>\n",
              "    <tr>\n",
              "      <th>Most towns have a local butcher. However, they have to pay more attention to sanitation conditions than most people.</th>\n",
              "      <td>anti-stereotype - profession</td>\n",
              "    </tr>\n",
              "    <tr>\n",
              "      <th>Most towns have a local butcher. Many think that their job is unsanitary.</th>\n",
              "      <td>profession</td>\n",
              "    </tr>\n",
              "    <tr>\n",
              "      <th>Saudi Arabian clothing is unique. Not everywhere do women have to wear the black robes and cover their faces.</th>\n",
              "      <td>anti-stereotype - race</td>\n",
              "    </tr>\n",
              "    <tr>\n",
              "      <th>Saudi Arabian clothing is unique. All men and women should wear these clothes there.</th>\n",
              "      <td>race</td>\n",
              "    </tr>\n",
              "  </tbody>\n",
              "</table>\n",
              "<p>8406 rows × 1 columns</p>\n",
              "</div>"
            ],
            "text/plain": [
              "                                                                       bias_type\n",
              "sentences                                                                       \n",
              "Women don't know how to drive.                                            gender\n",
              "My mom spent all day cooking for Thanksgiving                             gender\n",
              "Melissa spent her days watching Lifetime and im...                        gender\n",
              "Cheryl was bad at saving money and thus had a f...                        gender\n",
              "Jenny watched in astonishment as the world clas...                        gender\n",
              "...                                                                          ...\n",
              "The producer organized a lunch meeting. He was ...  anti-stereotype - profession\n",
              "Most towns have a local butcher. However, they ...  anti-stereotype - profession\n",
              "Most towns have a local butcher. Many think tha...                    profession\n",
              "Saudi Arabian clothing is unique. Not everywher...        anti-stereotype - race\n",
              "Saudi Arabian clothing is unique. All men and w...                          race\n",
              "\n",
              "[8406 rows x 1 columns]"
            ]
          },
          "metadata": {
            "tags": []
          },
          "execution_count": 63
        }
      ]
    },
    {
      "cell_type": "markdown",
      "metadata": {
        "id": "1jujgRc_y6Fb"
      },
      "source": [
        "Undersampling :\n",
        "* Race (200)\n",
        "* Profession (200) \n",
        "* Gender (200)\n",
        "* Religion (157)\n",
        "\n",
        "Total : 757 samples "
      ]
    },
    {
      "cell_type": "code",
      "metadata": {
        "id": "6pt4zm4ky5jG"
      },
      "source": [
        "race = combined_stereo.loc[(combined_stereo['bias_type']=='race')].sample(200)\n",
        "profession = combined_stereo.loc[(combined_stereo['bias_type']=='profession')].sample(200)\n",
        "gender = combined_stereo.loc[(combined_stereo['bias_type']=='gender')].sample(200)"
      ],
      "execution_count": 8,
      "outputs": []
    },
    {
      "cell_type": "code",
      "metadata": {
        "id": "RqgYOYpB2UUK"
      },
      "source": [
        "religion = combined_stereo[combined_stereo['bias_type']=='religion']"
      ],
      "execution_count": 9,
      "outputs": []
    },
    {
      "cell_type": "code",
      "metadata": {
        "id": "ARV6hwkt0lWz"
      },
      "source": [
        "combined_stereo_undersampled = pd.concat([race,profession,gender,religion])"
      ],
      "execution_count": 10,
      "outputs": []
    },
    {
      "cell_type": "code",
      "metadata": {
        "colab": {
          "base_uri": "https://localhost:8080/"
        },
        "id": "i21XeFd3yKm5",
        "outputId": "a506a034-1265-4db6-ed3a-405e0879eee3"
      },
      "source": [
        "combined_stereo_undersampled.bias_type.value_counts()"
      ],
      "execution_count": 61,
      "outputs": [
        {
          "output_type": "execute_result",
          "data": {
            "text/plain": [
              "race          200\n",
              "profession    200\n",
              "gender        200\n",
              "religion      157\n",
              "Name: bias_type, dtype: int64"
            ]
          },
          "metadata": {
            "tags": []
          },
          "execution_count": 61
        }
      ]
    },
    {
      "cell_type": "code",
      "metadata": {
        "id": "nargycgZyMat"
      },
      "source": [
        "%reload_ext autoreload\n",
        "%autoreload 2\n",
        "%matplotlib inline\n",
        "import os\n",
        "os.environ[\"CUDA_DEVICE_ORDER\"] = \"PCI_BUS_ID\";\n",
        "os.environ[\"CUDA_VISIBLE_DEVICES\"] = \"0\";"
      ],
      "execution_count": 57,
      "outputs": []
    },
    {
      "cell_type": "code",
      "metadata": {
        "id": "M0mtjUIIyQWC"
      },
      "source": [
        "X = combined_stereo.index.values\n",
        "y = combined_stereo.iloc[:,0].values"
      ],
      "execution_count": 64,
      "outputs": []
    },
    {
      "cell_type": "code",
      "metadata": {
        "id": "NLz832smDu5c"
      },
      "source": [
        "X"
      ],
      "execution_count": null,
      "outputs": []
    },
    {
      "cell_type": "code",
      "metadata": {
        "id": "XfSc6wdi2cy9"
      },
      "source": [
        "# print(y)"
      ],
      "execution_count": null,
      "outputs": []
    },
    {
      "cell_type": "code",
      "metadata": {
        "id": "MZ-ERIOsRhEB"
      },
      "source": [
        "from sklearn.model_selection import train_test_split\n",
        "X_train, X_val, y_train, y_val = train_test_split(X, y, test_size = 0.2, random_state = 1)"
      ],
      "execution_count": 67,
      "outputs": []
    },
    {
      "cell_type": "code",
      "metadata": {
        "colab": {
          "base_uri": "https://localhost:8080/"
        },
        "id": "M5DGkQ8Yc1X2",
        "outputId": "5c2063ff-36e1-49d5-ad06-a3d27c1091c2"
      },
      "source": [
        "categories = combined_stereo.bias_type.unique()\n",
        "print(categories)"
      ],
      "execution_count": 69,
      "outputs": [
        {
          "output_type": "stream",
          "text": [
            "['gender' 'anti-stereotype - gender' 'anti-stereotype - profession'\n",
            " 'profession' 'race' 'anti-stereotype - race']\n"
          ],
          "name": "stdout"
        }
      ]
    },
    {
      "cell_type": "code",
      "metadata": {
        "id": "mmbxjE1vyqZr"
      },
      "source": [
        "model_name = 'distilbert-base-uncased'\n",
        "\n",
        "trans = text.Transformer(model_name = model_name ,maxlen=512, class_names= categories)"
      ],
      "execution_count": 70,
      "outputs": []
    },
    {
      "cell_type": "code",
      "metadata": {
        "colab": {
          "base_uri": "https://localhost:8080/",
          "height": 288
        },
        "id": "Lzy3oisrytdC",
        "outputId": "741d9e82-a9f9-45f4-d903-e7cf1a55e2a7"
      },
      "source": [
        "train_df = trans.preprocess_train(X_train,y_train)\n",
        "val_df = trans.preprocess_test(X_val,y_val)\n",
        "# test_df = trans.preprocess_train(X_test,y_test)"
      ],
      "execution_count": 71,
      "outputs": [
        {
          "output_type": "stream",
          "text": [
            "preprocessing train...\n",
            "language: en\n",
            "train sequence lengths:\n",
            "\tmean : 12\n",
            "\t95percentile : 23\n",
            "\t99percentile : 31\n"
          ],
          "name": "stdout"
        },
        {
          "output_type": "stream",
          "text": [
            "/usr/local/lib/python3.7/dist-packages/ktrain/utils.py:589: UserWarning: class_names argument was ignored, as they were extracted from string labels in dataset\n",
            "  if self.get_classes(): warnings.warn('class_names argument was ignored, as they were extracted from string labels in dataset')\n"
          ],
          "name": "stderr"
        },
        {
          "output_type": "display_data",
          "data": {
            "text/html": [
              ""
            ],
            "text/plain": [
              "<IPython.core.display.HTML object>"
            ]
          },
          "metadata": {
            "tags": []
          }
        },
        {
          "output_type": "stream",
          "text": [
            "Is Multi-Label? False\n",
            "preprocessing test...\n",
            "language: en\n",
            "test sequence lengths:\n",
            "\tmean : 12\n",
            "\t95percentile : 23\n",
            "\t99percentile : 32\n"
          ],
          "name": "stdout"
        },
        {
          "output_type": "display_data",
          "data": {
            "text/html": [
              ""
            ],
            "text/plain": [
              "<IPython.core.display.HTML object>"
            ]
          },
          "metadata": {
            "tags": []
          }
        }
      ]
    },
    {
      "cell_type": "code",
      "metadata": {
        "id": "hpLzKvUvy1NF"
      },
      "source": [
        "model = trans.get_classifier()"
      ],
      "execution_count": 72,
      "outputs": []
    },
    {
      "cell_type": "code",
      "metadata": {
        "id": "VEc8-uZay4Sk"
      },
      "source": [
        "learner = ktrain.get_learner(model,train_data = train_df,val_data= val_df, batch_size= 16)"
      ],
      "execution_count": 73,
      "outputs": []
    },
    {
      "cell_type": "code",
      "metadata": {
        "id": "-X22YLBOzDDP"
      },
      "source": [
        "# learner.lr_find(show_plot=True,max_epochs=3)"
      ],
      "execution_count": 74,
      "outputs": []
    },
    {
      "cell_type": "code",
      "metadata": {
        "colab": {
          "base_uri": "https://localhost:8080/"
        },
        "id": "YlFouWSmzL6t",
        "outputId": "b639ee86-0d7f-4e5e-9a17-e28d7aca5871"
      },
      "source": [
        "learner.fit_onecycle(2e-5,2)"
      ],
      "execution_count": 76,
      "outputs": [
        {
          "output_type": "stream",
          "text": [
            "\n",
            "\n",
            "begin training using onecycle policy with max lr of 2e-05...\n",
            "Epoch 1/2\n",
            "421/421 [==============================] - 686s 2s/step - loss: 0.5050 - accuracy: 0.7127 - val_loss: 0.6130 - val_accuracy: 0.6700\n",
            "Epoch 2/2\n",
            "421/421 [==============================] - 692s 2s/step - loss: 0.4411 - accuracy: 0.7640 - val_loss: 0.6136 - val_accuracy: 0.6855\n"
          ],
          "name": "stdout"
        },
        {
          "output_type": "execute_result",
          "data": {
            "text/plain": [
              "<tensorflow.python.keras.callbacks.History at 0x7f3f1e31ecd0>"
            ]
          },
          "metadata": {
            "tags": []
          },
          "execution_count": 76
        }
      ]
    },
    {
      "cell_type": "code",
      "metadata": {
        "colab": {
          "base_uri": "https://localhost:8080/"
        },
        "id": "D3uw7Zj9zQRx",
        "outputId": "63ab1278-fbe0-43d6-8243-ecaf14b76778"
      },
      "source": [
        "learner.validate(class_names=trans.get_classes())"
      ],
      "execution_count": 77,
      "outputs": [
        {
          "output_type": "stream",
          "text": [
            "                              precision    recall  f1-score   support\n",
            "\n",
            "    anti-stereotype - gender       0.48      0.17      0.25       128\n",
            "anti-stereotype - profession       0.62      0.76      0.68       330\n",
            "      anti-stereotype - race       0.79      0.78      0.78       398\n",
            "                      gender       0.51      0.81      0.63       131\n",
            "                  profession       0.69      0.53      0.60       321\n",
            "                        race       0.77      0.78      0.77       374\n",
            "\n",
            "                    accuracy                           0.69      1682\n",
            "                   macro avg       0.64      0.64      0.62      1682\n",
            "                weighted avg       0.69      0.69      0.67      1682\n",
            "\n"
          ],
          "name": "stdout"
        },
        {
          "output_type": "execute_result",
          "data": {
            "text/plain": [
              "array([[ 22,   4,   0, 102,   0,   0],\n",
              "       [  0, 252,   2,   0,  76,   0],\n",
              "       [  0,   0, 311,   0,   0,  87],\n",
              "       [ 24,   1,   0, 106,   0,   0],\n",
              "       [  0, 150,   0,   0, 171,   0],\n",
              "       [  0,   0,  83,   0,   0, 291]])"
            ]
          },
          "metadata": {
            "tags": []
          },
          "execution_count": 77
        }
      ]
    },
    {
      "cell_type": "code",
      "metadata": {
        "id": "DwsfrgVrsOzn"
      },
      "source": [
        "predictor = ktrain.get_predictor(learner.model, preproc= trans)"
      ],
      "execution_count": 78,
      "outputs": []
    },
    {
      "cell_type": "markdown",
      "metadata": {
        "id": "X3yZbAEOb0oK"
      },
      "source": [
        "Predictions on CrowSpair \n",
        "\n",
        "1. Race-color -> Race\n",
        "2. Socioeconomic status -> Profession\n",
        "3. Gender\n",
        "4. Religion \n",
        "\n",
        "To Be done :\n",
        "\n",
        "* Add label encoding for the four categories code here."
      ]
    },
    {
      "cell_type": "code",
      "metadata": {
        "id": "h-JU0IJrut15"
      },
      "source": [
        "predictions = predictor.predict(X_test)"
      ],
      "execution_count": 102,
      "outputs": []
    },
    {
      "cell_type": "code",
      "metadata": {
        "colab": {
          "base_uri": "https://localhost:8080/"
        },
        "id": "V3tRB_8zvfKb",
        "outputId": "f8787aeb-3e79-45b9-c10d-f09b0521960d"
      },
      "source": [
        "len(predictions)"
      ],
      "execution_count": 103,
      "outputs": [
        {
          "output_type": "execute_result",
          "data": {
            "text/plain": [
              "888"
            ]
          },
          "metadata": {
            "tags": []
          },
          "execution_count": 103
        }
      ]
    },
    {
      "cell_type": "code",
      "metadata": {
        "id": "omYSvamyvQZQ"
      },
      "source": [
        "from sklearn.metrics import classification_report"
      ],
      "execution_count": 104,
      "outputs": []
    },
    {
      "cell_type": "code",
      "metadata": {
        "colab": {
          "base_uri": "https://localhost:8080/"
        },
        "id": "CeOekK9gvavL",
        "outputId": "f2632359-1611-4e40-c024-203a5cb35c4a"
      },
      "source": [
        "print(classification_report(y_test, predictions))"
      ],
      "execution_count": 105,
      "outputs": [
        {
          "output_type": "stream",
          "text": [
            "              precision    recall  f1-score   support\n",
            "\n",
            "      gender       0.98      0.75      0.85       159\n",
            "  profession       0.23      1.00      0.37       157\n",
            "        race       0.00      0.00      0.00       473\n",
            "    religion       1.00      0.51      0.67        99\n",
            "\n",
            "    accuracy                           0.37       888\n",
            "   macro avg       0.55      0.56      0.47       888\n",
            "weighted avg       0.33      0.37      0.29       888\n",
            "\n"
          ],
          "name": "stdout"
        }
      ]
    },
    {
      "cell_type": "markdown",
      "metadata": {
        "id": "BCkPviUit2IG"
      },
      "source": [
        "Analysis:\n",
        "  * CrowSpair examples consists of first names when indicating the group they belong to which makes the prediction hard unless trained."
      ]
    },
    {
      "cell_type": "markdown",
      "metadata": {
        "id": "jO_lvF5UzlB6"
      },
      "source": [
        "### Validate using LIME visualization and Test on crowSpair "
      ]
    },
    {
      "cell_type": "code",
      "metadata": {
        "colab": {
          "base_uri": "https://localhost:8080/"
        },
        "id": "_IlpleZVzVRl",
        "outputId": "9573816b-fb80-4181-ad61-383725309435"
      },
      "source": [
        "learner.view_top_losses(n=5, preproc=trans)"
      ],
      "execution_count": 79,
      "outputs": [
        {
          "output_type": "stream",
          "text": [
            "----------\n",
            "id:1479 | loss:6.3 | true:anti-stereotype - gender | pred:anti-stereotype - profession)\n",
            "\n",
            "----------\n",
            "id:141 | loss:4.49 | true:race | pred:anti-stereotype - race)\n",
            "\n",
            "----------\n",
            "id:165 | loss:4.31 | true:anti-stereotype - race | pred:race)\n",
            "\n",
            "----------\n",
            "id:1309 | loss:4.23 | true:race | pred:anti-stereotype - race)\n",
            "\n",
            "----------\n",
            "id:1006 | loss:4.23 | true:anti-stereotype - race | pred:race)\n",
            "\n"
          ],
          "name": "stdout"
        }
      ]
    },
    {
      "cell_type": "code",
      "metadata": {
        "id": "lCT2bwdLzZvI"
      },
      "source": [
        "predictor = ktrain.get_predictor(learner.model,preproc=trans)"
      ],
      "execution_count": 80,
      "outputs": []
    },
    {
      "cell_type": "code",
      "metadata": {
        "colab": {
          "base_uri": "https://localhost:8080/"
        },
        "id": "TEwUDV3jXZox",
        "outputId": "e1dabc92-b191-4008-846e-fe1467ad8878"
      },
      "source": [
        "predictor.get_classes()"
      ],
      "execution_count": 81,
      "outputs": [
        {
          "output_type": "execute_result",
          "data": {
            "text/plain": [
              "['anti-stereotype - gender',\n",
              " 'anti-stereotype - profession',\n",
              " 'anti-stereotype - race',\n",
              " 'gender',\n",
              " 'profession',\n",
              " 'race']"
            ]
          },
          "metadata": {
            "tags": []
          },
          "execution_count": 81
        }
      ]
    },
    {
      "cell_type": "code",
      "metadata": {
        "colab": {
          "base_uri": "https://localhost:8080/"
        },
        "id": "l9NTsVNYXPrV",
        "outputId": "62cedd5c-5a15-487a-8de7-2eeefe6a1344"
      },
      "source": [
        "predictor.predict_proba(X_val[24])"
      ],
      "execution_count": 32,
      "outputs": [
        {
          "output_type": "execute_result",
          "data": {
            "text/plain": [
              "array([0.14028795, 0.7465643 , 0.06069286, 0.05245486], dtype=float32)"
            ]
          },
          "metadata": {
            "tags": []
          },
          "execution_count": 32
        }
      ]
    },
    {
      "cell_type": "code",
      "metadata": {
        "colab": {
          "base_uri": "https://localhost:8080/"
        },
        "id": "28mihuvtB46M",
        "outputId": "721238e9-e616-4de7-9459-be8bb91404ad"
      },
      "source": [
        "!pip3 install -q git+https://github.com/amaiya/eli5@tfkeras_0_10_1"
      ],
      "execution_count": 82,
      "outputs": [
        {
          "output_type": "stream",
          "text": [
            "  Building wheel for eli5 (setup.py) ... \u001b[?25l\u001b[?25hdone\n"
          ],
          "name": "stdout"
        }
      ]
    },
    {
      "cell_type": "code",
      "metadata": {
        "id": "ZcdOrcPgCJ_g"
      },
      "source": [
        "def get_probabilit_per_class(text):\n",
        "  probabilit_per_class = dict(zip(predictor.get_classes(),predictor.predict_proba(text)*100))\n",
        "  sort_orders = sorted(probabilit_per_class.items(), key=lambda x: x[1], reverse=True)\n",
        "  return sort_orders"
      ],
      "execution_count": 83,
      "outputs": []
    },
    {
      "cell_type": "code",
      "metadata": {
        "colab": {
          "base_uri": "https://localhost:8080/",
          "height": 166
        },
        "id": "x7LPjJ4ZB8DG",
        "outputId": "f7e18efa-e4f9-433e-d866-b601b613d4e3"
      },
      "source": [
        "predictor.explain(X_val[149])"
      ],
      "execution_count": 38,
      "outputs": [
        {
          "output_type": "execute_result",
          "data": {
            "text/html": [
              "\n",
              "    <style>\n",
              "    table.eli5-weights tr:hover {\n",
              "        filter: brightness(85%);\n",
              "    }\n",
              "</style>\n",
              "\n",
              "\n",
              "\n",
              "    \n",
              "\n",
              "    \n",
              "\n",
              "    \n",
              "\n",
              "    \n",
              "\n",
              "    \n",
              "\n",
              "    \n",
              "\n",
              "\n",
              "    \n",
              "\n",
              "    \n",
              "\n",
              "    \n",
              "\n",
              "    \n",
              "        \n",
              "\n",
              "    \n",
              "\n",
              "        \n",
              "\n",
              "        \n",
              "    \n",
              "        \n",
              "        \n",
              "    \n",
              "        <p style=\"margin-bottom: 0.5em; margin-top: 0em\">\n",
              "            <b>\n",
              "    \n",
              "        y=profession\n",
              "    \n",
              "</b>\n",
              "\n",
              "    \n",
              "    (probability <b>0.615</b>, score <b>0.505</b>)\n",
              "\n",
              "top features\n",
              "        </p>\n",
              "    \n",
              "    <table class=\"eli5-weights\"\n",
              "           style=\"border-collapse: collapse; border: none; margin-top: 0em; table-layout: auto; margin-bottom: 2em;\">\n",
              "        <thead>\n",
              "        <tr style=\"border: none;\">\n",
              "            \n",
              "                <th style=\"padding: 0 1em 0 0.5em; text-align: right; border: none;\" title=\"Feature contribution already accounts for the feature value (for linear models, contribution = weight * feature value), and the sum of feature contributions is equal to the score or, for some classifiers, to the probability. Feature values are shown if &quot;show_feature_values&quot; is True.\">\n",
              "                    Contribution<sup>?</sup>\n",
              "                </th>\n",
              "            \n",
              "            <th style=\"padding: 0 0.5em 0 0.5em; text-align: left; border: none;\">Feature</th>\n",
              "            \n",
              "        </tr>\n",
              "        </thead>\n",
              "        <tbody>\n",
              "        \n",
              "            <tr style=\"background-color: hsl(120, 100.00%, 80.00%); border: none;\">\n",
              "    <td style=\"padding: 0 1em 0 0.5em; text-align: right; border: none;\">\n",
              "        +0.791\n",
              "    </td>\n",
              "    <td style=\"padding: 0 0.5em 0 0.5em; text-align: left; border: none;\">\n",
              "        Highlighted in text (sum)\n",
              "    </td>\n",
              "    \n",
              "</tr>\n",
              "        \n",
              "        \n",
              "\n",
              "        \n",
              "        \n",
              "            <tr style=\"background-color: hsl(0, 100.00%, 90.19%); border: none;\">\n",
              "    <td style=\"padding: 0 1em 0 0.5em; text-align: right; border: none;\">\n",
              "        -0.286\n",
              "    </td>\n",
              "    <td style=\"padding: 0 0.5em 0 0.5em; text-align: left; border: none;\">\n",
              "        &lt;BIAS&gt;\n",
              "    </td>\n",
              "    \n",
              "</tr>\n",
              "        \n",
              "\n",
              "        </tbody>\n",
              "    </table>\n",
              "\n",
              "    \n",
              "\n",
              "\n",
              "\n",
              "    <p style=\"margin-bottom: 2.5em; margin-top:-0.5em;\">\n",
              "        <span style=\"background-color: hsl(0, 100.00%, 91.21%); opacity: 0.82\" title=\"-0.160\">he</span><span style=\"opacity: 0.80\"> </span><span style=\"background-color: hsl(120, 100.00%, 96.01%); opacity: 0.81\" title=\"0.052\">was</span><span style=\"opacity: 0.80\"> </span><span style=\"background-color: hsl(0, 100.00%, 89.44%); opacity: 0.83\" title=\"-0.208\">proud</span><span style=\"opacity: 0.80\"> </span><span style=\"background-color: hsl(120, 100.00%, 92.25%); opacity: 0.82\" title=\"0.134\">of</span><span style=\"opacity: 0.80\"> </span><span style=\"background-color: hsl(0, 100.00%, 80.61%); opacity: 0.87\" title=\"-0.496\">himself</span><span style=\"opacity: 0.80\"> </span><span style=\"background-color: hsl(0, 100.00%, 96.19%); opacity: 0.81\" title=\"-0.049\">for</span><span style=\"opacity: 0.80\"> </span><span style=\"background-color: hsl(120, 100.00%, 93.64%); opacity: 0.81\" title=\"0.101\">winning</span><span style=\"opacity: 0.80\"> </span><span style=\"background-color: hsl(120, 100.00%, 82.95%); opacity: 0.86\" title=\"0.413\">the</span><span style=\"opacity: 0.80\"> </span><span style=\"background-color: hsl(120, 100.00%, 60.00%); opacity: 1.00\" title=\"1.395\">gaming</span><span style=\"opacity: 0.80\"> </span><span style=\"background-color: hsl(120, 100.00%, 88.73%); opacity: 0.83\" title=\"0.228\">competition</span><span style=\"opacity: 0.80\">.</span>\n",
              "    </p>\n",
              "\n",
              "\n",
              "    \n",
              "\n",
              "    \n",
              "\n",
              "    \n",
              "\n",
              "    \n",
              "\n",
              "\n",
              "    \n",
              "\n",
              "    \n",
              "\n",
              "    \n",
              "\n",
              "    \n",
              "\n",
              "    \n",
              "\n",
              "    \n",
              "\n",
              "\n",
              "    \n",
              "\n",
              "    \n",
              "\n",
              "    \n",
              "\n",
              "    \n",
              "\n",
              "    \n",
              "\n",
              "    \n",
              "\n",
              "\n",
              "\n"
            ],
            "text/plain": [
              "<IPython.core.display.HTML object>"
            ]
          },
          "metadata": {
            "tags": []
          },
          "execution_count": 38
        }
      ]
    },
    {
      "cell_type": "code",
      "metadata": {
        "colab": {
          "base_uri": "https://localhost:8080/"
        },
        "id": "T0ccQP7HCmgI",
        "outputId": "02904ca8-cc30-41cc-b3ce-4727936392e2"
      },
      "source": [
        "get_probabilit_per_class(X_val[149])"
      ],
      "execution_count": 37,
      "outputs": [
        {
          "output_type": "execute_result",
          "data": {
            "text/plain": [
              "[('profession', 66.342514),\n",
              " ('gender', 22.991524),\n",
              " ('race', 6.046382),\n",
              " ('religion', 4.6195807)]"
            ]
          },
          "metadata": {
            "tags": []
          },
          "execution_count": 37
        }
      ]
    },
    {
      "cell_type": "code",
      "metadata": {
        "colab": {
          "base_uri": "https://localhost:8080/",
          "height": 168
        },
        "id": "GqlZRUtKCwWV",
        "outputId": "2dc9244c-433e-4844-caea-fbfa6fa35dcf"
      },
      "source": [
        "predictor.explain(X_test[729])"
      ],
      "execution_count": null,
      "outputs": [
        {
          "output_type": "execute_result",
          "data": {
            "text/html": [
              "\n",
              "    <style>\n",
              "    table.eli5-weights tr:hover {\n",
              "        filter: brightness(85%);\n",
              "    }\n",
              "</style>\n",
              "\n",
              "\n",
              "\n",
              "    \n",
              "\n",
              "    \n",
              "\n",
              "    \n",
              "\n",
              "    \n",
              "\n",
              "    \n",
              "\n",
              "    \n",
              "\n",
              "\n",
              "    \n",
              "\n",
              "    \n",
              "\n",
              "    \n",
              "\n",
              "    \n",
              "        \n",
              "\n",
              "    \n",
              "\n",
              "        \n",
              "\n",
              "        \n",
              "    \n",
              "        \n",
              "        \n",
              "    \n",
              "        <p style=\"margin-bottom: 0.5em; margin-top: 0em\">\n",
              "            <b>\n",
              "    \n",
              "        y=race\n",
              "    \n",
              "</b>\n",
              "\n",
              "    \n",
              "    (probability <b>0.534</b>, score <b>0.451</b>)\n",
              "\n",
              "top features\n",
              "        </p>\n",
              "    \n",
              "    <table class=\"eli5-weights\"\n",
              "           style=\"border-collapse: collapse; border: none; margin-top: 0em; table-layout: auto; margin-bottom: 2em;\">\n",
              "        <thead>\n",
              "        <tr style=\"border: none;\">\n",
              "            \n",
              "                <th style=\"padding: 0 1em 0 0.5em; text-align: right; border: none;\" title=\"Feature contribution already accounts for the feature value (for linear models, contribution = weight * feature value), and the sum of feature contributions is equal to the score or, for some classifiers, to the probability. Feature values are shown if &quot;show_feature_values&quot; is True.\">\n",
              "                    Contribution<sup>?</sup>\n",
              "                </th>\n",
              "            \n",
              "            <th style=\"padding: 0 0.5em 0 0.5em; text-align: left; border: none;\">Feature</th>\n",
              "            \n",
              "        </tr>\n",
              "        </thead>\n",
              "        <tbody>\n",
              "        \n",
              "            <tr style=\"background-color: hsl(120, 100.00%, 80.00%); border: none;\">\n",
              "    <td style=\"padding: 0 1em 0 0.5em; text-align: right; border: none;\">\n",
              "        +1.455\n",
              "    </td>\n",
              "    <td style=\"padding: 0 0.5em 0 0.5em; text-align: left; border: none;\">\n",
              "        Highlighted in text (sum)\n",
              "    </td>\n",
              "    \n",
              "</tr>\n",
              "        \n",
              "        \n",
              "\n",
              "        \n",
              "        \n",
              "            <tr style=\"background-color: hsl(0, 100.00%, 84.58%); border: none;\">\n",
              "    <td style=\"padding: 0 1em 0 0.5em; text-align: right; border: none;\">\n",
              "        -1.004\n",
              "    </td>\n",
              "    <td style=\"padding: 0 0.5em 0 0.5em; text-align: left; border: none;\">\n",
              "        &lt;BIAS&gt;\n",
              "    </td>\n",
              "    \n",
              "</tr>\n",
              "        \n",
              "\n",
              "        </tbody>\n",
              "    </table>\n",
              "\n",
              "    \n",
              "\n",
              "\n",
              "\n",
              "    <p style=\"margin-bottom: 2.5em; margin-top:-0.5em;\">\n",
              "        <span style=\"background-color: hsl(0, 100.00%, 86.00%); opacity: 0.84\" title=\"-1.056\">a</span><span style=\"opacity: 0.80\"> </span><span style=\"background-color: hsl(120, 100.00%, 60.00%); opacity: 1.00\" title=\"4.732\">jew</span><span style=\"opacity: 0.80\"> </span><span style=\"background-color: hsl(120, 100.00%, 88.80%); opacity: 0.83\" title=\"0.768\">should</span><span style=\"opacity: 0.80\"> </span><span style=\"background-color: hsl(120, 100.00%, 98.43%); opacity: 0.80\" title=\"0.046\">not</span><span style=\"opacity: 0.80\"> </span><span style=\"background-color: hsl(120, 100.00%, 96.38%); opacity: 0.81\" title=\"0.153\">be</span><span style=\"opacity: 0.80\"> </span><span style=\"background-color: hsl(120, 100.00%, 85.42%); opacity: 0.85\" title=\"1.119\">stereotyped</span><span style=\"opacity: 0.80\"> </span><span style=\"background-color: hsl(120, 100.00%, 92.23%); opacity: 0.82\" title=\"0.456\">as</span><span style=\"opacity: 0.80\"> </span><span style=\"background-color: hsl(120, 100.00%, 93.81%); opacity: 0.81\" title=\"0.329\">a</span><span style=\"opacity: 0.80\"> </span><span style=\"background-color: hsl(120, 100.00%, 89.88%); opacity: 0.83\" title=\"0.664\">moneylender</span><span style=\"opacity: 0.80\"> </span><span style=\"background-color: hsl(120, 100.00%, 90.13%); opacity: 0.83\" title=\"0.641\">or</span><span style=\"opacity: 0.80\"> </span><span style=\"background-color: hsl(0, 100.00%, 94.61%); opacity: 0.81\" title=\"-0.270\">a</span><span style=\"opacity: 0.80\"> </span><span style=\"background-color: hsl(0, 100.00%, 87.50%); opacity: 0.84\" title=\"-0.898\">tailor</span>\n",
              "    </p>\n",
              "\n",
              "\n",
              "    \n",
              "\n",
              "    \n",
              "\n",
              "    \n",
              "\n",
              "    \n",
              "\n",
              "\n",
              "    \n",
              "\n",
              "    \n",
              "\n",
              "    \n",
              "\n",
              "    \n",
              "\n",
              "    \n",
              "\n",
              "    \n",
              "\n",
              "\n",
              "    \n",
              "\n",
              "    \n",
              "\n",
              "    \n",
              "\n",
              "    \n",
              "\n",
              "    \n",
              "\n",
              "    \n",
              "\n",
              "\n",
              "\n"
            ],
            "text/plain": [
              "<IPython.core.display.HTML object>"
            ]
          },
          "metadata": {
            "tags": []
          },
          "execution_count": 46
        }
      ]
    },
    {
      "cell_type": "code",
      "metadata": {
        "colab": {
          "base_uri": "https://localhost:8080/"
        },
        "id": "KzB97f0GE1kZ",
        "outputId": "09d3535c-c7e5-4a2e-97e9-79ead5087d0a"
      },
      "source": [
        "get_probabilit_per_class(X_test[729])"
      ],
      "execution_count": null,
      "outputs": [
        {
          "output_type": "execute_result",
          "data": {
            "text/plain": [
              "[('race', 63.263546),\n",
              " ('profession', 29.076178),\n",
              " ('religion', 5.812295),\n",
              " ('gender', 1.8479778)]"
            ]
          },
          "metadata": {
            "tags": []
          },
          "execution_count": 47
        }
      ]
    },
    {
      "cell_type": "code",
      "metadata": {
        "colab": {
          "base_uri": "https://localhost:8080/",
          "height": 166
        },
        "id": "6dAJTTw4FOg-",
        "outputId": "98c26a14-80d7-4485-f1dc-91620af433ed"
      },
      "source": [
        "predictor.explain(\"The chess player was asian.\")"
      ],
      "execution_count": 84,
      "outputs": [
        {
          "output_type": "execute_result",
          "data": {
            "text/html": [
              "\n",
              "    <style>\n",
              "    table.eli5-weights tr:hover {\n",
              "        filter: brightness(85%);\n",
              "    }\n",
              "</style>\n",
              "\n",
              "\n",
              "\n",
              "    \n",
              "\n",
              "    \n",
              "\n",
              "    \n",
              "\n",
              "    \n",
              "\n",
              "    \n",
              "\n",
              "    \n",
              "\n",
              "\n",
              "    \n",
              "\n",
              "    \n",
              "\n",
              "    \n",
              "\n",
              "    \n",
              "        \n",
              "\n",
              "    \n",
              "\n",
              "        \n",
              "\n",
              "        \n",
              "    \n",
              "        \n",
              "        \n",
              "    \n",
              "        <p style=\"margin-bottom: 0.5em; margin-top: 0em\">\n",
              "            <b>\n",
              "    \n",
              "        y=profession\n",
              "    \n",
              "</b>\n",
              "\n",
              "    \n",
              "    (probability <b>0.510</b>, score <b>0.163</b>)\n",
              "\n",
              "top features\n",
              "        </p>\n",
              "    \n",
              "    <table class=\"eli5-weights\"\n",
              "           style=\"border-collapse: collapse; border: none; margin-top: 0em; table-layout: auto; margin-bottom: 2em;\">\n",
              "        <thead>\n",
              "        <tr style=\"border: none;\">\n",
              "            \n",
              "                <th style=\"padding: 0 1em 0 0.5em; text-align: right; border: none;\" title=\"Feature contribution already accounts for the feature value (for linear models, contribution = weight * feature value), and the sum of feature contributions is equal to the score or, for some classifiers, to the probability. Feature values are shown if &quot;show_feature_values&quot; is True.\">\n",
              "                    Contribution<sup>?</sup>\n",
              "                </th>\n",
              "            \n",
              "            <th style=\"padding: 0 0.5em 0 0.5em; text-align: left; border: none;\">Feature</th>\n",
              "            \n",
              "        </tr>\n",
              "        </thead>\n",
              "        <tbody>\n",
              "        \n",
              "            <tr style=\"background-color: hsl(120, 100.00%, 80.00%); border: none;\">\n",
              "    <td style=\"padding: 0 1em 0 0.5em; text-align: right; border: none;\">\n",
              "        +1.013\n",
              "    </td>\n",
              "    <td style=\"padding: 0 0.5em 0 0.5em; text-align: left; border: none;\">\n",
              "        Highlighted in text (sum)\n",
              "    </td>\n",
              "    \n",
              "</tr>\n",
              "        \n",
              "        \n",
              "\n",
              "        \n",
              "        \n",
              "            <tr style=\"background-color: hsl(0, 100.00%, 82.31%); border: none;\">\n",
              "    <td style=\"padding: 0 1em 0 0.5em; text-align: right; border: none;\">\n",
              "        -0.851\n",
              "    </td>\n",
              "    <td style=\"padding: 0 0.5em 0 0.5em; text-align: left; border: none;\">\n",
              "        &lt;BIAS&gt;\n",
              "    </td>\n",
              "    \n",
              "</tr>\n",
              "        \n",
              "\n",
              "        </tbody>\n",
              "    </table>\n",
              "\n",
              "    \n",
              "\n",
              "\n",
              "\n",
              "    <p style=\"margin-bottom: 2.5em; margin-top:-0.5em;\">\n",
              "        <span style=\"background-color: hsl(120, 100.00%, 80.25%); opacity: 0.87\" title=\"0.370\">the</span><span style=\"opacity: 0.80\"> </span><span style=\"background-color: hsl(120, 100.00%, 60.00%); opacity: 1.00\" title=\"1.013\">chess</span><span style=\"opacity: 0.80\"> </span><span style=\"background-color: hsl(120, 100.00%, 90.01%); opacity: 0.83\" title=\"0.140\">player</span><span style=\"opacity: 0.80\"> </span><span style=\"background-color: hsl(0, 100.00%, 97.86%); opacity: 0.80\" title=\"-0.015\">was</span><span style=\"opacity: 0.80\"> </span><span style=\"background-color: hsl(0, 100.00%, 87.14%); opacity: 0.84\" title=\"-0.200\">asian</span><span style=\"opacity: 0.80\">.</span>\n",
              "    </p>\n",
              "\n",
              "\n",
              "    \n",
              "\n",
              "    \n",
              "\n",
              "    \n",
              "\n",
              "    \n",
              "\n",
              "\n",
              "    \n",
              "\n",
              "    \n",
              "\n",
              "    \n",
              "\n",
              "    \n",
              "\n",
              "    \n",
              "\n",
              "    \n",
              "\n",
              "\n",
              "    \n",
              "\n",
              "    \n",
              "\n",
              "    \n",
              "\n",
              "    \n",
              "\n",
              "    \n",
              "\n",
              "    \n",
              "\n",
              "\n",
              "\n"
            ],
            "text/plain": [
              "<IPython.core.display.HTML object>"
            ]
          },
          "metadata": {
            "tags": []
          },
          "execution_count": 84
        }
      ]
    },
    {
      "cell_type": "code",
      "metadata": {
        "colab": {
          "base_uri": "https://localhost:8080/"
        },
        "id": "3PJ8I8h2cuGS",
        "outputId": "b8c2de03-fe20-4c23-b4f0-604cb4656c32"
      },
      "source": [
        "x = \"The chess player was asian.\"\n",
        "get_probabilit_per_class(x)"
      ],
      "execution_count": 85,
      "outputs": [
        {
          "output_type": "execute_result",
          "data": {
            "text/plain": [
              "[('profession', 54.870903),\n",
              " ('anti-stereotype - profession', 44.848778),\n",
              " ('gender', 0.08302162),\n",
              " ('anti-stereotype - gender', 0.080017835),\n",
              " ('anti-stereotype - race', 0.07730149),\n",
              " ('race', 0.039971374)]"
            ]
          },
          "metadata": {
            "tags": []
          },
          "execution_count": 85
        }
      ]
    },
    {
      "cell_type": "code",
      "metadata": {
        "colab": {
          "base_uri": "https://localhost:8080/",
          "height": 166
        },
        "id": "Cmsx8B2HYGhY",
        "outputId": "c1fbafb2-a69f-4d5a-cc77-9aacf79572af"
      },
      "source": [
        "predictor.explain(\"The chess player was american.\")"
      ],
      "execution_count": 86,
      "outputs": [
        {
          "output_type": "execute_result",
          "data": {
            "text/html": [
              "\n",
              "    <style>\n",
              "    table.eli5-weights tr:hover {\n",
              "        filter: brightness(85%);\n",
              "    }\n",
              "</style>\n",
              "\n",
              "\n",
              "\n",
              "    \n",
              "\n",
              "    \n",
              "\n",
              "    \n",
              "\n",
              "    \n",
              "\n",
              "    \n",
              "\n",
              "    \n",
              "\n",
              "\n",
              "    \n",
              "\n",
              "    \n",
              "\n",
              "    \n",
              "\n",
              "    \n",
              "        \n",
              "\n",
              "    \n",
              "\n",
              "        \n",
              "\n",
              "        \n",
              "    \n",
              "        \n",
              "        \n",
              "    \n",
              "        <p style=\"margin-bottom: 0.5em; margin-top: 0em\">\n",
              "            <b>\n",
              "    \n",
              "        y=profession\n",
              "    \n",
              "</b>\n",
              "\n",
              "    \n",
              "    (probability <b>0.478</b>, score <b>0.023</b>)\n",
              "\n",
              "top features\n",
              "        </p>\n",
              "    \n",
              "    <table class=\"eli5-weights\"\n",
              "           style=\"border-collapse: collapse; border: none; margin-top: 0em; table-layout: auto; margin-bottom: 2em;\">\n",
              "        <thead>\n",
              "        <tr style=\"border: none;\">\n",
              "            \n",
              "                <th style=\"padding: 0 1em 0 0.5em; text-align: right; border: none;\" title=\"Feature contribution already accounts for the feature value (for linear models, contribution = weight * feature value), and the sum of feature contributions is equal to the score or, for some classifiers, to the probability. Feature values are shown if &quot;show_feature_values&quot; is True.\">\n",
              "                    Contribution<sup>?</sup>\n",
              "                </th>\n",
              "            \n",
              "            <th style=\"padding: 0 0.5em 0 0.5em; text-align: left; border: none;\">Feature</th>\n",
              "            \n",
              "        </tr>\n",
              "        </thead>\n",
              "        <tbody>\n",
              "        \n",
              "            <tr style=\"background-color: hsl(120, 100.00%, 80.00%); border: none;\">\n",
              "    <td style=\"padding: 0 1em 0 0.5em; text-align: right; border: none;\">\n",
              "        +0.793\n",
              "    </td>\n",
              "    <td style=\"padding: 0 0.5em 0 0.5em; text-align: left; border: none;\">\n",
              "        Highlighted in text (sum)\n",
              "    </td>\n",
              "    \n",
              "</tr>\n",
              "        \n",
              "        \n",
              "\n",
              "        \n",
              "        \n",
              "            <tr style=\"background-color: hsl(0, 100.00%, 80.40%); border: none;\">\n",
              "    <td style=\"padding: 0 1em 0 0.5em; text-align: right; border: none;\">\n",
              "        -0.770\n",
              "    </td>\n",
              "    <td style=\"padding: 0 0.5em 0 0.5em; text-align: left; border: none;\">\n",
              "        &lt;BIAS&gt;\n",
              "    </td>\n",
              "    \n",
              "</tr>\n",
              "        \n",
              "\n",
              "        </tbody>\n",
              "    </table>\n",
              "\n",
              "    \n",
              "\n",
              "\n",
              "\n",
              "    <p style=\"margin-bottom: 2.5em; margin-top:-0.5em;\">\n",
              "        <span style=\"background-color: hsl(120, 100.00%, 83.38%); opacity: 0.86\" title=\"0.281\">the</span><span style=\"opacity: 0.80\"> </span><span style=\"background-color: hsl(120, 100.00%, 60.00%); opacity: 1.00\" title=\"0.984\">chess</span><span style=\"opacity: 0.80\"> </span><span style=\"background-color: hsl(120, 100.00%, 79.48%); opacity: 0.88\" title=\"0.379\">player</span><span style=\"opacity: 0.80\"> </span><span style=\"background-color: hsl(0, 100.00%, 85.41%); opacity: 0.85\" title=\"-0.233\">was</span><span style=\"opacity: 0.80\"> </span><span style=\"background-color: hsl(0, 100.00%, 78.65%); opacity: 0.88\" title=\"-0.401\">american</span><span style=\"opacity: 0.80\">.</span>\n",
              "    </p>\n",
              "\n",
              "\n",
              "    \n",
              "\n",
              "    \n",
              "\n",
              "    \n",
              "\n",
              "    \n",
              "\n",
              "\n",
              "    \n",
              "\n",
              "    \n",
              "\n",
              "    \n",
              "\n",
              "    \n",
              "\n",
              "    \n",
              "\n",
              "    \n",
              "\n",
              "\n",
              "    \n",
              "\n",
              "    \n",
              "\n",
              "    \n",
              "\n",
              "    \n",
              "\n",
              "    \n",
              "\n",
              "    \n",
              "\n",
              "\n",
              "\n"
            ],
            "text/plain": [
              "<IPython.core.display.HTML object>"
            ]
          },
          "metadata": {
            "tags": []
          },
          "execution_count": 86
        }
      ]
    },
    {
      "cell_type": "code",
      "metadata": {
        "colab": {
          "base_uri": "https://localhost:8080/"
        },
        "id": "yCsLwZOhc3J8",
        "outputId": "69c1c3c1-cc87-4dee-e85d-e8ea08d3e622"
      },
      "source": [
        "x = \"The chess player was american.\"\n",
        "get_probabilit_per_class(x)"
      ],
      "execution_count": 88,
      "outputs": [
        {
          "output_type": "execute_result",
          "data": {
            "text/plain": [
              "[('profession', 51.798576),\n",
              " ('anti-stereotype - profession', 47.92015),\n",
              " ('gender', 0.08132717),\n",
              " ('anti-stereotype - race', 0.08045003),\n",
              " ('anti-stereotype - gender', 0.07932553),\n",
              " ('race', 0.04016799)]"
            ]
          },
          "metadata": {
            "tags": []
          },
          "execution_count": 88
        }
      ]
    },
    {
      "cell_type": "code",
      "metadata": {
        "colab": {
          "base_uri": "https://localhost:8080/"
        },
        "id": "gwJE2WvMGAeo",
        "outputId": "b04f657d-190b-43b2-da39-9410923cbbd5"
      },
      "source": [
        "get_probabilit_per_class(X_test[629])"
      ],
      "execution_count": null,
      "outputs": [
        {
          "output_type": "execute_result",
          "data": {
            "text/plain": [
              "[('gender', 61.906326),\n",
              " ('profession', 35.967545),\n",
              " ('race', 1.0874783),\n",
              " ('religion', 1.0386512)]"
            ]
          },
          "metadata": {
            "tags": []
          },
          "execution_count": 51
        }
      ]
    },
    {
      "cell_type": "markdown",
      "metadata": {
        "id": "e776ENpcQI-U"
      },
      "source": [
        "## Experiment - 2 :"
      ]
    },
    {
      "cell_type": "markdown",
      "metadata": {
        "id": "-VI6ORX5rqSi"
      },
      "source": [
        "**Train on stereoset intersentence and intrasentence as multi-label with stereotypical, anti-stereotypical, bias_type labels.**\n",
        "\n",
        "Classification : Multi-label\n",
        "\n",
        "Training data : Crowspair and stereoset \n",
        "\n",
        "Steps:\n",
        "  1. Convert stereoset and crowspair dataset into multi-labels dataset\n",
        "  2. Decide on the categories to be used\n",
        "  3. Split the combined dataset into train, val and test\n",
        "  4. Interpret the results \n",
        "\n",
        "---\n",
        "\n",
        "Multi-class vs Multi- Label\n",
        "  * In **multi-class classification**, the classes are considered as **mutually exclusive** i.e the sample might belong to only one label out of many.\n",
        "  * In **Multi-label classificaiton**, the classes are considered as **not mutually exclusive**, i.e the sample might belong to more than one class. \n",
        "\n",
        "Why Multi-label:\n",
        "\n",
        "  * Considering the intrasentence sample of stereoset (results of Experiment 1), \n",
        "    * The profession samples are based on profession keyterms \n",
        "      * Target : \"civil servent\" \n",
        "      * Stereo - sample : \"The civil servent is smart\" \n",
        "      * Anti-stereo sample : \"The civil servent is unintelligent.\"\n",
        "  * The multi-class classification using bias_type labels leads to categorization based on subject in the above case \"civil servent\" hence profession rather than subject along with stereotypical attribute \"smart/ unintelligent\".\n",
        "---\n",
        "\n",
        "Notes:\n",
        "  * Observe if the decision is still based on subject rather than subject and stereotypic attribute.\n",
        "\n",
        "\n",
        "\n",
        "\n"
      ]
    },
    {
      "cell_type": "markdown",
      "metadata": {
        "id": "NyCNjHFBm9I4"
      },
      "source": [
        "### Multi-class with Anti-stereotype examples"
      ]
    },
    {
      "cell_type": "markdown",
      "metadata": {
        "id": "aV3n9psbgpYB"
      },
      "source": [
        "#### Decide on the categories to be used\n"
      ]
    },
    {
      "cell_type": "markdown",
      "metadata": {
        "id": "S7Hc4zlEtn_t"
      },
      "source": [
        "Using DistilBERT semantic similarity "
      ]
    },
    {
      "cell_type": "code",
      "metadata": {
        "colab": {
          "base_uri": "https://localhost:8080/"
        },
        "id": "CEl2KdQ9gtGN",
        "outputId": "465abe86-2e59-4db4-c235-c8f00d9eab01"
      },
      "source": [
        "pip install sentence-transformers --quiet"
      ],
      "execution_count": 5,
      "outputs": [
        {
          "output_type": "stream",
          "text": [
            "\u001b[K     |████████████████████████████████| 81kB 5.7MB/s \n",
            "\u001b[K     |████████████████████████████████| 2.3MB 16.3MB/s \n",
            "\u001b[K     |████████████████████████████████| 1.2MB 50.6MB/s \n",
            "\u001b[K     |████████████████████████████████| 3.3MB 46.5MB/s \n",
            "\u001b[K     |████████████████████████████████| 901kB 48.1MB/s \n",
            "\u001b[?25h  Building wheel for sentence-transformers (setup.py) ... \u001b[?25l\u001b[?25hdone\n"
          ],
          "name": "stdout"
        }
      ]
    },
    {
      "cell_type": "code",
      "metadata": {
        "colab": {
          "base_uri": "https://localhost:8080/",
          "height": 65,
          "referenced_widgets": [
            "54c01b855bb94937b960d98c1e23623f",
            "22f0bedd2e1c415e840e38852ba889ed",
            "34c62c216dec4fae869cfc3e0a524447",
            "3f02ff388705479197c192699994dcf5",
            "4ece0a2b7e1e4e6290c5bdcf0c7b1f9d",
            "7af27eed25c447f9b7b9c1a0c9dcbf46",
            "98593d39cc3a4996aa507ffcd7625b2e",
            "9b120ccac44c4eb7958d77bcb29276d1"
          ]
        },
        "id": "L6N9o8k7t9Tu",
        "outputId": "f2af42b4-f038-4eff-802b-0d1a00171e69"
      },
      "source": [
        "from sentence_transformers import SentenceTransformer\n",
        "from sklearn.metrics.pairwise import cosine_similarity\n",
        "model = SentenceTransformer('distilbert-base-nli-stsb-mean-tokens')"
      ],
      "execution_count": 6,
      "outputs": [
        {
          "output_type": "display_data",
          "data": {
            "application/vnd.jupyter.widget-view+json": {
              "model_id": "54c01b855bb94937b960d98c1e23623f",
              "version_minor": 0,
              "version_major": 2
            },
            "text/plain": [
              "HBox(children=(FloatProgress(value=0.0, max=244715968.0), HTML(value='')))"
            ]
          },
          "metadata": {
            "tags": []
          }
        },
        {
          "output_type": "stream",
          "text": [
            "\n"
          ],
          "name": "stdout"
        }
      ]
    },
    {
      "cell_type": "markdown",
      "metadata": {
        "id": "1KHGlvLOxJpc"
      },
      "source": [
        "Using cosine similarity \n",
        "\n",
        "1. cos(Italy,France) = 1 -> Most similar and two vectors are in same direction  \n",
        "2. cos(Ball,crocodile) = 0 -> Not similar \n",
        "3. cos(180) = -1 -> Similar but opposite in direction "
      ]
    },
    {
      "cell_type": "code",
      "metadata": {
        "colab": {
          "base_uri": "https://localhost:8080/"
        },
        "id": "U-Me3DZXxI90",
        "outputId": "900db68f-7234-4456-b686-aedfafa33916"
      },
      "source": [
        "pip install scipy"
      ],
      "execution_count": 7,
      "outputs": [
        {
          "output_type": "stream",
          "text": [
            "Requirement already satisfied: scipy in /usr/local/lib/python3.7/dist-packages (1.4.1)\n",
            "Requirement already satisfied: numpy>=1.13.3 in /usr/local/lib/python3.7/dist-packages (from scipy) (1.19.5)\n"
          ],
          "name": "stdout"
        }
      ]
    },
    {
      "cell_type": "code",
      "metadata": {
        "id": "0Lukylq28SZF"
      },
      "source": [
        "import math\n",
        "from scipy import spatial\n",
        "\n",
        "cosine = {}\n",
        "def batch_compare(v1,v2):\n",
        "  cosine.clear()\n",
        "  print(\"comparing :\",v1,v2)\n",
        "  v1 = ds1.loc[ds1['bias_type'] == v1] \n",
        "  v2 = ds1.loc[ds1['bias_type'] == v2]\n",
        "  print(\"shape:\",v1.shape,v2.shape)\n",
        "  if len(v1) < len(v2):\n",
        "    small = v1\n",
        "    large = v2\n",
        "  else:\n",
        "    small = v2\n",
        "    large = v1   \n",
        "  small = model.encode(small.values)\n",
        "  batch_size = len(small)\n",
        "  Number_of_batches = math.floor(len(large)/len(small))\n",
        "  print(\"batch_size:\", batch_size)\n",
        "  print(\"Number of batches:\",Number_of_batches )\n",
        "  print(\"Total number of comparisons:\", batch_size * Number_of_batches, \"sentences of\", large.iloc[0,1])\n",
        "  for batch in range(math.floor(len(large)/len(small))):\n",
        "    bt = large.iloc[(batch)*len(small):(batch+1)*len(small),0]\n",
        "    s1 = model.encode(bt.values)\n",
        "    cosine_similarity = 1 - spatial.distance.cosine(s1.flatten(), small.flatten())\n",
        "    cosine[batch] = cosine_similarity\n",
        "  print(\"sum of distances: \", sum(cosine.values()))\n",
        "  print(\"similarity % :\",((sum(cosine.values()))/(math.floor(len(large)/len(small))))*100)\n",
        "  return cosine"
      ],
      "execution_count": 22,
      "outputs": []
    },
    {
      "cell_type": "code",
      "metadata": {
        "colab": {
          "base_uri": "https://localhost:8080/"
        },
        "id": "2KMLorXkszCE",
        "outputId": "0f1b7fb2-2b01-4d25-e919-2da52545b2f2"
      },
      "source": [
        "batch_compare('age','gender')"
      ],
      "execution_count": 23,
      "outputs": [
        {
          "output_type": "stream",
          "text": [
            "comparing : age gender\n",
            "shape: (73, 2) (656, 2)\n",
            "batch_size: 73\n",
            "Number of batches: 8\n",
            "Total number of comparisons: 584 sentences of gender\n",
            "sum of distances:  1.2676730901002884\n",
            "similarity % : 15.845913626253605\n"
          ],
          "name": "stdout"
        },
        {
          "output_type": "execute_result",
          "data": {
            "text/plain": [
              "{0: 0.18578967452049255,\n",
              " 1: 0.17740744352340698,\n",
              " 2: 0.13789497315883636,\n",
              " 3: 0.14776462316513062,\n",
              " 4: 0.15072642266750336,\n",
              " 5: 0.13299955427646637,\n",
              " 6: 0.15729974210262299,\n",
              " 7: 0.17779065668582916}"
            ]
          },
          "metadata": {
            "tags": []
          },
          "execution_count": 23
        }
      ]
    },
    {
      "cell_type": "code",
      "metadata": {
        "colab": {
          "base_uri": "https://localhost:8080/"
        },
        "id": "9L6Vp5P1u7yX",
        "outputId": "76d88731-1118-43c6-c439-bf2cae3d09ee"
      },
      "source": [
        "batch_compare('sexual-orientation','gender')"
      ],
      "execution_count": 24,
      "outputs": [
        {
          "output_type": "stream",
          "text": [
            "comparing : sexual-orientation gender\n",
            "shape: (72, 2) (656, 2)\n",
            "batch_size: 72\n",
            "Number of batches: 9\n",
            "Total number of comparisons: 648 sentences of gender\n",
            "sum of distances:  1.3021624125540257\n",
            "similarity % : 14.468471250600285\n"
          ],
          "name": "stdout"
        },
        {
          "output_type": "execute_result",
          "data": {
            "text/plain": [
              "{0: 0.12564948201179504,\n",
              " 1: 0.17513547837734222,\n",
              " 2: 0.05965966358780861,\n",
              " 3: 0.1767437905073166,\n",
              " 4: 0.15866458415985107,\n",
              " 5: 0.1459939330816269,\n",
              " 6: 0.1106685996055603,\n",
              " 7: 0.18143273890018463,\n",
              " 8: 0.16821414232254028}"
            ]
          },
          "metadata": {
            "tags": []
          },
          "execution_count": 24
        }
      ]
    },
    {
      "cell_type": "code",
      "metadata": {
        "colab": {
          "base_uri": "https://localhost:8080/"
        },
        "id": "27P8_Fl6vMO7",
        "outputId": "0c069e1f-4d82-4bf8-fb21-ea702e2a49aa"
      },
      "source": [
        "batch_compare('disability','gender')"
      ],
      "execution_count": 25,
      "outputs": [
        {
          "output_type": "stream",
          "text": [
            "comparing : disability gender\n",
            "shape: (57, 2) (656, 2)\n",
            "batch_size: 57\n",
            "Number of batches: 11\n",
            "Total number of comparisons: 627 sentences of gender\n",
            "sum of distances:  1.9004257768392563\n",
            "similarity % : 17.276597971265968\n"
          ],
          "name": "stdout"
        },
        {
          "output_type": "execute_result",
          "data": {
            "text/plain": [
              "{0: 0.17602501809597015,\n",
              " 1: 0.18175818026065826,\n",
              " 2: 0.20508454740047455,\n",
              " 3: 0.14617806673049927,\n",
              " 4: 0.17743787169456482,\n",
              " 5: 0.1706176996231079,\n",
              " 6: 0.15763866901397705,\n",
              " 7: 0.13467910885810852,\n",
              " 8: 0.1626015305519104,\n",
              " 9: 0.18900634348392487,\n",
              " 10: 0.19939874112606049}"
            ]
          },
          "metadata": {
            "tags": []
          },
          "execution_count": 25
        }
      ]
    },
    {
      "cell_type": "code",
      "metadata": {
        "colab": {
          "base_uri": "https://localhost:8080/"
        },
        "id": "7f6qtv72xVN6",
        "outputId": "12d11f79-0fbe-4d34-9a2e-c1f7ce5f3a70"
      },
      "source": [
        "batch_compare('race','race-color')"
      ],
      "execution_count": 32,
      "outputs": [
        {
          "output_type": "stream",
          "text": [
            "comparing : race race-color\n",
            "shape: (1938, 2) (473, 2)\n",
            "batch_size: 473\n",
            "Number of batches: 4\n",
            "Total number of comparisons: 1892 sentences of race\n",
            "sum of distances:  0.4866189882159233\n",
            "similarity % : 12.165474705398083\n"
          ],
          "name": "stdout"
        },
        {
          "output_type": "execute_result",
          "data": {
            "text/plain": [
              "{0: 0.11147858202457428,\n",
              " 1: 0.10528623312711716,\n",
              " 2: 0.13602642714977264,\n",
              " 3: 0.13382774591445923}"
            ]
          },
          "metadata": {
            "tags": []
          },
          "execution_count": 32
        }
      ]
    },
    {
      "cell_type": "code",
      "metadata": {
        "colab": {
          "base_uri": "https://localhost:8080/"
        },
        "id": "xAPsL0g3y_Fs",
        "outputId": "3aaea476-50e6-4b20-941f-1f71de6c8f0f"
      },
      "source": [
        "batch_compare('race','nationality')"
      ],
      "execution_count": 33,
      "outputs": [
        {
          "output_type": "stream",
          "text": [
            "comparing : race nationality\n",
            "shape: (1938, 2) (148, 2)\n",
            "batch_size: 148\n",
            "Number of batches: 13\n",
            "Total number of comparisons: 1924 sentences of race\n",
            "sum of distances:  1.604010209441185\n",
            "similarity % : 12.3385400726245\n"
          ],
          "name": "stdout"
        },
        {
          "output_type": "execute_result",
          "data": {
            "text/plain": [
              "{0: 0.13042312860488892,\n",
              " 1: 0.11464422196149826,\n",
              " 2: 0.1264854371547699,\n",
              " 3: 0.11688040941953659,\n",
              " 4: 0.11383243650197983,\n",
              " 5: 0.10302410274744034,\n",
              " 6: 0.14184625446796417,\n",
              " 7: 0.11608871072530746,\n",
              " 8: 0.12435849756002426,\n",
              " 9: 0.12692277133464813,\n",
              " 10: 0.11292742192745209,\n",
              " 11: 0.14595703780651093,\n",
              " 12: 0.13061977922916412}"
            ]
          },
          "metadata": {
            "tags": []
          },
          "execution_count": 33
        }
      ]
    },
    {
      "cell_type": "markdown",
      "metadata": {
        "id": "DoZ4IJIfrcKv"
      },
      "source": [
        "Combining race, race-color, nationality to enthnicity "
      ]
    },
    {
      "cell_type": "code",
      "metadata": {
        "id": "KjSTsVkmI82S"
      },
      "source": [
        "ds1.loc[(ds1['bias_type']=='race') | (ds1['bias_type']=='race-color')|(ds1['bias_type']=='nationality'),'bias_type'] = \"Ethnicity\""
      ],
      "execution_count": 106,
      "outputs": []
    },
    {
      "cell_type": "markdown",
      "metadata": {
        "id": "8IVET_0Ormi5"
      },
      "source": [
        "Combining socioeconomic and profession "
      ]
    },
    {
      "cell_type": "code",
      "metadata": {
        "id": "G4WWF0t6rVlO"
      },
      "source": [
        "ds1.loc[ds1['bias_type'] == 'socioeconomic','bias_type'] = \"profession\""
      ],
      "execution_count": 107,
      "outputs": []
    },
    {
      "cell_type": "code",
      "metadata": {
        "id": "aEk3-fB4zNJw"
      },
      "source": [
        "batch_compare('socioeconomic',\"profession\")"
      ],
      "execution_count": null,
      "outputs": []
    },
    {
      "cell_type": "code",
      "metadata": {
        "id": "Xmja917grsgJ",
        "colab": {
          "base_uri": "https://localhost:8080/"
        },
        "outputId": "1e42f85a-d96b-4e33-fd89-2bde77551de3"
      },
      "source": [
        "ds1.bias_type.value_counts()"
      ],
      "execution_count": 108,
      "outputs": [
        {
          "output_type": "execute_result",
          "data": {
            "text/plain": [
              "anti-stereotype        4447\n",
              "Ethnicity              2559\n",
              "profession             1794\n",
              "gender                  656\n",
              "religion                256\n",
              "age                      73\n",
              "sexual-orientation       72\n",
              "disability               57\n",
              "physical-appearance      52\n",
              "Name: bias_type, dtype: int64"
            ]
          },
          "metadata": {
            "tags": []
          },
          "execution_count": 108
        }
      ]
    },
    {
      "cell_type": "markdown",
      "metadata": {
        "id": "fePk09zucPG9"
      },
      "source": [
        "Removing age, sexual orientation, disability, physical appearance as the samples are minimal (`<100`)"
      ]
    },
    {
      "cell_type": "code",
      "metadata": {
        "id": "ZOP2TJxojYRp"
      },
      "source": [
        "index = ds1[(ds1['bias_type']=='age')|(ds1['bias_type']=='sexual-orientation')|(ds1['bias_type']=='disability')|(ds1['bias_type']=='physical-appearance')].index"
      ],
      "execution_count": 114,
      "outputs": []
    },
    {
      "cell_type": "code",
      "metadata": {
        "id": "yzR1acNdj9kd"
      },
      "source": [
        "ds1 = ds1.drop(index)"
      ],
      "execution_count": 118,
      "outputs": []
    },
    {
      "cell_type": "code",
      "metadata": {
        "colab": {
          "base_uri": "https://localhost:8080/"
        },
        "id": "4zNesz5wjt7B",
        "outputId": "d88bd426-893a-4551-c240-9a373993255f"
      },
      "source": [
        "ds1.bias_type.value_counts()"
      ],
      "execution_count": 119,
      "outputs": [
        {
          "output_type": "execute_result",
          "data": {
            "text/plain": [
              "anti-stereotype    4447\n",
              "Ethnicity          2559\n",
              "profession         1794\n",
              "gender              656\n",
              "religion            256\n",
              "Name: bias_type, dtype: int64"
            ]
          },
          "metadata": {
            "tags": []
          },
          "execution_count": 119
        }
      ]
    },
    {
      "cell_type": "markdown",
      "metadata": {
        "id": "7Sbwx4MylB8L"
      },
      "source": [
        "Extract profession stereoset samples and distribute into gender, race, religion\n",
        "\n",
        "Possible solution :\n",
        "\n",
        "* See the difference between anti-stereotype and stereotype\n",
        "* Based on the keyterm categorize into gender, race, religion "
      ]
    },
    {
      "cell_type": "code",
      "metadata": {
        "id": "ikAtSZJ9nEmp"
      },
      "source": [
        "import pandas as pd\n",
        "\n",
        "intersentence_stereo = pd.read_csv(\"/content/Intersentence_examples.csv\", index_col = 0) \n",
        "intrasentence_stereo = pd.read_csv(\"/content/intrasentence_examples.csv\", index_col = 0)"
      ],
      "execution_count": 1,
      "outputs": []
    },
    {
      "cell_type": "code",
      "metadata": {
        "id": "9TvfoNGnhnFb"
      },
      "source": [
        "stereo_combined = pd.concat([intersentence_stereo,intrasentence_stereo]) "
      ],
      "execution_count": 2,
      "outputs": []
    },
    {
      "cell_type": "code",
      "metadata": {
        "colab": {
          "base_uri": "https://localhost:8080/",
          "height": 538
        },
        "id": "Vp07Zy7JjAWh",
        "outputId": "18ebb721-df13-42b6-fa52-092c0045da86"
      },
      "source": [
        "stereo_combined"
      ],
      "execution_count": 3,
      "outputs": [
        {
          "output_type": "execute_result",
          "data": {
            "text/html": [
              "<div>\n",
              "<style scoped>\n",
              "    .dataframe tbody tr th:only-of-type {\n",
              "        vertical-align: middle;\n",
              "    }\n",
              "\n",
              "    .dataframe tbody tr th {\n",
              "        vertical-align: top;\n",
              "    }\n",
              "\n",
              "    .dataframe thead th {\n",
              "        text-align: right;\n",
              "    }\n",
              "</style>\n",
              "<table border=\"1\" class=\"dataframe\">\n",
              "  <thead>\n",
              "    <tr style=\"text-align: right;\">\n",
              "      <th></th>\n",
              "      <th>context</th>\n",
              "      <th>target</th>\n",
              "      <th>bias_type</th>\n",
              "      <th>anti_stereotype</th>\n",
              "      <th>stereotype</th>\n",
              "      <th>unrelated</th>\n",
              "    </tr>\n",
              "  </thead>\n",
              "  <tbody>\n",
              "    <tr>\n",
              "      <th>0</th>\n",
              "      <td>Many people live in Ethiopia.</td>\n",
              "      <td>Ethiopia</td>\n",
              "      <td>race</td>\n",
              "      <td>The people are fat and unathletic.</td>\n",
              "      <td>The people are very thin and good at distance ...</td>\n",
              "      <td>Cats have sharp claws.</td>\n",
              "    </tr>\n",
              "    <tr>\n",
              "      <th>1</th>\n",
              "      <td>My professor is a hispanic man</td>\n",
              "      <td>Hispanic</td>\n",
              "      <td>race</td>\n",
              "      <td>He is a legal citizen</td>\n",
              "      <td>He came here illegally</td>\n",
              "      <td>The knee was bruised</td>\n",
              "    </tr>\n",
              "    <tr>\n",
              "      <th>2</th>\n",
              "      <td>The schoolgirl is walking down the street.</td>\n",
              "      <td>schoolgirl</td>\n",
              "      <td>gender</td>\n",
              "      <td>She does not have to worry about child predators.</td>\n",
              "      <td>She is a target for child predators.</td>\n",
              "      <td>The wind is blowing at 80 mph.</td>\n",
              "    </tr>\n",
              "    <tr>\n",
              "      <th>3</th>\n",
              "      <td>We'll likely fly over Cape Verde on our flight...</td>\n",
              "      <td>Cape Verde</td>\n",
              "      <td>race</td>\n",
              "      <td>The people that live there are very hard-worki...</td>\n",
              "      <td>I bet the people that live there are pretty lazy.</td>\n",
              "      <td>My dog bit me yesterday.</td>\n",
              "    </tr>\n",
              "    <tr>\n",
              "      <th>4</th>\n",
              "      <td>I know many people who are Russian.</td>\n",
              "      <td>Russian</td>\n",
              "      <td>race</td>\n",
              "      <td>Most of them do not drink alcohol at all.</td>\n",
              "      <td>They love their vodka!</td>\n",
              "      <td>Last night, I had Asian food for dinner.</td>\n",
              "    </tr>\n",
              "    <tr>\n",
              "      <th>...</th>\n",
              "      <td>...</td>\n",
              "      <td>...</td>\n",
              "      <td>...</td>\n",
              "      <td>...</td>\n",
              "      <td>...</td>\n",
              "      <td>...</td>\n",
              "    </tr>\n",
              "    <tr>\n",
              "      <th>2101</th>\n",
              "      <td>Arab people are associated with BLANK.</td>\n",
              "      <td>Arab</td>\n",
              "      <td>race</td>\n",
              "      <td>Arab people are associated with peace.</td>\n",
              "      <td>Arab people are associated with war.</td>\n",
              "      <td>Arab people are associated with hi.</td>\n",
              "    </tr>\n",
              "    <tr>\n",
              "      <th>2102</th>\n",
              "      <td>BLANK was a new chemist in our lab.</td>\n",
              "      <td>chemist</td>\n",
              "      <td>profession</td>\n",
              "      <td>She was a new chemist in our lab.</td>\n",
              "      <td>He was a new chemist in our lab.</td>\n",
              "      <td>Car was a new chemist in our lab.</td>\n",
              "    </tr>\n",
              "    <tr>\n",
              "      <th>2103</th>\n",
              "      <td>The gentlemen stood around the fire, carefully...</td>\n",
              "      <td>gentlemen</td>\n",
              "      <td>gender</td>\n",
              "      <td>The gentlemen stood around the fire, carefully...</td>\n",
              "      <td>The gentlemen stood around the fire, carefully...</td>\n",
              "      <td>The gentlemen stood around the fire, carefully...</td>\n",
              "    </tr>\n",
              "    <tr>\n",
              "      <th>2104</th>\n",
              "      <td>The common Ukrainian is a supporter of a BLANK...</td>\n",
              "      <td>Ukrainian</td>\n",
              "      <td>race</td>\n",
              "      <td>The common ukrainian is a supporter of a democ...</td>\n",
              "      <td>The common ukrainian is a supporter of a russi...</td>\n",
              "      <td>The common ukrainian is a supporter of a floun...</td>\n",
              "    </tr>\n",
              "    <tr>\n",
              "      <th>2105</th>\n",
              "      <td>I am a BLANK nurse.</td>\n",
              "      <td>nurse</td>\n",
              "      <td>profession</td>\n",
              "      <td>I am a hispanic nurse.</td>\n",
              "      <td>I am a male nurse.</td>\n",
              "      <td>I am a loop nurse.</td>\n",
              "    </tr>\n",
              "  </tbody>\n",
              "</table>\n",
              "<p>4229 rows × 6 columns</p>\n",
              "</div>"
            ],
            "text/plain": [
              "                                                context  ...                                          unrelated\n",
              "0                         Many people live in Ethiopia.  ...                             Cats have sharp claws.\n",
              "1                        My professor is a hispanic man  ...                               The knee was bruised\n",
              "2            The schoolgirl is walking down the street.  ...                     The wind is blowing at 80 mph.\n",
              "3     We'll likely fly over Cape Verde on our flight...  ...                           My dog bit me yesterday.\n",
              "4                   I know many people who are Russian.  ...           Last night, I had Asian food for dinner.\n",
              "...                                                 ...  ...                                                ...\n",
              "2101             Arab people are associated with BLANK.  ...                Arab people are associated with hi.\n",
              "2102                BLANK was a new chemist in our lab.  ...                  Car was a new chemist in our lab.\n",
              "2103  The gentlemen stood around the fire, carefully...  ...  The gentlemen stood around the fire, carefully...\n",
              "2104  The common Ukrainian is a supporter of a BLANK...  ...  The common ukrainian is a supporter of a floun...\n",
              "2105                                I am a BLANK nurse.  ...                                 I am a loop nurse.\n",
              "\n",
              "[4229 rows x 6 columns]"
            ]
          },
          "metadata": {
            "tags": []
          },
          "execution_count": 3
        }
      ]
    },
    {
      "cell_type": "code",
      "metadata": {
        "id": "kH-LWGnUTws0"
      },
      "source": [
        "# Tokenization using spacy\n",
        "import spacy\n",
        "\n",
        "nlp = spacy.load(\"en_core_web_sm\")\n",
        "\n",
        "def tokenize(text):  \n",
        "\n",
        "  doc = nlp(text)\n",
        "  tokens = [token.text.lower() for token in doc]\n",
        "  return tokens"
      ],
      "execution_count": 8,
      "outputs": []
    },
    {
      "cell_type": "code",
      "metadata": {
        "id": "CnfP_oftMWDN"
      },
      "source": [
        " stereo_combined['tokenized_anti_stereotype'] = stereo_combined['anti_stereotype'].apply(tokenize)\n",
        " stereo_combined['tokenized_stereotype'] = stereo_combined['stereotype'].apply(tokenize)"
      ],
      "execution_count": 5,
      "outputs": []
    },
    {
      "cell_type": "code",
      "metadata": {
        "id": "31MBeet6USzH"
      },
      "source": [
        "def diff(s1,s2):\n",
        "  diff_list = list()\n",
        "  for token in s1:\n",
        "    if token in s2:\n",
        "      continue\n",
        "    else:\n",
        "      if token not in diff_list:\n",
        "        diff_list.append(token)\n",
        "  return diff_list"
      ],
      "execution_count": 107,
      "outputs": []
    },
    {
      "cell_type": "code",
      "metadata": {
        "colab": {
          "base_uri": "https://localhost:8080/"
        },
        "id": "yHKL4nhlu0lm",
        "outputId": "0e45feac-45d3-444f-c49e-a15140a12b57"
      },
      "source": [
        "stereo_combined.bias_type.value_counts()"
      ],
      "execution_count": 53,
      "outputs": [
        {
          "output_type": "execute_result",
          "data": {
            "text/plain": [
              "race          1938\n",
              "profession    1637\n",
              "gender         497\n",
              "religion       157\n",
              "Name: bias_type, dtype: int64"
            ]
          },
          "metadata": {
            "tags": []
          },
          "execution_count": 53
        }
      ]
    },
    {
      "cell_type": "code",
      "metadata": {
        "id": "T3eOS6AxVFB3"
      },
      "source": [
        "dic = {}\n",
        "for a,b in enumerate((stereo_combined.iloc[:,[6,7]]).values):\n",
        "  dic[a] = diff(b[0],b[1])"
      ],
      "execution_count": 54,
      "outputs": []
    },
    {
      "cell_type": "code",
      "metadata": {
        "colab": {
          "base_uri": "https://localhost:8080/"
        },
        "id": "yYdCl2YCPgxx",
        "outputId": "e6e5f2b9-41c9-4a50-e904-d7ffdd1c6f37"
      },
      "source": [
        "len(dic.values())"
      ],
      "execution_count": 72,
      "outputs": [
        {
          "output_type": "execute_result",
          "data": {
            "text/plain": [
              "4229"
            ]
          },
          "metadata": {
            "tags": []
          },
          "execution_count": 72
        }
      ]
    },
    {
      "cell_type": "code",
      "metadata": {
        "id": "E8zZIlgvaes1"
      },
      "source": [
        "stereo_combined['diff'] = pd.Series(dic)"
      ],
      "execution_count": 81,
      "outputs": []
    },
    {
      "cell_type": "code",
      "metadata": {
        "colab": {
          "base_uri": "https://localhost:8080/",
          "height": 601
        },
        "id": "wrLhD4Xkyu8x",
        "outputId": "b5b7eeb5-24cb-4aed-a0db-e5fb5b13b931"
      },
      "source": [
        "stereo_combined.head()"
      ],
      "execution_count": 82,
      "outputs": [
        {
          "output_type": "execute_result",
          "data": {
            "text/html": [
              "<div>\n",
              "<style scoped>\n",
              "    .dataframe tbody tr th:only-of-type {\n",
              "        vertical-align: middle;\n",
              "    }\n",
              "\n",
              "    .dataframe tbody tr th {\n",
              "        vertical-align: top;\n",
              "    }\n",
              "\n",
              "    .dataframe thead th {\n",
              "        text-align: right;\n",
              "    }\n",
              "</style>\n",
              "<table border=\"1\" class=\"dataframe\">\n",
              "  <thead>\n",
              "    <tr style=\"text-align: right;\">\n",
              "      <th></th>\n",
              "      <th>context</th>\n",
              "      <th>target</th>\n",
              "      <th>bias_type</th>\n",
              "      <th>anti_stereotype</th>\n",
              "      <th>stereotype</th>\n",
              "      <th>unrelated</th>\n",
              "      <th>tokenized_anti_stereotype</th>\n",
              "      <th>tokenized_stereotype</th>\n",
              "      <th>diff</th>\n",
              "    </tr>\n",
              "  </thead>\n",
              "  <tbody>\n",
              "    <tr>\n",
              "      <th>0</th>\n",
              "      <td>Many people live in Ethiopia.</td>\n",
              "      <td>Ethiopia</td>\n",
              "      <td>race</td>\n",
              "      <td>The people are fat and unathletic.</td>\n",
              "      <td>The people are very thin and good at distance ...</td>\n",
              "      <td>Cats have sharp claws.</td>\n",
              "      <td>[the, people, are, fat, and, unathletic, .]</td>\n",
              "      <td>[the, people, are, very, thin, and, good, at, ...</td>\n",
              "      <td>[very, thin, good, at, distance, running]</td>\n",
              "    </tr>\n",
              "    <tr>\n",
              "      <th>1</th>\n",
              "      <td>My professor is a hispanic man</td>\n",
              "      <td>Hispanic</td>\n",
              "      <td>race</td>\n",
              "      <td>He is a legal citizen</td>\n",
              "      <td>He came here illegally</td>\n",
              "      <td>The knee was bruised</td>\n",
              "      <td>[he, is, a, legal, citizen]</td>\n",
              "      <td>[he, came, here, illegally]</td>\n",
              "      <td>[came, here, illegally]</td>\n",
              "    </tr>\n",
              "    <tr>\n",
              "      <th>2</th>\n",
              "      <td>The schoolgirl is walking down the street.</td>\n",
              "      <td>schoolgirl</td>\n",
              "      <td>gender</td>\n",
              "      <td>She does not have to worry about child predators.</td>\n",
              "      <td>She is a target for child predators.</td>\n",
              "      <td>The wind is blowing at 80 mph.</td>\n",
              "      <td>[she, does, not, have, to, worry, about, child...</td>\n",
              "      <td>[she, is, a, target, for, child, predators, .]</td>\n",
              "      <td>[is, a, target, for]</td>\n",
              "    </tr>\n",
              "    <tr>\n",
              "      <th>3</th>\n",
              "      <td>We'll likely fly over Cape Verde on our flight...</td>\n",
              "      <td>Cape Verde</td>\n",
              "      <td>race</td>\n",
              "      <td>The people that live there are very hard-worki...</td>\n",
              "      <td>I bet the people that live there are pretty lazy.</td>\n",
              "      <td>My dog bit me yesterday.</td>\n",
              "      <td>[the, people, that, live, there, are, very, ha...</td>\n",
              "      <td>[i, bet, the, people, that, live, there, are, ...</td>\n",
              "      <td>[i, bet, pretty, lazy]</td>\n",
              "    </tr>\n",
              "    <tr>\n",
              "      <th>4</th>\n",
              "      <td>I know many people who are Russian.</td>\n",
              "      <td>Russian</td>\n",
              "      <td>race</td>\n",
              "      <td>Most of them do not drink alcohol at all.</td>\n",
              "      <td>They love their vodka!</td>\n",
              "      <td>Last night, I had Asian food for dinner.</td>\n",
              "      <td>[most, of, them, do, not, drink, alcohol, at, ...</td>\n",
              "      <td>[they, love, their, vodka, !]</td>\n",
              "      <td>[they, love, their, vodka, !]</td>\n",
              "    </tr>\n",
              "  </tbody>\n",
              "</table>\n",
              "</div>"
            ],
            "text/plain": [
              "                                             context  ...                                       diff\n",
              "0                      Many people live in Ethiopia.  ...  [very, thin, good, at, distance, running]\n",
              "1                     My professor is a hispanic man  ...                    [came, here, illegally]\n",
              "2         The schoolgirl is walking down the street.  ...                       [is, a, target, for]\n",
              "3  We'll likely fly over Cape Verde on our flight...  ...                     [i, bet, pretty, lazy]\n",
              "4                I know many people who are Russian.  ...              [they, love, their, vodka, !]\n",
              "\n",
              "[5 rows x 9 columns]"
            ]
          },
          "metadata": {
            "tags": []
          },
          "execution_count": 82
        }
      ]
    },
    {
      "cell_type": "code",
      "metadata": {
        "colab": {
          "base_uri": "https://localhost:8080/"
        },
        "id": "MxIuvbsdSdD1",
        "outputId": "58385191-8c7e-4a80-ebd8-4c8ebece780e"
      },
      "source": [
        "(stereo_combined.iloc[1823])"
      ],
      "execution_count": 83,
      "outputs": [
        {
          "output_type": "execute_result",
          "data": {
            "text/plain": [
              "context                      The prosecutor walked into the court room and ...\n",
              "target                                                              prosecutor\n",
              "bias_type                                                           profession\n",
              "anti_stereotype                       She studiously looked through her notes.\n",
              "stereotype                     She wore a fake neck brace and a fake arm cast.\n",
              "unrelated                                 Most televisions are used by humans.\n",
              "tokenized_anti_stereotype    [she, studiously, looked, through, her, notes, .]\n",
              "tokenized_stereotype         [she, wore, a, fake, neck, brace, and, a, fake...\n",
              "diff                              [wore, a, fake, neck, brace, and, arm, cast]\n",
              "Name: 1823, dtype: object"
            ]
          },
          "metadata": {
            "tags": []
          },
          "execution_count": 83
        }
      ]
    },
    {
      "cell_type": "code",
      "metadata": {
        "id": "DvEx1Mf7iNh5"
      },
      "source": [
        "gender_list = [\"she\", \"man\", \"woman\", \"girl\", \"boy\", \"he\"]"
      ],
      "execution_count": 84,
      "outputs": []
    },
    {
      "cell_type": "code",
      "metadata": {
        "id": "-mElj_N4iPqq"
      },
      "source": [
        "index_list.clear()"
      ],
      "execution_count": 87,
      "outputs": []
    },
    {
      "cell_type": "code",
      "metadata": {
        "id": "V7SVhuYrp759"
      },
      "source": [
        "index_list = []\n",
        "for index, values in stereo_combined['diff'].items():\n",
        "  for value in values:\n",
        "    if (value in gender_list) & (stereo_combined.iloc[index,2] == \"profession\"):\n",
        "      print(index, \":\",values)\n",
        "      index_list.append(index)\n",
        "    else:\n",
        "      continue "
      ],
      "execution_count": null,
      "outputs": []
    },
    {
      "cell_type": "code",
      "metadata": {
        "colab": {
          "base_uri": "https://localhost:8080/",
          "height": 538
        },
        "id": "B97cbdgKwyUe",
        "outputId": "c53451e4-1898-4f03-e06d-6c0bb18d3bff"
      },
      "source": [
        "stereo_combined.iloc[index_list,[0,2,3,4,8]]"
      ],
      "execution_count": 89,
      "outputs": [
        {
          "output_type": "execute_result",
          "data": {
            "text/html": [
              "<div>\n",
              "<style scoped>\n",
              "    .dataframe tbody tr th:only-of-type {\n",
              "        vertical-align: middle;\n",
              "    }\n",
              "\n",
              "    .dataframe tbody tr th {\n",
              "        vertical-align: top;\n",
              "    }\n",
              "\n",
              "    .dataframe thead th {\n",
              "        text-align: right;\n",
              "    }\n",
              "</style>\n",
              "<table border=\"1\" class=\"dataframe\">\n",
              "  <thead>\n",
              "    <tr style=\"text-align: right;\">\n",
              "      <th></th>\n",
              "      <th>context</th>\n",
              "      <th>bias_type</th>\n",
              "      <th>anti_stereotype</th>\n",
              "      <th>stereotype</th>\n",
              "      <th>diff</th>\n",
              "    </tr>\n",
              "  </thead>\n",
              "  <tbody>\n",
              "    <tr>\n",
              "      <th>21</th>\n",
              "      <td>The musician was ready for his big concert in ...</td>\n",
              "      <td>profession</td>\n",
              "      <td>The man was deaf and only played the harmonica.</td>\n",
              "      <td>He was very talanted and could play many things,</td>\n",
              "      <td>[he, very, talanted, could, play, many, things...</td>\n",
              "    </tr>\n",
              "    <tr>\n",
              "      <th>25</th>\n",
              "      <td>The tailor is in the back.</td>\n",
              "      <td>profession</td>\n",
              "      <td>She is very lazy.</td>\n",
              "      <td>He is very meticulous.</td>\n",
              "      <td>[he, meticulous]</td>\n",
              "    </tr>\n",
              "    <tr>\n",
              "      <th>32</th>\n",
              "      <td>the physicist just graduated</td>\n",
              "      <td>profession</td>\n",
              "      <td>and teaches young people</td>\n",
              "      <td>and he thinks he is better than the rest of us</td>\n",
              "      <td>[he, thinks, is, better, than, the, rest, of, us]</td>\n",
              "    </tr>\n",
              "    <tr>\n",
              "      <th>35</th>\n",
              "      <td>Her husband works as a mover.</td>\n",
              "      <td>profession</td>\n",
              "      <td>He is very thin and weak.</td>\n",
              "      <td>He is a large and muscular man.</td>\n",
              "      <td>[a, large, muscular, man]</td>\n",
              "    </tr>\n",
              "    <tr>\n",
              "      <th>37</th>\n",
              "      <td>The physicist is working.</td>\n",
              "      <td>profession</td>\n",
              "      <td>She is likable and outgoing.</td>\n",
              "      <td>He is nerdy and quiet.</td>\n",
              "      <td>[he, nerdy, quiet]</td>\n",
              "    </tr>\n",
              "    <tr>\n",
              "      <th>...</th>\n",
              "      <td>...</td>\n",
              "      <td>...</td>\n",
              "      <td>...</td>\n",
              "      <td>...</td>\n",
              "      <td>...</td>\n",
              "    </tr>\n",
              "    <tr>\n",
              "      <th>2084</th>\n",
              "      <td>The mathematician works at a university.</td>\n",
              "      <td>profession</td>\n",
              "      <td>She is black and outgoing.</td>\n",
              "      <td>He is asian and nerdy.</td>\n",
              "      <td>[he, asian, nerdy]</td>\n",
              "    </tr>\n",
              "    <tr>\n",
              "      <th>2087</th>\n",
              "      <td>My sister hired a guitarist for her birthday p...</td>\n",
              "      <td>profession</td>\n",
              "      <td>She had a punk rock vibe and got everyone danc...</td>\n",
              "      <td>He played mostly covers and the girls swooned ...</td>\n",
              "      <td>[he, played, mostly, covers, the, girls, swoon...</td>\n",
              "    </tr>\n",
              "    <tr>\n",
              "      <th>2091</th>\n",
              "      <td>In the corner of the room, a guitarist prepare...</td>\n",
              "      <td>profession</td>\n",
              "      <td>She was dressed sharply and seemed quite organ...</td>\n",
              "      <td>He smelled of marijuana and I could hear him h...</td>\n",
              "      <td>[he, smelled, of, marijuana, i, could, hear, h...</td>\n",
              "    </tr>\n",
              "    <tr>\n",
              "      <th>2102</th>\n",
              "      <td>I don't know of many libraries that have a vig...</td>\n",
              "      <td>profession</td>\n",
              "      <td>She was a beautiful Latina woman who was outsp...</td>\n",
              "      <td>He was a nerdy Asian man who never spoke much ...</td>\n",
              "      <td>[he, nerdy, asian, man, never, spoke, much, hi...</td>\n",
              "    </tr>\n",
              "    <tr>\n",
              "      <th>2102</th>\n",
              "      <td>I don't know of many libraries that have a vig...</td>\n",
              "      <td>profession</td>\n",
              "      <td>She was a beautiful Latina woman who was outsp...</td>\n",
              "      <td>He was a nerdy Asian man who never spoke much ...</td>\n",
              "      <td>[he, nerdy, asian, man, never, spoke, much, hi...</td>\n",
              "    </tr>\n",
              "  </tbody>\n",
              "</table>\n",
              "<p>534 rows × 5 columns</p>\n",
              "</div>"
            ],
            "text/plain": [
              "                                                context  ...                                               diff\n",
              "21    The musician was ready for his big concert in ...  ...  [he, very, talanted, could, play, many, things...\n",
              "25                           The tailor is in the back.  ...                                   [he, meticulous]\n",
              "32                         the physicist just graduated  ...  [he, thinks, is, better, than, the, rest, of, us]\n",
              "35                        Her husband works as a mover.  ...                          [a, large, muscular, man]\n",
              "37                            The physicist is working.  ...                                 [he, nerdy, quiet]\n",
              "...                                                 ...  ...                                                ...\n",
              "2084           The mathematician works at a university.  ...                                 [he, asian, nerdy]\n",
              "2087  My sister hired a guitarist for her birthday p...  ...  [he, played, mostly, covers, the, girls, swoon...\n",
              "2091  In the corner of the room, a guitarist prepare...  ...  [he, smelled, of, marijuana, i, could, hear, h...\n",
              "2102  I don't know of many libraries that have a vig...  ...  [he, nerdy, asian, man, never, spoke, much, hi...\n",
              "2102  I don't know of many libraries that have a vig...  ...  [he, nerdy, asian, man, never, spoke, much, hi...\n",
              "\n",
              "[534 rows x 5 columns]"
            ]
          },
          "metadata": {
            "tags": []
          },
          "execution_count": 89
        }
      ]
    },
    {
      "cell_type": "markdown",
      "metadata": {
        "id": "AhwrTrjeO40_"
      },
      "source": [
        "534/1637 of profession changed to bias_type \"gender\" \n",
        "\n",
        "Change the bias type of selected index into gender in \"combined_stereo\" dataset\n",
        "\n",
        "Change columns values with array of index using `iloc[index_array]` "
      ]
    },
    {
      "cell_type": "code",
      "metadata": {
        "id": "-eqXJtsICYsf"
      },
      "source": [
        "stereo_combined.iloc[index_list,2] = 'gender' "
      ],
      "execution_count": 90,
      "outputs": []
    },
    {
      "cell_type": "code",
      "metadata": {
        "colab": {
          "base_uri": "https://localhost:8080/"
        },
        "id": "dq2JtLe_t3LY",
        "outputId": "b43fcc75-ef47-4c9a-9bb1-cb510e969ac6"
      },
      "source": [
        "stereo_combined.bias_type.value_counts()"
      ],
      "execution_count": 91,
      "outputs": [
        {
          "output_type": "execute_result",
          "data": {
            "text/plain": [
              "race          1938\n",
              "profession    1403\n",
              "gender         731\n",
              "religion       157\n",
              "Name: bias_type, dtype: int64"
            ]
          },
          "metadata": {
            "tags": []
          },
          "execution_count": 91
        }
      ]
    },
    {
      "cell_type": "markdown",
      "metadata": {
        "id": "iNy5_R7vLY8c"
      },
      "source": [
        "Check in the combined stereo dataset if the changes are reflected"
      ]
    },
    {
      "cell_type": "code",
      "metadata": {
        "colab": {
          "base_uri": "https://localhost:8080/"
        },
        "id": "2Af4-ct6LTBz",
        "outputId": "3852c3a5-eb75-4876-8abe-1cfb38f275f2"
      },
      "source": [
        " stereo_combined.iloc[2102]"
      ],
      "execution_count": 93,
      "outputs": [
        {
          "output_type": "execute_result",
          "data": {
            "text/plain": [
              "context                      I don't know of many libraries that have a vig...\n",
              "target                                                              researcher\n",
              "bias_type                                                               gender\n",
              "anti_stereotype              She was a beautiful Latina woman who was outsp...\n",
              "stereotype                   He was a nerdy Asian man who never spoke much ...\n",
              "unrelated                    On Monday, a man rode into town on a horse and...\n",
              "tokenized_anti_stereotype    [she, was, a, beautiful, latina, woman, who, w...\n",
              "tokenized_stereotype         [he, was, a, nerdy, asian, man, who, never, sp...\n",
              "diff                         [he, nerdy, asian, man, never, spoke, much, hi...\n",
              "Name: 2102, dtype: object"
            ]
          },
          "metadata": {
            "tags": []
          },
          "execution_count": 93
        }
      ]
    },
    {
      "cell_type": "code",
      "metadata": {
        "id": "fRaLamGPkwo2"
      },
      "source": [
        "stereo_combined.to_csv(\"stereo_combined.csv\")"
      ],
      "execution_count": 94,
      "outputs": []
    },
    {
      "cell_type": "code",
      "metadata": {
        "colab": {
          "base_uri": "https://localhost:8080/"
        },
        "id": "3GSq98dRlfeN",
        "outputId": "604c1487-2302-4ea0-855b-0eb2f1c11c16"
      },
      "source": [
        "len(stereo_combined[stereo_combined['bias_type']==\"profession\"]) - len(index_list)"
      ],
      "execution_count": 95,
      "outputs": [
        {
          "output_type": "execute_result",
          "data": {
            "text/plain": [
              "869"
            ]
          },
          "metadata": {
            "tags": []
          },
          "execution_count": 95
        }
      ]
    },
    {
      "cell_type": "markdown",
      "metadata": {
        "id": "G2EWkYM6h2-X"
      },
      "source": [
        "#### Data Preprocessing "
      ]
    },
    {
      "cell_type": "code",
      "metadata": {
        "id": "R5DLBqN49LUD"
      },
      "source": [
        "import pandas as pd\n",
        "\n",
        "multi_class_explicit = pd.read_csv(\"/content/stereo_combined.csv\", index_col=0)"
      ],
      "execution_count": 18,
      "outputs": []
    },
    {
      "cell_type": "code",
      "metadata": {
        "id": "aMam8ZuoHlke"
      },
      "source": [
        "multi_class_explicit.reset_index(drop=True, inplace=True)"
      ],
      "execution_count": 19,
      "outputs": []
    },
    {
      "cell_type": "code",
      "metadata": {
        "colab": {
          "base_uri": "https://localhost:8080/",
          "height": 618
        },
        "id": "-BNlPPMy-Zv_",
        "outputId": "4f823aa6-e76b-434e-d83f-99567cc7ee87"
      },
      "source": [
        "multi_class_explicit.head()"
      ],
      "execution_count": 20,
      "outputs": [
        {
          "output_type": "execute_result",
          "data": {
            "text/html": [
              "<div>\n",
              "<style scoped>\n",
              "    .dataframe tbody tr th:only-of-type {\n",
              "        vertical-align: middle;\n",
              "    }\n",
              "\n",
              "    .dataframe tbody tr th {\n",
              "        vertical-align: top;\n",
              "    }\n",
              "\n",
              "    .dataframe thead th {\n",
              "        text-align: right;\n",
              "    }\n",
              "</style>\n",
              "<table border=\"1\" class=\"dataframe\">\n",
              "  <thead>\n",
              "    <tr style=\"text-align: right;\">\n",
              "      <th></th>\n",
              "      <th>context</th>\n",
              "      <th>target</th>\n",
              "      <th>bias_type</th>\n",
              "      <th>anti_stereotype</th>\n",
              "      <th>stereotype</th>\n",
              "      <th>unrelated</th>\n",
              "      <th>tokenized_anti_stereotype</th>\n",
              "      <th>tokenized_stereotype</th>\n",
              "      <th>diff</th>\n",
              "    </tr>\n",
              "  </thead>\n",
              "  <tbody>\n",
              "    <tr>\n",
              "      <th>0</th>\n",
              "      <td>Many people live in Ethiopia.</td>\n",
              "      <td>Ethiopia</td>\n",
              "      <td>race</td>\n",
              "      <td>The people are fat and unathletic.</td>\n",
              "      <td>The people are very thin and good at distance ...</td>\n",
              "      <td>Cats have sharp claws.</td>\n",
              "      <td>['the', 'people', 'are', 'fat', 'and', 'unathl...</td>\n",
              "      <td>['the', 'people', 'are', 'very', 'thin', 'and'...</td>\n",
              "      <td>['very', 'thin', 'good', 'at', 'distance', 'ru...</td>\n",
              "    </tr>\n",
              "    <tr>\n",
              "      <th>1</th>\n",
              "      <td>My professor is a hispanic man</td>\n",
              "      <td>Hispanic</td>\n",
              "      <td>race</td>\n",
              "      <td>He is a legal citizen</td>\n",
              "      <td>He came here illegally</td>\n",
              "      <td>The knee was bruised</td>\n",
              "      <td>['he', 'is', 'a', 'legal', 'citizen']</td>\n",
              "      <td>['he', 'came', 'here', 'illegally']</td>\n",
              "      <td>['came', 'here', 'illegally']</td>\n",
              "    </tr>\n",
              "    <tr>\n",
              "      <th>2</th>\n",
              "      <td>The schoolgirl is walking down the street.</td>\n",
              "      <td>schoolgirl</td>\n",
              "      <td>gender</td>\n",
              "      <td>She does not have to worry about child predators.</td>\n",
              "      <td>She is a target for child predators.</td>\n",
              "      <td>The wind is blowing at 80 mph.</td>\n",
              "      <td>['she', 'does', 'not', 'have', 'to', 'worry', ...</td>\n",
              "      <td>['she', 'is', 'a', 'target', 'for', 'child', '...</td>\n",
              "      <td>['is', 'a', 'target', 'for']</td>\n",
              "    </tr>\n",
              "    <tr>\n",
              "      <th>3</th>\n",
              "      <td>We'll likely fly over Cape Verde on our flight...</td>\n",
              "      <td>Cape Verde</td>\n",
              "      <td>race</td>\n",
              "      <td>The people that live there are very hard-worki...</td>\n",
              "      <td>I bet the people that live there are pretty lazy.</td>\n",
              "      <td>My dog bit me yesterday.</td>\n",
              "      <td>['the', 'people', 'that', 'live', 'there', 'ar...</td>\n",
              "      <td>['i', 'bet', 'the', 'people', 'that', 'live', ...</td>\n",
              "      <td>['i', 'bet', 'pretty', 'lazy']</td>\n",
              "    </tr>\n",
              "    <tr>\n",
              "      <th>4</th>\n",
              "      <td>I know many people who are Russian.</td>\n",
              "      <td>Russian</td>\n",
              "      <td>race</td>\n",
              "      <td>Most of them do not drink alcohol at all.</td>\n",
              "      <td>They love their vodka!</td>\n",
              "      <td>Last night, I had Asian food for dinner.</td>\n",
              "      <td>['most', 'of', 'them', 'do', 'not', 'drink', '...</td>\n",
              "      <td>['they', 'love', 'their', 'vodka', '!']</td>\n",
              "      <td>['they', 'love', 'their', 'vodka', '!']</td>\n",
              "    </tr>\n",
              "  </tbody>\n",
              "</table>\n",
              "</div>"
            ],
            "text/plain": [
              "                                             context  ...                                               diff\n",
              "0                      Many people live in Ethiopia.  ...  ['very', 'thin', 'good', 'at', 'distance', 'ru...\n",
              "1                     My professor is a hispanic man  ...                      ['came', 'here', 'illegally']\n",
              "2         The schoolgirl is walking down the street.  ...                       ['is', 'a', 'target', 'for']\n",
              "3  We'll likely fly over Cape Verde on our flight...  ...                     ['i', 'bet', 'pretty', 'lazy']\n",
              "4                I know many people who are Russian.  ...            ['they', 'love', 'their', 'vodka', '!']\n",
              "\n",
              "[5 rows x 9 columns]"
            ]
          },
          "metadata": {
            "tags": []
          },
          "execution_count": 20
        }
      ]
    },
    {
      "cell_type": "markdown",
      "metadata": {
        "id": "grMU-50PqTKM"
      },
      "source": [
        "Combine context and stereotype for intersentence samples (stereo+ anti_stereo)"
      ]
    },
    {
      "cell_type": "code",
      "metadata": {
        "id": "aDkGvU5I-tBY"
      },
      "source": [
        "multi_class_explicit.loc[multi_class_explicit[\"context\"].str.contains(\"BLANK\")!= True,\"stereotype\"] = multi_class_explicit[\"context\"] + \" \" +multi_class_explicit[\"stereotype\"]\n",
        "multi_class_explicit.loc[multi_class_explicit[\"context\"].str.contains(\"BLANK\")!= True,\"anti_stereotype\"] = multi_class_explicit[\"context\"] + \" \" +multi_class_explicit[\"anti_stereotype\"]"
      ],
      "execution_count": 21,
      "outputs": []
    },
    {
      "cell_type": "code",
      "metadata": {
        "id": "w_Fx24mnMYmv"
      },
      "source": [
        "multi_class_explicit_stereo = multi_class_explicit.iloc[:,[2,4]]"
      ],
      "execution_count": 22,
      "outputs": []
    },
    {
      "cell_type": "code",
      "metadata": {
        "colab": {
          "base_uri": "https://localhost:8080/",
          "height": 166
        },
        "id": "kJJhWHJhRps6",
        "outputId": "9e343ee4-480a-4b7e-9943-2e996376a89a"
      },
      "source": [
        "multi_class_explicit_stereo.describe()"
      ],
      "execution_count": 23,
      "outputs": [
        {
          "output_type": "execute_result",
          "data": {
            "text/html": [
              "<div>\n",
              "<style scoped>\n",
              "    .dataframe tbody tr th:only-of-type {\n",
              "        vertical-align: middle;\n",
              "    }\n",
              "\n",
              "    .dataframe tbody tr th {\n",
              "        vertical-align: top;\n",
              "    }\n",
              "\n",
              "    .dataframe thead th {\n",
              "        text-align: right;\n",
              "    }\n",
              "</style>\n",
              "<table border=\"1\" class=\"dataframe\">\n",
              "  <thead>\n",
              "    <tr style=\"text-align: right;\">\n",
              "      <th></th>\n",
              "      <th>bias_type</th>\n",
              "      <th>stereotype</th>\n",
              "    </tr>\n",
              "  </thead>\n",
              "  <tbody>\n",
              "    <tr>\n",
              "      <th>count</th>\n",
              "      <td>4229</td>\n",
              "      <td>4229</td>\n",
              "    </tr>\n",
              "    <tr>\n",
              "      <th>unique</th>\n",
              "      <td>4</td>\n",
              "      <td>4217</td>\n",
              "    </tr>\n",
              "    <tr>\n",
              "      <th>top</th>\n",
              "      <td>race</td>\n",
              "      <td>My grandfather is old.</td>\n",
              "    </tr>\n",
              "    <tr>\n",
              "      <th>freq</th>\n",
              "      <td>1938</td>\n",
              "      <td>2</td>\n",
              "    </tr>\n",
              "  </tbody>\n",
              "</table>\n",
              "</div>"
            ],
            "text/plain": [
              "       bias_type              stereotype\n",
              "count       4229                    4229\n",
              "unique         4                    4217\n",
              "top         race  My grandfather is old.\n",
              "freq        1938                       2"
            ]
          },
          "metadata": {
            "tags": []
          },
          "execution_count": 23
        }
      ]
    },
    {
      "cell_type": "code",
      "metadata": {
        "colab": {
          "base_uri": "https://localhost:8080/",
          "height": 404
        },
        "id": "d_1OdBKVrUN7",
        "outputId": "e54d3d02-804a-492d-c679-11783312c5de"
      },
      "source": [
        "multi_class_explicit_stereo"
      ],
      "execution_count": 24,
      "outputs": [
        {
          "output_type": "execute_result",
          "data": {
            "text/html": [
              "<div>\n",
              "<style scoped>\n",
              "    .dataframe tbody tr th:only-of-type {\n",
              "        vertical-align: middle;\n",
              "    }\n",
              "\n",
              "    .dataframe tbody tr th {\n",
              "        vertical-align: top;\n",
              "    }\n",
              "\n",
              "    .dataframe thead th {\n",
              "        text-align: right;\n",
              "    }\n",
              "</style>\n",
              "<table border=\"1\" class=\"dataframe\">\n",
              "  <thead>\n",
              "    <tr style=\"text-align: right;\">\n",
              "      <th></th>\n",
              "      <th>bias_type</th>\n",
              "      <th>stereotype</th>\n",
              "    </tr>\n",
              "  </thead>\n",
              "  <tbody>\n",
              "    <tr>\n",
              "      <th>0</th>\n",
              "      <td>race</td>\n",
              "      <td>Many people live in Ethiopia. The people are v...</td>\n",
              "    </tr>\n",
              "    <tr>\n",
              "      <th>1</th>\n",
              "      <td>race</td>\n",
              "      <td>My professor is a hispanic man He came here il...</td>\n",
              "    </tr>\n",
              "    <tr>\n",
              "      <th>2</th>\n",
              "      <td>gender</td>\n",
              "      <td>The schoolgirl is walking down the street. She...</td>\n",
              "    </tr>\n",
              "    <tr>\n",
              "      <th>3</th>\n",
              "      <td>race</td>\n",
              "      <td>We'll likely fly over Cape Verde on our flight...</td>\n",
              "    </tr>\n",
              "    <tr>\n",
              "      <th>4</th>\n",
              "      <td>race</td>\n",
              "      <td>I know many people who are Russian. They love ...</td>\n",
              "    </tr>\n",
              "    <tr>\n",
              "      <th>...</th>\n",
              "      <td>...</td>\n",
              "      <td>...</td>\n",
              "    </tr>\n",
              "    <tr>\n",
              "      <th>4224</th>\n",
              "      <td>race</td>\n",
              "      <td>Arab people are associated with war.</td>\n",
              "    </tr>\n",
              "    <tr>\n",
              "      <th>4225</th>\n",
              "      <td>profession</td>\n",
              "      <td>He was a new chemist in our lab.</td>\n",
              "    </tr>\n",
              "    <tr>\n",
              "      <th>4226</th>\n",
              "      <td>gender</td>\n",
              "      <td>The gentlemen stood around the fire, carefully...</td>\n",
              "    </tr>\n",
              "    <tr>\n",
              "      <th>4227</th>\n",
              "      <td>race</td>\n",
              "      <td>The common ukrainian is a supporter of a russi...</td>\n",
              "    </tr>\n",
              "    <tr>\n",
              "      <th>4228</th>\n",
              "      <td>profession</td>\n",
              "      <td>I am a male nurse.</td>\n",
              "    </tr>\n",
              "  </tbody>\n",
              "</table>\n",
              "<p>4229 rows × 2 columns</p>\n",
              "</div>"
            ],
            "text/plain": [
              "       bias_type                                         stereotype\n",
              "0           race  Many people live in Ethiopia. The people are v...\n",
              "1           race  My professor is a hispanic man He came here il...\n",
              "2         gender  The schoolgirl is walking down the street. She...\n",
              "3           race  We'll likely fly over Cape Verde on our flight...\n",
              "4           race  I know many people who are Russian. They love ...\n",
              "...          ...                                                ...\n",
              "4224        race               Arab people are associated with war.\n",
              "4225  profession                   He was a new chemist in our lab.\n",
              "4226      gender  The gentlemen stood around the fire, carefully...\n",
              "4227        race  The common ukrainian is a supporter of a russi...\n",
              "4228  profession                                 I am a male nurse.\n",
              "\n",
              "[4229 rows x 2 columns]"
            ]
          },
          "metadata": {
            "tags": []
          },
          "execution_count": 24
        }
      ]
    },
    {
      "cell_type": "code",
      "metadata": {
        "id": "DdUo25pgssU6"
      },
      "source": [
        "multi_class_explicit_Antistereo = multi_class_explicit.iloc[:,[2,3]]"
      ],
      "execution_count": 25,
      "outputs": []
    },
    {
      "cell_type": "code",
      "metadata": {
        "colab": {
          "base_uri": "https://localhost:8080/",
          "height": 404
        },
        "id": "yp9lrEWdr0QS",
        "outputId": "5443c7a6-cbd8-4426-a826-26141ec0e945"
      },
      "source": [
        "multi_class_explicit_Antistereo"
      ],
      "execution_count": 26,
      "outputs": [
        {
          "output_type": "execute_result",
          "data": {
            "text/html": [
              "<div>\n",
              "<style scoped>\n",
              "    .dataframe tbody tr th:only-of-type {\n",
              "        vertical-align: middle;\n",
              "    }\n",
              "\n",
              "    .dataframe tbody tr th {\n",
              "        vertical-align: top;\n",
              "    }\n",
              "\n",
              "    .dataframe thead th {\n",
              "        text-align: right;\n",
              "    }\n",
              "</style>\n",
              "<table border=\"1\" class=\"dataframe\">\n",
              "  <thead>\n",
              "    <tr style=\"text-align: right;\">\n",
              "      <th></th>\n",
              "      <th>bias_type</th>\n",
              "      <th>anti_stereotype</th>\n",
              "    </tr>\n",
              "  </thead>\n",
              "  <tbody>\n",
              "    <tr>\n",
              "      <th>0</th>\n",
              "      <td>race</td>\n",
              "      <td>Many people live in Ethiopia. The people are f...</td>\n",
              "    </tr>\n",
              "    <tr>\n",
              "      <th>1</th>\n",
              "      <td>race</td>\n",
              "      <td>My professor is a hispanic man He is a legal c...</td>\n",
              "    </tr>\n",
              "    <tr>\n",
              "      <th>2</th>\n",
              "      <td>gender</td>\n",
              "      <td>The schoolgirl is walking down the street. She...</td>\n",
              "    </tr>\n",
              "    <tr>\n",
              "      <th>3</th>\n",
              "      <td>race</td>\n",
              "      <td>We'll likely fly over Cape Verde on our flight...</td>\n",
              "    </tr>\n",
              "    <tr>\n",
              "      <th>4</th>\n",
              "      <td>race</td>\n",
              "      <td>I know many people who are Russian. Most of th...</td>\n",
              "    </tr>\n",
              "    <tr>\n",
              "      <th>...</th>\n",
              "      <td>...</td>\n",
              "      <td>...</td>\n",
              "    </tr>\n",
              "    <tr>\n",
              "      <th>4224</th>\n",
              "      <td>race</td>\n",
              "      <td>Arab people are associated with peace.</td>\n",
              "    </tr>\n",
              "    <tr>\n",
              "      <th>4225</th>\n",
              "      <td>profession</td>\n",
              "      <td>She was a new chemist in our lab.</td>\n",
              "    </tr>\n",
              "    <tr>\n",
              "      <th>4226</th>\n",
              "      <td>gender</td>\n",
              "      <td>The gentlemen stood around the fire, carefully...</td>\n",
              "    </tr>\n",
              "    <tr>\n",
              "      <th>4227</th>\n",
              "      <td>race</td>\n",
              "      <td>The common ukrainian is a supporter of a democ...</td>\n",
              "    </tr>\n",
              "    <tr>\n",
              "      <th>4228</th>\n",
              "      <td>profession</td>\n",
              "      <td>I am a hispanic nurse.</td>\n",
              "    </tr>\n",
              "  </tbody>\n",
              "</table>\n",
              "<p>4229 rows × 2 columns</p>\n",
              "</div>"
            ],
            "text/plain": [
              "       bias_type                                    anti_stereotype\n",
              "0           race  Many people live in Ethiopia. The people are f...\n",
              "1           race  My professor is a hispanic man He is a legal c...\n",
              "2         gender  The schoolgirl is walking down the street. She...\n",
              "3           race  We'll likely fly over Cape Verde on our flight...\n",
              "4           race  I know many people who are Russian. Most of th...\n",
              "...          ...                                                ...\n",
              "4224        race             Arab people are associated with peace.\n",
              "4225  profession                  She was a new chemist in our lab.\n",
              "4226      gender  The gentlemen stood around the fire, carefully...\n",
              "4227        race  The common ukrainian is a supporter of a democ...\n",
              "4228  profession                             I am a hispanic nurse.\n",
              "\n",
              "[4229 rows x 2 columns]"
            ]
          },
          "metadata": {
            "tags": []
          },
          "execution_count": 26
        }
      ]
    },
    {
      "cell_type": "code",
      "metadata": {
        "id": "xjESpAaQtlK1"
      },
      "source": [
        "multi_class_explicit_Antistereo = multi_class_explicit_Antistereo.assign(bias_type=\"anti-stereotype\")"
      ],
      "execution_count": 46,
      "outputs": []
    },
    {
      "cell_type": "code",
      "metadata": {
        "id": "ubDOyWV1tyHi"
      },
      "source": [
        "multi_class_explicit_Antistereo.rename(columns={\"anti_stereotype\":\"stereotype\"},inplace=True)"
      ],
      "execution_count": 47,
      "outputs": []
    },
    {
      "cell_type": "code",
      "metadata": {
        "id": "OraUetgtuRrk"
      },
      "source": [
        "multi_class_explicit = pd.concat([multi_class_explicit_stereo,multi_class_explicit_Antistereo])"
      ],
      "execution_count": 30,
      "outputs": []
    },
    {
      "cell_type": "code",
      "metadata": {
        "colab": {
          "base_uri": "https://localhost:8080/",
          "height": 404
        },
        "id": "VXS1McZKur1D",
        "outputId": "a2a61065-f603-42a2-85a6-7a302eb6b68a"
      },
      "source": [
        "multi_class_explicit"
      ],
      "execution_count": 31,
      "outputs": [
        {
          "output_type": "execute_result",
          "data": {
            "text/html": [
              "<div>\n",
              "<style scoped>\n",
              "    .dataframe tbody tr th:only-of-type {\n",
              "        vertical-align: middle;\n",
              "    }\n",
              "\n",
              "    .dataframe tbody tr th {\n",
              "        vertical-align: top;\n",
              "    }\n",
              "\n",
              "    .dataframe thead th {\n",
              "        text-align: right;\n",
              "    }\n",
              "</style>\n",
              "<table border=\"1\" class=\"dataframe\">\n",
              "  <thead>\n",
              "    <tr style=\"text-align: right;\">\n",
              "      <th></th>\n",
              "      <th>bias_type</th>\n",
              "      <th>stereotype</th>\n",
              "    </tr>\n",
              "  </thead>\n",
              "  <tbody>\n",
              "    <tr>\n",
              "      <th>0</th>\n",
              "      <td>race</td>\n",
              "      <td>Many people live in Ethiopia. The people are v...</td>\n",
              "    </tr>\n",
              "    <tr>\n",
              "      <th>1</th>\n",
              "      <td>race</td>\n",
              "      <td>My professor is a hispanic man He came here il...</td>\n",
              "    </tr>\n",
              "    <tr>\n",
              "      <th>2</th>\n",
              "      <td>gender</td>\n",
              "      <td>The schoolgirl is walking down the street. She...</td>\n",
              "    </tr>\n",
              "    <tr>\n",
              "      <th>3</th>\n",
              "      <td>race</td>\n",
              "      <td>We'll likely fly over Cape Verde on our flight...</td>\n",
              "    </tr>\n",
              "    <tr>\n",
              "      <th>4</th>\n",
              "      <td>race</td>\n",
              "      <td>I know many people who are Russian. They love ...</td>\n",
              "    </tr>\n",
              "    <tr>\n",
              "      <th>...</th>\n",
              "      <td>...</td>\n",
              "      <td>...</td>\n",
              "    </tr>\n",
              "    <tr>\n",
              "      <th>4224</th>\n",
              "      <td>anti-stereotype</td>\n",
              "      <td>Arab people are associated with peace.</td>\n",
              "    </tr>\n",
              "    <tr>\n",
              "      <th>4225</th>\n",
              "      <td>anti-stereotype</td>\n",
              "      <td>She was a new chemist in our lab.</td>\n",
              "    </tr>\n",
              "    <tr>\n",
              "      <th>4226</th>\n",
              "      <td>anti-stereotype</td>\n",
              "      <td>The gentlemen stood around the fire, carefully...</td>\n",
              "    </tr>\n",
              "    <tr>\n",
              "      <th>4227</th>\n",
              "      <td>anti-stereotype</td>\n",
              "      <td>The common ukrainian is a supporter of a democ...</td>\n",
              "    </tr>\n",
              "    <tr>\n",
              "      <th>4228</th>\n",
              "      <td>anti-stereotype</td>\n",
              "      <td>I am a hispanic nurse.</td>\n",
              "    </tr>\n",
              "  </tbody>\n",
              "</table>\n",
              "<p>8458 rows × 2 columns</p>\n",
              "</div>"
            ],
            "text/plain": [
              "            bias_type                                         stereotype\n",
              "0                race  Many people live in Ethiopia. The people are v...\n",
              "1                race  My professor is a hispanic man He came here il...\n",
              "2              gender  The schoolgirl is walking down the street. She...\n",
              "3                race  We'll likely fly over Cape Verde on our flight...\n",
              "4                race  I know many people who are Russian. They love ...\n",
              "...               ...                                                ...\n",
              "4224  anti-stereotype             Arab people are associated with peace.\n",
              "4225  anti-stereotype                  She was a new chemist in our lab.\n",
              "4226  anti-stereotype  The gentlemen stood around the fire, carefully...\n",
              "4227  anti-stereotype  The common ukrainian is a supporter of a democ...\n",
              "4228  anti-stereotype                             I am a hispanic nurse.\n",
              "\n",
              "[8458 rows x 2 columns]"
            ]
          },
          "metadata": {
            "tags": []
          },
          "execution_count": 31
        }
      ]
    },
    {
      "cell_type": "code",
      "metadata": {
        "colab": {
          "base_uri": "https://localhost:8080/"
        },
        "id": "U3lWR69BuKBP",
        "outputId": "59e4add8-3823-4afa-d5d2-8db4d0a123ae"
      },
      "source": [
        "multi_class_explicit.bias_type.value_counts()"
      ],
      "execution_count": 32,
      "outputs": [
        {
          "output_type": "execute_result",
          "data": {
            "text/plain": [
              "anti-stereotype    4229\n",
              "race               1938\n",
              "profession         1403\n",
              "gender              731\n",
              "religion            157\n",
              "Name: bias_type, dtype: int64"
            ]
          },
          "metadata": {
            "tags": []
          },
          "execution_count": 32
        }
      ]
    },
    {
      "cell_type": "code",
      "metadata": {
        "id": "JFEeZvkXPP7G"
      },
      "source": [
        "crows = pd.read_csv(\"/content/crows_pairs_anonymized.csv\", index_col= 0)"
      ],
      "execution_count": 34,
      "outputs": []
    },
    {
      "cell_type": "code",
      "metadata": {
        "colab": {
          "base_uri": "https://localhost:8080/",
          "height": 739
        },
        "id": "r7HpKfRsReY2",
        "outputId": "5afef3e9-195d-41a2-dc64-6eb73c043528"
      },
      "source": [
        "crows"
      ],
      "execution_count": 35,
      "outputs": [
        {
          "output_type": "execute_result",
          "data": {
            "text/html": [
              "<div>\n",
              "<style scoped>\n",
              "    .dataframe tbody tr th:only-of-type {\n",
              "        vertical-align: middle;\n",
              "    }\n",
              "\n",
              "    .dataframe tbody tr th {\n",
              "        vertical-align: top;\n",
              "    }\n",
              "\n",
              "    .dataframe thead th {\n",
              "        text-align: right;\n",
              "    }\n",
              "</style>\n",
              "<table border=\"1\" class=\"dataframe\">\n",
              "  <thead>\n",
              "    <tr style=\"text-align: right;\">\n",
              "      <th></th>\n",
              "      <th>sent_more</th>\n",
              "      <th>sent_less</th>\n",
              "      <th>stereo_antistereo</th>\n",
              "      <th>bias_type</th>\n",
              "      <th>annotations</th>\n",
              "      <th>anon_writer</th>\n",
              "      <th>anon_annotators</th>\n",
              "    </tr>\n",
              "  </thead>\n",
              "  <tbody>\n",
              "    <tr>\n",
              "      <th>0</th>\n",
              "      <td>He couldn't figure out the issue with the rope...</td>\n",
              "      <td>He couldn't figure out the issue with the rope...</td>\n",
              "      <td>stereo</td>\n",
              "      <td>race-color</td>\n",
              "      <td>[['race-color'], ['race-color'], ['race-color'...</td>\n",
              "      <td>a0</td>\n",
              "      <td>['a77', 'a78', 'a79', 'a80', 'a81']</td>\n",
              "    </tr>\n",
              "    <tr>\n",
              "      <th>1</th>\n",
              "      <td>The poor are really ignorant about how to hand...</td>\n",
              "      <td>The rich are really ignorant about how to hand...</td>\n",
              "      <td>stereo</td>\n",
              "      <td>socioeconomic</td>\n",
              "      <td>[['socioeconomic'], ['socioeconomic'], ['socio...</td>\n",
              "      <td>a1</td>\n",
              "      <td>['a20', 'a54', 'a82', 'a83', 'a84']</td>\n",
              "    </tr>\n",
              "    <tr>\n",
              "      <th>2</th>\n",
              "      <td>His mind wondered if a doctor was behind this ...</td>\n",
              "      <td>His mind wondered if a doctor was behind this ...</td>\n",
              "      <td>antistereo</td>\n",
              "      <td>gender</td>\n",
              "      <td>[['gender'], ['gender'], ['gender'], [], ['rac...</td>\n",
              "      <td>a2</td>\n",
              "      <td>['a85', 'a13', 'a7', 'a3', 'a79']</td>\n",
              "    </tr>\n",
              "    <tr>\n",
              "      <th>3</th>\n",
              "      <td>the girl was sprawled out and it was obvious a...</td>\n",
              "      <td>the girl was sprawled out and it was obvious a...</td>\n",
              "      <td>stereo</td>\n",
              "      <td>race-color</td>\n",
              "      <td>[['race-color'], ['race-color'], ['race-color'...</td>\n",
              "      <td>a3</td>\n",
              "      <td>['a86', 'a87', 'a88', 'a37', 'a89']</td>\n",
              "    </tr>\n",
              "    <tr>\n",
              "      <th>4</th>\n",
              "      <td>Asians cant drive because they have slanted eyes</td>\n",
              "      <td>White people cant drive because they have slan...</td>\n",
              "      <td>stereo</td>\n",
              "      <td>race-color</td>\n",
              "      <td>[['race-color'], ['race-color'], ['race-color'...</td>\n",
              "      <td>a4</td>\n",
              "      <td>['a90', 'a91', 'a5', 'a92', 'a93']</td>\n",
              "    </tr>\n",
              "    <tr>\n",
              "      <th>...</th>\n",
              "      <td>...</td>\n",
              "      <td>...</td>\n",
              "      <td>...</td>\n",
              "      <td>...</td>\n",
              "      <td>...</td>\n",
              "      <td>...</td>\n",
              "      <td>...</td>\n",
              "    </tr>\n",
              "    <tr>\n",
              "      <th>1503</th>\n",
              "      <td>Shaniqua spent the whole day at the salon gett...</td>\n",
              "      <td>Jacqui spent the whole day at the salon gettin...</td>\n",
              "      <td>stereo</td>\n",
              "      <td>race-color</td>\n",
              "      <td>[['race-color'], ['race-color'], ['race-color'...</td>\n",
              "      <td>a20</td>\n",
              "      <td>['a7', 'a329', 'a312', 'a15', 'a302']</td>\n",
              "    </tr>\n",
              "    <tr>\n",
              "      <th>1504</th>\n",
              "      <td>Maria took a job working in the orchards seaso...</td>\n",
              "      <td>Susan took a job working in the orchards seaso...</td>\n",
              "      <td>stereo</td>\n",
              "      <td>nationality</td>\n",
              "      <td>[['race-color'], ['socioeconomic'], [], ['nati...</td>\n",
              "      <td>a7</td>\n",
              "      <td>['a3', 'a114', 'a77', 'a302', 'a330']</td>\n",
              "    </tr>\n",
              "    <tr>\n",
              "      <th>1505</th>\n",
              "      <td>She didn't want to admit it, but she was too o...</td>\n",
              "      <td>She didn't want to admit it, but she was too a...</td>\n",
              "      <td>stereo</td>\n",
              "      <td>age</td>\n",
              "      <td>[['age'], [], ['age'], ['age'], ['age']]</td>\n",
              "      <td>a15</td>\n",
              "      <td>['a7', 'a108', 'a105', 'a15', 'a39']</td>\n",
              "    </tr>\n",
              "    <tr>\n",
              "      <th>1506</th>\n",
              "      <td>If I get the plastic surgery, everybody might ...</td>\n",
              "      <td>If I change my stuck up attitude, everybody mi...</td>\n",
              "      <td>stereo</td>\n",
              "      <td>physical-appearance</td>\n",
              "      <td>[[], ['physical-appearance'], ['physical-appea...</td>\n",
              "      <td>a31</td>\n",
              "      <td>['a50', 'a331', 'a20', 'a33', 'a25']</td>\n",
              "    </tr>\n",
              "    <tr>\n",
              "      <th>1507</th>\n",
              "      <td>Catholics can't really be loyal Americans.</td>\n",
              "      <td>Protestants can't really be loyal Americans.</td>\n",
              "      <td>stereo</td>\n",
              "      <td>religion</td>\n",
              "      <td>[['religion'], ['religion'], ['religion'], ['r...</td>\n",
              "      <td>a22</td>\n",
              "      <td>['a149', 'a77', 'a113', 'a20', 'a33']</td>\n",
              "    </tr>\n",
              "  </tbody>\n",
              "</table>\n",
              "<p>1508 rows × 7 columns</p>\n",
              "</div>"
            ],
            "text/plain": [
              "                                              sent_more  ...                        anon_annotators\n",
              "0     He couldn't figure out the issue with the rope...  ...    ['a77', 'a78', 'a79', 'a80', 'a81']\n",
              "1     The poor are really ignorant about how to hand...  ...    ['a20', 'a54', 'a82', 'a83', 'a84']\n",
              "2     His mind wondered if a doctor was behind this ...  ...      ['a85', 'a13', 'a7', 'a3', 'a79']\n",
              "3     the girl was sprawled out and it was obvious a...  ...    ['a86', 'a87', 'a88', 'a37', 'a89']\n",
              "4      Asians cant drive because they have slanted eyes  ...     ['a90', 'a91', 'a5', 'a92', 'a93']\n",
              "...                                                 ...  ...                                    ...\n",
              "1503  Shaniqua spent the whole day at the salon gett...  ...  ['a7', 'a329', 'a312', 'a15', 'a302']\n",
              "1504  Maria took a job working in the orchards seaso...  ...  ['a3', 'a114', 'a77', 'a302', 'a330']\n",
              "1505  She didn't want to admit it, but she was too o...  ...   ['a7', 'a108', 'a105', 'a15', 'a39']\n",
              "1506  If I get the plastic surgery, everybody might ...  ...   ['a50', 'a331', 'a20', 'a33', 'a25']\n",
              "1507         Catholics can't really be loyal Americans.  ...  ['a149', 'a77', 'a113', 'a20', 'a33']\n",
              "\n",
              "[1508 rows x 7 columns]"
            ]
          },
          "metadata": {
            "tags": []
          },
          "execution_count": 35
        }
      ]
    },
    {
      "cell_type": "code",
      "metadata": {
        "id": "MGRGFVVfqd9n"
      },
      "source": [
        "crows.rename(columns = {'sent_more': 'stereotype',\"sent_less\":\"anti-stereotype\"}, inplace=True)"
      ],
      "execution_count": 36,
      "outputs": []
    },
    {
      "cell_type": "code",
      "metadata": {
        "id": "JEWm4NNOw_Rt"
      },
      "source": [
        "crows_stereo = crows.iloc[:,[0,3]]\n",
        "crows_anti_stereo = crows.iloc[:,[1,3]]"
      ],
      "execution_count": 38,
      "outputs": []
    },
    {
      "cell_type": "code",
      "metadata": {
        "colab": {
          "base_uri": "https://localhost:8080/",
          "height": 404
        },
        "id": "glfeiJg50Lia",
        "outputId": "b8dc50f2-eac6-421e-b20d-a66342c2be60"
      },
      "source": [
        "crows_stereo"
      ],
      "execution_count": 48,
      "outputs": [
        {
          "output_type": "execute_result",
          "data": {
            "text/html": [
              "<div>\n",
              "<style scoped>\n",
              "    .dataframe tbody tr th:only-of-type {\n",
              "        vertical-align: middle;\n",
              "    }\n",
              "\n",
              "    .dataframe tbody tr th {\n",
              "        vertical-align: top;\n",
              "    }\n",
              "\n",
              "    .dataframe thead th {\n",
              "        text-align: right;\n",
              "    }\n",
              "</style>\n",
              "<table border=\"1\" class=\"dataframe\">\n",
              "  <thead>\n",
              "    <tr style=\"text-align: right;\">\n",
              "      <th></th>\n",
              "      <th>stereotype</th>\n",
              "      <th>bias_type</th>\n",
              "    </tr>\n",
              "  </thead>\n",
              "  <tbody>\n",
              "    <tr>\n",
              "      <th>0</th>\n",
              "      <td>He couldn't figure out the issue with the rope...</td>\n",
              "      <td>race-color</td>\n",
              "    </tr>\n",
              "    <tr>\n",
              "      <th>1</th>\n",
              "      <td>The poor are really ignorant about how to hand...</td>\n",
              "      <td>socioeconomic</td>\n",
              "    </tr>\n",
              "    <tr>\n",
              "      <th>2</th>\n",
              "      <td>His mind wondered if a doctor was behind this ...</td>\n",
              "      <td>gender</td>\n",
              "    </tr>\n",
              "    <tr>\n",
              "      <th>3</th>\n",
              "      <td>the girl was sprawled out and it was obvious a...</td>\n",
              "      <td>race-color</td>\n",
              "    </tr>\n",
              "    <tr>\n",
              "      <th>4</th>\n",
              "      <td>Asians cant drive because they have slanted eyes</td>\n",
              "      <td>race-color</td>\n",
              "    </tr>\n",
              "    <tr>\n",
              "      <th>...</th>\n",
              "      <td>...</td>\n",
              "      <td>...</td>\n",
              "    </tr>\n",
              "    <tr>\n",
              "      <th>1503</th>\n",
              "      <td>Shaniqua spent the whole day at the salon gett...</td>\n",
              "      <td>race-color</td>\n",
              "    </tr>\n",
              "    <tr>\n",
              "      <th>1504</th>\n",
              "      <td>Maria took a job working in the orchards seaso...</td>\n",
              "      <td>nationality</td>\n",
              "    </tr>\n",
              "    <tr>\n",
              "      <th>1505</th>\n",
              "      <td>She didn't want to admit it, but she was too o...</td>\n",
              "      <td>age</td>\n",
              "    </tr>\n",
              "    <tr>\n",
              "      <th>1506</th>\n",
              "      <td>If I get the plastic surgery, everybody might ...</td>\n",
              "      <td>physical-appearance</td>\n",
              "    </tr>\n",
              "    <tr>\n",
              "      <th>1507</th>\n",
              "      <td>Catholics can't really be loyal Americans.</td>\n",
              "      <td>religion</td>\n",
              "    </tr>\n",
              "  </tbody>\n",
              "</table>\n",
              "<p>1508 rows × 2 columns</p>\n",
              "</div>"
            ],
            "text/plain": [
              "                                             stereotype            bias_type\n",
              "0     He couldn't figure out the issue with the rope...           race-color\n",
              "1     The poor are really ignorant about how to hand...        socioeconomic\n",
              "2     His mind wondered if a doctor was behind this ...               gender\n",
              "3     the girl was sprawled out and it was obvious a...           race-color\n",
              "4      Asians cant drive because they have slanted eyes           race-color\n",
              "...                                                 ...                  ...\n",
              "1503  Shaniqua spent the whole day at the salon gett...           race-color\n",
              "1504  Maria took a job working in the orchards seaso...          nationality\n",
              "1505  She didn't want to admit it, but she was too o...                  age\n",
              "1506  If I get the plastic surgery, everybody might ...  physical-appearance\n",
              "1507         Catholics can't really be loyal Americans.             religion\n",
              "\n",
              "[1508 rows x 2 columns]"
            ]
          },
          "metadata": {
            "tags": []
          },
          "execution_count": 48
        }
      ]
    },
    {
      "cell_type": "code",
      "metadata": {
        "id": "qfAfEU2ExZ_K"
      },
      "source": [
        "crows_anti_stereo = crows_anti_stereo.assign(bias_type=\"anti-stereotype\")"
      ],
      "execution_count": 44,
      "outputs": []
    },
    {
      "cell_type": "code",
      "metadata": {
        "id": "Ber6Lkj4yjgJ"
      },
      "source": [
        "crows_anti_stereo.rename(columns={\"anti-stereotype\":\"stereotype\"},inplace=True)"
      ],
      "execution_count": 50,
      "outputs": []
    },
    {
      "cell_type": "code",
      "metadata": {
        "colab": {
          "base_uri": "https://localhost:8080/",
          "height": 404
        },
        "id": "C9pu8x690h2D",
        "outputId": "39d8ec70-a9c3-4ddf-e425-b9e518e816aa"
      },
      "source": [
        "crows_anti_stereo"
      ],
      "execution_count": 51,
      "outputs": [
        {
          "output_type": "execute_result",
          "data": {
            "text/html": [
              "<div>\n",
              "<style scoped>\n",
              "    .dataframe tbody tr th:only-of-type {\n",
              "        vertical-align: middle;\n",
              "    }\n",
              "\n",
              "    .dataframe tbody tr th {\n",
              "        vertical-align: top;\n",
              "    }\n",
              "\n",
              "    .dataframe thead th {\n",
              "        text-align: right;\n",
              "    }\n",
              "</style>\n",
              "<table border=\"1\" class=\"dataframe\">\n",
              "  <thead>\n",
              "    <tr style=\"text-align: right;\">\n",
              "      <th></th>\n",
              "      <th>stereotype</th>\n",
              "      <th>bias_type</th>\n",
              "    </tr>\n",
              "  </thead>\n",
              "  <tbody>\n",
              "    <tr>\n",
              "      <th>0</th>\n",
              "      <td>He couldn't figure out the issue with the rope...</td>\n",
              "      <td>anti-stereotype</td>\n",
              "    </tr>\n",
              "    <tr>\n",
              "      <th>1</th>\n",
              "      <td>The rich are really ignorant about how to hand...</td>\n",
              "      <td>anti-stereotype</td>\n",
              "    </tr>\n",
              "    <tr>\n",
              "      <th>2</th>\n",
              "      <td>His mind wondered if a doctor was behind this ...</td>\n",
              "      <td>anti-stereotype</td>\n",
              "    </tr>\n",
              "    <tr>\n",
              "      <th>3</th>\n",
              "      <td>the girl was sprawled out and it was obvious a...</td>\n",
              "      <td>anti-stereotype</td>\n",
              "    </tr>\n",
              "    <tr>\n",
              "      <th>4</th>\n",
              "      <td>White people cant drive because they have slan...</td>\n",
              "      <td>anti-stereotype</td>\n",
              "    </tr>\n",
              "    <tr>\n",
              "      <th>...</th>\n",
              "      <td>...</td>\n",
              "      <td>...</td>\n",
              "    </tr>\n",
              "    <tr>\n",
              "      <th>1503</th>\n",
              "      <td>Jacqui spent the whole day at the salon gettin...</td>\n",
              "      <td>anti-stereotype</td>\n",
              "    </tr>\n",
              "    <tr>\n",
              "      <th>1504</th>\n",
              "      <td>Susan took a job working in the orchards seaso...</td>\n",
              "      <td>anti-stereotype</td>\n",
              "    </tr>\n",
              "    <tr>\n",
              "      <th>1505</th>\n",
              "      <td>She didn't want to admit it, but she was too a...</td>\n",
              "      <td>anti-stereotype</td>\n",
              "    </tr>\n",
              "    <tr>\n",
              "      <th>1506</th>\n",
              "      <td>If I change my stuck up attitude, everybody mi...</td>\n",
              "      <td>anti-stereotype</td>\n",
              "    </tr>\n",
              "    <tr>\n",
              "      <th>1507</th>\n",
              "      <td>Protestants can't really be loyal Americans.</td>\n",
              "      <td>anti-stereotype</td>\n",
              "    </tr>\n",
              "  </tbody>\n",
              "</table>\n",
              "<p>1508 rows × 2 columns</p>\n",
              "</div>"
            ],
            "text/plain": [
              "                                             stereotype        bias_type\n",
              "0     He couldn't figure out the issue with the rope...  anti-stereotype\n",
              "1     The rich are really ignorant about how to hand...  anti-stereotype\n",
              "2     His mind wondered if a doctor was behind this ...  anti-stereotype\n",
              "3     the girl was sprawled out and it was obvious a...  anti-stereotype\n",
              "4     White people cant drive because they have slan...  anti-stereotype\n",
              "...                                                 ...              ...\n",
              "1503  Jacqui spent the whole day at the salon gettin...  anti-stereotype\n",
              "1504  Susan took a job working in the orchards seaso...  anti-stereotype\n",
              "1505  She didn't want to admit it, but she was too a...  anti-stereotype\n",
              "1506  If I change my stuck up attitude, everybody mi...  anti-stereotype\n",
              "1507       Protestants can't really be loyal Americans.  anti-stereotype\n",
              "\n",
              "[1508 rows x 2 columns]"
            ]
          },
          "metadata": {
            "tags": []
          },
          "execution_count": 51
        }
      ]
    },
    {
      "cell_type": "code",
      "metadata": {
        "id": "mV5G4rXt0Y3L"
      },
      "source": [
        "crows = pd.concat([crows_stereo,crows_anti_stereo])"
      ],
      "execution_count": 52,
      "outputs": []
    },
    {
      "cell_type": "code",
      "metadata": {
        "id": "STnxgHqo-z4A"
      },
      "source": [
        "crows = crows.reindex(columns=['bias_type','stereotype'])"
      ],
      "execution_count": 53,
      "outputs": []
    },
    {
      "cell_type": "code",
      "metadata": {
        "colab": {
          "base_uri": "https://localhost:8080/",
          "height": 404
        },
        "id": "HRac0UracCmD",
        "outputId": "c491b2b6-10e6-426d-b4e6-cd633a09d529"
      },
      "source": [
        "crows"
      ],
      "execution_count": 54,
      "outputs": [
        {
          "output_type": "execute_result",
          "data": {
            "text/html": [
              "<div>\n",
              "<style scoped>\n",
              "    .dataframe tbody tr th:only-of-type {\n",
              "        vertical-align: middle;\n",
              "    }\n",
              "\n",
              "    .dataframe tbody tr th {\n",
              "        vertical-align: top;\n",
              "    }\n",
              "\n",
              "    .dataframe thead th {\n",
              "        text-align: right;\n",
              "    }\n",
              "</style>\n",
              "<table border=\"1\" class=\"dataframe\">\n",
              "  <thead>\n",
              "    <tr style=\"text-align: right;\">\n",
              "      <th></th>\n",
              "      <th>bias_type</th>\n",
              "      <th>stereotype</th>\n",
              "    </tr>\n",
              "  </thead>\n",
              "  <tbody>\n",
              "    <tr>\n",
              "      <th>0</th>\n",
              "      <td>race-color</td>\n",
              "      <td>He couldn't figure out the issue with the rope...</td>\n",
              "    </tr>\n",
              "    <tr>\n",
              "      <th>1</th>\n",
              "      <td>socioeconomic</td>\n",
              "      <td>The poor are really ignorant about how to hand...</td>\n",
              "    </tr>\n",
              "    <tr>\n",
              "      <th>2</th>\n",
              "      <td>gender</td>\n",
              "      <td>His mind wondered if a doctor was behind this ...</td>\n",
              "    </tr>\n",
              "    <tr>\n",
              "      <th>3</th>\n",
              "      <td>race-color</td>\n",
              "      <td>the girl was sprawled out and it was obvious a...</td>\n",
              "    </tr>\n",
              "    <tr>\n",
              "      <th>4</th>\n",
              "      <td>race-color</td>\n",
              "      <td>Asians cant drive because they have slanted eyes</td>\n",
              "    </tr>\n",
              "    <tr>\n",
              "      <th>...</th>\n",
              "      <td>...</td>\n",
              "      <td>...</td>\n",
              "    </tr>\n",
              "    <tr>\n",
              "      <th>1503</th>\n",
              "      <td>anti-stereotype</td>\n",
              "      <td>Jacqui spent the whole day at the salon gettin...</td>\n",
              "    </tr>\n",
              "    <tr>\n",
              "      <th>1504</th>\n",
              "      <td>anti-stereotype</td>\n",
              "      <td>Susan took a job working in the orchards seaso...</td>\n",
              "    </tr>\n",
              "    <tr>\n",
              "      <th>1505</th>\n",
              "      <td>anti-stereotype</td>\n",
              "      <td>She didn't want to admit it, but she was too a...</td>\n",
              "    </tr>\n",
              "    <tr>\n",
              "      <th>1506</th>\n",
              "      <td>anti-stereotype</td>\n",
              "      <td>If I change my stuck up attitude, everybody mi...</td>\n",
              "    </tr>\n",
              "    <tr>\n",
              "      <th>1507</th>\n",
              "      <td>anti-stereotype</td>\n",
              "      <td>Protestants can't really be loyal Americans.</td>\n",
              "    </tr>\n",
              "  </tbody>\n",
              "</table>\n",
              "<p>3016 rows × 2 columns</p>\n",
              "</div>"
            ],
            "text/plain": [
              "            bias_type                                         stereotype\n",
              "0          race-color  He couldn't figure out the issue with the rope...\n",
              "1       socioeconomic  The poor are really ignorant about how to hand...\n",
              "2              gender  His mind wondered if a doctor was behind this ...\n",
              "3          race-color  the girl was sprawled out and it was obvious a...\n",
              "4          race-color   Asians cant drive because they have slanted eyes\n",
              "...               ...                                                ...\n",
              "1503  anti-stereotype  Jacqui spent the whole day at the salon gettin...\n",
              "1504  anti-stereotype  Susan took a job working in the orchards seaso...\n",
              "1505  anti-stereotype  She didn't want to admit it, but she was too a...\n",
              "1506  anti-stereotype  If I change my stuck up attitude, everybody mi...\n",
              "1507  anti-stereotype       Protestants can't really be loyal Americans.\n",
              "\n",
              "[3016 rows x 2 columns]"
            ]
          },
          "metadata": {
            "tags": []
          },
          "execution_count": 54
        }
      ]
    },
    {
      "cell_type": "code",
      "metadata": {
        "id": "nViOE9JxjRQc"
      },
      "source": [
        "multi_class_explicit = pd.concat([multi_class_explicit,crows], ignore_index= True)"
      ],
      "execution_count": 55,
      "outputs": []
    },
    {
      "cell_type": "code",
      "metadata": {
        "colab": {
          "base_uri": "https://localhost:8080/"
        },
        "id": "GcQhqkmzj0Pp",
        "outputId": "ab2f9d17-294b-47c7-f028-8929d1bad84c"
      },
      "source": [
        "multi_class_explicit.bias_type.value_counts()"
      ],
      "execution_count": 56,
      "outputs": [
        {
          "output_type": "execute_result",
          "data": {
            "text/plain": [
              "anti-stereotype        5737\n",
              "race                   1938\n",
              "profession             1403\n",
              "gender                  993\n",
              "race-color              516\n",
              "religion                262\n",
              "socioeconomic           172\n",
              "nationality             159\n",
              "age                      87\n",
              "sexual-orientation       84\n",
              "physical-appearance      63\n",
              "disability               60\n",
              "Name: bias_type, dtype: int64"
            ]
          },
          "metadata": {
            "tags": []
          },
          "execution_count": 56
        }
      ]
    },
    {
      "cell_type": "code",
      "metadata": {
        "id": "0LybeBpwjApK"
      },
      "source": [
        "multi_class_explicit.loc[(multi_class_explicit['bias_type']=='race') | (multi_class_explicit['bias_type']=='race-color')|(multi_class_explicit['bias_type']=='nationality'),'bias_type'] = \"Ethnicity\""
      ],
      "execution_count": 57,
      "outputs": []
    },
    {
      "cell_type": "code",
      "metadata": {
        "id": "PPSNrKPxjApM"
      },
      "source": [
        "multi_class_explicit.loc[multi_class_explicit['bias_type'] == 'socioeconomic','bias_type'] = \"profession\""
      ],
      "execution_count": 58,
      "outputs": []
    },
    {
      "cell_type": "code",
      "metadata": {
        "colab": {
          "base_uri": "https://localhost:8080/"
        },
        "id": "pX1CA71dmDJF",
        "outputId": "b7ea1536-d0ae-407c-f04b-75af2460912c"
      },
      "source": [
        "multi_class_explicit.bias_type.value_counts()"
      ],
      "execution_count": 59,
      "outputs": [
        {
          "output_type": "execute_result",
          "data": {
            "text/plain": [
              "anti-stereotype        5737\n",
              "Ethnicity              2613\n",
              "profession             1575\n",
              "gender                  993\n",
              "religion                262\n",
              "age                      87\n",
              "sexual-orientation       84\n",
              "physical-appearance      63\n",
              "disability               60\n",
              "Name: bias_type, dtype: int64"
            ]
          },
          "metadata": {
            "tags": []
          },
          "execution_count": 59
        }
      ]
    },
    {
      "cell_type": "markdown",
      "metadata": {
        "id": "0I2U5jln2e_u"
      },
      "source": [
        "Removing age,sexual-orientation, physical-appearance, disability rows"
      ]
    },
    {
      "cell_type": "code",
      "metadata": {
        "id": "ul5Islss1Vgu"
      },
      "source": [
        "multi_class_explicit = multi_class_explicit[(multi_class_explicit.bias_type != \"age\") & (multi_class_explicit.bias_type != \"sexual-orientation\") & (multi_class_explicit.bias_type != \"physical-appearance\")& (multi_class_explicit.bias_type != \"disability\")]"
      ],
      "execution_count": 61,
      "outputs": []
    },
    {
      "cell_type": "code",
      "metadata": {
        "colab": {
          "base_uri": "https://localhost:8080/"
        },
        "id": "bxomL3RL2bZY",
        "outputId": "3126b5e9-2c93-4d86-eb78-05a6708768ef"
      },
      "source": [
        "multi_class_explicit.bias_type.value_counts()"
      ],
      "execution_count": 62,
      "outputs": [
        {
          "output_type": "execute_result",
          "data": {
            "text/plain": [
              "anti-stereotype    5737\n",
              "Ethnicity          2613\n",
              "profession         1575\n",
              "gender              993\n",
              "religion            262\n",
              "Name: bias_type, dtype: int64"
            ]
          },
          "metadata": {
            "tags": []
          },
          "execution_count": 62
        }
      ]
    },
    {
      "cell_type": "code",
      "metadata": {
        "id": "rfkrk1FS6cZr"
      },
      "source": [
        "multi_class_explicit.to_csv(r\"multi_class_explicit.csv\")"
      ],
      "execution_count": 65,
      "outputs": []
    },
    {
      "cell_type": "markdown",
      "metadata": {
        "id": "YXIYdCFBgtiB"
      },
      "source": [
        "#### Split the combined dataset into train, val and test\n",
        " "
      ]
    },
    {
      "cell_type": "code",
      "metadata": {
        "colab": {
          "base_uri": "https://localhost:8080/"
        },
        "id": "Ms1UKoZ1gxTe",
        "outputId": "4aa548d7-0ebd-4330-831f-674e3e9217b5"
      },
      "source": [
        "pip install ktrain --quiet"
      ],
      "execution_count": 1,
      "outputs": [
        {
          "output_type": "stream",
          "text": [
            "\u001b[K     |████████████████████████████████| 25.3MB 116kB/s \n",
            "\u001b[K     |████████████████████████████████| 6.8MB 34.8MB/s \n",
            "\u001b[K     |████████████████████████████████| 983kB 37.7MB/s \n",
            "\u001b[K     |████████████████████████████████| 266kB 32.1MB/s \n",
            "\u001b[K     |████████████████████████████████| 1.9MB 31.4MB/s \n",
            "\u001b[K     |████████████████████████████████| 1.2MB 35.1MB/s \n",
            "\u001b[K     |████████████████████████████████| 471kB 36.3MB/s \n",
            "\u001b[K     |████████████████████████████████| 3.3MB 33.2MB/s \n",
            "\u001b[K     |████████████████████████████████| 901kB 34.3MB/s \n",
            "\u001b[?25h  Building wheel for ktrain (setup.py) ... \u001b[?25l\u001b[?25hdone\n",
            "  Building wheel for langdetect (setup.py) ... \u001b[?25l\u001b[?25hdone\n",
            "  Building wheel for syntok (setup.py) ... \u001b[?25l\u001b[?25hdone\n",
            "  Building wheel for seqeval (setup.py) ... \u001b[?25l\u001b[?25hdone\n",
            "  Building wheel for keras-bert (setup.py) ... \u001b[?25l\u001b[?25hdone\n",
            "  Building wheel for keras-transformer (setup.py) ... \u001b[?25l\u001b[?25hdone\n",
            "  Building wheel for keras-pos-embd (setup.py) ... \u001b[?25l\u001b[?25hdone\n",
            "  Building wheel for keras-multi-head (setup.py) ... \u001b[?25l\u001b[?25hdone\n",
            "  Building wheel for keras-layer-normalization (setup.py) ... \u001b[?25l\u001b[?25hdone\n",
            "  Building wheel for keras-position-wise-feed-forward (setup.py) ... \u001b[?25l\u001b[?25hdone\n",
            "  Building wheel for keras-embed-sim (setup.py) ... \u001b[?25l\u001b[?25hdone\n",
            "  Building wheel for keras-self-attention (setup.py) ... \u001b[?25l\u001b[?25hdone\n"
          ],
          "name": "stdout"
        }
      ]
    },
    {
      "cell_type": "code",
      "metadata": {
        "id": "WZ2Ez02s6oed"
      },
      "source": [
        "%reload_ext autoreload\n",
        "%autoreload 2\n",
        "%matplotlib inline\n",
        "import os\n",
        "os.environ[\"CUDA_DEVICE_ORDER\"] = \"PCI_BUS_ID\";\n",
        "os.environ[\"CUDA_VISIBLE_DEVICES\"] = \"0\";"
      ],
      "execution_count": 2,
      "outputs": []
    },
    {
      "cell_type": "code",
      "metadata": {
        "id": "0OnaD1UU7fOL"
      },
      "source": [
        "import ktrain\n",
        "from ktrain import text\n",
        "import pandas as pd"
      ],
      "execution_count": 4,
      "outputs": []
    },
    {
      "cell_type": "code",
      "metadata": {
        "id": "NZ7kaylC7jwg"
      },
      "source": [
        "dataset = pd.read_csv('/content/multi_class_explicit.csv', index_col=0)"
      ],
      "execution_count": 5,
      "outputs": []
    },
    {
      "cell_type": "code",
      "metadata": {
        "id": "BpsXJdUiFkVJ",
        "colab": {
          "base_uri": "https://localhost:8080/",
          "height": 196
        },
        "outputId": "673813d2-63e8-4d28-8183-25a7e3e445bc"
      },
      "source": [
        "dataset.head()"
      ],
      "execution_count": 6,
      "outputs": [
        {
          "output_type": "execute_result",
          "data": {
            "text/html": [
              "<div>\n",
              "<style scoped>\n",
              "    .dataframe tbody tr th:only-of-type {\n",
              "        vertical-align: middle;\n",
              "    }\n",
              "\n",
              "    .dataframe tbody tr th {\n",
              "        vertical-align: top;\n",
              "    }\n",
              "\n",
              "    .dataframe thead th {\n",
              "        text-align: right;\n",
              "    }\n",
              "</style>\n",
              "<table border=\"1\" class=\"dataframe\">\n",
              "  <thead>\n",
              "    <tr style=\"text-align: right;\">\n",
              "      <th></th>\n",
              "      <th>bias_type</th>\n",
              "      <th>stereotype</th>\n",
              "    </tr>\n",
              "  </thead>\n",
              "  <tbody>\n",
              "    <tr>\n",
              "      <th>0</th>\n",
              "      <td>Ethnicity</td>\n",
              "      <td>Many people live in Ethiopia. The people are v...</td>\n",
              "    </tr>\n",
              "    <tr>\n",
              "      <th>1</th>\n",
              "      <td>Ethnicity</td>\n",
              "      <td>My professor is a hispanic man He came here il...</td>\n",
              "    </tr>\n",
              "    <tr>\n",
              "      <th>2</th>\n",
              "      <td>gender</td>\n",
              "      <td>The schoolgirl is walking down the street. She...</td>\n",
              "    </tr>\n",
              "    <tr>\n",
              "      <th>3</th>\n",
              "      <td>Ethnicity</td>\n",
              "      <td>We'll likely fly over Cape Verde on our flight...</td>\n",
              "    </tr>\n",
              "    <tr>\n",
              "      <th>4</th>\n",
              "      <td>Ethnicity</td>\n",
              "      <td>I know many people who are Russian. They love ...</td>\n",
              "    </tr>\n",
              "  </tbody>\n",
              "</table>\n",
              "</div>"
            ],
            "text/plain": [
              "   bias_type                                         stereotype\n",
              "0  Ethnicity  Many people live in Ethiopia. The people are v...\n",
              "1  Ethnicity  My professor is a hispanic man He came here il...\n",
              "2     gender  The schoolgirl is walking down the street. She...\n",
              "3  Ethnicity  We'll likely fly over Cape Verde on our flight...\n",
              "4  Ethnicity  I know many people who are Russian. They love ..."
            ]
          },
          "metadata": {
            "tags": []
          },
          "execution_count": 6
        }
      ]
    },
    {
      "cell_type": "code",
      "metadata": {
        "colab": {
          "base_uri": "https://localhost:8080/"
        },
        "id": "Ax31FZXMBEQM",
        "outputId": "56228512-13d7-4f2c-c7d6-31c45b769768"
      },
      "source": [
        "dataset.bias_type.value_counts()"
      ],
      "execution_count": 8,
      "outputs": [
        {
          "output_type": "execute_result",
          "data": {
            "text/plain": [
              "anti-stereotype    5737\n",
              "Ethnicity          2613\n",
              "profession         1575\n",
              "gender              993\n",
              "religion            262\n",
              "Name: bias_type, dtype: int64"
            ]
          },
          "metadata": {
            "tags": []
          },
          "execution_count": 8
        }
      ]
    },
    {
      "cell_type": "code",
      "metadata": {
        "id": "cQKHQKan8kdM"
      },
      "source": [
        "X = dataset.iloc[:,1].values\n",
        "y = dataset.iloc[:,0].values"
      ],
      "execution_count": 9,
      "outputs": []
    },
    {
      "cell_type": "code",
      "metadata": {
        "id": "F6Bu8UIp77-P"
      },
      "source": [
        "from sklearn.model_selection import train_test_split\n",
        "X_train, X_test, y_train, y_test = train_test_split(X, y, test_size = 0.2, random_state = 1)"
      ],
      "execution_count": 10,
      "outputs": []
    },
    {
      "cell_type": "code",
      "metadata": {
        "colab": {
          "base_uri": "https://localhost:8080/"
        },
        "id": "6EurRSI-77-Q",
        "outputId": "cb27cd5d-940b-4ed7-b772-f9b7370a26af"
      },
      "source": [
        "categories = dataset.bias_type.unique()\n",
        "print(categories)"
      ],
      "execution_count": 11,
      "outputs": [
        {
          "output_type": "stream",
          "text": [
            "['Ethnicity' 'gender' 'profession' 'religion' 'anti-stereotype']\n"
          ],
          "name": "stdout"
        }
      ]
    },
    {
      "cell_type": "code",
      "metadata": {
        "id": "vTIZwox1l9Jg",
        "colab": {
          "base_uri": "https://localhost:8080/",
          "height": 65,
          "referenced_widgets": [
            "fc72b7a6240145818dd5dbf48c1a6384",
            "aeb71031b0184cc09a1fd2aef89f8b38",
            "fb3dbeb82e7546c2af99e827cd61c1b8",
            "08864cb4aea54322982b70c5e6c041b1",
            "cc3952894ee041edb51c7878e4553d34",
            "4a71b1d786594e2680d74de7dc6e6d39",
            "cd0b3446b2fe4907aac45b08dbad4cd4",
            "f540fb212192429898a4af93ec933f73"
          ]
        },
        "outputId": "e87faac1-c427-4b3a-b6ad-ca2e4fee9f9b"
      },
      "source": [
        "model_name = 'distilbert-base-uncased'\n",
        "\n",
        "trans = text.Transformer(model_name = model_name ,maxlen=512, class_names= categories)"
      ],
      "execution_count": 12,
      "outputs": [
        {
          "output_type": "display_data",
          "data": {
            "application/vnd.jupyter.widget-view+json": {
              "model_id": "fc72b7a6240145818dd5dbf48c1a6384",
              "version_minor": 0,
              "version_major": 2
            },
            "text/plain": [
              "HBox(children=(FloatProgress(value=0.0, description='Downloading', max=442.0, style=ProgressStyle(description_…"
            ]
          },
          "metadata": {
            "tags": []
          }
        },
        {
          "output_type": "stream",
          "text": [
            "\n"
          ],
          "name": "stdout"
        }
      ]
    },
    {
      "cell_type": "code",
      "metadata": {
        "colab": {
          "base_uri": "https://localhost:8080/",
          "height": 385,
          "referenced_widgets": [
            "fba02c96947a4a50919a8c0aa4f6a5f5",
            "e6a836eee9c34465a3300328fc586f2e",
            "926279375c914f2597dabfd17e4bcca2",
            "7d16ad1a1c4e4e8bbb8923c99558469d",
            "5a34d18afab1420391418e3a962736ec",
            "5fc7f12d7c784dc4b5c66d9e2db0013c",
            "b97536acc7064a8d9cd889eb797d3043",
            "d53cc50e61d2449abeea56e51eeeea7f",
            "6a828e39370045b5be7c7b6103635c6b",
            "23a643b2c129487a8b06323d0d435549",
            "a6e83c6f15ee41cca313623a6f1310ef",
            "ae6a292ddd484afab8fa862e7eeb29f8",
            "f2e0290725fb4dd4b50af1214d3473bf",
            "188f907da12a467f97a5facf1f75d5ab",
            "0a32ba989ec446afac74545c9b871a88",
            "78fced46923a42ca8bbfe54e4084c822"
          ]
        },
        "id": "IC0at9YYCkTK",
        "outputId": "8bbfd77c-8854-42cf-fce6-eaa5ca6deb7c"
      },
      "source": [
        "train_df = trans.preprocess_train(X_train,y_train)\n",
        "test_df = trans.preprocess_test(X_test,y_test)"
      ],
      "execution_count": 13,
      "outputs": [
        {
          "output_type": "stream",
          "text": [
            "preprocessing train...\n",
            "language: en\n",
            "train sequence lengths:\n",
            "\tmean : 12\n",
            "\t95percentile : 23\n",
            "\t99percentile : 31\n"
          ],
          "name": "stdout"
        },
        {
          "output_type": "stream",
          "text": [
            "/usr/local/lib/python3.7/dist-packages/ktrain/utils.py:589: UserWarning: class_names argument was ignored, as they were extracted from string labels in dataset\n",
            "  if self.get_classes(): warnings.warn('class_names argument was ignored, as they were extracted from string labels in dataset')\n"
          ],
          "name": "stderr"
        },
        {
          "output_type": "display_data",
          "data": {
            "application/vnd.jupyter.widget-view+json": {
              "model_id": "fba02c96947a4a50919a8c0aa4f6a5f5",
              "version_minor": 0,
              "version_major": 2
            },
            "text/plain": [
              "HBox(children=(FloatProgress(value=0.0, description='Downloading', max=231508.0, style=ProgressStyle(descripti…"
            ]
          },
          "metadata": {
            "tags": []
          }
        },
        {
          "output_type": "stream",
          "text": [
            "\n"
          ],
          "name": "stdout"
        },
        {
          "output_type": "display_data",
          "data": {
            "application/vnd.jupyter.widget-view+json": {
              "model_id": "6a828e39370045b5be7c7b6103635c6b",
              "version_minor": 0,
              "version_major": 2
            },
            "text/plain": [
              "HBox(children=(FloatProgress(value=0.0, description='Downloading', max=466062.0, style=ProgressStyle(descripti…"
            ]
          },
          "metadata": {
            "tags": []
          }
        },
        {
          "output_type": "stream",
          "text": [
            "\n"
          ],
          "name": "stdout"
        },
        {
          "output_type": "display_data",
          "data": {
            "text/html": [
              ""
            ],
            "text/plain": [
              "<IPython.core.display.HTML object>"
            ]
          },
          "metadata": {
            "tags": []
          }
        },
        {
          "output_type": "stream",
          "text": [
            "Is Multi-Label? False\n",
            "preprocessing test...\n",
            "language: en\n",
            "test sequence lengths:\n",
            "\tmean : 12\n",
            "\t95percentile : 24\n",
            "\t99percentile : 31\n"
          ],
          "name": "stdout"
        },
        {
          "output_type": "display_data",
          "data": {
            "text/html": [
              ""
            ],
            "text/plain": [
              "<IPython.core.display.HTML object>"
            ]
          },
          "metadata": {
            "tags": []
          }
        }
      ]
    },
    {
      "cell_type": "code",
      "metadata": {
        "id": "dYafLjK8Iu67",
        "colab": {
          "base_uri": "https://localhost:8080/",
          "height": 65,
          "referenced_widgets": [
            "e8e6dbfd16bd48c79962e6648158f114",
            "89d286b9f78f43cf835117ac1942b180",
            "86a42e7e03ff49e8a333ec6f8d26b2ac",
            "c41d754309c348dd861e461812649d20",
            "9cd89b0312904e0f8ccb81f0a86f0cca",
            "f4c00d534e784d3fb0bd9bbc45ebe15d",
            "d1e165c075764df981ca8e201c189400",
            "8a89ca83b72940c58e864e778a9abf15"
          ]
        },
        "outputId": "ec27ed0e-32f5-4e61-c0cf-5bdfe6f0812f"
      },
      "source": [
        "model = trans.get_classifier()"
      ],
      "execution_count": 14,
      "outputs": [
        {
          "output_type": "display_data",
          "data": {
            "application/vnd.jupyter.widget-view+json": {
              "model_id": "e8e6dbfd16bd48c79962e6648158f114",
              "version_minor": 0,
              "version_major": 2
            },
            "text/plain": [
              "HBox(children=(FloatProgress(value=0.0, description='Downloading', max=363423424.0, style=ProgressStyle(descri…"
            ]
          },
          "metadata": {
            "tags": []
          }
        },
        {
          "output_type": "stream",
          "text": [
            "\n"
          ],
          "name": "stdout"
        }
      ]
    },
    {
      "cell_type": "code",
      "metadata": {
        "id": "XnQb6IM4I5Ep"
      },
      "source": [
        "learner = ktrain.get_learner(model,train_data = train_df,val_data= test_df, batch_size= 16)"
      ],
      "execution_count": 15,
      "outputs": []
    },
    {
      "cell_type": "code",
      "metadata": {
        "colab": {
          "base_uri": "https://localhost:8080/"
        },
        "id": "7UcIdoJEUVyj",
        "outputId": "f2874e02-3b88-4eb4-d96d-4c63fdf948ac"
      },
      "source": [
        "learner.fit_onecycle(2e-5,3)"
      ],
      "execution_count": 16,
      "outputs": [
        {
          "output_type": "stream",
          "text": [
            "\n",
            "\n",
            "begin training using onecycle policy with max lr of 2e-05...\n",
            "Epoch 1/3\n",
            "559/559 [==============================] - 963s 2s/step - loss: 1.1200 - accuracy: 0.5199 - val_loss: 0.8193 - val_accuracy: 0.6158\n",
            "Epoch 2/3\n",
            "559/559 [==============================] - 949s 2s/step - loss: 0.7307 - accuracy: 0.6442 - val_loss: 0.6584 - val_accuracy: 0.6910\n",
            "Epoch 3/3\n",
            "559/559 [==============================] - 949s 2s/step - loss: 0.5371 - accuracy: 0.7475 - val_loss: 0.6402 - val_accuracy: 0.7080\n"
          ],
          "name": "stdout"
        },
        {
          "output_type": "execute_result",
          "data": {
            "text/plain": [
              "<tensorflow.python.keras.callbacks.History at 0x7fdbdeafdd10>"
            ]
          },
          "metadata": {
            "tags": []
          },
          "execution_count": 16
        }
      ]
    },
    {
      "cell_type": "code",
      "metadata": {
        "colab": {
          "base_uri": "https://localhost:8080/"
        },
        "id": "0UZQgz-ZWx7i",
        "outputId": "25847e3d-0ee1-4027-ff63-06a3b40bef86"
      },
      "source": [
        "learner.validate(class_names=trans.get_classes())"
      ],
      "execution_count": 17,
      "outputs": [
        {
          "output_type": "stream",
          "text": [
            "                 precision    recall  f1-score   support\n",
            "\n",
            "      Ethnicity       0.79      0.80      0.79       537\n",
            "anti-stereotype       0.74      0.71      0.72      1145\n",
            "         gender       0.47      0.54      0.50       197\n",
            "     profession       0.63      0.65      0.64       302\n",
            "       religion       0.75      0.76      0.76        55\n",
            "\n",
            "       accuracy                           0.71      2236\n",
            "      macro avg       0.68      0.69      0.68      2236\n",
            "   weighted avg       0.71      0.71      0.71      2236\n",
            "\n"
          ],
          "name": "stdout"
        },
        {
          "output_type": "execute_result",
          "data": {
            "text/plain": [
              "array([[428, 108,   0,   1,   0],\n",
              "       [109, 810, 112, 100,  14],\n",
              "       [  0,  75, 106,  16,   0],\n",
              "       [  2,  96,   7, 197,   0],\n",
              "       [  1,  12,   0,   0,  42]])"
            ]
          },
          "metadata": {
            "tags": []
          },
          "execution_count": 17
        }
      ]
    },
    {
      "cell_type": "code",
      "metadata": {
        "id": "NxxmzDbpP1vQ",
        "colab": {
          "base_uri": "https://localhost:8080/"
        },
        "outputId": "d5d5a1dd-0681-442e-f7ff-a05fb80dec2b"
      },
      "source": [
        "learner.view_top_losses(n=5, preproc=trans)"
      ],
      "execution_count": 18,
      "outputs": [
        {
          "output_type": "stream",
          "text": [
            "----------\n",
            "id:1871 | loss:6.9 | true:religion | pred:anti-stereotype)\n",
            "\n",
            "----------\n",
            "id:1273 | loss:6.64 | true:profession | pred:anti-stereotype)\n",
            "\n",
            "----------\n",
            "id:2103 | loss:6.21 | true:religion | pred:anti-stereotype)\n",
            "\n",
            "----------\n",
            "id:443 | loss:5.77 | true:Ethnicity | pred:profession)\n",
            "\n",
            "----------\n",
            "id:1604 | loss:4.96 | true:gender | pred:anti-stereotype)\n",
            "\n"
          ],
          "name": "stdout"
        }
      ]
    },
    {
      "cell_type": "code",
      "metadata": {
        "id": "j5N__rXhVowP"
      },
      "source": [
        "predictor = ktrain.get_predictor(learner.model,preproc=trans)"
      ],
      "execution_count": 29,
      "outputs": []
    },
    {
      "cell_type": "code",
      "metadata": {
        "colab": {
          "base_uri": "https://localhost:8080/"
        },
        "id": "MsgLTtQ877-V",
        "outputId": "f29e7f18-cb98-4500-f809-fbfd0627be28"
      },
      "source": [
        "predictor.get_classes()"
      ],
      "execution_count": 30,
      "outputs": [
        {
          "output_type": "execute_result",
          "data": {
            "text/plain": [
              "['Ethnicity', 'anti-stereotype', 'gender', 'profession', 'religion']"
            ]
          },
          "metadata": {
            "tags": []
          },
          "execution_count": 30
        }
      ]
    },
    {
      "cell_type": "code",
      "metadata": {
        "colab": {
          "base_uri": "https://localhost:8080/"
        },
        "id": "qUOB6alnY0Nf",
        "outputId": "75571a3c-fe1c-463a-9868-7048f220455f"
      },
      "source": [
        "!pip3 install -q git+https://github.com/amaiya/eli5@tfkeras_0_10_1"
      ],
      "execution_count": 21,
      "outputs": [
        {
          "output_type": "stream",
          "text": [
            "  Building wheel for eli5 (setup.py) ... \u001b[?25l\u001b[?25hdone\n"
          ],
          "name": "stdout"
        }
      ]
    },
    {
      "cell_type": "code",
      "metadata": {
        "id": "xhyTCjT4HxS9"
      },
      "source": [
        "def get_probabilit_per_class(text):\n",
        "  probabilit_per_class = dict(zip(predictor.get_classes(),predictor.predict_proba(text)*100))\n",
        "  sort_orders = sorted(probabilit_per_class.items(), key=lambda x: x[1], reverse=True)\n",
        "  return sort_orders"
      ],
      "execution_count": 22,
      "outputs": []
    },
    {
      "cell_type": "code",
      "metadata": {
        "colab": {
          "base_uri": "https://localhost:8080/",
          "height": 166
        },
        "id": "7B8C3SPdY35f",
        "outputId": "d657477d-a326-42f4-97df-a3948abb83f1"
      },
      "source": [
        "predictor.explain(X_test[1871])"
      ],
      "execution_count": 23,
      "outputs": [
        {
          "output_type": "execute_result",
          "data": {
            "text/html": [
              "\n",
              "    <style>\n",
              "    table.eli5-weights tr:hover {\n",
              "        filter: brightness(85%);\n",
              "    }\n",
              "</style>\n",
              "\n",
              "\n",
              "\n",
              "    \n",
              "\n",
              "    \n",
              "\n",
              "    \n",
              "\n",
              "    \n",
              "\n",
              "    \n",
              "\n",
              "    \n",
              "\n",
              "\n",
              "    \n",
              "\n",
              "    \n",
              "\n",
              "    \n",
              "\n",
              "    \n",
              "        \n",
              "\n",
              "    \n",
              "\n",
              "        \n",
              "\n",
              "        \n",
              "    \n",
              "        \n",
              "        \n",
              "    \n",
              "        <p style=\"margin-bottom: 0.5em; margin-top: 0em\">\n",
              "            <b>\n",
              "    \n",
              "        y=anti-stereotype\n",
              "    \n",
              "</b>\n",
              "\n",
              "    \n",
              "    (probability <b>0.972</b>, score <b>2.966</b>)\n",
              "\n",
              "top features\n",
              "        </p>\n",
              "    \n",
              "    <table class=\"eli5-weights\"\n",
              "           style=\"border-collapse: collapse; border: none; margin-top: 0em; table-layout: auto; margin-bottom: 2em;\">\n",
              "        <thead>\n",
              "        <tr style=\"border: none;\">\n",
              "            \n",
              "                <th style=\"padding: 0 1em 0 0.5em; text-align: right; border: none;\" title=\"Feature contribution already accounts for the feature value (for linear models, contribution = weight * feature value), and the sum of feature contributions is equal to the score or, for some classifiers, to the probability. Feature values are shown if &quot;show_feature_values&quot; is True.\">\n",
              "                    Contribution<sup>?</sup>\n",
              "                </th>\n",
              "            \n",
              "            <th style=\"padding: 0 0.5em 0 0.5em; text-align: left; border: none;\">Feature</th>\n",
              "            \n",
              "        </tr>\n",
              "        </thead>\n",
              "        <tbody>\n",
              "        \n",
              "            <tr style=\"background-color: hsl(120, 100.00%, 80.00%); border: none;\">\n",
              "    <td style=\"padding: 0 1em 0 0.5em; text-align: right; border: none;\">\n",
              "        +2.524\n",
              "    </td>\n",
              "    <td style=\"padding: 0 0.5em 0 0.5em; text-align: left; border: none;\">\n",
              "        Highlighted in text (sum)\n",
              "    </td>\n",
              "    \n",
              "</tr>\n",
              "        \n",
              "            <tr style=\"background-color: hsl(120, 100.00%, 94.10%); border: none;\">\n",
              "    <td style=\"padding: 0 1em 0 0.5em; text-align: right; border: none;\">\n",
              "        +0.441\n",
              "    </td>\n",
              "    <td style=\"padding: 0 0.5em 0 0.5em; text-align: left; border: none;\">\n",
              "        &lt;BIAS&gt;\n",
              "    </td>\n",
              "    \n",
              "</tr>\n",
              "        \n",
              "        \n",
              "\n",
              "        \n",
              "        \n",
              "\n",
              "        </tbody>\n",
              "    </table>\n",
              "\n",
              "    \n",
              "\n",
              "\n",
              "\n",
              "    <p style=\"margin-bottom: 2.5em; margin-top:-0.5em;\">\n",
              "        <span style=\"background-color: hsl(0, 100.00%, 96.78%); opacity: 0.81\" title=\"-0.059\">the</span><span style=\"opacity: 0.80\"> </span><span style=\"background-color: hsl(0, 100.00%, 94.68%); opacity: 0.81\" title=\"-0.120\">doctor</span><span style=\"opacity: 0.80\"> </span><span style=\"background-color: hsl(120, 100.00%, 81.14%); opacity: 0.87\" title=\"0.733\">told</span><span style=\"opacity: 0.80\"> </span><span style=\"background-color: hsl(0, 100.00%, 94.52%); opacity: 0.81\" title=\"-0.125\">me</span><span style=\"opacity: 0.80\"> </span><span style=\"background-color: hsl(120, 100.00%, 95.23%); opacity: 0.81\" title=\"0.103\">that</span><span style=\"opacity: 0.80\"> </span><span style=\"background-color: hsl(0, 100.00%, 90.29%); opacity: 0.83\" title=\"-0.284\">he</span><span style=\"opacity: 0.80\"> </span><span style=\"background-color: hsl(0, 100.00%, 86.58%); opacity: 0.84\" title=\"-0.451\">only</span><span style=\"opacity: 0.80\"> </span><span style=\"background-color: hsl(0, 100.00%, 95.39%); opacity: 0.81\" title=\"-0.098\">sees</span><span style=\"opacity: 0.80\"> </span><span style=\"background-color: hsl(120, 100.00%, 60.00%); opacity: 1.00\" title=\"2.146\">white</span><span style=\"opacity: 0.80\"> </span><span style=\"background-color: hsl(0, 100.00%, 94.31%); opacity: 0.81\" title=\"-0.132\">patients</span><span style=\"opacity: 0.80\">.</span>\n",
              "    </p>\n",
              "\n",
              "\n",
              "    \n",
              "\n",
              "    \n",
              "\n",
              "    \n",
              "\n",
              "    \n",
              "\n",
              "\n",
              "    \n",
              "\n",
              "    \n",
              "\n",
              "    \n",
              "\n",
              "    \n",
              "\n",
              "    \n",
              "\n",
              "    \n",
              "\n",
              "\n",
              "    \n",
              "\n",
              "    \n",
              "\n",
              "    \n",
              "\n",
              "    \n",
              "\n",
              "    \n",
              "\n",
              "    \n",
              "\n",
              "\n",
              "\n"
            ],
            "text/plain": [
              "<IPython.core.display.HTML object>"
            ]
          },
          "metadata": {
            "tags": []
          },
          "execution_count": 23
        }
      ]
    },
    {
      "cell_type": "code",
      "metadata": {
        "colab": {
          "base_uri": "https://localhost:8080/"
        },
        "id": "EuNWebB6H7lD",
        "outputId": "339e1bec-c830-4830-994f-a8b3a393698d"
      },
      "source": [
        "get_probabilit_per_class(X_test[1871])"
      ],
      "execution_count": 24,
      "outputs": [
        {
          "output_type": "execute_result",
          "data": {
            "text/plain": [
              "[('anti-stereotype', 97.33671),\n",
              " ('profession', 1.1526425),\n",
              " ('Ethnicity', 1.1266156),\n",
              " ('gender', 0.28321344),\n",
              " ('religion', 0.10082788)]"
            ]
          },
          "metadata": {
            "tags": []
          },
          "execution_count": 24
        }
      ]
    },
    {
      "cell_type": "code",
      "metadata": {
        "colab": {
          "base_uri": "https://localhost:8080/",
          "height": 166
        },
        "id": "-ESl12kfIlZ4",
        "outputId": "e0d6d96d-712e-4263-b11a-88d6358117be"
      },
      "source": [
        "predictor.explain(\"The chess player was stupid\")"
      ],
      "execution_count": 31,
      "outputs": [
        {
          "output_type": "execute_result",
          "data": {
            "text/html": [
              "\n",
              "    <style>\n",
              "    table.eli5-weights tr:hover {\n",
              "        filter: brightness(85%);\n",
              "    }\n",
              "</style>\n",
              "\n",
              "\n",
              "\n",
              "    \n",
              "\n",
              "    \n",
              "\n",
              "    \n",
              "\n",
              "    \n",
              "\n",
              "    \n",
              "\n",
              "    \n",
              "\n",
              "\n",
              "    \n",
              "\n",
              "    \n",
              "\n",
              "    \n",
              "\n",
              "    \n",
              "        \n",
              "\n",
              "    \n",
              "\n",
              "        \n",
              "\n",
              "        \n",
              "    \n",
              "        \n",
              "        \n",
              "    \n",
              "        <p style=\"margin-bottom: 0.5em; margin-top: 0em\">\n",
              "            <b>\n",
              "    \n",
              "        y=anti-stereotype\n",
              "    \n",
              "</b>\n",
              "\n",
              "    \n",
              "    (probability <b>0.525</b>, score <b>0.190</b>)\n",
              "\n",
              "top features\n",
              "        </p>\n",
              "    \n",
              "    <table class=\"eli5-weights\"\n",
              "           style=\"border-collapse: collapse; border: none; margin-top: 0em; table-layout: auto; margin-bottom: 2em;\">\n",
              "        <thead>\n",
              "        <tr style=\"border: none;\">\n",
              "            \n",
              "                <th style=\"padding: 0 1em 0 0.5em; text-align: right; border: none;\" title=\"Feature contribution already accounts for the feature value (for linear models, contribution = weight * feature value), and the sum of feature contributions is equal to the score or, for some classifiers, to the probability. Feature values are shown if &quot;show_feature_values&quot; is True.\">\n",
              "                    Contribution<sup>?</sup>\n",
              "                </th>\n",
              "            \n",
              "            <th style=\"padding: 0 0.5em 0 0.5em; text-align: left; border: none;\">Feature</th>\n",
              "            \n",
              "        </tr>\n",
              "        </thead>\n",
              "        <tbody>\n",
              "        \n",
              "            <tr style=\"background-color: hsl(120, 100.00%, 80.00%); border: none;\">\n",
              "    <td style=\"padding: 0 1em 0 0.5em; text-align: right; border: none;\">\n",
              "        +0.159\n",
              "    </td>\n",
              "    <td style=\"padding: 0 0.5em 0 0.5em; text-align: left; border: none;\">\n",
              "        &lt;BIAS&gt;\n",
              "    </td>\n",
              "    \n",
              "</tr>\n",
              "        \n",
              "            <tr style=\"background-color: hsl(120, 100.00%, 93.51%); border: none;\">\n",
              "    <td style=\"padding: 0 1em 0 0.5em; text-align: right; border: none;\">\n",
              "        +0.032\n",
              "    </td>\n",
              "    <td style=\"padding: 0 0.5em 0 0.5em; text-align: left; border: none;\">\n",
              "        Highlighted in text (sum)\n",
              "    </td>\n",
              "    \n",
              "</tr>\n",
              "        \n",
              "        \n",
              "\n",
              "        \n",
              "        \n",
              "\n",
              "        </tbody>\n",
              "    </table>\n",
              "\n",
              "    \n",
              "\n",
              "\n",
              "\n",
              "    <p style=\"margin-bottom: 2.5em; margin-top:-0.5em;\">\n",
              "        <span style=\"background-color: hsl(0, 100.00%, 88.30%); opacity: 0.83\" title=\"-0.164\">the</span><span style=\"opacity: 0.80\"> </span><span style=\"background-color: hsl(0, 100.00%, 62.90%); opacity: 0.98\" title=\"-0.853\">chess</span><span style=\"opacity: 0.80\"> </span><span style=\"background-color: hsl(0, 100.00%, 66.84%); opacity: 0.95\" title=\"-0.726\">player</span><span style=\"opacity: 0.80\"> </span><span style=\"background-color: hsl(120, 100.00%, 79.17%); opacity: 0.88\" title=\"0.374\">was</span><span style=\"opacity: 0.80\"> </span><span style=\"background-color: hsl(120, 100.00%, 60.00%); opacity: 1.00\" title=\"0.950\">stupid</span>\n",
              "    </p>\n",
              "\n",
              "\n",
              "    \n",
              "\n",
              "    \n",
              "\n",
              "    \n",
              "\n",
              "    \n",
              "\n",
              "\n",
              "    \n",
              "\n",
              "    \n",
              "\n",
              "    \n",
              "\n",
              "    \n",
              "\n",
              "    \n",
              "\n",
              "    \n",
              "\n",
              "\n",
              "    \n",
              "\n",
              "    \n",
              "\n",
              "    \n",
              "\n",
              "    \n",
              "\n",
              "    \n",
              "\n",
              "    \n",
              "\n",
              "\n",
              "\n"
            ],
            "text/plain": [
              "<IPython.core.display.HTML object>"
            ]
          },
          "metadata": {
            "tags": []
          },
          "execution_count": 31
        }
      ]
    },
    {
      "cell_type": "code",
      "metadata": {
        "colab": {
          "base_uri": "https://localhost:8080/",
          "height": 166
        },
        "id": "A4JCU5SRJsxh",
        "outputId": "8ae07b8b-192c-4fc7-8f4b-7e1cc4e28cca"
      },
      "source": [
        "predictor.explain(\"Americans are good at driving\")"
      ],
      "execution_count": 43,
      "outputs": [
        {
          "output_type": "execute_result",
          "data": {
            "text/html": [
              "\n",
              "    <style>\n",
              "    table.eli5-weights tr:hover {\n",
              "        filter: brightness(85%);\n",
              "    }\n",
              "</style>\n",
              "\n",
              "\n",
              "\n",
              "    \n",
              "\n",
              "    \n",
              "\n",
              "    \n",
              "\n",
              "    \n",
              "\n",
              "    \n",
              "\n",
              "    \n",
              "\n",
              "\n",
              "    \n",
              "\n",
              "    \n",
              "\n",
              "    \n",
              "\n",
              "    \n",
              "        \n",
              "\n",
              "    \n",
              "\n",
              "        \n",
              "\n",
              "        \n",
              "    \n",
              "        \n",
              "        \n",
              "    \n",
              "        <p style=\"margin-bottom: 0.5em; margin-top: 0em\">\n",
              "            <b>\n",
              "    \n",
              "        y=anti-stereotype\n",
              "    \n",
              "</b>\n",
              "\n",
              "    \n",
              "    (probability <b>0.968</b>, score <b>2.901</b>)\n",
              "\n",
              "top features\n",
              "        </p>\n",
              "    \n",
              "    <table class=\"eli5-weights\"\n",
              "           style=\"border-collapse: collapse; border: none; margin-top: 0em; table-layout: auto; margin-bottom: 2em;\">\n",
              "        <thead>\n",
              "        <tr style=\"border: none;\">\n",
              "            \n",
              "                <th style=\"padding: 0 1em 0 0.5em; text-align: right; border: none;\" title=\"Feature contribution already accounts for the feature value (for linear models, contribution = weight * feature value), and the sum of feature contributions is equal to the score or, for some classifiers, to the probability. Feature values are shown if &quot;show_feature_values&quot; is True.\">\n",
              "                    Contribution<sup>?</sup>\n",
              "                </th>\n",
              "            \n",
              "            <th style=\"padding: 0 0.5em 0 0.5em; text-align: left; border: none;\">Feature</th>\n",
              "            \n",
              "        </tr>\n",
              "        </thead>\n",
              "        <tbody>\n",
              "        \n",
              "            <tr style=\"background-color: hsl(120, 100.00%, 80.00%); border: none;\">\n",
              "    <td style=\"padding: 0 1em 0 0.5em; text-align: right; border: none;\">\n",
              "        +2.212\n",
              "    </td>\n",
              "    <td style=\"padding: 0 0.5em 0 0.5em; text-align: left; border: none;\">\n",
              "        Highlighted in text (sum)\n",
              "    </td>\n",
              "    \n",
              "</tr>\n",
              "        \n",
              "            <tr style=\"background-color: hsl(120, 100.00%, 91.16%); border: none;\">\n",
              "    <td style=\"padding: 0 1em 0 0.5em; text-align: right; border: none;\">\n",
              "        +0.689\n",
              "    </td>\n",
              "    <td style=\"padding: 0 0.5em 0 0.5em; text-align: left; border: none;\">\n",
              "        &lt;BIAS&gt;\n",
              "    </td>\n",
              "    \n",
              "</tr>\n",
              "        \n",
              "        \n",
              "\n",
              "        \n",
              "        \n",
              "\n",
              "        </tbody>\n",
              "    </table>\n",
              "\n",
              "    \n",
              "\n",
              "\n",
              "\n",
              "    <p style=\"margin-bottom: 2.5em; margin-top:-0.5em;\">\n",
              "        <span style=\"background-color: hsl(120, 100.00%, 60.00%); opacity: 1.00\" title=\"0.525\">americans</span><span style=\"opacity: 0.80\"> </span><span style=\"background-color: hsl(120, 100.00%, 95.56%); opacity: 0.81\" title=\"0.023\">are</span><span style=\"opacity: 0.80\"> </span><span style=\"background-color: hsl(120, 100.00%, 84.31%); opacity: 0.85\" title=\"0.138\">good</span><span style=\"opacity: 0.80\"> </span><span style=\"background-color: hsl(0, 100.00%, 72.14%); opacity: 0.92\" title=\"-0.313\">at</span><span style=\"opacity: 0.80\"> </span><span style=\"background-color: hsl(120, 100.00%, 89.69%); opacity: 0.83\" title=\"0.076\">driving</span>\n",
              "    </p>\n",
              "\n",
              "\n",
              "    \n",
              "\n",
              "    \n",
              "\n",
              "    \n",
              "\n",
              "    \n",
              "\n",
              "\n",
              "    \n",
              "\n",
              "    \n",
              "\n",
              "    \n",
              "\n",
              "    \n",
              "\n",
              "    \n",
              "\n",
              "    \n",
              "\n",
              "\n",
              "    \n",
              "\n",
              "    \n",
              "\n",
              "    \n",
              "\n",
              "    \n",
              "\n",
              "    \n",
              "\n",
              "    \n",
              "\n",
              "\n",
              "\n"
            ],
            "text/plain": [
              "<IPython.core.display.HTML object>"
            ]
          },
          "metadata": {
            "tags": []
          },
          "execution_count": 43
        }
      ]
    },
    {
      "cell_type": "code",
      "metadata": {
        "colab": {
          "base_uri": "https://localhost:8080/"
        },
        "id": "RIXv-QuCKS1h",
        "outputId": "0aa75b8e-64b4-4bc3-ed27-b1a5ad8c13e2"
      },
      "source": [
        "get_probabilit_per_class(\"Russians are good at driving\")"
      ],
      "execution_count": 55,
      "outputs": [
        {
          "output_type": "execute_result",
          "data": {
            "text/plain": [
              "[('Ethnicity', 50.30175),\n",
              " ('anti-stereotype', 49.22486),\n",
              " ('religion', 0.17692213),\n",
              " ('profession', 0.16144355),\n",
              " ('gender', 0.13502607)]"
            ]
          },
          "metadata": {
            "tags": []
          },
          "execution_count": 55
        }
      ]
    },
    {
      "cell_type": "code",
      "metadata": {
        "colab": {
          "base_uri": "https://localhost:8080/",
          "height": 166
        },
        "id": "rzG168KNKd2X",
        "outputId": "4b761550-ecac-4e43-8ee6-6eb0c3afed75"
      },
      "source": [
        "predictor.explain(\"Meher is good at driving\")"
      ],
      "execution_count": 61,
      "outputs": [
        {
          "output_type": "execute_result",
          "data": {
            "text/html": [
              "\n",
              "    <style>\n",
              "    table.eli5-weights tr:hover {\n",
              "        filter: brightness(85%);\n",
              "    }\n",
              "</style>\n",
              "\n",
              "\n",
              "\n",
              "    \n",
              "\n",
              "    \n",
              "\n",
              "    \n",
              "\n",
              "    \n",
              "\n",
              "    \n",
              "\n",
              "    \n",
              "\n",
              "\n",
              "    \n",
              "\n",
              "    \n",
              "\n",
              "    \n",
              "\n",
              "    \n",
              "        \n",
              "\n",
              "    \n",
              "\n",
              "        \n",
              "\n",
              "        \n",
              "    \n",
              "        \n",
              "        \n",
              "    \n",
              "        <p style=\"margin-bottom: 0.5em; margin-top: 0em\">\n",
              "            <b>\n",
              "    \n",
              "        y=anti-stereotype\n",
              "    \n",
              "</b>\n",
              "\n",
              "    \n",
              "    (probability <b>0.846</b>, score <b>0.970</b>)\n",
              "\n",
              "top features\n",
              "        </p>\n",
              "    \n",
              "    <table class=\"eli5-weights\"\n",
              "           style=\"border-collapse: collapse; border: none; margin-top: 0em; table-layout: auto; margin-bottom: 2em;\">\n",
              "        <thead>\n",
              "        <tr style=\"border: none;\">\n",
              "            \n",
              "                <th style=\"padding: 0 1em 0 0.5em; text-align: right; border: none;\" title=\"Feature contribution already accounts for the feature value (for linear models, contribution = weight * feature value), and the sum of feature contributions is equal to the score or, for some classifiers, to the probability. Feature values are shown if &quot;show_feature_values&quot; is True.\">\n",
              "                    Contribution<sup>?</sup>\n",
              "                </th>\n",
              "            \n",
              "            <th style=\"padding: 0 0.5em 0 0.5em; text-align: left; border: none;\">Feature</th>\n",
              "            \n",
              "        </tr>\n",
              "        </thead>\n",
              "        <tbody>\n",
              "        \n",
              "            <tr style=\"background-color: hsl(120, 100.00%, 80.00%); border: none;\">\n",
              "    <td style=\"padding: 0 1em 0 0.5em; text-align: right; border: none;\">\n",
              "        +0.793\n",
              "    </td>\n",
              "    <td style=\"padding: 0 0.5em 0 0.5em; text-align: left; border: none;\">\n",
              "        &lt;BIAS&gt;\n",
              "    </td>\n",
              "    \n",
              "</tr>\n",
              "        \n",
              "            <tr style=\"background-color: hsl(120, 100.00%, 93.01%); border: none;\">\n",
              "    <td style=\"padding: 0 1em 0 0.5em; text-align: right; border: none;\">\n",
              "        +0.177\n",
              "    </td>\n",
              "    <td style=\"padding: 0 0.5em 0 0.5em; text-align: left; border: none;\">\n",
              "        Highlighted in text (sum)\n",
              "    </td>\n",
              "    \n",
              "</tr>\n",
              "        \n",
              "        \n",
              "\n",
              "        \n",
              "        \n",
              "\n",
              "        </tbody>\n",
              "    </table>\n",
              "\n",
              "    \n",
              "\n",
              "\n",
              "\n",
              "    <p style=\"margin-bottom: 2.5em; margin-top:-0.5em;\">\n",
              "        <span style=\"background-color: hsl(0, 100.00%, 60.00%); opacity: 1.00\" title=\"-0.974\">meher</span><span style=\"opacity: 0.80\"> </span><span style=\"background-color: hsl(0, 100.00%, 72.33%); opacity: 0.92\" title=\"-0.575\">is</span><span style=\"opacity: 0.80\"> </span><span style=\"background-color: hsl(120, 100.00%, 98.47%); opacity: 0.80\" title=\"0.009\">good</span><span style=\"opacity: 0.80\"> </span><span style=\"background-color: hsl(0, 100.00%, 74.08%); opacity: 0.91\" title=\"-0.524\">at</span><span style=\"opacity: 0.80\"> </span><span style=\"background-color: hsl(0, 100.00%, 92.76%); opacity: 0.82\" title=\"-0.085\">driving</span>\n",
              "    </p>\n",
              "\n",
              "\n",
              "    \n",
              "\n",
              "    \n",
              "\n",
              "    \n",
              "\n",
              "    \n",
              "\n",
              "\n",
              "    \n",
              "\n",
              "    \n",
              "\n",
              "    \n",
              "\n",
              "    \n",
              "\n",
              "    \n",
              "\n",
              "    \n",
              "\n",
              "\n",
              "    \n",
              "\n",
              "    \n",
              "\n",
              "    \n",
              "\n",
              "    \n",
              "\n",
              "    \n",
              "\n",
              "    \n",
              "\n",
              "\n",
              "\n"
            ],
            "text/plain": [
              "<IPython.core.display.HTML object>"
            ]
          },
          "metadata": {
            "tags": []
          },
          "execution_count": 61
        }
      ]
    },
    {
      "cell_type": "code",
      "metadata": {
        "colab": {
          "base_uri": "https://localhost:8080/",
          "height": 166
        },
        "id": "_1-QauR4L857",
        "outputId": "e787c359-f85b-44a2-ab49-a62a5b7c5b1c"
      },
      "source": [
        "predictor.explain(\"Max is good at driving\")"
      ],
      "execution_count": 64,
      "outputs": [
        {
          "output_type": "execute_result",
          "data": {
            "text/html": [
              "\n",
              "    <style>\n",
              "    table.eli5-weights tr:hover {\n",
              "        filter: brightness(85%);\n",
              "    }\n",
              "</style>\n",
              "\n",
              "\n",
              "\n",
              "    \n",
              "\n",
              "    \n",
              "\n",
              "    \n",
              "\n",
              "    \n",
              "\n",
              "    \n",
              "\n",
              "    \n",
              "\n",
              "\n",
              "    \n",
              "\n",
              "    \n",
              "\n",
              "    \n",
              "\n",
              "    \n",
              "        \n",
              "\n",
              "    \n",
              "\n",
              "        \n",
              "\n",
              "        \n",
              "    \n",
              "        \n",
              "        \n",
              "    \n",
              "        <p style=\"margin-bottom: 0.5em; margin-top: 0em\">\n",
              "            <b>\n",
              "    \n",
              "        y=anti-stereotype\n",
              "    \n",
              "</b>\n",
              "\n",
              "    \n",
              "    (probability <b>0.573</b>, score <b>0.061</b>)\n",
              "\n",
              "top features\n",
              "        </p>\n",
              "    \n",
              "    <table class=\"eli5-weights\"\n",
              "           style=\"border-collapse: collapse; border: none; margin-top: 0em; table-layout: auto; margin-bottom: 2em;\">\n",
              "        <thead>\n",
              "        <tr style=\"border: none;\">\n",
              "            \n",
              "                <th style=\"padding: 0 1em 0 0.5em; text-align: right; border: none;\" title=\"Feature contribution already accounts for the feature value (for linear models, contribution = weight * feature value), and the sum of feature contributions is equal to the score or, for some classifiers, to the probability. Feature values are shown if &quot;show_feature_values&quot; is True.\">\n",
              "                    Contribution<sup>?</sup>\n",
              "                </th>\n",
              "            \n",
              "            <th style=\"padding: 0 0.5em 0 0.5em; text-align: left; border: none;\">Feature</th>\n",
              "            \n",
              "        </tr>\n",
              "        </thead>\n",
              "        <tbody>\n",
              "        \n",
              "            <tr style=\"background-color: hsl(120, 100.00%, 80.00%); border: none;\">\n",
              "    <td style=\"padding: 0 1em 0 0.5em; text-align: right; border: none;\">\n",
              "        +0.798\n",
              "    </td>\n",
              "    <td style=\"padding: 0 0.5em 0 0.5em; text-align: left; border: none;\">\n",
              "        &lt;BIAS&gt;\n",
              "    </td>\n",
              "    \n",
              "</tr>\n",
              "        \n",
              "        \n",
              "\n",
              "        \n",
              "        \n",
              "            <tr style=\"background-color: hsl(0, 100.00%, 81.09%); border: none;\">\n",
              "    <td style=\"padding: 0 1em 0 0.5em; text-align: right; border: none;\">\n",
              "        -0.737\n",
              "    </td>\n",
              "    <td style=\"padding: 0 0.5em 0 0.5em; text-align: left; border: none;\">\n",
              "        Highlighted in text (sum)\n",
              "    </td>\n",
              "    \n",
              "</tr>\n",
              "        \n",
              "\n",
              "        </tbody>\n",
              "    </table>\n",
              "\n",
              "    \n",
              "\n",
              "\n",
              "\n",
              "    <p style=\"margin-bottom: 2.5em; margin-top:-0.5em;\">\n",
              "        <span style=\"background-color: hsl(0, 100.00%, 60.00%); opacity: 1.00\" title=\"-1.714\">max</span><span style=\"opacity: 0.80\"> </span><span style=\"background-color: hsl(0, 100.00%, 83.43%); opacity: 0.86\" title=\"-0.487\">is</span><span style=\"opacity: 0.80\"> </span><span style=\"background-color: hsl(0, 100.00%, 83.30%); opacity: 0.86\" title=\"-0.492\">good</span><span style=\"opacity: 0.80\"> </span><span style=\"background-color: hsl(0, 100.00%, 85.88%); opacity: 0.85\" title=\"-0.387\">at</span><span style=\"opacity: 0.80\"> </span><span style=\"background-color: hsl(0, 100.00%, 98.23%); opacity: 0.80\" title=\"-0.020\">driving</span>\n",
              "    </p>\n",
              "\n",
              "\n",
              "    \n",
              "\n",
              "    \n",
              "\n",
              "    \n",
              "\n",
              "    \n",
              "\n",
              "\n",
              "    \n",
              "\n",
              "    \n",
              "\n",
              "    \n",
              "\n",
              "    \n",
              "\n",
              "    \n",
              "\n",
              "    \n",
              "\n",
              "\n",
              "    \n",
              "\n",
              "    \n",
              "\n",
              "    \n",
              "\n",
              "    \n",
              "\n",
              "    \n",
              "\n",
              "    \n",
              "\n",
              "\n",
              "\n"
            ],
            "text/plain": [
              "<IPython.core.display.HTML object>"
            ]
          },
          "metadata": {
            "tags": []
          },
          "execution_count": 64
        }
      ]
    },
    {
      "cell_type": "code",
      "metadata": {
        "colab": {
          "base_uri": "https://localhost:8080/"
        },
        "id": "lGDNZCqELyfs",
        "outputId": "25d869cb-bf28-45e2-a886-54e48199b018"
      },
      "source": [
        "get_probabilit_per_class(\"Girls are not good at driving\")"
      ],
      "execution_count": 66,
      "outputs": [
        {
          "output_type": "execute_result",
          "data": {
            "text/plain": [
              "[('gender', 61.11982),\n",
              " ('anti-stereotype', 36.505062),\n",
              " ('profession', 1.1484637),\n",
              " ('Ethnicity', 0.7400592),\n",
              " ('religion', 0.48659906)]"
            ]
          },
          "metadata": {
            "tags": []
          },
          "execution_count": 66
        }
      ]
    },
    {
      "cell_type": "code",
      "metadata": {
        "colab": {
          "base_uri": "https://localhost:8080/"
        },
        "id": "5BRWAUWNJ1eo",
        "outputId": "d9845d3a-3140-47df-e67e-522087db941f"
      },
      "source": [
        "get_probabilit_per_class(\"Indians are good at driving\")"
      ],
      "execution_count": 44,
      "outputs": [
        {
          "output_type": "execute_result",
          "data": {
            "text/plain": [
              "[('Ethnicity', 72.40598),\n",
              " ('anti-stereotype', 27.092886),\n",
              " ('religion', 0.22332771),\n",
              " ('profession', 0.15867457),\n",
              " ('gender', 0.11912973)]"
            ]
          },
          "metadata": {
            "tags": []
          },
          "execution_count": 44
        }
      ]
    },
    {
      "cell_type": "code",
      "metadata": {
        "colab": {
          "base_uri": "https://localhost:8080/",
          "height": 166
        },
        "id": "IdE8PX-CKFRU",
        "outputId": "c1ad5916-230f-43b9-8efd-50937a09d52d"
      },
      "source": [
        "predictor.explain(\"Indians are good at driving\")"
      ],
      "execution_count": 45,
      "outputs": [
        {
          "output_type": "execute_result",
          "data": {
            "text/html": [
              "\n",
              "    <style>\n",
              "    table.eli5-weights tr:hover {\n",
              "        filter: brightness(85%);\n",
              "    }\n",
              "</style>\n",
              "\n",
              "\n",
              "\n",
              "    \n",
              "\n",
              "    \n",
              "\n",
              "    \n",
              "\n",
              "    \n",
              "\n",
              "    \n",
              "\n",
              "    \n",
              "\n",
              "\n",
              "    \n",
              "\n",
              "    \n",
              "\n",
              "    \n",
              "\n",
              "    \n",
              "        \n",
              "\n",
              "    \n",
              "\n",
              "        \n",
              "\n",
              "        \n",
              "    \n",
              "        \n",
              "        \n",
              "    \n",
              "        <p style=\"margin-bottom: 0.5em; margin-top: 0em\">\n",
              "            <b>\n",
              "    \n",
              "        y=Ethnicity\n",
              "    \n",
              "</b>\n",
              "\n",
              "    \n",
              "    (probability <b>0.719</b>, score <b>0.739</b>)\n",
              "\n",
              "top features\n",
              "        </p>\n",
              "    \n",
              "    <table class=\"eli5-weights\"\n",
              "           style=\"border-collapse: collapse; border: none; margin-top: 0em; table-layout: auto; margin-bottom: 2em;\">\n",
              "        <thead>\n",
              "        <tr style=\"border: none;\">\n",
              "            \n",
              "                <th style=\"padding: 0 1em 0 0.5em; text-align: right; border: none;\" title=\"Feature contribution already accounts for the feature value (for linear models, contribution = weight * feature value), and the sum of feature contributions is equal to the score or, for some classifiers, to the probability. Feature values are shown if &quot;show_feature_values&quot; is True.\">\n",
              "                    Contribution<sup>?</sup>\n",
              "                </th>\n",
              "            \n",
              "            <th style=\"padding: 0 0.5em 0 0.5em; text-align: left; border: none;\">Feature</th>\n",
              "            \n",
              "        </tr>\n",
              "        </thead>\n",
              "        <tbody>\n",
              "        \n",
              "            <tr style=\"background-color: hsl(120, 100.00%, 80.00%); border: none;\">\n",
              "    <td style=\"padding: 0 1em 0 0.5em; text-align: right; border: none;\">\n",
              "        +1.680\n",
              "    </td>\n",
              "    <td style=\"padding: 0 0.5em 0 0.5em; text-align: left; border: none;\">\n",
              "        Highlighted in text (sum)\n",
              "    </td>\n",
              "    \n",
              "</tr>\n",
              "        \n",
              "        \n",
              "\n",
              "        \n",
              "        \n",
              "            <tr style=\"background-color: hsl(0, 100.00%, 86.67%); border: none;\">\n",
              "    <td style=\"padding: 0 1em 0 0.5em; text-align: right; border: none;\">\n",
              "        -0.941\n",
              "    </td>\n",
              "    <td style=\"padding: 0 0.5em 0 0.5em; text-align: left; border: none;\">\n",
              "        &lt;BIAS&gt;\n",
              "    </td>\n",
              "    \n",
              "</tr>\n",
              "        \n",
              "\n",
              "        </tbody>\n",
              "    </table>\n",
              "\n",
              "    \n",
              "\n",
              "\n",
              "\n",
              "    <p style=\"margin-bottom: 2.5em; margin-top:-0.5em;\">\n",
              "        <span style=\"background-color: hsl(120, 100.00%, 60.00%); opacity: 1.00\" title=\"5.185\">indians</span><span style=\"opacity: 0.80\"> </span><span style=\"background-color: hsl(0, 100.00%, 98.19%); opacity: 0.80\" title=\"-0.062\">are</span><span style=\"opacity: 0.80\"> </span><span style=\"background-color: hsl(0, 100.00%, 89.80%); opacity: 0.83\" title=\"-0.736\">good</span><span style=\"opacity: 0.80\"> </span><span style=\"background-color: hsl(120, 100.00%, 90.35%); opacity: 0.83\" title=\"0.680\">at</span><span style=\"opacity: 0.80\"> </span><span style=\"background-color: hsl(0, 100.00%, 96.43%); opacity: 0.81\" title=\"-0.164\">driving</span>\n",
              "    </p>\n",
              "\n",
              "\n",
              "    \n",
              "\n",
              "    \n",
              "\n",
              "    \n",
              "\n",
              "    \n",
              "\n",
              "\n",
              "    \n",
              "\n",
              "    \n",
              "\n",
              "    \n",
              "\n",
              "    \n",
              "\n",
              "    \n",
              "\n",
              "    \n",
              "\n",
              "\n",
              "    \n",
              "\n",
              "    \n",
              "\n",
              "    \n",
              "\n",
              "    \n",
              "\n",
              "    \n",
              "\n",
              "    \n",
              "\n",
              "\n",
              "\n"
            ],
            "text/plain": [
              "<IPython.core.display.HTML object>"
            ]
          },
          "metadata": {
            "tags": []
          },
          "execution_count": 45
        }
      ]
    },
    {
      "cell_type": "code",
      "metadata": {
        "colab": {
          "base_uri": "https://localhost:8080/"
        },
        "id": "xM0qTQd3IlZ6",
        "outputId": "18791f51-ead0-46ad-98d8-da8f5ae92a4c"
      },
      "source": [
        "get_probabilit_per_class(\"The chess player was stupid\")"
      ],
      "execution_count": 32,
      "outputs": [
        {
          "output_type": "execute_result",
          "data": {
            "text/plain": [
              "[('anti-stereotype', 59.650517),\n",
              " ('profession', 38.630558),\n",
              " ('gender', 0.94842017),\n",
              " ('Ethnicity', 0.50890505),\n",
              " ('religion', 0.26160425)]"
            ]
          },
          "metadata": {
            "tags": []
          },
          "execution_count": 32
        }
      ]
    },
    {
      "cell_type": "code",
      "metadata": {
        "colab": {
          "base_uri": "https://localhost:8080/",
          "height": 166
        },
        "id": "Unx8VCPBJTLp",
        "outputId": "112e7cbf-8121-4eff-91d9-ec28f6086ef4"
      },
      "source": [
        "predictor.explain(\"I'm probably such a racist, but a black man dressed as Santa is just wrong.\")"
      ],
      "execution_count": 34,
      "outputs": [
        {
          "output_type": "execute_result",
          "data": {
            "text/html": [
              "\n",
              "    <style>\n",
              "    table.eli5-weights tr:hover {\n",
              "        filter: brightness(85%);\n",
              "    }\n",
              "</style>\n",
              "\n",
              "\n",
              "\n",
              "    \n",
              "\n",
              "    \n",
              "\n",
              "    \n",
              "\n",
              "    \n",
              "\n",
              "    \n",
              "\n",
              "    \n",
              "\n",
              "\n",
              "    \n",
              "\n",
              "    \n",
              "\n",
              "    \n",
              "\n",
              "    \n",
              "        \n",
              "\n",
              "    \n",
              "\n",
              "        \n",
              "\n",
              "        \n",
              "    \n",
              "        \n",
              "        \n",
              "    \n",
              "        <p style=\"margin-bottom: 0.5em; margin-top: 0em\">\n",
              "            <b>\n",
              "    \n",
              "        y=Ethnicity\n",
              "    \n",
              "</b>\n",
              "\n",
              "    \n",
              "    (probability <b>0.955</b>, score <b>3.883</b>)\n",
              "\n",
              "top features\n",
              "        </p>\n",
              "    \n",
              "    <table class=\"eli5-weights\"\n",
              "           style=\"border-collapse: collapse; border: none; margin-top: 0em; table-layout: auto; margin-bottom: 2em;\">\n",
              "        <thead>\n",
              "        <tr style=\"border: none;\">\n",
              "            \n",
              "                <th style=\"padding: 0 1em 0 0.5em; text-align: right; border: none;\" title=\"Feature contribution already accounts for the feature value (for linear models, contribution = weight * feature value), and the sum of feature contributions is equal to the score or, for some classifiers, to the probability. Feature values are shown if &quot;show_feature_values&quot; is True.\">\n",
              "                    Contribution<sup>?</sup>\n",
              "                </th>\n",
              "            \n",
              "            <th style=\"padding: 0 0.5em 0 0.5em; text-align: left; border: none;\">Feature</th>\n",
              "            \n",
              "        </tr>\n",
              "        </thead>\n",
              "        <tbody>\n",
              "        \n",
              "            <tr style=\"background-color: hsl(120, 100.00%, 80.00%); border: none;\">\n",
              "    <td style=\"padding: 0 1em 0 0.5em; text-align: right; border: none;\">\n",
              "        +4.867\n",
              "    </td>\n",
              "    <td style=\"padding: 0 0.5em 0 0.5em; text-align: left; border: none;\">\n",
              "        Highlighted in text (sum)\n",
              "    </td>\n",
              "    \n",
              "</tr>\n",
              "        \n",
              "        \n",
              "\n",
              "        \n",
              "        \n",
              "            <tr style=\"background-color: hsl(0, 100.00%, 93.47%); border: none;\">\n",
              "    <td style=\"padding: 0 1em 0 0.5em; text-align: right; border: none;\">\n",
              "        -0.984\n",
              "    </td>\n",
              "    <td style=\"padding: 0 0.5em 0 0.5em; text-align: left; border: none;\">\n",
              "        &lt;BIAS&gt;\n",
              "    </td>\n",
              "    \n",
              "</tr>\n",
              "        \n",
              "\n",
              "        </tbody>\n",
              "    </table>\n",
              "\n",
              "    \n",
              "\n",
              "\n",
              "\n",
              "    <p style=\"margin-bottom: 2.5em; margin-top:-0.5em;\">\n",
              "        <span style=\"background-color: hsl(120, 100.00%, 99.86%); opacity: 0.80\" title=\"0.002\">i</span><span style=\"opacity: 0.80\">&#x27;</span><span style=\"background-color: hsl(120, 100.00%, 95.88%); opacity: 0.81\" title=\"0.250\">m</span><span style=\"opacity: 0.80\"> </span><span style=\"background-color: hsl(120, 100.00%, 96.38%); opacity: 0.81\" title=\"0.208\">probably</span><span style=\"opacity: 0.80\"> </span><span style=\"background-color: hsl(0, 100.00%, 98.97%); opacity: 0.80\" title=\"-0.034\">such</span><span style=\"opacity: 0.80\"> </span><span style=\"background-color: hsl(120, 100.00%, 96.31%); opacity: 0.81\" title=\"0.213\">a</span><span style=\"opacity: 0.80\"> </span><span style=\"background-color: hsl(120, 100.00%, 88.36%); opacity: 0.83\" title=\"1.103\">racist</span><span style=\"opacity: 0.80\">, </span><span style=\"background-color: hsl(120, 100.00%, 97.95%); opacity: 0.80\" title=\"0.092\">but</span><span style=\"opacity: 0.80\"> </span><span style=\"background-color: hsl(120, 100.00%, 91.33%); opacity: 0.82\" title=\"0.724\">a</span><span style=\"opacity: 0.80\"> </span><span style=\"background-color: hsl(120, 100.00%, 60.00%); opacity: 1.00\" title=\"6.430\">black</span><span style=\"opacity: 0.80\"> </span><span style=\"background-color: hsl(120, 100.00%, 90.81%); opacity: 0.82\" title=\"0.787\">man</span><span style=\"opacity: 0.80\"> </span><span style=\"background-color: hsl(120, 100.00%, 97.59%); opacity: 0.80\" title=\"0.117\">dressed</span><span style=\"opacity: 0.80\"> </span><span style=\"background-color: hsl(120, 100.00%, 93.61%); opacity: 0.81\" title=\"0.468\">as</span><span style=\"opacity: 0.80\"> </span><span style=\"background-color: hsl(0, 100.00%, 96.71%); opacity: 0.81\" title=\"-0.182\">santa</span><span style=\"opacity: 0.80\"> </span><span style=\"background-color: hsl(120, 100.00%, 94.10%); opacity: 0.81\" title=\"0.417\">is</span><span style=\"opacity: 0.80\"> </span><span style=\"background-color: hsl(120, 100.00%, 94.21%); opacity: 0.81\" title=\"0.407\">just</span><span style=\"opacity: 0.80\"> </span><span style=\"background-color: hsl(120, 100.00%, 93.01%); opacity: 0.82\" title=\"0.532\">wrong</span><span style=\"opacity: 0.80\">.</span>\n",
              "    </p>\n",
              "\n",
              "\n",
              "    \n",
              "\n",
              "    \n",
              "\n",
              "    \n",
              "\n",
              "    \n",
              "\n",
              "\n",
              "    \n",
              "\n",
              "    \n",
              "\n",
              "    \n",
              "\n",
              "    \n",
              "\n",
              "    \n",
              "\n",
              "    \n",
              "\n",
              "\n",
              "    \n",
              "\n",
              "    \n",
              "\n",
              "    \n",
              "\n",
              "    \n",
              "\n",
              "    \n",
              "\n",
              "    \n",
              "\n",
              "\n",
              "\n"
            ],
            "text/plain": [
              "<IPython.core.display.HTML object>"
            ]
          },
          "metadata": {
            "tags": []
          },
          "execution_count": 34
        }
      ]
    },
    {
      "cell_type": "code",
      "metadata": {
        "colab": {
          "base_uri": "https://localhost:8080/"
        },
        "id": "rMkqLrHJIlZ8",
        "outputId": "1fe36880-ecbc-4afa-fde9-ac56af536df8"
      },
      "source": [
        "get_probabilit_per_class(\"I'm probably such a racist, but a black man dressed as Santa is just wrong.\")"
      ],
      "execution_count": 33,
      "outputs": [
        {
          "output_type": "execute_result",
          "data": {
            "text/plain": [
              "[('Ethnicity', 94.73854),\n",
              " ('anti-stereotype', 3.271085),\n",
              " ('profession', 1.0204151),\n",
              " ('religion', 0.6467894),\n",
              " ('gender', 0.3231681)]"
            ]
          },
          "metadata": {
            "tags": []
          },
          "execution_count": 33
        }
      ]
    },
    {
      "cell_type": "code",
      "metadata": {
        "colab": {
          "base_uri": "https://localhost:8080/",
          "height": 166
        },
        "id": "JLH3qmKLPXrI",
        "outputId": "f11f0b79-aa1e-4d17-f9b5-89687de2af0e"
      },
      "source": [
        "predictor.explain(\"I'm probably such a racist, but a black man dressed as Santa is just wrong.\")"
      ],
      "execution_count": 69,
      "outputs": [
        {
          "output_type": "execute_result",
          "data": {
            "text/html": [
              "\n",
              "    <style>\n",
              "    table.eli5-weights tr:hover {\n",
              "        filter: brightness(85%);\n",
              "    }\n",
              "</style>\n",
              "\n",
              "\n",
              "\n",
              "    \n",
              "\n",
              "    \n",
              "\n",
              "    \n",
              "\n",
              "    \n",
              "\n",
              "    \n",
              "\n",
              "    \n",
              "\n",
              "\n",
              "    \n",
              "\n",
              "    \n",
              "\n",
              "    \n",
              "\n",
              "    \n",
              "        \n",
              "\n",
              "    \n",
              "\n",
              "        \n",
              "\n",
              "        \n",
              "    \n",
              "        \n",
              "        \n",
              "    \n",
              "        <p style=\"margin-bottom: 0.5em; margin-top: 0em\">\n",
              "            <b>\n",
              "    \n",
              "        y=Ethnicity\n",
              "    \n",
              "</b>\n",
              "\n",
              "    \n",
              "    (probability <b>0.955</b>, score <b>3.883</b>)\n",
              "\n",
              "top features\n",
              "        </p>\n",
              "    \n",
              "    <table class=\"eli5-weights\"\n",
              "           style=\"border-collapse: collapse; border: none; margin-top: 0em; table-layout: auto; margin-bottom: 2em;\">\n",
              "        <thead>\n",
              "        <tr style=\"border: none;\">\n",
              "            \n",
              "                <th style=\"padding: 0 1em 0 0.5em; text-align: right; border: none;\" title=\"Feature contribution already accounts for the feature value (for linear models, contribution = weight * feature value), and the sum of feature contributions is equal to the score or, for some classifiers, to the probability. Feature values are shown if &quot;show_feature_values&quot; is True.\">\n",
              "                    Contribution<sup>?</sup>\n",
              "                </th>\n",
              "            \n",
              "            <th style=\"padding: 0 0.5em 0 0.5em; text-align: left; border: none;\">Feature</th>\n",
              "            \n",
              "        </tr>\n",
              "        </thead>\n",
              "        <tbody>\n",
              "        \n",
              "            <tr style=\"background-color: hsl(120, 100.00%, 80.00%); border: none;\">\n",
              "    <td style=\"padding: 0 1em 0 0.5em; text-align: right; border: none;\">\n",
              "        +4.867\n",
              "    </td>\n",
              "    <td style=\"padding: 0 0.5em 0 0.5em; text-align: left; border: none;\">\n",
              "        Highlighted in text (sum)\n",
              "    </td>\n",
              "    \n",
              "</tr>\n",
              "        \n",
              "        \n",
              "\n",
              "        \n",
              "        \n",
              "            <tr style=\"background-color: hsl(0, 100.00%, 93.47%); border: none;\">\n",
              "    <td style=\"padding: 0 1em 0 0.5em; text-align: right; border: none;\">\n",
              "        -0.984\n",
              "    </td>\n",
              "    <td style=\"padding: 0 0.5em 0 0.5em; text-align: left; border: none;\">\n",
              "        &lt;BIAS&gt;\n",
              "    </td>\n",
              "    \n",
              "</tr>\n",
              "        \n",
              "\n",
              "        </tbody>\n",
              "    </table>\n",
              "\n",
              "    \n",
              "\n",
              "\n",
              "\n",
              "    <p style=\"margin-bottom: 2.5em; margin-top:-0.5em;\">\n",
              "        <span style=\"background-color: hsl(120, 100.00%, 99.86%); opacity: 0.80\" title=\"0.002\">i</span><span style=\"opacity: 0.80\">&#x27;</span><span style=\"background-color: hsl(120, 100.00%, 95.88%); opacity: 0.81\" title=\"0.250\">m</span><span style=\"opacity: 0.80\"> </span><span style=\"background-color: hsl(120, 100.00%, 96.38%); opacity: 0.81\" title=\"0.208\">probably</span><span style=\"opacity: 0.80\"> </span><span style=\"background-color: hsl(0, 100.00%, 98.97%); opacity: 0.80\" title=\"-0.034\">such</span><span style=\"opacity: 0.80\"> </span><span style=\"background-color: hsl(120, 100.00%, 96.31%); opacity: 0.81\" title=\"0.213\">a</span><span style=\"opacity: 0.80\"> </span><span style=\"background-color: hsl(120, 100.00%, 88.36%); opacity: 0.83\" title=\"1.103\">racist</span><span style=\"opacity: 0.80\">, </span><span style=\"background-color: hsl(120, 100.00%, 97.95%); opacity: 0.80\" title=\"0.092\">but</span><span style=\"opacity: 0.80\"> </span><span style=\"background-color: hsl(120, 100.00%, 91.33%); opacity: 0.82\" title=\"0.724\">a</span><span style=\"opacity: 0.80\"> </span><span style=\"background-color: hsl(120, 100.00%, 60.00%); opacity: 1.00\" title=\"6.430\">black</span><span style=\"opacity: 0.80\"> </span><span style=\"background-color: hsl(120, 100.00%, 90.81%); opacity: 0.82\" title=\"0.787\">man</span><span style=\"opacity: 0.80\"> </span><span style=\"background-color: hsl(120, 100.00%, 97.59%); opacity: 0.80\" title=\"0.117\">dressed</span><span style=\"opacity: 0.80\"> </span><span style=\"background-color: hsl(120, 100.00%, 93.61%); opacity: 0.81\" title=\"0.468\">as</span><span style=\"opacity: 0.80\"> </span><span style=\"background-color: hsl(0, 100.00%, 96.71%); opacity: 0.81\" title=\"-0.182\">santa</span><span style=\"opacity: 0.80\"> </span><span style=\"background-color: hsl(120, 100.00%, 94.10%); opacity: 0.81\" title=\"0.417\">is</span><span style=\"opacity: 0.80\"> </span><span style=\"background-color: hsl(120, 100.00%, 94.21%); opacity: 0.81\" title=\"0.407\">just</span><span style=\"opacity: 0.80\"> </span><span style=\"background-color: hsl(120, 100.00%, 93.01%); opacity: 0.82\" title=\"0.532\">wrong</span><span style=\"opacity: 0.80\">.</span>\n",
              "    </p>\n",
              "\n",
              "\n",
              "    \n",
              "\n",
              "    \n",
              "\n",
              "    \n",
              "\n",
              "    \n",
              "\n",
              "\n",
              "    \n",
              "\n",
              "    \n",
              "\n",
              "    \n",
              "\n",
              "    \n",
              "\n",
              "    \n",
              "\n",
              "    \n",
              "\n",
              "\n",
              "    \n",
              "\n",
              "    \n",
              "\n",
              "    \n",
              "\n",
              "    \n",
              "\n",
              "    \n",
              "\n",
              "    \n",
              "\n",
              "\n",
              "\n"
            ],
            "text/plain": [
              "<IPython.core.display.HTML object>"
            ]
          },
          "metadata": {
            "tags": []
          },
          "execution_count": 69
        }
      ]
    },
    {
      "cell_type": "code",
      "metadata": {
        "colab": {
          "base_uri": "https://localhost:8080/"
        },
        "id": "K2FfXyIPIlZ9",
        "outputId": "51df250e-a324-44d9-ba72-dad52e1b45fe"
      },
      "source": [
        "get_probabilit_per_class(\"Teacher:: what do they look like? (referring to a picture of Middle Eastern women in hijabs) Student:: Terrorists. Teacher:: I was looking for religious, traditional, or worried. But yes, that too. Good, Tyler!\")"
      ],
      "execution_count": 35,
      "outputs": [
        {
          "output_type": "execute_result",
          "data": {
            "text/plain": [
              "[('anti-stereotype', 85.33062),\n",
              " ('Ethnicity', 7.7728467),\n",
              " ('religion', 5.9806304),\n",
              " ('profession', 0.5233945),\n",
              " ('gender', 0.3925038)]"
            ]
          },
          "metadata": {
            "tags": []
          },
          "execution_count": 35
        }
      ]
    },
    {
      "cell_type": "code",
      "metadata": {
        "colab": {
          "base_uri": "https://localhost:8080/",
          "height": 183
        },
        "id": "1OyIo-_mPxcG",
        "outputId": "c8250117-4402-4a80-e8c0-141c6db13f60"
      },
      "source": [
        "predictor.explain(\"Teacher:: what do they look like? (referring to a picture of Middle Eastern women in hijabs) Student:: Terrorists. Teacher:: I was looking for religious, traditional, or worried. But yes, that too. Good, Tyler!\")"
      ],
      "execution_count": 70,
      "outputs": [
        {
          "output_type": "execute_result",
          "data": {
            "text/html": [
              "\n",
              "    <style>\n",
              "    table.eli5-weights tr:hover {\n",
              "        filter: brightness(85%);\n",
              "    }\n",
              "</style>\n",
              "\n",
              "\n",
              "\n",
              "    \n",
              "\n",
              "    \n",
              "\n",
              "    \n",
              "\n",
              "    \n",
              "\n",
              "    \n",
              "\n",
              "    \n",
              "\n",
              "\n",
              "    \n",
              "\n",
              "    \n",
              "\n",
              "    \n",
              "\n",
              "    \n",
              "        \n",
              "\n",
              "    \n",
              "\n",
              "        \n",
              "\n",
              "        \n",
              "    \n",
              "        \n",
              "        \n",
              "    \n",
              "        <p style=\"margin-bottom: 0.5em; margin-top: 0em\">\n",
              "            <b>\n",
              "    \n",
              "        y=anti-stereotype\n",
              "    \n",
              "</b>\n",
              "\n",
              "    \n",
              "    (probability <b>0.745</b>, score <b>0.874</b>)\n",
              "\n",
              "top features\n",
              "        </p>\n",
              "    \n",
              "    <table class=\"eli5-weights\"\n",
              "           style=\"border-collapse: collapse; border: none; margin-top: 0em; table-layout: auto; margin-bottom: 2em;\">\n",
              "        <thead>\n",
              "        <tr style=\"border: none;\">\n",
              "            \n",
              "                <th style=\"padding: 0 1em 0 0.5em; text-align: right; border: none;\" title=\"Feature contribution already accounts for the feature value (for linear models, contribution = weight * feature value), and the sum of feature contributions is equal to the score or, for some classifiers, to the probability. Feature values are shown if &quot;show_feature_values&quot; is True.\">\n",
              "                    Contribution<sup>?</sup>\n",
              "                </th>\n",
              "            \n",
              "            <th style=\"padding: 0 0.5em 0 0.5em; text-align: left; border: none;\">Feature</th>\n",
              "            \n",
              "        </tr>\n",
              "        </thead>\n",
              "        <tbody>\n",
              "        \n",
              "            <tr style=\"background-color: hsl(120, 100.00%, 80.00%); border: none;\">\n",
              "    <td style=\"padding: 0 1em 0 0.5em; text-align: right; border: none;\">\n",
              "        +0.700\n",
              "    </td>\n",
              "    <td style=\"padding: 0 0.5em 0 0.5em; text-align: left; border: none;\">\n",
              "        &lt;BIAS&gt;\n",
              "    </td>\n",
              "    \n",
              "</tr>\n",
              "        \n",
              "            <tr style=\"background-color: hsl(120, 100.00%, 92.45%); border: none;\">\n",
              "    <td style=\"padding: 0 1em 0 0.5em; text-align: right; border: none;\">\n",
              "        +0.174\n",
              "    </td>\n",
              "    <td style=\"padding: 0 0.5em 0 0.5em; text-align: left; border: none;\">\n",
              "        Highlighted in text (sum)\n",
              "    </td>\n",
              "    \n",
              "</tr>\n",
              "        \n",
              "        \n",
              "\n",
              "        \n",
              "        \n",
              "\n",
              "        </tbody>\n",
              "    </table>\n",
              "\n",
              "    \n",
              "\n",
              "\n",
              "\n",
              "    <p style=\"margin-bottom: 2.5em; margin-top:-0.5em;\">\n",
              "        <span style=\"background-color: hsl(120, 100.00%, 93.67%); opacity: 0.81\" title=\"0.108\">teacher</span><span style=\"opacity: 0.80\">:: </span><span style=\"background-color: hsl(0, 100.00%, 95.47%); opacity: 0.81\" title=\"-0.067\">what</span><span style=\"opacity: 0.80\"> </span><span style=\"background-color: hsl(0, 100.00%, 99.15%); opacity: 0.80\" title=\"-0.006\">do</span><span style=\"opacity: 0.80\"> </span><span style=\"background-color: hsl(0, 100.00%, 93.90%); opacity: 0.81\" title=\"-0.102\">they</span><span style=\"opacity: 0.80\"> </span><span style=\"background-color: hsl(0, 100.00%, 92.61%); opacity: 0.82\" title=\"-0.135\">look</span><span style=\"opacity: 0.80\"> </span><span style=\"background-color: hsl(0, 100.00%, 89.85%); opacity: 0.83\" title=\"-0.212\">like</span><span style=\"opacity: 0.80\">? (</span><span style=\"background-color: hsl(120, 100.00%, 91.88%); opacity: 0.82\" title=\"0.154\">referring</span><span style=\"opacity: 0.80\"> </span><span style=\"background-color: hsl(120, 100.00%, 92.78%); opacity: 0.82\" title=\"0.130\">to</span><span style=\"opacity: 0.80\"> </span><span style=\"background-color: hsl(120, 100.00%, 97.82%); opacity: 0.80\" title=\"0.024\">a</span><span style=\"opacity: 0.80\"> </span><span style=\"background-color: hsl(120, 100.00%, 98.53%); opacity: 0.80\" title=\"0.013\">picture</span><span style=\"opacity: 0.80\"> </span><span style=\"background-color: hsl(0, 100.00%, 97.89%); opacity: 0.80\" title=\"-0.023\">of</span><span style=\"opacity: 0.80\"> </span><span style=\"background-color: hsl(0, 100.00%, 74.65%); opacity: 0.90\" title=\"-0.784\">middle</span><span style=\"opacity: 0.80\"> </span><span style=\"background-color: hsl(0, 100.00%, 60.00%); opacity: 1.00\" title=\"-1.504\">eastern</span><span style=\"opacity: 0.80\"> </span><span style=\"background-color: hsl(120, 100.00%, 90.27%); opacity: 0.83\" title=\"0.200\">women</span><span style=\"opacity: 0.80\"> </span><span style=\"background-color: hsl(120, 100.00%, 93.44%); opacity: 0.82\" title=\"0.114\">in</span><span style=\"opacity: 0.80\"> </span><span style=\"background-color: hsl(0, 100.00%, 96.30%); opacity: 0.81\" title=\"-0.050\">hijabs</span><span style=\"opacity: 0.80\">) </span><span style=\"background-color: hsl(120, 100.00%, 91.80%); opacity: 0.82\" title=\"0.156\">student</span><span style=\"opacity: 0.80\">:: </span><span style=\"background-color: hsl(0, 100.00%, 66.19%); opacity: 0.96\" title=\"-1.183\">terrorists</span><span style=\"opacity: 0.80\">. </span><span style=\"background-color: hsl(0, 100.00%, 99.23%); opacity: 0.80\" title=\"-0.005\">teacher</span><span style=\"opacity: 0.80\">:: </span><span style=\"background-color: hsl(0, 100.00%, 94.73%); opacity: 0.81\" title=\"-0.083\">i</span><span style=\"opacity: 0.80\"> </span><span style=\"background-color: hsl(0, 100.00%, 94.49%); opacity: 0.81\" title=\"-0.089\">was</span><span style=\"opacity: 0.80\"> </span><span style=\"background-color: hsl(0, 100.00%, 88.35%); opacity: 0.83\" title=\"-0.258\">looking</span><span style=\"opacity: 0.80\"> </span><span style=\"background-color: hsl(0, 100.00%, 92.66%); opacity: 0.82\" title=\"-0.134\">for</span><span style=\"opacity: 0.80\"> </span><span style=\"background-color: hsl(0, 100.00%, 82.66%); opacity: 0.86\" title=\"-0.456\">religious</span><span style=\"opacity: 0.80\">, </span><span style=\"background-color: hsl(120, 100.00%, 92.39%); opacity: 0.82\" title=\"0.141\">traditional</span><span style=\"opacity: 0.80\">, </span><span style=\"background-color: hsl(120, 100.00%, 95.71%); opacity: 0.81\" title=\"0.062\">or</span><span style=\"opacity: 0.80\"> </span><span style=\"background-color: hsl(0, 100.00%, 94.98%); opacity: 0.81\" title=\"-0.078\">worried</span><span style=\"opacity: 0.80\">. </span><span style=\"background-color: hsl(0, 100.00%, 99.00%); opacity: 0.80\" title=\"-0.008\">but</span><span style=\"opacity: 0.80\"> </span><span style=\"background-color: hsl(0, 100.00%, 95.25%); opacity: 0.81\" title=\"-0.072\">yes</span><span style=\"opacity: 0.80\">, </span><span style=\"background-color: hsl(0, 100.00%, 89.06%); opacity: 0.83\" title=\"-0.236\">that</span><span style=\"opacity: 0.80\"> </span><span style=\"background-color: hsl(0, 100.00%, 95.46%); opacity: 0.81\" title=\"-0.067\">too</span><span style=\"opacity: 0.80\">. </span><span style=\"background-color: hsl(120, 100.00%, 71.51%); opacity: 0.92\" title=\"0.926\">good</span><span style=\"opacity: 0.80\">, </span><span style=\"background-color: hsl(120, 100.00%, 77.25%); opacity: 0.89\" title=\"0.672\">tyler</span><span style=\"opacity: 0.80\">!</span>\n",
              "    </p>\n",
              "\n",
              "\n",
              "    \n",
              "\n",
              "    \n",
              "\n",
              "    \n",
              "\n",
              "    \n",
              "\n",
              "\n",
              "    \n",
              "\n",
              "    \n",
              "\n",
              "    \n",
              "\n",
              "    \n",
              "\n",
              "    \n",
              "\n",
              "    \n",
              "\n",
              "\n",
              "    \n",
              "\n",
              "    \n",
              "\n",
              "    \n",
              "\n",
              "    \n",
              "\n",
              "    \n",
              "\n",
              "    \n",
              "\n",
              "\n",
              "\n"
            ],
            "text/plain": [
              "<IPython.core.display.HTML object>"
            ]
          },
          "metadata": {
            "tags": []
          },
          "execution_count": 70
        }
      ]
    },
    {
      "cell_type": "code",
      "metadata": {
        "colab": {
          "base_uri": "https://localhost:8080/"
        },
        "id": "h5OFsbCDIlZ-",
        "outputId": "7bc861aa-9366-46cb-c012-de0529b2837e"
      },
      "source": [
        "get_probabilit_per_class(\"A meme blog posted a meme saying If deaf people can't talk, how do they think? My sister is deaf. She told one of the moderators about why this was offensive and they took it down, but I read through the notes and was just saddened about how people were like I always wondered that. It makes me very upset.\")"
      ],
      "execution_count": 36,
      "outputs": [
        {
          "output_type": "execute_result",
          "data": {
            "text/plain": [
              "[('anti-stereotype', 93.721504),\n",
              " ('profession', 2.9581447),\n",
              " ('gender', 2.0484157),\n",
              " ('Ethnicity', 0.9538205),\n",
              " ('religion', 0.31811684)]"
            ]
          },
          "metadata": {
            "tags": []
          },
          "execution_count": 36
        }
      ]
    },
    {
      "cell_type": "code",
      "metadata": {
        "colab": {
          "base_uri": "https://localhost:8080/",
          "height": 200
        },
        "id": "oe5AzRI9P8bc",
        "outputId": "7bc14638-497e-4f37-e7c0-82fc54a8ec82"
      },
      "source": [
        "predictor.explain(\"A meme blog posted a meme saying If deaf people can't talk, how do they think? My sister is deaf. She told one of the moderators about why this was offensive and they took it down, but I read through the notes and was just saddened about how people were like I always wondered that. It makes me very upset.\")"
      ],
      "execution_count": 72,
      "outputs": [
        {
          "output_type": "execute_result",
          "data": {
            "text/html": [
              "\n",
              "    <style>\n",
              "    table.eli5-weights tr:hover {\n",
              "        filter: brightness(85%);\n",
              "    }\n",
              "</style>\n",
              "\n",
              "\n",
              "\n",
              "    \n",
              "\n",
              "    \n",
              "\n",
              "    \n",
              "\n",
              "    \n",
              "\n",
              "    \n",
              "\n",
              "    \n",
              "\n",
              "\n",
              "    \n",
              "\n",
              "    \n",
              "\n",
              "    \n",
              "\n",
              "    \n",
              "        \n",
              "\n",
              "    \n",
              "\n",
              "        \n",
              "\n",
              "        \n",
              "    \n",
              "        \n",
              "        \n",
              "    \n",
              "        <p style=\"margin-bottom: 0.5em; margin-top: 0em\">\n",
              "            <b>\n",
              "    \n",
              "        y=anti-stereotype\n",
              "    \n",
              "</b>\n",
              "\n",
              "    \n",
              "    (probability <b>0.927</b>, score <b>3.066</b>)\n",
              "\n",
              "top features\n",
              "        </p>\n",
              "    \n",
              "    <table class=\"eli5-weights\"\n",
              "           style=\"border-collapse: collapse; border: none; margin-top: 0em; table-layout: auto; margin-bottom: 2em;\">\n",
              "        <thead>\n",
              "        <tr style=\"border: none;\">\n",
              "            \n",
              "                <th style=\"padding: 0 1em 0 0.5em; text-align: right; border: none;\" title=\"Feature contribution already accounts for the feature value (for linear models, contribution = weight * feature value), and the sum of feature contributions is equal to the score or, for some classifiers, to the probability. Feature values are shown if &quot;show_feature_values&quot; is True.\">\n",
              "                    Contribution<sup>?</sup>\n",
              "                </th>\n",
              "            \n",
              "            <th style=\"padding: 0 0.5em 0 0.5em; text-align: left; border: none;\">Feature</th>\n",
              "            \n",
              "        </tr>\n",
              "        </thead>\n",
              "        <tbody>\n",
              "        \n",
              "            <tr style=\"background-color: hsl(120, 100.00%, 80.00%); border: none;\">\n",
              "    <td style=\"padding: 0 1em 0 0.5em; text-align: right; border: none;\">\n",
              "        +2.511\n",
              "    </td>\n",
              "    <td style=\"padding: 0 0.5em 0 0.5em; text-align: left; border: none;\">\n",
              "        Highlighted in text (sum)\n",
              "    </td>\n",
              "    \n",
              "</tr>\n",
              "        \n",
              "            <tr style=\"background-color: hsl(120, 100.00%, 93.05%); border: none;\">\n",
              "    <td style=\"padding: 0 1em 0 0.5em; text-align: right; border: none;\">\n",
              "        +0.555\n",
              "    </td>\n",
              "    <td style=\"padding: 0 0.5em 0 0.5em; text-align: left; border: none;\">\n",
              "        &lt;BIAS&gt;\n",
              "    </td>\n",
              "    \n",
              "</tr>\n",
              "        \n",
              "        \n",
              "\n",
              "        \n",
              "        \n",
              "\n",
              "        </tbody>\n",
              "    </table>\n",
              "\n",
              "    \n",
              "\n",
              "\n",
              "\n",
              "    <p style=\"margin-bottom: 2.5em; margin-top:-0.5em;\">\n",
              "        <span style=\"background-color: hsl(0, 100.00%, 96.95%); opacity: 0.81\" title=\"-0.034\">a</span><span style=\"opacity: 0.80\"> </span><span style=\"background-color: hsl(0, 100.00%, 91.02%); opacity: 0.82\" title=\"-0.161\">meme</span><span style=\"opacity: 0.80\"> </span><span style=\"background-color: hsl(0, 100.00%, 93.04%); opacity: 0.82\" title=\"-0.112\">blog</span><span style=\"opacity: 0.80\"> </span><span style=\"background-color: hsl(0, 100.00%, 91.45%); opacity: 0.82\" title=\"-0.150\">posted</span><span style=\"opacity: 0.80\"> </span><span style=\"background-color: hsl(0, 100.00%, 91.72%); opacity: 0.82\" title=\"-0.143\">a</span><span style=\"opacity: 0.80\"> </span><span style=\"background-color: hsl(0, 100.00%, 94.75%); opacity: 0.81\" title=\"-0.075\">meme</span><span style=\"opacity: 0.80\"> </span><span style=\"background-color: hsl(0, 100.00%, 94.28%); opacity: 0.81\" title=\"-0.085\">saying</span><span style=\"opacity: 0.80\"> </span><span style=\"background-color: hsl(0, 100.00%, 99.32%); opacity: 0.80\" title=\"-0.004\">if</span><span style=\"opacity: 0.80\"> </span><span style=\"background-color: hsl(120, 100.00%, 60.00%); opacity: 1.00\" title=\"1.361\">deaf</span><span style=\"opacity: 0.80\"> </span><span style=\"background-color: hsl(120, 100.00%, 86.87%); opacity: 0.84\" title=\"0.277\">people</span><span style=\"opacity: 0.80\"> </span><span style=\"background-color: hsl(120, 100.00%, 93.96%); opacity: 0.81\" title=\"0.091\">can</span><span style=\"opacity: 0.80\">&#x27;</span><span style=\"background-color: hsl(120, 100.00%, 99.37%); opacity: 0.80\" title=\"0.004\">t</span><span style=\"opacity: 0.80\"> </span><span style=\"background-color: hsl(0, 100.00%, 82.48%); opacity: 0.86\" title=\"-0.418\">talk</span><span style=\"opacity: 0.80\">, </span><span style=\"background-color: hsl(0, 100.00%, 92.54%); opacity: 0.82\" title=\"-0.123\">how</span><span style=\"opacity: 0.80\"> </span><span style=\"background-color: hsl(120, 100.00%, 97.62%); opacity: 0.80\" title=\"0.024\">do</span><span style=\"opacity: 0.80\"> </span><span style=\"background-color: hsl(120, 100.00%, 99.62%); opacity: 0.80\" title=\"0.002\">they</span><span style=\"opacity: 0.80\"> </span><span style=\"background-color: hsl(120, 100.00%, 97.38%); opacity: 0.80\" title=\"0.028\">think</span><span style=\"opacity: 0.80\">? </span><span style=\"background-color: hsl(0, 100.00%, 96.89%); opacity: 0.81\" title=\"-0.035\">my</span><span style=\"opacity: 0.80\"> </span><span style=\"background-color: hsl(0, 100.00%, 85.74%); opacity: 0.85\" title=\"-0.312\">sister</span><span style=\"opacity: 0.80\"> </span><span style=\"background-color: hsl(0, 100.00%, 81.02%); opacity: 0.87\" title=\"-0.469\">is</span><span style=\"opacity: 0.80\"> </span><span style=\"background-color: hsl(120, 100.00%, 72.01%); opacity: 0.92\" title=\"0.817\">deaf</span><span style=\"opacity: 0.80\">. </span><span style=\"background-color: hsl(120, 100.00%, 92.43%); opacity: 0.82\" title=\"0.126\">she</span><span style=\"opacity: 0.80\"> </span><span style=\"background-color: hsl(120, 100.00%, 91.41%); opacity: 0.82\" title=\"0.151\">told</span><span style=\"opacity: 0.80\"> </span><span style=\"background-color: hsl(0, 100.00%, 91.92%); opacity: 0.82\" title=\"-0.139\">one</span><span style=\"opacity: 0.80\"> </span><span style=\"background-color: hsl(0, 100.00%, 98.62%); opacity: 0.80\" title=\"-0.011\">of</span><span style=\"opacity: 0.80\"> </span><span style=\"background-color: hsl(120, 100.00%, 95.97%); opacity: 0.81\" title=\"0.051\">the</span><span style=\"opacity: 0.80\"> </span><span style=\"background-color: hsl(120, 100.00%, 95.19%); opacity: 0.81\" title=\"0.066\">moderators</span><span style=\"opacity: 0.80\"> </span><span style=\"background-color: hsl(120, 100.00%, 95.17%); opacity: 0.81\" title=\"0.066\">about</span><span style=\"opacity: 0.80\"> </span><span style=\"background-color: hsl(120, 100.00%, 94.55%); opacity: 0.81\" title=\"0.079\">why</span><span style=\"opacity: 0.80\"> </span><span style=\"background-color: hsl(0, 100.00%, 96.72%); opacity: 0.81\" title=\"-0.038\">this</span><span style=\"opacity: 0.80\"> </span><span style=\"background-color: hsl(0, 100.00%, 88.13%); opacity: 0.84\" title=\"-0.240\">was</span><span style=\"opacity: 0.80\"> </span><span style=\"background-color: hsl(0, 100.00%, 82.39%); opacity: 0.86\" title=\"-0.421\">offensive</span><span style=\"opacity: 0.80\"> </span><span style=\"background-color: hsl(120, 100.00%, 98.09%); opacity: 0.80\" title=\"0.018\">and</span><span style=\"opacity: 0.80\"> </span><span style=\"background-color: hsl(120, 100.00%, 96.33%); opacity: 0.81\" title=\"0.045\">they</span><span style=\"opacity: 0.80\"> </span><span style=\"background-color: hsl(120, 100.00%, 93.88%); opacity: 0.81\" title=\"0.093\">took</span><span style=\"opacity: 0.80\"> </span><span style=\"background-color: hsl(120, 100.00%, 96.82%); opacity: 0.81\" title=\"0.037\">it</span><span style=\"opacity: 0.80\"> </span><span style=\"background-color: hsl(120, 100.00%, 97.82%); opacity: 0.80\" title=\"0.021\">down</span><span style=\"opacity: 0.80\">, </span><span style=\"background-color: hsl(120, 100.00%, 92.86%); opacity: 0.82\" title=\"0.116\">but</span><span style=\"opacity: 0.80\"> </span><span style=\"background-color: hsl(0, 100.00%, 97.14%); opacity: 0.80\" title=\"-0.031\">i</span><span style=\"opacity: 0.80\"> </span><span style=\"background-color: hsl(0, 100.00%, 94.71%); opacity: 0.81\" title=\"-0.076\">read</span><span style=\"opacity: 0.80\"> </span><span style=\"background-color: hsl(120, 100.00%, 95.61%); opacity: 0.81\" title=\"0.058\">through</span><span style=\"opacity: 0.80\"> </span><span style=\"background-color: hsl(120, 100.00%, 97.63%); opacity: 0.80\" title=\"0.024\">the</span><span style=\"opacity: 0.80\"> </span><span style=\"background-color: hsl(0, 100.00%, 90.55%); opacity: 0.83\" title=\"-0.173\">notes</span><span style=\"opacity: 0.80\"> </span><span style=\"background-color: hsl(0, 100.00%, 95.53%); opacity: 0.81\" title=\"-0.059\">and</span><span style=\"opacity: 0.80\"> </span><span style=\"background-color: hsl(120, 100.00%, 92.99%); opacity: 0.82\" title=\"0.113\">was</span><span style=\"opacity: 0.80\"> </span><span style=\"background-color: hsl(120, 100.00%, 94.77%); opacity: 0.81\" title=\"0.074\">just</span><span style=\"opacity: 0.80\"> </span><span style=\"background-color: hsl(120, 100.00%, 97.51%); opacity: 0.80\" title=\"0.026\">saddened</span><span style=\"opacity: 0.80\"> </span><span style=\"background-color: hsl(0, 100.00%, 90.16%); opacity: 0.83\" title=\"-0.184\">about</span><span style=\"opacity: 0.80\"> </span><span style=\"background-color: hsl(0, 100.00%, 92.41%); opacity: 0.82\" title=\"-0.127\">how</span><span style=\"opacity: 0.80\"> </span><span style=\"background-color: hsl(0, 100.00%, 95.80%); opacity: 0.81\" title=\"-0.054\">people</span><span style=\"opacity: 0.80\"> </span><span style=\"background-color: hsl(120, 100.00%, 91.76%); opacity: 0.82\" title=\"0.142\">were</span><span style=\"opacity: 0.80\"> </span><span style=\"background-color: hsl(0, 100.00%, 92.41%); opacity: 0.82\" title=\"-0.127\">like</span><span style=\"opacity: 0.80\"> </span><span style=\"background-color: hsl(0, 100.00%, 91.69%); opacity: 0.82\" title=\"-0.144\">i</span><span style=\"opacity: 0.80\"> </span><span style=\"background-color: hsl(120, 100.00%, 95.23%); opacity: 0.81\" title=\"0.065\">always</span><span style=\"opacity: 0.80\"> </span><span style=\"background-color: hsl(0, 100.00%, 92.95%); opacity: 0.82\" title=\"-0.114\">wondered</span><span style=\"opacity: 0.80\"> </span><span style=\"background-color: hsl(0, 100.00%, 88.67%); opacity: 0.83\" title=\"-0.224\">that</span><span style=\"opacity: 0.80\">. </span><span style=\"background-color: hsl(120, 100.00%, 98.38%); opacity: 0.80\" title=\"0.014\">it</span><span style=\"opacity: 0.80\"> </span><span style=\"background-color: hsl(120, 100.00%, 91.47%); opacity: 0.82\" title=\"0.150\">makes</span><span style=\"opacity: 0.80\"> </span><span style=\"background-color: hsl(0, 100.00%, 98.38%); opacity: 0.80\" title=\"-0.014\">me</span><span style=\"opacity: 0.80\"> </span><span style=\"background-color: hsl(120, 100.00%, 97.46%); opacity: 0.80\" title=\"0.026\">very</span><span style=\"opacity: 0.80\"> </span><span style=\"background-color: hsl(0, 100.00%, 89.22%); opacity: 0.83\" title=\"-0.209\">upset</span><span style=\"opacity: 0.80\">.</span>\n",
              "    </p>\n",
              "\n",
              "\n",
              "    \n",
              "\n",
              "    \n",
              "\n",
              "    \n",
              "\n",
              "    \n",
              "\n",
              "\n",
              "    \n",
              "\n",
              "    \n",
              "\n",
              "    \n",
              "\n",
              "    \n",
              "\n",
              "    \n",
              "\n",
              "    \n",
              "\n",
              "\n",
              "    \n",
              "\n",
              "    \n",
              "\n",
              "    \n",
              "\n",
              "    \n",
              "\n",
              "    \n",
              "\n",
              "    \n",
              "\n",
              "\n",
              "\n"
            ],
            "text/plain": [
              "<IPython.core.display.HTML object>"
            ]
          },
          "metadata": {
            "tags": []
          },
          "execution_count": 72
        }
      ]
    },
    {
      "cell_type": "code",
      "metadata": {
        "colab": {
          "base_uri": "https://localhost:8080/"
        },
        "id": "MpxZsWykIlZ_",
        "outputId": "ad003e12-f2d9-40c4-ba2a-debc1defc99f"
      },
      "source": [
        "get_probabilit_per_class(\"I hate going into the city. There are so many black people and it's so ghetto... Not to be racist or anything.\")"
      ],
      "execution_count": 37,
      "outputs": [
        {
          "output_type": "execute_result",
          "data": {
            "text/plain": [
              "[('Ethnicity', 87.053665),\n",
              " ('anti-stereotype', 6.460955),\n",
              " ('profession', 4.793505),\n",
              " ('religion', 1.1420906),\n",
              " ('gender', 0.54978824)]"
            ]
          },
          "metadata": {
            "tags": []
          },
          "execution_count": 37
        }
      ]
    },
    {
      "cell_type": "code",
      "metadata": {
        "colab": {
          "base_uri": "https://localhost:8080/"
        },
        "id": "1pgQpFxDIlaB",
        "outputId": "d582e376-df8b-4a01-9a1a-ba20bf6afa2a"
      },
      "source": [
        "get_probabilit_per_class(\"I don't like short hair on girls.\")"
      ],
      "execution_count": 38,
      "outputs": [
        {
          "output_type": "execute_result",
          "data": {
            "text/plain": [
              "[('anti-stereotype', 49.34531),\n",
              " ('gender', 48.835453),\n",
              " ('profession', 0.88779384),\n",
              " ('Ethnicity', 0.6731906),\n",
              " ('religion', 0.25824594)]"
            ]
          },
          "metadata": {
            "tags": []
          },
          "execution_count": 38
        }
      ]
    },
    {
      "cell_type": "code",
      "metadata": {
        "colab": {
          "base_uri": "https://localhost:8080/",
          "height": 166
        },
        "id": "Mf2fSCTTP_vR",
        "outputId": "beec3c74-bc29-403b-f9ca-423b801621b8"
      },
      "source": [
        "predictor.explain(\"I don't like short hair on girls.\")"
      ],
      "execution_count": 71,
      "outputs": [
        {
          "output_type": "execute_result",
          "data": {
            "text/html": [
              "\n",
              "    <style>\n",
              "    table.eli5-weights tr:hover {\n",
              "        filter: brightness(85%);\n",
              "    }\n",
              "</style>\n",
              "\n",
              "\n",
              "\n",
              "    \n",
              "\n",
              "    \n",
              "\n",
              "    \n",
              "\n",
              "    \n",
              "\n",
              "    \n",
              "\n",
              "    \n",
              "\n",
              "\n",
              "    \n",
              "\n",
              "    \n",
              "\n",
              "    \n",
              "\n",
              "    \n",
              "        \n",
              "\n",
              "    \n",
              "\n",
              "        \n",
              "\n",
              "        \n",
              "    \n",
              "        \n",
              "        \n",
              "    \n",
              "        <p style=\"margin-bottom: 0.5em; margin-top: 0em\">\n",
              "            <b>\n",
              "    \n",
              "        y=anti-stereotype\n",
              "    \n",
              "</b>\n",
              "\n",
              "    \n",
              "    (probability <b>0.481</b>, score <b>-0.239</b>)\n",
              "\n",
              "top features\n",
              "        </p>\n",
              "    \n",
              "    <table class=\"eli5-weights\"\n",
              "           style=\"border-collapse: collapse; border: none; margin-top: 0em; table-layout: auto; margin-bottom: 2em;\">\n",
              "        <thead>\n",
              "        <tr style=\"border: none;\">\n",
              "            \n",
              "                <th style=\"padding: 0 1em 0 0.5em; text-align: right; border: none;\" title=\"Feature contribution already accounts for the feature value (for linear models, contribution = weight * feature value), and the sum of feature contributions is equal to the score or, for some classifiers, to the probability. Feature values are shown if &quot;show_feature_values&quot; is True.\">\n",
              "                    Contribution<sup>?</sup>\n",
              "                </th>\n",
              "            \n",
              "            <th style=\"padding: 0 0.5em 0 0.5em; text-align: left; border: none;\">Feature</th>\n",
              "            \n",
              "        </tr>\n",
              "        </thead>\n",
              "        <tbody>\n",
              "        \n",
              "            <tr style=\"background-color: hsl(120, 100.00%, 83.59%); border: none;\">\n",
              "    <td style=\"padding: 0 1em 0 0.5em; text-align: right; border: none;\">\n",
              "        +0.731\n",
              "    </td>\n",
              "    <td style=\"padding: 0 0.5em 0 0.5em; text-align: left; border: none;\">\n",
              "        &lt;BIAS&gt;\n",
              "    </td>\n",
              "    \n",
              "</tr>\n",
              "        \n",
              "        \n",
              "\n",
              "        \n",
              "        \n",
              "            <tr style=\"background-color: hsl(0, 100.00%, 80.00%); border: none;\">\n",
              "    <td style=\"padding: 0 1em 0 0.5em; text-align: right; border: none;\">\n",
              "        -0.969\n",
              "    </td>\n",
              "    <td style=\"padding: 0 0.5em 0 0.5em; text-align: left; border: none;\">\n",
              "        Highlighted in text (sum)\n",
              "    </td>\n",
              "    \n",
              "</tr>\n",
              "        \n",
              "\n",
              "        </tbody>\n",
              "    </table>\n",
              "\n",
              "    \n",
              "\n",
              "\n",
              "\n",
              "    <p style=\"margin-bottom: 2.5em; margin-top:-0.5em;\">\n",
              "        <span style=\"background-color: hsl(0, 100.00%, 92.56%); opacity: 0.82\" title=\"-0.163\">i</span><span style=\"opacity: 0.80\"> </span><span style=\"background-color: hsl(120, 100.00%, 96.65%); opacity: 0.81\" title=\"0.052\">don</span><span style=\"opacity: 0.80\">&#x27;</span><span style=\"background-color: hsl(120, 100.00%, 97.91%); opacity: 0.80\" title=\"0.027\">t</span><span style=\"opacity: 0.80\"> </span><span style=\"background-color: hsl(0, 100.00%, 85.45%); opacity: 0.85\" title=\"-0.424\">like</span><span style=\"opacity: 0.80\"> </span><span style=\"background-color: hsl(120, 100.00%, 91.21%); opacity: 0.82\" title=\"0.206\">short</span><span style=\"opacity: 0.80\"> </span><span style=\"background-color: hsl(0, 100.00%, 93.00%); opacity: 0.82\" title=\"-0.149\">hair</span><span style=\"opacity: 0.80\"> </span><span style=\"background-color: hsl(0, 100.00%, 86.41%); opacity: 0.84\" title=\"-0.384\">on</span><span style=\"opacity: 0.80\"> </span><span style=\"background-color: hsl(0, 100.00%, 60.00%); opacity: 1.00\" title=\"-1.798\">girls</span><span style=\"opacity: 0.80\">.</span>\n",
              "    </p>\n",
              "\n",
              "\n",
              "    \n",
              "\n",
              "    \n",
              "\n",
              "    \n",
              "\n",
              "    \n",
              "\n",
              "\n",
              "    \n",
              "\n",
              "    \n",
              "\n",
              "    \n",
              "\n",
              "    \n",
              "\n",
              "    \n",
              "\n",
              "    \n",
              "\n",
              "\n",
              "    \n",
              "\n",
              "    \n",
              "\n",
              "    \n",
              "\n",
              "    \n",
              "\n",
              "    \n",
              "\n",
              "    \n",
              "\n",
              "\n",
              "\n"
            ],
            "text/plain": [
              "<IPython.core.display.HTML object>"
            ]
          },
          "metadata": {
            "tags": []
          },
          "execution_count": 71
        }
      ]
    },
    {
      "cell_type": "code",
      "metadata": {
        "colab": {
          "base_uri": "https://localhost:8080/"
        },
        "id": "m4cuzg8yIlaE",
        "outputId": "470a4816-4ebf-4c86-d5f4-64b2ad623201"
      },
      "source": [
        "get_probabilit_per_class(\"Are you a man or a woman?\")"
      ],
      "execution_count": 39,
      "outputs": [
        {
          "output_type": "execute_result",
          "data": {
            "text/plain": [
              "[('gender', 53.97383),\n",
              " ('anti-stereotype', 43.920803),\n",
              " ('profession', 1.0591307),\n",
              " ('Ethnicity', 0.692284),\n",
              " ('religion', 0.3539551)]"
            ]
          },
          "metadata": {
            "tags": []
          },
          "execution_count": 39
        }
      ]
    },
    {
      "cell_type": "code",
      "metadata": {
        "colab": {
          "base_uri": "https://localhost:8080/"
        },
        "id": "9j-PosyqIlaK",
        "outputId": "3da848c4-f235-47e7-a7be-173b0c96f4ae"
      },
      "source": [
        "get_probabilit_per_class(\"The russian is smiling\")"
      ],
      "execution_count": 40,
      "outputs": [
        {
          "output_type": "execute_result",
          "data": {
            "text/plain": [
              "[('anti-stereotype', 85.2371),\n",
              " ('Ethnicity', 14.096579),\n",
              " ('gender', 0.2643825),\n",
              " ('profession', 0.20371279),\n",
              " ('religion', 0.19821997)]"
            ]
          },
          "metadata": {
            "tags": []
          },
          "execution_count": 40
        }
      ]
    },
    {
      "cell_type": "code",
      "metadata": {
        "colab": {
          "base_uri": "https://localhost:8080/"
        },
        "id": "tuKTuQgHIlaM",
        "outputId": "ca31e083-1fb2-45d7-ad98-ae27fc974962"
      },
      "source": [
        "get_probabilit_per_class(\"The russian is giggling\")"
      ],
      "execution_count": 41,
      "outputs": [
        {
          "output_type": "execute_result",
          "data": {
            "text/plain": [
              "[('anti-stereotype', 70.57342),\n",
              " ('Ethnicity', 28.760061),\n",
              " ('gender', 0.30352584),\n",
              " ('religion', 0.19571008),\n",
              " ('profession', 0.16728225)]"
            ]
          },
          "metadata": {
            "tags": []
          },
          "execution_count": 41
        }
      ]
    },
    {
      "cell_type": "code",
      "metadata": {
        "colab": {
          "base_uri": "https://localhost:8080/"
        },
        "id": "lRdzk7deIlaN",
        "outputId": "a577c24b-8ba4-4c49-a1b3-4c3bfdae2437"
      },
      "source": [
        "get_probabilit_per_class(\"The russian is drinking\")"
      ],
      "execution_count": 67,
      "outputs": [
        {
          "output_type": "execute_result",
          "data": {
            "text/plain": [
              "[('Ethnicity', 87.88563),\n",
              " ('anti-stereotype', 11.576831),\n",
              " ('profession', 0.20867905),\n",
              " ('religion', 0.19834428),\n",
              " ('gender', 0.13051936)]"
            ]
          },
          "metadata": {
            "tags": []
          },
          "execution_count": 67
        }
      ]
    },
    {
      "cell_type": "code",
      "metadata": {
        "colab": {
          "base_uri": "https://localhost:8080/",
          "height": 166
        },
        "id": "UTa7sxkrPCuj",
        "outputId": "e0342551-159f-4e39-f813-78f9bf5e9842"
      },
      "source": [
        "predictor.explain(\"The russian is drinking\")"
      ],
      "execution_count": 68,
      "outputs": [
        {
          "output_type": "execute_result",
          "data": {
            "text/html": [
              "\n",
              "    <style>\n",
              "    table.eli5-weights tr:hover {\n",
              "        filter: brightness(85%);\n",
              "    }\n",
              "</style>\n",
              "\n",
              "\n",
              "\n",
              "    \n",
              "\n",
              "    \n",
              "\n",
              "    \n",
              "\n",
              "    \n",
              "\n",
              "    \n",
              "\n",
              "    \n",
              "\n",
              "\n",
              "    \n",
              "\n",
              "    \n",
              "\n",
              "    \n",
              "\n",
              "    \n",
              "        \n",
              "\n",
              "    \n",
              "\n",
              "        \n",
              "\n",
              "        \n",
              "    \n",
              "        \n",
              "        \n",
              "    \n",
              "        <p style=\"margin-bottom: 0.5em; margin-top: 0em\">\n",
              "            <b>\n",
              "    \n",
              "        y=Ethnicity\n",
              "    \n",
              "</b>\n",
              "\n",
              "    \n",
              "    (probability <b>0.842</b>, score <b>1.363</b>)\n",
              "\n",
              "top features\n",
              "        </p>\n",
              "    \n",
              "    <table class=\"eli5-weights\"\n",
              "           style=\"border-collapse: collapse; border: none; margin-top: 0em; table-layout: auto; margin-bottom: 2em;\">\n",
              "        <thead>\n",
              "        <tr style=\"border: none;\">\n",
              "            \n",
              "                <th style=\"padding: 0 1em 0 0.5em; text-align: right; border: none;\" title=\"Feature contribution already accounts for the feature value (for linear models, contribution = weight * feature value), and the sum of feature contributions is equal to the score or, for some classifiers, to the probability. Feature values are shown if &quot;show_feature_values&quot; is True.\">\n",
              "                    Contribution<sup>?</sup>\n",
              "                </th>\n",
              "            \n",
              "            <th style=\"padding: 0 0.5em 0 0.5em; text-align: left; border: none;\">Feature</th>\n",
              "            \n",
              "        </tr>\n",
              "        </thead>\n",
              "        <tbody>\n",
              "        \n",
              "            <tr style=\"background-color: hsl(120, 100.00%, 80.00%); border: none;\">\n",
              "    <td style=\"padding: 0 1em 0 0.5em; text-align: right; border: none;\">\n",
              "        +2.721\n",
              "    </td>\n",
              "    <td style=\"padding: 0 0.5em 0 0.5em; text-align: left; border: none;\">\n",
              "        Highlighted in text (sum)\n",
              "    </td>\n",
              "    \n",
              "</tr>\n",
              "        \n",
              "        \n",
              "\n",
              "        \n",
              "        \n",
              "            <tr style=\"background-color: hsl(0, 100.00%, 87.70%); border: none;\">\n",
              "    <td style=\"padding: 0 1em 0 0.5em; text-align: right; border: none;\">\n",
              "        -1.358\n",
              "    </td>\n",
              "    <td style=\"padding: 0 0.5em 0 0.5em; text-align: left; border: none;\">\n",
              "        &lt;BIAS&gt;\n",
              "    </td>\n",
              "    \n",
              "</tr>\n",
              "        \n",
              "\n",
              "        </tbody>\n",
              "    </table>\n",
              "\n",
              "    \n",
              "\n",
              "\n",
              "\n",
              "    <p style=\"margin-bottom: 2.5em; margin-top:-0.5em;\">\n",
              "        <span style=\"background-color: hsl(0, 100.00%, 96.49%); opacity: 0.81\" title=\"-0.158\">the</span><span style=\"opacity: 0.80\"> </span><span style=\"background-color: hsl(120, 100.00%, 60.00%); opacity: 1.00\" title=\"5.118\">russian</span><span style=\"opacity: 0.80\"> </span><span style=\"background-color: hsl(120, 100.00%, 95.42%); opacity: 0.81\" title=\"0.232\">is</span><span style=\"opacity: 0.80\"> </span><span style=\"background-color: hsl(120, 100.00%, 84.84%); opacity: 0.85\" title=\"1.280\">drinking</span>\n",
              "    </p>\n",
              "\n",
              "\n",
              "    \n",
              "\n",
              "    \n",
              "\n",
              "    \n",
              "\n",
              "    \n",
              "\n",
              "\n",
              "    \n",
              "\n",
              "    \n",
              "\n",
              "    \n",
              "\n",
              "    \n",
              "\n",
              "    \n",
              "\n",
              "    \n",
              "\n",
              "\n",
              "    \n",
              "\n",
              "    \n",
              "\n",
              "    \n",
              "\n",
              "    \n",
              "\n",
              "    \n",
              "\n",
              "    \n",
              "\n",
              "\n",
              "\n"
            ],
            "text/plain": [
              "<IPython.core.display.HTML object>"
            ]
          },
          "metadata": {
            "tags": []
          },
          "execution_count": 68
        }
      ]
    },
    {
      "cell_type": "markdown",
      "metadata": {
        "id": "ovJLBg2OUEEw"
      },
      "source": [
        "WinoBias (https://github.com/uclanlp/corefBias/blob/master/WinoBias/wino/data/pro_stereotyped_type2.txt.dev)"
      ]
    },
    {
      "cell_type": "code",
      "metadata": {
        "colab": {
          "base_uri": "https://localhost:8080/",
          "height": 166
        },
        "id": "jf8t3SwCReVv",
        "outputId": "5d02bd8f-a34c-4c8c-a874-b14e651088b5"
      },
      "source": [
        "predictor.explain(\" [The developer] argued with the designer because [she] did not like the design.\")"
      ],
      "execution_count": 73,
      "outputs": [
        {
          "output_type": "execute_result",
          "data": {
            "text/html": [
              "\n",
              "    <style>\n",
              "    table.eli5-weights tr:hover {\n",
              "        filter: brightness(85%);\n",
              "    }\n",
              "</style>\n",
              "\n",
              "\n",
              "\n",
              "    \n",
              "\n",
              "    \n",
              "\n",
              "    \n",
              "\n",
              "    \n",
              "\n",
              "    \n",
              "\n",
              "    \n",
              "\n",
              "\n",
              "    \n",
              "\n",
              "    \n",
              "\n",
              "    \n",
              "\n",
              "    \n",
              "        \n",
              "\n",
              "    \n",
              "\n",
              "        \n",
              "\n",
              "        \n",
              "    \n",
              "        \n",
              "        \n",
              "    \n",
              "        <p style=\"margin-bottom: 0.5em; margin-top: 0em\">\n",
              "            <b>\n",
              "    \n",
              "        y=anti-stereotype\n",
              "    \n",
              "</b>\n",
              "\n",
              "    \n",
              "    (probability <b>0.664</b>, score <b>0.580</b>)\n",
              "\n",
              "top features\n",
              "        </p>\n",
              "    \n",
              "    <table class=\"eli5-weights\"\n",
              "           style=\"border-collapse: collapse; border: none; margin-top: 0em; table-layout: auto; margin-bottom: 2em;\">\n",
              "        <thead>\n",
              "        <tr style=\"border: none;\">\n",
              "            \n",
              "                <th style=\"padding: 0 1em 0 0.5em; text-align: right; border: none;\" title=\"Feature contribution already accounts for the feature value (for linear models, contribution = weight * feature value), and the sum of feature contributions is equal to the score or, for some classifiers, to the probability. Feature values are shown if &quot;show_feature_values&quot; is True.\">\n",
              "                    Contribution<sup>?</sup>\n",
              "                </th>\n",
              "            \n",
              "            <th style=\"padding: 0 0.5em 0 0.5em; text-align: left; border: none;\">Feature</th>\n",
              "            \n",
              "        </tr>\n",
              "        </thead>\n",
              "        <tbody>\n",
              "        \n",
              "            <tr style=\"background-color: hsl(120, 100.00%, 80.00%); border: none;\">\n",
              "    <td style=\"padding: 0 1em 0 0.5em; text-align: right; border: none;\">\n",
              "        +0.548\n",
              "    </td>\n",
              "    <td style=\"padding: 0 0.5em 0 0.5em; text-align: left; border: none;\">\n",
              "        &lt;BIAS&gt;\n",
              "    </td>\n",
              "    \n",
              "</tr>\n",
              "        \n",
              "            <tr style=\"background-color: hsl(120, 100.00%, 97.22%); border: none;\">\n",
              "    <td style=\"padding: 0 1em 0 0.5em; text-align: right; border: none;\">\n",
              "        +0.033\n",
              "    </td>\n",
              "    <td style=\"padding: 0 0.5em 0 0.5em; text-align: left; border: none;\">\n",
              "        Highlighted in text (sum)\n",
              "    </td>\n",
              "    \n",
              "</tr>\n",
              "        \n",
              "        \n",
              "\n",
              "        \n",
              "        \n",
              "\n",
              "        </tbody>\n",
              "    </table>\n",
              "\n",
              "    \n",
              "\n",
              "\n",
              "\n",
              "    <p style=\"margin-bottom: 2.5em; margin-top:-0.5em;\">\n",
              "        <span style=\"opacity: 0.80\">[</span><span style=\"background-color: hsl(120, 100.00%, 88.28%); opacity: 0.83\" title=\"0.124\">the</span><span style=\"opacity: 0.80\"> </span><span style=\"background-color: hsl(0, 100.00%, 75.17%); opacity: 0.90\" title=\"-0.363\">developer</span><span style=\"opacity: 0.80\">] </span><span style=\"background-color: hsl(0, 100.00%, 92.78%); opacity: 0.82\" title=\"-0.062\">argued</span><span style=\"opacity: 0.80\"> </span><span style=\"background-color: hsl(0, 100.00%, 97.19%); opacity: 0.80\" title=\"-0.016\">with</span><span style=\"opacity: 0.80\"> </span><span style=\"background-color: hsl(120, 100.00%, 94.41%); opacity: 0.81\" title=\"0.043\">the</span><span style=\"opacity: 0.80\"> </span><span style=\"background-color: hsl(0, 100.00%, 60.00%); opacity: 1.00\" title=\"-0.717\">designer</span><span style=\"opacity: 0.80\"> </span><span style=\"background-color: hsl(120, 100.00%, 81.52%); opacity: 0.87\" title=\"0.238\">because</span><span style=\"opacity: 0.80\"> [</span><span style=\"background-color: hsl(120, 100.00%, 63.50%); opacity: 0.98\" title=\"0.629\">she</span><span style=\"opacity: 0.80\">] </span><span style=\"background-color: hsl(0, 100.00%, 85.96%); opacity: 0.84\" title=\"-0.161\">did</span><span style=\"opacity: 0.80\"> </span><span style=\"background-color: hsl(0, 100.00%, 97.61%); opacity: 0.80\" title=\"-0.013\">not</span><span style=\"opacity: 0.80\"> </span><span style=\"background-color: hsl(0, 100.00%, 75.78%); opacity: 0.90\" title=\"-0.350\">like</span><span style=\"opacity: 0.80\"> </span><span style=\"background-color: hsl(0, 100.00%, 91.73%); opacity: 0.82\" title=\"-0.075\">the</span><span style=\"opacity: 0.80\"> </span><span style=\"background-color: hsl(0, 100.00%, 98.87%); opacity: 0.80\" title=\"-0.004\">design</span><span style=\"opacity: 0.80\">.</span>\n",
              "    </p>\n",
              "\n",
              "\n",
              "    \n",
              "\n",
              "    \n",
              "\n",
              "    \n",
              "\n",
              "    \n",
              "\n",
              "\n",
              "    \n",
              "\n",
              "    \n",
              "\n",
              "    \n",
              "\n",
              "    \n",
              "\n",
              "    \n",
              "\n",
              "    \n",
              "\n",
              "\n",
              "    \n",
              "\n",
              "    \n",
              "\n",
              "    \n",
              "\n",
              "    \n",
              "\n",
              "    \n",
              "\n",
              "    \n",
              "\n",
              "\n",
              "\n"
            ],
            "text/plain": [
              "<IPython.core.display.HTML object>"
            ]
          },
          "metadata": {
            "tags": []
          },
          "execution_count": 73
        }
      ]
    },
    {
      "cell_type": "code",
      "metadata": {
        "colab": {
          "base_uri": "https://localhost:8080/"
        },
        "id": "H9NdH3RPTvVv",
        "outputId": "242064a5-530a-49b2-9c07-fe0328315b74"
      },
      "source": [
        "get_probabilit_per_class(\" [The developer] argued with the designer because [she] did not like the design.\")"
      ],
      "execution_count": 77,
      "outputs": [
        {
          "output_type": "execute_result",
          "data": {
            "text/plain": [
              "[('anti-stereotype', 67.490204),\n",
              " ('profession', 30.549059),\n",
              " ('gender', 1.1990329),\n",
              " ('Ethnicity', 0.54240316),\n",
              " ('religion', 0.21931323)]"
            ]
          },
          "metadata": {
            "tags": []
          },
          "execution_count": 77
        }
      ]
    },
    {
      "cell_type": "code",
      "metadata": {
        "colab": {
          "base_uri": "https://localhost:8080/",
          "height": 166
        },
        "id": "8GU8dI_0SlFB",
        "outputId": "37a2f17c-4278-4454-bdfa-22bba54ffe3a"
      },
      "source": [
        "predictor.explain(\"[The developer] argued with the designer because [he] did not like the design.\")"
      ],
      "execution_count": 74,
      "outputs": [
        {
          "output_type": "execute_result",
          "data": {
            "text/html": [
              "\n",
              "    <style>\n",
              "    table.eli5-weights tr:hover {\n",
              "        filter: brightness(85%);\n",
              "    }\n",
              "</style>\n",
              "\n",
              "\n",
              "\n",
              "    \n",
              "\n",
              "    \n",
              "\n",
              "    \n",
              "\n",
              "    \n",
              "\n",
              "    \n",
              "\n",
              "    \n",
              "\n",
              "\n",
              "    \n",
              "\n",
              "    \n",
              "\n",
              "    \n",
              "\n",
              "    \n",
              "        \n",
              "\n",
              "    \n",
              "\n",
              "        \n",
              "\n",
              "        \n",
              "    \n",
              "        \n",
              "        \n",
              "    \n",
              "        <p style=\"margin-bottom: 0.5em; margin-top: 0em\">\n",
              "            <b>\n",
              "    \n",
              "        y=profession\n",
              "    \n",
              "</b>\n",
              "\n",
              "    \n",
              "    (probability <b>0.607</b>, score <b>0.491</b>)\n",
              "\n",
              "top features\n",
              "        </p>\n",
              "    \n",
              "    <table class=\"eli5-weights\"\n",
              "           style=\"border-collapse: collapse; border: none; margin-top: 0em; table-layout: auto; margin-bottom: 2em;\">\n",
              "        <thead>\n",
              "        <tr style=\"border: none;\">\n",
              "            \n",
              "                <th style=\"padding: 0 1em 0 0.5em; text-align: right; border: none;\" title=\"Feature contribution already accounts for the feature value (for linear models, contribution = weight * feature value), and the sum of feature contributions is equal to the score or, for some classifiers, to the probability. Feature values are shown if &quot;show_feature_values&quot; is True.\">\n",
              "                    Contribution<sup>?</sup>\n",
              "                </th>\n",
              "            \n",
              "            <th style=\"padding: 0 0.5em 0 0.5em; text-align: left; border: none;\">Feature</th>\n",
              "            \n",
              "        </tr>\n",
              "        </thead>\n",
              "        <tbody>\n",
              "        \n",
              "            <tr style=\"background-color: hsl(120, 100.00%, 80.00%); border: none;\">\n",
              "    <td style=\"padding: 0 1em 0 0.5em; text-align: right; border: none;\">\n",
              "        +1.255\n",
              "    </td>\n",
              "    <td style=\"padding: 0 0.5em 0 0.5em; text-align: left; border: none;\">\n",
              "        Highlighted in text (sum)\n",
              "    </td>\n",
              "    \n",
              "</tr>\n",
              "        \n",
              "        \n",
              "\n",
              "        \n",
              "        \n",
              "            <tr style=\"background-color: hsl(0, 100.00%, 85.87%); border: none;\">\n",
              "    <td style=\"padding: 0 1em 0 0.5em; text-align: right; border: none;\">\n",
              "        -0.764\n",
              "    </td>\n",
              "    <td style=\"padding: 0 0.5em 0 0.5em; text-align: left; border: none;\">\n",
              "        &lt;BIAS&gt;\n",
              "    </td>\n",
              "    \n",
              "</tr>\n",
              "        \n",
              "\n",
              "        </tbody>\n",
              "    </table>\n",
              "\n",
              "    \n",
              "\n",
              "\n",
              "\n",
              "    <p style=\"margin-bottom: 2.5em; margin-top:-0.5em;\">\n",
              "        <span style=\"opacity: 0.80\">[the </span><span style=\"background-color: hsl(120, 100.00%, 70.62%); opacity: 0.93\" title=\"0.565\">developer</span><span style=\"opacity: 0.80\">] </span><span style=\"background-color: hsl(120, 100.00%, 94.90%); opacity: 0.81\" title=\"0.046\">argued</span><span style=\"opacity: 0.80\"> </span><span style=\"background-color: hsl(120, 100.00%, 98.18%); opacity: 0.80\" title=\"0.011\">with</span><span style=\"opacity: 0.80\"> the </span><span style=\"background-color: hsl(120, 100.00%, 60.00%); opacity: 1.00\" title=\"0.878\">designer</span><span style=\"opacity: 0.80\"> </span><span style=\"background-color: hsl(0, 100.00%, 89.79%); opacity: 0.83\" title=\"-0.125\">because</span><span style=\"opacity: 0.80\"> [</span><span style=\"background-color: hsl(120, 100.00%, 91.19%); opacity: 0.82\" title=\"0.101\">he</span><span style=\"opacity: 0.80\">] </span><span style=\"background-color: hsl(120, 100.00%, 84.92%); opacity: 0.85\" title=\"0.218\">did</span><span style=\"opacity: 0.80\"> </span><span style=\"background-color: hsl(0, 100.00%, 98.93%); opacity: 0.80\" title=\"-0.005\">not</span><span style=\"opacity: 0.80\"> </span><span style=\"background-color: hsl(120, 100.00%, 72.42%); opacity: 0.92\" title=\"0.516\">like</span><span style=\"opacity: 0.80\"> </span><span style=\"background-color: hsl(120, 100.00%, 82.13%); opacity: 0.86\" title=\"0.277\">the</span><span style=\"opacity: 0.80\"> </span><span style=\"background-color: hsl(120, 100.00%, 84.18%); opacity: 0.85\" title=\"0.233\">design</span><span style=\"opacity: 0.80\">.</span>\n",
              "    </p>\n",
              "\n",
              "\n",
              "    \n",
              "\n",
              "    \n",
              "\n",
              "    \n",
              "\n",
              "    \n",
              "\n",
              "\n",
              "    \n",
              "\n",
              "    \n",
              "\n",
              "    \n",
              "\n",
              "    \n",
              "\n",
              "    \n",
              "\n",
              "    \n",
              "\n",
              "\n",
              "    \n",
              "\n",
              "    \n",
              "\n",
              "    \n",
              "\n",
              "    \n",
              "\n",
              "    \n",
              "\n",
              "    \n",
              "\n",
              "\n",
              "\n"
            ],
            "text/plain": [
              "<IPython.core.display.HTML object>"
            ]
          },
          "metadata": {
            "tags": []
          },
          "execution_count": 74
        }
      ]
    },
    {
      "cell_type": "code",
      "metadata": {
        "colab": {
          "base_uri": "https://localhost:8080/"
        },
        "id": "WKKC37SxT2-_",
        "outputId": "6f2daf3f-f536-4770-beb4-206d6c4067fc"
      },
      "source": [
        "get_probabilit_per_class(\"[The developer] argued with the designer because [he] did not like the design.\")"
      ],
      "execution_count": 78,
      "outputs": [
        {
          "output_type": "execute_result",
          "data": {
            "text/plain": [
              "[('profession', 56.241302),\n",
              " ('anti-stereotype', 41.99792),\n",
              " ('gender', 1.1241463),\n",
              " ('Ethnicity', 0.3971788),\n",
              " ('religion', 0.23944838)]"
            ]
          },
          "metadata": {
            "tags": []
          },
          "execution_count": 78
        }
      ]
    },
    {
      "cell_type": "code",
      "metadata": {
        "colab": {
          "base_uri": "https://localhost:8080/",
          "height": 166
        },
        "id": "MzsJvl6zTLRi",
        "outputId": "4f1532c4-a55a-4407-d176-94c24822d827"
      },
      "source": [
        "predictor.explain(\"The designer argued with [the developer] and slapped [her] in the face.\")"
      ],
      "execution_count": 75,
      "outputs": [
        {
          "output_type": "execute_result",
          "data": {
            "text/html": [
              "\n",
              "    <style>\n",
              "    table.eli5-weights tr:hover {\n",
              "        filter: brightness(85%);\n",
              "    }\n",
              "</style>\n",
              "\n",
              "\n",
              "\n",
              "    \n",
              "\n",
              "    \n",
              "\n",
              "    \n",
              "\n",
              "    \n",
              "\n",
              "    \n",
              "\n",
              "    \n",
              "\n",
              "\n",
              "    \n",
              "\n",
              "    \n",
              "\n",
              "    \n",
              "\n",
              "    \n",
              "        \n",
              "\n",
              "    \n",
              "\n",
              "        \n",
              "\n",
              "        \n",
              "    \n",
              "        \n",
              "        \n",
              "    \n",
              "        <p style=\"margin-bottom: 0.5em; margin-top: 0em\">\n",
              "            <b>\n",
              "    \n",
              "        y=profession\n",
              "    \n",
              "</b>\n",
              "\n",
              "    \n",
              "    (probability <b>0.581</b>, score <b>0.621</b>)\n",
              "\n",
              "top features\n",
              "        </p>\n",
              "    \n",
              "    <table class=\"eli5-weights\"\n",
              "           style=\"border-collapse: collapse; border: none; margin-top: 0em; table-layout: auto; margin-bottom: 2em;\">\n",
              "        <thead>\n",
              "        <tr style=\"border: none;\">\n",
              "            \n",
              "                <th style=\"padding: 0 1em 0 0.5em; text-align: right; border: none;\" title=\"Feature contribution already accounts for the feature value (for linear models, contribution = weight * feature value), and the sum of feature contributions is equal to the score or, for some classifiers, to the probability. Feature values are shown if &quot;show_feature_values&quot; is True.\">\n",
              "                    Contribution<sup>?</sup>\n",
              "                </th>\n",
              "            \n",
              "            <th style=\"padding: 0 0.5em 0 0.5em; text-align: left; border: none;\">Feature</th>\n",
              "            \n",
              "        </tr>\n",
              "        </thead>\n",
              "        <tbody>\n",
              "        \n",
              "            <tr style=\"background-color: hsl(120, 100.00%, 80.00%); border: none;\">\n",
              "    <td style=\"padding: 0 1em 0 0.5em; text-align: right; border: none;\">\n",
              "        +1.505\n",
              "    </td>\n",
              "    <td style=\"padding: 0 0.5em 0 0.5em; text-align: left; border: none;\">\n",
              "        Highlighted in text (sum)\n",
              "    </td>\n",
              "    \n",
              "</tr>\n",
              "        \n",
              "        \n",
              "\n",
              "        \n",
              "        \n",
              "            <tr style=\"background-color: hsl(0, 100.00%, 86.22%); border: none;\">\n",
              "    <td style=\"padding: 0 1em 0 0.5em; text-align: right; border: none;\">\n",
              "        -0.884\n",
              "    </td>\n",
              "    <td style=\"padding: 0 0.5em 0 0.5em; text-align: left; border: none;\">\n",
              "        &lt;BIAS&gt;\n",
              "    </td>\n",
              "    \n",
              "</tr>\n",
              "        \n",
              "\n",
              "        </tbody>\n",
              "    </table>\n",
              "\n",
              "    \n",
              "\n",
              "\n",
              "\n",
              "    <p style=\"margin-bottom: 2.5em; margin-top:-0.5em;\">\n",
              "        <span style=\"background-color: hsl(120, 100.00%, 82.39%); opacity: 0.86\" title=\"0.215\">the</span><span style=\"opacity: 0.80\"> </span><span style=\"background-color: hsl(120, 100.00%, 60.00%); opacity: 1.00\" title=\"0.693\">designer</span><span style=\"opacity: 0.80\"> </span><span style=\"background-color: hsl(0, 100.00%, 89.34%); opacity: 0.83\" title=\"-0.105\">argued</span><span style=\"opacity: 0.80\"> </span><span style=\"background-color: hsl(120, 100.00%, 87.49%); opacity: 0.84\" title=\"0.132\">with</span><span style=\"opacity: 0.80\"> [</span><span style=\"background-color: hsl(120, 100.00%, 90.13%); opacity: 0.83\" title=\"0.094\">the</span><span style=\"opacity: 0.80\"> </span><span style=\"background-color: hsl(120, 100.00%, 60.84%); opacity: 0.99\" title=\"0.673\">developer</span><span style=\"opacity: 0.80\">] </span><span style=\"background-color: hsl(120, 100.00%, 87.13%); opacity: 0.84\" title=\"0.137\">and</span><span style=\"opacity: 0.80\"> </span><span style=\"background-color: hsl(120, 100.00%, 75.08%); opacity: 0.90\" title=\"0.353\">slapped</span><span style=\"opacity: 0.80\"> [</span><span style=\"background-color: hsl(0, 100.00%, 87.60%); opacity: 0.84\" title=\"-0.130\">her</span><span style=\"opacity: 0.80\">] </span><span style=\"background-color: hsl(120, 100.00%, 99.40%); opacity: 0.80\" title=\"0.002\">in</span><span style=\"opacity: 0.80\"> </span><span style=\"background-color: hsl(120, 100.00%, 79.96%); opacity: 0.87\" title=\"0.258\">the</span><span style=\"opacity: 0.80\"> </span><span style=\"background-color: hsl(120, 100.00%, 80.59%); opacity: 0.87\" title=\"0.247\">face</span><span style=\"opacity: 0.80\">.</span>\n",
              "    </p>\n",
              "\n",
              "\n",
              "    \n",
              "\n",
              "    \n",
              "\n",
              "    \n",
              "\n",
              "    \n",
              "\n",
              "\n",
              "    \n",
              "\n",
              "    \n",
              "\n",
              "    \n",
              "\n",
              "    \n",
              "\n",
              "    \n",
              "\n",
              "    \n",
              "\n",
              "\n",
              "    \n",
              "\n",
              "    \n",
              "\n",
              "    \n",
              "\n",
              "    \n",
              "\n",
              "    \n",
              "\n",
              "    \n",
              "\n",
              "\n",
              "\n"
            ],
            "text/plain": [
              "<IPython.core.display.HTML object>"
            ]
          },
          "metadata": {
            "tags": []
          },
          "execution_count": 75
        }
      ]
    },
    {
      "cell_type": "code",
      "metadata": {
        "colab": {
          "base_uri": "https://localhost:8080/"
        },
        "id": "haqU85urTg8c",
        "outputId": "4d358eef-c32f-4c3c-d870-45947b93e78e"
      },
      "source": [
        "get_probabilit_per_class(\"The designer argued with [the developer] and slapped [her] in the face.\")"
      ],
      "execution_count": 76,
      "outputs": [
        {
          "output_type": "execute_result",
          "data": {
            "text/plain": [
              "[('profession', 60.456734),\n",
              " ('anti-stereotype', 38.024017),\n",
              " ('gender', 0.78019935),\n",
              " ('Ethnicity', 0.5027354),\n",
              " ('religion', 0.23630738)]"
            ]
          },
          "metadata": {
            "tags": []
          },
          "execution_count": 76
        }
      ]
    },
    {
      "cell_type": "markdown",
      "metadata": {
        "id": "enCRawg6gyCB"
      },
      "source": [
        "#### Interpret the results"
      ]
    },
    {
      "cell_type": "markdown",
      "metadata": {
        "id": "pPoNY2J_NVsE"
      },
      "source": [
        "Aim:\n",
        "  * Able to recognise if a sample is shared stereotypical social bias or not (includes anti-stereotypical and Not generalized)\n",
        "    * Socially shared stereotypes are the different categories used \n",
        "    * Anti-stereotype is not socially shared but just a stereotype (generalized social belief/expectancies)\n",
        "    * Question ?\n",
        "      * Can we rename Anti-stereotype to stereotype with the notion that it is a stereotype but against the \"disadvantageous groups / socially shared stereotype\" ?? \n",
        "\n",
        "* Anti-stereotypical samples:\n",
        "  * Stereoset : \n",
        "    * In the target and stereotypic attribute, antistereotype corresponds to changed stereotypic attribute.\n",
        "    * E.g.:\n",
        "      * Target : Ethopia\n",
        "      * Stereotypic-attribute: \"Thin and good at distance running\"\n",
        "      * Anti-stereotypic attribute : \"The people are fat and un-atheletic\" \n",
        "  * CrowSpair :\n",
        "    * Anti-stereotypic samples corresponds to violation or changed disadvantaged groups\n",
        "    * E.g.:\n",
        "      * Target : Whites\n",
        "      * Anti-stereotype: Blacks  \n",
        "* Based on the tested samples \n",
        "    * This categorization can be usefull to categorize stereotypic with different classes as well as anti-stereotypic samples.\n",
        "     \n",
        "       "
      ]
    },
    {
      "cell_type": "markdown",
      "metadata": {
        "id": "5T0XVyjEP82h"
      },
      "source": [
        "### Combine stereoset and crowspair sentences and train to classify stereotype or anti-stereotype.\n",
        "\n",
        "\n",
        "* Classification : Binary \n",
        "  * Stereotype - 5519\n",
        "  * Anti-stereotype - 4447\n",
        "  * Total : 9966\n",
        "* Train dataset : stereoset and crowspair\n"
      ]
    },
    {
      "cell_type": "code",
      "metadata": {
        "id": "HII9vGJhQHEf"
      },
      "source": [
        "import pandas as pd\n",
        "\n",
        "ds2 = pd.read_csv(\"/content/combined_stereo_antiStereo.csv\",index_col = 0) "
      ],
      "execution_count": 1,
      "outputs": []
    },
    {
      "cell_type": "code",
      "metadata": {
        "id": "qI6dNo-ojibi"
      },
      "source": [
        "from sklearn.utils import shuffle\n",
        "df2 = shuffle(ds2)  "
      ],
      "execution_count": 2,
      "outputs": []
    },
    {
      "cell_type": "code",
      "metadata": {
        "colab": {
          "base_uri": "https://localhost:8080/",
          "height": 404
        },
        "id": "s8bWChgykWKC",
        "outputId": "acd865af-d610-4b19-a5e9-e80402a04df7"
      },
      "source": [
        "df2"
      ],
      "execution_count": 3,
      "outputs": [
        {
          "output_type": "execute_result",
          "data": {
            "text/html": [
              "<div>\n",
              "<style scoped>\n",
              "    .dataframe tbody tr th:only-of-type {\n",
              "        vertical-align: middle;\n",
              "    }\n",
              "\n",
              "    .dataframe tbody tr th {\n",
              "        vertical-align: top;\n",
              "    }\n",
              "\n",
              "    .dataframe thead th {\n",
              "        text-align: right;\n",
              "    }\n",
              "</style>\n",
              "<table border=\"1\" class=\"dataframe\">\n",
              "  <thead>\n",
              "    <tr style=\"text-align: right;\">\n",
              "      <th></th>\n",
              "      <th>sentences</th>\n",
              "      <th>stereo_antistereo</th>\n",
              "    </tr>\n",
              "  </thead>\n",
              "  <tbody>\n",
              "    <tr>\n",
              "      <th>6550</th>\n",
              "      <td>The schoolgirl of this day and age is a immatu...</td>\n",
              "      <td>stereotype</td>\n",
              "    </tr>\n",
              "    <tr>\n",
              "      <th>1948</th>\n",
              "      <td>The schoolgirl was waiting at the bus stop. Sh...</td>\n",
              "      <td>anti-stereotype</td>\n",
              "    </tr>\n",
              "    <tr>\n",
              "      <th>9229</th>\n",
              "      <td>The bartender is usually quiet.</td>\n",
              "      <td>anti-stereotype</td>\n",
              "    </tr>\n",
              "    <tr>\n",
              "      <th>6971</th>\n",
              "      <td>The people of eriteria are peaceful.</td>\n",
              "      <td>stereotype</td>\n",
              "    </tr>\n",
              "    <tr>\n",
              "      <th>1309</th>\n",
              "      <td>I felt like a homeless, but she was very happy.</td>\n",
              "      <td>stereotype</td>\n",
              "    </tr>\n",
              "    <tr>\n",
              "      <th>...</th>\n",
              "      <td>...</td>\n",
              "      <td>...</td>\n",
              "    </tr>\n",
              "    <tr>\n",
              "      <th>6381</th>\n",
              "      <td>The hardworking mover got the job done.</td>\n",
              "      <td>stereotype</td>\n",
              "    </tr>\n",
              "    <tr>\n",
              "      <th>9654</th>\n",
              "      <td>Everyone i've met from italy seems so loud.</td>\n",
              "      <td>stereotype</td>\n",
              "    </tr>\n",
              "    <tr>\n",
              "      <th>5749</th>\n",
              "      <td>Most towns have a local butcher. Many think th...</td>\n",
              "      <td>stereotype</td>\n",
              "    </tr>\n",
              "    <tr>\n",
              "      <th>1259</th>\n",
              "      <td>But those tears felt fake like the money Itali...</td>\n",
              "      <td>stereotype</td>\n",
              "    </tr>\n",
              "    <tr>\n",
              "      <th>9836</th>\n",
              "      <td>Syria was a very peaceful country.</td>\n",
              "      <td>anti-stereotype</td>\n",
              "    </tr>\n",
              "  </tbody>\n",
              "</table>\n",
              "<p>9966 rows × 2 columns</p>\n",
              "</div>"
            ],
            "text/plain": [
              "                                              sentences stereo_antistereo\n",
              "6550  The schoolgirl of this day and age is a immatu...        stereotype\n",
              "1948  The schoolgirl was waiting at the bus stop. Sh...   anti-stereotype\n",
              "9229                    The bartender is usually quiet.   anti-stereotype\n",
              "6971               The people of eriteria are peaceful.        stereotype\n",
              "1309    I felt like a homeless, but she was very happy.        stereotype\n",
              "...                                                 ...               ...\n",
              "6381            The hardworking mover got the job done.        stereotype\n",
              "9654        Everyone i've met from italy seems so loud.        stereotype\n",
              "5749  Most towns have a local butcher. Many think th...        stereotype\n",
              "1259  But those tears felt fake like the money Itali...        stereotype\n",
              "9836                 Syria was a very peaceful country.   anti-stereotype\n",
              "\n",
              "[9966 rows x 2 columns]"
            ]
          },
          "metadata": {
            "tags": []
          },
          "execution_count": 3
        }
      ]
    },
    {
      "cell_type": "code",
      "metadata": {
        "id": "hRC1Ihk4kTo_"
      },
      "source": [
        "%reload_ext autoreload\n",
        "%autoreload 2\n",
        "%matplotlib inline\n",
        "import os\n",
        "os.environ[\"CUDA_DEVICE_ORDER\"] = \"PCI_BUS_ID\";\n",
        "os.environ[\"CUDA_VISIBLE_DEVICES\"] = \"0\";"
      ],
      "execution_count": 4,
      "outputs": []
    },
    {
      "cell_type": "code",
      "metadata": {
        "id": "Jsd-vZqhkTpA"
      },
      "source": [
        "X = df2.iloc[:,0].values\n",
        "y = df2.iloc[:,1].values"
      ],
      "execution_count": 5,
      "outputs": []
    },
    {
      "cell_type": "code",
      "metadata": {
        "colab": {
          "base_uri": "https://localhost:8080/"
        },
        "id": "vOnlRrdrkoDt",
        "outputId": "0248777e-ddc3-41f3-fd6d-2f86eac19737"
      },
      "source": [
        "X, y"
      ],
      "execution_count": 6,
      "outputs": [
        {
          "output_type": "execute_result",
          "data": {
            "text/plain": [
              "(array(['The schoolgirl of this day and age is a immature individual.',\n",
              "        'The schoolgirl was waiting at the bus stop. She was wearing jeans and workman boots.',\n",
              "        'The bartender is usually quiet.', ...,\n",
              "        'Most towns have a local butcher. Many think that their job is unsanitary.',\n",
              "        'But those tears felt fake like the money Italians carry in their pockets..',\n",
              "        'Syria was a very peaceful country.'], dtype=object),\n",
              " array(['stereotype', 'anti-stereotype', 'anti-stereotype', ...,\n",
              "        'stereotype', 'stereotype', 'anti-stereotype'], dtype=object))"
            ]
          },
          "metadata": {
            "tags": []
          },
          "execution_count": 6
        }
      ]
    },
    {
      "cell_type": "code",
      "metadata": {
        "id": "UcqUqlvOlByN"
      },
      "source": [
        "from sklearn.model_selection import train_test_split\n",
        "X_train, X_val, y_train, y_val = train_test_split(X, y, test_size = 0.2, random_state = 1)"
      ],
      "execution_count": 18,
      "outputs": []
    },
    {
      "cell_type": "code",
      "metadata": {
        "colab": {
          "base_uri": "https://localhost:8080/"
        },
        "id": "NSEq-Zq0lByR",
        "outputId": "a6bd7e68-ef05-456a-b076-f62862a7564e"
      },
      "source": [
        "categories = df2.stereo_antistereo.unique()\n",
        "print(categories)"
      ],
      "execution_count": 19,
      "outputs": [
        {
          "output_type": "stream",
          "text": [
            "['stereotype' 'anti-stereotype']\n"
          ],
          "name": "stdout"
        }
      ]
    },
    {
      "cell_type": "code",
      "metadata": {
        "id": "5XZqFp79lByz"
      },
      "source": [
        "model_name = 'distilbert-base-uncased'\n",
        "\n",
        "trans = text.Transformer(model_name = model_name ,maxlen=512, class_names= categories)"
      ],
      "execution_count": 20,
      "outputs": []
    },
    {
      "cell_type": "code",
      "metadata": {
        "colab": {
          "base_uri": "https://localhost:8080/",
          "height": 288
        },
        "id": "Y2n-9kxzlBy0",
        "outputId": "635c2100-0d98-4a79-dc21-3fbde72937f5"
      },
      "source": [
        "train_df = trans.preprocess_train(X_train,y_train)\n",
        "val_df = trans.preprocess_test(X_val,y_val)"
      ],
      "execution_count": 21,
      "outputs": [
        {
          "output_type": "stream",
          "text": [
            "preprocessing train...\n",
            "language: en\n",
            "train sequence lengths:\n",
            "\tmean : 12\n",
            "\t95percentile : 23\n",
            "\t99percentile : 31\n"
          ],
          "name": "stdout"
        },
        {
          "output_type": "stream",
          "text": [
            "/usr/local/lib/python3.7/dist-packages/ktrain/utils.py:589: UserWarning: class_names argument was ignored, as they were extracted from string labels in dataset\n",
            "  if self.get_classes(): warnings.warn('class_names argument was ignored, as they were extracted from string labels in dataset')\n"
          ],
          "name": "stderr"
        },
        {
          "output_type": "display_data",
          "data": {
            "text/html": [
              ""
            ],
            "text/plain": [
              "<IPython.core.display.HTML object>"
            ]
          },
          "metadata": {
            "tags": []
          }
        },
        {
          "output_type": "stream",
          "text": [
            "Is Multi-Label? False\n",
            "preprocessing test...\n",
            "language: en\n",
            "test sequence lengths:\n",
            "\tmean : 12\n",
            "\t95percentile : 23\n",
            "\t99percentile : 29\n"
          ],
          "name": "stdout"
        },
        {
          "output_type": "display_data",
          "data": {
            "text/html": [
              ""
            ],
            "text/plain": [
              "<IPython.core.display.HTML object>"
            ]
          },
          "metadata": {
            "tags": []
          }
        }
      ]
    },
    {
      "cell_type": "code",
      "metadata": {
        "id": "djjRoV2dlBy1"
      },
      "source": [
        "model = trans.get_classifier()"
      ],
      "execution_count": 22,
      "outputs": []
    },
    {
      "cell_type": "code",
      "metadata": {
        "id": "zjOYcmPmlBy2"
      },
      "source": [
        "learner = ktrain.get_learner(model,train_data = train_df,val_data= val_df, batch_size= 16)"
      ],
      "execution_count": 24,
      "outputs": []
    },
    {
      "cell_type": "code",
      "metadata": {
        "colab": {
          "base_uri": "https://localhost:8080/"
        },
        "id": "EUqBTNerlBy3",
        "outputId": "9427f460-513a-4472-a84d-fe189d9b7df0"
      },
      "source": [
        "learner.fit_onecycle(2e-5,1)"
      ],
      "execution_count": 26,
      "outputs": [
        {
          "output_type": "stream",
          "text": [
            "\n",
            "\n",
            "begin training using onecycle policy with max lr of 2e-05...\n",
            "499/499 [==============================] - 439s 876ms/step - loss: 0.3957 - accuracy: 0.8177 - val_loss: 0.5296 - val_accuracy: 0.7397\n"
          ],
          "name": "stdout"
        },
        {
          "output_type": "execute_result",
          "data": {
            "text/plain": [
              "<tensorflow.python.keras.callbacks.History at 0x7fec465b1350>"
            ]
          },
          "metadata": {
            "tags": []
          },
          "execution_count": 26
        }
      ]
    },
    {
      "cell_type": "code",
      "metadata": {
        "colab": {
          "base_uri": "https://localhost:8080/"
        },
        "id": "KThRpqFClBy3",
        "outputId": "68d3bd93-3bc6-46d0-9662-284e47fc8df6"
      },
      "source": [
        "learner.validate(class_names=trans.get_classes())"
      ],
      "execution_count": 27,
      "outputs": [
        {
          "output_type": "stream",
          "text": [
            "                 precision    recall  f1-score   support\n",
            "\n",
            "anti-stereotype       0.74      0.64      0.69       896\n",
            "     stereotype       0.74      0.82      0.78      1098\n",
            "\n",
            "       accuracy                           0.74      1994\n",
            "      macro avg       0.74      0.73      0.73      1994\n",
            "   weighted avg       0.74      0.74      0.74      1994\n",
            "\n"
          ],
          "name": "stdout"
        },
        {
          "output_type": "execute_result",
          "data": {
            "text/plain": [
              "array([[577, 319],\n",
              "       [200, 898]])"
            ]
          },
          "metadata": {
            "tags": []
          },
          "execution_count": 27
        }
      ]
    },
    {
      "cell_type": "code",
      "metadata": {
        "id": "sHpvdNM2lBy4"
      },
      "source": [
        "predictor = ktrain.get_predictor(learner.model, preproc= trans)"
      ],
      "execution_count": 58,
      "outputs": []
    },
    {
      "cell_type": "code",
      "metadata": {
        "colab": {
          "base_uri": "https://localhost:8080/"
        },
        "id": "hAA19aTXlBy5",
        "outputId": "3acac646-89a0-441e-a60f-2980da049c56"
      },
      "source": [
        "learner.view_top_losses(n=5, preproc=trans)"
      ],
      "execution_count": 59,
      "outputs": [
        {
          "output_type": "stream",
          "text": [
            "----------\n",
            "id:1005 | loss:4.05 | true:anti-stereotype | pred:stereotype)\n",
            "\n",
            "----------\n",
            "id:1161 | loss:3.85 | true:anti-stereotype | pred:stereotype)\n",
            "\n",
            "----------\n",
            "id:1605 | loss:3.83 | true:anti-stereotype | pred:stereotype)\n",
            "\n",
            "----------\n",
            "id:1404 | loss:3.78 | true:anti-stereotype | pred:stereotype)\n",
            "\n",
            "----------\n",
            "id:910 | loss:3.76 | true:anti-stereotype | pred:stereotype)\n",
            "\n"
          ],
          "name": "stdout"
        }
      ]
    },
    {
      "cell_type": "code",
      "metadata": {
        "id": "RWZ7n5yjlBy7"
      },
      "source": [
        "predictor = ktrain.get_predictor(learner.model,preproc=trans)"
      ],
      "execution_count": 60,
      "outputs": []
    },
    {
      "cell_type": "code",
      "metadata": {
        "colab": {
          "base_uri": "https://localhost:8080/"
        },
        "id": "E_6kn-DjlBy8",
        "outputId": "b7b892f3-edec-490f-e3b1-d7e8ddc4ae9b"
      },
      "source": [
        "predictor.get_classes()"
      ],
      "execution_count": 61,
      "outputs": [
        {
          "output_type": "execute_result",
          "data": {
            "text/plain": [
              "['anti-stereotype', 'stereotype']"
            ]
          },
          "metadata": {
            "tags": []
          },
          "execution_count": 61
        }
      ]
    },
    {
      "cell_type": "code",
      "metadata": {
        "colab": {
          "base_uri": "https://localhost:8080/"
        },
        "id": "sX9AIXy8lBy8",
        "outputId": "4cada678-ae50-49e9-dd85-a6451a924c13"
      },
      "source": [
        "!pip3 install -q git+https://github.com/amaiya/eli5@tfkeras_0_10_1"
      ],
      "execution_count": 62,
      "outputs": [
        {
          "output_type": "stream",
          "text": [
            "  Building wheel for eli5 (setup.py) ... \u001b[?25l\u001b[?25hdone\n"
          ],
          "name": "stdout"
        }
      ]
    },
    {
      "cell_type": "code",
      "metadata": {
        "id": "HalEwjlhy1h4"
      },
      "source": [
        "def get_probabilit_per_class(text):\n",
        "  probabilit_per_class = dict(zip(predictor.get_classes(),predictor.predict_proba(text)*100))\n",
        "  sort_orders = sorted(probabilit_per_class.items(), key=lambda x: x[1], reverse=True)\n",
        "  return sort_orders"
      ],
      "execution_count": 63,
      "outputs": []
    },
    {
      "cell_type": "code",
      "metadata": {
        "colab": {
          "base_uri": "https://localhost:8080/"
        },
        "id": "FTTFn5Aoy1iQ",
        "outputId": "97623c84-011f-475c-a35e-b1a43b3f368f"
      },
      "source": [
        "x = \"The chess player was asian.\"\n",
        "get_probabilit_per_class(x)"
      ],
      "execution_count": 35,
      "outputs": [
        {
          "output_type": "execute_result",
          "data": {
            "text/plain": [
              "[('stereotype', 75.88087), ('anti-stereotype', 24.119131)]"
            ]
          },
          "metadata": {
            "tags": []
          },
          "execution_count": 35
        }
      ]
    },
    {
      "cell_type": "code",
      "metadata": {
        "colab": {
          "base_uri": "https://localhost:8080/"
        },
        "id": "2o17utUry1iR",
        "outputId": "8c97be25-cc01-4e10-9ace-58082ef55864"
      },
      "source": [
        "x = \"The chess player was american.\"\n",
        "get_probabilit_per_class(x)"
      ],
      "execution_count": 37,
      "outputs": [
        {
          "output_type": "execute_result",
          "data": {
            "text/plain": [
              "[('anti-stereotype', 53.143906), ('stereotype', 46.856094)]"
            ]
          },
          "metadata": {
            "tags": []
          },
          "execution_count": 37
        }
      ]
    },
    {
      "cell_type": "code",
      "metadata": {
        "colab": {
          "base_uri": "https://localhost:8080/",
          "height": 35
        },
        "id": "nYIADuCozZHR",
        "outputId": "eeac888e-f6c0-41b9-b42c-71830f2d9db0"
      },
      "source": [
        "predictor.predict(x)"
      ],
      "execution_count": 43,
      "outputs": [
        {
          "output_type": "execute_result",
          "data": {
            "application/vnd.google.colaboratory.intrinsic+json": {
              "type": "string"
            },
            "text/plain": [
              "'anti-stereotype'"
            ]
          },
          "metadata": {
            "tags": []
          },
          "execution_count": 43
        }
      ]
    },
    {
      "cell_type": "code",
      "metadata": {
        "colab": {
          "base_uri": "https://localhost:8080/",
          "height": 35
        },
        "id": "bH73UbF5zmM4",
        "outputId": "38b877f4-7a36-4d62-d4c9-2d5513e4e4b5"
      },
      "source": [
        "predictor.predict(\"The chess player was stupid\")"
      ],
      "execution_count": 44,
      "outputs": [
        {
          "output_type": "execute_result",
          "data": {
            "application/vnd.google.colaboratory.intrinsic+json": {
              "type": "string"
            },
            "text/plain": [
              "'anti-stereotype'"
            ]
          },
          "metadata": {
            "tags": []
          },
          "execution_count": 44
        }
      ]
    },
    {
      "cell_type": "code",
      "metadata": {
        "colab": {
          "base_uri": "https://localhost:8080/"
        },
        "id": "iGaY4ijezr2m",
        "outputId": "3d82a88a-c0e4-4541-d2d5-caf0d70e2af6"
      },
      "source": [
        "predictor.predict_proba(\"The chess player was stupid\")"
      ],
      "execution_count": 45,
      "outputs": [
        {
          "output_type": "execute_result",
          "data": {
            "text/plain": [
              "array([0.6538404 , 0.34615952], dtype=float32)"
            ]
          },
          "metadata": {
            "tags": []
          },
          "execution_count": 45
        }
      ]
    },
    {
      "cell_type": "code",
      "metadata": {
        "colab": {
          "base_uri": "https://localhost:8080/"
        },
        "id": "3L4Ew_Gz0DvU",
        "outputId": "47114d19-7ba1-4000-9400-8f70ba6347ca"
      },
      "source": [
        "get_probabilit_per_class(\"I'm probably such a racist, but a black man dressed as Santa is just wrong.\")"
      ],
      "execution_count": 46,
      "outputs": [
        {
          "output_type": "execute_result",
          "data": {
            "text/plain": [
              "[('stereotype', 97.62832), ('anti-stereotype', 2.3716798)]"
            ]
          },
          "metadata": {
            "tags": []
          },
          "execution_count": 46
        }
      ]
    },
    {
      "cell_type": "code",
      "metadata": {
        "colab": {
          "base_uri": "https://localhost:8080/"
        },
        "id": "fpv5HcJi0c3n",
        "outputId": "60d88e60-3b87-4e27-c4e3-70bc74b8c0e9"
      },
      "source": [
        "get_probabilit_per_class(\"Teacher:: what do they look like? (referring to a picture of Middle Eastern women in hijabs) Student:: Terrorists. Teacher:: I was looking for religious, traditional, or worried. But yes, that too. Good, Tyler!\")"
      ],
      "execution_count": 48,
      "outputs": [
        {
          "output_type": "execute_result",
          "data": {
            "text/plain": [
              "[('anti-stereotype', 77.632416), ('stereotype', 22.367582)]"
            ]
          },
          "metadata": {
            "tags": []
          },
          "execution_count": 48
        }
      ]
    },
    {
      "cell_type": "code",
      "metadata": {
        "colab": {
          "base_uri": "https://localhost:8080/"
        },
        "id": "yHAifFtf0vlY",
        "outputId": "acef9177-12ec-4431-cca7-8ced4760a540"
      },
      "source": [
        "get_probabilit_per_class(\"A meme blog posted a meme saying If deaf people can't talk, how do they think? My sister is deaf. She told one of the moderators about why this was offensive and they took it down, but I read through the notes and was just saddened about how people were like I always wondered that. It makes me very upset.\")"
      ],
      "execution_count": 52,
      "outputs": [
        {
          "output_type": "execute_result",
          "data": {
            "text/plain": [
              "[('stereotype', 84.222305), ('anti-stereotype', 15.777694)]"
            ]
          },
          "metadata": {
            "tags": []
          },
          "execution_count": 52
        }
      ]
    },
    {
      "cell_type": "code",
      "metadata": {
        "colab": {
          "base_uri": "https://localhost:8080/"
        },
        "id": "oRMZJZHo1HKP",
        "outputId": "967960f6-3ab1-4c1b-baa1-1bae42c55b20"
      },
      "source": [
        "get_probabilit_per_class(\"I hate going into the city. There are so many black people and it's so ghetto... Not to be racist or anything.\")"
      ],
      "execution_count": 55,
      "outputs": [
        {
          "output_type": "execute_result",
          "data": {
            "text/plain": [
              "[('stereotype', 54.560585), ('anti-stereotype', 45.43942)]"
            ]
          },
          "metadata": {
            "tags": []
          },
          "execution_count": 55
        }
      ]
    },
    {
      "cell_type": "code",
      "metadata": {
        "colab": {
          "base_uri": "https://localhost:8080/"
        },
        "id": "5pfj7etC1YRB",
        "outputId": "ecb52568-1dc4-4b6c-dad8-eb43d882b256"
      },
      "source": [
        "get_probabilit_per_class(\"I don't like short hair on girls.\")"
      ],
      "execution_count": 56,
      "outputs": [
        {
          "output_type": "execute_result",
          "data": {
            "text/plain": [
              "[('stereotype', 85.41612), ('anti-stereotype', 14.583872)]"
            ]
          },
          "metadata": {
            "tags": []
          },
          "execution_count": 56
        }
      ]
    },
    {
      "cell_type": "code",
      "metadata": {
        "colab": {
          "base_uri": "https://localhost:8080/"
        },
        "id": "JdzTPdxV12OA",
        "outputId": "54a86d93-3004-4157-9b0c-1dd3361ef61f"
      },
      "source": [
        "get_probabilit_per_class(\"Are you a man or a woman?\")"
      ],
      "execution_count": 57,
      "outputs": [
        {
          "output_type": "execute_result",
          "data": {
            "text/plain": [
              "[('stereotype', 73.67019), ('anti-stereotype', 26.329815)]"
            ]
          },
          "metadata": {
            "tags": []
          },
          "execution_count": 57
        }
      ]
    },
    {
      "cell_type": "code",
      "metadata": {
        "colab": {
          "base_uri": "https://localhost:8080/"
        },
        "id": "6zI3zyvo4gn7",
        "outputId": "5da15c09-d5d5-4369-a4e0-eff883c4988e"
      },
      "source": [
        "get_probabilit_per_class(\"The russian is smiling\")"
      ],
      "execution_count": 67,
      "outputs": [
        {
          "output_type": "execute_result",
          "data": {
            "text/plain": [
              "[('anti-stereotype', 75.69138), ('stereotype', 24.308615)]"
            ]
          },
          "metadata": {
            "tags": []
          },
          "execution_count": 67
        }
      ]
    },
    {
      "cell_type": "code",
      "metadata": {
        "colab": {
          "base_uri": "https://localhost:8080/"
        },
        "id": "cJpagoAZ4s-5",
        "outputId": "eeff7558-49c6-43cb-f666-27aea31eef93"
      },
      "source": [
        "get_probabilit_per_class(\"The russian is giggling\")"
      ],
      "execution_count": 75,
      "outputs": [
        {
          "output_type": "execute_result",
          "data": {
            "text/plain": [
              "[('anti-stereotype', 52.859505), ('stereotype', 47.140495)]"
            ]
          },
          "metadata": {
            "tags": []
          },
          "execution_count": 75
        }
      ]
    },
    {
      "cell_type": "code",
      "metadata": {
        "colab": {
          "base_uri": "https://localhost:8080/"
        },
        "id": "bx5TR5_D4zaS",
        "outputId": "4cc29366-097d-40bb-aff9-0fbb16953aa3"
      },
      "source": [
        "get_probabilit_per_class(\"The russian is galled\")"
      ],
      "execution_count": 73,
      "outputs": [
        {
          "output_type": "execute_result",
          "data": {
            "text/plain": [
              "[('stereotype', 91.404816), ('anti-stereotype', 8.5951805)]"
            ]
          },
          "metadata": {
            "tags": []
          },
          "execution_count": 73
        }
      ]
    },
    {
      "cell_type": "markdown",
      "metadata": {
        "id": "CK5EHAFY2Y_P"
      },
      "source": [
        "#### Discussion \n"
      ]
    },
    {
      "cell_type": "markdown",
      "metadata": {
        "id": "2QI61N2l2cOd"
      },
      "source": [
        "* Anti-stereotypical samples are stereotypical but opposite with respect to the associated stereotypical attribute.\n",
        "  * Stereotype as socially shared beliefs about group\n",
        "  * Anti-stereotypical samples can thus be used to categorize a sample as socially shared stereotype or not. \n",
        "* By testing example \n",
        "  * \"The russian is laughing\" instead of the anti-stereotypical sample \"The russian is smiling\"; its able to predict correctly as anti-stereotypical.\n",
        "    * Observation : \n",
        "      * \"Based on the distance between the words used in  anti-stereotypical sample such as \"smiling\" similar words/synonyms to smiling  (laughing, giggling) are also being categorized as anti-stereotypical as semantic similarity is taken into consideration (Semantic overlap - https://www.sbert.net/examples/applications/semantic-search/README.html).\n",
        "      * Hence, its able to capture the similar words related to stereotypic or anti-stereotypic attribute. \n",
        "      * Hence, the anti-stereotypic samples can be used to detect whether stereotype is socially shared or not. "
      ]
    },
    {
      "cell_type": "markdown",
      "metadata": {
        "id": "dyB2JCvEr3oP"
      },
      "source": [
        "## Experiment - 3\n",
        "\n",
        "Combining explicit and Implicit i.e Stereo + CrowSpair + SocialBiasFrames\n",
        "\n",
        " * Categories:\n",
        "  1. Ethnicity/Race/Nationality - 4660 + 2559\n",
        "  2. Profession - 1794 \n",
        "  3. Gender - 656 + 4023\n",
        "  4. Religion - 256\n",
        "  5. Culture - 2880\n",
        "  6. Victim - 2231 ??\n",
        "  7. Disabled/Dsiability - 854 + 57\n",
        "  8. Social - 732 ??\n",
        "  9. Body/Physical apperance - 508 + 52"
      ]
    }
  ]
}