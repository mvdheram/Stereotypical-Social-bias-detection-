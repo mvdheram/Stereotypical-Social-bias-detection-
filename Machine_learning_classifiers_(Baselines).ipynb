{
  "nbformat": 4,
  "nbformat_minor": 0,
  "metadata": {
    "colab": {
      "name": "Machine learning classifiers (Baselines).ipynb",
      "provenance": [],
      "toc_visible": true,
      "include_colab_link": true
    },
    "kernelspec": {
      "name": "python3",
      "display_name": "Python 3"
    },
    "language_info": {
      "name": "python"
    },
    "accelerator": "GPU"
  },
  "cells": [
    {
      "cell_type": "markdown",
      "metadata": {
        "id": "view-in-github",
        "colab_type": "text"
      },
      "source": [
        "<a href=\"https://colab.research.google.com/github/mvdheram/Stereotypical-Social-bias-detection-/blob/Machine-learning-classifiers/Machine_learning_classifiers_(Baselines).ipynb\" target=\"_parent\"><img src=\"https://colab.research.google.com/assets/colab-badge.svg\" alt=\"Open In Colab\"/></a>"
      ]
    },
    {
      "cell_type": "markdown",
      "metadata": {
        "id": "v3LMEAQtqe66"
      },
      "source": [
        "Links:\n",
        "\n",
        "1. https://github.com/amaiya/ktrain/blob/5edd86ff679d256c561453188602e9b2d4d3746e/ktrain/text/models.py\n",
        "2. Flair : https://towardsdatascience.com/text-classification-with-state-of-the-art-nlp-library-flair-b541d7add21f\n",
        "3. DeepNLP: https://github.com/mvdheram/DeepNLP/blob/master/DeepNLP_1.ipynb\n",
        "4. Trained Baselines : https://github.com/mvdheram/DeepNLP/blob/master/DeepNLP_1.ipynb"
      ]
    },
    {
      "cell_type": "markdown",
      "metadata": {
        "id": "sBL5XpyLcEs5"
      },
      "source": [
        "# Loading dataset"
      ]
    },
    {
      "cell_type": "code",
      "metadata": {
        "id": "Fx-IKYWSTAL-",
        "colab": {
          "base_uri": "https://localhost:8080/"
        },
        "outputId": "a11d4e4f-e6d1-4ed7-e92a-e790b2ee7129"
      },
      "source": [
        "!pip install ktrain --quiet"
      ],
      "execution_count": 1,
      "outputs": [
        {
          "output_type": "stream",
          "text": [
            "\u001b[K     |████████████████████████████████| 25.3 MB 96 kB/s \n",
            "\u001b[K     |████████████████████████████████| 6.8 MB 26.6 MB/s \n",
            "\u001b[K     |████████████████████████████████| 981 kB 37.7 MB/s \n",
            "\u001b[K     |████████████████████████████████| 263 kB 50.9 MB/s \n",
            "\u001b[K     |████████████████████████████████| 1.9 MB 38.5 MB/s \n",
            "\u001b[K     |████████████████████████████████| 1.2 MB 29.7 MB/s \n",
            "\u001b[K     |████████████████████████████████| 468 kB 46.0 MB/s \n",
            "\u001b[K     |████████████████████████████████| 3.3 MB 37.5 MB/s \n",
            "\u001b[K     |████████████████████████████████| 895 kB 42.7 MB/s \n",
            "\u001b[?25h  Building wheel for ktrain (setup.py) ... \u001b[?25l\u001b[?25hdone\n",
            "  Building wheel for seqeval (setup.py) ... \u001b[?25l\u001b[?25hdone\n",
            "  Building wheel for keras-bert (setup.py) ... \u001b[?25l\u001b[?25hdone\n",
            "  Building wheel for keras-transformer (setup.py) ... \u001b[?25l\u001b[?25hdone\n",
            "  Building wheel for keras-embed-sim (setup.py) ... \u001b[?25l\u001b[?25hdone\n",
            "  Building wheel for keras-layer-normalization (setup.py) ... \u001b[?25l\u001b[?25hdone\n",
            "  Building wheel for keras-multi-head (setup.py) ... \u001b[?25l\u001b[?25hdone\n",
            "  Building wheel for keras-pos-embd (setup.py) ... \u001b[?25l\u001b[?25hdone\n",
            "  Building wheel for keras-position-wise-feed-forward (setup.py) ... \u001b[?25l\u001b[?25hdone\n",
            "  Building wheel for keras-self-attention (setup.py) ... \u001b[?25l\u001b[?25hdone\n",
            "  Building wheel for langdetect (setup.py) ... \u001b[?25l\u001b[?25hdone\n",
            "  Building wheel for syntok (setup.py) ... \u001b[?25l\u001b[?25hdone\n"
          ],
          "name": "stdout"
        }
      ]
    },
    {
      "cell_type": "code",
      "metadata": {
        "id": "FzKPCQLpoGH_",
        "colab": {
          "base_uri": "https://localhost:8080/"
        },
        "outputId": "957c8fcf-e1e7-4d67-d0a9-4b689392a160"
      },
      "source": [
        "!pip install git+https://github.com/gmihaila/ml_things --quiet"
      ],
      "execution_count": 2,
      "outputs": [
        {
          "output_type": "stream",
          "text": [
            "\u001b[K     |████████████████████████████████| 64 kB 2.2 MB/s \n",
            "\u001b[K     |████████████████████████████████| 10.3 MB 21.9 MB/s \n",
            "\u001b[?25h  Building wheel for ml-things (setup.py) ... \u001b[?25l\u001b[?25hdone\n",
            "  Building wheel for ftfy (setup.py) ... \u001b[?25l\u001b[?25hdone\n",
            "\u001b[31mERROR: pip's dependency resolver does not currently take into account all the packages that are installed. This behaviour is the source of the following dependency conflicts.\n",
            "albumentations 0.1.12 requires imgaug<0.2.7,>=0.2.5, but you have imgaug 0.2.9 which is incompatible.\u001b[0m\n"
          ],
          "name": "stdout"
        }
      ]
    },
    {
      "cell_type": "code",
      "metadata": {
        "id": "Zs8QWWVHS0kZ"
      },
      "source": [
        "import ktrain\n",
        "from ktrain import text\n",
        "import pandas as pd"
      ],
      "execution_count": 3,
      "outputs": []
    },
    {
      "cell_type": "code",
      "metadata": {
        "colab": {
          "base_uri": "https://localhost:8080/"
        },
        "id": "nBHu71wHmqOh",
        "outputId": "ee7eeb26-deeb-406c-f314-117397121042"
      },
      "source": [
        "from google.colab import drive\n",
        "drive.mount('/content/drive')"
      ],
      "execution_count": 4,
      "outputs": [
        {
          "output_type": "stream",
          "text": [
            "Mounted at /content/drive\n"
          ],
          "name": "stdout"
        }
      ]
    },
    {
      "cell_type": "code",
      "metadata": {
        "id": "8adqvI5gTMnE"
      },
      "source": [
        "df = pd.read_csv('/content/drive/MyDrive/Trained models/mult_label_dataset/ohe_multilabel.csv', index_col = 0)"
      ],
      "execution_count": 5,
      "outputs": []
    },
    {
      "cell_type": "code",
      "metadata": {
        "colab": {
          "base_uri": "https://localhost:8080/",
          "height": 555
        },
        "id": "iOgFp_bmtsb4",
        "outputId": "f439b2d4-dbc7-4ce0-ddf4-ce1b27145112"
      },
      "source": [
        "df"
      ],
      "execution_count": 6,
      "outputs": [
        {
          "output_type": "execute_result",
          "data": {
            "text/html": [
              "<div>\n",
              "<style scoped>\n",
              "    .dataframe tbody tr th:only-of-type {\n",
              "        vertical-align: middle;\n",
              "    }\n",
              "\n",
              "    .dataframe tbody tr th {\n",
              "        vertical-align: top;\n",
              "    }\n",
              "\n",
              "    .dataframe thead th {\n",
              "        text-align: right;\n",
              "    }\n",
              "</style>\n",
              "<table border=\"1\" class=\"dataframe\">\n",
              "  <thead>\n",
              "    <tr style=\"text-align: right;\">\n",
              "      <th></th>\n",
              "      <th>Ethnicity</th>\n",
              "      <th>gender</th>\n",
              "      <th>profession</th>\n",
              "      <th>religion</th>\n",
              "      <th>Anti-stereotype</th>\n",
              "      <th>stereotype</th>\n",
              "      <th>unrelated</th>\n",
              "      <th>sentence</th>\n",
              "    </tr>\n",
              "  </thead>\n",
              "  <tbody>\n",
              "    <tr>\n",
              "      <th>0</th>\n",
              "      <td>1</td>\n",
              "      <td>0</td>\n",
              "      <td>0</td>\n",
              "      <td>0</td>\n",
              "      <td>0</td>\n",
              "      <td>1</td>\n",
              "      <td>0</td>\n",
              "      <td>Many people live in Ethiopia. The people are v...</td>\n",
              "    </tr>\n",
              "    <tr>\n",
              "      <th>1</th>\n",
              "      <td>1</td>\n",
              "      <td>0</td>\n",
              "      <td>0</td>\n",
              "      <td>0</td>\n",
              "      <td>0</td>\n",
              "      <td>1</td>\n",
              "      <td>0</td>\n",
              "      <td>My professor is a hispanic man He came here il...</td>\n",
              "    </tr>\n",
              "    <tr>\n",
              "      <th>2</th>\n",
              "      <td>0</td>\n",
              "      <td>1</td>\n",
              "      <td>0</td>\n",
              "      <td>0</td>\n",
              "      <td>0</td>\n",
              "      <td>1</td>\n",
              "      <td>0</td>\n",
              "      <td>The schoolgirl is walking down the street. She...</td>\n",
              "    </tr>\n",
              "    <tr>\n",
              "      <th>3</th>\n",
              "      <td>1</td>\n",
              "      <td>0</td>\n",
              "      <td>0</td>\n",
              "      <td>0</td>\n",
              "      <td>0</td>\n",
              "      <td>1</td>\n",
              "      <td>0</td>\n",
              "      <td>We'll likely fly over Cape Verde on our flight...</td>\n",
              "    </tr>\n",
              "    <tr>\n",
              "      <th>4</th>\n",
              "      <td>1</td>\n",
              "      <td>0</td>\n",
              "      <td>0</td>\n",
              "      <td>0</td>\n",
              "      <td>0</td>\n",
              "      <td>1</td>\n",
              "      <td>0</td>\n",
              "      <td>I know many people who are Russian. They love ...</td>\n",
              "    </tr>\n",
              "    <tr>\n",
              "      <th>...</th>\n",
              "      <td>...</td>\n",
              "      <td>...</td>\n",
              "      <td>...</td>\n",
              "      <td>...</td>\n",
              "      <td>...</td>\n",
              "      <td>...</td>\n",
              "      <td>...</td>\n",
              "      <td>...</td>\n",
              "    </tr>\n",
              "    <tr>\n",
              "      <th>16539</th>\n",
              "      <td>0</td>\n",
              "      <td>0</td>\n",
              "      <td>0</td>\n",
              "      <td>0</td>\n",
              "      <td>0</td>\n",
              "      <td>0</td>\n",
              "      <td>1</td>\n",
              "      <td>Arab people are associated with hi.</td>\n",
              "    </tr>\n",
              "    <tr>\n",
              "      <th>16540</th>\n",
              "      <td>0</td>\n",
              "      <td>0</td>\n",
              "      <td>0</td>\n",
              "      <td>0</td>\n",
              "      <td>0</td>\n",
              "      <td>0</td>\n",
              "      <td>1</td>\n",
              "      <td>Car was a new chemist in our lab.</td>\n",
              "    </tr>\n",
              "    <tr>\n",
              "      <th>16541</th>\n",
              "      <td>0</td>\n",
              "      <td>0</td>\n",
              "      <td>0</td>\n",
              "      <td>0</td>\n",
              "      <td>0</td>\n",
              "      <td>0</td>\n",
              "      <td>1</td>\n",
              "      <td>The gentlemen stood around the fire, carefully...</td>\n",
              "    </tr>\n",
              "    <tr>\n",
              "      <th>16542</th>\n",
              "      <td>0</td>\n",
              "      <td>0</td>\n",
              "      <td>0</td>\n",
              "      <td>0</td>\n",
              "      <td>0</td>\n",
              "      <td>0</td>\n",
              "      <td>1</td>\n",
              "      <td>The common ukrainian is a supporter of a floun...</td>\n",
              "    </tr>\n",
              "    <tr>\n",
              "      <th>16543</th>\n",
              "      <td>0</td>\n",
              "      <td>0</td>\n",
              "      <td>0</td>\n",
              "      <td>0</td>\n",
              "      <td>0</td>\n",
              "      <td>0</td>\n",
              "      <td>1</td>\n",
              "      <td>I am a loop nurse.</td>\n",
              "    </tr>\n",
              "  </tbody>\n",
              "</table>\n",
              "<p>16544 rows × 8 columns</p>\n",
              "</div>"
            ],
            "text/plain": [
              "       Ethnicity  ...                                           sentence\n",
              "0              1  ...  Many people live in Ethiopia. The people are v...\n",
              "1              1  ...  My professor is a hispanic man He came here il...\n",
              "2              0  ...  The schoolgirl is walking down the street. She...\n",
              "3              1  ...  We'll likely fly over Cape Verde on our flight...\n",
              "4              1  ...  I know many people who are Russian. They love ...\n",
              "...          ...  ...                                                ...\n",
              "16539          0  ...                Arab people are associated with hi.\n",
              "16540          0  ...                  Car was a new chemist in our lab.\n",
              "16541          0  ...  The gentlemen stood around the fire, carefully...\n",
              "16542          0  ...  The common ukrainian is a supporter of a floun...\n",
              "16543          0  ...                                 I am a loop nurse.\n",
              "\n",
              "[16544 rows x 8 columns]"
            ]
          },
          "metadata": {
            "tags": []
          },
          "execution_count": 6
        }
      ]
    },
    {
      "cell_type": "code",
      "metadata": {
        "id": "kWJjN78DTbTt"
      },
      "source": [
        "y = df.iloc[:,:-1].values\n",
        "X = df.iloc[:,-1].values"
      ],
      "execution_count": 7,
      "outputs": []
    },
    {
      "cell_type": "code",
      "metadata": {
        "colab": {
          "base_uri": "https://localhost:8080/"
        },
        "id": "SmwCxh0PTc2U",
        "outputId": "2d34f360-8c11-463a-d8a5-76d73e3ac434"
      },
      "source": [
        "X"
      ],
      "execution_count": 8,
      "outputs": [
        {
          "output_type": "execute_result",
          "data": {
            "text/plain": [
              "array(['Many people live in Ethiopia. The people are very thin and good at distance running.',\n",
              "       'My professor is a hispanic man He came here illegally',\n",
              "       'The schoolgirl is walking down the street. She is a target for child predators.',\n",
              "       ...,\n",
              "       'The gentlemen stood around the fire, carefully passing the boxing around.',\n",
              "       'The common ukrainian is a supporter of a flounder run government.',\n",
              "       'I am a loop nurse.'], dtype=object)"
            ]
          },
          "metadata": {
            "tags": []
          },
          "execution_count": 8
        }
      ]
    },
    {
      "cell_type": "code",
      "metadata": {
        "colab": {
          "base_uri": "https://localhost:8080/"
        },
        "id": "F5hdjxMITeVh",
        "outputId": "4ceb6435-b45f-41fe-a2f3-6cd9e865dbce"
      },
      "source": [
        "y"
      ],
      "execution_count": 9,
      "outputs": [
        {
          "output_type": "execute_result",
          "data": {
            "text/plain": [
              "array([[1, 0, 0, ..., 0, 1, 0],\n",
              "       [1, 0, 0, ..., 0, 1, 0],\n",
              "       [0, 1, 0, ..., 0, 1, 0],\n",
              "       ...,\n",
              "       [0, 0, 0, ..., 0, 0, 1],\n",
              "       [0, 0, 0, ..., 0, 0, 1],\n",
              "       [0, 0, 0, ..., 0, 0, 1]])"
            ]
          },
          "metadata": {
            "tags": []
          },
          "execution_count": 9
        }
      ]
    },
    {
      "cell_type": "code",
      "metadata": {
        "id": "gvxwBVsaUgMF"
      },
      "source": [
        "MAX_LEN = 50\n",
        "RANDOM_SEED = 47"
      ],
      "execution_count": 10,
      "outputs": []
    },
    {
      "cell_type": "code",
      "metadata": {
        "id": "7usepriRO9yZ"
      },
      "source": [
        "LABEL_COLUMN = ['Ethnicity',\t'gender'\t,'profession'\t,'religion',\t'Anti-stereotype',\t'stereotype',\t'unrelated']"
      ],
      "execution_count": 11,
      "outputs": []
    },
    {
      "cell_type": "code",
      "metadata": {
        "id": "UAFD-634ULmH"
      },
      "source": [
        "from sklearn.model_selection import train_test_split\n",
        "\n",
        "train_df_text, test_df_text, train_df_labels,test_df_labels = train_test_split(X,y, test_size=0.3, random_state=RANDOM_SEED, stratify = y)\n",
        "val_df_text, test_df_text, val_df_labels,test_df_labels = train_test_split(test_df_text,test_df_labels, test_size=0.5, random_state=RANDOM_SEED,stratify = test_df_labels)"
      ],
      "execution_count": 12,
      "outputs": []
    },
    {
      "cell_type": "code",
      "metadata": {
        "id": "dTpY3Vy3O7Hg"
      },
      "source": [
        "train_df_labels = pd.DataFrame(train_df_labels, columns= LABEL_COLUMN)\n",
        "val_df_labels = pd.DataFrame(val_df_labels, columns= LABEL_COLUMN)\n",
        "test_df_labels = pd.DataFrame(test_df_labels, columns= LABEL_COLUMN)\n",
        "train_df_text = pd.DataFrame(train_df_text, columns = ['sentence'])\n",
        "val_df_text = pd.DataFrame(val_df_text, columns = ['sentence'])\n",
        "test_df_text = pd.DataFrame(test_df_text, columns = ['sentence'])"
      ],
      "execution_count": 13,
      "outputs": []
    },
    {
      "cell_type": "code",
      "metadata": {
        "id": "jvuTsDvhiP8Q"
      },
      "source": [
        "train_df = pd.concat([train_df_text,train_df_labels], axis = 1)\n",
        "val_df = pd.concat([val_df_text,val_df_labels], axis = 1)\n",
        "test_df = pd.concat([test_df_text,test_df_labels], axis = 1)"
      ],
      "execution_count": 14,
      "outputs": []
    },
    {
      "cell_type": "code",
      "metadata": {
        "id": "3eJo2msAojg8"
      },
      "source": [
        "LABELS = ['Ethnicity','gender','profession','religion','Anti-stereotype','stereotype','unrelated']"
      ],
      "execution_count": 15,
      "outputs": []
    },
    {
      "cell_type": "markdown",
      "metadata": {
        "id": "kuVhP6A9ZI1y"
      },
      "source": [
        "# Classification metrics"
      ]
    },
    {
      "cell_type": "code",
      "metadata": {
        "id": "aR-BDeQ-Wrdu"
      },
      "source": [
        "def Accuracy(y_true, y_pred):\n",
        "  temp = 0\n",
        "  for i in range(y_true.shape[0]):\n",
        "      temp += sum(np.logical_and(y_true[i], y_pred[i])) / sum(np.logical_or(y_true[i], y_pred[i]))\n",
        "  return temp / y_true.shape[0]"
      ],
      "execution_count": 16,
      "outputs": []
    },
    {
      "cell_type": "code",
      "metadata": {
        "id": "fHt7W1ljoZu6"
      },
      "source": [
        "from sklearn.metrics import f1_score, recall_score, precision_score, classification_report,hamming_loss, roc_auc_score, accuracy_score,multilabel_confusion_matrix, precision_recall_fscore_support\n",
        "import numpy as np\n",
        "import json\n",
        "\n",
        "upper, lower = 1, 0\n",
        "LABELS = ['Ethnicity','gender','profession','religion','Anti-stereotype','stereotype','unrelated']\n",
        "\n",
        "def classification_metrics(test_pred,labels,model_name,threshold):\n",
        "\n",
        "  print(\"Evaluation metrics for test set:\")\n",
        "  y_pred = np.where(test_pred > threshold, upper, lower)\n",
        "\n",
        "  ROC_AUC_score = roc_auc_score(test_df_labels, test_pred)\n",
        "  accuracy = accuracy_score(labels, y_pred)\n",
        "  hloss = hamming_loss(labels, y_pred)\n",
        "  hscore = Accuracy(labels, y_pred)\n",
        "\n",
        "  precision_sample_average = precision_score(y_true=labels, y_pred=y_pred, average='samples')\n",
        "  recall_sample_average = recall_score(y_true=labels, y_pred=y_pred, average='samples')\n",
        "  f1_sample_average= f1_score(y_true=labels, y_pred=y_pred, average='samples')\n",
        "\n",
        "  cr = classification_report(labels, y_pred, labels=list(range(len(LABELS))), target_names=LABELS, output_dict=True)\n",
        "  cf = multilabel_confusion_matrix(test_df_labels, \n",
        "  y_pred)\n",
        "\n",
        "  model_metrics = {}\n",
        "  model_metrics[\"AUC_ROC_score\"] = ROC_AUC_score\n",
        "  model_metrics[\"subset_accuracy\"] = accuracy\n",
        "  model_metrics[\"hamming_loss\"]= hloss\n",
        "  model_metrics[\"hamming_score\"] = hscore\n",
        "\n",
        "  model_metrics['sample_average_precision'] = precision_sample_average\n",
        "  model_metrics['sample_average_recall'] = recall_sample_average\n",
        "  model_metrics['sample_average_f1'] = f1_sample_average\n",
        "\n",
        "\n",
        "  if write_to_file:\n",
        "    model_metrics[\"Classification_report\"] = cr\n",
        "\n",
        "    for i,val in enumerate(LABELS):\n",
        "      model_metrics['confusion_matrix' + '_' + val] = str(cf[i].flatten())\n",
        "  \n",
        "    model_metrics[\"y_pred\"] = str(y_pred)\n",
        "    model_metrics[\"y_labels\"] = str(test_df_labels)\n",
        "\n",
        "\n",
        "    if threshold != 0.5:\n",
        "      th = \"calculated_threshold\"\n",
        "    else:\n",
        "      th = threshold\n",
        "\n",
        "    model_metrics[\"threshold\"] = th\n",
        "    output_file = \"eval_results_\" + model_name + \"_\"+str(th) +\"_\"+ \".json\"\n",
        "    \n",
        "    with open(output_file, \"w\" ) as writer:\n",
        "        json.dump(model_metrics,writer)\n",
        "  \n",
        "\n",
        "  print(\"\\n ROC-AUC score: %.6f \\n\" % (ROC_AUC_score))\n",
        "  print(\"\\n Subset accuracy : %.6f \\n\" % (accuracy))\n",
        "  print(\"\\n hamming_loss : %.6f \\n\" % (hloss))\n",
        "  print(\"\\n hamming score : %.6f \\n\" % hscore)\n",
        "  print(\"\\n sample average  precision_sample_average : %.6f \\n\" % precision_sample_average)\n",
        "  print(\"\\n sample average  recall_sample_average : %.6f \\n\" % recall_sample_average)\n",
        "  print(\"\\n sample average  f1_sample_average : %.6f \\n\" % f1_sample_average)\n",
        "  \n",
        "\n",
        "  print(\"  Saving the metrics into a file: \" + output_file + \" with threshold :\" + str(threshold))"
      ],
      "execution_count": 17,
      "outputs": []
    },
    {
      "cell_type": "markdown",
      "metadata": {
        "id": "qpdl9c1mam9K"
      },
      "source": [
        "# Baselines"
      ]
    },
    {
      "cell_type": "markdown",
      "metadata": {
        "id": "MGf8u3PSaxxT"
      },
      "source": [
        "## Machine Learning with features"
      ]
    },
    {
      "cell_type": "markdown",
      "metadata": {
        "id": "2A6p5QlWHuVM"
      },
      "source": [
        "### SVM Classifier using selected features \n",
        "  * Reference : \n",
        "    1. Linguistic models for detecting bias https://aclanthology.org/P13-1162.pdf\n",
        "    2. Automatically Neutralizing Subjective Bias in Text https://ojs.aaai.org/index.php/AAAI/article/view/5385 \n",
        "\n",
        "  "
      ]
    },
    {
      "cell_type": "markdown",
      "metadata": {
        "id": "jwTACdCka42B"
      },
      "source": [
        "## Pre-trained word embedding models with CNN"
      ]
    },
    {
      "cell_type": "markdown",
      "metadata": {
        "id": "spCDi_37EE84"
      },
      "source": [
        "### Pre-processing"
      ]
    },
    {
      "cell_type": "code",
      "metadata": {
        "id": "t3cRclIfEI3L"
      },
      "source": [
        "import pandas as pd\n",
        "import numpy as np\n",
        "import matplotlib.pyplot as plt\n",
        "from keras.preprocessing.text import Tokenizer\n",
        "from keras.preprocessing.sequence import pad_sequences # to pad inputs into equal length\n",
        "from keras.layers import Dense, Input, GlobalMaxPooling1D, SpatialDropout1D, Bidirectional, LSTM,GRU, GlobalAveragePooling1D, GlobalMaxPool1D\n",
        "from keras.layers import Conv1D, MaxPooling1D, Dropout, Embedding, Concatenate, concatenate\n",
        "from keras.models import Model\n",
        "from sklearn.metrics import roc_auc_score\n",
        "from gensim.models import Word2Vec"
      ],
      "execution_count": 65,
      "outputs": []
    },
    {
      "cell_type": "code",
      "metadata": {
        "id": "um57TSe5FBlH"
      },
      "source": [
        "MAX_SEQUENCE_LENGTH = 50\n",
        "MAX_VOCAB_SIZE = 20000 # Based on usage\n",
        "EMBEDDING_DIM = 100 # glove dimentions\n",
        "VALIDATION_SPLIT = 0.2\n",
        "BATCH_SIZE = 128\n",
        "EPOCHS = 40"
      ],
      "execution_count": 19,
      "outputs": []
    },
    {
      "cell_type": "code",
      "metadata": {
        "id": "pMHwPUp6Hh0z"
      },
      "source": [
        "# Tokenization using spacy\n",
        "import spacy\n",
        "\n",
        "nlp = spacy.load(\"en_core_web_sm\")\n",
        "\n",
        "def tokenize(text):  \n",
        "\n",
        "  doc = nlp(text)\n",
        "  tokens = [token.text.lower() for token in doc]\n",
        "  return tokens\n",
        "\n",
        "def lemmatization(text):\n",
        "\n",
        "  doc = nlp(text)\n",
        "  lemmas = [token.lemma_.lower() for token in doc]\n",
        "  return lemmas\n",
        "\n",
        "# Remove tokens that are not alphabetic - depends on particular application \n",
        "def clean_text(text):\n",
        "\n",
        "  lemmas = lemmatization(text)\n",
        "  a_lemmas = [lemma for  lemma in lemmas\n",
        "              if lemma.isalpha()]\n",
        "  \n",
        "  return (' '.join(a_lemmas))"
      ],
      "execution_count": 20,
      "outputs": []
    },
    {
      "cell_type": "code",
      "metadata": {
        "id": "Ylr_j35zTaRD"
      },
      "source": [
        "df = pd.concat([train_df,val_df])"
      ],
      "execution_count": 21,
      "outputs": []
    },
    {
      "cell_type": "code",
      "metadata": {
        "id": "z88ckDDhL7rw"
      },
      "source": [
        "df['clean_text'] = df['sentence'].apply(clean_text)"
      ],
      "execution_count": 22,
      "outputs": []
    },
    {
      "cell_type": "code",
      "metadata": {
        "id": "0319lX4OVEKp",
        "colab": {
          "base_uri": "https://localhost:8080/",
          "height": 776
        },
        "outputId": "61d36a88-d2a0-4f0b-dd99-d02ab0ca211e"
      },
      "source": [
        "df"
      ],
      "execution_count": 23,
      "outputs": [
        {
          "output_type": "execute_result",
          "data": {
            "text/html": [
              "<div>\n",
              "<style scoped>\n",
              "    .dataframe tbody tr th:only-of-type {\n",
              "        vertical-align: middle;\n",
              "    }\n",
              "\n",
              "    .dataframe tbody tr th {\n",
              "        vertical-align: top;\n",
              "    }\n",
              "\n",
              "    .dataframe thead th {\n",
              "        text-align: right;\n",
              "    }\n",
              "</style>\n",
              "<table border=\"1\" class=\"dataframe\">\n",
              "  <thead>\n",
              "    <tr style=\"text-align: right;\">\n",
              "      <th></th>\n",
              "      <th>sentence</th>\n",
              "      <th>Ethnicity</th>\n",
              "      <th>gender</th>\n",
              "      <th>profession</th>\n",
              "      <th>religion</th>\n",
              "      <th>Anti-stereotype</th>\n",
              "      <th>stereotype</th>\n",
              "      <th>unrelated</th>\n",
              "      <th>clean_text</th>\n",
              "    </tr>\n",
              "  </thead>\n",
              "  <tbody>\n",
              "    <tr>\n",
              "      <th>0</th>\n",
              "      <td>The grandfather dined at the restaurant. He en...</td>\n",
              "      <td>0</td>\n",
              "      <td>1</td>\n",
              "      <td>0</td>\n",
              "      <td>0</td>\n",
              "      <td>1</td>\n",
              "      <td>0</td>\n",
              "      <td>0</td>\n",
              "      <td>the grandfather dine at the restaurant enjoy s...</td>\n",
              "    </tr>\n",
              "    <tr>\n",
              "      <th>1</th>\n",
              "      <td>Albeit unattractive, her scars served as a sta...</td>\n",
              "      <td>0</td>\n",
              "      <td>1</td>\n",
              "      <td>0</td>\n",
              "      <td>0</td>\n",
              "      <td>0</td>\n",
              "      <td>1</td>\n",
              "      <td>0</td>\n",
              "      <td>albeit unattractive scar serve as a stark remi...</td>\n",
              "    </tr>\n",
              "    <tr>\n",
              "      <th>2</th>\n",
              "      <td>there is a new middle eastern ice cream compan...</td>\n",
              "      <td>0</td>\n",
              "      <td>0</td>\n",
              "      <td>0</td>\n",
              "      <td>1</td>\n",
              "      <td>0</td>\n",
              "      <td>1</td>\n",
              "      <td>0</td>\n",
              "      <td>there be a new middle eastern ice cream compan...</td>\n",
              "    </tr>\n",
              "    <tr>\n",
              "      <th>3</th>\n",
              "      <td>while they are in prison the kikes should get ...</td>\n",
              "      <td>0</td>\n",
              "      <td>0</td>\n",
              "      <td>0</td>\n",
              "      <td>1</td>\n",
              "      <td>0</td>\n",
              "      <td>1</td>\n",
              "      <td>0</td>\n",
              "      <td>while be in prison the kike should get the sam...</td>\n",
              "    </tr>\n",
              "    <tr>\n",
              "      <th>4</th>\n",
              "      <td>The Historian was a teacher He loved history a...</td>\n",
              "      <td>0</td>\n",
              "      <td>0</td>\n",
              "      <td>1</td>\n",
              "      <td>0</td>\n",
              "      <td>0</td>\n",
              "      <td>1</td>\n",
              "      <td>0</td>\n",
              "      <td>the historian be a teacher love history and be...</td>\n",
              "    </tr>\n",
              "    <tr>\n",
              "      <th>...</th>\n",
              "      <td>...</td>\n",
              "      <td>...</td>\n",
              "      <td>...</td>\n",
              "      <td>...</td>\n",
              "      <td>...</td>\n",
              "      <td>...</td>\n",
              "      <td>...</td>\n",
              "      <td>...</td>\n",
              "      <td>...</td>\n",
              "    </tr>\n",
              "    <tr>\n",
              "      <th>2477</th>\n",
              "      <td>We had a conversation with the ham software de...</td>\n",
              "      <td>0</td>\n",
              "      <td>0</td>\n",
              "      <td>0</td>\n",
              "      <td>0</td>\n",
              "      <td>0</td>\n",
              "      <td>0</td>\n",
              "      <td>1</td>\n",
              "      <td>have a conversation with the ham software deve...</td>\n",
              "    </tr>\n",
              "    <tr>\n",
              "      <th>2478</th>\n",
              "      <td>Norway is known as a very combatant country.</td>\n",
              "      <td>1</td>\n",
              "      <td>0</td>\n",
              "      <td>0</td>\n",
              "      <td>0</td>\n",
              "      <td>1</td>\n",
              "      <td>0</td>\n",
              "      <td>0</td>\n",
              "      <td>norway be know as a very combatant country</td>\n",
              "    </tr>\n",
              "    <tr>\n",
              "      <th>2479</th>\n",
              "      <td>The football player was questioned about inves...</td>\n",
              "      <td>0</td>\n",
              "      <td>0</td>\n",
              "      <td>1</td>\n",
              "      <td>0</td>\n",
              "      <td>1</td>\n",
              "      <td>0</td>\n",
              "      <td>0</td>\n",
              "      <td>the football player be question about invest</td>\n",
              "    </tr>\n",
              "    <tr>\n",
              "      <th>2480</th>\n",
              "      <td>new york s old pennsylvania station what a tra...</td>\n",
              "      <td>0</td>\n",
              "      <td>0</td>\n",
              "      <td>0</td>\n",
              "      <td>1</td>\n",
              "      <td>0</td>\n",
              "      <td>1</td>\n",
              "      <td>0</td>\n",
              "      <td>new york s old pennsylvania station what a tra...</td>\n",
              "    </tr>\n",
              "    <tr>\n",
              "      <th>2481</th>\n",
              "      <td>Apples are not oranges.</td>\n",
              "      <td>0</td>\n",
              "      <td>0</td>\n",
              "      <td>0</td>\n",
              "      <td>0</td>\n",
              "      <td>0</td>\n",
              "      <td>0</td>\n",
              "      <td>1</td>\n",
              "      <td>apple be not orange</td>\n",
              "    </tr>\n",
              "  </tbody>\n",
              "</table>\n",
              "<p>14062 rows × 9 columns</p>\n",
              "</div>"
            ],
            "text/plain": [
              "                                               sentence  ...                                         clean_text\n",
              "0     The grandfather dined at the restaurant. He en...  ...  the grandfather dine at the restaurant enjoy s...\n",
              "1     Albeit unattractive, her scars served as a sta...  ...  albeit unattractive scar serve as a stark remi...\n",
              "2     there is a new middle eastern ice cream compan...  ...  there be a new middle eastern ice cream compan...\n",
              "3     while they are in prison the kikes should get ...  ...  while be in prison the kike should get the sam...\n",
              "4     The Historian was a teacher He loved history a...  ...  the historian be a teacher love history and be...\n",
              "...                                                 ...  ...                                                ...\n",
              "2477  We had a conversation with the ham software de...  ...  have a conversation with the ham software deve...\n",
              "2478       Norway is known as a very combatant country.  ...         norway be know as a very combatant country\n",
              "2479  The football player was questioned about inves...  ...       the football player be question about invest\n",
              "2480  new york s old pennsylvania station what a tra...  ...  new york s old pennsylvania station what a tra...\n",
              "2481                            Apples are not oranges.  ...                                apple be not orange\n",
              "\n",
              "[14062 rows x 9 columns]"
            ]
          },
          "metadata": {
            "tags": []
          },
          "execution_count": 23
        }
      ]
    },
    {
      "cell_type": "code",
      "metadata": {
        "id": "ZYEEphnbZR1_"
      },
      "source": [
        "labels = df.iloc[:,1:-1].values\n",
        "sentences = df.iloc[:,-1].values"
      ],
      "execution_count": 24,
      "outputs": []
    },
    {
      "cell_type": "code",
      "metadata": {
        "colab": {
          "base_uri": "https://localhost:8080/"
        },
        "id": "tiWf0WZOtQrc",
        "outputId": "f3eedef4-1383-4e93-b627-a7b543985626"
      },
      "source": [
        "len(labels) == len(sentences)"
      ],
      "execution_count": 25,
      "outputs": [
        {
          "output_type": "execute_result",
          "data": {
            "text/plain": [
              "True"
            ]
          },
          "metadata": {
            "tags": []
          },
          "execution_count": 25
        }
      ]
    },
    {
      "cell_type": "markdown",
      "metadata": {
        "id": "MqW2joaAjerj"
      },
      "source": [
        "Keras Tokenier (https://www.tensorflow.org/api_docs/python/tf/keras/preprocessing/text/Tokenizer)\n",
        "\n",
        "* `fit_on_texts(sentences)` : Creates a dict that maps unique tokens in input sequences to its unique ids\n",
        "* `text_to_sequences` : Takes the input sequence and converts into the sequence of unique ids.\n",
        "\n",
        "* Fit (on training to create vocab) once and use it on train,eval,test. "
      ]
    },
    {
      "cell_type": "code",
      "metadata": {
        "id": "hQBquHaTFIil",
        "colab": {
          "base_uri": "https://localhost:8080/"
        },
        "outputId": "1f1e7bd0-c6be-4cce-a0ff-b975399c3c5b"
      },
      "source": [
        "tokenizer = Tokenizer(num_words=MAX_VOCAB_SIZE)\n",
        "tokenizer.fit_on_texts(sentences)\n",
        "sequences = tokenizer.texts_to_sequences(sentences)\n",
        "print(\"sequences:\", sequences[0])"
      ],
      "execution_count": 26,
      "outputs": [
        {
          "output_type": "stream",
          "text": [
            "sequences: [2, 164, 3713, 19, 2, 353, 262, 2553, 1811, 5, 3714, 3715]\n"
          ],
          "name": "stdout"
        }
      ]
    },
    {
      "cell_type": "code",
      "metadata": {
        "id": "0uSZFrWmGPpx",
        "colab": {
          "base_uri": "https://localhost:8080/"
        },
        "outputId": "0405a34d-6219-4226-837f-2393610c6d01"
      },
      "source": [
        "print(\"max sequence length after cleaning and tokenizing:\", max(len(s) for s in sequences))\n",
        "MAX_SEQUENCE_LENGTH = max(len(s) for s in sequences)\n",
        "print(\"min sequence length after cleaning and tokenizing:\", min(len(s) for s in sequences))\n",
        "s = sorted(len(s) for s in sequences)\n",
        "print(\"median sequence length after cleaning and tokenizing:\", s[len(s) // 2])\n",
        "\n",
        "print(\"max word index:\", max(max(seq) for seq in sequences if len(seq) > 0))"
      ],
      "execution_count": 44,
      "outputs": [
        {
          "output_type": "stream",
          "text": [
            "max sequence length after cleaning and tokenizing: 121\n",
            "min sequence length after cleaning and tokenizing: 2\n",
            "median sequence length after cleaning and tokenizing: 9\n",
            "max word index: 8696\n"
          ],
          "name": "stdout"
        }
      ]
    },
    {
      "cell_type": "code",
      "metadata": {
        "id": "CE5gdsspgtR4",
        "colab": {
          "base_uri": "https://localhost:8080/"
        },
        "outputId": "e12355c2-758b-40fc-a535-65445f92fa09"
      },
      "source": [
        "# pad sequences so that we get a N x T matrix (0 - reserved for padding in keras)\n",
        "data_train = pad_sequences(sequences, maxlen=MAX_SEQUENCE_LENGTH)\n",
        "print('Shape of data tensor:', data_train.shape)"
      ],
      "execution_count": 28,
      "outputs": [
        {
          "output_type": "stream",
          "text": [
            "Shape of data tensor: (14062, 121)\n"
          ],
          "name": "stdout"
        }
      ]
    },
    {
      "cell_type": "code",
      "metadata": {
        "id": "Ttr7C4ewcXub",
        "colab": {
          "base_uri": "https://localhost:8080/"
        },
        "outputId": "ff4cd358-faee-4b8e-cfe7-0827ddaced3e"
      },
      "source": [
        "data_train"
      ],
      "execution_count": 29,
      "outputs": [
        {
          "output_type": "execute_result",
          "data": {
            "text/plain": [
              "array([[   0,    0,    0, ...,    5, 3714, 3715],\n",
              "       [   0,    0,    0, ...,   14,  517, 2986],\n",
              "       [   0,    0,    0, ...,   83,  612,    1],\n",
              "       ...,\n",
              "       [   0,    0,    0, ...,  687,   46, 2866],\n",
              "       [   0,    0,    0, ..., 3695,   94, 1001],\n",
              "       [   0,    0,    0, ...,    1,   13,  450]], dtype=int32)"
            ]
          },
          "metadata": {
            "tags": []
          },
          "execution_count": 29
        }
      ]
    },
    {
      "cell_type": "code",
      "metadata": {
        "id": "qcOS-xjBGYNu",
        "colab": {
          "base_uri": "https://localhost:8080/"
        },
        "outputId": "ddbb0c82-19db-4645-d20f-8de278731bee"
      },
      "source": [
        "# word -> token_id mapping\n",
        "word2idx_train = tokenizer.word_index\n",
        "print('Found %s unique tokens.' % len(word2idx_train))"
      ],
      "execution_count": 30,
      "outputs": [
        {
          "output_type": "stream",
          "text": [
            "Found 8696 unique tokens.\n"
          ],
          "name": "stdout"
        }
      ]
    },
    {
      "cell_type": "markdown",
      "metadata": {
        "id": "qrRO0ibiXOJW"
      },
      "source": [
        "### Defining Model "
      ]
    },
    {
      "cell_type": "markdown",
      "metadata": {
        "id": "WvB9oPmeYWmk"
      },
      "source": [
        "#### Text-CNN\n",
        "\n",
        "Model specifics:\n",
        "  * Embedding_layer(Input) -> conv1D -> Maxpooling1D(3) -> GlobalMaxPooling1D() -> Dense -> output (len(labels[0]))\n",
        "\n",
        "References:\n",
        "\n",
        "1.http://www.wildml.com/2015/11/understanding-convolutional-neural-networks-for-nlp/ "
      ]
    },
    {
      "cell_type": "code",
      "metadata": {
        "id": "IyMl8K38YDP8"
      },
      "source": [
        "def _build_CNN(num_classes, embedding_layer, loss_func = 'binary_crossentropy',\n",
        "            activation = 'sigmoid', metric = ['accuracy'], optimizer = 'rmsprop'):\n",
        "  \n",
        "  print('Building model...')\n",
        "\n",
        "  input_ = Input(shape=(MAX_SEQUENCE_LENGTH,))\n",
        "  x = embedding_layer(input_)\n",
        "  x = Conv1D(128,3,activation='relu')(x)\n",
        "  x = MaxPooling1D(3)(x)\n",
        "  x = Dropout(0.25)(x)\n",
        "  x = Conv1D(128,3,activation='relu')(x)\n",
        "  x = MaxPooling1D(3)(x)\n",
        "  x = Dropout(0.25)(x)\n",
        "  x = Conv1D(128,3,activation='relu')(x)\n",
        "  x = GlobalMaxPooling1D()(x) # Getting the most important feature \n",
        "  x = Dense(128, activation='relu')(x)\n",
        "  output = (Dense(len(labels[0]),activation=activation))(x)\n",
        "  model = Model(input_,output)\n",
        "  model.compile(loss = loss_func, optimizer = optimizer, metrics = metric)\n",
        "  print(model.summary())\n",
        "  print('Done..')\n",
        "\n",
        "  return model"
      ],
      "execution_count": 31,
      "outputs": []
    },
    {
      "cell_type": "markdown",
      "metadata": {
        "id": "0fUQMkf9YfB2"
      },
      "source": [
        "#### Bi-Directional LSTM"
      ]
    },
    {
      "cell_type": "code",
      "metadata": {
        "id": "nqsQJf29Yj-G"
      },
      "source": [
        "def _build_bilstm(num_classes, embedding_layer, loss_func = 'binary_crossentropy',\n",
        "            activation = 'sigmoid', metric = ['accuracy'], optimizer = 'rmsprop'):\n",
        "  \n",
        "  print('Building model...')\n",
        "\n",
        "  input_ = Input(shape=(MAX_SEQUENCE_LENGTH,))\n",
        "  x = embedding_layer(input_)\n",
        "  x = SpatialDropout1D(0.2)(x)\n",
        "  x = Bidirectional(LSTM(15, return_sequences=True))(x)\n",
        "  avg_pool = GlobalAveragePooling1D()(x)\n",
        "  max_pool = GlobalMaxPool1D()(x)\n",
        "  conc = concatenate([avg_pool, max_pool])\n",
        "  output = Dense(num_classes, activation=activation)(conc)\n",
        "  model = Model(input_, output)\n",
        "  model.compile(loss = loss_func, optimizer = optimizer, metrics = metric)\n",
        "  print(model.summary())\n",
        "  print('Done..')\n",
        "\n",
        "  return model "
      ],
      "execution_count": 60,
      "outputs": []
    },
    {
      "cell_type": "markdown",
      "metadata": {
        "id": "lAjXhAhV_fKn"
      },
      "source": [
        "#### Bi-directional GRU"
      ]
    },
    {
      "cell_type": "code",
      "metadata": {
        "id": "SeLiLyfcoTVH"
      },
      "source": [
        "def _build_simple_gru(num_classes, embedding_layer, loss_func = 'binary_crossentropy',\n",
        "            activation = 'sigmoid', metric = ['accuracy'], optimizer = 'rmsprop'):\n",
        "  \n",
        "  print('Building model...')\n",
        "\n",
        "  input_ = Input(shape=(MAX_SEQUENCE_LENGTH,))\n",
        "  x = embedding_layer(input_)\n",
        "  x = SpatialDropout1D(0.2)(x)\n",
        "  x = Bidirectional(GRU(15, return_sequences=True))(x)\n",
        "  avg_pool = GlobalAveragePooling1D()(x)\n",
        "  max_pool = GlobalMaxPool1D()(x)\n",
        "  conc = concatenate([avg_pool, max_pool])\n",
        "  output = Dense(num_classes, activation= activation)(conc)\n",
        "  model = Model(input_, output)\n",
        "  model.compile(loss = loss_func, optimizer = optimizer, metrics = metric)\n",
        "  print(model.summary())\n",
        "  print('Done..')\n",
        "\n",
        "  return model"
      ],
      "execution_count": 61,
      "outputs": []
    },
    {
      "cell_type": "markdown",
      "metadata": {
        "id": "h729-Flphov1"
      },
      "source": [
        "### Evaluation on testset"
      ]
    },
    {
      "cell_type": "code",
      "metadata": {
        "colab": {
          "base_uri": "https://localhost:8080/",
          "height": 534
        },
        "id": "zDc0lnuQMqq8",
        "outputId": "65e2778c-4167-43f6-e1e4-dc0a9ed66380"
      },
      "source": [
        "test_df"
      ],
      "execution_count": null,
      "outputs": [
        {
          "output_type": "execute_result",
          "data": {
            "text/html": [
              "<div>\n",
              "<style scoped>\n",
              "    .dataframe tbody tr th:only-of-type {\n",
              "        vertical-align: middle;\n",
              "    }\n",
              "\n",
              "    .dataframe tbody tr th {\n",
              "        vertical-align: top;\n",
              "    }\n",
              "\n",
              "    .dataframe thead th {\n",
              "        text-align: right;\n",
              "    }\n",
              "</style>\n",
              "<table border=\"1\" class=\"dataframe\">\n",
              "  <thead>\n",
              "    <tr style=\"text-align: right;\">\n",
              "      <th></th>\n",
              "      <th>sentence</th>\n",
              "      <th>Ethnicity</th>\n",
              "      <th>gender</th>\n",
              "      <th>profession</th>\n",
              "      <th>religion</th>\n",
              "      <th>Anti-stereotype</th>\n",
              "      <th>stereotype</th>\n",
              "      <th>unrelated</th>\n",
              "      <th>clean_text</th>\n",
              "    </tr>\n",
              "  </thead>\n",
              "  <tbody>\n",
              "    <tr>\n",
              "      <th>0</th>\n",
              "      <td>The grass is green.</td>\n",
              "      <td>0</td>\n",
              "      <td>0</td>\n",
              "      <td>0</td>\n",
              "      <td>0</td>\n",
              "      <td>0</td>\n",
              "      <td>0</td>\n",
              "      <td>1</td>\n",
              "      <td>the grass be green</td>\n",
              "    </tr>\n",
              "    <tr>\n",
              "      <th>1</th>\n",
              "      <td>Vietnam is a very white country</td>\n",
              "      <td>0</td>\n",
              "      <td>0</td>\n",
              "      <td>0</td>\n",
              "      <td>0</td>\n",
              "      <td>0</td>\n",
              "      <td>0</td>\n",
              "      <td>1</td>\n",
              "      <td>vietnam be a very white country</td>\n",
              "    </tr>\n",
              "    <tr>\n",
              "      <th>2</th>\n",
              "      <td>what do you call a jew who isn t greedy error ...</td>\n",
              "      <td>0</td>\n",
              "      <td>0</td>\n",
              "      <td>0</td>\n",
              "      <td>1</td>\n",
              "      <td>0</td>\n",
              "      <td>1</td>\n",
              "      <td>0</td>\n",
              "      <td>what do call a jew who isn t greedy error not ...</td>\n",
              "    </tr>\n",
              "    <tr>\n",
              "      <th>3</th>\n",
              "      <td>The schoolboy found a frog on the way home. He...</td>\n",
              "      <td>0</td>\n",
              "      <td>1</td>\n",
              "      <td>0</td>\n",
              "      <td>0</td>\n",
              "      <td>0</td>\n",
              "      <td>1</td>\n",
              "      <td>0</td>\n",
              "      <td>the schoolboy find a frog on the way home pick...</td>\n",
              "    </tr>\n",
              "    <tr>\n",
              "      <th>4</th>\n",
              "      <td>The people of yemen are arab</td>\n",
              "      <td>1</td>\n",
              "      <td>0</td>\n",
              "      <td>0</td>\n",
              "      <td>0</td>\n",
              "      <td>0</td>\n",
              "      <td>1</td>\n",
              "      <td>0</td>\n",
              "      <td>the people of yemen be arab</td>\n",
              "    </tr>\n",
              "    <tr>\n",
              "      <th>...</th>\n",
              "      <td>...</td>\n",
              "      <td>...</td>\n",
              "      <td>...</td>\n",
              "      <td>...</td>\n",
              "      <td>...</td>\n",
              "      <td>...</td>\n",
              "      <td>...</td>\n",
              "      <td>...</td>\n",
              "      <td>...</td>\n",
              "    </tr>\n",
              "    <tr>\n",
              "      <th>2477</th>\n",
              "      <td>Music is good for the soul.</td>\n",
              "      <td>0</td>\n",
              "      <td>0</td>\n",
              "      <td>0</td>\n",
              "      <td>0</td>\n",
              "      <td>0</td>\n",
              "      <td>0</td>\n",
              "      <td>1</td>\n",
              "      <td>music be good for the soul</td>\n",
              "    </tr>\n",
              "    <tr>\n",
              "      <th>2478</th>\n",
              "      <td>A grandfather is the father of a parent He pla...</td>\n",
              "      <td>0</td>\n",
              "      <td>1</td>\n",
              "      <td>0</td>\n",
              "      <td>0</td>\n",
              "      <td>1</td>\n",
              "      <td>0</td>\n",
              "      <td>0</td>\n",
              "      <td>a grandfather be the father of a parent play i...</td>\n",
              "    </tr>\n",
              "    <tr>\n",
              "      <th>2479</th>\n",
              "      <td>bengali food is served around the world has re...</td>\n",
              "      <td>1</td>\n",
              "      <td>0</td>\n",
              "      <td>0</td>\n",
              "      <td>0</td>\n",
              "      <td>0</td>\n",
              "      <td>1</td>\n",
              "      <td>0</td>\n",
              "      <td>bengali food be serve around the world have re...</td>\n",
              "    </tr>\n",
              "    <tr>\n",
              "      <th>2480</th>\n",
              "      <td>Yemen is known for its vast, desert landscape ...</td>\n",
              "      <td>1</td>\n",
              "      <td>0</td>\n",
              "      <td>0</td>\n",
              "      <td>0</td>\n",
              "      <td>0</td>\n",
              "      <td>1</td>\n",
              "      <td>0</td>\n",
              "      <td>yemen be know for vast desert landscape and pi...</td>\n",
              "    </tr>\n",
              "    <tr>\n",
              "      <th>2481</th>\n",
              "      <td>I met an individual from Ethiopia. He had the ...</td>\n",
              "      <td>1</td>\n",
              "      <td>0</td>\n",
              "      <td>0</td>\n",
              "      <td>0</td>\n",
              "      <td>1</td>\n",
              "      <td>0</td>\n",
              "      <td>0</td>\n",
              "      <td>meet an individual from ethiopia have the clea...</td>\n",
              "    </tr>\n",
              "  </tbody>\n",
              "</table>\n",
              "<p>2482 rows × 9 columns</p>\n",
              "</div>"
            ],
            "text/plain": [
              "                                               sentence  ...                                         clean_text\n",
              "0                                   The grass is green.  ...                                 the grass be green\n",
              "1                       Vietnam is a very white country  ...                    vietnam be a very white country\n",
              "2     what do you call a jew who isn t greedy error ...  ...  what do call a jew who isn t greedy error not ...\n",
              "3     The schoolboy found a frog on the way home. He...  ...  the schoolboy find a frog on the way home pick...\n",
              "4                          The people of yemen are arab  ...                        the people of yemen be arab\n",
              "...                                                 ...  ...                                                ...\n",
              "2477                        Music is good for the soul.  ...                         music be good for the soul\n",
              "2478  A grandfather is the father of a parent He pla...  ...  a grandfather be the father of a parent play i...\n",
              "2479  bengali food is served around the world has re...  ...  bengali food be serve around the world have re...\n",
              "2480  Yemen is known for its vast, desert landscape ...  ...  yemen be know for vast desert landscape and pi...\n",
              "2481  I met an individual from Ethiopia. He had the ...  ...  meet an individual from ethiopia have the clea...\n",
              "\n",
              "[2482 rows x 9 columns]"
            ]
          },
          "metadata": {
            "tags": []
          },
          "execution_count": 235
        }
      ]
    },
    {
      "cell_type": "code",
      "metadata": {
        "id": "tc9n-c6lMqq8"
      },
      "source": [
        "if 'clean_text' not in test_df.columns:\n",
        "  test_df['clean_text'] = test_df['sentence'].apply(clean_text)"
      ],
      "execution_count": null,
      "outputs": []
    },
    {
      "cell_type": "code",
      "metadata": {
        "id": "88JTd21Ph714"
      },
      "source": [
        "def preprocessing_testSet(sentences):\n",
        "\n",
        "  # test_df['clean_text'] = test_df['sentence'].apply(clean_text)\n",
        "\n",
        "  # tokenizer = Tokenizer(num_words=MAX_VOCAB_SIZE)\n",
        "  tokenizer.fit_on_texts(sentences)\n",
        "  sequences = tokenizer.texts_to_sequences(sentences)\n",
        "  print(\"sequences[0]:\", sequences[0])\n",
        "\n",
        "  # pad sequences so that we get a N x T matrix (0 - reserved for padding in keras)\n",
        "  test_data = pad_sequences(sequences, maxlen=MAX_SEQUENCE_LENGTH)\n",
        "  print('Shape of data tensor:', test_data.shape)\n",
        "\n",
        "  return test_data"
      ],
      "execution_count": 72,
      "outputs": []
    },
    {
      "cell_type": "code",
      "metadata": {
        "id": "V1k8E-9AhvhZ"
      },
      "source": [
        "# # word -> token_id mapping\n",
        "# word2idx_test = tokenizer_test.word_index\n",
        "# print('Found %s unique tokens.' % len(word2idx))"
      ],
      "execution_count": 73,
      "outputs": []
    },
    {
      "cell_type": "code",
      "metadata": {
        "id": "W3-SxmhhhvhZ"
      },
      "source": [
        "from sklearn.metrics import roc_curve\n",
        "from collections import OrderedDict\n",
        "import numpy as np\n",
        "\n",
        "def per_class_roc_auc():\n",
        "\n",
        "  opti_threshold = dict()\n",
        "  LABEL_COLUMNS = ['Ethnicity','gender','profession','religion','Anti-stereotype','stereotype','unrelated']\n",
        "\n",
        "  for i in range(7):\n",
        "    fpr, tpr, thresholds = roc_curve(test_df_labels[:,i], test_pred[:,i])\n",
        "    print(\"AUC_ROC_score of %s is %s:\"% (LABEL_COLUMNS[i],roc_auc_score(test_df_labels[:,i], test_pred[:,i])))\n",
        "    optimal_idx = np.argmax(tpr + (1- fpr)) # Return indices of maximum array;  Criterion - Maximise TPR(recall) and TNR(specificity) \n",
        "    optimal_threshold = thresholds[optimal_idx]\n",
        "    print(\"Optimal threshold value of %s is %s:\\n\" % (LABEL_COLUMNS[i], optimal_threshold))\n",
        "    opti_threshold[i] = optimal_threshold"
      ],
      "execution_count": 74,
      "outputs": []
    },
    {
      "cell_type": "code",
      "metadata": {
        "id": "KemJ7Vnbnm5J"
      },
      "source": [
        "from sklearn.metrics import classification_report, multilabel_confusion_matrix\n",
        "import matplotlib.pyplot as plt\n",
        "import seaborn as sns\n",
        "from ml_things import plot_confusion_matrix\n",
        "\n",
        "def get_confusion_matrix_per_label():\n",
        "\n",
        "  cf = multilabel_confusion_matrix(test_df_labels, \n",
        "  y_pred)\n",
        "\n",
        "  LABEL_COLUMNS = ['Ethnicity','gender','profession','religion','Anti-stereotype','stereotype','unrelated']\n",
        "\n",
        "  for i,val in enumerate(LABEL_COLUMNS):\n",
        "    plot_confusion_matrix(y_true=test_df_labels[:,i], y_pred=y_pred[:,i], magnify=0.1, use_title='Confusion Matrix'+\" \"+ val, path='plot_confusion_matrix'+ \"_\" + val +\".png\");"
      ],
      "execution_count": 75,
      "outputs": []
    },
    {
      "cell_type": "code",
      "metadata": {
        "id": "GPmEFxXYhvha"
      },
      "source": [
        "def get_classification_report(test_pred, test_df_labels):\n",
        "\n",
        "  y_pred = np.where(test_pred > 0.5, upper, lower)\n",
        "\n",
        "  report = classification_report(\n",
        "    test_df_labels, \n",
        "    y_pred, \n",
        "    target_names=LABELS, \n",
        "    zero_division=0,\n",
        "  )\n",
        "\n",
        "  return report"
      ],
      "execution_count": 76,
      "outputs": []
    },
    {
      "cell_type": "markdown",
      "metadata": {
        "id": "ojzQY_d8bRIw"
      },
      "source": [
        "### Word embedding models"
      ]
    },
    {
      "cell_type": "markdown",
      "metadata": {
        "id": "Aen_VO848MWb"
      },
      "source": [
        "Why word embedding ??\n",
        "\n",
        "Embedding layer as a lookup tabel :\n",
        "\n",
        "* Embedding layer can be understood as a lookup table which maps tokenized input sequences (vocab) to its embeddings.[1]\n",
        "* When passing batches of input, embedding layer returns `(batch, sequence, embedding)`[1]\n",
        "  * In order to handle variable length in batches, attention, RNN, or pooling can be used before passing to dense layer.[1]\n",
        "\n",
        "After training :\n",
        "\n",
        "* Embedding matrix contains trained weights with index corresponding to word_ids (formed after tokenizing the sequences) with corresponding word embeddings[2]\n",
        "* The embeddings for corresponding words (using word_ids) can be obtained by using \n",
        "  * Tensorflow : tf.nn.embedding_lookup\n",
        "  * Keras: Embedding()[2]\n",
        "\n",
        "Ref :\n",
        "\n",
        "[1] Tf_word embedding : https://www.tensorflow.org/text/guide/word_embeddings \n",
        "\n",
        "[2] word embedding working : https://stats.stackexchange.com/questions/270546/how-does-keras-embedding-layer-work\n",
        "   "
      ]
    },
    {
      "cell_type": "code",
      "metadata": {
        "id": "WYvhZUUV0CZO"
      },
      "source": [
        "def build_embedding_layer(word2idx , word2vec, emb_dim = EMBEDDING_DIM):\n",
        "  # Filling pre-trained embeddings\n",
        "  num_words = min((MAX_VOCAB_SIZE, len(word2idx)+1)) # +1 added as word index in keras start from 0\n",
        "  embedding_matrix = np.zeros((num_words,emb_dim)) # Number of vocab, dimention per vocab\n",
        "  for word, i in word2idx.items():\n",
        "    if i < MAX_VOCAB_SIZE:\n",
        "      embedding_vector = word2vec.get(word)\n",
        "      if embedding_vector is not None:\n",
        "        embedding_matrix[i] = embedding_vector # Embedding with unknown words will be zeros\n",
        "  print(embedding_matrix)\n",
        "        \n",
        "  return Embedding(num_words,emb_dim,weights = [embedding_matrix], input_length=MAX_SEQUENCE_LENGTH,trainable = False)"
      ],
      "execution_count": 39,
      "outputs": []
    },
    {
      "cell_type": "code",
      "metadata": {
        "id": "wYeJJ4xqa86v"
      },
      "source": [
        "def get_word_vectors(file):\n",
        "  w_vec = {}\n",
        "  with open (file) as f:\n",
        "    for line in f:\n",
        "      values = line.split()\n",
        "      word = values[0]\n",
        "      vec = np.asarray(values[1:],dtype='float32')\n",
        "      w_vec[word] = vec\n",
        "  print('Found %s word vectors.' % len(w_vec))\n",
        "  return w_vec"
      ],
      "execution_count": 40,
      "outputs": []
    },
    {
      "cell_type": "markdown",
      "metadata": {
        "id": "bzVr-Z3nbUsZ"
      },
      "source": [
        "#### Word2Vec/Glove (Context- insensitive)\n",
        "\n",
        "Word2Vec:\n",
        "  * Uses local window context using CBOW and Skip-gram.\n",
        "\n",
        "Glove:\n",
        "  * Uses global statistical word co-occurrences (context) using global matrix factorization and local context window.\n",
        "\n",
        "**Using Glove** \n"
      ]
    },
    {
      "cell_type": "code",
      "metadata": {
        "colab": {
          "base_uri": "https://localhost:8080/"
        },
        "id": "ECO1AkvUCV9H",
        "outputId": "41ea71eb-c2d1-4f08-dcbb-0c3069447afd"
      },
      "source": [
        "glove_vec  = get_word_vectors('/content/drive/MyDrive/Trained models/Trained labels/ML baselines/Word_embedding_models/CNN/Glove/glove.6B.100d.txt')"
      ],
      "execution_count": 41,
      "outputs": [
        {
          "output_type": "stream",
          "text": [
            "Found 400000 word vectors.\n"
          ],
          "name": "stdout"
        }
      ]
    },
    {
      "cell_type": "code",
      "metadata": {
        "id": "K_ErJTkmRu9T",
        "outputId": "45826f89-a8fd-4107-971a-89bd8790ef01",
        "colab": {
          "base_uri": "https://localhost:8080/"
        }
      },
      "source": [
        "embedding_layer = build_embedding_layer(word2idx_train,glove_vec)"
      ],
      "execution_count": 42,
      "outputs": [
        {
          "output_type": "stream",
          "text": [
            "[[ 0.          0.          0.         ...  0.          0.\n",
            "   0.        ]\n",
            " [-0.46952999  0.38431999  0.54833001 ... -0.68914002  0.45109999\n",
            "   0.25125   ]\n",
            " [-0.038194   -0.24487001  0.72812003 ... -0.1459      0.82779998\n",
            "   0.27061999]\n",
            " ...\n",
            " [ 0.          0.          0.         ...  0.          0.\n",
            "   0.        ]\n",
            " [-0.14323001  0.36419001  0.58095002 ... -0.064447   -0.26234001\n",
            "   0.65477997]\n",
            " [-0.22355001  0.48787001  0.1358     ... -0.32775    -0.050633\n",
            "  -0.53570002]]\n"
          ],
          "name": "stdout"
        }
      ]
    },
    {
      "cell_type": "code",
      "metadata": {
        "colab": {
          "base_uri": "https://localhost:8080/"
        },
        "id": "OxOPPvdi0ImX",
        "outputId": "55a4d4a9-898c-4b99-a908-2b7eb2753dc5"
      },
      "source": [
        "cnn = _build_CNN(len(y[0]),embedding_layer)"
      ],
      "execution_count": 43,
      "outputs": [
        {
          "output_type": "stream",
          "text": [
            "Building model...\n",
            "Model: \"model\"\n",
            "_________________________________________________________________\n",
            "Layer (type)                 Output Shape              Param #   \n",
            "=================================================================\n",
            "input_1 (InputLayer)         [(None, 121)]             0         \n",
            "_________________________________________________________________\n",
            "embedding (Embedding)        (None, 121, 100)          869700    \n",
            "_________________________________________________________________\n",
            "conv1d (Conv1D)              (None, 119, 128)          38528     \n",
            "_________________________________________________________________\n",
            "max_pooling1d (MaxPooling1D) (None, 39, 128)           0         \n",
            "_________________________________________________________________\n",
            "dropout (Dropout)            (None, 39, 128)           0         \n",
            "_________________________________________________________________\n",
            "conv1d_1 (Conv1D)            (None, 37, 128)           49280     \n",
            "_________________________________________________________________\n",
            "max_pooling1d_1 (MaxPooling1 (None, 12, 128)           0         \n",
            "_________________________________________________________________\n",
            "dropout_1 (Dropout)          (None, 12, 128)           0         \n",
            "_________________________________________________________________\n",
            "conv1d_2 (Conv1D)            (None, 10, 128)           49280     \n",
            "_________________________________________________________________\n",
            "global_max_pooling1d (Global (None, 128)               0         \n",
            "_________________________________________________________________\n",
            "dense (Dense)                (None, 128)               16512     \n",
            "_________________________________________________________________\n",
            "dense_1 (Dense)              (None, 7)                 903       \n",
            "=================================================================\n",
            "Total params: 1,024,203\n",
            "Trainable params: 154,503\n",
            "Non-trainable params: 869,700\n",
            "_________________________________________________________________\n",
            "None\n",
            "Done..\n"
          ],
          "name": "stdout"
        }
      ]
    },
    {
      "cell_type": "code",
      "metadata": {
        "colab": {
          "base_uri": "https://localhost:8080/"
        },
        "id": "U1e11b2QLESn",
        "outputId": "74cc33e4-8163-4792-e95b-4be34968a183"
      },
      "source": [
        "from keras.callbacks import EarlyStopping\n",
        "\n",
        "early_stopping_monitor = EarlyStopping(patience = 5)\n",
        "\n",
        "cnn_train = cnn.fit(\n",
        "    data_train,\n",
        "    labels,\n",
        "    batch_size=BATCH_SIZE,\n",
        "    epochs=EPOCHS,\n",
        "    validation_split=VALIDATION_SPLIT,\n",
        "    callbacks = [early_stopping_monitor]\n",
        ")"
      ],
      "execution_count": 44,
      "outputs": [
        {
          "output_type": "stream",
          "text": [
            "Epoch 1/40\n",
            "88/88 [==============================] - 28s 134ms/step - loss: 0.5275 - accuracy: 0.1586 - val_loss: 0.4185 - val_accuracy: 0.4856\n",
            "Epoch 2/40\n",
            "88/88 [==============================] - 11s 126ms/step - loss: 0.4091 - accuracy: 0.4872 - val_loss: 0.3991 - val_accuracy: 0.5425\n",
            "Epoch 3/40\n",
            "88/88 [==============================] - 11s 126ms/step - loss: 0.3862 - accuracy: 0.5380 - val_loss: 0.3834 - val_accuracy: 0.5780\n",
            "Epoch 4/40\n",
            "88/88 [==============================] - 11s 126ms/step - loss: 0.3757 - accuracy: 0.5742 - val_loss: 0.3749 - val_accuracy: 0.6129\n",
            "Epoch 5/40\n",
            "88/88 [==============================] - 11s 126ms/step - loss: 0.3584 - accuracy: 0.6120 - val_loss: 0.3698 - val_accuracy: 0.6356\n",
            "Epoch 6/40\n",
            "88/88 [==============================] - 11s 126ms/step - loss: 0.3528 - accuracy: 0.6449 - val_loss: 0.3706 - val_accuracy: 0.6349\n",
            "Epoch 7/40\n",
            "88/88 [==============================] - 11s 125ms/step - loss: 0.3410 - accuracy: 0.6564 - val_loss: 0.3626 - val_accuracy: 0.6520\n",
            "Epoch 8/40\n",
            "88/88 [==============================] - 11s 126ms/step - loss: 0.3332 - accuracy: 0.6724 - val_loss: 0.3643 - val_accuracy: 0.6538\n",
            "Epoch 9/40\n",
            "88/88 [==============================] - 11s 126ms/step - loss: 0.3286 - accuracy: 0.6848 - val_loss: 0.3620 - val_accuracy: 0.6577\n",
            "Epoch 10/40\n",
            "88/88 [==============================] - 11s 126ms/step - loss: 0.3217 - accuracy: 0.6845 - val_loss: 0.3601 - val_accuracy: 0.6729\n",
            "Epoch 11/40\n",
            "88/88 [==============================] - 11s 126ms/step - loss: 0.3123 - accuracy: 0.7060 - val_loss: 0.3566 - val_accuracy: 0.6790\n",
            "Epoch 12/40\n",
            "88/88 [==============================] - 11s 126ms/step - loss: 0.3092 - accuracy: 0.7049 - val_loss: 0.3638 - val_accuracy: 0.6438\n",
            "Epoch 13/40\n",
            "88/88 [==============================] - 11s 125ms/step - loss: 0.3076 - accuracy: 0.7132 - val_loss: 0.3648 - val_accuracy: 0.6029\n",
            "Epoch 14/40\n",
            "88/88 [==============================] - 11s 126ms/step - loss: 0.3069 - accuracy: 0.6968 - val_loss: 0.3661 - val_accuracy: 0.6402\n",
            "Epoch 15/40\n",
            "88/88 [==============================] - 11s 126ms/step - loss: 0.3007 - accuracy: 0.7119 - val_loss: 0.3597 - val_accuracy: 0.6456\n",
            "Epoch 16/40\n",
            "88/88 [==============================] - 11s 125ms/step - loss: 0.2948 - accuracy: 0.7294 - val_loss: 0.3764 - val_accuracy: 0.5731\n"
          ],
          "name": "stdout"
        }
      ]
    },
    {
      "cell_type": "code",
      "metadata": {
        "colab": {
          "base_uri": "https://localhost:8080/",
          "height": 530
        },
        "id": "FWCZJATbM5qw",
        "outputId": "ac997c89-7a88-4b6b-8226-77933d76285c"
      },
      "source": [
        "# plot some data\n",
        "plt.plot(cnn_train.history['loss'], label='loss')\n",
        "plt.plot(cnn_train.history['val_loss'], label='val_loss')\n",
        "plt.legend()\n",
        "plt.show()\n",
        "\n",
        "# accuracies\n",
        "plt.plot(cnn_train.history['accuracy'], label='acc')\n",
        "plt.plot(cnn_train.history['val_accuracy'], label='val_acc')\n",
        "plt.legend()\n",
        "plt.show()\n",
        "\n",
        "# plot the mean AUC over each label\n",
        "p = cnn.predict(data_train)\n",
        "aucs = []\n",
        "for j in range(6):\n",
        "    auc = roc_auc_score(labels[:,j], p[:,j])\n",
        "    aucs.append(auc)\n",
        "print(np.mean(aucs))"
      ],
      "execution_count": null,
      "outputs": [
        {
          "output_type": "display_data",
          "data": {
            "image/png": "[encoded data removed]",
            "text/plain": [
              "<Figure size 432x288 with 1 Axes>"
            ]
          },
          "metadata": {
            "tags": [],
            "needs_background": "light"
          }
        },
        {
          "output_type": "display_data",
          "data": {
            "image/png": "[encoded data removed]",
            "text/plain": [
              "<Figure size 432x288 with 1 Axes>"
            ]
          },
          "metadata": {
            "tags": [],
            "needs_background": "light"
          }
        },
        {
          "output_type": "stream",
          "text": [
            "0.8937591387092031\n"
          ],
          "name": "stdout"
        }
      ]
    },
    {
      "cell_type": "markdown",
      "metadata": {
        "id": "8M_1ix_RNo9m"
      },
      "source": [
        "##### Evaluation on test set (CNN)"
      ]
    },
    {
      "cell_type": "code",
      "metadata": {
        "id": "wOlLS37jkhjK"
      },
      "source": [
        "labels = test_df.iloc[:,1:-1].values\n",
        "sentences = test_df.iloc[:,-1].values"
      ],
      "execution_count": null,
      "outputs": []
    },
    {
      "cell_type": "code",
      "metadata": {
        "id": "bQ6PQljVhBQv",
        "colab": {
          "base_uri": "https://localhost:8080/"
        },
        "outputId": "70aea2a0-db69-43a1-a9ec-cd2f4b9159cf"
      },
      "source": [
        " test_data = preprocessing_testSet(sentences)"
      ],
      "execution_count": null,
      "outputs": [
        {
          "output_type": "stream",
          "text": [
            "sequences[0]: [2, 581, 1, 437]\n",
            "Shape of data tensor: (2482, 121)\n"
          ],
          "name": "stdout"
        }
      ]
    },
    {
      "cell_type": "code",
      "metadata": {
        "id": "JNJvgopaNsKa"
      },
      "source": [
        "test_pred = cnn.predict(test_data)\n",
        "test_df_labels = labels"
      ],
      "execution_count": null,
      "outputs": []
    },
    {
      "cell_type": "code",
      "metadata": {
        "id": "NR9Y2AhM2XLz",
        "colab": {
          "base_uri": "https://localhost:8080/"
        },
        "outputId": "26a84d0b-2670-4ee9-e2b1-093251a5a05c"
      },
      "source": [
        "print(get_classification_report(test_pred, test_df_labels))"
      ],
      "execution_count": null,
      "outputs": [
        {
          "output_type": "stream",
          "text": [
            "                 precision    recall  f1-score   support\n",
            "\n",
            "      Ethnicity       0.47      0.34      0.39       784\n",
            "         gender       0.19      0.14      0.16       304\n",
            "     profession       0.32      0.19      0.24       467\n",
            "       religion       0.39      0.39      0.39       293\n",
            "Anti-stereotype       0.34      0.03      0.05       778\n",
            "     stereotype       0.59      0.46      0.52      1070\n",
            "      unrelated       0.46      0.50      0.48       634\n",
            "\n",
            "      micro avg       0.45      0.31      0.37      4330\n",
            "      macro avg       0.39      0.29      0.32      4330\n",
            "   weighted avg       0.43      0.31      0.34      4330\n",
            "    samples avg       0.39      0.33      0.35      4330\n",
            "\n"
          ],
          "name": "stdout"
        }
      ]
    },
    {
      "cell_type": "code",
      "metadata": {
        "colab": {
          "base_uri": "https://localhost:8080/"
        },
        "id": "1d2PWt9d2XL_",
        "outputId": "a521d8af-7e15-4467-b867-3fb8aa116924"
      },
      "source": [
        "write_to_file = True \n",
        "classification_metrics(test_pred, test_df_labels,\"CNN_Glove\",0.5)"
      ],
      "execution_count": null,
      "outputs": [
        {
          "output_type": "stream",
          "text": [
            "Evaluation metrics for test set:\n",
            "\n",
            " ROC-AUC score: 0.613561 \n",
            "\n",
            "\n",
            " Subset accuracy : 0.211523 \n",
            "\n",
            "\n",
            " hamming_loss : 0.264763 \n",
            "\n",
            "\n",
            " hamming score : 0.310737 \n",
            "\n",
            "\n",
            " sample average  precision_sample_average : 0.385173 \n",
            "\n",
            "\n",
            " sample average  recall_sample_average : 0.334811 \n",
            "\n",
            "\n",
            " sample average  f1_sample_average : 0.351262 \n",
            "\n",
            "  Saving the metrics into a file: eval_results_CNN_Glove_0.5_.json with threshold :0.5\n"
          ],
          "name": "stdout"
        },
        {
          "output_type": "stream",
          "text": [
            "/usr/local/lib/python3.7/dist-packages/sklearn/metrics/_classification.py:1221: UndefinedMetricWarning: Precision is ill-defined and being set to 0.0 in samples with no predicted labels. Use `zero_division` parameter to control this behavior.\n",
            "  _warn_prf(average, modifier, msg_start, len(result))\n",
            "/usr/local/lib/python3.7/dist-packages/sklearn/metrics/_classification.py:1221: UndefinedMetricWarning: Precision and F-score are ill-defined and being set to 0.0 in samples with no predicted labels. Use `zero_division` parameter to control this behavior.\n",
            "  _warn_prf(average, modifier, msg_start, len(result))\n"
          ],
          "name": "stderr"
        }
      ]
    },
    {
      "cell_type": "markdown",
      "metadata": {
        "id": "niKpbV5_bcyZ"
      },
      "source": [
        "#### fastText (Handle out of vocab tokens)\n",
        "\n",
        "* Uses bag of character n-grams as opposed to word n-grams used in word2vec and glove"
      ]
    },
    {
      "cell_type": "code",
      "metadata": {
        "colab": {
          "base_uri": "https://localhost:8080/"
        },
        "id": "grXDfI1xW-W4",
        "outputId": "198d17ce-e52a-4a7a-d4bf-fe3e3d9cec64"
      },
      "source": [
        "from google.colab import drive\n",
        "drive.mount('/content/drive')"
      ],
      "execution_count": null,
      "outputs": [
        {
          "output_type": "stream",
          "text": [
            "Mounted at /content/drive\n"
          ],
          "name": "stdout"
        }
      ]
    },
    {
      "cell_type": "code",
      "metadata": {
        "colab": {
          "base_uri": "https://localhost:8080/"
        },
        "id": "hjnNYG6Tabeb",
        "outputId": "02c6f8bc-f547-4c8d-88ae-201009b06ed6"
      },
      "source": [
        "import numpy as np\n",
        "\n",
        "fasttext_vec = get_word_vectors('/content/drive/MyDrive/wiki-news-300d-1M.vec')"
      ],
      "execution_count": null,
      "outputs": [
        {
          "output_type": "stream",
          "text": [
            "Found 999995 word vectors.\n"
          ],
          "name": "stdout"
        }
      ]
    },
    {
      "cell_type": "code",
      "metadata": {
        "id": "g-GSvgFufhPi"
      },
      "source": [
        "embedding_layer = build_embedding_layer(word2idx_train,fasttext_vec, emb_dim = 300)"
      ],
      "execution_count": null,
      "outputs": []
    },
    {
      "cell_type": "code",
      "metadata": {
        "colab": {
          "base_uri": "https://localhost:8080/"
        },
        "id": "Cu8z4t7frBKC",
        "outputId": "b3b1eb41-6aaa-4035-993a-7102b4650985"
      },
      "source": [
        "cnn = _build_CNN(len(y[0]),embedding_layer)"
      ],
      "execution_count": null,
      "outputs": [
        {
          "output_type": "stream",
          "text": [
            "Building model...\n",
            "Model: \"model\"\n",
            "_________________________________________________________________\n",
            "Layer (type)                 Output Shape              Param #   \n",
            "=================================================================\n",
            "input_1 (InputLayer)         [(None, 121)]             0         \n",
            "_________________________________________________________________\n",
            "embedding (Embedding)        (None, 121, 300)          2609100   \n",
            "_________________________________________________________________\n",
            "conv1d (Conv1D)              (None, 119, 128)          115328    \n",
            "_________________________________________________________________\n",
            "max_pooling1d (MaxPooling1D) (None, 39, 128)           0         \n",
            "_________________________________________________________________\n",
            "dropout (Dropout)            (None, 39, 128)           0         \n",
            "_________________________________________________________________\n",
            "conv1d_1 (Conv1D)            (None, 37, 128)           49280     \n",
            "_________________________________________________________________\n",
            "max_pooling1d_1 (MaxPooling1 (None, 12, 128)           0         \n",
            "_________________________________________________________________\n",
            "dropout_1 (Dropout)          (None, 12, 128)           0         \n",
            "_________________________________________________________________\n",
            "conv1d_2 (Conv1D)            (None, 10, 128)           49280     \n",
            "_________________________________________________________________\n",
            "global_max_pooling1d (Global (None, 128)               0         \n",
            "_________________________________________________________________\n",
            "dense (Dense)                (None, 128)               16512     \n",
            "_________________________________________________________________\n",
            "dense_1 (Dense)              (None, 7)                 903       \n",
            "=================================================================\n",
            "Total params: 2,840,403\n",
            "Trainable params: 231,303\n",
            "Non-trainable params: 2,609,100\n",
            "_________________________________________________________________\n",
            "None\n",
            "Done..\n"
          ],
          "name": "stdout"
        }
      ]
    },
    {
      "cell_type": "code",
      "metadata": {
        "colab": {
          "base_uri": "https://localhost:8080/"
        },
        "id": "6SsIDkX2rBKD",
        "outputId": "852bf1bd-c969-4769-9e8e-bb4d2186502b"
      },
      "source": [
        "from keras.callbacks import EarlyStopping\n",
        "\n",
        "early_stopping_monitor = EarlyStopping(patience = 5)\n",
        "\n",
        "cnn_train = cnn.fit(\n",
        "    data_train,\n",
        "    labels,\n",
        "    batch_size=BATCH_SIZE,\n",
        "    epochs=EPOCHS,\n",
        "    validation_split=VALIDATION_SPLIT,\n",
        "    callbacks = [early_stopping_monitor]\n",
        ")"
      ],
      "execution_count": null,
      "outputs": [
        {
          "output_type": "stream",
          "text": [
            "Epoch 1/40\n",
            "88/88 [==============================] - 40s 253ms/step - loss: 0.5262 - accuracy: 0.1650 - val_loss: 0.4081 - val_accuracy: 0.5389\n",
            "Epoch 2/40\n",
            "88/88 [==============================] - 22s 249ms/step - loss: 0.3934 - accuracy: 0.5356 - val_loss: 0.3955 - val_accuracy: 0.5635\n",
            "Epoch 3/40\n",
            "88/88 [==============================] - 22s 248ms/step - loss: 0.3746 - accuracy: 0.5833 - val_loss: 0.3775 - val_accuracy: 0.6107\n",
            "Epoch 4/40\n",
            "88/88 [==============================] - 22s 253ms/step - loss: 0.3584 - accuracy: 0.6310 - val_loss: 0.3679 - val_accuracy: 0.6527\n",
            "Epoch 5/40\n",
            "88/88 [==============================] - 21s 242ms/step - loss: 0.3427 - accuracy: 0.6612 - val_loss: 0.3731 - val_accuracy: 0.6488\n",
            "Epoch 6/40\n",
            "88/88 [==============================] - 22s 251ms/step - loss: 0.3320 - accuracy: 0.6887 - val_loss: 0.3655 - val_accuracy: 0.6559\n",
            "Epoch 7/40\n",
            "88/88 [==============================] - 22s 248ms/step - loss: 0.3255 - accuracy: 0.6974 - val_loss: 0.3673 - val_accuracy: 0.6790\n",
            "Epoch 8/40\n",
            "88/88 [==============================] - 21s 244ms/step - loss: 0.3122 - accuracy: 0.7290 - val_loss: 0.3547 - val_accuracy: 0.6765\n",
            "Epoch 9/40\n",
            "88/88 [==============================] - 22s 245ms/step - loss: 0.3048 - accuracy: 0.7430 - val_loss: 0.3569 - val_accuracy: 0.6772\n",
            "Epoch 10/40\n",
            "88/88 [==============================] - 22s 248ms/step - loss: 0.2986 - accuracy: 0.7509 - val_loss: 0.3577 - val_accuracy: 0.6904\n",
            "Epoch 11/40\n",
            "88/88 [==============================] - 22s 245ms/step - loss: 0.2920 - accuracy: 0.7574 - val_loss: 0.3732 - val_accuracy: 0.6793\n",
            "Epoch 12/40\n",
            "88/88 [==============================] - 21s 242ms/step - loss: 0.2921 - accuracy: 0.7388 - val_loss: 0.3672 - val_accuracy: 0.5894\n",
            "Epoch 13/40\n",
            "88/88 [==============================] - 22s 249ms/step - loss: 0.2836 - accuracy: 0.7048 - val_loss: 0.3638 - val_accuracy: 0.6146\n"
          ],
          "name": "stdout"
        }
      ]
    },
    {
      "cell_type": "code",
      "metadata": {
        "colab": {
          "base_uri": "https://localhost:8080/",
          "height": 531
        },
        "id": "T2jBqfTarBKE",
        "outputId": "6c006f72-c511-4ae9-8b17-57f78546184a"
      },
      "source": [
        "# plot some data\n",
        "plt.plot(cnn_train.history['loss'], label='loss')\n",
        "plt.plot(cnn_train.history['val_loss'], label='val_loss')\n",
        "plt.legend()\n",
        "plt.show()\n",
        "\n",
        "# accuracies\n",
        "plt.plot(cnn_train.history['accuracy'], label='acc')\n",
        "plt.plot(cnn_train.history['val_accuracy'], label='val_acc')\n",
        "plt.legend()\n",
        "plt.show()\n",
        "\n",
        "# plot the mean AUC over each label\n",
        "p = cnn.predict(data_train)\n",
        "aucs = []\n",
        "for j in range(6):\n",
        "    auc = roc_auc_score(labels[:,j], p[:,j])\n",
        "    aucs.append(auc)\n",
        "print(np.mean(aucs))"
      ],
      "execution_count": null,
      "outputs": [
        {
          "output_type": "display_data",
          "data": {
            "image/png": "[encoded data removed]",
            "text/plain": [
              "<Figure size 432x288 with 1 Axes>"
            ]
          },
          "metadata": {
            "tags": [],
            "needs_background": "light"
          }
        },
        {
          "output_type": "display_data",
          "data": {
            "image/png": "[encoded data removed]",
            "text/plain": [
              "<Figure size 432x288 with 1 Axes>"
            ]
          },
          "metadata": {
            "tags": [],
            "needs_background": "light"
          }
        },
        {
          "output_type": "stream",
          "text": [
            "0.8983469113782108\n"
          ],
          "name": "stdout"
        }
      ]
    },
    {
      "cell_type": "markdown",
      "metadata": {
        "id": "RPJ6-O5-rBKF"
      },
      "source": [
        "##### Evaluation on test set (CNN)"
      ]
    },
    {
      "cell_type": "code",
      "metadata": {
        "id": "jUkqKhBzrBKG"
      },
      "source": [
        "labels = test_df.iloc[:,1:-1].values\n",
        "sentences = test_df.iloc[:,-1].values"
      ],
      "execution_count": null,
      "outputs": []
    },
    {
      "cell_type": "code",
      "metadata": {
        "colab": {
          "base_uri": "https://localhost:8080/"
        },
        "id": "K7TglDM9rBKG",
        "outputId": "09f46e1b-7a73-4f1b-a39b-f5d02d71636e"
      },
      "source": [
        "test_data = preprocessing_testSet(sentences)"
      ],
      "execution_count": null,
      "outputs": [
        {
          "output_type": "stream",
          "text": [
            "sequences[0]: [2, 581, 1, 437]\n",
            "Shape of data tensor: (2482, 121)\n"
          ],
          "name": "stdout"
        }
      ]
    },
    {
      "cell_type": "code",
      "metadata": {
        "id": "woYoiz46rBKG"
      },
      "source": [
        "test_pred = cnn.predict(test_data)\n",
        "test_df_labels = labels"
      ],
      "execution_count": null,
      "outputs": []
    },
    {
      "cell_type": "code",
      "metadata": {
        "colab": {
          "base_uri": "https://localhost:8080/"
        },
        "id": "eYfq9jP_rBKG",
        "outputId": "d400d612-c864-4345-cbae-b09640458fed"
      },
      "source": [
        "print(get_classification_report(test_pred,test_df_labels))"
      ],
      "execution_count": null,
      "outputs": [
        {
          "output_type": "stream",
          "text": [
            "                 precision    recall  f1-score   support\n",
            "\n",
            "      Ethnicity       0.44      0.34      0.39       784\n",
            "         gender       0.15      0.08      0.11       304\n",
            "     profession       0.33      0.24      0.28       467\n",
            "       religion       0.45      0.47      0.46       293\n",
            "Anti-stereotype       0.40      0.15      0.22       778\n",
            "     stereotype       0.61      0.38      0.46      1070\n",
            "      unrelated       0.49      0.61      0.54       634\n",
            "\n",
            "      micro avg       0.46      0.33      0.39      4330\n",
            "      macro avg       0.41      0.32      0.35      4330\n",
            "   weighted avg       0.45      0.33      0.37      4330\n",
            "    samples avg       0.42      0.37      0.38      4330\n",
            "\n"
          ],
          "name": "stdout"
        }
      ]
    },
    {
      "cell_type": "code",
      "metadata": {
        "colab": {
          "base_uri": "https://localhost:8080/"
        },
        "id": "Girn47dQrBKG",
        "outputId": "748ba9fc-8201-4e37-bedc-5ff9ae75ed32"
      },
      "source": [
        "write_to_file = True \n",
        "classification_metrics(test_pred, test_df_labels,\"CNN_fasttext\",0.5)"
      ],
      "execution_count": null,
      "outputs": [
        {
          "output_type": "stream",
          "text": [
            "Evaluation metrics for test set:\n",
            "\n",
            " ROC-AUC score: 0.620326 \n",
            "\n",
            "\n",
            " Subset accuracy : 0.255439 \n",
            "\n",
            "\n",
            " hamming_loss : 0.264476 \n",
            "\n",
            "\n",
            " hamming score : 0.347603 \n",
            "\n",
            "\n",
            " sample average  precision_sample_average : 0.418345 \n",
            "\n",
            "\n",
            " sample average  recall_sample_average : 0.368856 \n",
            "\n",
            "\n",
            " sample average  f1_sample_average : 0.384945 \n",
            "\n",
            "  Saving the metrics into a file: eval_results_CNN_fasttext_0.5_.json with threshold :0.5\n"
          ],
          "name": "stdout"
        },
        {
          "output_type": "stream",
          "text": [
            "/usr/local/lib/python3.7/dist-packages/sklearn/metrics/_classification.py:1221: UndefinedMetricWarning: Precision is ill-defined and being set to 0.0 in samples with no predicted labels. Use `zero_division` parameter to control this behavior.\n",
            "  _warn_prf(average, modifier, msg_start, len(result))\n",
            "/usr/local/lib/python3.7/dist-packages/sklearn/metrics/_classification.py:1221: UndefinedMetricWarning: Precision and F-score are ill-defined and being set to 0.0 in samples with no predicted labels. Use `zero_division` parameter to control this behavior.\n",
            "  _warn_prf(average, modifier, msg_start, len(result))\n"
          ],
          "name": "stderr"
        }
      ]
    },
    {
      "cell_type": "markdown",
      "metadata": {
        "id": "D5MRFHVebgUi"
      },
      "source": [
        "#### ELMo/Flair (Contextual word embeddings)\n",
        "\n",
        "Paper: https://drive.google.com/file/d/17yVpFA7MmXaQFTe-HDpZuqw9fJlmzg56/view\n",
        "\n",
        "[1] [http://damir.cavar.me/pynotebooks/Flair_Tutorial_on_Document_Classification.html]\n",
        "\n",
        "Model used :\n",
        "\n",
        "  * Forward-backward recurrent neural network \n",
        "  * Combining forward and backward to create semantically and syntactically meaningful word embeddings.\n",
        "\n",
        "Stacked embeddings:\n",
        "  * As suggested by authors [1],concatenating the embeddings gives best results.\n",
        "  * Using the stacked flair forward and backward embeddings.\n",
        "\n",
        "Document embeddings:\n",
        "  * Embed the entire document or sentence to a single embedding, rather than embedding each word.\n",
        "  * Document embedding methods :\n",
        "\n",
        "    * `DocumentPoolEmebeddings` : \n",
        "      * Take mean pooling of the stacked word embeddings.\n",
        "\n",
        "\n",
        "\n"
      ]
    },
    {
      "cell_type": "code",
      "metadata": {
        "id": "ojnv7tJluEQ0"
      },
      "source": [
        "MAX_SEQUENCE_LENGTH = 50\n",
        "MAX_VOCAB_SIZE = 20000 # Based on usage\n",
        "EMBEDDING_DIM = 4096 # Flair dimentions\n",
        "EPOCHS = 40"
      ],
      "execution_count": null,
      "outputs": []
    },
    {
      "cell_type": "code",
      "metadata": {
        "colab": {
          "base_uri": "https://localhost:8080/",
          "height": 1000
        },
        "id": "utOohuodbhTp",
        "outputId": "b402ca71-e8d8-4c98-e27b-ec5178b62684"
      },
      "source": [
        "import torch\n",
        "!pip install flair\n",
        "import flair"
      ],
      "execution_count": null,
      "outputs": [
        {
          "output_type": "stream",
          "text": [
            "Collecting flair\n",
            "  Downloading flair-0.8.0.post1-py3-none-any.whl (284 kB)\n",
            "\u001b[?25l\r\u001b[K     |█▏                              | 10 kB 21.5 MB/s eta 0:00:01\r\u001b[K     |██▎                             | 20 kB 27.6 MB/s eta 0:00:01\r\u001b[K     |███▌                            | 30 kB 13.4 MB/s eta 0:00:01\r\u001b[K     |████▋                           | 40 kB 10.4 MB/s eta 0:00:01\r\u001b[K     |█████▊                          | 51 kB 4.5 MB/s eta 0:00:01\r\u001b[K     |███████                         | 61 kB 4.7 MB/s eta 0:00:01\r\u001b[K     |████████                        | 71 kB 4.6 MB/s eta 0:00:01\r\u001b[K     |█████████▏                      | 81 kB 5.1 MB/s eta 0:00:01\r\u001b[K     |██████████▍                     | 92 kB 5.0 MB/s eta 0:00:01\r\u001b[K     |███████████▌                    | 102 kB 4.3 MB/s eta 0:00:01\r\u001b[K     |████████████▋                   | 112 kB 4.3 MB/s eta 0:00:01\r\u001b[K     |█████████████▉                  | 122 kB 4.3 MB/s eta 0:00:01\r\u001b[K     |███████████████                 | 133 kB 4.3 MB/s eta 0:00:01\r\u001b[K     |████████████████                | 143 kB 4.3 MB/s eta 0:00:01\r\u001b[K     |█████████████████▎              | 153 kB 4.3 MB/s eta 0:00:01\r\u001b[K     |██████████████████▍             | 163 kB 4.3 MB/s eta 0:00:01\r\u001b[K     |███████████████████▋            | 174 kB 4.3 MB/s eta 0:00:01\r\u001b[K     |████████████████████▊           | 184 kB 4.3 MB/s eta 0:00:01\r\u001b[K     |█████████████████████▉          | 194 kB 4.3 MB/s eta 0:00:01\r\u001b[K     |███████████████████████         | 204 kB 4.3 MB/s eta 0:00:01\r\u001b[K     |████████████████████████▏       | 215 kB 4.3 MB/s eta 0:00:01\r\u001b[K     |█████████████████████████▎      | 225 kB 4.3 MB/s eta 0:00:01\r\u001b[K     |██████████████████████████▌     | 235 kB 4.3 MB/s eta 0:00:01\r\u001b[K     |███████████████████████████▋    | 245 kB 4.3 MB/s eta 0:00:01\r\u001b[K     |████████████████████████████▊   | 256 kB 4.3 MB/s eta 0:00:01\r\u001b[K     |██████████████████████████████  | 266 kB 4.3 MB/s eta 0:00:01\r\u001b[K     |███████████████████████████████ | 276 kB 4.3 MB/s eta 0:00:01\r\u001b[K     |████████████████████████████████| 284 kB 4.3 MB/s \n",
            "\u001b[?25hRequirement already satisfied: scikit-learn>=0.21.3 in /usr/local/lib/python3.7/dist-packages (from flair) (0.23.2)\n",
            "Collecting sentencepiece==0.1.95\n",
            "  Downloading sentencepiece-0.1.95-cp37-cp37m-manylinux2014_x86_64.whl (1.2 MB)\n",
            "\u001b[K     |████████████████████████████████| 1.2 MB 45.5 MB/s \n",
            "\u001b[?25hCollecting konoha<5.0.0,>=4.0.0\n",
            "  Downloading konoha-4.6.5-py3-none-any.whl (20 kB)\n",
            "Requirement already satisfied: hyperopt>=0.1.1 in /usr/local/lib/python3.7/dist-packages (from flair) (0.1.2)\n",
            "Collecting gdown==3.12.2\n",
            "  Downloading gdown-3.12.2.tar.gz (8.2 kB)\n",
            "  Installing build dependencies ... \u001b[?25l\u001b[?25hdone\n",
            "  Getting requirements to build wheel ... \u001b[?25l\u001b[?25hdone\n",
            "    Preparing wheel metadata ... \u001b[?25l\u001b[?25hdone\n",
            "Requirement already satisfied: tabulate in /usr/local/lib/python3.7/dist-packages (from flair) (0.8.9)\n",
            "Requirement already satisfied: python-dateutil>=2.6.1 in /usr/local/lib/python3.7/dist-packages (from flair) (2.8.2)\n",
            "Requirement already satisfied: lxml in /usr/local/lib/python3.7/dist-packages (from flair) (4.2.6)\n",
            "Collecting torch<=1.7.1,>=1.5.0\n",
            "  Downloading torch-1.7.1-cp37-cp37m-manylinux1_x86_64.whl (776.8 MB)\n",
            "\u001b[K     |████████████████████████████████| 776.8 MB 17 kB/s \n",
            "\u001b[?25hRequirement already satisfied: regex in /usr/local/lib/python3.7/dist-packages (from flair) (2019.12.20)\n",
            "Requirement already satisfied: langdetect in /usr/local/lib/python3.7/dist-packages (from flair) (1.0.9)\n",
            "Requirement already satisfied: tqdm>=4.26.0 in /usr/local/lib/python3.7/dist-packages (from flair) (4.62.0)\n",
            "Collecting ftfy\n",
            "  Downloading ftfy-6.0.3.tar.gz (64 kB)\n",
            "\u001b[K     |████████████████████████████████| 64 kB 3.3 MB/s \n",
            "\u001b[?25hRequirement already satisfied: transformers>=4.0.0 in /usr/local/lib/python3.7/dist-packages (from flair) (4.3.3)\n",
            "Requirement already satisfied: gensim<=3.8.3,>=3.4.0 in /usr/local/lib/python3.7/dist-packages (from flair) (3.6.0)\n",
            "Collecting mpld3==0.3\n",
            "  Downloading mpld3-0.3.tar.gz (788 kB)\n",
            "\u001b[K     |████████████████████████████████| 788 kB 37.7 MB/s \n",
            "\u001b[?25hRequirement already satisfied: numpy<1.20.0 in /usr/local/lib/python3.7/dist-packages (from flair) (1.19.5)\n",
            "Collecting sqlitedict>=1.6.0\n",
            "  Downloading sqlitedict-1.7.0.tar.gz (28 kB)\n",
            "Collecting janome\n",
            "  Downloading Janome-0.4.1-py2.py3-none-any.whl (19.7 MB)\n",
            "\u001b[K     |████████████████████████████████| 19.7 MB 1.2 MB/s \n",
            "\u001b[?25hCollecting segtok>=1.5.7\n",
            "  Downloading segtok-1.5.10.tar.gz (25 kB)\n",
            "Collecting deprecated>=1.2.4\n",
            "  Downloading Deprecated-1.2.12-py2.py3-none-any.whl (9.5 kB)\n",
            "Collecting huggingface-hub\n",
            "  Downloading huggingface_hub-0.0.15-py3-none-any.whl (43 kB)\n",
            "\u001b[K     |████████████████████████████████| 43 kB 2.3 MB/s \n",
            "\u001b[?25hRequirement already satisfied: matplotlib>=2.2.3 in /usr/local/lib/python3.7/dist-packages (from flair) (3.2.2)\n",
            "Collecting bpemb>=0.3.2\n",
            "  Downloading bpemb-0.3.3-py3-none-any.whl (19 kB)\n",
            "Requirement already satisfied: requests[socks] in /usr/local/lib/python3.7/dist-packages (from gdown==3.12.2->flair) (2.23.0)\n",
            "Requirement already satisfied: six in /usr/local/lib/python3.7/dist-packages (from gdown==3.12.2->flair) (1.15.0)\n",
            "Requirement already satisfied: filelock in /usr/local/lib/python3.7/dist-packages (from gdown==3.12.2->flair) (3.0.12)\n",
            "Requirement already satisfied: wrapt<2,>=1.10 in /usr/local/lib/python3.7/dist-packages (from deprecated>=1.2.4->flair) (1.12.1)\n",
            "Requirement already satisfied: smart-open>=1.2.1 in /usr/local/lib/python3.7/dist-packages (from gensim<=3.8.3,>=3.4.0->flair) (5.1.0)\n",
            "Requirement already satisfied: scipy>=0.18.1 in /usr/local/lib/python3.7/dist-packages (from gensim<=3.8.3,>=3.4.0->flair) (1.4.1)\n",
            "Requirement already satisfied: future in /usr/local/lib/python3.7/dist-packages (from hyperopt>=0.1.1->flair) (0.16.0)\n",
            "Requirement already satisfied: pymongo in /usr/local/lib/python3.7/dist-packages (from hyperopt>=0.1.1->flair) (3.12.0)\n",
            "Requirement already satisfied: networkx in /usr/local/lib/python3.7/dist-packages (from hyperopt>=0.1.1->flair) (2.6.2)\n",
            "Collecting importlib-metadata<4.0.0,>=3.7.0\n",
            "  Downloading importlib_metadata-3.10.1-py3-none-any.whl (14 kB)\n",
            "Collecting requests\n",
            "  Downloading requests-2.26.0-py2.py3-none-any.whl (62 kB)\n",
            "\u001b[K     |████████████████████████████████| 62 kB 822 kB/s \n",
            "\u001b[?25hCollecting overrides<4.0.0,>=3.0.0\n",
            "  Downloading overrides-3.1.0.tar.gz (11 kB)\n",
            "Requirement already satisfied: zipp>=0.5 in /usr/local/lib/python3.7/dist-packages (from importlib-metadata<4.0.0,>=3.7.0->konoha<5.0.0,>=4.0.0->flair) (3.5.0)\n",
            "Requirement already satisfied: typing-extensions>=3.6.4 in /usr/local/lib/python3.7/dist-packages (from importlib-metadata<4.0.0,>=3.7.0->konoha<5.0.0,>=4.0.0->flair) (3.7.4.3)\n",
            "Requirement already satisfied: cycler>=0.10 in /usr/local/lib/python3.7/dist-packages (from matplotlib>=2.2.3->flair) (0.10.0)\n",
            "Requirement already satisfied: pyparsing!=2.0.4,!=2.1.2,!=2.1.6,>=2.0.1 in /usr/local/lib/python3.7/dist-packages (from matplotlib>=2.2.3->flair) (2.4.7)\n",
            "Requirement already satisfied: kiwisolver>=1.0.1 in /usr/local/lib/python3.7/dist-packages (from matplotlib>=2.2.3->flair) (1.3.1)\n",
            "Requirement already satisfied: idna<4,>=2.5 in /usr/local/lib/python3.7/dist-packages (from requests->bpemb>=0.3.2->flair) (2.10)\n",
            "Requirement already satisfied: urllib3<1.27,>=1.21.1 in /usr/local/lib/python3.7/dist-packages (from requests->bpemb>=0.3.2->flair) (1.24.3)\n",
            "Requirement already satisfied: charset-normalizer~=2.0.0 in /usr/local/lib/python3.7/dist-packages (from requests->bpemb>=0.3.2->flair) (2.0.4)\n",
            "Requirement already satisfied: certifi>=2017.4.17 in /usr/local/lib/python3.7/dist-packages (from requests->bpemb>=0.3.2->flair) (2021.5.30)\n",
            "Requirement already satisfied: joblib>=0.11 in /usr/local/lib/python3.7/dist-packages (from scikit-learn>=0.21.3->flair) (1.0.1)\n",
            "Requirement already satisfied: threadpoolctl>=2.0.0 in /usr/local/lib/python3.7/dist-packages (from scikit-learn>=0.21.3->flair) (2.2.0)\n",
            "Requirement already satisfied: packaging in /usr/local/lib/python3.7/dist-packages (from transformers>=4.0.0->flair) (21.0)\n",
            "Requirement already satisfied: tokenizers<0.11,>=0.10.1 in /usr/local/lib/python3.7/dist-packages (from transformers>=4.0.0->flair) (0.10.3)\n",
            "Requirement already satisfied: sacremoses in /usr/local/lib/python3.7/dist-packages (from transformers>=4.0.0->flair) (0.0.45)\n",
            "Requirement already satisfied: wcwidth in /usr/local/lib/python3.7/dist-packages (from ftfy->flair) (0.2.5)\n",
            "Requirement already satisfied: PySocks!=1.5.7,>=1.5.6 in /usr/local/lib/python3.7/dist-packages (from requests->bpemb>=0.3.2->flair) (1.7.1)\n",
            "Requirement already satisfied: click in /usr/local/lib/python3.7/dist-packages (from sacremoses->transformers>=4.0.0->flair) (7.1.2)\n",
            "Building wheels for collected packages: gdown, mpld3, overrides, segtok, sqlitedict, ftfy\n",
            "  Building wheel for gdown (PEP 517) ... \u001b[?25l\u001b[?25hdone\n",
            "  Created wheel for gdown: filename=gdown-3.12.2-py3-none-any.whl size=9704 sha256=2158a82a8305d5ffe6069156730a88c3f09087f407574de74949c4f81dc3a77c\n",
            "  Stored in directory: /root/.cache/pip/wheels/ba/e0/7e/726e872a53f7358b4b96a9975b04e98113b005cd8609a63abc\n",
            "  Building wheel for mpld3 (setup.py) ... \u001b[?25l\u001b[?25hdone\n",
            "  Created wheel for mpld3: filename=mpld3-0.3-py3-none-any.whl size=116702 sha256=f8f71d4c7b328c38f1c7c23d677291481f3435d8b5f244a35f5acaf2a2cb2e93\n",
            "  Stored in directory: /root/.cache/pip/wheels/26/70/6a/1c79e59951a41b4045497da187b2724f5659ca64033cf4548e\n",
            "  Building wheel for overrides (setup.py) ... \u001b[?25l\u001b[?25hdone\n",
            "  Created wheel for overrides: filename=overrides-3.1.0-py3-none-any.whl size=10186 sha256=14595162551a54f217aa5b56a9eda6202af7c1e1484e72c720e5e19073639229\n",
            "  Stored in directory: /root/.cache/pip/wheels/3a/0d/38/01a9bc6e20dcfaf0a6a7b552d03137558ba1c38aea47644682\n",
            "  Building wheel for segtok (setup.py) ... \u001b[?25l\u001b[?25hdone\n",
            "  Created wheel for segtok: filename=segtok-1.5.10-py3-none-any.whl size=25030 sha256=6b0efe54f261d412952476b1a16ee6f2322e80be178c3b63ec3a43fbfa72f9e4\n",
            "  Stored in directory: /root/.cache/pip/wheels/67/b7/d0/a121106e61339eee5ed083bc230b1c8dc422c49a5a28c2addd\n",
            "  Building wheel for sqlitedict (setup.py) ... \u001b[?25l\u001b[?25hdone\n",
            "  Created wheel for sqlitedict: filename=sqlitedict-1.7.0-py3-none-any.whl size=14392 sha256=9d1e52cacb4dfeb3c0d3a1bb6aa6277ebb0371b9bd86ca45efffb2b7130fd47d\n",
            "  Stored in directory: /root/.cache/pip/wheels/af/94/06/18c0e83e9e227da8f3582810b51f319bbfd181e508676a56c8\n",
            "  Building wheel for ftfy (setup.py) ... \u001b[?25l\u001b[?25hdone\n",
            "  Created wheel for ftfy: filename=ftfy-6.0.3-py3-none-any.whl size=41933 sha256=f225b75da198f3827309330270e9cbe4b038c0d7e1dbce6adb05b01a499df144\n",
            "  Stored in directory: /root/.cache/pip/wheels/19/f5/38/273eb3b5e76dfd850619312f693716ac4518b498f5ffb6f56d\n",
            "Successfully built gdown mpld3 overrides segtok sqlitedict ftfy\n",
            "Installing collected packages: requests, sentencepiece, overrides, importlib-metadata, torch, sqlitedict, segtok, mpld3, konoha, janome, huggingface-hub, gdown, ftfy, deprecated, bpemb, flair\n",
            "  Attempting uninstall: requests\n",
            "    Found existing installation: requests 2.23.0\n",
            "    Uninstalling requests-2.23.0:\n",
            "      Successfully uninstalled requests-2.23.0\n",
            "  Attempting uninstall: sentencepiece\n",
            "    Found existing installation: sentencepiece 0.1.96\n",
            "    Uninstalling sentencepiece-0.1.96:\n",
            "      Successfully uninstalled sentencepiece-0.1.96\n",
            "  Attempting uninstall: importlib-metadata\n",
            "    Found existing installation: importlib-metadata 4.6.3\n",
            "    Uninstalling importlib-metadata-4.6.3:\n",
            "      Successfully uninstalled importlib-metadata-4.6.3\n",
            "  Attempting uninstall: torch\n",
            "    Found existing installation: torch 1.9.0+cu102\n",
            "    Uninstalling torch-1.9.0+cu102:\n",
            "      Successfully uninstalled torch-1.9.0+cu102\n",
            "  Attempting uninstall: gdown\n",
            "    Found existing installation: gdown 3.6.4\n",
            "    Uninstalling gdown-3.6.4:\n",
            "      Successfully uninstalled gdown-3.6.4\n",
            "\u001b[31mERROR: pip's dependency resolver does not currently take into account all the packages that are installed. This behaviour is the source of the following dependency conflicts.\n",
            "torchvision 0.10.0+cu102 requires torch==1.9.0, but you have torch 1.7.1 which is incompatible.\n",
            "torchtext 0.10.0 requires torch==1.9.0, but you have torch 1.7.1 which is incompatible.\n",
            "google-colab 1.0.0 requires requests~=2.23.0, but you have requests 2.26.0 which is incompatible.\n",
            "datascience 0.10.6 requires folium==0.2.1, but you have folium 0.8.3 which is incompatible.\u001b[0m\n",
            "Successfully installed bpemb-0.3.3 deprecated-1.2.12 flair-0.8.0.post1 ftfy-6.0.3 gdown-3.12.2 huggingface-hub-0.0.15 importlib-metadata-3.10.1 janome-0.4.1 konoha-4.6.5 mpld3-0.3 overrides-3.1.0 requests-2.26.0 segtok-1.5.10 sentencepiece-0.1.95 sqlitedict-1.7.0 torch-1.7.1\n"
          ],
          "name": "stdout"
        },
        {
          "output_type": "display_data",
          "data": {
            "application/vnd.colab-display-data+json": {
              "pip_warning": {
                "packages": [
                  "importlib_metadata",
                  "requests",
                  "sentencepiece",
                  "torch"
                ]
              }
            }
          },
          "metadata": {
            "tags": []
          }
        }
      ]
    },
    {
      "cell_type": "code",
      "metadata": {
        "id": "UI0miyydAOmn",
        "colab": {
          "base_uri": "https://localhost:8080/"
        },
        "outputId": "829ed3bb-3822-4443-ff47-6a01a8a04c09"
      },
      "source": [
        "from flair.embeddings import WordEmbeddings, FlairEmbeddings, DocumentPoolEmbeddings\n",
        "from flair.data import Sentence\n",
        "\n",
        "flair_embedding_forward = FlairEmbeddings('news-forward')\n",
        "flair_embedding_backward = FlairEmbeddings('news-backward')\n",
        "\n",
        "document_embeddings = DocumentPoolEmbeddings([flair_embedding_backward,\n",
        "                                              flair_embedding_forward])"
      ],
      "execution_count": null,
      "outputs": [
        {
          "output_type": "stream",
          "text": [
            "2021-08-14 17:45:27,935 https://flair.informatik.hu-berlin.de/resources/embeddings/flair/news-forward-0.4.1.pt not found in cache, downloading to /tmp/tmpur8u0git\n"
          ],
          "name": "stdout"
        },
        {
          "output_type": "stream",
          "text": [
            "100%|██████████| 73034624/73034624 [00:09<00:00, 7872290.04B/s] "
          ],
          "name": "stderr"
        },
        {
          "output_type": "stream",
          "text": [
            "2021-08-14 17:45:38,076 copying /tmp/tmpur8u0git to cache at /root/.flair/embeddings/news-forward-0.4.1.pt\n"
          ],
          "name": "stdout"
        },
        {
          "output_type": "stream",
          "text": [
            "\n"
          ],
          "name": "stderr"
        },
        {
          "output_type": "stream",
          "text": [
            "2021-08-14 17:45:38,187 removing temp file /tmp/tmpur8u0git\n",
            "2021-08-14 17:45:43,583 https://flair.informatik.hu-berlin.de/resources/embeddings/flair/news-backward-0.4.1.pt not found in cache, downloading to /tmp/tmp4nsasgzs\n"
          ],
          "name": "stdout"
        },
        {
          "output_type": "stream",
          "text": [
            "100%|██████████| 73034575/73034575 [00:09<00:00, 7855032.19B/s]"
          ],
          "name": "stderr"
        },
        {
          "output_type": "stream",
          "text": [
            "2021-08-14 17:45:53,731 copying /tmp/tmp4nsasgzs to cache at /root/.flair/embeddings/news-backward-0.4.1.pt\n",
            "2021-08-14 17:45:53,825 removing temp file /tmp/tmp4nsasgzs\n"
          ],
          "name": "stdout"
        },
        {
          "output_type": "stream",
          "text": [
            "\n"
          ],
          "name": "stderr"
        }
      ]
    },
    {
      "cell_type": "code",
      "metadata": {
        "id": "j3MOAS0Wz-gm"
      },
      "source": [
        "from flair.embeddings import StackedEmbeddings\n",
        "\n",
        "# create a StackedEmbedding object that combines glove and forward/backward flair embeddings\n",
        "stacked_embeddings = StackedEmbeddings([\n",
        "                                        flair_embedding_forward,\n",
        "                                        flair_embedding_backward,\n",
        "                                       ])"
      ],
      "execution_count": null,
      "outputs": []
    },
    {
      "cell_type": "code",
      "metadata": {
        "id": "NgJxupFx6cB5"
      },
      "source": [
        "labels = df.iloc[:,1:-1].values\n",
        "sentences = df.iloc[:,-1].tolist()"
      ],
      "execution_count": null,
      "outputs": []
    },
    {
      "cell_type": "markdown",
      "metadata": {
        "id": "sF_FF1-fNhMb"
      },
      "source": [
        "Using Segtok (https://pypi.org/project/segtok/) tokenizer \n",
        "\n",
        "Methodology:\n",
        "\n",
        "* Iterate over each sentence, for each sentence, tokenize using segtok and extract flair embeddings and take mean pooling of tokens to form sentence embedding."
      ]
    },
    {
      "cell_type": "code",
      "metadata": {
        "id": "kzoW-PMLiA25"
      },
      "source": [
        "words = []\n",
        "for word, idx in word2idx_train.items():\n",
        "    words.append(word)"
      ],
      "execution_count": null,
      "outputs": []
    },
    {
      "cell_type": "code",
      "metadata": {
        "colab": {
          "base_uri": "https://localhost:8080/"
        },
        "id": "tArz87gctZsy",
        "outputId": "1534e4c0-a675-46df-bc7d-6e00284661d4"
      },
      "source": [
        "word2idx_train.get('corgi')"
      ],
      "execution_count": null,
      "outputs": [
        {
          "output_type": "execute_result",
          "data": {
            "text/plain": [
              "8388"
            ]
          },
          "metadata": {
            "tags": []
          },
          "execution_count": 213
        }
      ]
    },
    {
      "cell_type": "code",
      "metadata": {
        "colab": {
          "base_uri": "https://localhost:8080/"
        },
        "id": "4nBCEmJu9e-6",
        "outputId": "92ed2a25-d4a2-4a14-f59d-09bb46562807"
      },
      "source": [
        "len(words) == len(word2idx_train)"
      ],
      "execution_count": null,
      "outputs": [
        {
          "output_type": "execute_result",
          "data": {
            "text/plain": [
              "True"
            ]
          },
          "metadata": {
            "tags": []
          },
          "execution_count": 214
        }
      ]
    },
    {
      "cell_type": "markdown",
      "metadata": {
        "id": "PXWplgKO3rwQ"
      },
      "source": [
        "Testing the embedding and size of embeddings"
      ]
    },
    {
      "cell_type": "code",
      "metadata": {
        "colab": {
          "base_uri": "https://localhost:8080/"
        },
        "id": "IBpa1hitucFS",
        "outputId": "445c9b77-58f4-4a4a-ce35-3b2d704d2f43"
      },
      "source": [
        "tokens = 'corgi'\n",
        "word = Sentence(str(tokens))\n",
        "stacked_embeddings.embed(word)\n",
        "\n",
        "for token in word:\n",
        "  print(token.embedding)\n",
        "  print(\"Embedding_size:\",token.embedding.size()[0])"
      ],
      "execution_count": null,
      "outputs": [
        {
          "output_type": "stream",
          "text": [
            "tensor([-1.5202e-03, -1.5974e-06,  6.5251e-03,  ..., -9.7084e-04,\n",
            "        -8.5345e-02,  2.3031e-02], device='cuda:0')\n",
            "Embedding_size: 4096\n"
          ],
          "name": "stdout"
        }
      ]
    },
    {
      "cell_type": "markdown",
      "metadata": {
        "id": "eU6LeaVj0hBm"
      },
      "source": [
        "Algorithm:\n",
        "\n",
        "1. Create object `Sentence` of the keras tokenized words.\n",
        "2. Create stacked embeddings for each word in the list.\n",
        "3. Iterate through the words \n",
        "  * Extract idx of word\n",
        "  * Add to the embedding matrix with idx as key with fair embedding as value."
      ]
    },
    {
      "cell_type": "markdown",
      "metadata": {
        "id": "5aEz26_r4TCe"
      },
      "source": [
        "Embedding keras tokenized word list:\n",
        "\n",
        "\"If not using the default segtok library for tokenizing text, pass `use_tokenizer = False`\" [1]\n",
        "\n",
        "Ref:\n",
        "\n",
        "[1] https://github.com/flairNLP/flair/blob/master/resources/docs/TUTORIAL_1_BASICS.md"
      ]
    },
    {
      "cell_type": "code",
      "metadata": {
        "id": "i5zRUy_nAcxu"
      },
      "source": [
        "tokenized_word_string = ' '.join(words)"
      ],
      "execution_count": null,
      "outputs": []
    },
    {
      "cell_type": "code",
      "metadata": {
        "colab": {
          "base_uri": "https://localhost:8080/",
          "height": 137
        },
        "id": "hoUuUOAaA-kW",
        "outputId": "f3c1c1b8-b336-4fc7-83b2-162759b85cbd"
      },
      "source": [
        "tokenized_word_string"
      ],
      "execution_count": null,
      "outputs": [
        {
          "output_type": "execute_result",
          "data": {
            "application/vnd.google.colaboratory.intrinsic+json": {
              "type": "string"
            },
            "text/plain": [
              "'be the a to and in of have people very for do not that with man from on at as there country know all i like an what go get work many so white s woman can when always because who make black good by about up would jews most this see but friend out how come one live muslim lot poor think just take player look say time will jew new well love day want could some t person why job call place child than if food never jewish african often meet no into male other school wear mother use football play rich family tell between eat year dog help too visit find more usually american around everyone great need difference speak really only ethiopia after girl world manager off or drink way saudi russian show old musician afghanistan run software money give chess iraq hispanic hard over civil developer home italy perform bad butcher arab engineer kid bartender car mover boy grandfather much commander back ukrainian syria walk feel artist mathematician number today somalia entrepreneur sister prisoner yemen policeman vietnam ask prosecutor britain producer politician researcher nurse middle japanese hitler delivery cameroon war norweigan eritrean down spain bangladesh ghanaian psychologist chemist smart talk move jordan servant strong physicist lebanon sierra guitarist those bengali arabian gentleman care plumber assistant every morocco schoolboy ecuador mommy crimean sit beautiful tailor long also high hate historian house eriteria next ethiopian leon life persian hear here last nice muslims young norway east columbian must culture full cape become africa verde cat americans seem any enjoy hair big lazy terrorist iranian schoolgirl night spend store kind thing door consider class first try group hire pizza watch drive where quite keep start student neighbor college dangerous during even learn water bible believe should leave while book pay may hot before study own large gas read islam kill someone little put clean buy guy business different tall such dress room sometimes million two coffee oven stop holocaust since turn wait favorite wealthy type hand tend cold city wife street brahmin blue dumb these town movie then game dad restaurant serve teacher both pretty steal break win problem still father bar red bring typically america parent actually date phone company don fast music extremely party through part which state dirty let jesus mean office pick right intelligent religion order doctor sure stay due head re female outside son glass neighborhood write park green now smell violent die n nerdy anything sell crime late government dark open arrive europe typical ever peaceful allow fish friendly english towards enter area repeat same happy cook fix grow fill stand easy away worker name nothing end dinner animal athletic cut orange computer meat asian eye almost once loud priest drug mostly small locate quiet decide anyone tree face race against understand local brother able sport citizen bomb weather population educate nation m lab skin boss common lose native change paper ready though idea carry hour cause team law society math color act fight camp probably hang fire short each travel daughter fly fit practice fall free package hold interesting plan another yesterday language joke patient real however bear community rude chamber case shoe stupid treat fun fat apple story employee safe enough train few milk baby rain expect shoot religious field meeting ride past island popular set police christian news star finish mind driver afford shower mom united view scream quickly sky hit weekend tourist chicken immigrant blow economy vacation light honest violence grass front jump afraid nail early fuck sleep three weak sex uneducated trip history horse suit truck teach create without produce together famous experience pant plane despite cousin italian ice highly burn oil cry clothe tom box lunch professor gun rather mexican god behind desk beach near sun generally wish purple close bill air summer shy starve word club customer raise hungry across smile warm peace church listen russians recently cool graduate body begin several likely nose something john throw everything criminal speech important month picture smoke charge land skill ash television bus ugly goat shop whole lady beat course table modern coworker chair question stick career reputation aggressive climate building welcome angry successful save week south eastern prison wonder western degree deal earth gay husband cookie doesn ceo german complete side wedding us hope nature cuisine moon university border lead ago hospital professional proud chinese respect true else dollar tea send song tip auschwitz wall top leader stuff again innocent mix terrible prefer refugee figure dance girlfriend involve trouble attack calm grocery scout states taste uncle scientist market under morning dead catholic stone funny low push destination gather corrupt soccer couch attractive film james iranians individual chocolate isis answer information board santa allah shirt snow control living everywhere knock marry corner foot rest personality arabs issue science build toward social rock miss d cow attention murder profession chimney allcap ball guess attitude cross israel notice choose sick post describe minute floor follow hat skinny boring desert tomorrow please check apartment human gentle manner nazi cheese half until politic islamic alone evil concentration program power dish couple spanish political cream bossy far brown art commit yellow especially potato laugh soldier sense base bird accent bread pasta band entire offer cake christians tough pa blonde least breakfast helpful plant continent catch member jail bike pipe tv attend boyfriend trump peer rice normal research piece fucking tear nazis library develop russia talented sweet brilliant juice leg candy owner appear project court obviously mary suicide pirate already instead india stage mountain diamond caring drop guard second scared pilot situation bottle fear rape contain banana gold pull cultural lift age illegal nerd tooth trust bang explain thin york cover homework easily extra basketball window surprised expensive creative outgoing happen master less ocean wrong guilty road client racist realize fact bake guitar bullet region generous partner carpet wise liberal rule poverty amazing arrest pig income line return boot diverse gang swim quality industry strict grandchild uniform hardworke vote seat ethiopians wash conservative death surprise baseball pink cheap fine event note radical five avoid hotel homeless bank filthy blood decision single constantly pass hide vodka wake fake scare roommate hi tiger belong ignorant arabia lawyer remember suspect position non collect slave jamal difficult mark athlete iran introduce video incredibly flower alcoholic maybe flight claim bunch king worried army asia deliver cost public drunk u receive tonight kike military model surprisingly voice self officer prove touch super approach thought future allahu akbar present yell sea descent interest inside alcohol bed pet mosque arm runner activity sale hateful ring greedy cigarette value sign mohammed conversation joe share season harsh target peninsula germany lie careful fashion west soon average landscape foreign support polite muscle response wine better six wonderful carl healthy heavy daily reason sock surprising behavior sew role favourite struggle bright opinion ham bag tie finally score thick perfect ashe airplane ignore wind worry museum busy possible force caucasian finger engineering crazy lay crowd suppose remain steak poorly mention card protect brave subject paint christmas suspicious weapon tired indian comment hurt escape ashtray equator exotic egg powerful winter election quick ve didn exist spring taco none background crack majority tyrone match lately volunteer concert block bathroom doll hole meal coat mouse anne lovely river sad dream youth horrible camel prepare communist huge canada current product toast sarah airport shot knowledge president ability slow condition donald provide italians reality complain normally task wild safety feeling cruise nervous capital ban roll eventually style jungle county agree planet credit instrument valley marijuana forget confident associate bee relationship spicy friday refer elephant laptop sand along birthday publish article sandwich emotional savage throughout frank wood gross truly waiter sam within frog weird location construction nobody enemy evening fruit audience everyday wing general host amount terrorism everybody lock sound arabic british sloppy four kitchen diligent accept direction pack bland continue seek prone chip serious supporter step key fancy chase cute education tropical organize barely bit christianity fry lawn mow sta beer snake flag refuse genius test behave form interview mall cop faith historical lion known coastline pocket compare yard bomber personal mirror later skinned except magazine comfortable excited multiple dishonest invent nurture hockey handsome pride coast clear sir resident ca tower apron donut feed ukrainians design bridge bet thousand aren jean solve manage straight advice either loving ghetto annoying chance sexy hijab spaghetti china defend duty upon space plastic jacket rug fair toy damn demand north watermelon fail allcaps bore protest expert michael anti skilled earn visitor intelligence appreciate punch opportunity childhood folk lecture root yet draw rise muscular assume kingdom executive blond turtle environment tire ambitious jerome choice report norwegian mad afro careless actor display welcoming wide variety ex trustworthy pineapple spider creature detail energy shit clothing passionate wasn strange crew photo atheist cruel da pray term trade include european recess universe thug station ten ancient mine health passenger jack skirt recent source pakistan arabians tribe usain bolt capable sentence carefully grab center exchange service cancer bob promise invader tim join rob character image sink backwards grade spice french bull success thank temper item hunter yes fan courtroom ticket analytical kick b smelly heavily twin elevator wander artistic metal economic weight grandma touchdown hunt syrian virgin uncaring burger prince harbor holiday selfish longer calculate increase outfit backpack susie influence medical naturally organized decade hey pool rabbi noisy ancestor require emotion brand hundred spy leone address speed occupy foreigner rural whatever cell bacon round r bend largely nap script text ship acne prophet stranger masculine latino humble upset duck awkward hopeless third wallet flat technology search counter cash per abuse tool dry lack interested academic mainly trick unless scary mail adolf suck cultured venture slap explode jose skyscraper dictator electric educated wire lifetime cap matter chemical mass alter disease beard spare frequently electricity delicious swimming oh mess heritage vital chain monday holy policy boat beef ground mexicans idiot cloud concept indians asians crush shift improve bean tasty remind historically tactic exactly shine count necessary rome toilet retire burly weed youtube rough leather greet sleeve pot department scene brush medium fed farm slaughter empty relation blank concentrate playing florida exciting afternoon drinking soda pour immature competition charles completely sneaky socially silicon risk turban record maid adam impoverished solution consult apparently temperature depend toe cast destroy page efficient monkey promote trainer roof pedophile excellent hurricane invite encounter soap w al pear special george petite roast diversity spot strike jason victim injure hell brutal neat hero heart hamburger responsibility uber chef rarely regard golf repair purpose pretend belief engage complex quit constant aunt storm capybara balloon add feminine tan ton porch jenny drawer immediately respond adult cheat rose among witness pie twice damage exercise contact susan gary reply challenge imagine bride jane sunny cotton circus geek pokemon staff bicycle goyim rate canoe definitely central pop obese pregnant sudan argue candle remove faster point supermarket intention dancing simply okay minority swing advanced opposite sorry famine arrogant stain map aspect accord breed charity lesbian liar carrot proper replace steve cis interaction forest rush pound spread tractor spoil jessica france airline datum alien training lesson giraffe reward deploy silent perhaps classmate sing demeanor keyboard blanket machine route crisis classy hinduism sight predominately sting waitress final onto pale wartorn sushi national vegetable ruthless kiss rabbit distant writing letter useful nowadays nurturing loudly tendency salt honeymoon teenager retard eight wave outsider mild teammate email africans list being height uncomfortable dinosaur sunday timid compete marathon flirt plain concern obvious convict harry sensitive grandpa particularly ass david rap mike penis decent mobster mediterranean burst submissive experiment label pillow strawberry businessman melt formula labor butter intense progressive oppress justice tattoo bench teenage effect kindly buzz slam object typewriter zoo presence radio salad pork ethnic quran clumsy racism ease thief yeah spirit slowly argument studious trash advantage handle penny umbrella heaven participate attract dan shooting cure shout audition urge c p whale puzzle appearance constituent accident running truth sexual california track mexico phelps shape lebron dick tight eritrea laundry natural fiance dentist above staed village zit overbearing relaxed sober billy diet patrol danger clown tennis wet cocaine groom pretentious corn secretary specie troop looking gorgeous proclaim lifelong emotionally fragile optimistic humor global shopping abroad major benefit cautious notorious marvel thirsty puppy garden dull sue ethnically simple malnourished resource westerner apply kitten site playground tray laboratory level overweight brain discover basket defendant royal zebra outdoor focus lightbulb feminist anywhere fridge loot cartel evidence elong deserve luxurious relative virginity paris boner england unique trans soup empathetic fox queen sally stereotype reach physics confused lover goal entertainment concerned inspire greasy synagogue traditional kate vegas transgend taxi disgusting marie brunette fence authority physical germans fresh gentlement congress main awful wealth register tony plate cancel celebrate assignment battle decorate atmosphere various patron freeze tale league josh champion discuss grandmother chest unorganized closely status latin manual superior peanut adore popcorn punishment swallow leak mood totally abandon skip tradition pencil relate process debate official breath loaf action combat tournament strategic specialize latinos honor hut ely mile shock seven victory performer inhabit elderly secret bark affect load ww nasa firm kevin calculator hill moral bite dust scum rent ireland tune fighter jim ghana period martha fishing primarily campaign beg overly shave shed mud basic flavor cum urban bombing found mississippi profile addict glad beloved shake collar broadway prevalent singer soft usual messy navy therefore nun similar phd siesta hostile supportive onslaught grave upcoming knowledgeable fluent warfare golden creepy san hike explosive prosperous hem noise rider sharia system johnny aid eve cheesecake gym reserved republic bookish quote jacob civilian creep fork elect pancake stoner shaniqua quietly bamboo compassionate korean rowdy gift leadership guest aside unintelligent belly plenty flee funeral gain reliable mercedes obnoxious sour pile sweat strategy agent gossip ultimately farmer rely coin terrain ahead viking rare buck chore wrist mental topic dedicated hall somebody measure columbia condom butt saturday sewing financial newspaper praise admire trial sexist broken pain janitor lonely immigrate breast sunset complicated rage columbians admit fund facility century absolutely scam sacred stink architecture aged sort geeky marcus patience integrate grateful mannered alive recognize properly fiction mini classroom cashier competent robbery coal injury schedule confidence mining app freedom needle tuppence cocktail cup portray lost dive walmart musical export coupon industrious adventure ivy supremacist tail presentation vibrant podium inner circle corruption egotistical frame agenda rainy zionist maintain republican follower firefighter stimulate uptight presidential cloudy subordinate medicine juan prevent terror plumbing clueless security protective moment ambition vast discovery propaganda prostitute uk legal incompetent pussy loan scientific ruin tuesday surgery regime violet ski worship controversial settle chat grape plow explore impact treatment olympic homeland leftist methodical message joy heat tidy jones stove intestine nicely edit sigh useless ethical lip easter intellectual represent negro vatican talent genocide london gesture employ e ed naive irish luck anymore conference reserve georgia mode cereal activist magic pace bind unrelated budget squirrel lifestyle charitable beauty hairy international distance titanic rapist behead wow flood judge europeans instruction knife encourage ann billion civilized explosion tommy st launch sacrifice pepper lebanese knee cough physique whether crash fascinate mighty sidewalk plague offend lottery usa downtown lane bother attire zyklon announce surround appreciation unhelpful rat similarity clock original total double foundation docile originally energetic contract account heel favor mushroom pok mon winner direct semitic meticulous cab streak fighting cooking deny stubborn blind april monk desire extremist salsa steep drain odd spouse bloody excite exam sneak unit vivid plight hook shady coding curly despise sin hunting cucumber conclusion speeding approve monitor donate romantic dr fluffy respected forever lush theory mingle marketing former immigration harmony cricket eah ingredient previous kite giant colony needlessly statement purse gray tiny timmy chop kelsi limit liquid path bug discussion combative accomplished outlook screw swedish cowardly bell rally specific household hindu tobacco headache ruby couldn bath nowhere steady certain sauce greedily rachel occur co passive screen wipe bare unclean comedy disagreement criticize brick judgmental babysitter nasty belt broom dominant particular verse resilient factory meatball blame furniture clever passion crafty unoriginal vest outcome tour norm claus bikini ward directly below deshawn clutch haired japan fur paul studio pin rid kyle speaker disturb nod jewelry pope aboion charismatic mission pit listener chen recover mug alex commercial happily potter restroom evolve snack ravage janet volkswagen vegetarian locker predator rescue axe collection draft crooked stare countryside doubt threat signature roam platoon pigtail primary insurance sandy textbook tomato sweater tech brian regularly william barber theater shocked positive flame pair memory monarchy smooth brad makeup snobbish asshole crude bottom stern basically honey hood pole tent smoking performance sheep faithful badly nigger allergic macho worth journalist excuse counselor isn canadian vibe wednesday samsung title thoughtful breathe dude online isolate populate sunlight bow mechanical qaeda traveler destruction scratch stride robe square banker string matt charming abdul neighbour candidate trek villager anse convince scripture rook scrawny princess rainbow squadron fool helmet lean salary relax stereotypical ronald whose secretive dessert obscure responsible awake basement hardworking tape nearly squad wheel inform vegan shark excel ad sibling k aquatic loyal precise adorable platform refrigerator overseas inherent greed respectful dating meek electronics indigenous married cheer stricken cathedral vase jury survive sweden payment someday shelly invisible tube shiloh climb crop salesman symptom thomas controversy fisherman kosher shelf sheriff thor frightened invest bone defense piano price armed homemade adrin kim twitter martial noon lamp habit cazar sneaker mcdonald wanna willing iii marriage alan strongly disorganized clearly emily craft council pro traffic overwork ponytail cord cloth nationality harvard bookshelf novel amp shame telephone helpless anna button classical limb shove knit jennifer achieve incident pump investment whenever guinea elite sara fleshlight vitamin warmly unicorn tank embrace painting militia convee bitch leaf mayor buddhist northern mathematicians fantastic access teaching lifting iv drank reunion brazil bullfighte jon relocate fag purchase fond magician survey pond lamb andy initial australia towel mouth intrigue thinking supply kenya outspoken hummus demonstrate unable secretly owl shifty micheal scamme pen vert widely dogfighting seafood contrast ironic throat francisco adjust phoebe scar dear critic regular dawn vacuum playful bowl gaming lisa warrior nine shockingly humanitarian imprison carbohydrate terrance faint obnoxiously detect warning escort exit adopt percentage southern sympathy hatred jerusalem genetic mule nonsense snap grill sofa cleric poster vince conveed ditch skull pearl nearby missionary profit certainly manhattan independent hollywood shovel squeaky academia dressed jihad accepting mafia fee cracker socialize fragrant descend loved tshirt judeo luxury neighbourhood instruct section robber subreddit flour fraternity tornado solitary driveway adhere remote foster printer ink expose bureaucracy nigeria killer boob decline kitty hospitable dna shane sickipedia lucy surfer arrange mosul scrub banislam speakfreely size loser altar obstacle neck essentially disappointed paula thumb hug release relaxing suprise texas impression hilarious handbag circumcise wu karate finance singe celebration notion interracial sponsor shelter hispanics litter performing naan stable material philanthropist website pleasant advance spiritual practical tackle beth clause incredible fuzzy fromm characterize fa ankle norweigans liz cheetah blare evident pediatric unusual unused untrustworthy kkk controlling anxious badge delicate dryer amaze standing scissor diaper wolf landlord outlet crocodile moneylender bat kindness burkas hum mr auto regardless mop pamper mutter reading formal miserable hoard division uproar welfare wisely galaxy camille apart medina confirm soul men uncivilized author grope iphone sociable feeble sweaty pill gregarious winded lame g survival kayak unanimously headphone tammy considerate julius ladder yogurt bedrock crayon strap impoverish print imaginary adhd inferior toddler financially aggresive spos dime residence invention scuba amazon daddy racial hobby airbnb poison flavorful aids brillant talker publication dealing cheerful jimmy englishman chuck understanding fiddle swimmer depressed horror chemistry unkempt transport deaf introvert belonging unnecessary mustard traditionally suddenly shoulder genital salmon ally tlc immensely influential investigate boston burkha confusion google selection stylish brutish wilderness barbarity polar heather detective hostage effeminate ancestry bold forward penthouse valuable trend absent breakout basis cheeseburger attribute compliment appeal twenty hardly unlike development robust waste unfounately charger opening crowded courteous housekeeper concentrated appliance successfully shiny gypsy jazz paedophile rub boil mate construct inmate condo skater tick autumn wildly toaster copper hello egypt shopkeeper sniff prize illiterate enforce recital shooter dropout storekeeper washington cou journey convention expression mannerism inadequate insatiable jumpsuit palace skate nick westerners cafeteria instal sharp version seasoning thesis governance phobia muhammad attene snobby aggression luigi jam gender ups logic preserve sole stocky pursue noodle grey mohamme eritreans comedian nephew flamenco meanwhile riding zombie recruit thirty pronounce solid freezer promptly darkness astronomy trudge primitive acquaintance served fireman award untalented kenny justify turkey firewood dragon bump abide grand salon dominate llama slim gigantic malay faucet penguin nickname journal koala wiccan examination crappy hotline satisfy diy pollution jasmine consumption approximately sedan nonetheless shortage inequality painter moody opponent loss poem reside menu ok earlier handout archive toss esteem strength bearded sake digger goggle chopping ultra conquer mans aim explorer pakistani rampant portuguese twelve californian scent unknown christ becuase unfriendly acoustic agression funding isaac yummy felon discrimination appropriate fart available cigar effort desperate oatmeal vehicle dancer thinker terribly baggy systemic dip fearful slutty prayer comprise judy dig curious doze repeatedly bounce spending drone deer geometry deed citizenry stair curse unusually mansion landscaper shoddy stalk ballroom correct tissue perfume garage lethargic poker plead cattle bully medal artwork wtf fantasy anal railroad publicly bedroom roach fiery effective tragedy campus quilt lurk session sympathetic vary animalistic carve convey sparkling rim pursuit active swan crow coward stew poeple press notebook camera romance popsicle annoy appointment crab destitute greenlit baked snowy iced colombia example rank orleans dylan calendar qualify prominent fist murderous curtain burka savvy dave rip agreeable democratic franks obsess asleep pyramid talkative contemporary turmoil classic impossible humid opinionate hijack actress astronomer blush sho anybody dealer treasure examine megan edge moose astrophysicist biography etc jeremy timothy sma pub chose determined fame motorcycle f misinform monsoon gate ukraine orchard blueberry scholar derive captain dump hallmark antisocial happiness penalty bookstore rebellious hu disappear request billionaire colleague communism spit textile fred sleazy bribe rennie float imago troubled gig workplace reference astounding puerto via garbage clue assign satan ponte cosidere contribution dictatorship focused oppressive grammar exterminate technologically gardening random networking automobile terry guilt ron unimaginative result disgusted humanity significant chunk mischevious crimeans peter nope following kong savanna timer agency hardship embark beirut starving semitism rolex hawaii greek anita parliament succeed floridian browser traitor brat cynthia rocket opera weigh laquisha cia reasonable bihday filth las laborer crimea fundraiser firework chalk anxiety scoff kaboom notoriously thankfully terrify acknowledge slavery enthusiast drew minecraft dine kung fu unattractive boris scruffy chardonnay civilization easygoe ace scott spill bandido apaches imperialist feudal noble haha islamist utterly whilst inhuman stripe zoos devious capitalism ketchup considerable excursion hastily seriously tamper attendance handiwork entirely winning react recognition literally solely nest suave dozen jailer bristle expressive powered addis ababa capitalist newly cuddly heist coke peddle district reflection myth matching supper bodybuilder smartly moderate revolve kentucky upper underwear elitist cremate independence moth witchdoctor analyze confrontational realise feature festival nightclub masters daniel airhead dictate jog burrito frost denmark spontaneous oxygen ninja promising groomsman verypoor gorilla richard winery napa lemon undemocratic jello dialogue spin hopeful existent drones reactionary silence trophy obtain endanger aboout complacent barbarian dmv wimpy conditioner insane rabbis circumcision bathe dorothy heater harder depression barren punishing cathy diligently skating ethnicity atrocity extinct code preist lord goofy recreation cannon chaotic hunch commonly reveal undisciplined brace dirt prosperity whoever attach teetotaler pose interpret squinty brayden jug daycare spa slanted seedy pornographic express fog caribbean saying fae lit bestfriend massacre cleanliness mesa sub elegant airpo compassion paicular smoothie chick sincere porcupine rhyme dindu nuffin alarm hallway goodbye amusement unsatisfactory suspicion wad missing caput deep monopoly competitive lee twain doorbell timidly rear reign private recommendation spell coach hippy h sightsee fifth shouting communicate peole repairman battery accuse bigot squint abyss asteroid shoelace harambe athi plot assault doughnut endorse humidity sunburn clinic dough persuasive koreans gutte alligator sherry russ thorn prestigious halloween centre ravens underground wonderwall astonishment anyway busk jewtube groid wo burp union inspiration december satisfying catty somewhere brady bent gentile propey cad amy dumpster uninsured thrift trench veteran wail depiction warehouse exemplary bunny parcel safari kia bearish garment precious cozy foam entrance relatable toll michelle childish baron bulb frustrate heartache barbecue generation jelly whichever evict bush briefly insignificant distress holo lotion calorie bin warn fade exhibit kurdish repress hip grimace casino beggar conscientious mistreat bannon capture ransom sassy unreasonable isreal minesweeper ss bodegas barbaric frim juvenile autonomy rot prescribe destine asmara fashionable physic upbeat knitting crocheting cheery ain prideful flute latina commerce mixer graceful edwards shoplift cheetos knowledgable overprice cabinet slide cocoa shadow bourgeois warzone guide suggestion mutilation stale apprehend drama conservacuck suppo masquerade stab hindi bengal worldly accidentally shellfish eurpoe barbed farsi charcoal palestinians lol baker infidel ashamed biologist rapidly inscrutable plotter polyglot killing fault descendant calmly peach vs handgun fearless scale intersect license patiently loner frenchman trailer weekly outstanding greg dusty ideology warp tot sausage tourism slavic biology pressure quarter teen diary nightmare headed cower july economically existence mac lily ant sob wright pow reich babydick accessory row trunk nuance untie kilometre zoey chide stinky bureaucrat connection spray lynn devastate endgame bumpy heterosexual brit rinse hardworker wrinkle alma resolution delicately barbershop wouldn seashell seashore mountainous bloom believer simplify palestenian taliban command vrenna feather paradise eachother reenactment instantly neo warmonger sadness mesopotamian rebel bubbly photography survivor bust best chicago alright fierce supreme anime klan vampire dorian dazzle throb opposition maria senior got colorful roman unfortunate goblet error suitable shriek routine vein castle til millionaire tragic goldfish politican dreamy amish wage val nappy smith sip aligned hail niece carton fabric diplomat intern radicalise obscene pier temporarily nia fervor beater shirk humiliate defdant url glamorous steel pan theatre lous quarell migrate confine cellphone indulge wildest whim eater suspiciously pitbull mammal pine zero shilling merge alaska documentary craig pharmaceutical punish sharon bravely droplet induce womans robert jet atlantic swig eyeball defuse consonant dolphin review judgemental avacado dorky ho potential pervert jenga biscuit ghanaians openminde norwegians pickle marquis heavyset borscht hippie crook sociological phenomenon statistic chill stock safely supervise flagpole studiously jerk pincher frankly flea forehead hoe attempt shut workforce needy schoolmate familiar casual silk nera psychic geographical standpoint answering deadline joan alternate secular sandwhich whiskey offspring aryans aryan weep pregnancy chang hillbilly squalid undocumented cynical devil imbibe gt culinary shareholder agriculture paddle sanitation dependable tax washer satisfied ashley essential meth ramadan poke broccoli bullying jealous reschedule valedictorian summa laude disbelief engine joyous dining smug displaced panda wosh lively browse regret ohio preacher silver informal thread finding committee pastor flirty thrive valid nein lavish turnover incompatible orientation fitting cease occasion nt soy supremacy unjust scenic overpopulate overpopulation neurotic dale breeze addition eleven israeli authoritative lea motel quarterback invincible bisexual pulp seth ak fascist plantation groove shaker cunt glory unavailable urinal mob rotund mainstream barry sweetie mm smokin predatory automotive javier avengers jake slob exact measurement preheat euro northeast haul drinker veey hollow backward courthouse elastic wang sinewy manly beast crumpet staple variable immoral accustom deity adherent pm cloak gradebook thirst elementary stomach inch disorder waterfall brainwash theme exceptionally sparkly marble hometown honorable townspeople arguing yelling pleased pioneer flashback bun pristine census djibouti eloquent stephen haircut trim jen orchestrate instinct proceed cowboy lemonade edward document lloyd gladly graciously plug buddy thrones shatter www genuinely normie commend varying surf rubber labrador housewife gruff unrest violate ferrari denim loom infest volatile donkey nanny memorable festivity diplomatic decore beyond underway chief alley discard uncared technique overnight patricia gaza flip mayr extroverte dirtbike teethe compass hustle tango mutilate whom wasteland unpatriotic intersection gaudy glow ft shepherd hover democracy hoodoo oracle series unhealthy combined dental significantly actual throwing sweep stature oppression avocados stickler temperate afaid wooden fruition pod pas strive till wardrobe ches pastime overeat deceptive hydration supplier cardinal mus assess emergency blackmail constitution dual volume landslide relinquish piglet huddle collaborate principal likwe murderer stitch gunshot wound fifty cod bargain pad onion bucket refined housework reckless fortunately unemployment addictive unreliable harass lovingly cuddle barack obama sesame coconut gangster kidnap grassroots colorado ordeal respectable caucasians silhouette illuminate sensual kelly floss armenian venue outdated scholarship politely educational compute en israhell elbow attorney shannon cliche orgy dawson maccas costly meager gabriel smash mecca fashioned pokeball eyet nationalist o beefy renowned glide lawrence structure suppress hopefully dopamine frumpy yardwork relied porn linkedin ignorance execution lookout inevitable pickup illegally tweed mount soviet clap thankful cleanse lizard pedophilia workout wrestle pumpkin ipad genre wrestling tigris euphrates rivers blast carr seasonally radar previously burr shipwreck putin spoken sideline transgender shrimp movement toolbox aloof deodorant empire chimpanzee wielder whitey cage demanding maternal bedevil hose wrap reject lumber ax fell swoop canyon reggie hunger annual dogs participant origin preach duel overheat assimilate currently yep adjustment liberia investigation unamerican activities estate oversee orphan drool navigate arid nourished cart starter olive branch cable norse lackadaisical chris ali whine mo farrah choir jaw skateboard lamar marginalize portugese fatal sweatshop cauliflower erotic fairly prosecute cooper rico deem famously kariem whore livestock mba brittany affectionate rebecca inept contribute dainty broad sitting barrack hanger pacifist devastating fastball cats era hashtag shouldn operation homicide malnutrition establishment sector tuna tightly clung electrical minister although baking candice mistake ur eddie slippery burner callous flashlight stunning dweebs nd bishop jeff devout comfort burglar gameplay alt extreme programmer vet honestly cheaply tae kwon fulfill dot confidently employer yield fentanyl organic polymer vial enlist ronnie creation stimulating mint metropolis resentful airy beverage warming closet squeal narc panicked capitol glitter birthplace cody mindset columbine gentry awfully he scowled naughty accommodate bury quen brexit disarray tanning burglarize importance grasp bicep binder mitchell creatively altright suburb standoffish nursing marines aspiration embarrassed media blunt denny homeowner tortilla learning content ebony essex boarder threaten introverted pita reflect convert carla realtor description shaquille mondays chilly shrew related director typing chrome firefox thunder behalf strangle disappointment insensitivity misogynist steam philosophy x lil kolton spoiled exorcist crispy prepared hanson difficulty peculiar snore picnic ashy toxin stuffy divide vigorous method van camping summit nell hanish islands frustrated llamas hearted unfortunately slash fortune hack paki hitchhike hitch sporty oasis manufacturing perspective expectation fearlessly nostalgia recliner yacht liberating ben benjamin velvet chickpea satellite indifferent gi singing preaching bih frozen woh retriever starbucks unpleasant daesh marine menial ra strategize abruptly lake menacing persecute joanne vagina sean enthusiastic williams nomadic thanksgiving resourceful keys recorded neighbours hea crown wool argentina driving assad aggressiveness turkish sentimental temple kwame sewage aeronautical beaker brag karma mango phrase labonese literate grandparent preferred crap raincoat flashy spook nut faking napkin rambunctious cleaner commie uncreative molest posh worthy sudeep irritated degenerate qualified vessel assist desperately soren irresponsible defer impractical sry infamous termite gulf supervisor rhythm grace socializing un rodinu mat suppoer flesh void festive messiah karen mechanic varsity traveller possession hygiene hoodie joyful contempt multiplicative loyalty expertly performingartistcanmakealotofmoney update cd groundbreaking v gab it outsource standard parole bulldog mower walma nations pennsylvania mixed hoop parachute responder boo delighted joo thano equal empowerment boom nero coastal katie contest highlight conditioning rigid excessive stream ellen polish validate calculation defiant ape mooch poc clip chopstick core pinocchio further decison maker extremism darn dew insistence custom option robot breeding multi trigger blooded dote cannibalism ramon politically spotlight slimy boyscout am homely diarrhea beholden aipac toothbrush silly rooster gassy thailand anticipate scowl seal mattie identify joxer personable seemingly slant walrus distinguish gullible congregate shia principle tikrit handy industriously itchy witty range clarinet expel sword cashew rookie bitter bastard albeit stark reminder unkind denounce yiddishkeit wendy pinstripe resistant manga brute crinkle kayla mueller discouraging pictureqsue reborn revengesaveshumanity slovenia microscope confess masturbate detector migration respective valet flush selfcontradicte deceitful violently defenition hasn prototype tesla backup arnt asexual rectangle esl si talmudivision caterpillar juliette snobs genealogy cabbage wrapping gut judaism conjecture eagle athiest pepsi rope angrily stre analogy electromagnetism gravity whites xenophobic meteor telescope ambidextrous geisha afterwork globe hollyjewsteinwood mack remotely madrassa obsessive stoudious bluegrass enraged kibbles condescend revenge revolt moscow retail pharmacy mmm vw straightlace asif bond films thrill robins narcotic enlightenment peacefully decrepit assistance interrogator comb september lysol bacteria toenail contractor maya oddity pee severythe wlel dictatorial democrat unfriend sammy cisfemale nato cob schizophrenic seinfeld finale viewer port schizophrenia complexion holdomor overdone marty baller upstart issac climbing instructor nag growl bodega impatient glacial novelty snarky sewer abusing maniac aqua excitable furry descriptive inteligent needlepoint renowne accomplish vision daisy tit giants eli manning bandage favour orphanage devoutly stae sleve fevorite offensive appendage perky edible coral incidentally unpopular utah raqqa swam scope mammoth scalpel backer mph hocaust minor fret becalm latitudes mediate verbal rpg shi cane lousy amenity sled pogo amateur antarctica hygenic sandpaper disagree cred idk screwdriver oddly faced harden pony architect scrolled giveaway receptionist scholarly dana beginning disillusion paycheck overqualifie feng taxis jill file tylenol loop spongebob blog fantasize dingo classify moviw passer overcharge shamelessly stem segue raiser weaken mainland dim surrounding nascar beep pottery flounder liquor troublesome educator latvian prague intently albe einstein dedication soothe upscale motivated chan memorial empathy bound toxic worldwide hitla jewsish auschwitzersehen puke spence meme arduousness sheng enought energetically refrigerate gap rifle herd communion august aqsa los angeles clippers dimple dressing playroom legislator typist uncare maple bored inquire tolerance inclusion eager excess automatically yucatan earl horder pigment maim poop forearm glisten gesticulate sexually exception contrarily loquacious vivacious mariah carey karaoke minivan julie tow organ perversion ninjas stabilize herod vacant sinner systematically dethrone bottomless temperament rudely physically neuroscientist elvis presley lance lang beekeeper charleston pacman discernible sprawl cacophony pompous odor ozone headmaster assembly bombshell bathtub exspensive wig hershey escalator median secede false misconception antebellum vengeful buckeyes inject insulin michelin bloodthirsty infant earre batman bruce wayne magnet demagnetized cranberry figurative aushwitz necessity imitate ballad betty cookout pervy weimerica folger starbuck pixel yowl pedro stadium primate rampage manchester uplifting lar barefoote exboyfriend her horny recycling thursdays grassland tenacious fruitfly czechoslovakia unsocial broke edgy theft carpentry manufactured chuch laser profitable pinecone randomized laura carnivore staing privileged triangle hierarchical sacrilegious zionism haggle americafirst americansfirst maga cce judicial merit sindh collective haywire uno headset spotless sudden unprofessional extremelyrich they lecarre pulitzer outright extinction martinez motor negroid mandela multilingual forgive moldy unsavory ting execute plagiarism drunken mohammere boarish patriotic piccolo beehive behaved repressed evanovich mystery underhande hypothermia clumsey corey wellread boorish grapefruit puff dweller os physicistisnotahighlypayingjob uneasy clitoris scrabble somali legalistic copier wwii unconditional impoance muh sitcom lololo joey icicle rouse ai extrovert pluarlistic possesion fbi omar mateen conductor artificial lube prejudice bastards kempt wispy thermite unbelievable twatter wetback untrue rehabilitation dependency paly imperial nordic barb trouser predispose marianne cherish heirloom announcement countless trillion convoy publicize obesity pandemic seriousness oak sway slightly doorframe toughen proverbs davis untimely pierre ration geographically jenna barbie transform pampered yum apparent luring untouched chairlift shred tater tab heating sensibility disgust gta thi vile medicene cornerstone clipboard flask overpay ineffective margin monogamist ahhhh repressive pissed cent takeaway parasite contamination developing minimal interraction enduring whiskery environmentally conscious reverence holahoax fahkin depoation eke sparse applique leash assertive burrie theu embarrase refute coldhearte solider sheltered poetic krispie zaknelson goldenpiggiez suggest luftwaffle wit mouf intoxicated wobble screech rebuild forklift sandal gogurt slipperiness oily unsystematic communists celebratory healthcare legislature finnish anta absentminde swingset prude scammer homosexuality propoion representative med skunk campsite lime patriot carbon koran saintpetersburg refine obsession slapped malnourish tourette aisha heathen tarzan flexible chive villian netherlands quaran cheerleader piss simplified cot xpost format inconsiderate domination boxing backstab stanford texaschurchmassacre laidback lashawnda babyfa nobel glee subway pickpockete corps consciousness handicraft vicious amhad adventorous retweete mccain relevant duper arizona innnocent pittsburgh ya whoa osama pseudo otto warburg developt disconnected bw beetle fromt eclectic texture slaveholder uppity repo ku kikes landfall competitor oxymoron frugal tense opressed tho laid willingly hulking heretic inglethorp genocider fuhrer deathly gallow meticulously scan grotesque faze prick paedofile bagel tigrinya ballerina accommodation joint corpse cavity pac bomberman reckon doorway handwoven gummy watchman flake zone kimchi probiotic specify heaattack gasbill kruger pelt spearwoman notallpumbersaremario nuclear offender miniskirt halter unfashionable overwhelming compromise compensate protein mongolian overeducate iodine slander libel meghan silverware ceain republicans trendy guten delegate peta speculation ferraris brim undress blowjob historic tartar aberration junk lasagne sliver brightness nighttime auschwitistic udon moses trough pudding allowance ipod remarkable leshawn safelite windshield redemptive legit watching stormfront ted er travesty prescott businesslike mid outsized mediocre mein kampf fanatic mit beta refamiliarize harrowing alena weakling gung motivate housebroken downgrade glove tallcel egalitarian carrey apprenticeship herring racecar simba breaking paucity responsibly broker jewellery erdogan handyman improper alignment choppable logo devour visible cruncy soggy siege bahama jacqui weave wisdom incel synonymous moron loudmouth screwer ear chin pang hummingbird ejection insult amongst awaken timing entitled suddently cushion bicker snipe dent gastank abouit taboo inky rish sadistic sailor defeat tht kanchiong fr beh tetibe ckp cuz bruh occurrence underdeveloped royalty consumer claw uncouth gyp ceiling teacup ribbon korea ryugyong doom tallest unoccupied blouse precocious motive lace functional ste harold uncrowded carpenter mongrel dilute comic shevon deeper yolanda pact jewdo putinistan aka federation feisty melissa grubhub misogynistic intolerant shortcake holographic bouy voluptuous uninteresting erudite theology unmindful cribbage limitiation wesley involved gaggle infrastructure vermont rotate leaveiranalone objective britfam methhead splash imam roku salty protagonist outrun vow server massage therapist sore verge milton epic charmer autocratic protestant velocity inventer scaly led detain contrary foueen underage brownie stumble laundromat sundays misery sickness sticker nostalgic columbus rainfall atlanta falcon destruct slice gamer statistical analyst statistician meyer congregation irrelevant cole genuine bert ernie botch circumsision condensening thou carol earnest becky raccoon nocturnal gadget pedometer withstand yule rockstar rivalry imaginative wifi overdue essay ly sacramento lazytown antarctic unicorns mermaid fad samaritan wwi left fraud trafficking momentous coon allahver godbot cuck bulletin stopping animosity conflict sheet pianist troublemak shorthand definitive proof maggie slip druggie glorious vibrancy wholesome nerve unsociable alfred dock equality milkshake powerless ringworm groomed learned intructor randomly adapt lmao abraham falsely ishmael restrict bellyfull magenta tralee disgrace nowthe stationary implement ordinance scooter commute exploitative swindle packing buckingham plainly garfield lasagna intriguing jerry belch fistful groud masturbation penance chomp llamaphobia dresser sickening mitzvah combination rosy alluring generously ramirez catholics accurate cork intimmidate cronulla saver bigamist sven kokesh molyneux conversational domesticate quaerback southeastern discourage correctly subtract sissy outgo disdain eraser getaway kassidy overrun cindy yang li affluent technical floral tibet technicality reconstruct periodic brainwasher rotten inane makeover capability suffering solo rumor nominate powell mansplaining advertise hooknose mexians province undeveloped spiky trashy exhort applesauce afghani subdue dyslexic erection semtex eggshell venison droll soo caddy scandanavian copy facebook shill pacific gourd brandy yello cleaver frigid dwarf prestigeous saxophone woodwind swoon upstanding gasajewforjesus flatulent wisconsin obsessed computerized trader homestead acre ranch biased smartphone keeper vaccum tolerant relief dextrous celia converse junky jq butler iowa homogenous corset ma fundamental manuel imprisoned quack perth exploit subtle hint cologne cinema ver loose khaki divorce rustle independently cuss marker edith halo religionofpeace yesthisissarcasm btw accompaigne clumpsy tirelessly degrade roastme showerhead firecracker sleeping grizzly kodiak cunning complicate mercy marrakesh mazelike medieval djemaa el fna souks marketplace ceramic latern lentin normanfinkelstein com workman pepperoni disk desolate boycott poll submarine seaman ish bugridden decorative twitch frizzy transluscent cannibal diva autograph seeker polluted outrageous gravel fitness cosmetic swollen heated disgruntle fellow manipulate risky boyish dice ultimate sis comet miner subhuman negative binary renovate apa guessing moss arson alibi grandson authoritarian eventempere geurilla spelling talanted persians wary jiggle reproduce tourisim alot flie effortlessly balding tinker strip pint stas moist hills sung subjugated pastry fusion robin worm rival mellow freewheel ramericans experienced satiate rugby eveyone network octopus kaijew flutter monty gecko socialist accommodating hotdog broach pc panini clarity carat cub skid headline parade foolishly flamboyant caste fetch lobbyist inf hrer vine occupation shekel undermine kicking juicy refund neither gumball naomi fig extravagant footprint toad gardener dumping oblivious freshman highschool unhappily barbeque timely lamborghini forebearance cal remembrance wil silja europa stockholm plaid wintry skiing avid climber lunatic psychology breathtaking diffrence nestle aloud ef hive neil armstrong amendment katherine unsinkable bedtime brothel uneven decker refrigeration abstain dentistry uncertantie embassy merchandise observant accountant shrewd vietnamese manhood veil borrow foy thiy disorganize satiete joshua avraham shekelberg bloc anarchist sjw ep tattoos vike hypersexuality promiscuity jewry ejaculate anglo defensible indiana whip abundance lobst famished snuck jonas brothers chemotherapy spank unimportant scheme ps agressive pat untune effo demonize propagate holocau starseed rigatoni alopecia francis founder banu qurayza roofer baptist tgsnt hulu paywall lusty mutant drum interact daytime prom ferocious bias modeling hornet compliant outline extensive credential limitless assortment generalize carousal gourmet fuse envy bunk effervescent weenus impolite procrastinate anger boisterous culturally luger shinnig brightly revisionist sicken connecticut hartford unsure binge opulence seatbelt asphalt bankroll inspector making hassle gaseous atheistic idol assyrian statue circumambulate kabba hamm carburetor staer terrorize ardent patch beak austin deficiency rodent islamisation comfortably memree founders craftsman bowler erik benevolent technically unheard tag tator walker oahu luau swamp gamemode procastinator preference eyesight errand ac dc pheasant conservatively gradualy serotonin handmade resort doorknob materialistic altruistic genocidal sockpuppet ford exclude vespa baender hairspray arrowhead olga fuji banter pedicure mujahideen muggy altitude years bilateral tequilla disperse greeter charlene curteous mysterious drag volt lgbtq bait selfsufficient goverment deft greatly giza paranormal positioning constellation orion stance parchment ryan bakery jewess albright dreadlock genesis cosmopolitan unfaze propose anyways stability smoky ethnocentric intimidating tyler botanist dynamic abolitionist hygienic enteaine knockdown genitalia tattooed shampoo eggplant gum rio den dumpsterfire chaos hue atleast mask klike nig pushy rainforest purpoise nipple sge pavilion doctorate distract kathy pssssssst punctual cerveza tequila deandre parched portable rounded emotive soros depo samantha modest freindly au jus pajama longerhair pilaw fleece indefinitely mitten mayans dishonesty logitech alleviate tasha leonard peruvian unprecedented extremly eighty erect sunbathe katz harmonica recommend contradiction jihadi pjnet tcot tgdn ccot rednationrising teapay nra confront emerge scottish saloon piggy eiffel strife statistically aspire misanthropic indecent misrepresent fatigue horrendous swear murders alteration eventual approx egret bubble molly disappearance baptism masse swatkat biff ussually jaleel sharpener ahme extend coalition eradicate mackinac sergey stormy crusty butterfly porridge polished nagging visibly bs silas softy whitespace impoant meathead douchebag lgbtqia sync medication alphabet efficiency silica snob motherly sentiment perception whon caller tanisha johnson treaty chopper slump shopper ezidis cult stiff kale alike astrophysic campfire aicle anderson advancement bilingual extraordinary kentuckian islamaphobic lavishly martian innoveyte yearly paralelephant bachelor anorexic graph clog appendix sprout mythological homogeneous wheelchair egyptians punchline q enrichment ray curropt jeffrey earning trimester eschew freud cognitive behavioral therapy sugar skittish nonathletic lemur madagascar dachau carlos pérez gon defeatist shepard anncoulter delta additional abt debt neutral cheryl thus vietmanese powder polygamous tpose granny deeply harm mesh wildfire sepparate meditteranean kroger sperm urn typo sargeant handwritten entry buffalo bison drawing colour prior rajeev times fri mar wrecker bolsheviks commissars refrie aware colonize joyce nasally woah moroccans crushing brutalizing miami import popscicle scenario likeable magical legend sunnis imaamat guidance shias isphahaan imaam reappear embellish fortnite videogame conspire islamization hoist hankerchief designer roadway bawl walled revolver alta currency pesos waterboarde absorbent pokejew pikajew akhbar llhasa libtard unskilled fooseball reformed install barking morgue swiftly dora doda exploder covet gasoline novice additive lumbar saviour halal algebra upright druid africian impotent scorpion venom forgave mtcheeeeeeeeew germanic caffeine autistic buddhists terrorized unbiased github govern censor uptick purge skyline stellar balmy bologna homophobic flannel prayforsyria chemicalattack conviction barbara oppose extermination js effos voodoo mumbo jumbo shipping prudish structural decendant byproduct dearly fedora heisenberg jogging nosedly basilica ethic malik protester hon comedic doubloon countdown secure wee accomplishment bruise grossly overstate motivation doctoral dissertation expertise quantum lenient emaciate workaholic magpie corvidae injustice colonial compelling vermin exterminator gloomy liberate grunt madison windpipe greatness yrs bradford worthington desktop wars shackle marionberry archaeological mulan plea coax baloon disciple atheltic lollipop context phillips balcony crass intellegant beyonce sturdy dea philosophical scarf zig zag aromatic truthful gatherer sunrise xmas insufferably pug labeling exclusive memorabilia slep grin deck carpenters eucalyptus meow infinity canteloupe coniferous habitable lettuce cheating rogue reaction greuze intend impure coconuts collector peacock plumage steadfastly bountiful harvest jihadist crosshair ahhh irrogant flirtatious password miguel unintentional blown connect manufacturer zog distribute suite saucer happend hmm denial fictional birth parody lena avon sovereignty malicious scarlet abaya believable notch crossfit diving volcano venezuela hugo chavez ramble desecrate sos ricans eskimo spearman retractable conversationalist granduncle indonesia kamikaze hezbollah scandinavian vedas narco neuter ply equipment procedure retarded auschvistic federal slaughterhouse freudian sailing hesitant palatable belive parking loiter ethan runny fuel whistle combine validictorian destructive pleading web mourn alternative lobby sovereign fcn desalination seawater lust tenth notre dame louisville sept durable stump problom beautifully fried courteously firendly nomination chatty amicable cranjus mcbasketlball blacks shade dare petra sharply bananas flock booze watering critical analysis born prune macaroni unreligious ple fixture yakuza royale priya zookeeper preschooler exaggeration laquan styling sophisticated henry kissinger kushner skim jock closer notable innovation entrepreneurship overdose mohammad spiteful nah unathletic platinum equally pasture overzealous reverse nile mosquito patty admittance breathing slight stratosphere haven undergraduate women dwell fernando whatsoever deprivation tulip yaaaay hanz ze chainsaw antartica woof connected cossack anyhow inquisitive rattlesnake hospitality thong canablism minuet biking transportation asylum inhabitable resolve juggle bitcoin myopic chong ling farming cliff fruity straw toothpick candie loli attractiveness objectionable nigel farage bailout castration poraye heuristic absurd jewsdidthis comfy stub encouraging racket recount tailgate discriminatory hooky unsophisticated seldom teabagger morningjoe hysterical foresight di sharpie purpoed defensive criticism restriction vendor soar jewsual alpha bigotry sexism hatre mohamed crave oreos disintegrate nigerian th playfulness cos defect fatality nhs surviving goop prosporous nefarious ing antisemitism precaution himler blitzkrieg locomotive carriage lyric owowowowowowow bong licker dup cleansed iz munchkin veggie asad hurdle mousse unattentive professorial megalomaniacal mathematical majestic gpa creator chink porno hooker ogle booming powdery protractor eduador duplex digital unknowable satanists steer stoned braunsweiger crystal pea breasted entice striped overall alternatively ignite hex barn eric purr visualise stretch horizontally roberta shack garb gifted kurt intoxicate redcoats revolutionary phase disingenuine drift sorter legislation audis serena pluto solar ugh permanent africanfellowdog horn stripper coyote keg bro shuttle xs yamakas bronze gleam signifcantly indisputable siamese aificial mikepence rollercoaster cordial differently bachelorette feilizer lend democratically chic caviar tomahawk missile airstrip hollyjewd militant hairstyle tonedeaf electrician leading baroque romanticist tile torah plasma monique neuroradiologist lighten carp kennedy slumber gamble tame hong sephora latter blah syndicate sprinkling bouncer orlando llah tattere goalie hipster rockefeller cycle rebirth grit gallery charlie deliquent cactus juul tease stonehenge hustler restore separation lgbt extraterrestrial tracy dustin uncertain growth corporation tumble punching retake ours uninhabite clutter citrus compasionate inflate intimacy crust distinguised bathing absolute arrogance airforce dumbfuck pathetic unhinged perve playoff unlawful frappe garcia memorize saas management ipo nyse lid adoptable martini monica plumberslooklikesupermario reform degeneracy fend bookworm handcuff brighton freshener underrated remake smokescreen wham quisling bestow confession comfoable tyresse cluster handler switch edm negligent separate reunite phonebook duvet pillowcase zumba depress regulated warlike jea mere formality inexperienced mattress forge component axis pun intended johnathan manicure buying guacamole sumo wrestler spaced situ archaeologist manifest destiny ideological framework expansion endothermically volley upsetting digestion palm murdock rambo stroke sidney prey observation meanjokes opsec nationalism prissy mama loin builder eel disrespect cyrodil thalmor akashi kaikyo midnight swampwhite equivalent nobilitation gel competence unplanned legume easygoing concussion november june gass mitochondria stewart lambourghini sniper lava specialist molotov amerike wellfare shitistan farmworker globetrotter wherever defusal complicit betrayal boote bootes inappropriate sulfur cartoon impressive testament bungee gook seminar inher freetime jogger kristy hysteric admirable frown knelt gravestone proably malodorous maxium calculated rethink production mildly executor jambalya unclog legitimate petersburg attacker unrelenting lickspittle naqvi heptullah shahnawaz rv intent ottoman underpaid elegance disappoint writer boastfully subscribe materialism dishevel environmental stewardship curtail malcolm peacful recite thunderous applause masaai ratajczak dese engaged unconcerned poland exhausted density endzone reprimand exceptional clam superficial bimbos katy perry electronic faxe salone norris inventive ufo trumpet leopard intollerant underqualified sadio mane liverpool trot reservation droopy deficit thunderstorm kneel shabby domestic looter yu genera bleak slanteye acclimate investor evolution croak zuchini irritate belligerent beucase everytime setup lipstick officially podcast hanukkah bottled coughing wheezing handjob despair unemotional archaic offense cannabis apology missy groupie addiction briefcase metropolitan actresse planned parenthood guideline determine hijabs mutilated fungus oppounity guise henderson instigate orient hamster mah username preschool perpetrator frequent bumper baptize partying goy carter flash bless cheeto delectable operate practicing unsafe killstreak woulf kills chem olympics punk mic damascus relic artifact avocado petting shallow opinionated incapacitate judgment awe venous bulge meatloaf curl cmon massive incarcerated eugene nfl tablecloth frosted flakes lin portion spectacle span charm minded warmhearted remover lowbrow disney hostel minion capitulate businesswoman trinity indutrius sanitary emperor vineyard laced fawning thetruthseeker bazooka ny curler retirement redneck hugged unfair californians southwest hookah y intervention shiism argumentative cinematic dispute sony disabled irishman dvd dynamite narrow rel implication multicultural melting utopia agitate stir morgan microwave lara awkwardly submerge yarn walkie talkie brenda obediant bowman bubblegum towelhead dutchman abrasive fonda length unofficial terriost mentos haphazard bedspread override allegiance organizer plus rail cellular colored girly forskin chili silky womanizer aide revealing glare lou unsanitary crawl nonreligious toys pinnacle stress starting dilemma iguana freely cigarettes factor shore protector granite scarwney tigers wahog navajo prophecy hollande jersey eloquently owe desse strudel thorough idiomatic weasel index remark prisonplanet conve yells lightly pleasure jammed gambler regressive istanbul populous aristocratic satire incitement becasue bass misunderstood hostess unnoticed choo polyester ringing celebrity dgo marzipan moslem tummy mature whiz grader videotape wht vape convivial fiber judgement abominable tasker pigfucke troll joker incans grower holofakes holofake searchbar antique uncultured fuckin kirby bot exquisite hooded sweatshirt haughty humility naked rectum calcium nightstand catholicism granddaughter poisonous spoon dissaprove raced monster cilantro surge homosexual coupling saddle idaho mouthy numb airborne sksy lodging grocer baton blister anglian kittens drown pety eid mousy carload slogans daed wheeler thru dung whopper bashar ghouta bears feility infeile yam samuel courageous obey speeder backstage filmmaking selfcentere sleestack dense departure presentable chubby forgot articulate weeding macbook surface patio toni morrison fling humongous nostril creeper mannequin propserous venomous sedementary crackhead retreat womanizing boxcar tangerine frito fm enjoyable erratic iceland lucky loading sterile sleepy mime xbox seeing sergeant insist cadet varied platypus shawn cisgender buckle nigerians flatbread watchtower zip mahid maketh unfairly ehler danlos painful exhaust cuel theis moistened showcase dairy flakey obligation counting muslin pest nobleman gore vanilla stephanie schriock strategist breakup bogus rights volleyball igorant transparent gutter smushe untruthful imbecile stooge tragically lighter candace unhappy reinforce curry mas stamp bestiality urine misogyny burqa muzziepedos unsustainable leftover someplace scone maintenance tinder stiletto giggly afterward yorker ville ppl futile hehe kin yazidis hindus pattern bonfire astronaut storied mugger inhabitant richness complexity beanie babies recipient mathematics kassandra ragesh veronica narrative fussy troublemaker productive baloney obsolete mediterranian utensil kaaba legally hysterically covered weightlift hijabi jeopardy patronized londoner invade literal demonic sowing crispie naming brutality mcu islamophobia tarnisha hearing nobility accompany payer justified naggy sparkler suppoive volcanic peak overworked adept assessment heeled comrade confide buddhism fattys fulfilling misdirection windy doorstep plump impeccably nebula neglecting stolid incarcerate flooding horseshoe separete poised butts gps incorrect bougie berber carrie keystroke pupil albert nba russell terriers cruiser corgi oregon spades stabbing tij indeed vain hawking paralysed nigga meak hijinx bullsh ostentatious jamaican proportion joseph orgasm hogwas jackson curiously inter midget organizing voluntarily handed compose achievement paneer limp wong easterners zack costume carpeting foo visual dummy gent populace working brawny facial sucker conventional decipher brent detanotor rentable pinterest wellbehave wax smartwatch provocatively babe pete blossom attentive polka superhighway elfin connor nosy saddam hussein washing convenient cannibis stupidity foolish chromosome eu october dissaray hallowed dedicate feline frostbite generic literature mum uni visionary scrapbook brainy spear trashcan trap jamaica somber homemaker hyperinflation hinge rag sexiest kangaroo disprove eahly karl marx sociology retired caoon jong allegiant wahhabis impose diktat trex regarded silcon welleducated forgiveness slush undevloped pricipal marking suspend twat xeno paranoia hysteria squalor australian postcard tambourine samurai rubberband bracelet greener vaccine crochet slipper brooklyn rotc enrol ap shall poridge muzzrat rothschilds tibia jorge besides alert begger madandwohless dismay buisness suffer starvation englishwoman boxer workbench savior alwaays imperfect effectiveness godzilla spagetti gravy bulky nike curve instability palpitation annalitical crossword embattle input blight amazed saudia dustpan benz ned trapbar unstable turks eld horribly behaviour butthole auchwitz gaurd meaning usurer sadly demon riddance enslave earlock mankind holla clerical dose niggas coz adderall hats pizzeria aardvark gentrification calcify diabetes pasty poet lisper gloried rant giblet mlb vaunted bullshtte wrinkled wrapper otter coarse alexander cube warden pretzel lighthearted hamas almond hagwallah motorsport pasttime floozy eatable shwitz overrate spam groundwork adventuresome freak theirs cows vishas picturesque waterway inherently vulnerable glamorise cauliflow negatively confuse americas acually outdoors intersecting noun printing strum prank lad overlook goddamn paternal reunited rugged trevon gathering disheveled loophole flying insect jihaddy concrete sronger franchise browner worser worstest hastiness bullshit satanic pedofile int squash their relieve boredom fold torba sling goliath poxgay grudge workday cubs cardinals halfway mannerable employment wank abel won concious housing bureaucratic flamingo ritual consent morbidly bierut airheade cupboard combatant'"
            ]
          },
          "metadata": {
            "tags": []
          },
          "execution_count": 217
        }
      ]
    },
    {
      "cell_type": "code",
      "metadata": {
        "id": "3_PLABckxX1f"
      },
      "source": [
        "# create a sentence #\n",
        "s = Sentence(tokenized_word_string, use_tokenizer=False)\n",
        "# embed words in sentence #\n",
        "stacked_embeddings.embed(s)"
      ],
      "execution_count": null,
      "outputs": []
    },
    {
      "cell_type": "code",
      "metadata": {
        "id": "G-MnTX77lfJj"
      },
      "source": [
        "num_words = min((MAX_VOCAB_SIZE, len(word2idx_train)+1)) # +1 added as word index start from 0\n",
        "embedding_matrix = torch.zeros((MAX_VOCAB_SIZE,EMBEDDING_DIM)) # Number of vocab, dimention per vocab"
      ],
      "execution_count": null,
      "outputs": []
    },
    {
      "cell_type": "code",
      "metadata": {
        "colab": {
          "base_uri": "https://localhost:8080/"
        },
        "id": "r3fMhbWT7HeO",
        "outputId": "703ea36d-85f3-4f6d-d07d-78951ecb6dba"
      },
      "source": [
        "embedding_matrix.size()"
      ],
      "execution_count": null,
      "outputs": [
        {
          "output_type": "execute_result",
          "data": {
            "text/plain": [
              "torch.Size([20000, 4096])"
            ]
          },
          "metadata": {
            "tags": []
          },
          "execution_count": 223
        }
      ]
    },
    {
      "cell_type": "code",
      "metadata": {
        "id": "xdsG89avzIvq"
      },
      "source": [
        "for token in s:\n",
        "  index = token.idx\n",
        "  if index < MAX_VOCAB_SIZE:\n",
        "    embedding_vector = token.embedding\n",
        "    if embedding_vector is not None:\n",
        "      embedding_matrix[index] = embedding_vector"
      ],
      "execution_count": null,
      "outputs": []
    },
    {
      "cell_type": "code",
      "metadata": {
        "colab": {
          "base_uri": "https://localhost:8080/"
        },
        "id": "hU0tGNoG5g_Z",
        "outputId": "058f9ae5-b005-479f-a0bb-0836f20bf5c6"
      },
      "source": [
        "embedding_matrix"
      ],
      "execution_count": null,
      "outputs": [
        {
          "output_type": "execute_result",
          "data": {
            "text/plain": [
              "tensor([[ 0.0000e+00,  0.0000e+00,  0.0000e+00,  ...,  0.0000e+00,\n",
              "          0.0000e+00,  0.0000e+00],\n",
              "        [ 6.7919e-04,  6.9230e-04,  6.5216e-03,  ..., -6.4422e-03,\n",
              "          1.1827e-02, -4.7249e-02],\n",
              "        [ 1.0635e-03,  6.2549e-05,  4.1403e-02,  ..., -1.6153e-02,\n",
              "         -7.0305e-03, -6.1087e-03],\n",
              "        ...,\n",
              "        [ 0.0000e+00,  0.0000e+00,  0.0000e+00,  ...,  0.0000e+00,\n",
              "          0.0000e+00,  0.0000e+00],\n",
              "        [ 0.0000e+00,  0.0000e+00,  0.0000e+00,  ...,  0.0000e+00,\n",
              "          0.0000e+00,  0.0000e+00],\n",
              "        [ 0.0000e+00,  0.0000e+00,  0.0000e+00,  ...,  0.0000e+00,\n",
              "          0.0000e+00,  0.0000e+00]])"
            ]
          },
          "metadata": {
            "tags": []
          },
          "execution_count": 225
        }
      ]
    },
    {
      "cell_type": "markdown",
      "metadata": {
        "id": "JKpQw32A5oqy"
      },
      "source": [
        "Testing"
      ]
    },
    {
      "cell_type": "code",
      "metadata": {
        "colab": {
          "base_uri": "https://localhost:8080/"
        },
        "id": "64ePKvTo5q_0",
        "outputId": "1bbffdf2-ba0d-443d-b574-dd192dd11b1c"
      },
      "source": [
        "string = \"line\"\n",
        "idx = word2idx_train.get(string)\n",
        "print(idx)"
      ],
      "execution_count": null,
      "outputs": [
        {
          "output_type": "stream",
          "text": [
            "983\n"
          ],
          "name": "stdout"
        }
      ]
    },
    {
      "cell_type": "code",
      "metadata": {
        "colab": {
          "base_uri": "https://localhost:8080/"
        },
        "id": "8YA3ZnUs_i6g",
        "outputId": "76a51b3c-9ad7-4da5-f734-f5d765377198"
      },
      "source": [
        "print(s.get_token(idx))"
      ],
      "execution_count": null,
      "outputs": [
        {
          "output_type": "stream",
          "text": [
            "Token: 983 line\n"
          ],
          "name": "stdout"
        }
      ]
    },
    {
      "cell_type": "code",
      "metadata": {
        "colab": {
          "base_uri": "https://localhost:8080/"
        },
        "id": "VTPXrCEd6Tlm",
        "outputId": "f82895bf-973e-4e64-bef7-f3f579d4b371"
      },
      "source": [
        "idx = idx+1 # As index start from 1\n",
        "embedding_matrix[idx]"
      ],
      "execution_count": null,
      "outputs": [
        {
          "output_type": "execute_result",
          "data": {
            "text/plain": [
              "tensor([-0.0004,  0.0079,  0.0383,  ..., -0.0107, -0.0108,  0.0179])"
            ]
          },
          "metadata": {
            "tags": []
          },
          "execution_count": 228
        }
      ]
    },
    {
      "cell_type": "code",
      "metadata": {
        "id": "pp1VcFeux3xX"
      },
      "source": [
        "embedding_matrix = embedding_matrix.numpy()"
      ],
      "execution_count": null,
      "outputs": []
    },
    {
      "cell_type": "code",
      "metadata": {
        "id": "VZEtfid-NSTm"
      },
      "source": [
        "num_words = embedding_matrix.shape[0]\n",
        "emb_dim = embedding_matrix.shape[1]"
      ],
      "execution_count": null,
      "outputs": []
    },
    {
      "cell_type": "code",
      "metadata": {
        "id": "VL1908FM62dL"
      },
      "source": [
        "embedding_layer_flair = Embedding(num_words,emb_dim,weights = [embedding_matrix], input_length=MAX_SEQUENCE_LENGTH,trainable = False)"
      ],
      "execution_count": null,
      "outputs": []
    },
    {
      "cell_type": "code",
      "metadata": {
        "colab": {
          "base_uri": "https://localhost:8080/"
        },
        "id": "yMlhhC4iMqq7",
        "outputId": "f71e8d4a-12b7-4745-d71f-1b9f61a53756"
      },
      "source": [
        "cnn = _build_CNN(len(y[0]),embedding_layer_flair)"
      ],
      "execution_count": null,
      "outputs": [
        {
          "output_type": "stream",
          "text": [
            "Building model...\n",
            "Model: \"model_2\"\n",
            "_________________________________________________________________\n",
            "Layer (type)                 Output Shape              Param #   \n",
            "=================================================================\n",
            "input_3 (InputLayer)         [(None, 121)]             0         \n",
            "_________________________________________________________________\n",
            "embedding_2 (Embedding)      (None, 121, 4096)         81920000  \n",
            "_________________________________________________________________\n",
            "conv1d_6 (Conv1D)            (None, 119, 128)          1572992   \n",
            "_________________________________________________________________\n",
            "max_pooling1d_4 (MaxPooling1 (None, 39, 128)           0         \n",
            "_________________________________________________________________\n",
            "dropout_4 (Dropout)          (None, 39, 128)           0         \n",
            "_________________________________________________________________\n",
            "conv1d_7 (Conv1D)            (None, 37, 128)           49280     \n",
            "_________________________________________________________________\n",
            "max_pooling1d_5 (MaxPooling1 (None, 12, 128)           0         \n",
            "_________________________________________________________________\n",
            "dropout_5 (Dropout)          (None, 12, 128)           0         \n",
            "_________________________________________________________________\n",
            "conv1d_8 (Conv1D)            (None, 10, 128)           49280     \n",
            "_________________________________________________________________\n",
            "global_max_pooling1d_2 (Glob (None, 128)               0         \n",
            "_________________________________________________________________\n",
            "dense_4 (Dense)              (None, 128)               16512     \n",
            "_________________________________________________________________\n",
            "dense_5 (Dense)              (None, 7)                 903       \n",
            "=================================================================\n",
            "Total params: 83,608,967\n",
            "Trainable params: 1,688,967\n",
            "Non-trainable params: 81,920,000\n",
            "_________________________________________________________________\n",
            "None\n",
            "Done..\n"
          ],
          "name": "stdout"
        }
      ]
    },
    {
      "cell_type": "code",
      "metadata": {
        "id": "8s34oN6gMqq7",
        "colab": {
          "base_uri": "https://localhost:8080/"
        },
        "outputId": "458cabaf-00aa-4f74-f1cb-ea8a05e5ef34"
      },
      "source": [
        "from keras.callbacks import EarlyStopping\n",
        "\n",
        "early_stopping_monitor = EarlyStopping(patience = 5)\n",
        "\n",
        "cnn_train = cnn.fit(\n",
        "    data_train,\n",
        "    labels,\n",
        "    batch_size=BATCH_SIZE,\n",
        "    epochs=EPOCHS,\n",
        "    validation_split=VALIDATION_SPLIT,\n",
        "    callbacks = [early_stopping_monitor]\n",
        ")"
      ],
      "execution_count": null,
      "outputs": [
        {
          "output_type": "stream",
          "text": [
            "Epoch 1/40\n",
            "88/88 [==============================] - 17s 174ms/step - loss: 0.5323 - accuracy: 0.1428 - val_loss: 0.4266 - val_accuracy: 0.5044\n",
            "Epoch 2/40\n",
            "88/88 [==============================] - 15s 169ms/step - loss: 0.4126 - accuracy: 0.4984 - val_loss: 0.3934 - val_accuracy: 0.5606\n",
            "Epoch 3/40\n",
            "88/88 [==============================] - 15s 169ms/step - loss: 0.3823 - accuracy: 0.5648 - val_loss: 0.3830 - val_accuracy: 0.5983\n",
            "Epoch 4/40\n",
            "88/88 [==============================] - 15s 170ms/step - loss: 0.3670 - accuracy: 0.6036 - val_loss: 0.3781 - val_accuracy: 0.6242\n",
            "Epoch 5/40\n",
            "88/88 [==============================] - 15s 169ms/step - loss: 0.3511 - accuracy: 0.6448 - val_loss: 0.3741 - val_accuracy: 0.6399\n",
            "Epoch 6/40\n",
            "88/88 [==============================] - 15s 169ms/step - loss: 0.3435 - accuracy: 0.6724 - val_loss: 0.3685 - val_accuracy: 0.6413\n",
            "Epoch 7/40\n",
            "88/88 [==============================] - 15s 169ms/step - loss: 0.3303 - accuracy: 0.6952 - val_loss: 0.3633 - val_accuracy: 0.6601\n",
            "Epoch 8/40\n",
            "88/88 [==============================] - 15s 169ms/step - loss: 0.3203 - accuracy: 0.7087 - val_loss: 0.3668 - val_accuracy: 0.6665\n",
            "Epoch 9/40\n",
            "88/88 [==============================] - 15s 169ms/step - loss: 0.3176 - accuracy: 0.7228 - val_loss: 0.3722 - val_accuracy: 0.6555\n",
            "Epoch 10/40\n",
            "88/88 [==============================] - 15s 170ms/step - loss: 0.3062 - accuracy: 0.7301 - val_loss: 0.3712 - val_accuracy: 0.6726\n",
            "Epoch 11/40\n",
            "88/88 [==============================] - 15s 169ms/step - loss: 0.3005 - accuracy: 0.7287 - val_loss: 0.3616 - val_accuracy: 0.6793\n",
            "Epoch 12/40\n",
            "88/88 [==============================] - 15s 170ms/step - loss: 0.2954 - accuracy: 0.7502 - val_loss: 0.3906 - val_accuracy: 0.6484\n",
            "Epoch 13/40\n",
            "88/88 [==============================] - 15s 169ms/step - loss: 0.2937 - accuracy: 0.7400 - val_loss: 0.3947 - val_accuracy: 0.6555\n",
            "Epoch 14/40\n",
            "88/88 [==============================] - 15s 169ms/step - loss: 0.2923 - accuracy: 0.7375 - val_loss: 0.3868 - val_accuracy: 0.5976\n",
            "Epoch 15/40\n",
            "88/88 [==============================] - 15s 168ms/step - loss: 0.2841 - accuracy: 0.7138 - val_loss: 0.3749 - val_accuracy: 0.6669\n",
            "Epoch 16/40\n",
            "88/88 [==============================] - 15s 169ms/step - loss: 0.2789 - accuracy: 0.7476 - val_loss: 0.3863 - val_accuracy: 0.6011\n"
          ],
          "name": "stdout"
        }
      ]
    },
    {
      "cell_type": "code",
      "metadata": {
        "id": "7y8aDdrrMqq8",
        "colab": {
          "base_uri": "https://localhost:8080/",
          "height": 530
        },
        "outputId": "e326f9d3-f607-45a4-f673-6627ae9f2899"
      },
      "source": [
        "# plot some data\n",
        "plt.plot(cnn_train.history['loss'], label='loss')\n",
        "plt.plot(cnn_train.history['val_loss'], label='val_loss')\n",
        "plt.legend()\n",
        "plt.show()\n",
        "\n",
        "# accuracies\n",
        "plt.plot(cnn_train.history['accuracy'], label='acc')\n",
        "plt.plot(cnn_train.history['val_accuracy'], label='val_acc')\n",
        "plt.legend()\n",
        "plt.show()\n",
        "\n",
        "# plot the mean AUC over each label\n",
        "p = cnn.predict(data_train)\n",
        "aucs = []\n",
        "for j in range(6):\n",
        "    auc = roc_auc_score(labels[:,j], p[:,j])\n",
        "    aucs.append(auc)\n",
        "print(np.mean(aucs))"
      ],
      "execution_count": null,
      "outputs": [
        {
          "output_type": "display_data",
          "data": {
            "image/png": "[encoded data removed]",
            "text/plain": [
              "<Figure size 432x288 with 1 Axes>"
            ]
          },
          "metadata": {
            "tags": [],
            "needs_background": "light"
          }
        },
        {
          "output_type": "display_data",
          "data": {
            "image/png": "[encoded data removed]",
            "text/plain": [
              "<Figure size 432x288 with 1 Axes>"
            ]
          },
          "metadata": {
            "tags": [],
            "needs_background": "light"
          }
        },
        {
          "output_type": "stream",
          "text": [
            "0.8991292930153211\n"
          ],
          "name": "stdout"
        }
      ]
    },
    {
      "cell_type": "markdown",
      "metadata": {
        "id": "hOYBuoN-Mqq8"
      },
      "source": [
        "##### Evaluation on test set (CNN)"
      ]
    },
    {
      "cell_type": "code",
      "metadata": {
        "id": "r5ebfYXeMqq8"
      },
      "source": [
        "labels = test_df.iloc[:,1:-1].values\n",
        "sentences = test_df.iloc[:,-1].values"
      ],
      "execution_count": null,
      "outputs": []
    },
    {
      "cell_type": "code",
      "metadata": {
        "colab": {
          "base_uri": "https://localhost:8080/"
        },
        "id": "qwS58wzvMqq8",
        "outputId": "79154d37-a3fa-4803-fc2e-76b429631b21"
      },
      "source": [
        " test_data = preprocessing_testSet(sentences)"
      ],
      "execution_count": null,
      "outputs": [
        {
          "output_type": "stream",
          "text": [
            "sequences[0]: [2, 581, 1, 437]\n",
            "Shape of data tensor: (2482, 121)\n"
          ],
          "name": "stdout"
        }
      ]
    },
    {
      "cell_type": "code",
      "metadata": {
        "id": "kcvu_yZgMqq8"
      },
      "source": [
        "test_pred = cnn.predict(test_data)\n",
        "test_df_labels = labels"
      ],
      "execution_count": null,
      "outputs": []
    },
    {
      "cell_type": "code",
      "metadata": {
        "id": "LouD6JC5Mqq8",
        "colab": {
          "base_uri": "https://localhost:8080/"
        },
        "outputId": "4b3e43eb-a5c3-47a1-a4d4-32dbfaa57490"
      },
      "source": [
        "print(get_classification_report(test_pred, test_df_labels))"
      ],
      "execution_count": null,
      "outputs": [
        {
          "output_type": "stream",
          "text": [
            "                 precision    recall  f1-score   support\n",
            "\n",
            "      Ethnicity       0.44      0.36      0.39       784\n",
            "         gender       0.16      0.12      0.14       304\n",
            "     profession       0.35      0.33      0.34       467\n",
            "       religion       0.48      0.45      0.47       293\n",
            "Anti-stereotype       0.40      0.18      0.25       778\n",
            "     stereotype       0.63      0.39      0.48      1070\n",
            "      unrelated       0.53      0.59      0.56       634\n",
            "\n",
            "      micro avg       0.46      0.35      0.40      4330\n",
            "      macro avg       0.43      0.35      0.37      4330\n",
            "   weighted avg       0.47      0.35      0.39      4330\n",
            "    samples avg       0.44      0.38      0.40      4330\n",
            "\n"
          ],
          "name": "stdout"
        }
      ]
    },
    {
      "cell_type": "code",
      "metadata": {
        "id": "OWbSDZlLMqq9",
        "colab": {
          "base_uri": "https://localhost:8080/"
        },
        "outputId": "2b51ad1f-fb20-43a7-b50d-4f6512976711"
      },
      "source": [
        "write_to_file = True \n",
        "classification_metrics(test_pred, test_df_labels,\"CNN_Flair\",0.5)"
      ],
      "execution_count": null,
      "outputs": [
        {
          "output_type": "stream",
          "text": [
            "Evaluation metrics for test set:\n",
            "\n",
            " ROC-AUC score: 0.639378 \n",
            "\n",
            "\n",
            " Subset accuracy : 0.259871 \n",
            "\n",
            "\n",
            " hamming_loss : 0.262806 \n",
            "\n",
            "\n",
            " hamming score : 0.360475 \n",
            "\n",
            "\n",
            " sample average  precision_sample_average : 0.436644 \n",
            "\n",
            "\n",
            " sample average  recall_sample_average : 0.384770 \n",
            "\n",
            "\n",
            " sample average  f1_sample_average : 0.401813 \n",
            "\n",
            "  Saving the metrics into a file: eval_results_CNN_Flair_0.5_.json with threshold :0.5\n"
          ],
          "name": "stdout"
        },
        {
          "output_type": "stream",
          "text": [
            "/usr/local/lib/python3.7/dist-packages/sklearn/metrics/_classification.py:1221: UndefinedMetricWarning: Precision is ill-defined and being set to 0.0 in samples with no predicted labels. Use `zero_division` parameter to control this behavior.\n",
            "  _warn_prf(average, modifier, msg_start, len(result))\n",
            "/usr/local/lib/python3.7/dist-packages/sklearn/metrics/_classification.py:1221: UndefinedMetricWarning: Precision and F-score are ill-defined and being set to 0.0 in samples with no predicted labels. Use `zero_division` parameter to control this behavior.\n",
            "  _warn_prf(average, modifier, msg_start, len(result))\n"
          ],
          "name": "stderr"
        }
      ]
    },
    {
      "cell_type": "markdown",
      "metadata": {
        "id": "eOAm96tebpZh"
      },
      "source": [
        "## Randomly initialized word embeddings with GRU and LSTM"
      ]
    },
    {
      "cell_type": "code",
      "metadata": {
        "id": "eX3Vj1PHZwKD"
      },
      "source": [
        "MAX_VOCAB_SIZE = 20000 # Based on usage\n",
        "EMBEDDING_DIM = 100 # glove dimentions\n",
        "BATCH_SIZE = 128\n",
        "EPOCHS = 10"
      ],
      "execution_count": 51,
      "outputs": []
    },
    {
      "cell_type": "code",
      "metadata": {
        "id": "xmAZjPTlis3A"
      },
      "source": [
        "embedding_layer = Embedding(MAX_VOCAB_SIZE,EMBEDDING_DIM, input_length=MAX_SEQUENCE_LENGTH,trainable = True)"
      ],
      "execution_count": 52,
      "outputs": []
    },
    {
      "cell_type": "markdown",
      "metadata": {
        "id": "8qUlKgbGDMPY"
      },
      "source": [
        "### Fasttext like model (Randomly initialized word embedding)\n",
        "\n",
        "References :\n",
        "\n",
        "  * Paper: https://arxiv.org/pdf/1607.01759.pdf \n",
        "\n",
        "  1. https://nbviewer.jupyter.org/github/amaiya/ktrain/blob/master/tutorials/tutorial-04-text-classification.ipynb\n",
        "  2. https://github.com/mvdheram/Social-bias-Detection/blob/main/Baselines_anti.ipynb\n",
        "\n",
        "Model details :\n",
        "\n",
        "1. keras `Tokenizer` to tokenize the input sequences \n",
        "  * Create tokenizer with `Tokenizer(num_words=MAX_VOCAB_SIZE)`\n",
        "  * Fit on input sequences `tokenizer.fit_on_texts(sentences)`\n",
        "  * Generate input sequences with word ids using `tokenizer.texts_to_sequences(sentences)` \n",
        "2. Randomly initialized (weights) Keras embedding layer \n",
        "  * Dimentions (Vocab size,Dimentionality of each vocab) https://www.tensorflow.org/api_docs/python/tf/keras/layers/Embedding \n",
        "  * `Embedding(max_features, 64, input_length = maxlen)`\n",
        "3. `SpatialDropout1D = 0.25`\n",
        "4. `GlobalMaxPool1D()`, \n",
        "5. `BatchNormalization()`, \n",
        "6. Dense layer ,`relu` activation , \n",
        "7. Dense layer with output dimention (`Num_of_labels`), \n",
        "8. `loss_func = 'binary_crossentropy', activation = 'sigmoid'`   \n"
      ]
    },
    {
      "cell_type": "markdown",
      "metadata": {
        "id": "fVvFHil2DMPZ"
      },
      "source": [
        "Ktrain steps:\n",
        "\n",
        "1. Load the text data and corresponding preprocessing module using `ktrain.text`.\n",
        "  * Total instances : 16544\n",
        "    * Train instances : 14889 (90%)\n",
        "    * Test instances : 1655 (10%)\n",
        "2. Load corresponding model from `ktrain.text.text_classifier`\n",
        "3. Find best learning rate using `learner.lr_find`\n",
        "4. Train the model using *learning rate scheduler* from ktrain.\n",
        "5. Validate the test set with classification metrics. "
      ]
    },
    {
      "cell_type": "code",
      "metadata": {
        "colab": {
          "base_uri": "https://localhost:8080/"
        },
        "id": "_iiQYLtuDMPc",
        "outputId": "03fdcb80-d251-4202-ea41-d9e255c96c25"
      },
      "source": [
        "text.print_text_classifiers()"
      ],
      "execution_count": null,
      "outputs": [
        {
          "output_type": "stream",
          "text": [
            "fasttext: a fastText-like model [http://arxiv.org/pdf/1607.01759.pdf]\n",
            "logreg: logistic regression using a trainable Embedding layer\n",
            "nbsvm: NBSVM model [http://www.aclweb.org/anthology/P12-2018]\n",
            "bigru: Bidirectional GRU with pretrained fasttext word vectors [https://fasttext.cc/docs/en/crawl-vectors.html]\n",
            "standard_gru: simple 2-layer GRU with randomly initialized embeddings\n",
            "bert: Bidirectional Encoder Representations from Transformers (BERT) from keras_bert [https://arxiv.org/abs/1810.04805]\n",
            "distilbert: distilled, smaller, and faster BERT from Hugging Face transformers [https://arxiv.org/abs/1910.01108]\n"
          ],
          "name": "stdout"
        }
      ]
    },
    {
      "cell_type": "code",
      "metadata": {
        "colab": {
          "base_uri": "https://localhost:8080/"
        },
        "id": "lgInpcc1DMPe",
        "outputId": "78979e48-2380-45c7-ed34-a411dc0cec8f"
      },
      "source": [
        "df.columns"
      ],
      "execution_count": null,
      "outputs": [
        {
          "output_type": "execute_result",
          "data": {
            "text/plain": [
              "Index(['Ethnicity', 'gender', 'profession', 'religion', 'Anti-stereotype',\n",
              "       'stereotype', 'unrelated', 'sentence'],\n",
              "      dtype='object')"
            ]
          },
          "metadata": {
            "tags": []
          },
          "execution_count": 14
        }
      ]
    },
    {
      "cell_type": "code",
      "metadata": {
        "colab": {
          "base_uri": "https://localhost:8080/"
        },
        "id": "f69iehkmDMPf",
        "outputId": "5e381ab1-19e4-4ff8-b257-8fafe6ba557c"
      },
      "source": [
        "(x_train, y_train), (x_test, y_test), preproc = text.texts_from_df(df,'sentence',label_columns = ['Ethnicity', 'gender', 'profession', 'religion', 'Anti-stereotype',\n",
        "       'stereotype', 'unrelated'], maxlen = MAX_SEQUENCE_LENGTH, max_features = MAX_VOCAB_SIZE, preprocess_mode='standard', ngram_range=3)"
      ],
      "execution_count": null,
      "outputs": [
        {
          "output_type": "stream",
          "text": [
            "['Ethnicity', 'gender', 'profession', 'religion', 'Anti-stereotype', 'stereotype', 'unrelated']\n",
            "       Ethnicity  gender  profession  ...  Anti-stereotype  stereotype  unrelated\n",
            "15954        0.0     0.0         0.0  ...              0.0         0.0        1.0\n",
            "10399        0.0     0.0         0.0  ...              0.0         1.0        0.0\n",
            "15559        0.0     0.0         0.0  ...              0.0         0.0        1.0\n",
            "11312        0.0     0.0         0.0  ...              0.0         1.0        0.0\n",
            "14950        0.0     0.0         0.0  ...              0.0         0.0        1.0\n",
            "\n",
            "[5 rows x 7 columns]\n",
            "['Ethnicity', 'gender', 'profession', 'religion', 'Anti-stereotype', 'stereotype', 'unrelated']\n",
            "       Ethnicity  gender  profession  ...  Anti-stereotype  stereotype  unrelated\n",
            "3943         1.0     0.0         0.0  ...              0.0         1.0        0.0\n",
            "16124        0.0     0.0         0.0  ...              0.0         0.0        1.0\n",
            "5053         1.0     0.0         0.0  ...              1.0         0.0        0.0\n",
            "13448        0.0     0.0         0.0  ...              0.0         0.0        1.0\n",
            "11446        0.0     0.0         0.0  ...              0.0         1.0        0.0\n",
            "\n",
            "[5 rows x 7 columns]\n",
            "language: en\n",
            "Word Counts: 11444\n",
            "Nrows: 14889\n",
            "14889 train sequences\n",
            "train sequence lengths:\n",
            "\tmean : 12\n",
            "\t95percentile : 24\n",
            "\t99percentile : 35\n",
            "Adding 3-gram features\n",
            "max_features changed to 175964 with addition of ngrams\n",
            "Average train sequence length with ngrams: 32\n",
            "train (w/ngrams) sequence lengths:\n",
            "\tmean : 32\n",
            "\t95percentile : 69\n",
            "\t99percentile : 102\n",
            "x_train shape: (14889,50)\n",
            "y_train shape: (14889, 7)\n",
            "Is Multi-Label? True\n",
            "1655 test sequences\n",
            "test sequence lengths:\n",
            "\tmean : 11\n",
            "\t95percentile : 23\n",
            "\t99percentile : 32\n",
            "Average test sequence length with ngrams: 24\n",
            "test (w/ngrams) sequence lengths:\n",
            "\tmean : 25\n",
            "\t95percentile : 50\n",
            "\t99percentile : 69\n",
            "x_test shape: (1655,50)\n",
            "y_test shape: (1655, 7)\n"
          ],
          "name": "stdout"
        }
      ]
    },
    {
      "cell_type": "code",
      "metadata": {
        "id": "q9ejFfVfemu6"
      },
      "source": [
        "x_train = train_df_text.values\n",
        "y_train = train_df_labels.values\n",
        "x_val = val_df_text.values\n",
        "y_val = val_df_labels.values\n",
        "x_test = test_df_text.values\n",
        "y_test = test_df_labels.values"
      ],
      "execution_count": null,
      "outputs": []
    },
    {
      "cell_type": "code",
      "metadata": {
        "colab": {
          "base_uri": "https://localhost:8080/"
        },
        "id": "RH00E2knDMPk",
        "outputId": "4c3a469d-b911-4085-ffde-69bd691f124a"
      },
      "source": [
        "model = text.text_classifier('fasttext', (x_train, y_train) , preproc=preproc)"
      ],
      "execution_count": null,
      "outputs": [
        {
          "output_type": "stream",
          "text": [
            "Is Multi-Label? True\n",
            "compiling word ID features...\n",
            "maxlen is 1\n",
            "done.\n"
          ],
          "name": "stdout"
        }
      ]
    },
    {
      "cell_type": "code",
      "metadata": {
        "colab": {
          "base_uri": "https://localhost:8080/"
        },
        "id": "V_NwmbEqDMPl",
        "outputId": "b530ad9a-b273-4714-8aec-0c099a9eefe8"
      },
      "source": [
        "model.summary()"
      ],
      "execution_count": null,
      "outputs": [
        {
          "output_type": "stream",
          "text": [
            "Model: \"sequential\"\n",
            "_________________________________________________________________\n",
            "Layer (type)                 Output Shape              Param #   \n",
            "=================================================================\n",
            "embedding (Embedding)        (None, 1, 64)             11278208  \n",
            "_________________________________________________________________\n",
            "spatial_dropout1d (SpatialDr (None, 1, 64)             0         \n",
            "_________________________________________________________________\n",
            "global_max_pooling1d (Global (None, 64)                0         \n",
            "_________________________________________________________________\n",
            "batch_normalization (BatchNo (None, 64)                256       \n",
            "_________________________________________________________________\n",
            "dense (Dense)                (None, 64)                4160      \n",
            "_________________________________________________________________\n",
            "dropout (Dropout)            (None, 64)                0         \n",
            "_________________________________________________________________\n",
            "dense_1 (Dense)              (None, 7)                 455       \n",
            "=================================================================\n",
            "Total params: 11,283,079\n",
            "Trainable params: 11,282,951\n",
            "Non-trainable params: 128\n",
            "_________________________________________________________________\n"
          ],
          "name": "stdout"
        }
      ]
    },
    {
      "cell_type": "code",
      "metadata": {
        "id": "IL_7sJroDMPm"
      },
      "source": [
        "learner = ktrain.get_learner(model, \n",
        "                             train_data=(x_train, y_train),\n",
        "                             val_data=(x_val, y_val))"
      ],
      "execution_count": null,
      "outputs": []
    },
    {
      "cell_type": "code",
      "metadata": {
        "id": "kpkgZOgsDMPm"
      },
      "source": [
        "learner.lr_find(show_plot=True)"
      ],
      "execution_count": null,
      "outputs": []
    },
    {
      "cell_type": "code",
      "metadata": {
        "colab": {
          "base_uri": "https://localhost:8080/"
        },
        "id": "GKyY_6ERDMPn",
        "outputId": "5326e57b-bd4e-4e3a-ab5a-5a48e2f4b613"
      },
      "source": [
        "learner.autofit(5e-2, 5)"
      ],
      "execution_count": null,
      "outputs": [
        {
          "output_type": "stream",
          "text": [
            "\n",
            "\n",
            "begin training using triangular learning rate policy with max lr of 0.05...\n",
            "Epoch 1/5\n",
            "466/466 [==============================] - 68s 146ms/step - loss: 0.4321 - accuracy: 0.3482 - val_loss: 0.4143 - val_accuracy: 0.4900\n",
            "Epoch 2/5\n",
            "466/466 [==============================] - 68s 146ms/step - loss: 0.4258 - accuracy: 0.3500 - val_loss: 0.4499 - val_accuracy: 0.4453\n",
            "Epoch 3/5\n",
            "466/466 [==============================] - 68s 146ms/step - loss: 0.4179 - accuracy: 0.3684 - val_loss: 0.4412 - val_accuracy: 0.4979\n",
            "Epoch 4/5\n",
            "466/466 [==============================] - 68s 146ms/step - loss: 0.4228 - accuracy: 0.3707 - val_loss: 0.5003 - val_accuracy: 0.5130\n",
            "Epoch 5/5\n",
            "466/466 [==============================] - 68s 146ms/step - loss: 0.4241 - accuracy: 0.3557 - val_loss: 0.4239 - val_accuracy: 0.4586\n"
          ],
          "name": "stdout"
        },
        {
          "output_type": "execute_result",
          "data": {
            "text/plain": [
              "<tensorflow.python.keras.callbacks.History at 0x7f8416d25bd0>"
            ]
          },
          "metadata": {
            "tags": []
          },
          "execution_count": 23
        }
      ]
    },
    {
      "cell_type": "code",
      "metadata": {
        "colab": {
          "base_uri": "https://localhost:8080/",
          "height": 295
        },
        "id": "kxKasQeRDMPo",
        "outputId": "31feba9c-277f-4a63-d23b-f83f2a4ee893"
      },
      "source": [
        "learner.plot('loss')"
      ],
      "execution_count": null,
      "outputs": [
        {
          "output_type": "display_data",
          "data": {
            "image/png": "[encoded data removed]",
            "text/plain": [
              "<Figure size 432x288 with 1 Axes>"
            ]
          },
          "metadata": {
            "tags": [],
            "needs_background": "light"
          }
        }
      ]
    },
    {
      "cell_type": "markdown",
      "metadata": {
        "id": "jWtbBw_vN-FD"
      },
      "source": [
        "Correct the predictions"
      ]
    },
    {
      "cell_type": "code",
      "metadata": {
        "id": "4kcmN8twDMPp"
      },
      "source": [
        "test_pred = learner.predict()\n",
        "test_df_labels = y_test"
      ],
      "execution_count": null,
      "outputs": []
    },
    {
      "cell_type": "markdown",
      "metadata": {
        "id": "RrNpbLc4DMPq"
      },
      "source": [
        "ROC_AUC of final model"
      ]
    },
    {
      "cell_type": "code",
      "metadata": {
        "colab": {
          "base_uri": "https://localhost:8080/"
        },
        "id": "Wt3-DkRzDMPq",
        "outputId": "de959837-ffb4-4680-b77d-35db133d8b20"
      },
      "source": [
        "score = roc_auc_score(test_df_labels, test_pred)\n",
        "print(\"\\n ROC-AUC score: %.6f \\n\" % (score))"
      ],
      "execution_count": null,
      "outputs": [
        {
          "output_type": "stream",
          "text": [
            "\n",
            " ROC-AUC score: 0.800436 \n",
            "\n"
          ],
          "name": "stdout"
        }
      ]
    },
    {
      "cell_type": "markdown",
      "metadata": {
        "id": "9mra7mlQDMPr"
      },
      "source": [
        "per_class ROC_AUC"
      ]
    },
    {
      "cell_type": "code",
      "metadata": {
        "colab": {
          "base_uri": "https://localhost:8080/"
        },
        "id": "n1X1TcHPDMPs",
        "outputId": "d0717506-ca6e-4a8e-b8da-36a9e778c8a1"
      },
      "source": [
        "from sklearn.metrics import roc_curve\n",
        "from collections import OrderedDict\n",
        "import numpy as np\n",
        "\n",
        "\n",
        "opti_threshold = dict()\n",
        "LABEL_COLUMNS = ['Ethnicity','gender','profession','religion','Anti-stereotype','stereotype','unrelated']\n",
        "\n",
        "for i in range(7):\n",
        "  fpr, tpr, thresholds = roc_curve(test_df_labels[:,i], test_pred[:,i])\n",
        "  print(\"AUC_ROC_score of %s is %s:\"% (LABEL_COLUMNS[i],roc_auc_score(test_df_labels[:,i], test_pred[:,i])))\n",
        "  optimal_idx = np.argmax(tpr + (1- fpr)) # Return indices of maximum array;  Criterion - Maximise TPR(recall) and TNR(specificity) \n",
        "  optimal_threshold = thresholds[optimal_idx]\n",
        "  print(\"Optimal threshold value of %s is %s:\\n\" % (LABEL_COLUMNS[i], optimal_threshold))\n",
        "  opti_threshold[i] = optimal_threshold"
      ],
      "execution_count": null,
      "outputs": [
        {
          "output_type": "stream",
          "text": [
            "AUC_ROC_score of Ethnicity is 0.8981084741789388:\n",
            "Optimal threshold value of Ethnicity is 0.2865471:\n",
            "\n",
            "AUC_ROC_score of gender is 0.8458112611073137:\n",
            "Optimal threshold value of gender is 0.11651024:\n",
            "\n",
            "AUC_ROC_score of profession is 0.9210398964891905:\n",
            "Optimal threshold value of profession is 0.2396673:\n",
            "\n",
            "AUC_ROC_score of religion is 0.9283522695897067:\n",
            "Optimal threshold value of religion is 0.0776653:\n",
            "\n",
            "AUC_ROC_score of Anti-stereotype is 0.632736256435808:\n",
            "Optimal threshold value of Anti-stereotype is 0.3107939:\n",
            "\n",
            "AUC_ROC_score of stereotype is 0.6740755422587884:\n",
            "Optimal threshold value of stereotype is 0.41457725:\n",
            "\n",
            "AUC_ROC_score of unrelated is 0.7029294597745823:\n",
            "Optimal threshold value of unrelated is 0.26352823:\n",
            "\n"
          ],
          "name": "stdout"
        }
      ]
    },
    {
      "cell_type": "markdown",
      "metadata": {
        "id": "fVX9lbw8DMPt"
      },
      "source": [
        "Classification report \n",
        "\n",
        "Threshold = 0.5"
      ]
    },
    {
      "cell_type": "code",
      "metadata": {
        "id": "vERED1FSDMPt"
      },
      "source": [
        "from sklearn.metrics import classification_report, multilabel_confusion_matrix\n",
        "\n",
        "y_pred = np.where(test_pred > 0.5, upper, lower)\n",
        "classification_report = classification_report(\n",
        "  test_df_labels, \n",
        "  y_pred, \n",
        "  target_names=LABEL_COLUMNS, \n",
        "  zero_division=0,\n",
        ")"
      ],
      "execution_count": null,
      "outputs": []
    },
    {
      "cell_type": "code",
      "metadata": {
        "colab": {
          "base_uri": "https://localhost:8080/"
        },
        "id": "_wD-v5CkDMPu",
        "outputId": "7c257048-9695-41f9-f7b4-2bb8c7ffdd90"
      },
      "source": [
        "print(classification_report)"
      ],
      "execution_count": null,
      "outputs": [
        {
          "output_type": "stream",
          "text": [
            "                 precision    recall  f1-score   support\n",
            "\n",
            "      Ethnicity       0.78      0.65      0.71       562\n",
            "         gender       0.00      0.00      0.00       192\n",
            "     profession       0.63      0.39      0.48       287\n",
            "       religion       0.97      0.63      0.77       199\n",
            "Anti-stereotype       0.38      0.01      0.02       540\n",
            "     stereotype       0.97      0.20      0.33       700\n",
            "      unrelated       0.81      0.42      0.55       415\n",
            "\n",
            "      micro avg       0.80      0.32      0.45      2895\n",
            "      macro avg       0.65      0.33      0.41      2895\n",
            "   weighted avg       0.70      0.32      0.40      2895\n",
            "    samples avg       0.47      0.33      0.38      2895\n",
            "\n"
          ],
          "name": "stdout"
        }
      ]
    },
    {
      "cell_type": "markdown",
      "metadata": {
        "id": "YaBvYUWsDMPv"
      },
      "source": [
        "Confusion matrix"
      ]
    },
    {
      "cell_type": "code",
      "metadata": {
        "id": "HyuBTD-0DMPv"
      },
      "source": [
        "pip install git+https://github.com/gmihaila/ml_things"
      ],
      "execution_count": null,
      "outputs": []
    },
    {
      "cell_type": "code",
      "metadata": {
        "id": "SxERkMc_DMPw"
      },
      "source": [
        "import matplotlib.pyplot as plt\n",
        "import seaborn as sns\n",
        "from ml_things import plot_confusion_matrix\n",
        "\n",
        "cf = multilabel_confusion_matrix(test_df_labels, \n",
        "  y_pred)"
      ],
      "execution_count": null,
      "outputs": []
    },
    {
      "cell_type": "code",
      "metadata": {
        "colab": {
          "base_uri": "https://localhost:8080/",
          "height": 1000
        },
        "id": "lHjka83XDMPx",
        "outputId": "4c05383e-250b-44c7-e26d-014d048e1805"
      },
      "source": [
        "LABEL_COLUMNS = ['Ethnicity','gender','profession','religion','Anti-stereotype','stereotype','unrelated']\n",
        "for i,val in enumerate(LABEL_COLUMNS):\n",
        "  plot_confusion_matrix(y_true=test_df_labels[:,i], y_pred=y_pred[:,i], magnify=0.1, use_title='Confusion Matrix'+\" \"+ val, path='plot_confusion_matrix'+ \"_\" + val +\".png\");"
      ],
      "execution_count": null,
      "outputs": [
        {
          "output_type": "stream",
          "text": [
            "Confusion matrix, without normalization\n"
          ],
          "name": "stdout"
        },
        {
          "output_type": "display_data",
          "data": {
            "image/png": "[encoded data removed]",
            "text/plain": [
              "<Figure size 1944x432 with 2 Axes>"
            ]
          },
          "metadata": {
            "tags": []
          }
        },
        {
          "output_type": "stream",
          "text": [
            "Confusion matrix, without normalization\n"
          ],
          "name": "stdout"
        },
        {
          "output_type": "display_data",
          "data": {
            "image/png": "[encoded data removed]",
            "text/plain": [
              "<Figure size 1944x432 with 2 Axes>"
            ]
          },
          "metadata": {
            "tags": []
          }
        },
        {
          "output_type": "stream",
          "text": [
            "Confusion matrix, without normalization\n"
          ],
          "name": "stdout"
        },
        {
          "output_type": "display_data",
          "data": {
            "image/png": "[encoded data removed]",
            "text/plain": [
              "<Figure size 1944x432 with 2 Axes>"
            ]
          },
          "metadata": {
            "tags": []
          }
        },
        {
          "output_type": "stream",
          "text": [
            "Confusion matrix, without normalization\n"
          ],
          "name": "stdout"
        },
        {
          "output_type": "display_data",
          "data": {
            "image/png": "[encoded data removed]",
            "text/plain": [
              "<Figure size 1944x432 with 2 Axes>"
            ]
          },
          "metadata": {
            "tags": []
          }
        },
        {
          "output_type": "stream",
          "text": [
            "Confusion matrix, without normalization\n"
          ],
          "name": "stdout"
        },
        {
          "output_type": "display_data",
          "data": {
            "image/png": "[encoded data removed]",
            "text/plain": [
              "<Figure size 1944x432 with 2 Axes>"
            ]
          },
          "metadata": {
            "tags": []
          }
        },
        {
          "output_type": "stream",
          "text": [
            "Confusion matrix, without normalization\n"
          ],
          "name": "stdout"
        },
        {
          "output_type": "display_data",
          "data": {
            "image/png": "[encoded data removed]",
            "text/plain": [
              "<Figure size 1944x432 with 2 Axes>"
            ]
          },
          "metadata": {
            "tags": []
          }
        },
        {
          "output_type": "stream",
          "text": [
            "Confusion matrix, without normalization\n"
          ],
          "name": "stdout"
        },
        {
          "output_type": "display_data",
          "data": {
            "image/png": "[encoded data removed]",
            "text/plain": [
              "<Figure size 1944x432 with 2 Axes>"
            ]
          },
          "metadata": {
            "tags": []
          }
        }
      ]
    },
    {
      "cell_type": "markdown",
      "metadata": {
        "id": "Q86_KCBwDMPz"
      },
      "source": [
        "Classification metrics "
      ]
    },
    {
      "cell_type": "code",
      "metadata": {
        "colab": {
          "base_uri": "https://localhost:8080/"
        },
        "id": "wpyxqsNIDMPz",
        "outputId": "bd0622b7-eea6-4e0a-da3d-7f91f75e03d7"
      },
      "source": [
        "write_to_file = True \n",
        "classification_metrics(test_pred, test_df_labels,\"nbsvm\",0.5)"
      ],
      "execution_count": null,
      "outputs": [
        {
          "output_type": "stream",
          "text": [
            "Evaluation metrics for test set:\n",
            "\n",
            " ROC-AUC score: 0.800436 \n",
            "\n",
            "\n",
            " Subset accuracy : 0.183686 \n",
            "\n",
            "\n",
            " hamming_loss : 0.190073 \n",
            "\n",
            "  Saving the metrics into a file: eval_results_nbsvm_0.5_.json with threshold :0.5\n"
          ],
          "name": "stdout"
        },
        {
          "output_type": "stream",
          "text": [
            "/usr/local/lib/python3.7/dist-packages/sklearn/metrics/_classification.py:1221: UndefinedMetricWarning: Precision is ill-defined and being set to 0.0 in samples with no predicted labels. Use `zero_division` parameter to control this behavior.\n",
            "  _warn_prf(average, modifier, msg_start, len(result))\n",
            "/usr/local/lib/python3.7/dist-packages/sklearn/metrics/_classification.py:1221: UndefinedMetricWarning: Precision and F-score are ill-defined and being set to 0.0 in labels with no predicted samples. Use `zero_division` parameter to control this behavior.\n",
            "  _warn_prf(average, modifier, msg_start, len(result))\n",
            "/usr/local/lib/python3.7/dist-packages/sklearn/metrics/_classification.py:1221: UndefinedMetricWarning: Precision and F-score are ill-defined and being set to 0.0 in samples with no predicted labels. Use `zero_division` parameter to control this behavior.\n",
            "  _warn_prf(average, modifier, msg_start, len(result))\n"
          ],
          "name": "stderr"
        }
      ]
    },
    {
      "cell_type": "markdown",
      "metadata": {
        "id": "EFAr3QCKhYLS"
      },
      "source": [
        "### Randomly initialized word embedding with Bi-LSTM"
      ]
    },
    {
      "cell_type": "code",
      "metadata": {
        "colab": {
          "base_uri": "https://localhost:8080/"
        },
        "id": "7HcMgzm1lHe_",
        "outputId": "ceb4c265-5070-46a2-95e8-27872b0e3c45"
      },
      "source": [
        "bilstm = _build_bilstm(len(y[0]),embedding_layer)"
      ],
      "execution_count": 62,
      "outputs": [
        {
          "output_type": "stream",
          "text": [
            "Building model...\n",
            "Model: \"model_3\"\n",
            "__________________________________________________________________________________________________\n",
            "Layer (type)                    Output Shape         Param #     Connected to                     \n",
            "==================================================================================================\n",
            "input_12 (InputLayer)           [(None, 121)]        0                                            \n",
            "__________________________________________________________________________________________________\n",
            "embedding_3 (Embedding)         (None, 121, 100)     2000000     input_12[0][0]                   \n",
            "__________________________________________________________________________________________________\n",
            "spatial_dropout1d_11 (SpatialDr (None, 121, 100)     0           embedding_3[6][0]                \n",
            "__________________________________________________________________________________________________\n",
            "bidirectional_11 (Bidirectional (None, 121, 30)      13920       spatial_dropout1d_11[0][0]       \n",
            "__________________________________________________________________________________________________\n",
            "global_average_pooling1d_11 (Gl (None, 30)           0           bidirectional_11[0][0]           \n",
            "__________________________________________________________________________________________________\n",
            "global_max_pooling1d_11 (Global (None, 30)           0           bidirectional_11[0][0]           \n",
            "__________________________________________________________________________________________________\n",
            "concatenate_10 (Concatenate)    (None, 60)           0           global_average_pooling1d_11[0][0]\n",
            "                                                                 global_max_pooling1d_11[0][0]    \n",
            "__________________________________________________________________________________________________\n",
            "dense_10 (Dense)                (None, 7)            427         concatenate_10[0][0]             \n",
            "==================================================================================================\n",
            "Total params: 2,014,347\n",
            "Trainable params: 2,014,347\n",
            "Non-trainable params: 0\n",
            "__________________________________________________________________________________________________\n",
            "None\n",
            "Done..\n"
          ],
          "name": "stdout"
        }
      ]
    },
    {
      "cell_type": "code",
      "metadata": {
        "colab": {
          "base_uri": "https://localhost:8080/"
        },
        "id": "tWEOVx6ulHfE",
        "outputId": "5dfd0c29-c843-4387-a67b-3316adf2a0cb"
      },
      "source": [
        "from keras.callbacks import EarlyStopping\n",
        "\n",
        "early_stopping_monitor = EarlyStopping(patience = 5)\n",
        "\n",
        "bilstm_train = bilstm.fit(\n",
        "    data_train,\n",
        "    labels,\n",
        "    batch_size=BATCH_SIZE,\n",
        "    epochs=EPOCHS,\n",
        "    validation_split=VALIDATION_SPLIT,\n",
        "    callbacks = [early_stopping_monitor]\n",
        ")"
      ],
      "execution_count": 63,
      "outputs": [
        {
          "output_type": "stream",
          "text": [
            "Epoch 1/10\n",
            "88/88 [==============================] - 22s 83ms/step - loss: 0.5836 - accuracy: 0.0220 - val_loss: 0.5131 - val_accuracy: 0.0000e+00\n",
            "Epoch 2/10\n",
            "88/88 [==============================] - 6s 66ms/step - loss: 0.4966 - accuracy: 0.0634 - val_loss: 0.4482 - val_accuracy: 0.2730\n",
            "Epoch 3/10\n",
            "88/88 [==============================] - 6s 66ms/step - loss: 0.4195 - accuracy: 0.3580 - val_loss: 0.3935 - val_accuracy: 0.3711\n",
            "Epoch 4/10\n",
            "88/88 [==============================] - 6s 66ms/step - loss: 0.3613 - accuracy: 0.4287 - val_loss: 0.3723 - val_accuracy: 0.4557\n",
            "Epoch 5/10\n",
            "88/88 [==============================] - 6s 66ms/step - loss: 0.3259 - accuracy: 0.5081 - val_loss: 0.3565 - val_accuracy: 0.5332\n",
            "Epoch 6/10\n",
            "88/88 [==============================] - 6s 66ms/step - loss: 0.3043 - accuracy: 0.5804 - val_loss: 0.3474 - val_accuracy: 0.5777\n",
            "Epoch 7/10\n",
            "88/88 [==============================] - 6s 66ms/step - loss: 0.2765 - accuracy: 0.6462 - val_loss: 0.3352 - val_accuracy: 0.5912\n",
            "Epoch 8/10\n",
            "88/88 [==============================] - 6s 66ms/step - loss: 0.2614 - accuracy: 0.6741 - val_loss: 0.3286 - val_accuracy: 0.6669\n",
            "Epoch 9/10\n",
            "88/88 [==============================] - 6s 66ms/step - loss: 0.2451 - accuracy: 0.7431 - val_loss: 0.3250 - val_accuracy: 0.6648\n",
            "Epoch 10/10\n",
            "88/88 [==============================] - 6s 64ms/step - loss: 0.2280 - accuracy: 0.7879 - val_loss: 0.3369 - val_accuracy: 0.6697\n"
          ],
          "name": "stdout"
        }
      ]
    },
    {
      "cell_type": "code",
      "metadata": {
        "id": "Qvcyyl69WHya",
        "outputId": "b422539a-dccb-4fca-a056-499978603ff6",
        "colab": {
          "base_uri": "https://localhost:8080/",
          "height": 428
        }
      },
      "source": [
        "pip install matplotlib==3.1.3"
      ],
      "execution_count": 69,
      "outputs": [
        {
          "output_type": "stream",
          "text": [
            "Collecting matplotlib==3.1.3\n",
            "  Downloading matplotlib-3.1.3-cp37-cp37m-manylinux1_x86_64.whl (13.1 MB)\n",
            "\u001b[K     |████████████████████████████████| 13.1 MB 89 kB/s \n",
            "\u001b[?25hRequirement already satisfied: kiwisolver>=1.0.1 in /usr/local/lib/python3.7/dist-packages (from matplotlib==3.1.3) (1.3.1)\n",
            "Requirement already satisfied: pyparsing!=2.0.4,!=2.1.2,!=2.1.6,>=2.0.1 in /usr/local/lib/python3.7/dist-packages (from matplotlib==3.1.3) (2.4.7)\n",
            "Requirement already satisfied: python-dateutil>=2.1 in /usr/local/lib/python3.7/dist-packages (from matplotlib==3.1.3) (2.8.2)\n",
            "Requirement already satisfied: cycler>=0.10 in /usr/local/lib/python3.7/dist-packages (from matplotlib==3.1.3) (0.10.0)\n",
            "Requirement already satisfied: numpy>=1.11 in /usr/local/lib/python3.7/dist-packages (from matplotlib==3.1.3) (1.19.5)\n",
            "Requirement already satisfied: six in /usr/local/lib/python3.7/dist-packages (from cycler>=0.10->matplotlib==3.1.3) (1.15.0)\n",
            "Installing collected packages: matplotlib\n",
            "  Attempting uninstall: matplotlib\n",
            "    Found existing installation: matplotlib 3.4.3\n",
            "    Uninstalling matplotlib-3.4.3:\n",
            "      Successfully uninstalled matplotlib-3.4.3\n",
            "\u001b[31mERROR: pip's dependency resolver does not currently take into account all the packages that are installed. This behaviour is the source of the following dependency conflicts.\n",
            "ml-things 0.0.1 requires matplotlib>=3.4.0, but you have matplotlib 3.1.3 which is incompatible.\n",
            "albumentations 0.1.12 requires imgaug<0.2.7,>=0.2.5, but you have imgaug 0.2.9 which is incompatible.\u001b[0m\n",
            "Successfully installed matplotlib-3.1.3\n"
          ],
          "name": "stdout"
        },
        {
          "output_type": "display_data",
          "data": {
            "application/vnd.colab-display-data+json": {
              "pip_warning": {
                "packages": [
                  "matplotlib",
                  "mpl_toolkits"
                ]
              }
            }
          },
          "metadata": {
            "tags": []
          }
        }
      ]
    },
    {
      "cell_type": "code",
      "metadata": {
        "colab": {
          "base_uri": "https://localhost:8080/",
          "height": 530
        },
        "id": "9ZsLXB_wlHfG",
        "outputId": "8827e04e-cfe8-4e79-dc83-c5dc5cfe24f0"
      },
      "source": [
        "# plot some data\n",
        "plt.plot(bilstm_train.history['loss'], label='loss')\n",
        "plt.plot(bilstm_train.history['val_loss'], label='val_loss')\n",
        "plt.legend()\n",
        "plt.show()\n",
        "\n",
        "# accuracies\n",
        "plt.plot(bilstm_train.history['accuracy'], label='acc')\n",
        "plt.plot(bilstm_train.history['val_accuracy'], label='val_acc')\n",
        "plt.legend()\n",
        "plt.show()\n",
        "\n",
        "# plot the mean AUC over each label\n",
        "p = bilstm.predict(data_train)\n",
        "aucs = []\n",
        "for j in range(6):\n",
        "    auc = roc_auc_score(labels[:,j], p[:,j])\n",
        "    aucs.append(auc)\n",
        "print(np.mean(aucs))"
      ],
      "execution_count": 70,
      "outputs": [
        {
          "output_type": "display_data",
          "data": {
            "image/png": "[encoded data removed]",
            "text/plain": [
              "<Figure size 432x288 with 1 Axes>"
            ]
          },
          "metadata": {
            "tags": [],
            "needs_background": "light"
          }
        },
        {
          "output_type": "display_data",
          "data": {
            "image/png": "[encoded data removed]",
            "text/plain": [
              "<Figure size 432x288 with 1 Axes>"
            ]
          },
          "metadata": {
            "tags": [],
            "needs_background": "light"
          }
        },
        {
          "output_type": "stream",
          "text": [
            "0.936693764243954\n"
          ],
          "name": "stdout"
        }
      ]
    },
    {
      "cell_type": "markdown",
      "metadata": {
        "id": "s-vr8kKWlHfI"
      },
      "source": [
        "##### Evaluation on test set "
      ]
    },
    {
      "cell_type": "markdown",
      "metadata": {
        "id": "cPjNS1Bom90T"
      },
      "source": [
        "Run https://colab.research.google.com/github/mvdheram/Stereotypical-Social-bias-detection-/blob/Machine-learning-classifiers/Machine_learning_classifiers_(Baselines).ipynb#scrollTo=8M_1ix_RNo9m&line=1&uniqifier=1 "
      ]
    },
    {
      "cell_type": "code",
      "metadata": {
        "colab": {
          "base_uri": "https://localhost:8080/",
          "height": 538
        },
        "id": "EeXEfzgVWoXA",
        "outputId": "8ff949d2-6a20-48c7-8862-e9dc1eb62760"
      },
      "source": [
        "test_df"
      ],
      "execution_count": 77,
      "outputs": [
        {
          "output_type": "execute_result",
          "data": {
            "text/html": [
              "<div>\n",
              "<style scoped>\n",
              "    .dataframe tbody tr th:only-of-type {\n",
              "        vertical-align: middle;\n",
              "    }\n",
              "\n",
              "    .dataframe tbody tr th {\n",
              "        vertical-align: top;\n",
              "    }\n",
              "\n",
              "    .dataframe thead th {\n",
              "        text-align: right;\n",
              "    }\n",
              "</style>\n",
              "<table border=\"1\" class=\"dataframe\">\n",
              "  <thead>\n",
              "    <tr style=\"text-align: right;\">\n",
              "      <th></th>\n",
              "      <th>sentence</th>\n",
              "      <th>Ethnicity</th>\n",
              "      <th>gender</th>\n",
              "      <th>profession</th>\n",
              "      <th>religion</th>\n",
              "      <th>Anti-stereotype</th>\n",
              "      <th>stereotype</th>\n",
              "      <th>unrelated</th>\n",
              "    </tr>\n",
              "  </thead>\n",
              "  <tbody>\n",
              "    <tr>\n",
              "      <th>0</th>\n",
              "      <td>The grass is green.</td>\n",
              "      <td>0</td>\n",
              "      <td>0</td>\n",
              "      <td>0</td>\n",
              "      <td>0</td>\n",
              "      <td>0</td>\n",
              "      <td>0</td>\n",
              "      <td>1</td>\n",
              "    </tr>\n",
              "    <tr>\n",
              "      <th>1</th>\n",
              "      <td>Vietnam is a very white country</td>\n",
              "      <td>0</td>\n",
              "      <td>0</td>\n",
              "      <td>0</td>\n",
              "      <td>0</td>\n",
              "      <td>0</td>\n",
              "      <td>0</td>\n",
              "      <td>1</td>\n",
              "    </tr>\n",
              "    <tr>\n",
              "      <th>2</th>\n",
              "      <td>what do you call a jew who isn t greedy error ...</td>\n",
              "      <td>0</td>\n",
              "      <td>0</td>\n",
              "      <td>0</td>\n",
              "      <td>1</td>\n",
              "      <td>0</td>\n",
              "      <td>1</td>\n",
              "      <td>0</td>\n",
              "    </tr>\n",
              "    <tr>\n",
              "      <th>3</th>\n",
              "      <td>The schoolboy found a frog on the way home. He...</td>\n",
              "      <td>0</td>\n",
              "      <td>1</td>\n",
              "      <td>0</td>\n",
              "      <td>0</td>\n",
              "      <td>0</td>\n",
              "      <td>1</td>\n",
              "      <td>0</td>\n",
              "    </tr>\n",
              "    <tr>\n",
              "      <th>4</th>\n",
              "      <td>The people of yemen are arab</td>\n",
              "      <td>1</td>\n",
              "      <td>0</td>\n",
              "      <td>0</td>\n",
              "      <td>0</td>\n",
              "      <td>0</td>\n",
              "      <td>1</td>\n",
              "      <td>0</td>\n",
              "    </tr>\n",
              "    <tr>\n",
              "      <th>...</th>\n",
              "      <td>...</td>\n",
              "      <td>...</td>\n",
              "      <td>...</td>\n",
              "      <td>...</td>\n",
              "      <td>...</td>\n",
              "      <td>...</td>\n",
              "      <td>...</td>\n",
              "      <td>...</td>\n",
              "    </tr>\n",
              "    <tr>\n",
              "      <th>2477</th>\n",
              "      <td>Music is good for the soul.</td>\n",
              "      <td>0</td>\n",
              "      <td>0</td>\n",
              "      <td>0</td>\n",
              "      <td>0</td>\n",
              "      <td>0</td>\n",
              "      <td>0</td>\n",
              "      <td>1</td>\n",
              "    </tr>\n",
              "    <tr>\n",
              "      <th>2478</th>\n",
              "      <td>A grandfather is the father of a parent He pla...</td>\n",
              "      <td>0</td>\n",
              "      <td>1</td>\n",
              "      <td>0</td>\n",
              "      <td>0</td>\n",
              "      <td>1</td>\n",
              "      <td>0</td>\n",
              "      <td>0</td>\n",
              "    </tr>\n",
              "    <tr>\n",
              "      <th>2479</th>\n",
              "      <td>bengali food is served around the world has re...</td>\n",
              "      <td>1</td>\n",
              "      <td>0</td>\n",
              "      <td>0</td>\n",
              "      <td>0</td>\n",
              "      <td>0</td>\n",
              "      <td>1</td>\n",
              "      <td>0</td>\n",
              "    </tr>\n",
              "    <tr>\n",
              "      <th>2480</th>\n",
              "      <td>Yemen is known for its vast, desert landscape ...</td>\n",
              "      <td>1</td>\n",
              "      <td>0</td>\n",
              "      <td>0</td>\n",
              "      <td>0</td>\n",
              "      <td>0</td>\n",
              "      <td>1</td>\n",
              "      <td>0</td>\n",
              "    </tr>\n",
              "    <tr>\n",
              "      <th>2481</th>\n",
              "      <td>I met an individual from Ethiopia. He had the ...</td>\n",
              "      <td>1</td>\n",
              "      <td>0</td>\n",
              "      <td>0</td>\n",
              "      <td>0</td>\n",
              "      <td>1</td>\n",
              "      <td>0</td>\n",
              "      <td>0</td>\n",
              "    </tr>\n",
              "  </tbody>\n",
              "</table>\n",
              "<p>2482 rows × 8 columns</p>\n",
              "</div>"
            ],
            "text/plain": [
              "                                               sentence  ...  unrelated\n",
              "0                                   The grass is green.  ...          1\n",
              "1                       Vietnam is a very white country  ...          1\n",
              "2     what do you call a jew who isn t greedy error ...  ...          0\n",
              "3     The schoolboy found a frog on the way home. He...  ...          0\n",
              "4                          The people of yemen are arab  ...          0\n",
              "...                                                 ...  ...        ...\n",
              "2477                        Music is good for the soul.  ...          1\n",
              "2478  A grandfather is the father of a parent He pla...  ...          0\n",
              "2479  bengali food is served around the world has re...  ...          0\n",
              "2480  Yemen is known for its vast, desert landscape ...  ...          0\n",
              "2481  I met an individual from Ethiopia. He had the ...  ...          0\n",
              "\n",
              "[2482 rows x 8 columns]"
            ]
          },
          "metadata": {
            "tags": []
          },
          "execution_count": 77
        }
      ]
    },
    {
      "cell_type": "code",
      "metadata": {
        "id": "sQf_WeneWoXB"
      },
      "source": [
        "if 'clean_text' not in test_df.columns:\n",
        "  test_df['clean_text'] = test_df['sentence'].apply(clean_text)"
      ],
      "execution_count": null,
      "outputs": []
    },
    {
      "cell_type": "code",
      "metadata": {
        "id": "7-8K0OcBWoXC"
      },
      "source": [
        "labels = test_df.iloc[:,1:-1].values\n",
        "sentences = test_df.iloc[:,-1].values"
      ],
      "execution_count": 79,
      "outputs": []
    },
    {
      "cell_type": "code",
      "metadata": {
        "colab": {
          "base_uri": "https://localhost:8080/"
        },
        "id": "Ugqg6sEnWoXC",
        "outputId": "42a73192-c20e-4d00-fbe6-a42708e6480b"
      },
      "source": [
        "test_data = preprocessing_testSet(sentences)"
      ],
      "execution_count": 80,
      "outputs": [
        {
          "output_type": "stream",
          "text": [
            "sequences[0]: [2, 584, 1, 424]\n",
            "Shape of data tensor: (2482, 121)\n"
          ],
          "name": "stdout"
        }
      ]
    },
    {
      "cell_type": "code",
      "metadata": {
        "id": "J--30mJjWoXC"
      },
      "source": [
        "test_pred = bilstm.predict(test_data)\n",
        "test_df_labels = labels"
      ],
      "execution_count": 82,
      "outputs": []
    },
    {
      "cell_type": "code",
      "metadata": {
        "colab": {
          "base_uri": "https://localhost:8080/"
        },
        "id": "T6DXiL7aWoXC",
        "outputId": "eb365090-06c3-4813-f404-10e7611b8bdd"
      },
      "source": [
        "print(get_classification_report(test_pred, test_df_labels))"
      ],
      "execution_count": 83,
      "outputs": [
        {
          "output_type": "stream",
          "text": [
            "                 precision    recall  f1-score   support\n",
            "\n",
            "      Ethnicity       0.44      0.35      0.39       784\n",
            "         gender       0.15      0.08      0.10       304\n",
            "     profession       0.30      0.17      0.22       467\n",
            "       religion       0.28      0.40      0.33       293\n",
            "Anti-stereotype       0.40      0.09      0.15       778\n",
            "     stereotype       0.50      0.63      0.55      1070\n",
            "      unrelated       0.42      0.44      0.43       634\n",
            "\n",
            "      micro avg       0.41      0.35      0.38      4330\n",
            "      macro avg       0.35      0.31      0.31      4330\n",
            "   weighted avg       0.40      0.35      0.35      4330\n",
            "    samples avg       0.40      0.36      0.37      4330\n",
            "\n"
          ],
          "name": "stdout"
        }
      ]
    },
    {
      "cell_type": "code",
      "metadata": {
        "colab": {
          "base_uri": "https://localhost:8080/"
        },
        "id": "d0g3kT60WoXD",
        "outputId": "80713b5f-bf3e-40cc-872c-b1a7985ad205"
      },
      "source": [
        "write_to_file = True \n",
        "classification_metrics(test_pred, test_df_labels,\"biLSTM_Random\",0.5)"
      ],
      "execution_count": 85,
      "outputs": [
        {
          "output_type": "stream",
          "text": [
            "Evaluation metrics for test set:\n",
            "\n",
            " ROC-AUC score: 0.620572 \n",
            "\n",
            "\n",
            " Subset accuracy : 0.219581 \n",
            "\n",
            "\n",
            " hamming_loss : 0.285426 \n",
            "\n",
            "\n",
            " hamming score : 0.325222 \n",
            "\n",
            "\n",
            " sample average  precision_sample_average : 0.395145 \n",
            "\n",
            "\n",
            " sample average  recall_sample_average : 0.361201 \n",
            "\n",
            "\n",
            " sample average  f1_sample_average : 0.371609 \n",
            "\n",
            "  Saving the metrics into a file: eval_results_biLSTM_Random_0.5_.json with threshold :0.5\n"
          ],
          "name": "stdout"
        },
        {
          "output_type": "stream",
          "text": [
            "/usr/local/lib/python3.7/dist-packages/sklearn/metrics/_classification.py:1221: UndefinedMetricWarning: Precision is ill-defined and being set to 0.0 in samples with no predicted labels. Use `zero_division` parameter to control this behavior.\n",
            "  _warn_prf(average, modifier, msg_start, len(result))\n",
            "/usr/local/lib/python3.7/dist-packages/sklearn/metrics/_classification.py:1221: UndefinedMetricWarning: Precision and F-score are ill-defined and being set to 0.0 in samples with no predicted labels. Use `zero_division` parameter to control this behavior.\n",
            "  _warn_prf(average, modifier, msg_start, len(result))\n"
          ],
          "name": "stderr"
        }
      ]
    },
    {
      "cell_type": "markdown",
      "metadata": {
        "id": "6_qVBLLmDyRP"
      },
      "source": [
        "### Randomly initialized embedding with GRU"
      ]
    },
    {
      "cell_type": "code",
      "metadata": {
        "colab": {
          "base_uri": "https://localhost:8080/",
          "height": 163
        },
        "id": "sRw1Pj0fpC4g",
        "outputId": "8591efc5-1268-48ff-dcc8-a6d82a9159c2"
      },
      "source": [
        "bigru = _build_bigru(len(y[0]),embedding_layer)"
      ],
      "execution_count": 86,
      "outputs": [
        {
          "output_type": "error",
          "ename": "NameError",
          "evalue": "ignored",
          "traceback": [
            "\u001b[0;31m---------------------------------------------------------------------------\u001b[0m",
            "\u001b[0;31mNameError\u001b[0m                                 Traceback (most recent call last)",
            "\u001b[0;32m<ipython-input-86-7b0f1cf297ee>\u001b[0m in \u001b[0;36m<module>\u001b[0;34m()\u001b[0m\n\u001b[0;32m----> 1\u001b[0;31m \u001b[0mbigru\u001b[0m \u001b[0;34m=\u001b[0m \u001b[0m_build_bigru\u001b[0m\u001b[0;34m(\u001b[0m\u001b[0mlen\u001b[0m\u001b[0;34m(\u001b[0m\u001b[0my\u001b[0m\u001b[0;34m[\u001b[0m\u001b[0;36m0\u001b[0m\u001b[0;34m]\u001b[0m\u001b[0;34m)\u001b[0m\u001b[0;34m,\u001b[0m\u001b[0membedding_layer\u001b[0m\u001b[0;34m)\u001b[0m\u001b[0;34m\u001b[0m\u001b[0;34m\u001b[0m\u001b[0m\n\u001b[0m",
            "\u001b[0;31mNameError\u001b[0m: name '_build_bigru' is not defined"
          ]
        }
      ]
    },
    {
      "cell_type": "code",
      "metadata": {
        "colab": {
          "base_uri": "https://localhost:8080/"
        },
        "id": "bMCldKIEpC4h",
        "outputId": "8453d52d-7c65-4ce3-e4ad-46053a6ad750"
      },
      "source": [
        "from keras.callbacks import EarlyStopping\n",
        "\n",
        "early_stopping_monitor = EarlyStopping(patience = 5)\n",
        "\n",
        "bilstm_train = bilstm.fit(\n",
        "    data_train,\n",
        "    labels,\n",
        "    batch_size=BATCH_SIZE,\n",
        "    epochs=EPOCHS,\n",
        "    validation_split=VALIDATION_SPLIT,\n",
        "    callbacks = [early_stopping_monitor]\n",
        ")"
      ],
      "execution_count": null,
      "outputs": [
        {
          "output_type": "stream",
          "text": [
            "Epoch 1/40\n",
            "88/88 [==============================] - 15s 152ms/step - loss: 0.5241 - accuracy: 0.1888 - val_loss: 0.4216 - val_accuracy: 0.4895\n",
            "Epoch 2/40\n",
            "88/88 [==============================] - 13s 146ms/step - loss: 0.4059 - accuracy: 0.4956 - val_loss: 0.4034 - val_accuracy: 0.5215\n",
            "Epoch 3/40\n",
            "88/88 [==============================] - 13s 147ms/step - loss: 0.3854 - accuracy: 0.5491 - val_loss: 0.3892 - val_accuracy: 0.5773\n",
            "Epoch 4/40\n",
            "88/88 [==============================] - 13s 145ms/step - loss: 0.3740 - accuracy: 0.5704 - val_loss: 0.3848 - val_accuracy: 0.5891\n",
            "Epoch 5/40\n",
            "88/88 [==============================] - 13s 145ms/step - loss: 0.3623 - accuracy: 0.6073 - val_loss: 0.3818 - val_accuracy: 0.6075\n",
            "Epoch 6/40\n",
            "88/88 [==============================] - 13s 147ms/step - loss: 0.3491 - accuracy: 0.6241 - val_loss: 0.3704 - val_accuracy: 0.6310\n",
            "Epoch 7/40\n",
            "88/88 [==============================] - 13s 146ms/step - loss: 0.3472 - accuracy: 0.6283 - val_loss: 0.3724 - val_accuracy: 0.5869\n",
            "Epoch 8/40\n",
            "88/88 [==============================] - 13s 145ms/step - loss: 0.3380 - accuracy: 0.6453 - val_loss: 0.3726 - val_accuracy: 0.6210\n",
            "Epoch 9/40\n",
            "88/88 [==============================] - 13s 145ms/step - loss: 0.3364 - accuracy: 0.6314 - val_loss: 0.3723 - val_accuracy: 0.6459\n",
            "Epoch 10/40\n",
            "88/88 [==============================] - 13s 147ms/step - loss: 0.3265 - accuracy: 0.6558 - val_loss: 0.3702 - val_accuracy: 0.6445\n",
            "Epoch 11/40\n",
            "88/88 [==============================] - 13s 144ms/step - loss: 0.3255 - accuracy: 0.6629 - val_loss: 0.3715 - val_accuracy: 0.6552\n",
            "Epoch 12/40\n",
            "88/88 [==============================] - 13s 146ms/step - loss: 0.3209 - accuracy: 0.6732 - val_loss: 0.3677 - val_accuracy: 0.5937\n",
            "Epoch 13/40\n",
            "88/88 [==============================] - 13s 146ms/step - loss: 0.3115 - accuracy: 0.6643 - val_loss: 0.3731 - val_accuracy: 0.5912\n",
            "Epoch 14/40\n",
            "88/88 [==============================] - 13s 145ms/step - loss: 0.3090 - accuracy: 0.6631 - val_loss: 0.3679 - val_accuracy: 0.6097\n",
            "Epoch 15/40\n",
            "88/88 [==============================] - 13s 144ms/step - loss: 0.3076 - accuracy: 0.6563 - val_loss: 0.3807 - val_accuracy: 0.6349\n",
            "Epoch 16/40\n",
            "88/88 [==============================] - 13s 146ms/step - loss: 0.3003 - accuracy: 0.6797 - val_loss: 0.3728 - val_accuracy: 0.6267\n",
            "Epoch 17/40\n",
            "88/88 [==============================] - 13s 144ms/step - loss: 0.2991 - accuracy: 0.7067 - val_loss: 0.3811 - val_accuracy: 0.6413\n"
          ],
          "name": "stdout"
        }
      ]
    },
    {
      "cell_type": "code",
      "metadata": {
        "colab": {
          "base_uri": "https://localhost:8080/",
          "height": 530
        },
        "id": "3Z4Dp8FKpC4h",
        "outputId": "9afb3894-eedc-4282-a564-615d5e3dd370"
      },
      "source": [
        "# plot some data\n",
        "plt.plot(bilstm_train.history['loss'], label='loss')\n",
        "plt.plot(bilstm_train.history['val_loss'], label='val_loss')\n",
        "plt.legend()\n",
        "plt.show()\n",
        "\n",
        "# accuracies\n",
        "plt.plot(bilstm_train.history['accuracy'], label='acc')\n",
        "plt.plot(bilstm_train.history['val_accuracy'], label='val_acc')\n",
        "plt.legend()\n",
        "plt.show()\n",
        "\n",
        "# plot the mean AUC over each label\n",
        "p = bilstm.predict(data)\n",
        "aucs = []\n",
        "for j in range(6):\n",
        "    auc = roc_auc_score(labels[:,j], p[:,j])\n",
        "    aucs.append(auc)\n",
        "print(np.mean(aucs))"
      ],
      "execution_count": null,
      "outputs": [
        {
          "output_type": "display_data",
          "data": {
            "image/png": "[encoded data removed]",
            "text/plain": [
              "<Figure size 432x288 with 1 Axes>"
            ]
          },
          "metadata": {
            "tags": [],
            "needs_background": "light"
          }
        },
        {
          "output_type": "display_data",
          "data": {
            "image/png": "[encoded data removed]",
            "text/plain": [
              "<Figure size 432x288 with 1 Axes>"
            ]
          },
          "metadata": {
            "tags": [],
            "needs_background": "light"
          }
        },
        {
          "output_type": "stream",
          "text": [
            "0.8909616414674625\n"
          ],
          "name": "stdout"
        }
      ]
    },
    {
      "cell_type": "markdown",
      "metadata": {
        "id": "u4hhYXxVpC4i"
      },
      "source": [
        "##### Evaluation on test set "
      ]
    },
    {
      "cell_type": "markdown",
      "metadata": {
        "id": "uhRnC4j2pC4i"
      },
      "source": [
        "Run https://colab.research.google.com/github/mvdheram/Stereotypical-Social-bias-detection-/blob/Machine-learning-classifiers/Machine_learning_classifiers_(Baselines).ipynb#scrollTo=8M_1ix_RNo9m&line=1&uniqifier=1 "
      ]
    },
    {
      "cell_type": "code",
      "metadata": {
        "id": "RJwQzBV6pC4j"
      },
      "source": [
        "test_pred = bigru.predict(data_test)\n",
        "test_df_labels = labels"
      ],
      "execution_count": null,
      "outputs": []
    },
    {
      "cell_type": "code",
      "metadata": {
        "colab": {
          "base_uri": "https://localhost:8080/"
        },
        "id": "EcWWjef5pC4j",
        "outputId": "5197e371-2863-4997-8ed5-38c42432f041"
      },
      "source": [
        "from sklearn.metrics import roc_curve\n",
        "from collections import OrderedDict\n",
        "import numpy as np\n",
        "\n",
        "\n",
        "opti_threshold = dict()\n",
        "LABEL_COLUMNS = ['Ethnicity','gender','profession','religion','Anti-stereotype','stereotype','unrelated']\n",
        "\n",
        "for i in range(7):\n",
        "  fpr, tpr, thresholds = roc_curve(test_df_labels[:,i], test_pred[:,i])\n",
        "  print(\"AUC_ROC_score of %s is %s:\"% (LABEL_COLUMNS[i],roc_auc_score(test_df_labels[:,i], test_pred[:,i])))\n",
        "  optimal_idx = np.argmax(tpr + (1- fpr)) # Return indices of maximum array;  Criterion - Maximise TPR(recall) and TNR(specificity) \n",
        "  optimal_threshold = thresholds[optimal_idx]\n",
        "  print(\"Optimal threshold value of %s is %s:\\n\" % (LABEL_COLUMNS[i], optimal_threshold))\n",
        "  opti_threshold[i] = optimal_threshold"
      ],
      "execution_count": null,
      "outputs": [
        {
          "output_type": "stream",
          "text": [
            "AUC_ROC_score of Ethnicity is 0.5126510630754069:\n",
            "Optimal threshold value of Ethnicity is 0.50001913:\n",
            "\n",
            "AUC_ROC_score of gender is 0.5793883814218742:\n",
            "Optimal threshold value of gender is 0.5124058:\n",
            "\n",
            "AUC_ROC_score of profession is 0.5440422739517856:\n",
            "Optimal threshold value of profession is 0.51804227:\n",
            "\n",
            "AUC_ROC_score of religion is 0.20499253948925514:\n",
            "Optimal threshold value of religion is 1.5092776:\n",
            "\n",
            "AUC_ROC_score of Anti-stereotype is 0.45009096998443104:\n",
            "Optimal threshold value of Anti-stereotype is 0.4478129:\n",
            "\n",
            "AUC_ROC_score of stereotype is 0.33232605702787854:\n",
            "Optimal threshold value of stereotype is 1.5043187:\n",
            "\n",
            "AUC_ROC_score of unrelated is 0.4739184317260027:\n",
            "Optimal threshold value of unrelated is 0.49647743:\n",
            "\n"
          ],
          "name": "stdout"
        }
      ]
    },
    {
      "cell_type": "code",
      "metadata": {
        "id": "lqs_67Z_pC4k"
      },
      "source": [
        "from sklearn.metrics import classification_report, multilabel_confusion_matrix\n",
        "\n",
        "y_pred = np.where(test_pred > 0.5, upper, lower)\n",
        "classification_report = classification_report(\n",
        "  test_df_labels, \n",
        "  y_pred, \n",
        "  target_names=LABEL_COLUMNS, \n",
        "  zero_division=0,\n",
        ")"
      ],
      "execution_count": null,
      "outputs": []
    },
    {
      "cell_type": "code",
      "metadata": {
        "colab": {
          "base_uri": "https://localhost:8080/"
        },
        "id": "OxYwEZxwpC4k",
        "outputId": "fc87e45f-7097-4469-9cf5-c1600e3bb742"
      },
      "source": [
        "print(classification_report)"
      ],
      "execution_count": null,
      "outputs": [
        {
          "output_type": "stream",
          "text": [
            "                 precision    recall  f1-score   support\n",
            "\n",
            "      Ethnicity       0.35      0.47      0.40       784\n",
            "         gender       0.13      0.89      0.23       304\n",
            "     profession       0.19      0.86      0.32       467\n",
            "       religion       0.00      0.00      0.00       293\n",
            "Anti-stereotype       0.26      0.01      0.02       778\n",
            "     stereotype       0.00      0.00      0.00      1070\n",
            "      unrelated       0.20      0.40      0.27       634\n",
            "\n",
            "      micro avg       0.20      0.30      0.24      4330\n",
            "      macro avg       0.16      0.38      0.18      4330\n",
            "   weighted avg       0.17      0.30      0.17      4330\n",
            "    samples avg       0.16      0.31      0.21      4330\n",
            "\n"
          ],
          "name": "stdout"
        }
      ]
    },
    {
      "cell_type": "code",
      "metadata": {
        "id": "m_vGF0nLpC4k"
      },
      "source": [
        "pip install git+https://github.com/gmihaila/ml_things"
      ],
      "execution_count": null,
      "outputs": []
    },
    {
      "cell_type": "code",
      "metadata": {
        "id": "4JwvavyBpC4l"
      },
      "source": [
        "import matplotlib.pyplot as plt\n",
        "import seaborn as sns\n",
        "from ml_things import plot_confusion_matrix\n",
        "\n",
        "cf = multilabel_confusion_matrix(test_df_labels, \n",
        "  y_pred)"
      ],
      "execution_count": null,
      "outputs": []
    },
    {
      "cell_type": "code",
      "metadata": {
        "colab": {
          "base_uri": "https://localhost:8080/",
          "height": 1000
        },
        "id": "LzHRoxXApC4l",
        "outputId": "1aa03884-980d-413d-a5cf-453e3df71763"
      },
      "source": [
        "LABEL_COLUMNS = ['Ethnicity','gender','profession','religion','Anti-stereotype','stereotype','unrelated']\n",
        "for i,val in enumerate(LABEL_COLUMNS):\n",
        "  plot_confusion_matrix(y_true=test_df_labels[:,i], y_pred=y_pred[:,i], magnify=0.1, use_title='Confusion Matrix'+\" \"+ val, path='plot_confusion_matrix'+ \"_\" + val +\".png\");"
      ],
      "execution_count": null,
      "outputs": [
        {
          "output_type": "stream",
          "text": [
            "Confusion matrix, without normalization\n"
          ],
          "name": "stdout"
        },
        {
          "output_type": "display_data",
          "data": {
            "image/png": "[encoded data removed]",
            "text/plain": [
              "<Figure size 1944x432 with 2 Axes>"
            ]
          },
          "metadata": {
            "tags": []
          }
        },
        {
          "output_type": "stream",
          "text": [
            "Confusion matrix, without normalization\n"
          ],
          "name": "stdout"
        },
        {
          "output_type": "display_data",
          "data": {
            "image/png": "[encoded data removed]",
            "text/plain": [
              "<Figure size 1944x432 with 2 Axes>"
            ]
          },
          "metadata": {
            "tags": []
          }
        },
        {
          "output_type": "stream",
          "text": [
            "Confusion matrix, without normalization\n"
          ],
          "name": "stdout"
        },
        {
          "output_type": "display_data",
          "data": {
            "image/png": "[encoded data removed]",
            "text/plain": [
              "<Figure size 1944x432 with 2 Axes>"
            ]
          },
          "metadata": {
            "tags": []
          }
        },
        {
          "output_type": "stream",
          "text": [
            "Confusion matrix, without normalization\n"
          ],
          "name": "stdout"
        },
        {
          "output_type": "display_data",
          "data": {
            "image/png": "[encoded data removed]",
            "text/plain": [
              "<Figure size 1944x432 with 2 Axes>"
            ]
          },
          "metadata": {
            "tags": []
          }
        },
        {
          "output_type": "stream",
          "text": [
            "Confusion matrix, without normalization\n"
          ],
          "name": "stdout"
        },
        {
          "output_type": "display_data",
          "data": {
            "image/png": "[encoded data removed]",
            "text/plain": [
              "<Figure size 1944x432 with 2 Axes>"
            ]
          },
          "metadata": {
            "tags": []
          }
        },
        {
          "output_type": "stream",
          "text": [
            "Confusion matrix, without normalization\n"
          ],
          "name": "stdout"
        },
        {
          "output_type": "display_data",
          "data": {
            "image/png": "[encoded data removed]",
            "text/plain": [
              "<Figure size 1944x432 with 2 Axes>"
            ]
          },
          "metadata": {
            "tags": []
          }
        },
        {
          "output_type": "stream",
          "text": [
            "Confusion matrix, without normalization\n"
          ],
          "name": "stdout"
        },
        {
          "output_type": "display_data",
          "data": {
            "image/png": "[encoded data removed]",
            "text/plain": [
              "<Figure size 1944x432 with 2 Axes>"
            ]
          },
          "metadata": {
            "tags": []
          }
        }
      ]
    },
    {
      "cell_type": "code",
      "metadata": {
        "colab": {
          "base_uri": "https://localhost:8080/"
        },
        "id": "IdLTFClipC4m",
        "outputId": "753daba6-c6a0-4eb8-c845-caf94e32cc60"
      },
      "source": [
        "write_to_file = True \n",
        "classification_metrics(test_pred, test_df_labels,\"CNN_Glove\",0.5)"
      ],
      "execution_count": null,
      "outputs": [
        {
          "output_type": "stream",
          "text": [
            "Evaluation metrics for test set:\n",
            "\n",
            " ROC-AUC score: 0.442487 \n",
            "\n",
            "\n",
            " Subset accuracy : 0.000000 \n",
            "\n",
            "\n",
            " hamming_loss : 0.477495 \n",
            "\n",
            "  Saving the metrics into a file: eval_results_CNN_Glove_0.5_.json with threshold :0.5\n"
          ],
          "name": "stdout"
        },
        {
          "output_type": "stream",
          "text": [
            "/usr/local/lib/python3.7/dist-packages/sklearn/metrics/_classification.py:1221: UndefinedMetricWarning: Precision is ill-defined and being set to 0.0 in samples with no predicted labels. Use `zero_division` parameter to control this behavior.\n",
            "  _warn_prf(average, modifier, msg_start, len(result))\n",
            "/usr/local/lib/python3.7/dist-packages/sklearn/metrics/_classification.py:1221: UndefinedMetricWarning: Precision and F-score are ill-defined and being set to 0.0 in samples with no predicted labels. Use `zero_division` parameter to control this behavior.\n",
            "  _warn_prf(average, modifier, msg_start, len(result))\n"
          ],
          "name": "stderr"
        }
      ]
    }
  ]
}