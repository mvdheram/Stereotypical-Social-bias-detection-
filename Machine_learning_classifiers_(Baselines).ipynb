{
  "nbformat": 4,
  "nbformat_minor": 0,
  "metadata": {
    "colab": {
      "name": "Machine learning classifiers (Baselines).ipynb",
      "provenance": [],
      "include_colab_link": true
    },
    "kernelspec": {
      "name": "python3",
      "display_name": "Python 3"
    },
    "language_info": {
      "name": "python"
    }
  },
  "cells": [
    {
      "cell_type": "markdown",
      "metadata": {
        "id": "view-in-github",
        "colab_type": "text"
      },
      "source": [
        "<a href=\"https://colab.research.google.com/github/mvdheram/Stereotypical-Social-bias-detection-/blob/Machine-learning-classifiers/Machine_learning_classifiers_(Baselines).ipynb\" target=\"_parent\"><img src=\"https://colab.research.google.com/assets/colab-badge.svg\" alt=\"Open In Colab\"/></a>"
      ]
    },
    {
      "cell_type": "markdown",
      "metadata": {
        "id": "sBL5XpyLcEs5"
      },
      "source": [
        "# Loading dataset"
      ]
    },
    {
      "cell_type": "code",
      "metadata": {
        "colab": {
          "base_uri": "https://localhost:8080/"
        },
        "id": "Fx-IKYWSTAL-",
        "outputId": "7744c53c-5059-41dc-cf6c-f3764790fecc"
      },
      "source": [
        "!pip install ktrain --quiet"
      ],
      "execution_count": 1,
      "outputs": [
        {
          "output_type": "stream",
          "text": [
            "\u001b[K     |████████████████████████████████| 25.3 MB 100 kB/s \n",
            "\u001b[K     |████████████████████████████████| 6.8 MB 51.6 MB/s \n",
            "\u001b[K     |████████████████████████████████| 981 kB 30.5 MB/s \n",
            "\u001b[K     |████████████████████████████████| 263 kB 45.1 MB/s \n",
            "\u001b[K     |████████████████████████████████| 1.9 MB 30.6 MB/s \n",
            "\u001b[K     |████████████████████████████████| 1.2 MB 27.2 MB/s \n",
            "\u001b[K     |████████████████████████████████| 468 kB 60.1 MB/s \n",
            "\u001b[K     |████████████████████████████████| 3.3 MB 28.1 MB/s \n",
            "\u001b[K     |████████████████████████████████| 895 kB 47.9 MB/s \n",
            "\u001b[?25h  Building wheel for ktrain (setup.py) ... \u001b[?25l\u001b[?25hdone\n",
            "  Building wheel for seqeval (setup.py) ... \u001b[?25l\u001b[?25hdone\n",
            "  Building wheel for keras-bert (setup.py) ... \u001b[?25l\u001b[?25hdone\n",
            "  Building wheel for keras-transformer (setup.py) ... \u001b[?25l\u001b[?25hdone\n",
            "  Building wheel for keras-embed-sim (setup.py) ... \u001b[?25l\u001b[?25hdone\n",
            "  Building wheel for keras-layer-normalization (setup.py) ... \u001b[?25l\u001b[?25hdone\n",
            "  Building wheel for keras-multi-head (setup.py) ... \u001b[?25l\u001b[?25hdone\n",
            "  Building wheel for keras-pos-embd (setup.py) ... \u001b[?25l\u001b[?25hdone\n",
            "  Building wheel for keras-position-wise-feed-forward (setup.py) ... \u001b[?25l\u001b[?25hdone\n",
            "  Building wheel for keras-self-attention (setup.py) ... \u001b[?25l\u001b[?25hdone\n",
            "  Building wheel for langdetect (setup.py) ... \u001b[?25l\u001b[?25hdone\n",
            "  Building wheel for syntok (setup.py) ... \u001b[?25l\u001b[?25hdone\n"
          ],
          "name": "stdout"
        }
      ]
    },
    {
      "cell_type": "code",
      "metadata": {
        "id": "Zs8QWWVHS0kZ"
      },
      "source": [
        "import ktrain\n",
        "from ktrain import text\n",
        "import pandas as pd"
      ],
      "execution_count": 2,
      "outputs": []
    },
    {
      "cell_type": "code",
      "metadata": {
        "id": "8adqvI5gTMnE"
      },
      "source": [
        "df = pd.read_csv('/content/ohe_multilabel.csv', index_col = 0)"
      ],
      "execution_count": 3,
      "outputs": []
    },
    {
      "cell_type": "code",
      "metadata": {
        "colab": {
          "base_uri": "https://localhost:8080/",
          "height": 419
        },
        "id": "iOgFp_bmtsb4",
        "outputId": "c172301a-22e3-4e8d-b0ab-44992ebf13f7"
      },
      "source": [
        "df"
      ],
      "execution_count": 4,
      "outputs": [
        {
          "output_type": "execute_result",
          "data": {
            "text/html": [
              "<div>\n",
              "<style scoped>\n",
              "    .dataframe tbody tr th:only-of-type {\n",
              "        vertical-align: middle;\n",
              "    }\n",
              "\n",
              "    .dataframe tbody tr th {\n",
              "        vertical-align: top;\n",
              "    }\n",
              "\n",
              "    .dataframe thead th {\n",
              "        text-align: right;\n",
              "    }\n",
              "</style>\n",
              "<table border=\"1\" class=\"dataframe\">\n",
              "  <thead>\n",
              "    <tr style=\"text-align: right;\">\n",
              "      <th></th>\n",
              "      <th>Ethnicity</th>\n",
              "      <th>gender</th>\n",
              "      <th>profession</th>\n",
              "      <th>religion</th>\n",
              "      <th>Anti-stereotype</th>\n",
              "      <th>stereotype</th>\n",
              "      <th>unrelated</th>\n",
              "      <th>sentence</th>\n",
              "    </tr>\n",
              "  </thead>\n",
              "  <tbody>\n",
              "    <tr>\n",
              "      <th>0</th>\n",
              "      <td>1.0</td>\n",
              "      <td>0.0</td>\n",
              "      <td>0.0</td>\n",
              "      <td>0.0</td>\n",
              "      <td>0.0</td>\n",
              "      <td>1.0</td>\n",
              "      <td>0.0</td>\n",
              "      <td>Many people live in Ethiopia. The people are v...</td>\n",
              "    </tr>\n",
              "    <tr>\n",
              "      <th>1</th>\n",
              "      <td>1.0</td>\n",
              "      <td>0.0</td>\n",
              "      <td>0.0</td>\n",
              "      <td>0.0</td>\n",
              "      <td>0.0</td>\n",
              "      <td>1.0</td>\n",
              "      <td>0.0</td>\n",
              "      <td>My professor is a hispanic man He came here il...</td>\n",
              "    </tr>\n",
              "    <tr>\n",
              "      <th>2</th>\n",
              "      <td>0.0</td>\n",
              "      <td>1.0</td>\n",
              "      <td>0.0</td>\n",
              "      <td>0.0</td>\n",
              "      <td>0.0</td>\n",
              "      <td>1.0</td>\n",
              "      <td>0.0</td>\n",
              "      <td>The schoolgirl is walking down the street. She...</td>\n",
              "    </tr>\n",
              "    <tr>\n",
              "      <th>3</th>\n",
              "      <td>1.0</td>\n",
              "      <td>0.0</td>\n",
              "      <td>0.0</td>\n",
              "      <td>0.0</td>\n",
              "      <td>0.0</td>\n",
              "      <td>1.0</td>\n",
              "      <td>0.0</td>\n",
              "      <td>We'll likely fly over Cape Verde on our flight...</td>\n",
              "    </tr>\n",
              "    <tr>\n",
              "      <th>4</th>\n",
              "      <td>1.0</td>\n",
              "      <td>0.0</td>\n",
              "      <td>0.0</td>\n",
              "      <td>0.0</td>\n",
              "      <td>0.0</td>\n",
              "      <td>1.0</td>\n",
              "      <td>0.0</td>\n",
              "      <td>I know many people who are Russian. They love ...</td>\n",
              "    </tr>\n",
              "    <tr>\n",
              "      <th>...</th>\n",
              "      <td>...</td>\n",
              "      <td>...</td>\n",
              "      <td>...</td>\n",
              "      <td>...</td>\n",
              "      <td>...</td>\n",
              "      <td>...</td>\n",
              "      <td>...</td>\n",
              "      <td>...</td>\n",
              "    </tr>\n",
              "    <tr>\n",
              "      <th>16539</th>\n",
              "      <td>0.0</td>\n",
              "      <td>0.0</td>\n",
              "      <td>0.0</td>\n",
              "      <td>0.0</td>\n",
              "      <td>0.0</td>\n",
              "      <td>0.0</td>\n",
              "      <td>1.0</td>\n",
              "      <td>Arab people are associated with hi.</td>\n",
              "    </tr>\n",
              "    <tr>\n",
              "      <th>16540</th>\n",
              "      <td>0.0</td>\n",
              "      <td>0.0</td>\n",
              "      <td>0.0</td>\n",
              "      <td>0.0</td>\n",
              "      <td>0.0</td>\n",
              "      <td>0.0</td>\n",
              "      <td>1.0</td>\n",
              "      <td>Car was a new chemist in our lab.</td>\n",
              "    </tr>\n",
              "    <tr>\n",
              "      <th>16541</th>\n",
              "      <td>0.0</td>\n",
              "      <td>0.0</td>\n",
              "      <td>0.0</td>\n",
              "      <td>0.0</td>\n",
              "      <td>0.0</td>\n",
              "      <td>0.0</td>\n",
              "      <td>1.0</td>\n",
              "      <td>The gentlemen stood around the fire, carefully...</td>\n",
              "    </tr>\n",
              "    <tr>\n",
              "      <th>16542</th>\n",
              "      <td>0.0</td>\n",
              "      <td>0.0</td>\n",
              "      <td>0.0</td>\n",
              "      <td>0.0</td>\n",
              "      <td>0.0</td>\n",
              "      <td>0.0</td>\n",
              "      <td>1.0</td>\n",
              "      <td>The common ukrainian is a supporter of a floun...</td>\n",
              "    </tr>\n",
              "    <tr>\n",
              "      <th>16543</th>\n",
              "      <td>0.0</td>\n",
              "      <td>0.0</td>\n",
              "      <td>0.0</td>\n",
              "      <td>0.0</td>\n",
              "      <td>0.0</td>\n",
              "      <td>0.0</td>\n",
              "      <td>1.0</td>\n",
              "      <td>I am a loop nurse.</td>\n",
              "    </tr>\n",
              "  </tbody>\n",
              "</table>\n",
              "<p>16544 rows × 8 columns</p>\n",
              "</div>"
            ],
            "text/plain": [
              "       Ethnicity  ...                                           sentence\n",
              "0            1.0  ...  Many people live in Ethiopia. The people are v...\n",
              "1            1.0  ...  My professor is a hispanic man He came here il...\n",
              "2            0.0  ...  The schoolgirl is walking down the street. She...\n",
              "3            1.0  ...  We'll likely fly over Cape Verde on our flight...\n",
              "4            1.0  ...  I know many people who are Russian. They love ...\n",
              "...          ...  ...                                                ...\n",
              "16539        0.0  ...                Arab people are associated with hi.\n",
              "16540        0.0  ...                  Car was a new chemist in our lab.\n",
              "16541        0.0  ...  The gentlemen stood around the fire, carefully...\n",
              "16542        0.0  ...  The common ukrainian is a supporter of a floun...\n",
              "16543        0.0  ...                                 I am a loop nurse.\n",
              "\n",
              "[16544 rows x 8 columns]"
            ]
          },
          "metadata": {
            "tags": []
          },
          "execution_count": 4
        }
      ]
    },
    {
      "cell_type": "code",
      "metadata": {
        "id": "kWJjN78DTbTt"
      },
      "source": [
        "y = df.iloc[:,:-1].values\n",
        "X = df.iloc[:,-1].values"
      ],
      "execution_count": 5,
      "outputs": []
    },
    {
      "cell_type": "code",
      "metadata": {
        "colab": {
          "base_uri": "https://localhost:8080/"
        },
        "id": "SmwCxh0PTc2U",
        "outputId": "edac77e7-edf0-4e72-b577-452b142868d0"
      },
      "source": [
        "X"
      ],
      "execution_count": 6,
      "outputs": [
        {
          "output_type": "execute_result",
          "data": {
            "text/plain": [
              "array(['Many people live in Ethiopia. The people are very thin and good at distance running.',\n",
              "       'My professor is a hispanic man He came here illegally',\n",
              "       'The schoolgirl is walking down the street. She is a target for child predators.',\n",
              "       ...,\n",
              "       'The gentlemen stood around the fire, carefully passing the boxing around.',\n",
              "       'The common ukrainian is a supporter of a flounder run government.',\n",
              "       'I am a loop nurse.'], dtype=object)"
            ]
          },
          "metadata": {
            "tags": []
          },
          "execution_count": 6
        }
      ]
    },
    {
      "cell_type": "code",
      "metadata": {
        "colab": {
          "base_uri": "https://localhost:8080/"
        },
        "id": "F5hdjxMITeVh",
        "outputId": "73d8a893-83b4-4553-916a-3fec64aeee47"
      },
      "source": [
        "y"
      ],
      "execution_count": 7,
      "outputs": [
        {
          "output_type": "execute_result",
          "data": {
            "text/plain": [
              "array([[1., 0., 0., ..., 0., 1., 0.],\n",
              "       [1., 0., 0., ..., 0., 1., 0.],\n",
              "       [0., 1., 0., ..., 0., 1., 0.],\n",
              "       ...,\n",
              "       [0., 0., 0., ..., 0., 0., 1.],\n",
              "       [0., 0., 0., ..., 0., 0., 1.],\n",
              "       [0., 0., 0., ..., 0., 0., 1.]])"
            ]
          },
          "metadata": {
            "tags": []
          },
          "execution_count": 7
        }
      ]
    },
    {
      "cell_type": "code",
      "metadata": {
        "id": "gvxwBVsaUgMF"
      },
      "source": [
        "MAX_LEN = 50\n",
        "RANDOM_SEED = 47"
      ],
      "execution_count": 8,
      "outputs": []
    },
    {
      "cell_type": "code",
      "metadata": {
        "id": "UAFD-634ULmH"
      },
      "source": [
        "from sklearn.model_selection import train_test_split\n",
        "\n",
        "train_df_text, test_df_text, train_df_labels,test_df_labels = train_test_split(X,y, test_size=0.3, random_state=RANDOM_SEED, stratify = y)\n",
        "val_df_text, test_df_text, val_df_labels,test_df_labels = train_test_split(test_df_text,test_df_labels, test_size=0.5, random_state=RANDOM_SEED,stratify = test_df_labels)"
      ],
      "execution_count": 9,
      "outputs": []
    },
    {
      "cell_type": "code",
      "metadata": {
        "id": "3eJo2msAojg8"
      },
      "source": [
        "LABELS = ['Ethnicity','gender','profession','religion','Anti-stereotype','stereotype','unrelated']"
      ],
      "execution_count": 10,
      "outputs": []
    },
    {
      "cell_type": "markdown",
      "metadata": {
        "id": "kuVhP6A9ZI1y"
      },
      "source": [
        "# Classification metrics"
      ]
    },
    {
      "cell_type": "code",
      "metadata": {
        "id": "aR-BDeQ-Wrdu"
      },
      "source": [
        "def Accuracy(y_true, y_pred):\n",
        "  temp = 0\n",
        "  for i in range(y_true.shape[0]):\n",
        "      temp += sum(np.logical_and(y_true[i], y_pred[i])) / sum(np.logical_or(y_true[i], y_pred[i]))\n",
        "  return temp / y_true.shape[0]"
      ],
      "execution_count": 11,
      "outputs": []
    },
    {
      "cell_type": "code",
      "metadata": {
        "id": "fHt7W1ljoZu6"
      },
      "source": [
        "from sklearn.metrics import f1_score, recall_score, precision_score, classification_report,hamming_loss, roc_auc_score, accuracy_score,multilabel_confusion_matrix, precision_recall_fscore_support\n",
        "import numpy as np\n",
        "import json\n",
        "\n",
        "upper, lower = 1, 0\n",
        "LABELS = ['Ethnicity','gender','profession','religion','Anti-stereotype','stereotype','unrelated']\n",
        "\n",
        "def classification_metrics(test_pred,labels,model_name,threshold):\n",
        "\n",
        "  print(\"Evaluation metrics for test set:\")\n",
        "  y_pred = np.where(test_pred > threshold, upper, lower)\n",
        "\n",
        "  ROC_AUC_score = roc_auc_score(test_df_labels, test_pred)\n",
        "  accuracy = accuracy_score(labels, y_pred)\n",
        "  hloss = hamming_loss(labels, y_pred)\n",
        "  hscore = Accuracy(labels, y_pred)\n",
        "\n",
        "  precision_sample_average = precision_score(y_true=labels, y_pred=y_pred, average='samples')\n",
        "  recall_sample_average = recall_score(y_true=labels, y_pred=y_pred, average='samples')\n",
        "  f1_sample_average= f1_score(y_true=labels, y_pred=y_pred, average='samples')\n",
        "\n",
        "  cr = classification_report(labels, y_pred, labels=list(range(len(LABELS))), target_names=LABELS, output_dict=True)\n",
        "  cf = multilabel_confusion_matrix(test_df_labels, \n",
        "  y_pred)\n",
        "\n",
        "  model_metrics = {}\n",
        "  model_metrics[\"AUC_ROC_score\"] = ROC_AUC_score\n",
        "  model_metrics[\"subset_accuracy\"] = accuracy\n",
        "  model_metrics[\"hamming_loss\"]= hloss\n",
        "  model_metrics[\"hamming_score\"] = hscore\n",
        "\n",
        "  model_metrics['sample_average_precision'] = precision_sample_average\n",
        "  model_metrics['sample_average_recall'] = recall_sample_average\n",
        "  model_metrics['sample_average_f1'] = f1_sample_average\n",
        "\n",
        "\n",
        "  if write_to_file:\n",
        "    model_metrics[\"Classification_report\"] = cr\n",
        "\n",
        "    for i,val in enumerate(LABEL_COLUMNS):\n",
        "      model_metrics['confusion_matrix' + '_' + val] = str(cf[i].flatten())\n",
        "  \n",
        "    model_metrics[\"y_pred\"] = str(y_pred)\n",
        "    model_metrics[\"y_labels\"] = str(test_df_labels)\n",
        "\n",
        "\n",
        "    if threshold != 0.5:\n",
        "      th = \"calculated_threshold\"\n",
        "    else:\n",
        "      th = threshold\n",
        "\n",
        "    model_metrics[\"threshold\"] = th\n",
        "    output_file = \"eval_results_\" + model_name + \"_\"+str(th) +\"_\"+ \".json\"\n",
        "    \n",
        "    with open(output_file, \"w\" ) as writer:\n",
        "        json.dump(model_metrics,writer)\n",
        "  \n",
        "\n",
        "  print(\"\\n ROC-AUC score: %.6f \\n\" % (ROC_AUC_score))\n",
        "  print(\"\\n Subset accuracy : %.6f \\n\" % (accuracy))\n",
        "  print(\"\\n hamming_loss : %.6f \\n\" % (hloss))\n",
        "\n",
        "  print(\"  Saving the metrics into a file: \" + output_file + \" with threshold :\" + str(threshold))"
      ],
      "execution_count": 72,
      "outputs": []
    },
    {
      "cell_type": "markdown",
      "metadata": {
        "id": "qpdl9c1mam9K"
      },
      "source": [
        "# Baselines"
      ]
    },
    {
      "cell_type": "markdown",
      "metadata": {
        "id": "MGf8u3PSaxxT"
      },
      "source": [
        "## Machine Learning with features"
      ]
    },
    {
      "cell_type": "markdown",
      "metadata": {
        "id": "2A6p5QlWHuVM"
      },
      "source": [
        "### SVM Classifier using selected features \n",
        "  * Reference : \n",
        "    1. Linguistic models for detecting bias https://aclanthology.org/P13-1162.pdf\n",
        "    2. Automatically Neutralizing Subjective Bias in Text https://ojs.aaai.org/index.php/AAAI/article/view/5385 \n",
        "\n",
        "  "
      ]
    },
    {
      "cell_type": "markdown",
      "metadata": {
        "id": "lkiPd8Zpb9w5"
      },
      "source": [
        "### Fasttext like model (Randomly initialized word embedding)\n",
        "\n",
        "References :\n",
        "\n",
        "  * Paper: https://arxiv.org/pdf/1607.01759.pdf \n",
        "\n",
        "  1. https://nbviewer.jupyter.org/github/amaiya/ktrain/blob/master/tutorials/tutorial-04-text-classification.ipynb\n",
        "  2. https://github.com/mvdheram/Social-bias-Detection/blob/main/Baselines_anti.ipynb\n",
        "\n",
        "Model details :\n",
        "\n",
        "1. keras `Tokenizer` to tokenize the input sequences \n",
        "  * Create tokenizer with `Tokenizer(num_words=MAX_VOCAB_SIZE)`\n",
        "  * Fit on input sequences `tokenizer.fit_on_texts(sentences)`\n",
        "  * Generate input sequences with word ids using `tokenizer.texts_to_sequences(sentences)` \n",
        "2. Randomly initialized (weights) Keras embedding layer \n",
        "  * Dimentions (Vocab size,Dimentionality of each vocab) https://www.tensorflow.org/api_docs/python/tf/keras/layers/Embedding \n",
        "  * `Embedding(max_features, 64, input_length = maxlen)`\n",
        "3. `SpatialDropout1D = 0.25`\n",
        "4. `GlobalMaxPool1D()`, \n",
        "5. `BatchNormalization()`, \n",
        "6. Dense layer ,`relu` activation , \n",
        "7. Dense layer with output dimention (`Num_of_labels`), \n",
        "8. `loss_func = 'binary_crossentropy', activation = 'sigmoid'`   \n"
      ]
    },
    {
      "cell_type": "markdown",
      "metadata": {
        "id": "SaNvlGo_B9wi"
      },
      "source": [
        "Ktrain steps:\n",
        "\n",
        "1. Load the text data and corresponding preprocessing module using `ktrain.text`.\n",
        "  * Total instances : 16544\n",
        "    * Train instances : 14889 (90%)\n",
        "    * Test instances : 1655 (10%)\n",
        "2. Load corresponding model from `ktrain.text.text_classifier`\n",
        "3. Find best learning rate using `learner.lr_find`\n",
        "4. Train the model using *learning rate scheduler* from ktrain.\n",
        "5. Validate the test set with classification metrics. "
      ]
    },
    {
      "cell_type": "code",
      "metadata": {
        "id": "G1o3Vnivxf08"
      },
      "source": [
        "# Number of epochs \n",
        "N_EPOCHS = 10\n",
        "\n",
        "# Model name \n",
        "MODEL_NAME = 'fasttext'"
      ],
      "execution_count": null,
      "outputs": []
    },
    {
      "cell_type": "code",
      "metadata": {
        "colab": {
          "base_uri": "https://localhost:8080/"
        },
        "id": "yjntylgKcs1L",
        "outputId": "9aada6bc-7409-48fd-8974-c21f353279d2"
      },
      "source": [
        "text.print_text_classifiers()"
      ],
      "execution_count": 13,
      "outputs": [
        {
          "output_type": "stream",
          "text": [
            "fasttext: a fastText-like model [http://arxiv.org/pdf/1607.01759.pdf]\n",
            "logreg: logistic regression using a trainable Embedding layer\n",
            "nbsvm: NBSVM model [http://www.aclweb.org/anthology/P12-2018]\n",
            "bigru: Bidirectional GRU with pretrained fasttext word vectors [https://fasttext.cc/docs/en/crawl-vectors.html]\n",
            "standard_gru: simple 2-layer GRU with randomly initialized embeddings\n",
            "bert: Bidirectional Encoder Representations from Transformers (BERT) from keras_bert [https://arxiv.org/abs/1810.04805]\n",
            "distilbert: distilled, smaller, and faster BERT from Hugging Face transformers [https://arxiv.org/abs/1910.01108]\n"
          ],
          "name": "stdout"
        }
      ]
    },
    {
      "cell_type": "code",
      "metadata": {
        "colab": {
          "base_uri": "https://localhost:8080/"
        },
        "id": "HJs0Jiotm0FC",
        "outputId": "78979e48-2380-45c7-ed34-a411dc0cec8f"
      },
      "source": [
        "df.columns"
      ],
      "execution_count": 14,
      "outputs": [
        {
          "output_type": "execute_result",
          "data": {
            "text/plain": [
              "Index(['Ethnicity', 'gender', 'profession', 'religion', 'Anti-stereotype',\n",
              "       'stereotype', 'unrelated', 'sentence'],\n",
              "      dtype='object')"
            ]
          },
          "metadata": {
            "tags": []
          },
          "execution_count": 14
        }
      ]
    },
    {
      "cell_type": "code",
      "metadata": {
        "colab": {
          "base_uri": "https://localhost:8080/"
        },
        "id": "OopZvji5kbR0",
        "outputId": "04e8c108-517d-4eeb-d1cc-b95342cfbe1b"
      },
      "source": [
        "(x_train, y_train), (x_test, y_test), preproc = text.texts_from_df(df,'sentence',label_columns = ['Ethnicity', 'gender', 'profession', 'religion', 'Anti-stereotype',\n",
        "       'stereotype', 'unrelated'], maxlen = 70, max_features = 80000, preprocess_mode='standard', ngram_range=3)"
      ],
      "execution_count": 18,
      "outputs": [
        {
          "output_type": "stream",
          "text": [
            "['Ethnicity', 'gender', 'profession', 'religion', 'Anti-stereotype', 'stereotype', 'unrelated']\n",
            "       Ethnicity  gender  profession  ...  Anti-stereotype  stereotype  unrelated\n",
            "14720        0.0     0.0         0.0  ...              0.0         0.0        1.0\n",
            "10039        0.0     0.0         1.0  ...              1.0         0.0        0.0\n",
            "14829        0.0     0.0         0.0  ...              0.0         0.0        1.0\n",
            "8289         1.0     0.0         0.0  ...              0.0         1.0        0.0\n",
            "15719        0.0     0.0         0.0  ...              0.0         0.0        1.0\n",
            "\n",
            "[5 rows x 7 columns]\n",
            "['Ethnicity', 'gender', 'profession', 'religion', 'Anti-stereotype', 'stereotype', 'unrelated']\n",
            "       Ethnicity  gender  profession  ...  Anti-stereotype  stereotype  unrelated\n",
            "8422         1.0     0.0         0.0  ...              0.0         1.0        0.0\n",
            "4678         0.0     0.0         1.0  ...              1.0         0.0        0.0\n",
            "9676         1.0     0.0         0.0  ...              1.0         0.0        0.0\n",
            "10058        0.0     1.0         0.0  ...              1.0         0.0        0.0\n",
            "243          1.0     0.0         0.0  ...              0.0         1.0        0.0\n",
            "\n",
            "[5 rows x 7 columns]\n",
            "language: en\n",
            "Word Counts: 11446\n",
            "Nrows: 14889\n",
            "14889 train sequences\n",
            "train sequence lengths:\n",
            "\tmean : 12\n",
            "\t95percentile : 24\n",
            "\t99percentile : 34\n",
            "Adding 3-gram features\n",
            "max_features changed to 235834 with addition of ngrams\n",
            "Average train sequence length with ngrams: 32\n",
            "train (w/ngrams) sequence lengths:\n",
            "\tmean : 32\n",
            "\t95percentile : 69\n",
            "\t99percentile : 99\n",
            "x_train shape: (14889,70)\n",
            "y_train shape: (14889, 7)\n",
            "Is Multi-Label? True\n",
            "1655 test sequences\n",
            "test sequence lengths:\n",
            "\tmean : 12\n",
            "\t95percentile : 24\n",
            "\t99percentile : 33\n",
            "Average test sequence length with ngrams: 25\n",
            "test (w/ngrams) sequence lengths:\n",
            "\tmean : 25\n",
            "\t95percentile : 54\n",
            "\t99percentile : 73\n",
            "x_test shape: (1655,70)\n",
            "y_test shape: (1655, 7)\n"
          ],
          "name": "stdout"
        }
      ]
    },
    {
      "cell_type": "code",
      "metadata": {
        "colab": {
          "base_uri": "https://localhost:8080/"
        },
        "id": "r9Ld-YL7keU2",
        "outputId": "321c38bc-7ef7-48a2-8ab4-5f6583e7b580"
      },
      "source": [
        "model = text.text_classifier('fasttext', (x_train, y_train) , preproc=preproc)"
      ],
      "execution_count": 70,
      "outputs": [
        {
          "output_type": "stream",
          "text": [
            "Is Multi-Label? True\n",
            "compiling word ID features...\n",
            "maxlen is 70\n",
            "done.\n"
          ],
          "name": "stdout"
        }
      ]
    },
    {
      "cell_type": "code",
      "metadata": {
        "colab": {
          "base_uri": "https://localhost:8080/"
        },
        "id": "8lBt2gHuxmbM",
        "outputId": "0df7eca3-3b6d-494b-afc9-12a800693a33"
      },
      "source": [
        "model.summary()"
      ],
      "execution_count": 40,
      "outputs": [
        {
          "output_type": "stream",
          "text": [
            "Model: \"sequential\"\n",
            "_________________________________________________________________\n",
            "Layer (type)                 Output Shape              Param #   \n",
            "=================================================================\n",
            "embedding (Embedding)        (None, 70, 64)            15093376  \n",
            "_________________________________________________________________\n",
            "spatial_dropout1d (SpatialDr (None, 70, 64)            0         \n",
            "_________________________________________________________________\n",
            "global_max_pooling1d (Global (None, 64)                0         \n",
            "_________________________________________________________________\n",
            "batch_normalization (BatchNo (None, 64)                256       \n",
            "_________________________________________________________________\n",
            "dense (Dense)                (None, 64)                4160      \n",
            "_________________________________________________________________\n",
            "dropout (Dropout)            (None, 64)                0         \n",
            "_________________________________________________________________\n",
            "dense_1 (Dense)              (None, 7)                 455       \n",
            "=================================================================\n",
            "Total params: 15,098,247\n",
            "Trainable params: 15,098,119\n",
            "Non-trainable params: 128\n",
            "_________________________________________________________________\n"
          ],
          "name": "stdout"
        }
      ]
    },
    {
      "cell_type": "code",
      "metadata": {
        "id": "ssn5jsHmquhh"
      },
      "source": [
        "learner = ktrain.get_learner(model, \n",
        "                             train_data=(x_train, y_train),\n",
        "                             val_data=(x_test, y_test))"
      ],
      "execution_count": 20,
      "outputs": []
    },
    {
      "cell_type": "code",
      "metadata": {
        "colab": {
          "base_uri": "https://localhost:8080/",
          "height": 504
        },
        "id": "_SbggOCbqzNf",
        "outputId": "62813755-79ef-4684-cbcf-b83afc61356e"
      },
      "source": [
        "learner.lr_find(show_plot=True)"
      ],
      "execution_count": 21,
      "outputs": [
        {
          "output_type": "stream",
          "text": [
            "simulating training for different learning rates... this may take a few moments...\n",
            "Epoch 1/1024\n",
            "466/466 [==============================] - 70s 147ms/step - loss: 0.8943 - accuracy: 0.1858\n",
            "Epoch 2/1024\n",
            "466/466 [==============================] - 68s 145ms/step - loss: 0.7937 - accuracy: 0.1800\n",
            "Epoch 3/1024\n",
            "466/466 [==============================] - 68s 146ms/step - loss: 0.5094 - accuracy: 0.2730\n",
            "Epoch 4/1024\n",
            "466/466 [==============================] - 66s 142ms/step - loss: 0.5524 - accuracy: 0.0404\n",
            "\n",
            "\n",
            "done.\n",
            "Visually inspect loss plot and select learning rate associated with falling loss\n"
          ],
          "name": "stdout"
        },
        {
          "output_type": "display_data",
          "data": {
            "image/png": "[encoded data removed]",
            "text/plain": [
              "<Figure size 432x288 with 1 Axes>"
            ]
          },
          "metadata": {
            "tags": [],
            "needs_background": "light"
          }
        }
      ]
    },
    {
      "cell_type": "code",
      "metadata": {
        "colab": {
          "base_uri": "https://localhost:8080/"
        },
        "id": "WX8uOpODr5rr",
        "outputId": "5326e57b-bd4e-4e3a-ab5a-5a48e2f4b613"
      },
      "source": [
        "learner.autofit(5e-2, 5)"
      ],
      "execution_count": 23,
      "outputs": [
        {
          "output_type": "stream",
          "text": [
            "\n",
            "\n",
            "begin training using triangular learning rate policy with max lr of 0.05...\n",
            "Epoch 1/5\n",
            "466/466 [==============================] - 68s 146ms/step - loss: 0.4321 - accuracy: 0.3482 - val_loss: 0.4143 - val_accuracy: 0.4900\n",
            "Epoch 2/5\n",
            "466/466 [==============================] - 68s 146ms/step - loss: 0.4258 - accuracy: 0.3500 - val_loss: 0.4499 - val_accuracy: 0.4453\n",
            "Epoch 3/5\n",
            "466/466 [==============================] - 68s 146ms/step - loss: 0.4179 - accuracy: 0.3684 - val_loss: 0.4412 - val_accuracy: 0.4979\n",
            "Epoch 4/5\n",
            "466/466 [==============================] - 68s 146ms/step - loss: 0.4228 - accuracy: 0.3707 - val_loss: 0.5003 - val_accuracy: 0.5130\n",
            "Epoch 5/5\n",
            "466/466 [==============================] - 68s 146ms/step - loss: 0.4241 - accuracy: 0.3557 - val_loss: 0.4239 - val_accuracy: 0.4586\n"
          ],
          "name": "stdout"
        },
        {
          "output_type": "execute_result",
          "data": {
            "text/plain": [
              "<tensorflow.python.keras.callbacks.History at 0x7f8416d25bd0>"
            ]
          },
          "metadata": {
            "tags": []
          },
          "execution_count": 23
        }
      ]
    },
    {
      "cell_type": "code",
      "metadata": {
        "colab": {
          "base_uri": "https://localhost:8080/",
          "height": 295
        },
        "id": "p3KGfBHDupI3",
        "outputId": "31feba9c-277f-4a63-d23b-f83f2a4ee893"
      },
      "source": [
        "learner.plot('loss')"
      ],
      "execution_count": 32,
      "outputs": [
        {
          "output_type": "display_data",
          "data": {
            "image/png": "[encoded data removed]",
            "text/plain": [
              "<Figure size 432x288 with 1 Axes>"
            ]
          },
          "metadata": {
            "tags": [],
            "needs_background": "light"
          }
        }
      ]
    },
    {
      "cell_type": "code",
      "metadata": {
        "id": "VL6XRv1I8Rff"
      },
      "source": [
        "test_pred = learner.predict()\n",
        "test_df_labels = y_test"
      ],
      "execution_count": 47,
      "outputs": []
    },
    {
      "cell_type": "markdown",
      "metadata": {
        "id": "xKLU84qUKxoW"
      },
      "source": [
        "ROC_AUC of final model"
      ]
    },
    {
      "cell_type": "code",
      "metadata": {
        "colab": {
          "base_uri": "https://localhost:8080/"
        },
        "id": "W56R8towKxH2",
        "outputId": "de959837-ffb4-4680-b77d-35db133d8b20"
      },
      "source": [
        "score = roc_auc_score(test_df_labels, test_pred)\n",
        "print(\"\\n ROC-AUC score: %.6f \\n\" % (score))"
      ],
      "execution_count": 50,
      "outputs": [
        {
          "output_type": "stream",
          "text": [
            "\n",
            " ROC-AUC score: 0.800436 \n",
            "\n"
          ],
          "name": "stdout"
        }
      ]
    },
    {
      "cell_type": "markdown",
      "metadata": {
        "id": "74aFoQ40J3bO"
      },
      "source": [
        "per_class ROC_AUC"
      ]
    },
    {
      "cell_type": "code",
      "metadata": {
        "colab": {
          "base_uri": "https://localhost:8080/"
        },
        "id": "pNSdnPyWJ6AT",
        "outputId": "d0717506-ca6e-4a8e-b8da-36a9e778c8a1"
      },
      "source": [
        "from sklearn.metrics import roc_curve\n",
        "from collections import OrderedDict\n",
        "import numpy as np\n",
        "\n",
        "\n",
        "opti_threshold = dict()\n",
        "LABEL_COLUMNS = ['Ethnicity','gender','profession','religion','Anti-stereotype','stereotype','unrelated']\n",
        "\n",
        "for i in range(7):\n",
        "  fpr, tpr, thresholds = roc_curve(test_df_labels[:,i], test_pred[:,i])\n",
        "  print(\"AUC_ROC_score of %s is %s:\"% (LABEL_COLUMNS[i],roc_auc_score(test_df_labels[:,i], test_pred[:,i])))\n",
        "  optimal_idx = np.argmax(tpr + (1- fpr)) # Return indices of maximum array;  Criterion - Maximise TPR(recall) and TNR(specificity) \n",
        "  optimal_threshold = thresholds[optimal_idx]\n",
        "  print(\"Optimal threshold value of %s is %s:\\n\" % (LABEL_COLUMNS[i], optimal_threshold))\n",
        "  opti_threshold[i] = optimal_threshold"
      ],
      "execution_count": 48,
      "outputs": [
        {
          "output_type": "stream",
          "text": [
            "AUC_ROC_score of Ethnicity is 0.8981084741789388:\n",
            "Optimal threshold value of Ethnicity is 0.2865471:\n",
            "\n",
            "AUC_ROC_score of gender is 0.8458112611073137:\n",
            "Optimal threshold value of gender is 0.11651024:\n",
            "\n",
            "AUC_ROC_score of profession is 0.9210398964891905:\n",
            "Optimal threshold value of profession is 0.2396673:\n",
            "\n",
            "AUC_ROC_score of religion is 0.9283522695897067:\n",
            "Optimal threshold value of religion is 0.0776653:\n",
            "\n",
            "AUC_ROC_score of Anti-stereotype is 0.632736256435808:\n",
            "Optimal threshold value of Anti-stereotype is 0.3107939:\n",
            "\n",
            "AUC_ROC_score of stereotype is 0.6740755422587884:\n",
            "Optimal threshold value of stereotype is 0.41457725:\n",
            "\n",
            "AUC_ROC_score of unrelated is 0.7029294597745823:\n",
            "Optimal threshold value of unrelated is 0.26352823:\n",
            "\n"
          ],
          "name": "stdout"
        }
      ]
    },
    {
      "cell_type": "markdown",
      "metadata": {
        "id": "9mTX2wF2K_y7"
      },
      "source": [
        "Classification report \n",
        "\n",
        "Threshold = 0.5"
      ]
    },
    {
      "cell_type": "code",
      "metadata": {
        "id": "862qbqihLLPZ"
      },
      "source": [
        "from sklearn.metrics import classification_report, multilabel_confusion_matrix\n",
        "\n",
        "y_pred = np.where(test_pred > 0.5, upper, lower)\n",
        "classification_report = classification_report(\n",
        "  test_df_labels, \n",
        "  y_pred, \n",
        "  target_names=LABEL_COLUMNS, \n",
        "  zero_division=0,\n",
        ")"
      ],
      "execution_count": 51,
      "outputs": []
    },
    {
      "cell_type": "code",
      "metadata": {
        "colab": {
          "base_uri": "https://localhost:8080/"
        },
        "id": "LWp8YX8cLRtv",
        "outputId": "7c257048-9695-41f9-f7b4-2bb8c7ffdd90"
      },
      "source": [
        "print(classification_report)"
      ],
      "execution_count": 52,
      "outputs": [
        {
          "output_type": "stream",
          "text": [
            "                 precision    recall  f1-score   support\n",
            "\n",
            "      Ethnicity       0.78      0.65      0.71       562\n",
            "         gender       0.00      0.00      0.00       192\n",
            "     profession       0.63      0.39      0.48       287\n",
            "       religion       0.97      0.63      0.77       199\n",
            "Anti-stereotype       0.38      0.01      0.02       540\n",
            "     stereotype       0.97      0.20      0.33       700\n",
            "      unrelated       0.81      0.42      0.55       415\n",
            "\n",
            "      micro avg       0.80      0.32      0.45      2895\n",
            "      macro avg       0.65      0.33      0.41      2895\n",
            "   weighted avg       0.70      0.32      0.40      2895\n",
            "    samples avg       0.47      0.33      0.38      2895\n",
            "\n"
          ],
          "name": "stdout"
        }
      ]
    },
    {
      "cell_type": "markdown",
      "metadata": {
        "id": "Z2kkhSaqLaph"
      },
      "source": [
        "Confusion matrix"
      ]
    },
    {
      "cell_type": "code",
      "metadata": {
        "id": "KoyNeExlLch9"
      },
      "source": [
        "pip install git+https://github.com/gmihaila/ml_things"
      ],
      "execution_count": null,
      "outputs": []
    },
    {
      "cell_type": "code",
      "metadata": {
        "id": "1uGewNbnLfa2"
      },
      "source": [
        "import matplotlib.pyplot as plt\n",
        "import seaborn as sns\n",
        "from ml_things import plot_confusion_matrix\n",
        "\n",
        "cf = multilabel_confusion_matrix(test_df_labels, \n",
        "  y_pred)"
      ],
      "execution_count": 54,
      "outputs": []
    },
    {
      "cell_type": "code",
      "metadata": {
        "colab": {
          "base_uri": "https://localhost:8080/",
          "height": 1000
        },
        "id": "TEJ7jVH0LnS0",
        "outputId": "4c05383e-250b-44c7-e26d-014d048e1805"
      },
      "source": [
        "LABEL_COLUMNS = ['Ethnicity','gender','profession','religion','Anti-stereotype','stereotype','unrelated']\n",
        "for i,val in enumerate(LABEL_COLUMNS):\n",
        "  plot_confusion_matrix(y_true=test_df_labels[:,i], y_pred=y_pred[:,i], magnify=0.1, use_title='Confusion Matrix'+\" \"+ val, path='plot_confusion_matrix'+ \"_\" + val +\".png\");"
      ],
      "execution_count": 55,
      "outputs": [
        {
          "output_type": "stream",
          "text": [
            "Confusion matrix, without normalization\n"
          ],
          "name": "stdout"
        },
        {
          "output_type": "display_data",
          "data": {
            "image/png": "[encoded data removed]",
            "text/plain": [
              "<Figure size 1944x432 with 2 Axes>"
            ]
          },
          "metadata": {
            "tags": []
          }
        },
        {
          "output_type": "stream",
          "text": [
            "Confusion matrix, without normalization\n"
          ],
          "name": "stdout"
        },
        {
          "output_type": "display_data",
          "data": {
            "image/png": "[encoded data removed]",
            "text/plain": [
              "<Figure size 1944x432 with 2 Axes>"
            ]
          },
          "metadata": {
            "tags": []
          }
        },
        {
          "output_type": "stream",
          "text": [
            "Confusion matrix, without normalization\n"
          ],
          "name": "stdout"
        },
        {
          "output_type": "display_data",
          "data": {
            "image/png": "[encoded data removed]",
            "text/plain": [
              "<Figure size 1944x432 with 2 Axes>"
            ]
          },
          "metadata": {
            "tags": []
          }
        },
        {
          "output_type": "stream",
          "text": [
            "Confusion matrix, without normalization\n"
          ],
          "name": "stdout"
        },
        {
          "output_type": "display_data",
          "data": {
            "image/png": "[encoded data removed]",
            "text/plain": [
              "<Figure size 1944x432 with 2 Axes>"
            ]
          },
          "metadata": {
            "tags": []
          }
        },
        {
          "output_type": "stream",
          "text": [
            "Confusion matrix, without normalization\n"
          ],
          "name": "stdout"
        },
        {
          "output_type": "display_data",
          "data": {
            "image/png": "[encoded data removed]",
            "text/plain": [
              "<Figure size 1944x432 with 2 Axes>"
            ]
          },
          "metadata": {
            "tags": []
          }
        },
        {
          "output_type": "stream",
          "text": [
            "Confusion matrix, without normalization\n"
          ],
          "name": "stdout"
        },
        {
          "output_type": "display_data",
          "data": {
            "image/png": "[encoded data removed]",
            "text/plain": [
              "<Figure size 1944x432 with 2 Axes>"
            ]
          },
          "metadata": {
            "tags": []
          }
        },
        {
          "output_type": "stream",
          "text": [
            "Confusion matrix, without normalization\n"
          ],
          "name": "stdout"
        },
        {
          "output_type": "display_data",
          "data": {
            "image/png": "[encoded data removed]",
            "text/plain": [
              "<Figure size 1944x432 with 2 Axes>"
            ]
          },
          "metadata": {
            "tags": []
          }
        }
      ]
    },
    {
      "cell_type": "markdown",
      "metadata": {
        "id": "KpNwPdb4LsFE"
      },
      "source": [
        "Classification metrics "
      ]
    },
    {
      "cell_type": "code",
      "metadata": {
        "colab": {
          "base_uri": "https://localhost:8080/"
        },
        "id": "mTxoIMB4LuKJ",
        "outputId": "bd0622b7-eea6-4e0a-da3d-7f91f75e03d7"
      },
      "source": [
        "write_to_file = True \n",
        "classification_metrics(test_pred, test_df_labels,\"nbsvm\",0.5)"
      ],
      "execution_count": 73,
      "outputs": [
        {
          "output_type": "stream",
          "text": [
            "Evaluation metrics for test set:\n",
            "\n",
            " ROC-AUC score: 0.800436 \n",
            "\n",
            "\n",
            " Subset accuracy : 0.183686 \n",
            "\n",
            "\n",
            " hamming_loss : 0.190073 \n",
            "\n",
            "  Saving the metrics into a file: eval_results_nbsvm_0.5_.json with threshold :0.5\n"
          ],
          "name": "stdout"
        },
        {
          "output_type": "stream",
          "text": [
            "/usr/local/lib/python3.7/dist-packages/sklearn/metrics/_classification.py:1221: UndefinedMetricWarning: Precision is ill-defined and being set to 0.0 in samples with no predicted labels. Use `zero_division` parameter to control this behavior.\n",
            "  _warn_prf(average, modifier, msg_start, len(result))\n",
            "/usr/local/lib/python3.7/dist-packages/sklearn/metrics/_classification.py:1221: UndefinedMetricWarning: Precision and F-score are ill-defined and being set to 0.0 in labels with no predicted samples. Use `zero_division` parameter to control this behavior.\n",
            "  _warn_prf(average, modifier, msg_start, len(result))\n",
            "/usr/local/lib/python3.7/dist-packages/sklearn/metrics/_classification.py:1221: UndefinedMetricWarning: Precision and F-score are ill-defined and being set to 0.0 in samples with no predicted labels. Use `zero_division` parameter to control this behavior.\n",
            "  _warn_prf(average, modifier, msg_start, len(result))\n"
          ],
          "name": "stderr"
        }
      ]
    },
    {
      "cell_type": "markdown",
      "metadata": {
        "id": "jwTACdCka42B"
      },
      "source": [
        "## Pre-trained word embedding models with CNN"
      ]
    },
    {
      "cell_type": "markdown",
      "metadata": {
        "id": "spCDi_37EE84"
      },
      "source": [
        "### Pre-processing"
      ]
    },
    {
      "cell_type": "code",
      "metadata": {
        "id": "t3cRclIfEI3L"
      },
      "source": [
        "import pandas as pd\n",
        "import numpy as np\n",
        "import matplotlib.pyplot as plt\n",
        "from keras.preprocessing.text import Tokenizer\n",
        "from keras.preprocessing.sequence import pad_sequences # to pad inputs into equal length\n",
        "from keras.layers import Dense, Input, GlobalMaxPooling1D\n",
        "from keras.layers import Conv1D, MaxPooling1D, Dropout\n",
        "from keras.models import Model\n",
        "from sklearn.metrics import roc_auc_score\n",
        "from gensim.models import Word2Vec"
      ],
      "execution_count": 106,
      "outputs": []
    },
    {
      "cell_type": "code",
      "metadata": {
        "id": "um57TSe5FBlH"
      },
      "source": [
        "MAX_SEQUENCE_LENGTH = 50\n",
        "MAX_VOCAB_SIZE = 20000 # Based on usage\n",
        "EMBEDDING_DIM = 100 # glove dimentions\n",
        "VALIDATION_SPLIT = 0.2\n",
        "BATCH_SIZE = 128\n",
        "EPOCHS = 10"
      ],
      "execution_count": 107,
      "outputs": []
    },
    {
      "cell_type": "code",
      "metadata": {
        "colab": {
          "base_uri": "https://localhost:8080/"
        },
        "id": "pMHwPUp6Hh0z",
        "outputId": "caeb4868-790f-4f8d-a5e9-637a2db0ff40"
      },
      "source": [
        "# Tokenization using spacy\n",
        "import spacy\n",
        "\n",
        "nlp = spacy.load(\"en_core_web_sm\")\n",
        "\n",
        "def tokenize(text):  \n",
        "\n",
        "  doc = nlp(text)\n",
        "  tokens = [token.text.lower() for token in doc]\n",
        "  return tokens\n",
        "\n",
        "def lemmatization(text):\n",
        "\n",
        "  doc = nlp(text)\n",
        "  lemmas = [token.lemma_.lower() for token in doc]\n",
        "  return lemmas\n",
        "\n",
        "# Remove tokens that are not alphabetic - depends on particular application \n",
        "def clean_text(text):\n",
        "\n",
        "  lemmas = lemmatization(text)\n",
        "  a_lemmas = [lemma for  lemma in lemmas\n",
        "              if lemma.isalpha()]\n",
        "  \n",
        "  return (' '.join(a_lemmas))"
      ],
      "execution_count": 108,
      "outputs": [
        {
          "output_type": "stream",
          "text": [
            "/usr/local/lib/python3.7/dist-packages/catalogue.py:138: DeprecationWarning: SelectableGroups dict interface is deprecated. Use select.\n",
            "  for entry_point in AVAILABLE_ENTRY_POINTS.get(self.entry_point_namespace, []):\n",
            "/usr/local/lib/python3.7/dist-packages/catalogue.py:138: DeprecationWarning: SelectableGroups dict interface is deprecated. Use select.\n",
            "  for entry_point in AVAILABLE_ENTRY_POINTS.get(self.entry_point_namespace, []):\n",
            "/usr/local/lib/python3.7/dist-packages/catalogue.py:126: DeprecationWarning: SelectableGroups dict interface is deprecated. Use select.\n",
            "  for entry_point in AVAILABLE_ENTRY_POINTS.get(self.entry_point_namespace, []):\n",
            "/usr/local/lib/python3.7/dist-packages/catalogue.py:138: DeprecationWarning: SelectableGroups dict interface is deprecated. Use select.\n",
            "  for entry_point in AVAILABLE_ENTRY_POINTS.get(self.entry_point_namespace, []):\n"
          ],
          "name": "stderr"
        }
      ]
    },
    {
      "cell_type": "code",
      "metadata": {
        "id": "z88ckDDhL7rw"
      },
      "source": [
        "df['clean_text'] = df['sentence'].apply(clean_text)"
      ],
      "execution_count": null,
      "outputs": []
    },
    {
      "cell_type": "code",
      "metadata": {
        "id": "ZYEEphnbZR1_"
      },
      "source": [
        "labels = df.iloc[:,:-2].values\n",
        "sentences = df.iloc[:,-1].values"
      ],
      "execution_count": 92,
      "outputs": []
    },
    {
      "cell_type": "code",
      "metadata": {
        "id": "hQBquHaTFIil",
        "colab": {
          "base_uri": "https://localhost:8080/"
        },
        "outputId": "b1e2105e-3722-49f2-c31c-7dc6106b3c70"
      },
      "source": [
        "tokenizer = Tokenizer(num_words=MAX_VOCAB_SIZE)\n",
        "tokenizer.fit_on_texts(sentences)\n",
        "sequences = tokenizer.texts_to_sequences(sentences)\n",
        "print(\"sequences:\", sequences[0])"
      ],
      "execution_count": 93,
      "outputs": [
        {
          "output_type": "stream",
          "text": [
            "sequences: [32, 9, 61, 6, 134, 2, 9, 1, 10, 1050, 5, 43, 19, 2224, 148]\n"
          ],
          "name": "stdout"
        }
      ]
    },
    {
      "cell_type": "code",
      "metadata": {
        "id": "qcOS-xjBGYNu",
        "colab": {
          "base_uri": "https://localhost:8080/"
        },
        "outputId": "39e17443-a618-4790-fbec-ef717b2341ed"
      },
      "source": [
        "# word -> token_id mapping\n",
        "word2idx = tokenizer.word_index\n",
        "print('Found %s unique tokens.' % len(word2idx))"
      ],
      "execution_count": 94,
      "outputs": [
        {
          "output_type": "stream",
          "text": [
            "Found 9274 unique tokens.\n"
          ],
          "name": "stdout"
        }
      ]
    },
    {
      "cell_type": "code",
      "metadata": {
        "id": "sUSKxzj5Gco0",
        "colab": {
          "base_uri": "https://localhost:8080/"
        },
        "outputId": "02aee61b-190f-4b24-f6b6-38668b885826"
      },
      "source": [
        "# pad sequences to get  N x T matrix (0 - reserved for padding in keras)\n",
        "data = pad_sequences(sequences, maxlen=MAX_SEQUENCE_LENGTH)\n",
        "print('Shape of data tensor:', data.shape)"
      ],
      "execution_count": 96,
      "outputs": [
        {
          "output_type": "stream",
          "text": [
            "Shape of data tensor: (16544, 50)\n"
          ],
          "name": "stdout"
        }
      ]
    },
    {
      "cell_type": "markdown",
      "metadata": {
        "id": "qrRO0ibiXOJW"
      },
      "source": [
        "### Defining Model "
      ]
    },
    {
      "cell_type": "markdown",
      "metadata": {
        "id": "WvB9oPmeYWmk"
      },
      "source": [
        "#### Text-CNN\n",
        "\n",
        "Model specifics:\n",
        "  * Embedding_layer(Input) -> conv1D -> Maxpooling1D(3) -> GlobalMaxPooling1D() -> Dense -> output (len(labels[0]))\n",
        "\n",
        "References:\n",
        "\n",
        "1.http://www.wildml.com/2015/11/understanding-convolutional-neural-networks-for-nlp/ "
      ]
    },
    {
      "cell_type": "code",
      "metadata": {
        "id": "IyMl8K38YDP8"
      },
      "source": [
        "def _build_CNN(num_classes, embedding_layer, loss_func = 'binary_crossentropy',\n",
        "            activation = 'sigmoid', metric = ['accuracy'], optimizer = 'rmsprop'):\n",
        "  \n",
        "  print('Building model...')\n",
        "\n",
        "  input_ = Input(shape=(MAX_SEQUENCE_LENGTH,))\n",
        "  x = embedding_layer(input_)\n",
        "  x = Conv1D(128,3,activation='relu')(x)\n",
        "  x = MaxPooling1D(3)(x)\n",
        "  x = tf.keras.layers.Dropout(0.25)(x)\n",
        "  x = Conv1D(128,3,activation='relu')(x)\n",
        "  x = MaxPooling1D(3)(x)\n",
        "  x = tf.keras.layers.Dropout(0.25)(x)\n",
        "  x = Conv1D(128,3,activation='relu')(x)\n",
        "  x = GlobalMaxPooling1D()(x) # Getting the most important feature \n",
        "  x = Dense(128, activation='relu')(x)\n",
        "  model.add(Dense(len(labels[0]),activation=activation))\n",
        "  model.compile(loss = loss_func, optimizer = optimizer, metrics = metric)\n",
        "\n",
        "  return model"
      ],
      "execution_count": 114,
      "outputs": []
    },
    {
      "cell_type": "markdown",
      "metadata": {
        "id": "0fUQMkf9YfB2"
      },
      "source": [
        "#### Bi-Directional LSTM"
      ]
    },
    {
      "cell_type": "code",
      "metadata": {
        "id": "nqsQJf29Yj-G"
      },
      "source": [
        "def _build_(num_classes, embedding_layer, loss_func = 'binary_crossentropy',\n",
        "            activation = 'sigmoid', metric = ['accuracy'], optimizer = 'rmsprop'):\n",
        "  \n",
        "  print('Building model...')\n",
        "\n",
        "  input_ = Input(shape=(MAX_SEQUENCE_LENGTH,))\n",
        "  x = embedding_layer(input_)\n",
        "  x = SpatialDropout1D(0.2)(x)\n",
        "  x = Bidirectional(LSTM(15, return_sequences=True))(x)\n",
        "  avg_pool = GlobalAveragePooling1D()(x)\n",
        "  max_pool = GlobalMaxPool1D()(x)\n",
        "  conc = concatenate([avg_pool, max_pool])\n",
        "  output = Dense(possible_labels, activation=\"sigmoid\")(conc)\n",
        "  model = Model(input_, output)\n",
        "  model.compile(loss = loss_func, optimizer = optimizer, metrics = metric)\n",
        "\n",
        "  return model "
      ],
      "execution_count": 115,
      "outputs": []
    },
    {
      "cell_type": "markdown",
      "metadata": {
        "id": "ojzQY_d8bRIw"
      },
      "source": [
        "### Word embedding models"
      ]
    },
    {
      "cell_type": "markdown",
      "metadata": {
        "id": "bzVr-Z3nbUsZ"
      },
      "source": [
        "#### Word2Vec"
      ]
    },
    {
      "cell_type": "code",
      "metadata": {
        "id": "ECO1AkvUCV9H"
      },
      "source": [
        "# Loading \n",
        "word2vec = {}\n",
        "with open ('glove.6B.100d.txt') as f:\n",
        "  for line in f:\n",
        "    values = line.split()\n",
        "    word = values[0]\n",
        "    vec = np.asarray(values[1:],dtype='float32')\n",
        "    word2vec[word] = vec\n",
        "print('Found %s word vectors.' % len(word2vec))"
      ],
      "execution_count": null,
      "outputs": []
    },
    {
      "cell_type": "code",
      "metadata": {
        "id": "WYvhZUUV0CZO"
      },
      "source": [
        "# Filling pre-trained embeddings\n",
        "num_words = min((MAX_VOCAB_SIZE, len(word2idx)+1)) # +1 added as word index in keras start from 0\n",
        "embedding_matrix = np.zeros((num_words,EMBEDDING_DIM))\n",
        "for word, i in word2idx.items():\n",
        "  if i < MAX_VOCAB_SIZE:\n",
        "    embedding_vector = word2vec.get(word)\n",
        "    if embedding_vector is not None:\n",
        "      embedding_matrix[i] = embedding_vector # Embedding with unknown words will be zeros"
      ],
      "execution_count": null,
      "outputs": []
    },
    {
      "cell_type": "code",
      "metadata": {
        "id": "zCJPe8OM0GGA"
      },
      "source": [
        "# Creating embedding layer, first two arguments are vocab size and embedding dimentions (V,D), next pre-trained embedding matrix, \n",
        "embedding_layer = Embedding(num_words,EMBEDDING_DIM,weights = [embedding_matrix], input_length=MAX_SEQUENCE_LENGTH,trainable = False)"
      ],
      "execution_count": null,
      "outputs": []
    },
    {
      "cell_type": "code",
      "metadata": {
        "id": "OxOPPvdi0ImX"
      },
      "source": [
        "cnn"
      ],
      "execution_count": null,
      "outputs": []
    },
    {
      "cell_type": "markdown",
      "metadata": {
        "id": "SVNgSdinba5S"
      },
      "source": [
        "#### Glove"
      ]
    },
    {
      "cell_type": "code",
      "metadata": {
        "id": "ioFZRiI9bcI5"
      },
      "source": [
        ""
      ],
      "execution_count": null,
      "outputs": []
    },
    {
      "cell_type": "markdown",
      "metadata": {
        "id": "niKpbV5_bcyZ"
      },
      "source": [
        "#### ELMo"
      ]
    },
    {
      "cell_type": "code",
      "metadata": {
        "id": "5jBkfBkTbfwJ"
      },
      "source": [
        ""
      ],
      "execution_count": null,
      "outputs": []
    },
    {
      "cell_type": "markdown",
      "metadata": {
        "id": "D5MRFHVebgUi"
      },
      "source": [
        "#### Flair"
      ]
    },
    {
      "cell_type": "code",
      "metadata": {
        "id": "utOohuodbhTp"
      },
      "source": [
        ""
      ],
      "execution_count": null,
      "outputs": []
    },
    {
      "cell_type": "markdown",
      "metadata": {
        "id": "eOAm96tebpZh"
      },
      "source": [
        "## Randomly initialized word embeddings with GRU and LSTM"
      ]
    },
    {
      "cell_type": "markdown",
      "metadata": {
        "id": "8qUlKgbGDMPY"
      },
      "source": [
        "### Fasttext like model (Randomly initialized word embedding)\n",
        "\n",
        "References :\n",
        "\n",
        "  * Paper: https://arxiv.org/pdf/1607.01759.pdf \n",
        "\n",
        "  1. https://nbviewer.jupyter.org/github/amaiya/ktrain/blob/master/tutorials/tutorial-04-text-classification.ipynb\n",
        "  2. https://github.com/mvdheram/Social-bias-Detection/blob/main/Baselines_anti.ipynb\n",
        "\n",
        "Model details :\n",
        "\n",
        "1. keras `Tokenizer` to tokenize the input sequences \n",
        "  * Create tokenizer with `Tokenizer(num_words=MAX_VOCAB_SIZE)`\n",
        "  * Fit on input sequences `tokenizer.fit_on_texts(sentences)`\n",
        "  * Generate input sequences with word ids using `tokenizer.texts_to_sequences(sentences)` \n",
        "2. Randomly initialized (weights) Keras embedding layer \n",
        "  * Dimentions (Vocab size,Dimentionality of each vocab) https://www.tensorflow.org/api_docs/python/tf/keras/layers/Embedding \n",
        "  * `Embedding(max_features, 64, input_length = maxlen)`\n",
        "3. `SpatialDropout1D = 0.25`\n",
        "4. `GlobalMaxPool1D()`, \n",
        "5. `BatchNormalization()`, \n",
        "6. Dense layer ,`relu` activation , \n",
        "7. Dense layer with output dimention (`Num_of_labels`), \n",
        "8. `loss_func = 'binary_crossentropy', activation = 'sigmoid'`   \n"
      ]
    },
    {
      "cell_type": "markdown",
      "metadata": {
        "id": "fVvFHil2DMPZ"
      },
      "source": [
        "Ktrain steps:\n",
        "\n",
        "1. Load the text data and corresponding preprocessing module using `ktrain.text`.\n",
        "  * Total instances : 16544\n",
        "    * Train instances : 14889 (90%)\n",
        "    * Test instances : 1655 (10%)\n",
        "2. Load corresponding model from `ktrain.text.text_classifier`\n",
        "3. Find best learning rate using `learner.lr_find`\n",
        "4. Train the model using *learning rate scheduler* from ktrain.\n",
        "5. Validate the test set with classification metrics. "
      ]
    },
    {
      "cell_type": "code",
      "metadata": {
        "id": "dsEyvyCPDMPb"
      },
      "source": [
        "# Number of epochs \n",
        "N_EPOCHS = 10\n",
        "\n",
        "# Model name \n",
        "MODEL_NAME = 'fasttext'"
      ],
      "execution_count": null,
      "outputs": []
    },
    {
      "cell_type": "code",
      "metadata": {
        "colab": {
          "base_uri": "https://localhost:8080/"
        },
        "id": "_iiQYLtuDMPc",
        "outputId": "9aada6bc-7409-48fd-8974-c21f353279d2"
      },
      "source": [
        "text.print_text_classifiers()"
      ],
      "execution_count": null,
      "outputs": [
        {
          "output_type": "stream",
          "text": [
            "fasttext: a fastText-like model [http://arxiv.org/pdf/1607.01759.pdf]\n",
            "logreg: logistic regression using a trainable Embedding layer\n",
            "nbsvm: NBSVM model [http://www.aclweb.org/anthology/P12-2018]\n",
            "bigru: Bidirectional GRU with pretrained fasttext word vectors [https://fasttext.cc/docs/en/crawl-vectors.html]\n",
            "standard_gru: simple 2-layer GRU with randomly initialized embeddings\n",
            "bert: Bidirectional Encoder Representations from Transformers (BERT) from keras_bert [https://arxiv.org/abs/1810.04805]\n",
            "distilbert: distilled, smaller, and faster BERT from Hugging Face transformers [https://arxiv.org/abs/1910.01108]\n"
          ],
          "name": "stdout"
        }
      ]
    },
    {
      "cell_type": "code",
      "metadata": {
        "colab": {
          "base_uri": "https://localhost:8080/"
        },
        "id": "lgInpcc1DMPe",
        "outputId": "78979e48-2380-45c7-ed34-a411dc0cec8f"
      },
      "source": [
        "df.columns"
      ],
      "execution_count": null,
      "outputs": [
        {
          "output_type": "execute_result",
          "data": {
            "text/plain": [
              "Index(['Ethnicity', 'gender', 'profession', 'religion', 'Anti-stereotype',\n",
              "       'stereotype', 'unrelated', 'sentence'],\n",
              "      dtype='object')"
            ]
          },
          "metadata": {
            "tags": []
          },
          "execution_count": 14
        }
      ]
    },
    {
      "cell_type": "code",
      "metadata": {
        "colab": {
          "base_uri": "https://localhost:8080/"
        },
        "id": "f69iehkmDMPf",
        "outputId": "04e8c108-517d-4eeb-d1cc-b95342cfbe1b"
      },
      "source": [
        "(x_train, y_train), (x_test, y_test), preproc = text.texts_from_df(df,'sentence',label_columns = ['Ethnicity', 'gender', 'profession', 'religion', 'Anti-stereotype',\n",
        "       'stereotype', 'unrelated'], maxlen = 70, max_features = 80000, preprocess_mode='standard', ngram_range=3)"
      ],
      "execution_count": null,
      "outputs": [
        {
          "output_type": "stream",
          "text": [
            "['Ethnicity', 'gender', 'profession', 'religion', 'Anti-stereotype', 'stereotype', 'unrelated']\n",
            "       Ethnicity  gender  profession  ...  Anti-stereotype  stereotype  unrelated\n",
            "14720        0.0     0.0         0.0  ...              0.0         0.0        1.0\n",
            "10039        0.0     0.0         1.0  ...              1.0         0.0        0.0\n",
            "14829        0.0     0.0         0.0  ...              0.0         0.0        1.0\n",
            "8289         1.0     0.0         0.0  ...              0.0         1.0        0.0\n",
            "15719        0.0     0.0         0.0  ...              0.0         0.0        1.0\n",
            "\n",
            "[5 rows x 7 columns]\n",
            "['Ethnicity', 'gender', 'profession', 'religion', 'Anti-stereotype', 'stereotype', 'unrelated']\n",
            "       Ethnicity  gender  profession  ...  Anti-stereotype  stereotype  unrelated\n",
            "8422         1.0     0.0         0.0  ...              0.0         1.0        0.0\n",
            "4678         0.0     0.0         1.0  ...              1.0         0.0        0.0\n",
            "9676         1.0     0.0         0.0  ...              1.0         0.0        0.0\n",
            "10058        0.0     1.0         0.0  ...              1.0         0.0        0.0\n",
            "243          1.0     0.0         0.0  ...              0.0         1.0        0.0\n",
            "\n",
            "[5 rows x 7 columns]\n",
            "language: en\n",
            "Word Counts: 11446\n",
            "Nrows: 14889\n",
            "14889 train sequences\n",
            "train sequence lengths:\n",
            "\tmean : 12\n",
            "\t95percentile : 24\n",
            "\t99percentile : 34\n",
            "Adding 3-gram features\n",
            "max_features changed to 235834 with addition of ngrams\n",
            "Average train sequence length with ngrams: 32\n",
            "train (w/ngrams) sequence lengths:\n",
            "\tmean : 32\n",
            "\t95percentile : 69\n",
            "\t99percentile : 99\n",
            "x_train shape: (14889,70)\n",
            "y_train shape: (14889, 7)\n",
            "Is Multi-Label? True\n",
            "1655 test sequences\n",
            "test sequence lengths:\n",
            "\tmean : 12\n",
            "\t95percentile : 24\n",
            "\t99percentile : 33\n",
            "Average test sequence length with ngrams: 25\n",
            "test (w/ngrams) sequence lengths:\n",
            "\tmean : 25\n",
            "\t95percentile : 54\n",
            "\t99percentile : 73\n",
            "x_test shape: (1655,70)\n",
            "y_test shape: (1655, 7)\n"
          ],
          "name": "stdout"
        }
      ]
    },
    {
      "cell_type": "code",
      "metadata": {
        "colab": {
          "base_uri": "https://localhost:8080/"
        },
        "id": "RH00E2knDMPk",
        "outputId": "321c38bc-7ef7-48a2-8ab4-5f6583e7b580"
      },
      "source": [
        "model = text.text_classifier('fasttext', (x_train, y_train) , preproc=preproc)"
      ],
      "execution_count": null,
      "outputs": [
        {
          "output_type": "stream",
          "text": [
            "Is Multi-Label? True\n",
            "compiling word ID features...\n",
            "maxlen is 70\n",
            "done.\n"
          ],
          "name": "stdout"
        }
      ]
    },
    {
      "cell_type": "code",
      "metadata": {
        "colab": {
          "base_uri": "https://localhost:8080/"
        },
        "id": "V_NwmbEqDMPl",
        "outputId": "0df7eca3-3b6d-494b-afc9-12a800693a33"
      },
      "source": [
        "model.summary()"
      ],
      "execution_count": null,
      "outputs": [
        {
          "output_type": "stream",
          "text": [
            "Model: \"sequential\"\n",
            "_________________________________________________________________\n",
            "Layer (type)                 Output Shape              Param #   \n",
            "=================================================================\n",
            "embedding (Embedding)        (None, 70, 64)            15093376  \n",
            "_________________________________________________________________\n",
            "spatial_dropout1d (SpatialDr (None, 70, 64)            0         \n",
            "_________________________________________________________________\n",
            "global_max_pooling1d (Global (None, 64)                0         \n",
            "_________________________________________________________________\n",
            "batch_normalization (BatchNo (None, 64)                256       \n",
            "_________________________________________________________________\n",
            "dense (Dense)                (None, 64)                4160      \n",
            "_________________________________________________________________\n",
            "dropout (Dropout)            (None, 64)                0         \n",
            "_________________________________________________________________\n",
            "dense_1 (Dense)              (None, 7)                 455       \n",
            "=================================================================\n",
            "Total params: 15,098,247\n",
            "Trainable params: 15,098,119\n",
            "Non-trainable params: 128\n",
            "_________________________________________________________________\n"
          ],
          "name": "stdout"
        }
      ]
    },
    {
      "cell_type": "code",
      "metadata": {
        "id": "IL_7sJroDMPm"
      },
      "source": [
        "learner = ktrain.get_learner(model, \n",
        "                             train_data=(x_train, y_train),\n",
        "                             val_data=(x_test, y_test))"
      ],
      "execution_count": null,
      "outputs": []
    },
    {
      "cell_type": "code",
      "metadata": {
        "colab": {
          "base_uri": "https://localhost:8080/",
          "height": 504
        },
        "id": "kpkgZOgsDMPm",
        "outputId": "62813755-79ef-4684-cbcf-b83afc61356e"
      },
      "source": [
        "learner.lr_find(show_plot=True)"
      ],
      "execution_count": null,
      "outputs": [
        {
          "output_type": "stream",
          "text": [
            "simulating training for different learning rates... this may take a few moments...\n",
            "Epoch 1/1024\n",
            "466/466 [==============================] - 70s 147ms/step - loss: 0.8943 - accuracy: 0.1858\n",
            "Epoch 2/1024\n",
            "466/466 [==============================] - 68s 145ms/step - loss: 0.7937 - accuracy: 0.1800\n",
            "Epoch 3/1024\n",
            "466/466 [==============================] - 68s 146ms/step - loss: 0.5094 - accuracy: 0.2730\n",
            "Epoch 4/1024\n",
            "466/466 [==============================] - 66s 142ms/step - loss: 0.5524 - accuracy: 0.0404\n",
            "\n",
            "\n",
            "done.\n",
            "Visually inspect loss plot and select learning rate associated with falling loss\n"
          ],
          "name": "stdout"
        },
        {
          "output_type": "display_data",
          "data": {
            "image/png": "[encoded data removed]",
            "text/plain": [
              "<Figure size 432x288 with 1 Axes>"
            ]
          },
          "metadata": {
            "tags": [],
            "needs_background": "light"
          }
        }
      ]
    },
    {
      "cell_type": "code",
      "metadata": {
        "colab": {
          "base_uri": "https://localhost:8080/"
        },
        "id": "GKyY_6ERDMPn",
        "outputId": "5326e57b-bd4e-4e3a-ab5a-5a48e2f4b613"
      },
      "source": [
        "learner.autofit(5e-2, 5)"
      ],
      "execution_count": null,
      "outputs": [
        {
          "output_type": "stream",
          "text": [
            "\n",
            "\n",
            "begin training using triangular learning rate policy with max lr of 0.05...\n",
            "Epoch 1/5\n",
            "466/466 [==============================] - 68s 146ms/step - loss: 0.4321 - accuracy: 0.3482 - val_loss: 0.4143 - val_accuracy: 0.4900\n",
            "Epoch 2/5\n",
            "466/466 [==============================] - 68s 146ms/step - loss: 0.4258 - accuracy: 0.3500 - val_loss: 0.4499 - val_accuracy: 0.4453\n",
            "Epoch 3/5\n",
            "466/466 [==============================] - 68s 146ms/step - loss: 0.4179 - accuracy: 0.3684 - val_loss: 0.4412 - val_accuracy: 0.4979\n",
            "Epoch 4/5\n",
            "466/466 [==============================] - 68s 146ms/step - loss: 0.4228 - accuracy: 0.3707 - val_loss: 0.5003 - val_accuracy: 0.5130\n",
            "Epoch 5/5\n",
            "466/466 [==============================] - 68s 146ms/step - loss: 0.4241 - accuracy: 0.3557 - val_loss: 0.4239 - val_accuracy: 0.4586\n"
          ],
          "name": "stdout"
        },
        {
          "output_type": "execute_result",
          "data": {
            "text/plain": [
              "<tensorflow.python.keras.callbacks.History at 0x7f8416d25bd0>"
            ]
          },
          "metadata": {
            "tags": []
          },
          "execution_count": 23
        }
      ]
    },
    {
      "cell_type": "code",
      "metadata": {
        "colab": {
          "base_uri": "https://localhost:8080/",
          "height": 295
        },
        "id": "kxKasQeRDMPo",
        "outputId": "31feba9c-277f-4a63-d23b-f83f2a4ee893"
      },
      "source": [
        "learner.plot('loss')"
      ],
      "execution_count": null,
      "outputs": [
        {
          "output_type": "display_data",
          "data": {
            "image/png": "[encoded data removed]",
            "text/plain": [
              "<Figure size 432x288 with 1 Axes>"
            ]
          },
          "metadata": {
            "tags": [],
            "needs_background": "light"
          }
        }
      ]
    },
    {
      "cell_type": "code",
      "metadata": {
        "id": "4kcmN8twDMPp"
      },
      "source": [
        "test_pred = learner.predict()\n",
        "test_df_labels = y_test"
      ],
      "execution_count": null,
      "outputs": []
    },
    {
      "cell_type": "markdown",
      "metadata": {
        "id": "RrNpbLc4DMPq"
      },
      "source": [
        "ROC_AUC of final model"
      ]
    },
    {
      "cell_type": "code",
      "metadata": {
        "colab": {
          "base_uri": "https://localhost:8080/"
        },
        "id": "Wt3-DkRzDMPq",
        "outputId": "de959837-ffb4-4680-b77d-35db133d8b20"
      },
      "source": [
        "score = roc_auc_score(test_df_labels, test_pred)\n",
        "print(\"\\n ROC-AUC score: %.6f \\n\" % (score))"
      ],
      "execution_count": null,
      "outputs": [
        {
          "output_type": "stream",
          "text": [
            "\n",
            " ROC-AUC score: 0.800436 \n",
            "\n"
          ],
          "name": "stdout"
        }
      ]
    },
    {
      "cell_type": "markdown",
      "metadata": {
        "id": "9mra7mlQDMPr"
      },
      "source": [
        "per_class ROC_AUC"
      ]
    },
    {
      "cell_type": "code",
      "metadata": {
        "colab": {
          "base_uri": "https://localhost:8080/"
        },
        "id": "n1X1TcHPDMPs",
        "outputId": "d0717506-ca6e-4a8e-b8da-36a9e778c8a1"
      },
      "source": [
        "from sklearn.metrics import roc_curve\n",
        "from collections import OrderedDict\n",
        "import numpy as np\n",
        "\n",
        "\n",
        "opti_threshold = dict()\n",
        "LABEL_COLUMNS = ['Ethnicity','gender','profession','religion','Anti-stereotype','stereotype','unrelated']\n",
        "\n",
        "for i in range(7):\n",
        "  fpr, tpr, thresholds = roc_curve(test_df_labels[:,i], test_pred[:,i])\n",
        "  print(\"AUC_ROC_score of %s is %s:\"% (LABEL_COLUMNS[i],roc_auc_score(test_df_labels[:,i], test_pred[:,i])))\n",
        "  optimal_idx = np.argmax(tpr + (1- fpr)) # Return indices of maximum array;  Criterion - Maximise TPR(recall) and TNR(specificity) \n",
        "  optimal_threshold = thresholds[optimal_idx]\n",
        "  print(\"Optimal threshold value of %s is %s:\\n\" % (LABEL_COLUMNS[i], optimal_threshold))\n",
        "  opti_threshold[i] = optimal_threshold"
      ],
      "execution_count": null,
      "outputs": [
        {
          "output_type": "stream",
          "text": [
            "AUC_ROC_score of Ethnicity is 0.8981084741789388:\n",
            "Optimal threshold value of Ethnicity is 0.2865471:\n",
            "\n",
            "AUC_ROC_score of gender is 0.8458112611073137:\n",
            "Optimal threshold value of gender is 0.11651024:\n",
            "\n",
            "AUC_ROC_score of profession is 0.9210398964891905:\n",
            "Optimal threshold value of profession is 0.2396673:\n",
            "\n",
            "AUC_ROC_score of religion is 0.9283522695897067:\n",
            "Optimal threshold value of religion is 0.0776653:\n",
            "\n",
            "AUC_ROC_score of Anti-stereotype is 0.632736256435808:\n",
            "Optimal threshold value of Anti-stereotype is 0.3107939:\n",
            "\n",
            "AUC_ROC_score of stereotype is 0.6740755422587884:\n",
            "Optimal threshold value of stereotype is 0.41457725:\n",
            "\n",
            "AUC_ROC_score of unrelated is 0.7029294597745823:\n",
            "Optimal threshold value of unrelated is 0.26352823:\n",
            "\n"
          ],
          "name": "stdout"
        }
      ]
    },
    {
      "cell_type": "markdown",
      "metadata": {
        "id": "fVX9lbw8DMPt"
      },
      "source": [
        "Classification report \n",
        "\n",
        "Threshold = 0.5"
      ]
    },
    {
      "cell_type": "code",
      "metadata": {
        "id": "vERED1FSDMPt"
      },
      "source": [
        "from sklearn.metrics import classification_report, multilabel_confusion_matrix\n",
        "\n",
        "y_pred = np.where(test_pred > 0.5, upper, lower)\n",
        "classification_report = classification_report(\n",
        "  test_df_labels, \n",
        "  y_pred, \n",
        "  target_names=LABEL_COLUMNS, \n",
        "  zero_division=0,\n",
        ")"
      ],
      "execution_count": null,
      "outputs": []
    },
    {
      "cell_type": "code",
      "metadata": {
        "colab": {
          "base_uri": "https://localhost:8080/"
        },
        "id": "_wD-v5CkDMPu",
        "outputId": "7c257048-9695-41f9-f7b4-2bb8c7ffdd90"
      },
      "source": [
        "print(classification_report)"
      ],
      "execution_count": null,
      "outputs": [
        {
          "output_type": "stream",
          "text": [
            "                 precision    recall  f1-score   support\n",
            "\n",
            "      Ethnicity       0.78      0.65      0.71       562\n",
            "         gender       0.00      0.00      0.00       192\n",
            "     profession       0.63      0.39      0.48       287\n",
            "       religion       0.97      0.63      0.77       199\n",
            "Anti-stereotype       0.38      0.01      0.02       540\n",
            "     stereotype       0.97      0.20      0.33       700\n",
            "      unrelated       0.81      0.42      0.55       415\n",
            "\n",
            "      micro avg       0.80      0.32      0.45      2895\n",
            "      macro avg       0.65      0.33      0.41      2895\n",
            "   weighted avg       0.70      0.32      0.40      2895\n",
            "    samples avg       0.47      0.33      0.38      2895\n",
            "\n"
          ],
          "name": "stdout"
        }
      ]
    },
    {
      "cell_type": "markdown",
      "metadata": {
        "id": "YaBvYUWsDMPv"
      },
      "source": [
        "Confusion matrix"
      ]
    },
    {
      "cell_type": "code",
      "metadata": {
        "id": "HyuBTD-0DMPv"
      },
      "source": [
        "pip install git+https://github.com/gmihaila/ml_things"
      ],
      "execution_count": null,
      "outputs": []
    },
    {
      "cell_type": "code",
      "metadata": {
        "id": "SxERkMc_DMPw"
      },
      "source": [
        "import matplotlib.pyplot as plt\n",
        "import seaborn as sns\n",
        "from ml_things import plot_confusion_matrix\n",
        "\n",
        "cf = multilabel_confusion_matrix(test_df_labels, \n",
        "  y_pred)"
      ],
      "execution_count": null,
      "outputs": []
    },
    {
      "cell_type": "code",
      "metadata": {
        "colab": {
          "base_uri": "https://localhost:8080/",
          "height": 1000
        },
        "id": "lHjka83XDMPx",
        "outputId": "4c05383e-250b-44c7-e26d-014d048e1805"
      },
      "source": [
        "LABEL_COLUMNS = ['Ethnicity','gender','profession','religion','Anti-stereotype','stereotype','unrelated']\n",
        "for i,val in enumerate(LABEL_COLUMNS):\n",
        "  plot_confusion_matrix(y_true=test_df_labels[:,i], y_pred=y_pred[:,i], magnify=0.1, use_title='Confusion Matrix'+\" \"+ val, path='plot_confusion_matrix'+ \"_\" + val +\".png\");"
      ],
      "execution_count": null,
      "outputs": [
        {
          "output_type": "stream",
          "text": [
            "Confusion matrix, without normalization\n"
          ],
          "name": "stdout"
        },
        {
          "output_type": "display_data",
          "data": {
            "image/png": "[encoded data removed]",
            "text/plain": [
              "<Figure size 1944x432 with 2 Axes>"
            ]
          },
          "metadata": {
            "tags": []
          }
        },
        {
          "output_type": "stream",
          "text": [
            "Confusion matrix, without normalization\n"
          ],
          "name": "stdout"
        },
        {
          "output_type": "display_data",
          "data": {
            "image/png": "[encoded data removed]",
            "text/plain": [
              "<Figure size 1944x432 with 2 Axes>"
            ]
          },
          "metadata": {
            "tags": []
          }
        },
        {
          "output_type": "stream",
          "text": [
            "Confusion matrix, without normalization\n"
          ],
          "name": "stdout"
        },
        {
          "output_type": "display_data",
          "data": {
            "image/png": "[encoded data removed]",
            "text/plain": [
              "<Figure size 1944x432 with 2 Axes>"
            ]
          },
          "metadata": {
            "tags": []
          }
        },
        {
          "output_type": "stream",
          "text": [
            "Confusion matrix, without normalization\n"
          ],
          "name": "stdout"
        },
        {
          "output_type": "display_data",
          "data": {
            "image/png": "[encoded data removed]",
            "text/plain": [
              "<Figure size 1944x432 with 2 Axes>"
            ]
          },
          "metadata": {
            "tags": []
          }
        },
        {
          "output_type": "stream",
          "text": [
            "Confusion matrix, without normalization\n"
          ],
          "name": "stdout"
        },
        {
          "output_type": "display_data",
          "data": {
            "image/png": "[encoded data removed]",
            "text/plain": [
              "<Figure size 1944x432 with 2 Axes>"
            ]
          },
          "metadata": {
            "tags": []
          }
        },
        {
          "output_type": "stream",
          "text": [
            "Confusion matrix, without normalization\n"
          ],
          "name": "stdout"
        },
        {
          "output_type": "display_data",
          "data": {
            "image/png": "[encoded data removed]",
            "text/plain": [
              "<Figure size 1944x432 with 2 Axes>"
            ]
          },
          "metadata": {
            "tags": []
          }
        },
        {
          "output_type": "stream",
          "text": [
            "Confusion matrix, without normalization\n"
          ],
          "name": "stdout"
        },
        {
          "output_type": "display_data",
          "data": {
            "image/png": "[encoded data removed]",
            "text/plain": [
              "<Figure size 1944x432 with 2 Axes>"
            ]
          },
          "metadata": {
            "tags": []
          }
        }
      ]
    },
    {
      "cell_type": "markdown",
      "metadata": {
        "id": "Q86_KCBwDMPz"
      },
      "source": [
        "Classification metrics "
      ]
    },
    {
      "cell_type": "code",
      "metadata": {
        "colab": {
          "base_uri": "https://localhost:8080/"
        },
        "id": "wpyxqsNIDMPz",
        "outputId": "bd0622b7-eea6-4e0a-da3d-7f91f75e03d7"
      },
      "source": [
        "write_to_file = True \n",
        "classification_metrics(test_pred, test_df_labels,\"nbsvm\",0.5)"
      ],
      "execution_count": null,
      "outputs": [
        {
          "output_type": "stream",
          "text": [
            "Evaluation metrics for test set:\n",
            "\n",
            " ROC-AUC score: 0.800436 \n",
            "\n",
            "\n",
            " Subset accuracy : 0.183686 \n",
            "\n",
            "\n",
            " hamming_loss : 0.190073 \n",
            "\n",
            "  Saving the metrics into a file: eval_results_nbsvm_0.5_.json with threshold :0.5\n"
          ],
          "name": "stdout"
        },
        {
          "output_type": "stream",
          "text": [
            "/usr/local/lib/python3.7/dist-packages/sklearn/metrics/_classification.py:1221: UndefinedMetricWarning: Precision is ill-defined and being set to 0.0 in samples with no predicted labels. Use `zero_division` parameter to control this behavior.\n",
            "  _warn_prf(average, modifier, msg_start, len(result))\n",
            "/usr/local/lib/python3.7/dist-packages/sklearn/metrics/_classification.py:1221: UndefinedMetricWarning: Precision and F-score are ill-defined and being set to 0.0 in labels with no predicted samples. Use `zero_division` parameter to control this behavior.\n",
            "  _warn_prf(average, modifier, msg_start, len(result))\n",
            "/usr/local/lib/python3.7/dist-packages/sklearn/metrics/_classification.py:1221: UndefinedMetricWarning: Precision and F-score are ill-defined and being set to 0.0 in samples with no predicted labels. Use `zero_division` parameter to control this behavior.\n",
            "  _warn_prf(average, modifier, msg_start, len(result))\n"
          ],
          "name": "stderr"
        }
      ]
    },
    {
      "cell_type": "markdown",
      "metadata": {
        "id": "6_qVBLLmDyRP"
      },
      "source": [
        "### Randomly initialized embedding with GRU"
      ]
    },
    {
      "cell_type": "code",
      "metadata": {
        "id": "mXfbkKgQD45y"
      },
      "source": [
        ""
      ],
      "execution_count": null,
      "outputs": []
    }
  ]
}