{
  "nbformat": 4,
  "nbformat_minor": 0,
  "metadata": {
    "colab": {
      "name": "Machine learning classifiers (Baselines).ipynb",
      "provenance": [],
      "include_colab_link": true
    },
    "kernelspec": {
      "name": "python3",
      "display_name": "Python 3"
    },
    "language_info": {
      "name": "python"
    }
  },
  "cells": [
    {
      "cell_type": "markdown",
      "metadata": {
        "id": "view-in-github",
        "colab_type": "text"
      },
      "source": [
        "<a href=\"https://colab.research.google.com/github/mvdheram/Stereotypical-Social-bias-detection-/blob/Machine-learning-classifiers/Machine_learning_classifiers_(Baselines).ipynb\" target=\"_parent\"><img src=\"https://colab.research.google.com/assets/colab-badge.svg\" alt=\"Open In Colab\"/></a>"
      ]
    },
    {
      "cell_type": "markdown",
      "metadata": {
        "id": "v3LMEAQtqe66"
      },
      "source": [
        "Links:\n",
        "\n",
        "1. https://github.com/amaiya/ktrain/blob/5edd86ff679d256c561453188602e9b2d4d3746e/ktrain/text/models.py\n",
        "2. Flair : https://towardsdatascience.com/text-classification-with-state-of-the-art-nlp-library-flair-b541d7add21f\n",
        "3. DeepNLP: https://github.com/mvdheram/DeepNLP/blob/master/DeepNLP_1.ipynb\n",
        "4. Trained Baselines : https://github.com/mvdheram/DeepNLP/blob/master/DeepNLP_1.ipynb"
      ]
    },
    {
      "cell_type": "markdown",
      "metadata": {
        "id": "sBL5XpyLcEs5"
      },
      "source": [
        "# Loading dataset"
      ]
    },
    {
      "cell_type": "code",
      "metadata": {
        "id": "FzKPCQLpoGH_",
        "colab": {
          "base_uri": "https://localhost:8080/"
        },
        "outputId": "219bdedb-2347-4554-fcaa-b1b89335253f"
      },
      "source": [
        "!pip install git+https://github.com/gmihaila/ml_things --quiet"
      ],
      "execution_count": 1,
      "outputs": [
        {
          "output_type": "stream",
          "text": [
            "\u001b[K     |████████████████████████████████| 64 kB 1.6 MB/s \n",
            "\u001b[K     |████████████████████████████████| 10.3 MB 22.6 MB/s \n",
            "\u001b[?25h  Building wheel for ml-things (setup.py) ... \u001b[?25l\u001b[?25hdone\n",
            "  Building wheel for ftfy (setup.py) ... \u001b[?25l\u001b[?25hdone\n",
            "\u001b[31mERROR: pip's dependency resolver does not currently take into account all the packages that are installed. This behaviour is the source of the following dependency conflicts.\n",
            "albumentations 0.1.12 requires imgaug<0.2.7,>=0.2.5, but you have imgaug 0.2.9 which is incompatible.\u001b[0m\n"
          ],
          "name": "stdout"
        }
      ]
    },
    {
      "cell_type": "code",
      "metadata": {
        "id": "Zs8QWWVHS0kZ"
      },
      "source": [
        "import pandas as pd\n",
        "import matplotlib.pyplot as plt"
      ],
      "execution_count": 2,
      "outputs": []
    },
    {
      "cell_type": "code",
      "metadata": {
        "colab": {
          "base_uri": "https://localhost:8080/"
        },
        "id": "nBHu71wHmqOh",
        "outputId": "98c50646-7764-4133-dc4a-4fe90a4f1819"
      },
      "source": [
        "from google.colab import drive\n",
        "drive.mount('/content/drive')"
      ],
      "execution_count": 3,
      "outputs": [
        {
          "output_type": "stream",
          "text": [
            "Mounted at /content/drive\n"
          ],
          "name": "stdout"
        }
      ]
    },
    {
      "cell_type": "code",
      "metadata": {
        "id": "8adqvI5gTMnE"
      },
      "source": [
        "df = pd.read_csv('/content/drive/MyDrive/Trained_models/mult_label_dataset/Unrelated_samples_adjusted/ohe_multilabel.csv', index_col = 0)"
      ],
      "execution_count": 4,
      "outputs": []
    },
    {
      "cell_type": "code",
      "metadata": {
        "colab": {
          "base_uri": "https://localhost:8080/",
          "height": 419
        },
        "id": "iOgFp_bmtsb4",
        "outputId": "a7099749-d4e5-4ea2-ef2f-d9ef066fc757"
      },
      "source": [
        "df"
      ],
      "execution_count": 5,
      "outputs": [
        {
          "output_type": "execute_result",
          "data": {
            "text/html": [
              "<div>\n",
              "<style scoped>\n",
              "    .dataframe tbody tr th:only-of-type {\n",
              "        vertical-align: middle;\n",
              "    }\n",
              "\n",
              "    .dataframe tbody tr th {\n",
              "        vertical-align: top;\n",
              "    }\n",
              "\n",
              "    .dataframe thead th {\n",
              "        text-align: right;\n",
              "    }\n",
              "</style>\n",
              "<table border=\"1\" class=\"dataframe\">\n",
              "  <thead>\n",
              "    <tr style=\"text-align: right;\">\n",
              "      <th></th>\n",
              "      <th>Ethnicity</th>\n",
              "      <th>gender</th>\n",
              "      <th>profession</th>\n",
              "      <th>religion</th>\n",
              "      <th>Anti-stereotype</th>\n",
              "      <th>stereotype</th>\n",
              "      <th>unrelated</th>\n",
              "      <th>sentence</th>\n",
              "    </tr>\n",
              "  </thead>\n",
              "  <tbody>\n",
              "    <tr>\n",
              "      <th>0</th>\n",
              "      <td>1.0</td>\n",
              "      <td>0.0</td>\n",
              "      <td>0.0</td>\n",
              "      <td>0.0</td>\n",
              "      <td>0.0</td>\n",
              "      <td>1.0</td>\n",
              "      <td>0.0</td>\n",
              "      <td>Many people live in Ethiopia. The people are v...</td>\n",
              "    </tr>\n",
              "    <tr>\n",
              "      <th>1</th>\n",
              "      <td>1.0</td>\n",
              "      <td>0.0</td>\n",
              "      <td>0.0</td>\n",
              "      <td>0.0</td>\n",
              "      <td>0.0</td>\n",
              "      <td>1.0</td>\n",
              "      <td>0.0</td>\n",
              "      <td>My professor is a hispanic man He came here il...</td>\n",
              "    </tr>\n",
              "    <tr>\n",
              "      <th>2</th>\n",
              "      <td>0.0</td>\n",
              "      <td>1.0</td>\n",
              "      <td>0.0</td>\n",
              "      <td>0.0</td>\n",
              "      <td>0.0</td>\n",
              "      <td>1.0</td>\n",
              "      <td>0.0</td>\n",
              "      <td>The schoolgirl is walking down the street. She...</td>\n",
              "    </tr>\n",
              "    <tr>\n",
              "      <th>3</th>\n",
              "      <td>1.0</td>\n",
              "      <td>0.0</td>\n",
              "      <td>0.0</td>\n",
              "      <td>0.0</td>\n",
              "      <td>0.0</td>\n",
              "      <td>1.0</td>\n",
              "      <td>0.0</td>\n",
              "      <td>We'll likely fly over Cape Verde on our flight...</td>\n",
              "    </tr>\n",
              "    <tr>\n",
              "      <th>4</th>\n",
              "      <td>1.0</td>\n",
              "      <td>0.0</td>\n",
              "      <td>0.0</td>\n",
              "      <td>0.0</td>\n",
              "      <td>0.0</td>\n",
              "      <td>1.0</td>\n",
              "      <td>0.0</td>\n",
              "      <td>I know many people who are Russian. They love ...</td>\n",
              "    </tr>\n",
              "    <tr>\n",
              "      <th>...</th>\n",
              "      <td>...</td>\n",
              "      <td>...</td>\n",
              "      <td>...</td>\n",
              "      <td>...</td>\n",
              "      <td>...</td>\n",
              "      <td>...</td>\n",
              "      <td>...</td>\n",
              "      <td>...</td>\n",
              "    </tr>\n",
              "    <tr>\n",
              "      <th>16555</th>\n",
              "      <td>0.0</td>\n",
              "      <td>0.0</td>\n",
              "      <td>0.0</td>\n",
              "      <td>0.0</td>\n",
              "      <td>0.0</td>\n",
              "      <td>0.0</td>\n",
              "      <td>1.0</td>\n",
              "      <td>Cookies are good substitutes with liquid milk.</td>\n",
              "    </tr>\n",
              "    <tr>\n",
              "      <th>16556</th>\n",
              "      <td>0.0</td>\n",
              "      <td>0.0</td>\n",
              "      <td>0.0</td>\n",
              "      <td>0.0</td>\n",
              "      <td>0.0</td>\n",
              "      <td>0.0</td>\n",
              "      <td>1.0</td>\n",
              "      <td>Jollof - Rice cereal is totally better than Ja...</td>\n",
              "    </tr>\n",
              "    <tr>\n",
              "      <th>16557</th>\n",
              "      <td>0.0</td>\n",
              "      <td>0.0</td>\n",
              "      <td>0.0</td>\n",
              "      <td>0.0</td>\n",
              "      <td>0.0</td>\n",
              "      <td>0.0</td>\n",
              "      <td>1.0</td>\n",
              "      <td>Biking out is an economical energy-efficient m...</td>\n",
              "    </tr>\n",
              "    <tr>\n",
              "      <th>16558</th>\n",
              "      <td>0.0</td>\n",
              "      <td>0.0</td>\n",
              "      <td>0.0</td>\n",
              "      <td>0.0</td>\n",
              "      <td>0.0</td>\n",
              "      <td>0.0</td>\n",
              "      <td>1.0</td>\n",
              "      <td>I might see the little dog is a still in need ...</td>\n",
              "    </tr>\n",
              "    <tr>\n",
              "      <th>16559</th>\n",
              "      <td>0.0</td>\n",
              "      <td>0.0</td>\n",
              "      <td>0.0</td>\n",
              "      <td>0.0</td>\n",
              "      <td>0.0</td>\n",
              "      <td>0.0</td>\n",
              "      <td>1.0</td>\n",
              "      <td>going to the California beach in the morning  ...</td>\n",
              "    </tr>\n",
              "  </tbody>\n",
              "</table>\n",
              "<p>16560 rows × 8 columns</p>\n",
              "</div>"
            ],
            "text/plain": [
              "       Ethnicity  ...                                           sentence\n",
              "0            1.0  ...  Many people live in Ethiopia. The people are v...\n",
              "1            1.0  ...  My professor is a hispanic man He came here il...\n",
              "2            0.0  ...  The schoolgirl is walking down the street. She...\n",
              "3            1.0  ...  We'll likely fly over Cape Verde on our flight...\n",
              "4            1.0  ...  I know many people who are Russian. They love ...\n",
              "...          ...  ...                                                ...\n",
              "16555        0.0  ...     Cookies are good substitutes with liquid milk.\n",
              "16556        0.0  ...  Jollof - Rice cereal is totally better than Ja...\n",
              "16557        0.0  ...  Biking out is an economical energy-efficient m...\n",
              "16558        0.0  ...  I might see the little dog is a still in need ...\n",
              "16559        0.0  ...  going to the California beach in the morning  ...\n",
              "\n",
              "[16560 rows x 8 columns]"
            ]
          },
          "metadata": {},
          "execution_count": 5
        }
      ]
    },
    {
      "cell_type": "code",
      "metadata": {
        "id": "kWJjN78DTbTt"
      },
      "source": [
        "y = df.iloc[:,:-1].values\n",
        "X = df.iloc[:,-1].values"
      ],
      "execution_count": 6,
      "outputs": []
    },
    {
      "cell_type": "code",
      "metadata": {
        "colab": {
          "base_uri": "https://localhost:8080/"
        },
        "id": "SmwCxh0PTc2U",
        "outputId": "84d54fb8-d10c-4338-e6f4-2f0e245976aa"
      },
      "source": [
        "X"
      ],
      "execution_count": 7,
      "outputs": [
        {
          "output_type": "execute_result",
          "data": {
            "text/plain": [
              "array(['Many people live in Ethiopia. The people are very thin and good at distance running.',\n",
              "       'My professor is a hispanic man He came here illegally',\n",
              "       'The schoolgirl is walking down the street. She is a target for child predators.',\n",
              "       ...,\n",
              "       'Biking out is an economical energy-efficient mode<unk> of transportation.',\n",
              "       'I might see the little dog is a still in need of food, I will go to through the park grocery store and get him find some food and get treats.',\n",
              "       'going to the California beach in the morning  which is so so cool'],\n",
              "      dtype=object)"
            ]
          },
          "metadata": {},
          "execution_count": 7
        }
      ]
    },
    {
      "cell_type": "code",
      "metadata": {
        "colab": {
          "base_uri": "https://localhost:8080/"
        },
        "id": "F5hdjxMITeVh",
        "outputId": "c0def353-636a-4857-916f-12aac5007261"
      },
      "source": [
        "y"
      ],
      "execution_count": 8,
      "outputs": [
        {
          "output_type": "execute_result",
          "data": {
            "text/plain": [
              "array([[1., 0., 0., ..., 0., 1., 0.],\n",
              "       [1., 0., 0., ..., 0., 1., 0.],\n",
              "       [0., 1., 0., ..., 0., 1., 0.],\n",
              "       ...,\n",
              "       [0., 0., 0., ..., 0., 0., 1.],\n",
              "       [0., 0., 0., ..., 0., 0., 1.],\n",
              "       [0., 0., 0., ..., 0., 0., 1.]])"
            ]
          },
          "metadata": {},
          "execution_count": 8
        }
      ]
    },
    {
      "cell_type": "code",
      "metadata": {
        "id": "gvxwBVsaUgMF"
      },
      "source": [
        "MAX_LEN = 50\n",
        "RANDOM_SEED = 47"
      ],
      "execution_count": 9,
      "outputs": []
    },
    {
      "cell_type": "code",
      "metadata": {
        "id": "7usepriRO9yZ"
      },
      "source": [
        "LABEL_COLUMN = ['Ethnicity',\t'gender'\t,'profession'\t,'religion',\t'Anti-stereotype',\t'stereotype',\t'unrelated']"
      ],
      "execution_count": 10,
      "outputs": []
    },
    {
      "cell_type": "code",
      "metadata": {
        "id": "UAFD-634ULmH"
      },
      "source": [
        "from sklearn.model_selection import train_test_split\n",
        "\n",
        "train_df_text, test_df_text, train_df_labels,test_df_labels = train_test_split(X,y, test_size=0.3, random_state=RANDOM_SEED, stratify = y)\n",
        "val_df_text, test_df_text, val_df_labels,test_df_labels = train_test_split(test_df_text,test_df_labels, test_size=0.5, random_state=RANDOM_SEED,stratify = test_df_labels)"
      ],
      "execution_count": 11,
      "outputs": []
    },
    {
      "cell_type": "code",
      "metadata": {
        "id": "dTpY3Vy3O7Hg"
      },
      "source": [
        "train_df_labels = pd.DataFrame(train_df_labels, columns= LABEL_COLUMN)\n",
        "val_df_labels = pd.DataFrame(val_df_labels, columns= LABEL_COLUMN)\n",
        "test_df_labels = pd.DataFrame(test_df_labels, columns= LABEL_COLUMN)\n",
        "train_df_text = pd.DataFrame(train_df_text, columns = ['sentence'])\n",
        "val_df_text = pd.DataFrame(val_df_text, columns = ['sentence'])\n",
        "test_df_text = pd.DataFrame(test_df_text, columns = ['sentence'])"
      ],
      "execution_count": 12,
      "outputs": []
    },
    {
      "cell_type": "code",
      "metadata": {
        "id": "jvuTsDvhiP8Q"
      },
      "source": [
        "train_df = pd.concat([train_df_text,train_df_labels], axis = 1)\n",
        "val_df = pd.concat([val_df_text,val_df_labels], axis = 1)\n",
        "test_df = pd.concat([test_df_text,test_df_labels], axis = 1)"
      ],
      "execution_count": 13,
      "outputs": []
    },
    {
      "cell_type": "code",
      "metadata": {
        "id": "3eJo2msAojg8"
      },
      "source": [
        "LABELS = ['Ethnicity','gender','profession','religion','Anti-stereotype','stereotype','unrelated']"
      ],
      "execution_count": 14,
      "outputs": []
    },
    {
      "cell_type": "markdown",
      "metadata": {
        "id": "kuVhP6A9ZI1y"
      },
      "source": [
        "# Classification metrics"
      ]
    },
    {
      "cell_type": "code",
      "metadata": {
        "id": "aR-BDeQ-Wrdu"
      },
      "source": [
        "def Accuracy(y_true, y_pred):\n",
        "  temp = 0\n",
        "  for i in range(y_true.shape[0]):\n",
        "      temp += sum(np.logical_and(y_true[i], y_pred[i])) / sum(np.logical_or(y_true[i], y_pred[i]))\n",
        "  return temp / y_true.shape[0]"
      ],
      "execution_count": 15,
      "outputs": []
    },
    {
      "cell_type": "code",
      "metadata": {
        "id": "fHt7W1ljoZu6"
      },
      "source": [
        "from sklearn.metrics import f1_score, recall_score, precision_score, classification_report,hamming_loss, roc_auc_score, accuracy_score,multilabel_confusion_matrix, precision_recall_fscore_support\n",
        "import numpy as np\n",
        "import json\n",
        "\n",
        "upper, lower = 1, 0\n",
        "LABELS = ['Ethnicity','gender','profession','religion','Anti-stereotype','stereotype','unrelated']\n",
        "\n",
        "def classification_metrics(test_pred,labels,model_name,threshold):\n",
        "\n",
        "  print(\"Evaluation metrics for test set:\")\n",
        "  y_pred = np.where(test_pred > threshold, upper, lower)\n",
        "\n",
        "  ROC_AUC_score = roc_auc_score(test_df_labels, test_pred)\n",
        "  accuracy = accuracy_score(labels, y_pred)\n",
        "  hloss = hamming_loss(labels, y_pred)\n",
        "  hscore = Accuracy(labels, y_pred)\n",
        "\n",
        "  precision_sample_average = precision_score(y_true=labels, y_pred=y_pred, average='samples')\n",
        "  recall_sample_average = recall_score(y_true=labels, y_pred=y_pred, average='samples')\n",
        "  f1_sample_average= f1_score(y_true=labels, y_pred=y_pred, average='samples')\n",
        "\n",
        "  cr = classification_report(labels, y_pred, labels=list(range(len(LABELS))), target_names=LABELS, output_dict=True)\n",
        "  cf = multilabel_confusion_matrix(test_df_labels, \n",
        "  y_pred)\n",
        "\n",
        "  model_metrics = {}\n",
        "  model_metrics[\"AUC_ROC_score\"] = ROC_AUC_score\n",
        "  model_metrics[\"subset_accuracy\"] = accuracy\n",
        "  model_metrics[\"hamming_loss\"]= hloss\n",
        "  model_metrics[\"hamming_score\"] = hscore\n",
        "\n",
        "  model_metrics['sample_average_precision'] = precision_sample_average\n",
        "  model_metrics['sample_average_recall'] = recall_sample_average\n",
        "  model_metrics['sample_average_f1'] = f1_sample_average\n",
        "\n",
        "\n",
        "  if write_to_file:\n",
        "    model_metrics[\"Classification_report\"] = cr\n",
        "\n",
        "    for i,val in enumerate(LABELS):\n",
        "      model_metrics['confusion_matrix' + '_' + val] = str(cf[i].flatten())\n",
        "  \n",
        "    model_metrics[\"y_pred\"] = str(y_pred)\n",
        "    model_metrics[\"y_labels\"] = str(test_df_labels)\n",
        "\n",
        "\n",
        "    if threshold != 0.5:\n",
        "      th = \"calculated_threshold\"\n",
        "    else:\n",
        "      th = threshold\n",
        "\n",
        "    model_metrics[\"threshold\"] = th\n",
        "    output_file = \"eval_results_\" + model_name + \"_\"+str(th) +\"_\"+ \".json\"\n",
        "    \n",
        "    with open(output_file, \"w\" ) as writer:\n",
        "        json.dump(model_metrics,writer)\n",
        "  \n",
        "\n",
        "  print(\"\\n ROC-AUC score: %.6f \\n\" % (ROC_AUC_score))\n",
        "  print(\"\\n Subset accuracy : %.6f \\n\" % (accuracy))\n",
        "  print(\"\\n hamming_loss : %.6f \\n\" % (hloss))\n",
        "  print(\"\\n hamming score : %.6f \\n\" % hscore)\n",
        "  print(\"\\n sample average  precision_sample_average : %.6f \\n\" % precision_sample_average)\n",
        "  print(\"\\n sample average  recall_sample_average : %.6f \\n\" % recall_sample_average)\n",
        "  print(\"\\n sample average  f1_sample_average : %.6f \\n\" % f1_sample_average)\n",
        "  \n",
        "\n",
        "  print(\"  Saving the metrics into a file: \" + output_file + \" with threshold :\" + str(threshold))"
      ],
      "execution_count": 16,
      "outputs": []
    },
    {
      "cell_type": "markdown",
      "metadata": {
        "id": "qpdl9c1mam9K"
      },
      "source": [
        "# Baselines"
      ]
    },
    {
      "cell_type": "markdown",
      "metadata": {
        "id": "MGf8u3PSaxxT"
      },
      "source": [
        "## Machine Learning with features"
      ]
    },
    {
      "cell_type": "markdown",
      "metadata": {
        "id": "2A6p5QlWHuVM"
      },
      "source": [
        "### SVM Classifier using selected features \n",
        "  * Reference : \n",
        "    1. Linguistic models for detecting bias https://aclanthology.org/P13-1162.pdf\n",
        "    2. Automatically Neutralizing Subjective Bias in Text https://ojs.aaai.org/index.php/AAAI/article/view/5385 \n",
        "\n",
        "  "
      ]
    },
    {
      "cell_type": "markdown",
      "metadata": {
        "id": "jwTACdCka42B"
      },
      "source": [
        "## Pre-trained word embedding models with CNN"
      ]
    },
    {
      "cell_type": "markdown",
      "metadata": {
        "id": "spCDi_37EE84"
      },
      "source": [
        "### Pre-processing"
      ]
    },
    {
      "cell_type": "code",
      "metadata": {
        "id": "t3cRclIfEI3L"
      },
      "source": [
        "import pandas as pd\n",
        "import numpy as np\n",
        "import matplotlib.pyplot as plt\n",
        "from keras.preprocessing.text import Tokenizer\n",
        "from keras.preprocessing.sequence import pad_sequences # to pad inputs into equal length\n",
        "from keras.layers import Dense, Input, GlobalMaxPooling1D, SpatialDropout1D, Bidirectional, LSTM,GRU, GlobalAveragePooling1D, GlobalMaxPool1D\n",
        "from keras.layers import Conv1D, MaxPooling1D, Dropout, Embedding, Concatenate, concatenate\n",
        "from keras.models import Model\n",
        "from sklearn.metrics import roc_auc_score\n",
        "from gensim.models import Word2Vec"
      ],
      "execution_count": 17,
      "outputs": []
    },
    {
      "cell_type": "code",
      "metadata": {
        "id": "um57TSe5FBlH"
      },
      "source": [
        "MAX_SEQUENCE_LENGTH = 50\n",
        "MAX_VOCAB_SIZE = 20000 # Based on usage\n",
        "EMBEDDING_DIM = 100 # glove dimentions\n",
        "VALIDATION_SPLIT = 0.2\n",
        "BATCH_SIZE = 128\n",
        "EPOCHS = 40"
      ],
      "execution_count": 18,
      "outputs": []
    },
    {
      "cell_type": "code",
      "metadata": {
        "id": "pMHwPUp6Hh0z"
      },
      "source": [
        "# Tokenization using spacy\n",
        "import spacy\n",
        "\n",
        "nlp = spacy.load(\"en_core_web_sm\")\n",
        "\n",
        "def tokenize(text):  \n",
        "\n",
        "  doc = nlp(text)\n",
        "  tokens = [token.text.lower() for token in doc]\n",
        "  return tokens\n",
        "\n",
        "def lemmatization(text):\n",
        "\n",
        "  doc = nlp(text)\n",
        "  lemmas = [token.lemma_.lower() for token in doc]\n",
        "  return lemmas\n",
        "\n",
        "# Remove tokens that are not alphabetic - depends on particular application \n",
        "def clean_text(text):\n",
        "\n",
        "  lemmas = lemmatization(text)\n",
        "  a_lemmas = [lemma for  lemma in lemmas\n",
        "              if lemma.isalpha()]\n",
        "  \n",
        "  return (' '.join(a_lemmas))"
      ],
      "execution_count": 19,
      "outputs": []
    },
    {
      "cell_type": "code",
      "metadata": {
        "id": "Ylr_j35zTaRD"
      },
      "source": [
        "df = pd.concat([train_df,val_df])"
      ],
      "execution_count": 20,
      "outputs": []
    },
    {
      "cell_type": "code",
      "metadata": {
        "id": "z88ckDDhL7rw"
      },
      "source": [
        "df['clean_text'] = df['sentence'].apply(clean_text)"
      ],
      "execution_count": 21,
      "outputs": []
    },
    {
      "cell_type": "code",
      "metadata": {
        "id": "0319lX4OVEKp",
        "colab": {
          "base_uri": "https://localhost:8080/",
          "height": 470
        },
        "outputId": "3ef9e3d2-7963-4e0d-85e3-b931e16b0fd5"
      },
      "source": [
        "df"
      ],
      "execution_count": 30,
      "outputs": [
        {
          "output_type": "execute_result",
          "data": {
            "text/html": [
              "<div>\n",
              "<style scoped>\n",
              "    .dataframe tbody tr th:only-of-type {\n",
              "        vertical-align: middle;\n",
              "    }\n",
              "\n",
              "    .dataframe tbody tr th {\n",
              "        vertical-align: top;\n",
              "    }\n",
              "\n",
              "    .dataframe thead th {\n",
              "        text-align: right;\n",
              "    }\n",
              "</style>\n",
              "<table border=\"1\" class=\"dataframe\">\n",
              "  <thead>\n",
              "    <tr style=\"text-align: right;\">\n",
              "      <th></th>\n",
              "      <th>sentence</th>\n",
              "      <th>Ethnicity</th>\n",
              "      <th>gender</th>\n",
              "      <th>profession</th>\n",
              "      <th>religion</th>\n",
              "      <th>Anti-stereotype</th>\n",
              "      <th>stereotype</th>\n",
              "      <th>unrelated</th>\n",
              "      <th>clean_text</th>\n",
              "    </tr>\n",
              "  </thead>\n",
              "  <tbody>\n",
              "    <tr>\n",
              "      <th>0</th>\n",
              "      <td>although to now there is no evidence of an ord...</td>\n",
              "      <td>0.0</td>\n",
              "      <td>0.0</td>\n",
              "      <td>0.0</td>\n",
              "      <td>1.0</td>\n",
              "      <td>0.0</td>\n",
              "      <td>1.0</td>\n",
              "      <td>0.0</td>\n",
              "      <td>although to now there be no evidence of an ord...</td>\n",
              "    </tr>\n",
              "    <tr>\n",
              "      <th>1</th>\n",
              "      <td>The movie I also saw last night in had a plot ...</td>\n",
              "      <td>0.0</td>\n",
              "      <td>0.0</td>\n",
              "      <td>0.0</td>\n",
              "      <td>0.0</td>\n",
              "      <td>0.0</td>\n",
              "      <td>0.0</td>\n",
              "      <td>1.0</td>\n",
              "      <td>the movie also see last night in have a plot o...</td>\n",
              "    </tr>\n",
              "    <tr>\n",
              "      <th>2</th>\n",
              "      <td>The mathematician works at a university. He is...</td>\n",
              "      <td>0.0</td>\n",
              "      <td>1.0</td>\n",
              "      <td>0.0</td>\n",
              "      <td>0.0</td>\n",
              "      <td>0.0</td>\n",
              "      <td>1.0</td>\n",
              "      <td>0.0</td>\n",
              "      <td>the mathematician work at a university be asia...</td>\n",
              "    </tr>\n",
              "    <tr>\n",
              "      <th>3</th>\n",
              "      <td>why does germany never have fun and always wor...</td>\n",
              "      <td>0.0</td>\n",
              "      <td>0.0</td>\n",
              "      <td>0.0</td>\n",
              "      <td>1.0</td>\n",
              "      <td>0.0</td>\n",
              "      <td>1.0</td>\n",
              "      <td>0.0</td>\n",
              "      <td>why do germany never have fun and always work ...</td>\n",
              "    </tr>\n",
              "    <tr>\n",
              "      <th>4</th>\n",
              "      <td>they say strength in numbers tell that to mill...</td>\n",
              "      <td>0.0</td>\n",
              "      <td>0.0</td>\n",
              "      <td>0.0</td>\n",
              "      <td>1.0</td>\n",
              "      <td>0.0</td>\n",
              "      <td>1.0</td>\n",
              "      <td>0.0</td>\n",
              "      <td>say strength in number tell that to million jews</td>\n",
              "    </tr>\n",
              "    <tr>\n",
              "      <th>...</th>\n",
              "      <td>...</td>\n",
              "      <td>...</td>\n",
              "      <td>...</td>\n",
              "      <td>...</td>\n",
              "      <td>...</td>\n",
              "      <td>...</td>\n",
              "      <td>...</td>\n",
              "      <td>...</td>\n",
              "      <td>...</td>\n",
              "    </tr>\n",
              "    <tr>\n",
              "      <th>2479</th>\n",
              "      <td>The computer battery effectively died.</td>\n",
              "      <td>0.0</td>\n",
              "      <td>0.0</td>\n",
              "      <td>0.0</td>\n",
              "      <td>0.0</td>\n",
              "      <td>0.0</td>\n",
              "      <td>0.0</td>\n",
              "      <td>1.0</td>\n",
              "      <td>the computer battery effectively die</td>\n",
              "    </tr>\n",
              "    <tr>\n",
              "      <th>2480</th>\n",
              "      <td>United States is not part of Britain. People f...</td>\n",
              "      <td>1.0</td>\n",
              "      <td>0.0</td>\n",
              "      <td>0.0</td>\n",
              "      <td>0.0</td>\n",
              "      <td>1.0</td>\n",
              "      <td>0.0</td>\n",
              "      <td>0.0</td>\n",
              "      <td>united states be not part of britain people fr...</td>\n",
              "    </tr>\n",
              "    <tr>\n",
              "      <th>2481</th>\n",
              "      <td>I wanted to propose to my girlfriend, but coul...</td>\n",
              "      <td>0.0</td>\n",
              "      <td>0.0</td>\n",
              "      <td>1.0</td>\n",
              "      <td>0.0</td>\n",
              "      <td>1.0</td>\n",
              "      <td>0.0</td>\n",
              "      <td>0.0</td>\n",
              "      <td>want to propose to girlfriend but could not af...</td>\n",
              "    </tr>\n",
              "    <tr>\n",
              "      <th>2482</th>\n",
              "      <td>white coworker why don t you drink me because ...</td>\n",
              "      <td>0.0</td>\n",
              "      <td>0.0</td>\n",
              "      <td>0.0</td>\n",
              "      <td>1.0</td>\n",
              "      <td>0.0</td>\n",
              "      <td>1.0</td>\n",
              "      <td>0.0</td>\n",
              "      <td>white coworker why don t drink because i m mus...</td>\n",
              "    </tr>\n",
              "    <tr>\n",
              "      <th>2483</th>\n",
              "      <td>Sour cream is made from milk.</td>\n",
              "      <td>0.0</td>\n",
              "      <td>0.0</td>\n",
              "      <td>0.0</td>\n",
              "      <td>0.0</td>\n",
              "      <td>0.0</td>\n",
              "      <td>0.0</td>\n",
              "      <td>1.0</td>\n",
              "      <td>sour cream be make from milk</td>\n",
              "    </tr>\n",
              "  </tbody>\n",
              "</table>\n",
              "<p>14076 rows × 9 columns</p>\n",
              "</div>"
            ],
            "text/plain": [
              "                                               sentence  ...                                         clean_text\n",
              "0     although to now there is no evidence of an ord...  ...  although to now there be no evidence of an ord...\n",
              "1     The movie I also saw last night in had a plot ...  ...  the movie also see last night in have a plot o...\n",
              "2     The mathematician works at a university. He is...  ...  the mathematician work at a university be asia...\n",
              "3     why does germany never have fun and always wor...  ...  why do germany never have fun and always work ...\n",
              "4     they say strength in numbers tell that to mill...  ...   say strength in number tell that to million jews\n",
              "...                                                 ...  ...                                                ...\n",
              "2479             The computer battery effectively died.  ...               the computer battery effectively die\n",
              "2480  United States is not part of Britain. People f...  ...  united states be not part of britain people fr...\n",
              "2481  I wanted to propose to my girlfriend, but coul...  ...  want to propose to girlfriend but could not af...\n",
              "2482  white coworker why don t you drink me because ...  ...  white coworker why don t drink because i m mus...\n",
              "2483                      Sour cream is made from milk.  ...                       sour cream be make from milk\n",
              "\n",
              "[14076 rows x 9 columns]"
            ]
          },
          "metadata": {},
          "execution_count": 30
        }
      ]
    },
    {
      "cell_type": "code",
      "metadata": {
        "id": "ZYEEphnbZR1_"
      },
      "source": [
        "labels = df.iloc[:,1:-1].values\n",
        "sentences = df.iloc[:,-1].values"
      ],
      "execution_count": 176,
      "outputs": []
    },
    {
      "cell_type": "code",
      "metadata": {
        "id": "4pZywpBLJ_5k",
        "outputId": "6a7bbb43-7f1f-4159-cca5-5b6377a24128",
        "colab": {
          "base_uri": "https://localhost:8080/"
        }
      },
      "source": [
        "sentences"
      ],
      "execution_count": 177,
      "outputs": [
        {
          "output_type": "execute_result",
          "data": {
            "text/plain": [
              "array(['although to now there be no evidence of an order to kill all jews but see above and can see there be order to exterminate bolsheviks jews commissars etc',\n",
              "       'the movie also see last night in have a plot originally about a japanese volcano eruption',\n",
              "       'the mathematician work at a university be asian and nerdy', ...,\n",
              "       'want to propose to girlfriend but could not afford dump as say a rich guy would make a bad partner anyways due to no financial stability',\n",
              "       'white coworker why don t drink because i m muslim white coworker oh but know i m for woman s rights i m glad don t dress like those other woman work with african woman who wear hijab i guess s good re allow to leave the house to work though',\n",
              "       'sour cream be make from milk'], dtype=object)"
            ]
          },
          "metadata": {},
          "execution_count": 177
        }
      ]
    },
    {
      "cell_type": "code",
      "metadata": {
        "colab": {
          "base_uri": "https://localhost:8080/"
        },
        "id": "tiWf0WZOtQrc",
        "outputId": "c850efab-f5ae-44b3-fbf8-fdc169c1a8a5"
      },
      "source": [
        "len(labels) == len(sentences)"
      ],
      "execution_count": 178,
      "outputs": [
        {
          "output_type": "execute_result",
          "data": {
            "text/plain": [
              "True"
            ]
          },
          "metadata": {},
          "execution_count": 178
        }
      ]
    },
    {
      "cell_type": "markdown",
      "metadata": {
        "id": "MqW2joaAjerj"
      },
      "source": [
        "Keras Tokenier (https://www.tensorflow.org/api_docs/python/tf/keras/preprocessing/text/Tokenizer)\n",
        "\n",
        "* `fit_on_texts(sentences)` : Creates a dict that maps unique tokens in input sequences to its unique ids\n",
        "* `text_to_sequences` : Takes the input sequence and converts into the sequence of unique ids.\n",
        "\n",
        "* Fit (on training to create vocab) once and use it on train,eval,test. "
      ]
    },
    {
      "cell_type": "code",
      "metadata": {
        "id": "hQBquHaTFIil",
        "colab": {
          "base_uri": "https://localhost:8080/"
        },
        "outputId": "6b95b4b1-12ff-42ba-dd25-943782eabe8b"
      },
      "source": [
        "tokenizer = Tokenizer(num_words=MAX_VOCAB_SIZE)\n",
        "tokenizer.fit_on_texts(sentences)\n",
        "sequences = tokenizer.texts_to_sequences(sentences)\n",
        "print(\"sequences:\", sequences[0])"
      ],
      "execution_count": 179,
      "outputs": [
        {
          "output_type": "stream",
          "text": [
            "sequences: [3252, 4, 325, 22, 1, 96, 1933, 7, 24, 396, 4, 318, 26, 50, 53, 54, 1625, 5, 34, 54, 22, 1, 396, 4, 3253, 5648, 50, 5649, 3254]\n"
          ],
          "name": "stdout"
        }
      ]
    },
    {
      "cell_type": "code",
      "metadata": {
        "id": "0uSZFrWmGPpx",
        "colab": {
          "base_uri": "https://localhost:8080/"
        },
        "outputId": "62ba0c02-fb0b-4710-f4d2-390de9da7f22"
      },
      "source": [
        "print(\"max sequence length after cleaning and tokenizing:\", max(len(s) for s in sequences))\n",
        "MAX_SEQUENCE_LENGTH = max(len(s) for s in sequences)\n",
        "print(\"min sequence length after cleaning and tokenizing:\", min(len(s) for s in sequences))\n",
        "s = sorted(len(s) for s in sequences)\n",
        "print(\"median sequence length after cleaning and tokenizing:\", s[len(s) // 2])\n",
        "\n",
        "print(\"max word index:\", max(max(seq) for seq in sequences if len(seq) > 0))"
      ],
      "execution_count": 180,
      "outputs": [
        {
          "output_type": "stream",
          "text": [
            "max sequence length after cleaning and tokenizing: 100\n",
            "min sequence length after cleaning and tokenizing: 0\n",
            "median sequence length after cleaning and tokenizing: 10\n",
            "max word index: 8852\n"
          ],
          "name": "stdout"
        }
      ]
    },
    {
      "cell_type": "code",
      "metadata": {
        "id": "CE5gdsspgtR4",
        "colab": {
          "base_uri": "https://localhost:8080/"
        },
        "outputId": "02613fb7-013a-4451-f173-da108d42b716"
      },
      "source": [
        "# pad sequences so that we get a N x T matrix (0 - reserved for padding in keras)\n",
        "data_train = pad_sequences(sequences, maxlen=MAX_SEQUENCE_LENGTH)\n",
        "print('Shape of data tensor:', data_train.shape)"
      ],
      "execution_count": 181,
      "outputs": [
        {
          "output_type": "stream",
          "text": [
            "Shape of data tensor: (14076, 100)\n"
          ],
          "name": "stdout"
        }
      ]
    },
    {
      "cell_type": "code",
      "metadata": {
        "id": "Ttr7C4ewcXub",
        "colab": {
          "base_uri": "https://localhost:8080/"
        },
        "outputId": "bfa3a2aa-9894-4592-e7fd-27d74119ebf8"
      },
      "source": [
        "data_train"
      ],
      "execution_count": 182,
      "outputs": [
        {
          "output_type": "execute_result",
          "data": {
            "text/plain": [
              "array([[   0,    0,    0, ...,   50, 5649, 3254],\n",
              "       [   0,    0,    0, ...,  214, 1757, 2406],\n",
              "       [   0,    0,    0, ...,  468,    5,  430],\n",
              "       ...,\n",
              "       [   0,    0,    0, ...,   96, 2178, 5547],\n",
              "       [   0,    0,    0, ...,    4,   31,  490],\n",
              "       [   0,    0,    0, ...,   35,   18,  442]], dtype=int32)"
            ]
          },
          "metadata": {},
          "execution_count": 182
        }
      ]
    },
    {
      "cell_type": "code",
      "metadata": {
        "id": "qcOS-xjBGYNu",
        "colab": {
          "base_uri": "https://localhost:8080/"
        },
        "outputId": "0d37bcf7-4fd0-4519-8a48-3cd387132059"
      },
      "source": [
        "# word -> token_id mapping\n",
        "word2idx_train = tokenizer.word_index\n",
        "print('Found %s unique tokens.' % len(word2idx_train))"
      ],
      "execution_count": 183,
      "outputs": [
        {
          "output_type": "stream",
          "text": [
            "Found 8852 unique tokens.\n"
          ],
          "name": "stdout"
        }
      ]
    },
    {
      "cell_type": "markdown",
      "metadata": {
        "id": "qrRO0ibiXOJW"
      },
      "source": [
        "### Defining Model "
      ]
    },
    {
      "cell_type": "markdown",
      "metadata": {
        "id": "WvB9oPmeYWmk"
      },
      "source": [
        "#### Text-CNN\n",
        "\n",
        "Model specifics:\n",
        "  * Embedding_layer(Input) -> conv1D -> Maxpooling1D(3) -> GlobalMaxPooling1D() -> Dense -> output (len(labels[0]))\n",
        "\n",
        "References:\n",
        "\n",
        "1.http://www.wildml.com/2015/11/understanding-convolutional-neural-networks-for-nlp/ "
      ]
    },
    {
      "cell_type": "code",
      "metadata": {
        "id": "IyMl8K38YDP8"
      },
      "source": [
        "def _build_CNN(num_classes, embedding_layer, loss_func = 'binary_crossentropy',\n",
        "            activation = 'sigmoid', metric = ['accuracy'], optimizer = 'rmsprop'):\n",
        "  \n",
        "  print('Building model...')\n",
        "\n",
        "  input_ = Input(shape=(MAX_SEQUENCE_LENGTH,))\n",
        "  x = embedding_layer(input_)\n",
        "  x = Conv1D(128,3,activation='relu')(x)\n",
        "  x = MaxPooling1D(3)(x)\n",
        "  x = Dropout(0.25)(x)\n",
        "  x = Conv1D(128,3,activation='relu')(x)\n",
        "  x = MaxPooling1D(3)(x)\n",
        "  x = Dropout(0.25)(x)\n",
        "  x = Conv1D(128,3,activation='relu')(x)\n",
        "  x = GlobalMaxPooling1D()(x) # Getting the most important feature \n",
        "  x = Dense(128, activation='relu')(x)\n",
        "  output = (Dense(len(labels[0]),activation=activation))(x)\n",
        "  model = Model(input_,output)\n",
        "  model.compile(loss = loss_func, optimizer = optimizer, metrics = metric)\n",
        "  print(model.summary())\n",
        "  print('Done..')\n",
        "\n",
        "  return model"
      ],
      "execution_count": 100,
      "outputs": []
    },
    {
      "cell_type": "markdown",
      "metadata": {
        "id": "0fUQMkf9YfB2"
      },
      "source": [
        "#### Bi-Directional LSTM"
      ]
    },
    {
      "cell_type": "code",
      "metadata": {
        "id": "nqsQJf29Yj-G"
      },
      "source": [
        "def _build_bilstm(num_classes, embedding_layer, loss_func = 'binary_crossentropy',\n",
        "            activation = 'sigmoid', metric = ['accuracy'], optimizer = 'rmsprop'):\n",
        "  \n",
        "  print('Building model...')\n",
        "\n",
        "  input_ = Input(shape=(MAX_SEQUENCE_LENGTH,))\n",
        "  x = embedding_layer(input_)\n",
        "  x = SpatialDropout1D(0.2)(x)\n",
        "  x = Bidirectional(LSTM(15, return_sequences=True))(x)\n",
        "  avg_pool = GlobalAveragePooling1D()(x)\n",
        "  max_pool = GlobalMaxPool1D()(x)\n",
        "  conc = concatenate([avg_pool, max_pool])\n",
        "  output = Dense(num_classes, activation=activation)(conc)\n",
        "  model = Model(input_, output)\n",
        "  model.compile(loss = loss_func, optimizer = optimizer, metrics = metric)\n",
        "  print(model.summary())\n",
        "  print('Done..')\n",
        "\n",
        "  return model "
      ],
      "execution_count": 184,
      "outputs": []
    },
    {
      "cell_type": "markdown",
      "metadata": {
        "id": "lAjXhAhV_fKn"
      },
      "source": [
        "#### Bi-directional GRU"
      ]
    },
    {
      "cell_type": "code",
      "metadata": {
        "id": "SeLiLyfcoTVH"
      },
      "source": [
        "# def _build_simple_gru(num_classes, embedding_layer, loss_func = 'binary_crossentropy',\n",
        "#             activation = 'sigmoid', metric = ['accuracy'], optimizer = 'rmsprop'):\n",
        "  \n",
        "#   print('Building model...')\n",
        "\n",
        "#   input_ = Input(shape=(MAX_SEQUENCE_LENGTH,))\n",
        "#   x = embedding_layer(input_)\n",
        "#   x = SpatialDropout1D(0.2)(x)\n",
        "#   x = Bidirectional(GRU(15, return_sequences=True))(x)\n",
        "#   avg_pool = GlobalAveragePooling1D()(x)\n",
        "#   max_pool = GlobalMaxPool1D()(x)\n",
        "#   conc = concatenate([avg_pool, max_pool])\n",
        "#   output = Dense(num_classes, activation= activation)(conc)\n",
        "#   model = Model(input_, output)\n",
        "#   model.compile(loss = loss_func, optimizer = optimizer, metrics = metric)\n",
        "#   print(model.summary())\n",
        "#   print('Done..')\n",
        "\n",
        "#   return model"
      ],
      "execution_count": 35,
      "outputs": []
    },
    {
      "cell_type": "markdown",
      "metadata": {
        "id": "h729-Flphov1"
      },
      "source": [
        "### Evaluation on testset"
      ]
    },
    {
      "cell_type": "code",
      "metadata": {
        "colab": {
          "base_uri": "https://localhost:8080/",
          "height": 419
        },
        "id": "zDc0lnuQMqq8",
        "outputId": "56593909-7785-40d7-95b5-a71753e59b55"
      },
      "source": [
        "test_df"
      ],
      "execution_count": 42,
      "outputs": [
        {
          "output_type": "execute_result",
          "data": {
            "text/html": [
              "<div>\n",
              "<style scoped>\n",
              "    .dataframe tbody tr th:only-of-type {\n",
              "        vertical-align: middle;\n",
              "    }\n",
              "\n",
              "    .dataframe tbody tr th {\n",
              "        vertical-align: top;\n",
              "    }\n",
              "\n",
              "    .dataframe thead th {\n",
              "        text-align: right;\n",
              "    }\n",
              "</style>\n",
              "<table border=\"1\" class=\"dataframe\">\n",
              "  <thead>\n",
              "    <tr style=\"text-align: right;\">\n",
              "      <th></th>\n",
              "      <th>sentence</th>\n",
              "      <th>Ethnicity</th>\n",
              "      <th>gender</th>\n",
              "      <th>profession</th>\n",
              "      <th>religion</th>\n",
              "      <th>Anti-stereotype</th>\n",
              "      <th>stereotype</th>\n",
              "      <th>unrelated</th>\n",
              "    </tr>\n",
              "  </thead>\n",
              "  <tbody>\n",
              "    <tr>\n",
              "      <th>0</th>\n",
              "      <td>We saw some cute horses running silently by.</td>\n",
              "      <td>0.0</td>\n",
              "      <td>0.0</td>\n",
              "      <td>0.0</td>\n",
              "      <td>0.0</td>\n",
              "      <td>0.0</td>\n",
              "      <td>0.0</td>\n",
              "      <td>1.0</td>\n",
              "    </tr>\n",
              "    <tr>\n",
              "      <th>1</th>\n",
              "      <td>Try to brush contacts and contact floss everyday.</td>\n",
              "      <td>0.0</td>\n",
              "      <td>0.0</td>\n",
              "      <td>0.0</td>\n",
              "      <td>0.0</td>\n",
              "      <td>0.0</td>\n",
              "      <td>0.0</td>\n",
              "      <td>1.0</td>\n",
              "    </tr>\n",
              "    <tr>\n",
              "      <th>2</th>\n",
              "      <td>why do shower heads have eleven holes because ...</td>\n",
              "      <td>0.0</td>\n",
              "      <td>0.0</td>\n",
              "      <td>0.0</td>\n",
              "      <td>1.0</td>\n",
              "      <td>0.0</td>\n",
              "      <td>1.0</td>\n",
              "      <td>0.0</td>\n",
              "    </tr>\n",
              "    <tr>\n",
              "      <th>3</th>\n",
              "      <td>My sister is a schoolgirl She does not do any ...</td>\n",
              "      <td>0.0</td>\n",
              "      <td>1.0</td>\n",
              "      <td>0.0</td>\n",
              "      <td>0.0</td>\n",
              "      <td>0.0</td>\n",
              "      <td>1.0</td>\n",
              "      <td>0.0</td>\n",
              "    </tr>\n",
              "    <tr>\n",
              "      <th>4</th>\n",
              "      <td>He is an Arab from the Middle East. He is prob...</td>\n",
              "      <td>1.0</td>\n",
              "      <td>0.0</td>\n",
              "      <td>0.0</td>\n",
              "      <td>0.0</td>\n",
              "      <td>0.0</td>\n",
              "      <td>1.0</td>\n",
              "      <td>0.0</td>\n",
              "    </tr>\n",
              "    <tr>\n",
              "      <th>...</th>\n",
              "      <td>...</td>\n",
              "      <td>...</td>\n",
              "      <td>...</td>\n",
              "      <td>...</td>\n",
              "      <td>...</td>\n",
              "      <td>...</td>\n",
              "      <td>...</td>\n",
              "      <td>...</td>\n",
              "    </tr>\n",
              "    <tr>\n",
              "      <th>2479</th>\n",
              "      <td>I find my work to be very fulfilling.</td>\n",
              "      <td>0.0</td>\n",
              "      <td>0.0</td>\n",
              "      <td>0.0</td>\n",
              "      <td>0.0</td>\n",
              "      <td>0.0</td>\n",
              "      <td>0.0</td>\n",
              "      <td>1.0</td>\n",
              "    </tr>\n",
              "    <tr>\n",
              "      <th>2480</th>\n",
              "      <td>Women who sign up on an online dating website ...</td>\n",
              "      <td>0.0</td>\n",
              "      <td>1.0</td>\n",
              "      <td>0.0</td>\n",
              "      <td>0.0</td>\n",
              "      <td>1.0</td>\n",
              "      <td>0.0</td>\n",
              "      <td>0.0</td>\n",
              "    </tr>\n",
              "    <tr>\n",
              "      <th>2481</th>\n",
              "      <td>If you were black, that choice would be made f...</td>\n",
              "      <td>1.0</td>\n",
              "      <td>0.0</td>\n",
              "      <td>0.0</td>\n",
              "      <td>0.0</td>\n",
              "      <td>0.0</td>\n",
              "      <td>1.0</td>\n",
              "      <td>0.0</td>\n",
              "    </tr>\n",
              "    <tr>\n",
              "      <th>2482</th>\n",
              "      <td>Ukrainian citizens are criminal.</td>\n",
              "      <td>1.0</td>\n",
              "      <td>0.0</td>\n",
              "      <td>0.0</td>\n",
              "      <td>0.0</td>\n",
              "      <td>0.0</td>\n",
              "      <td>1.0</td>\n",
              "      <td>0.0</td>\n",
              "    </tr>\n",
              "    <tr>\n",
              "      <th>2483</th>\n",
              "      <td>I know someone from Iraq. Her ethnic group are...</td>\n",
              "      <td>1.0</td>\n",
              "      <td>0.0</td>\n",
              "      <td>0.0</td>\n",
              "      <td>0.0</td>\n",
              "      <td>1.0</td>\n",
              "      <td>0.0</td>\n",
              "      <td>0.0</td>\n",
              "    </tr>\n",
              "  </tbody>\n",
              "</table>\n",
              "<p>2484 rows × 8 columns</p>\n",
              "</div>"
            ],
            "text/plain": [
              "                                               sentence  ...  unrelated\n",
              "0          We saw some cute horses running silently by.  ...        1.0\n",
              "1     Try to brush contacts and contact floss everyday.  ...        1.0\n",
              "2     why do shower heads have eleven holes because ...  ...        0.0\n",
              "3     My sister is a schoolgirl She does not do any ...  ...        0.0\n",
              "4     He is an Arab from the Middle East. He is prob...  ...        0.0\n",
              "...                                                 ...  ...        ...\n",
              "2479              I find my work to be very fulfilling.  ...        1.0\n",
              "2480  Women who sign up on an online dating website ...  ...        0.0\n",
              "2481  If you were black, that choice would be made f...  ...        0.0\n",
              "2482                   Ukrainian citizens are criminal.  ...        0.0\n",
              "2483  I know someone from Iraq. Her ethnic group are...  ...        0.0\n",
              "\n",
              "[2484 rows x 8 columns]"
            ]
          },
          "metadata": {},
          "execution_count": 42
        }
      ]
    },
    {
      "cell_type": "code",
      "metadata": {
        "id": "tc9n-c6lMqq8"
      },
      "source": [
        "if 'clean_text' not in test_df.columns:\n",
        "  test_df['clean_text'] = test_df['sentence'].apply(clean_text)"
      ],
      "execution_count": 43,
      "outputs": []
    },
    {
      "cell_type": "code",
      "metadata": {
        "id": "88JTd21Ph714"
      },
      "source": [
        "def preprocessing_testSet(sentences):\n",
        "\n",
        "  # test_df['clean_text'] = test_df['sentence'].apply(clean_text)\n",
        "\n",
        "  # tokenizer = Tokenizer(num_words=MAX_VOCAB_SIZE)\n",
        "  tokenizer.fit_on_texts(sentences)\n",
        "  sequences = tokenizer.texts_to_sequences(sentences)\n",
        "  print(\"sequences[0]:\", sequences[0])\n",
        "\n",
        "  # pad sequences so that we get a N x T matrix (0 - reserved for padding in keras)\n",
        "  test_data = pad_sequences(sequences, maxlen=MAX_SEQUENCE_LENGTH)\n",
        "  print('Shape of data tensor:', test_data.shape)\n",
        "\n",
        "  return test_data"
      ],
      "execution_count": 44,
      "outputs": []
    },
    {
      "cell_type": "code",
      "metadata": {
        "id": "V1k8E-9AhvhZ"
      },
      "source": [
        "# # word -> token_id mapping\n",
        "# word2idx_test = tokenizer_test.word_index\n",
        "# print('Found %s unique tokens.' % len(word2idx))"
      ],
      "execution_count": 45,
      "outputs": []
    },
    {
      "cell_type": "code",
      "metadata": {
        "id": "W3-SxmhhhvhZ"
      },
      "source": [
        "from sklearn.metrics import roc_curve\n",
        "from collections import OrderedDict\n",
        "import numpy as np\n",
        "\n",
        "def per_class_roc_auc():\n",
        "\n",
        "  opti_threshold = dict()\n",
        "  LABEL_COLUMNS = ['Ethnicity','gender','profession','religion','Anti-stereotype','stereotype','unrelated']\n",
        "\n",
        "  for i in range(7):\n",
        "    fpr, tpr, thresholds = roc_curve(test_df_labels[:,i], test_pred[:,i])\n",
        "    print(\"AUC_ROC_score of %s is %s:\"% (LABEL_COLUMNS[i],roc_auc_score(test_df_labels[:,i], test_pred[:,i])))\n",
        "    optimal_idx = np.argmax(tpr + (1- fpr)) # Return indices of maximum array;  Criterion - Maximise TPR(recall) and TNR(specificity) \n",
        "    optimal_threshold = thresholds[optimal_idx]\n",
        "    print(\"Optimal threshold value of %s is %s:\\n\" % (LABEL_COLUMNS[i], optimal_threshold))\n",
        "    opti_threshold[i] = optimal_threshold"
      ],
      "execution_count": 46,
      "outputs": []
    },
    {
      "cell_type": "code",
      "metadata": {
        "id": "KemJ7Vnbnm5J"
      },
      "source": [
        "from sklearn.metrics import classification_report, multilabel_confusion_matrix\n",
        "import matplotlib.pyplot as plt\n",
        "import seaborn as sns\n",
        "from ml_things import plot_confusion_matrix\n",
        "\n",
        "def get_confusion_matrix_per_label():\n",
        "\n",
        "  cf = multilabel_confusion_matrix(test_df_labels, \n",
        "  y_pred)\n",
        "\n",
        "  LABEL_COLUMNS = ['Ethnicity','gender','profession','religion','Anti-stereotype','stereotype','unrelated']\n",
        "\n",
        "  for i,val in enumerate(LABEL_COLUMNS):\n",
        "    plot_confusion_matrix(y_true=test_df_labels[:,i], y_pred=y_pred[:,i], magnify=0.1, use_title='Confusion Matrix'+\" \"+ val, path='plot_confusion_matrix'+ \"_\" + val +\".png\");"
      ],
      "execution_count": 47,
      "outputs": []
    },
    {
      "cell_type": "code",
      "metadata": {
        "id": "GPmEFxXYhvha"
      },
      "source": [
        "def get_classification_report(test_pred, test_df_labels):\n",
        "\n",
        "  y_pred = np.where(test_pred > 0.5, upper, lower)\n",
        "\n",
        "  report = classification_report(\n",
        "    test_df_labels, \n",
        "    y_pred, \n",
        "    target_names=LABELS, \n",
        "    zero_division=0,\n",
        "  )\n",
        "\n",
        "  return report"
      ],
      "execution_count": 48,
      "outputs": []
    },
    {
      "cell_type": "markdown",
      "metadata": {
        "id": "ojzQY_d8bRIw"
      },
      "source": [
        "### Word embedding models"
      ]
    },
    {
      "cell_type": "markdown",
      "metadata": {
        "id": "Aen_VO848MWb"
      },
      "source": [
        "Why word embedding ??\n",
        "\n",
        "Embedding layer as a lookup tabel :\n",
        "\n",
        "* Embedding layer can be understood as a lookup table which maps tokenized input sequences (vocab) to its embeddings.[1]\n",
        "* When passing batches of input, embedding layer returns `(batch, sequence, embedding)`[1]\n",
        "  * In order to handle variable length in batches, attention, RNN, or pooling can be used before passing to dense layer.[1]\n",
        "\n",
        "After training :\n",
        "\n",
        "* Embedding matrix contains trained weights with index corresponding to word_ids (formed after tokenizing the sequences) with corresponding word embeddings[2]\n",
        "* The embeddings for corresponding words (using word_ids) can be obtained by using \n",
        "  * Tensorflow : tf.nn.embedding_lookup\n",
        "  * Keras: Embedding()[2]\n",
        "\n",
        "Ref :\n",
        "\n",
        "[1] Tf_word embedding : https://www.tensorflow.org/text/guide/word_embeddings \n",
        "\n",
        "[2] word embedding working : https://stats.stackexchange.com/questions/270546/how-does-keras-embedding-layer-work\n",
        "   "
      ]
    },
    {
      "cell_type": "code",
      "metadata": {
        "id": "WYvhZUUV0CZO"
      },
      "source": [
        "def build_embedding_layer(word2idx , word2vec, emb_dim = EMBEDDING_DIM):\n",
        "  # Filling pre-trained embeddings\n",
        "  num_words = min((MAX_VOCAB_SIZE, len(word2idx)+1)) # +1 added as word index in keras start from 0\n",
        "  embedding_matrix = np.zeros((num_words,emb_dim)) # Number of vocab, dimention per vocab\n",
        "  for word, i in word2idx.items():\n",
        "    if i < MAX_VOCAB_SIZE:\n",
        "      embedding_vector = word2vec.get(word)\n",
        "      if embedding_vector is not None:\n",
        "        embedding_matrix[i] = embedding_vector # Embedding with unknown words will be zeros\n",
        "  print(embedding_matrix)\n",
        "        \n",
        "  return Embedding(num_words,emb_dim,weights = [embedding_matrix], input_length=MAX_SEQUENCE_LENGTH,trainable = False)"
      ],
      "execution_count": 185,
      "outputs": []
    },
    {
      "cell_type": "code",
      "metadata": {
        "id": "wYeJJ4xqa86v"
      },
      "source": [
        "def get_word_vectors(file):\n",
        "  w_vec = {}\n",
        "  with open (file) as f:\n",
        "    for line in f:\n",
        "      values = line.split()\n",
        "      word = values[0]\n",
        "      vec = np.asarray(values[1:],dtype='float32')\n",
        "      w_vec[word] = vec\n",
        "  print('Found %s word vectors.' % len(w_vec))\n",
        "  return w_vec"
      ],
      "execution_count": 50,
      "outputs": []
    },
    {
      "cell_type": "markdown",
      "metadata": {
        "id": "bzVr-Z3nbUsZ"
      },
      "source": [
        "#### Word2Vec/Glove (Context- insensitive)\n",
        "\n",
        "Word2Vec:\n",
        "  * Uses local window context using CBOW and Skip-gram.\n",
        "\n",
        "Glove:\n",
        "  * Uses global statistical word co-occurrences (context) using global matrix factorization and local context window.\n",
        "\n",
        "**Using Glove** \n"
      ]
    },
    {
      "cell_type": "code",
      "metadata": {
        "colab": {
          "base_uri": "https://localhost:8080/"
        },
        "id": "ECO1AkvUCV9H",
        "outputId": "b08e7350-e192-4592-86e1-8c7b2e40c648"
      },
      "source": [
        "glove_vec  = get_word_vectors('/content/drive/MyDrive/Trained_models/Results_compilation /Unrelated_adjusted/Baselines/Word_embedding_models/CNN_Glove/glove.6B.100d.txt')"
      ],
      "execution_count": 56,
      "outputs": [
        {
          "output_type": "stream",
          "text": [
            "Found 400000 word vectors.\n"
          ],
          "name": "stdout"
        }
      ]
    },
    {
      "cell_type": "code",
      "metadata": {
        "id": "K_ErJTkmRu9T",
        "colab": {
          "base_uri": "https://localhost:8080/"
        },
        "outputId": "82b8c2b2-cc09-42a9-cbe5-6131a53400fc"
      },
      "source": [
        "embedding_layer = build_embedding_layer(word2idx_train,glove_vec)"
      ],
      "execution_count": 57,
      "outputs": [
        {
          "output_type": "stream",
          "text": [
            "[[ 0.          0.          0.         ...  0.          0.\n",
            "   0.        ]\n",
            " [-0.46952999  0.38431999  0.54833001 ... -0.68914002  0.45109999\n",
            "   0.25125   ]\n",
            " [-0.038194   -0.24487001  0.72812003 ... -0.1459      0.82779998\n",
            "   0.27061999]\n",
            " ...\n",
            " [-0.52340001 -0.061559    0.73049998 ... -0.51604003  1.28639996\n",
            "  -0.67473   ]\n",
            " [-0.0049686  -0.96202999 -0.38999    ...  0.37648001 -0.83012998\n",
            "   0.10501   ]\n",
            " [ 0.58608001 -0.083537   -0.069161   ...  0.037962    0.65258998\n",
            "   0.024872  ]]\n"
          ],
          "name": "stdout"
        }
      ]
    },
    {
      "cell_type": "code",
      "metadata": {
        "colab": {
          "base_uri": "https://localhost:8080/"
        },
        "id": "OxOPPvdi0ImX",
        "outputId": "d7d76593-233c-4ccc-d469-978466fa3dc3"
      },
      "source": [
        "cnn_glove = _build_CNN(len(y[0]),embedding_layer)"
      ],
      "execution_count": 58,
      "outputs": [
        {
          "output_type": "stream",
          "text": [
            "Building model...\n",
            "Model: \"model\"\n",
            "_________________________________________________________________\n",
            "Layer (type)                 Output Shape              Param #   \n",
            "=================================================================\n",
            "input_1 (InputLayer)         [(None, 100)]             0         \n",
            "_________________________________________________________________\n",
            "embedding (Embedding)        (None, 100, 100)          885300    \n",
            "_________________________________________________________________\n",
            "conv1d (Conv1D)              (None, 98, 128)           38528     \n",
            "_________________________________________________________________\n",
            "max_pooling1d (MaxPooling1D) (None, 32, 128)           0         \n",
            "_________________________________________________________________\n",
            "dropout (Dropout)            (None, 32, 128)           0         \n",
            "_________________________________________________________________\n",
            "conv1d_1 (Conv1D)            (None, 30, 128)           49280     \n",
            "_________________________________________________________________\n",
            "max_pooling1d_1 (MaxPooling1 (None, 10, 128)           0         \n",
            "_________________________________________________________________\n",
            "dropout_1 (Dropout)          (None, 10, 128)           0         \n",
            "_________________________________________________________________\n",
            "conv1d_2 (Conv1D)            (None, 8, 128)            49280     \n",
            "_________________________________________________________________\n",
            "global_max_pooling1d (Global (None, 128)               0         \n",
            "_________________________________________________________________\n",
            "dense (Dense)                (None, 128)               16512     \n",
            "_________________________________________________________________\n",
            "dense_1 (Dense)              (None, 7)                 903       \n",
            "=================================================================\n",
            "Total params: 1,039,803\n",
            "Trainable params: 154,503\n",
            "Non-trainable params: 885,300\n",
            "_________________________________________________________________\n",
            "None\n",
            "Done..\n"
          ],
          "name": "stdout"
        }
      ]
    },
    {
      "cell_type": "code",
      "metadata": {
        "colab": {
          "base_uri": "https://localhost:8080/"
        },
        "id": "U1e11b2QLESn",
        "outputId": "3ff311d0-36c7-486b-c3c6-9f4e351c2fe7"
      },
      "source": [
        "from keras.callbacks import EarlyStopping\n",
        "\n",
        "early_stopping_monitor = EarlyStopping(patience = 5)\n",
        "\n",
        "cnn_train = cnn_glove.fit(\n",
        "    data_train,\n",
        "    labels,\n",
        "    batch_size=BATCH_SIZE,\n",
        "    epochs=EPOCHS,\n",
        "    validation_split=VALIDATION_SPLIT,\n",
        "    callbacks = [early_stopping_monitor]\n",
        ")"
      ],
      "execution_count": 59,
      "outputs": [
        {
          "output_type": "stream",
          "text": [
            "Epoch 1/40\n",
            "88/88 [==============================] - 9s 83ms/step - loss: 0.4394 - accuracy: 0.3435 - val_loss: 0.3224 - val_accuracy: 0.6261\n",
            "Epoch 2/40\n",
            "88/88 [==============================] - 7s 80ms/step - loss: 0.3047 - accuracy: 0.6614 - val_loss: 0.2872 - val_accuracy: 0.7067\n",
            "Epoch 3/40\n",
            "88/88 [==============================] - 7s 80ms/step - loss: 0.2696 - accuracy: 0.7403 - val_loss: 0.2584 - val_accuracy: 0.7987\n",
            "Epoch 4/40\n",
            "88/88 [==============================] - 7s 80ms/step - loss: 0.2504 - accuracy: 0.7876 - val_loss: 0.2459 - val_accuracy: 0.8288\n",
            "Epoch 5/40\n",
            "88/88 [==============================] - 7s 80ms/step - loss: 0.2360 - accuracy: 0.8044 - val_loss: 0.2396 - val_accuracy: 0.8239\n",
            "Epoch 6/40\n",
            "88/88 [==============================] - 7s 81ms/step - loss: 0.2226 - accuracy: 0.8326 - val_loss: 0.2543 - val_accuracy: 0.7859\n",
            "Epoch 7/40\n",
            "88/88 [==============================] - 7s 81ms/step - loss: 0.2126 - accuracy: 0.8219 - val_loss: 0.2375 - val_accuracy: 0.8324\n",
            "Epoch 8/40\n",
            "88/88 [==============================] - 7s 80ms/step - loss: 0.2033 - accuracy: 0.8033 - val_loss: 0.2311 - val_accuracy: 0.8359\n",
            "Epoch 9/40\n",
            "88/88 [==============================] - 7s 80ms/step - loss: 0.1968 - accuracy: 0.8433 - val_loss: 0.2517 - val_accuracy: 0.7685\n",
            "Epoch 10/40\n",
            "88/88 [==============================] - 7s 80ms/step - loss: 0.1912 - accuracy: 0.8421 - val_loss: 0.2335 - val_accuracy: 0.8484\n",
            "Epoch 11/40\n",
            "88/88 [==============================] - 7s 80ms/step - loss: 0.1847 - accuracy: 0.8474 - val_loss: 0.2378 - val_accuracy: 0.7862\n",
            "Epoch 12/40\n",
            "88/88 [==============================] - 7s 80ms/step - loss: 0.1801 - accuracy: 0.8269 - val_loss: 0.2343 - val_accuracy: 0.8434\n",
            "Epoch 13/40\n",
            "88/88 [==============================] - 7s 80ms/step - loss: 0.1790 - accuracy: 0.8229 - val_loss: 0.2275 - val_accuracy: 0.7912\n",
            "Epoch 14/40\n",
            "88/88 [==============================] - 7s 80ms/step - loss: 0.1734 - accuracy: 0.8391 - val_loss: 0.2250 - val_accuracy: 0.8054\n",
            "Epoch 15/40\n",
            "88/88 [==============================] - 7s 80ms/step - loss: 0.1722 - accuracy: 0.8481 - val_loss: 0.2265 - val_accuracy: 0.8281\n",
            "Epoch 16/40\n",
            "88/88 [==============================] - 7s 81ms/step - loss: 0.1659 - accuracy: 0.8565 - val_loss: 0.2349 - val_accuracy: 0.8217\n",
            "Epoch 17/40\n",
            "88/88 [==============================] - 7s 80ms/step - loss: 0.1664 - accuracy: 0.8749 - val_loss: 0.2292 - val_accuracy: 0.8317\n",
            "Epoch 18/40\n",
            "88/88 [==============================] - 7s 80ms/step - loss: 0.1612 - accuracy: 0.8539 - val_loss: 0.2282 - val_accuracy: 0.8402\n",
            "Epoch 19/40\n",
            "88/88 [==============================] - 7s 80ms/step - loss: 0.1585 - accuracy: 0.8627 - val_loss: 0.2282 - val_accuracy: 0.8100\n"
          ],
          "name": "stdout"
        }
      ]
    },
    {
      "cell_type": "code",
      "metadata": {
        "id": "HHMjK_A9qj6F",
        "outputId": "44c3d814-91cb-44ef-81c3-7e449fb39970",
        "colab": {
          "base_uri": "https://localhost:8080/",
          "height": 428
        }
      },
      "source": [
        "pip install matplotlib==3.1.3"
      ],
      "execution_count": 60,
      "outputs": [
        {
          "output_type": "stream",
          "text": [
            "Collecting matplotlib==3.1.3\n",
            "  Downloading matplotlib-3.1.3-cp37-cp37m-manylinux1_x86_64.whl (13.1 MB)\n",
            "\u001b[K     |████████████████████████████████| 13.1 MB 88 kB/s \n",
            "\u001b[?25hRequirement already satisfied: pyparsing!=2.0.4,!=2.1.2,!=2.1.6,>=2.0.1 in /usr/local/lib/python3.7/dist-packages (from matplotlib==3.1.3) (2.4.7)\n",
            "Requirement already satisfied: numpy>=1.11 in /usr/local/lib/python3.7/dist-packages (from matplotlib==3.1.3) (1.19.5)\n",
            "Requirement already satisfied: cycler>=0.10 in /usr/local/lib/python3.7/dist-packages (from matplotlib==3.1.3) (0.10.0)\n",
            "Requirement already satisfied: kiwisolver>=1.0.1 in /usr/local/lib/python3.7/dist-packages (from matplotlib==3.1.3) (1.3.1)\n",
            "Requirement already satisfied: python-dateutil>=2.1 in /usr/local/lib/python3.7/dist-packages (from matplotlib==3.1.3) (2.8.2)\n",
            "Requirement already satisfied: six in /usr/local/lib/python3.7/dist-packages (from cycler>=0.10->matplotlib==3.1.3) (1.15.0)\n",
            "Installing collected packages: matplotlib\n",
            "  Attempting uninstall: matplotlib\n",
            "    Found existing installation: matplotlib 3.4.3\n",
            "    Uninstalling matplotlib-3.4.3:\n",
            "      Successfully uninstalled matplotlib-3.4.3\n",
            "\u001b[31mERROR: pip's dependency resolver does not currently take into account all the packages that are installed. This behaviour is the source of the following dependency conflicts.\n",
            "ml-things 0.0.1 requires matplotlib>=3.4.0, but you have matplotlib 3.1.3 which is incompatible.\n",
            "albumentations 0.1.12 requires imgaug<0.2.7,>=0.2.5, but you have imgaug 0.2.9 which is incompatible.\u001b[0m\n",
            "Successfully installed matplotlib-3.1.3\n"
          ],
          "name": "stdout"
        },
        {
          "output_type": "display_data",
          "data": {
            "application/vnd.colab-display-data+json": {
              "pip_warning": {
                "packages": [
                  "matplotlib",
                  "mpl_toolkits"
                ]
              }
            }
          },
          "metadata": {}
        }
      ]
    },
    {
      "cell_type": "code",
      "metadata": {
        "colab": {
          "base_uri": "https://localhost:8080/",
          "height": 536
        },
        "id": "FWCZJATbM5qw",
        "outputId": "e1281a2a-5a90-41f9-eb3a-9e1a60a06dec"
      },
      "source": [
        "# plot some data\n",
        "plt.plot(cnn_train.history['loss'], label='loss')\n",
        "plt.plot(cnn_train.history['val_loss'], label='val_loss')\n",
        "plt.legend()\n",
        "plt.show()\n",
        "\n",
        "# accuracies\n",
        "plt.plot(cnn_train.history['accuracy'], label='acc')\n",
        "plt.plot(cnn_train.history['val_accuracy'], label='val_acc')\n",
        "plt.legend()\n",
        "plt.show()\n",
        "\n",
        "# plot the mean AUC over each label\n",
        "p = cnn_glove.predict(data_train)\n",
        "aucs = []\n",
        "for j in range(6):\n",
        "    auc = roc_auc_score(labels[:,j], p[:,j])\n",
        "    aucs.append(auc)\n",
        "print(np.mean(aucs))"
      ],
      "execution_count": 61,
      "outputs": [
        {
          "output_type": "display_data",
          "data": {
            "image/png": "[encoded data removed]",
            "text/plain": [
              "<Figure size 432x288 with 1 Axes>"
            ]
          },
          "metadata": {
            "needs_background": "light"
          }
        },
        {
          "output_type": "display_data",
          "data": {
            "image/png": "[encoded data removed]",
            "text/plain": [
              "<Figure size 432x288 with 1 Axes>"
            ]
          },
          "metadata": {
            "needs_background": "light"
          }
        },
        {
          "output_type": "stream",
          "text": [
            "0.9411782454682625\n"
          ],
          "name": "stdout"
        }
      ]
    },
    {
      "cell_type": "markdown",
      "metadata": {
        "id": "8M_1ix_RNo9m"
      },
      "source": [
        "##### Evaluation on test set (CNN)"
      ]
    },
    {
      "cell_type": "code",
      "metadata": {
        "id": "wOlLS37jkhjK"
      },
      "source": [
        "labels = test_df.iloc[:,1:-1].values\n",
        "sentences = test_df.iloc[:,-1].values"
      ],
      "execution_count": 68,
      "outputs": []
    },
    {
      "cell_type": "code",
      "metadata": {
        "id": "bQ6PQljVhBQv",
        "colab": {
          "base_uri": "https://localhost:8080/"
        },
        "outputId": "343a5838-1b81-4904-c080-2eb519304111"
      },
      "source": [
        "test_data = preprocessing_testSet(sentences)"
      ],
      "execution_count": 69,
      "outputs": [
        {
          "output_type": "stream",
          "text": [
            "sequences[0]: [52, 71, 909, 541, 119, 3883, 48]\n",
            "Shape of data tensor: (2484, 100)\n"
          ],
          "name": "stdout"
        }
      ]
    },
    {
      "cell_type": "code",
      "metadata": {
        "id": "JNJvgopaNsKa"
      },
      "source": [
        "test_pred = cnn_glove.predict(test_data)\n",
        "test_df_labels = labels"
      ],
      "execution_count": 70,
      "outputs": []
    },
    {
      "cell_type": "code",
      "metadata": {
        "id": "NR9Y2AhM2XLz",
        "colab": {
          "base_uri": "https://localhost:8080/"
        },
        "outputId": "20d54b6b-1ed8-45ec-f67c-2b90f4e69e4c"
      },
      "source": [
        "print(get_classification_report(test_pred, test_df_labels))"
      ],
      "execution_count": 71,
      "outputs": [
        {
          "output_type": "stream",
          "text": [
            "                 precision    recall  f1-score   support\n",
            "\n",
            "      Ethnicity       0.38      0.28      0.32       784\n",
            "         gender       0.13      0.11      0.12       304\n",
            "     profession       0.24      0.20      0.22       467\n",
            "       religion       0.47      0.54      0.50       293\n",
            "Anti-stereotype       0.43      0.37      0.40       778\n",
            "     stereotype       0.60      0.43      0.50      1070\n",
            "      unrelated       0.49      0.57      0.53       636\n",
            "\n",
            "      micro avg       0.43      0.37      0.40      4332\n",
            "      macro avg       0.39      0.36      0.37      4332\n",
            "   weighted avg       0.43      0.37      0.40      4332\n",
            "    samples avg       0.42      0.40      0.41      4332\n",
            "\n"
          ],
          "name": "stdout"
        }
      ]
    },
    {
      "cell_type": "code",
      "metadata": {
        "colab": {
          "base_uri": "https://localhost:8080/"
        },
        "id": "1d2PWt9d2XL_",
        "outputId": "821903b5-8105-43f9-9978-3525e6139397"
      },
      "source": [
        "write_to_file = True \n",
        "classification_metrics(test_pred, test_df_labels,\"CNN_Glove\",0.5)"
      ],
      "execution_count": 72,
      "outputs": [
        {
          "output_type": "stream",
          "text": [
            "Evaluation metrics for test set:\n",
            "\n",
            " ROC-AUC score: 0.644680 \n",
            "\n",
            "\n",
            " Subset accuracy : 0.272142 \n",
            "\n",
            "\n",
            " hamming_loss : 0.278353 \n",
            "\n",
            "\n",
            " hamming score : 0.363158 \n",
            "\n",
            "\n",
            " sample average  precision_sample_average : 0.417874 \n",
            "\n",
            "\n",
            " sample average  recall_sample_average : 0.399557 \n",
            "\n",
            "\n",
            " sample average  f1_sample_average : 0.405072 \n",
            "\n",
            "  Saving the metrics into a file: eval_results_CNN_Glove_0.5_.json with threshold :0.5\n"
          ],
          "name": "stdout"
        },
        {
          "output_type": "stream",
          "text": [
            "/usr/local/lib/python3.7/dist-packages/sklearn/metrics/_classification.py:1272: UndefinedMetricWarning: Precision is ill-defined and being set to 0.0 in samples with no predicted labels. Use `zero_division` parameter to control this behavior.\n",
            "  _warn_prf(average, modifier, msg_start, len(result))\n",
            "/usr/local/lib/python3.7/dist-packages/sklearn/metrics/_classification.py:1272: UndefinedMetricWarning: Precision and F-score are ill-defined and being set to 0.0 in samples with no predicted labels. Use `zero_division` parameter to control this behavior.\n",
            "  _warn_prf(average, modifier, msg_start, len(result))\n"
          ],
          "name": "stderr"
        }
      ]
    },
    {
      "cell_type": "markdown",
      "metadata": {
        "id": "niKpbV5_bcyZ"
      },
      "source": [
        "#### fastText (Handle out of vocab tokens)\n",
        "\n",
        "* Uses bag of character n-grams as opposed to word n-grams used in word2vec and glove"
      ]
    },
    {
      "cell_type": "code",
      "metadata": {
        "colab": {
          "base_uri": "https://localhost:8080/"
        },
        "id": "grXDfI1xW-W4",
        "outputId": "f1c7aa13-b2cf-4057-e719-35c3babaa59d"
      },
      "source": [
        "from google.colab import drive\n",
        "drive.mount('/content/drive')"
      ],
      "execution_count": 73,
      "outputs": [
        {
          "output_type": "stream",
          "text": [
            "Drive already mounted at /content/drive; to attempt to forcibly remount, call drive.mount(\"/content/drive\", force_remount=True).\n"
          ],
          "name": "stdout"
        }
      ]
    },
    {
      "cell_type": "code",
      "metadata": {
        "colab": {
          "base_uri": "https://localhost:8080/"
        },
        "id": "hjnNYG6Tabeb",
        "outputId": "121c335d-ac49-4b28-9549-d170a2e55490"
      },
      "source": [
        "import numpy as np\n",
        "\n",
        "fasttext_vec = get_word_vectors('/content/drive/MyDrive/wiki-news-300d-1M.vec')"
      ],
      "execution_count": 74,
      "outputs": [
        {
          "output_type": "stream",
          "text": [
            "Found 999995 word vectors.\n"
          ],
          "name": "stdout"
        }
      ]
    },
    {
      "cell_type": "code",
      "metadata": {
        "id": "g-GSvgFufhPi",
        "outputId": "c880f781-19ca-4543-ad05-8be1b1877fe5",
        "colab": {
          "base_uri": "https://localhost:8080/"
        }
      },
      "source": [
        "embedding_layer = build_embedding_layer(word2idx_train,fasttext_vec, emb_dim = 300)"
      ],
      "execution_count": 82,
      "outputs": [
        {
          "output_type": "stream",
          "text": [
            "[[ 0.          0.          0.         ...  0.          0.\n",
            "   0.        ]\n",
            " [ 0.046       0.0312     -0.16429999 ...  0.2473     -0.0198\n",
            "  -0.0882    ]\n",
            " [ 0.0897      0.016      -0.0571     ...  0.1559     -0.0254\n",
            "  -0.0259    ]\n",
            " ...\n",
            " [-0.0755      0.27059999 -0.0154     ... -0.0742      0.0805\n",
            "   0.0183    ]\n",
            " [ 0.          0.          0.         ...  0.          0.\n",
            "   0.        ]\n",
            " [ 0.09       -0.0414      0.0932     ...  0.0764      0.0447\n",
            "   0.0041    ]]\n"
          ],
          "name": "stdout"
        }
      ]
    },
    {
      "cell_type": "code",
      "metadata": {
        "colab": {
          "base_uri": "https://localhost:8080/"
        },
        "id": "Cu8z4t7frBKC",
        "outputId": "b6f1aee4-2922-47ed-ad5d-04016ca5f5f9"
      },
      "source": [
        "cnn_fasttext = _build_CNN(len(y[0]),embedding_layer)"
      ],
      "execution_count": 83,
      "outputs": [
        {
          "output_type": "stream",
          "text": [
            "Building model...\n",
            "Model: \"model_3\"\n",
            "_________________________________________________________________\n",
            "Layer (type)                 Output Shape              Param #   \n",
            "=================================================================\n",
            "input_4 (InputLayer)         [(None, 100)]             0         \n",
            "_________________________________________________________________\n",
            "embedding_3 (Embedding)      (None, 100, 300)          2655900   \n",
            "_________________________________________________________________\n",
            "conv1d_9 (Conv1D)            (None, 98, 128)           115328    \n",
            "_________________________________________________________________\n",
            "max_pooling1d_6 (MaxPooling1 (None, 32, 128)           0         \n",
            "_________________________________________________________________\n",
            "dropout_6 (Dropout)          (None, 32, 128)           0         \n",
            "_________________________________________________________________\n",
            "conv1d_10 (Conv1D)           (None, 30, 128)           49280     \n",
            "_________________________________________________________________\n",
            "max_pooling1d_7 (MaxPooling1 (None, 10, 128)           0         \n",
            "_________________________________________________________________\n",
            "dropout_7 (Dropout)          (None, 10, 128)           0         \n",
            "_________________________________________________________________\n",
            "conv1d_11 (Conv1D)           (None, 8, 128)            49280     \n",
            "_________________________________________________________________\n",
            "global_max_pooling1d_3 (Glob (None, 128)               0         \n",
            "_________________________________________________________________\n",
            "dense_6 (Dense)              (None, 128)               16512     \n",
            "_________________________________________________________________\n",
            "dense_7 (Dense)              (None, 7)                 903       \n",
            "=================================================================\n",
            "Total params: 2,887,203\n",
            "Trainable params: 231,303\n",
            "Non-trainable params: 2,655,900\n",
            "_________________________________________________________________\n",
            "None\n",
            "Done..\n"
          ],
          "name": "stdout"
        }
      ]
    },
    {
      "cell_type": "code",
      "metadata": {
        "colab": {
          "base_uri": "https://localhost:8080/"
        },
        "id": "6SsIDkX2rBKD",
        "outputId": "1d73b80b-a0f8-4c8d-b561-f033d1c3478e"
      },
      "source": [
        "from keras.callbacks import EarlyStopping\n",
        "\n",
        "early_stopping_monitor = EarlyStopping(patience = 5)\n",
        "\n",
        "cnn_train = cnn_fasttext.fit(\n",
        "    data_train,\n",
        "    labels,\n",
        "    batch_size=BATCH_SIZE,\n",
        "    epochs=EPOCHS,\n",
        "    validation_split=VALIDATION_SPLIT,\n",
        "    callbacks = [early_stopping_monitor]\n",
        ")"
      ],
      "execution_count": 101,
      "outputs": [
        {
          "output_type": "stream",
          "text": [
            "Epoch 1/40\n",
            "88/88 [==============================] - 14s 147ms/step - loss: 0.4069 - accuracy: 0.4572 - val_loss: 0.3307 - val_accuracy: 0.6818\n",
            "Epoch 2/40\n",
            "88/88 [==============================] - 13s 146ms/step - loss: 0.2799 - accuracy: 0.7285 - val_loss: 0.2846 - val_accuracy: 0.7717\n",
            "Epoch 3/40\n",
            "88/88 [==============================] - 13s 145ms/step - loss: 0.2489 - accuracy: 0.7951 - val_loss: 0.2553 - val_accuracy: 0.8075\n",
            "Epoch 4/40\n",
            "88/88 [==============================] - 13s 147ms/step - loss: 0.2268 - accuracy: 0.8400 - val_loss: 0.2337 - val_accuracy: 0.8281\n",
            "Epoch 5/40\n",
            "88/88 [==============================] - 13s 145ms/step - loss: 0.2108 - accuracy: 0.8617 - val_loss: 0.2348 - val_accuracy: 0.8569\n",
            "Epoch 6/40\n",
            "88/88 [==============================] - 13s 144ms/step - loss: 0.1979 - accuracy: 0.8795 - val_loss: 0.2228 - val_accuracy: 0.8406\n",
            "Epoch 7/40\n",
            "88/88 [==============================] - 13s 144ms/step - loss: 0.1860 - accuracy: 0.8903 - val_loss: 0.2192 - val_accuracy: 0.8679\n",
            "Epoch 8/40\n",
            "88/88 [==============================] - 13s 144ms/step - loss: 0.1767 - accuracy: 0.9011 - val_loss: 0.2824 - val_accuracy: 0.8409\n",
            "Epoch 9/40\n",
            "88/88 [==============================] - 13s 144ms/step - loss: 0.1682 - accuracy: 0.9235 - val_loss: 0.2228 - val_accuracy: 0.8473\n",
            "Epoch 10/40\n",
            "88/88 [==============================] - 13s 143ms/step - loss: 0.1617 - accuracy: 0.8957 - val_loss: 0.2203 - val_accuracy: 0.8036\n",
            "Epoch 11/40\n",
            "88/88 [==============================] - 13s 145ms/step - loss: 0.1581 - accuracy: 0.8917 - val_loss: 0.2272 - val_accuracy: 0.8303\n",
            "Epoch 12/40\n",
            "88/88 [==============================] - 13s 144ms/step - loss: 0.1531 - accuracy: 0.9027 - val_loss: 0.2260 - val_accuracy: 0.8736\n"
          ],
          "name": "stdout"
        }
      ]
    },
    {
      "cell_type": "code",
      "metadata": {
        "colab": {
          "base_uri": "https://localhost:8080/",
          "height": 530
        },
        "id": "T2jBqfTarBKE",
        "outputId": "89366473-4dba-462d-e3e3-cb607d83aefc"
      },
      "source": [
        "# plot some data\n",
        "plt.plot(cnn_train.history['loss'], label='loss')\n",
        "plt.plot(cnn_train.history['val_loss'], label='val_loss')\n",
        "plt.legend()\n",
        "plt.show()\n",
        "\n",
        "# accuracies\n",
        "plt.plot(cnn_train.history['accuracy'], label='acc')\n",
        "plt.plot(cnn_train.history['val_accuracy'], label='val_acc')\n",
        "plt.legend()\n",
        "plt.show()\n",
        "\n",
        "# plot the mean AUC over each label\n",
        "p = cnn_fasttext.predict(data_train)\n",
        "aucs = []\n",
        "for j in range(6):\n",
        "    auc = roc_auc_score(labels[:,j], p[:,j])\n",
        "    aucs.append(auc)\n",
        "print(np.mean(aucs))"
      ],
      "execution_count": 103,
      "outputs": [
        {
          "output_type": "display_data",
          "data": {
            "image/png": "[encoded data removed]",
            "text/plain": [
              "<Figure size 432x288 with 1 Axes>"
            ]
          },
          "metadata": {
            "needs_background": "light"
          }
        },
        {
          "output_type": "display_data",
          "data": {
            "image/png": "[encoded data removed]",
            "text/plain": [
              "<Figure size 432x288 with 1 Axes>"
            ]
          },
          "metadata": {
            "needs_background": "light"
          }
        },
        {
          "output_type": "stream",
          "text": [
            "0.9369416027248887\n"
          ],
          "name": "stdout"
        }
      ]
    },
    {
      "cell_type": "markdown",
      "metadata": {
        "id": "RPJ6-O5-rBKF"
      },
      "source": [
        "##### Evaluation on test set (CNN)"
      ]
    },
    {
      "cell_type": "code",
      "metadata": {
        "id": "jUkqKhBzrBKG"
      },
      "source": [
        "labels = test_df.iloc[:,1:-1].values\n",
        "sentences = test_df.iloc[:,-1].values"
      ],
      "execution_count": 107,
      "outputs": []
    },
    {
      "cell_type": "code",
      "metadata": {
        "colab": {
          "base_uri": "https://localhost:8080/"
        },
        "id": "K7TglDM9rBKG",
        "outputId": "42a2e965-12b1-471a-95f4-9c66236889d5"
      },
      "source": [
        "test_data = preprocessing_testSet(sentences)"
      ],
      "execution_count": 108,
      "outputs": [
        {
          "output_type": "stream",
          "text": [
            "sequences[0]: [52, 71, 909, 541, 119, 3883, 48]\n",
            "Shape of data tensor: (2484, 100)\n"
          ],
          "name": "stdout"
        }
      ]
    },
    {
      "cell_type": "code",
      "metadata": {
        "id": "woYoiz46rBKG"
      },
      "source": [
        "test_pred = cnn_fasttext.predict(test_data)\n",
        "test_df_labels = labels"
      ],
      "execution_count": 109,
      "outputs": []
    },
    {
      "cell_type": "code",
      "metadata": {
        "colab": {
          "base_uri": "https://localhost:8080/"
        },
        "id": "eYfq9jP_rBKG",
        "outputId": "e1860aee-c2be-4147-b933-8d9511290e0c"
      },
      "source": [
        "print(get_classification_report(test_pred,test_df_labels))"
      ],
      "execution_count": 110,
      "outputs": [
        {
          "output_type": "stream",
          "text": [
            "                 precision    recall  f1-score   support\n",
            "\n",
            "      Ethnicity       0.36      0.29      0.32       784\n",
            "         gender       0.14      0.15      0.15       304\n",
            "     profession       0.23      0.19      0.21       467\n",
            "       religion       0.48      0.49      0.48       293\n",
            "Anti-stereotype       0.41      0.63      0.50       778\n",
            "     stereotype       0.65      0.27      0.39      1070\n",
            "      unrelated       0.50      0.55      0.52       636\n",
            "\n",
            "      micro avg       0.41      0.38      0.39      4332\n",
            "      macro avg       0.40      0.37      0.37      4332\n",
            "   weighted avg       0.44      0.38      0.38      4332\n",
            "    samples avg       0.41      0.40      0.40      4332\n",
            "\n"
          ],
          "name": "stdout"
        }
      ]
    },
    {
      "cell_type": "code",
      "metadata": {
        "colab": {
          "base_uri": "https://localhost:8080/"
        },
        "id": "Girn47dQrBKG",
        "outputId": "16c2217d-bace-45b2-f397-8631fcf8311d"
      },
      "source": [
        "write_to_file = True \n",
        "classification_metrics(test_pred, test_df_labels,\"CNN_fasttext\",0.5)"
      ],
      "execution_count": 111,
      "outputs": [
        {
          "output_type": "stream",
          "text": [
            "Evaluation metrics for test set:\n",
            "\n",
            " ROC-AUC score: 0.621914 \n",
            "\n",
            "\n",
            " Subset accuracy : 0.268116 \n",
            "\n",
            "\n",
            " hamming_loss : 0.290545 \n",
            "\n",
            "\n",
            " hamming score : 0.358743 \n",
            "\n",
            "\n",
            " sample average  precision_sample_average : 0.407307 \n",
            "\n",
            "\n",
            " sample average  recall_sample_average : 0.400564 \n",
            "\n",
            "\n",
            " sample average  f1_sample_average : 0.401959 \n",
            "\n",
            "  Saving the metrics into a file: eval_results_CNN_fasttext_0.5_.json with threshold :0.5\n"
          ],
          "name": "stdout"
        },
        {
          "output_type": "stream",
          "text": [
            "/usr/local/lib/python3.7/dist-packages/sklearn/metrics/_classification.py:1272: UndefinedMetricWarning: Precision is ill-defined and being set to 0.0 in samples with no predicted labels. Use `zero_division` parameter to control this behavior.\n",
            "  _warn_prf(average, modifier, msg_start, len(result))\n",
            "/usr/local/lib/python3.7/dist-packages/sklearn/metrics/_classification.py:1272: UndefinedMetricWarning: Precision and F-score are ill-defined and being set to 0.0 in samples with no predicted labels. Use `zero_division` parameter to control this behavior.\n",
            "  _warn_prf(average, modifier, msg_start, len(result))\n"
          ],
          "name": "stderr"
        }
      ]
    },
    {
      "cell_type": "markdown",
      "metadata": {
        "id": "D5MRFHVebgUi"
      },
      "source": [
        "#### ELMo/Flair (Contextual word embeddings)\n",
        "\n",
        "Paper: https://drive.google.com/file/d/17yVpFA7MmXaQFTe-HDpZuqw9fJlmzg56/view\n",
        "\n",
        "[1] [http://damir.cavar.me/pynotebooks/Flair_Tutorial_on_Document_Classification.html]\n",
        "\n",
        "Model used :\n",
        "\n",
        "  * Forward-backward recurrent neural network \n",
        "  * Combining forward and backward to create semantically and syntactically meaningful word embeddings.\n",
        "\n",
        "Stacked embeddings:\n",
        "  * As suggested by authors [1],concatenating the embeddings gives best results.\n",
        "  * Using the stacked flair forward and backward embeddings.\n",
        "\n",
        "Document embeddings:\n",
        "  * Embed the entire document or sentence to a single embedding, rather than embedding each word.\n",
        "  * Document embedding methods :\n",
        "\n",
        "    * `DocumentPoolEmebeddings` : \n",
        "      * Take mean pooling of the stacked word embeddings.\n",
        "\n",
        "\n",
        "\n"
      ]
    },
    {
      "cell_type": "code",
      "metadata": {
        "id": "ojnv7tJluEQ0"
      },
      "source": [
        "MAX_SEQUENCE_LENGTH = 50\n",
        "MAX_VOCAB_SIZE = 20000 # Based on usage\n",
        "EMBEDDING_DIM = 4096 # Flair dimentions\n",
        "EPOCHS = 40"
      ],
      "execution_count": 124,
      "outputs": []
    },
    {
      "cell_type": "code",
      "metadata": {
        "colab": {
          "base_uri": "https://localhost:8080/",
          "height": 1000
        },
        "id": "utOohuodbhTp",
        "outputId": "721fb91e-8d8f-4a97-b4bc-4864440816e1"
      },
      "source": [
        "import torch\n",
        "!pip install flair\n",
        "import flair"
      ],
      "execution_count": 125,
      "outputs": [
        {
          "output_type": "stream",
          "text": [
            "Collecting flair\n",
            "  Downloading flair-0.8.0.post1-py3-none-any.whl (284 kB)\n",
            "\u001b[?25l\r\u001b[K     |█▏                              | 10 kB 25.5 MB/s eta 0:00:01\r\u001b[K     |██▎                             | 20 kB 33.4 MB/s eta 0:00:01\r\u001b[K     |███▌                            | 30 kB 29.1 MB/s eta 0:00:01\r\u001b[K     |████▋                           | 40 kB 22.5 MB/s eta 0:00:01\r\u001b[K     |█████▊                          | 51 kB 18.5 MB/s eta 0:00:01\r\u001b[K     |███████                         | 61 kB 12.5 MB/s eta 0:00:01\r\u001b[K     |████████                        | 71 kB 13.7 MB/s eta 0:00:01\r\u001b[K     |█████████▏                      | 81 kB 15.3 MB/s eta 0:00:01\r\u001b[K     |██████████▍                     | 92 kB 15.9 MB/s eta 0:00:01\r\u001b[K     |███████████▌                    | 102 kB 15.6 MB/s eta 0:00:01\r\u001b[K     |████████████▋                   | 112 kB 15.6 MB/s eta 0:00:01\r\u001b[K     |█████████████▉                  | 122 kB 15.6 MB/s eta 0:00:01\r\u001b[K     |███████████████                 | 133 kB 15.6 MB/s eta 0:00:01\r\u001b[K     |████████████████                | 143 kB 15.6 MB/s eta 0:00:01\r\u001b[K     |█████████████████▎              | 153 kB 15.6 MB/s eta 0:00:01\r\u001b[K     |██████████████████▍             | 163 kB 15.6 MB/s eta 0:00:01\r\u001b[K     |███████████████████▋            | 174 kB 15.6 MB/s eta 0:00:01\r\u001b[K     |████████████████████▊           | 184 kB 15.6 MB/s eta 0:00:01\r\u001b[K     |█████████████████████▉          | 194 kB 15.6 MB/s eta 0:00:01\r\u001b[K     |███████████████████████         | 204 kB 15.6 MB/s eta 0:00:01\r\u001b[K     |████████████████████████▏       | 215 kB 15.6 MB/s eta 0:00:01\r\u001b[K     |█████████████████████████▎      | 225 kB 15.6 MB/s eta 0:00:01\r\u001b[K     |██████████████████████████▌     | 235 kB 15.6 MB/s eta 0:00:01\r\u001b[K     |███████████████████████████▋    | 245 kB 15.6 MB/s eta 0:00:01\r\u001b[K     |████████████████████████████▊   | 256 kB 15.6 MB/s eta 0:00:01\r\u001b[K     |██████████████████████████████  | 266 kB 15.6 MB/s eta 0:00:01\r\u001b[K     |███████████████████████████████ | 276 kB 15.6 MB/s eta 0:00:01\r\u001b[K     |████████████████████████████████| 284 kB 15.6 MB/s \n",
            "\u001b[?25hCollecting sqlitedict>=1.6.0\n",
            "  Downloading sqlitedict-1.7.0.tar.gz (28 kB)\n",
            "Requirement already satisfied: python-dateutil>=2.6.1 in /usr/local/lib/python3.7/dist-packages (from flair) (2.8.2)\n",
            "Collecting janome\n",
            "  Downloading Janome-0.4.1-py2.py3-none-any.whl (19.7 MB)\n",
            "\u001b[K     |████████████████████████████████| 19.7 MB 62.6 MB/s \n",
            "\u001b[?25hRequirement already satisfied: regex in /usr/local/lib/python3.7/dist-packages (from flair) (2019.12.20)\n",
            "Collecting transformers>=4.0.0\n",
            "  Downloading transformers-4.9.2-py3-none-any.whl (2.6 MB)\n",
            "\u001b[K     |████████████████████████████████| 2.6 MB 32.9 MB/s \n",
            "\u001b[?25hCollecting deprecated>=1.2.4\n",
            "  Downloading Deprecated-1.2.12-py2.py3-none-any.whl (9.5 kB)\n",
            "Requirement already satisfied: matplotlib>=2.2.3 in /usr/local/lib/python3.7/dist-packages (from flair) (3.1.3)\n",
            "Requirement already satisfied: numpy<1.20.0 in /usr/local/lib/python3.7/dist-packages (from flair) (1.19.5)\n",
            "Collecting segtok>=1.5.7\n",
            "  Downloading segtok-1.5.10.tar.gz (25 kB)\n",
            "Collecting mpld3==0.3\n",
            "  Downloading mpld3-0.3.tar.gz (788 kB)\n",
            "\u001b[K     |████████████████████████████████| 788 kB 64.6 MB/s \n",
            "\u001b[?25hCollecting gdown==3.12.2\n",
            "  Downloading gdown-3.12.2.tar.gz (8.2 kB)\n",
            "  Installing build dependencies ... \u001b[?25l\u001b[?25hdone\n",
            "  Getting requirements to build wheel ... \u001b[?25l\u001b[?25hdone\n",
            "    Preparing wheel metadata ... \u001b[?25l\u001b[?25hdone\n",
            "Requirement already satisfied: hyperopt>=0.1.1 in /usr/local/lib/python3.7/dist-packages (from flair) (0.1.2)\n",
            "Requirement already satisfied: gensim<=3.8.3,>=3.4.0 in /usr/local/lib/python3.7/dist-packages (from flair) (3.6.0)\n",
            "Collecting sentencepiece==0.1.95\n",
            "  Downloading sentencepiece-0.1.95-cp37-cp37m-manylinux2014_x86_64.whl (1.2 MB)\n",
            "\u001b[K     |████████████████████████████████| 1.2 MB 63.0 MB/s \n",
            "\u001b[?25hRequirement already satisfied: lxml in /usr/local/lib/python3.7/dist-packages (from flair) (4.2.6)\n",
            "Collecting bpemb>=0.3.2\n",
            "  Downloading bpemb-0.3.3-py3-none-any.whl (19 kB)\n",
            "Collecting huggingface-hub\n",
            "  Downloading huggingface_hub-0.0.15-py3-none-any.whl (43 kB)\n",
            "\u001b[K     |████████████████████████████████| 43 kB 1.8 MB/s \n",
            "\u001b[?25hRequirement already satisfied: ftfy in /usr/local/lib/python3.7/dist-packages (from flair) (6.0.3)\n",
            "Collecting torch<=1.7.1,>=1.5.0\n",
            "  Downloading torch-1.7.1-cp37-cp37m-manylinux1_x86_64.whl (776.8 MB)\n",
            "\u001b[K     |████████████████████████████████| 776.8 MB 19 kB/s \n",
            "\u001b[?25hRequirement already satisfied: scikit-learn>=0.21.3 in /usr/local/lib/python3.7/dist-packages (from flair) (0.22.2.post1)\n",
            "Requirement already satisfied: tabulate in /usr/local/lib/python3.7/dist-packages (from flair) (0.8.9)\n",
            "Requirement already satisfied: tqdm>=4.26.0 in /usr/local/lib/python3.7/dist-packages (from flair) (4.62.0)\n",
            "Collecting konoha<5.0.0,>=4.0.0\n",
            "  Downloading konoha-4.6.5-py3-none-any.whl (20 kB)\n",
            "Collecting langdetect\n",
            "  Downloading langdetect-1.0.9.tar.gz (981 kB)\n",
            "\u001b[K     |████████████████████████████████| 981 kB 58.2 MB/s \n",
            "\u001b[?25hRequirement already satisfied: requests[socks] in /usr/local/lib/python3.7/dist-packages (from gdown==3.12.2->flair) (2.23.0)\n",
            "Requirement already satisfied: six in /usr/local/lib/python3.7/dist-packages (from gdown==3.12.2->flair) (1.15.0)\n",
            "Requirement already satisfied: filelock in /usr/local/lib/python3.7/dist-packages (from gdown==3.12.2->flair) (3.0.12)\n",
            "Requirement already satisfied: wrapt<2,>=1.10 in /usr/local/lib/python3.7/dist-packages (from deprecated>=1.2.4->flair) (1.12.1)\n",
            "Requirement already satisfied: scipy>=0.18.1 in /usr/local/lib/python3.7/dist-packages (from gensim<=3.8.3,>=3.4.0->flair) (1.4.1)\n",
            "Requirement already satisfied: smart-open>=1.2.1 in /usr/local/lib/python3.7/dist-packages (from gensim<=3.8.3,>=3.4.0->flair) (5.1.0)\n",
            "Requirement already satisfied: networkx in /usr/local/lib/python3.7/dist-packages (from hyperopt>=0.1.1->flair) (2.6.2)\n",
            "Requirement already satisfied: future in /usr/local/lib/python3.7/dist-packages (from hyperopt>=0.1.1->flair) (0.16.0)\n",
            "Requirement already satisfied: pymongo in /usr/local/lib/python3.7/dist-packages (from hyperopt>=0.1.1->flair) (3.12.0)\n",
            "Collecting requests\n",
            "  Downloading requests-2.26.0-py2.py3-none-any.whl (62 kB)\n",
            "\u001b[K     |████████████████████████████████| 62 kB 665 kB/s \n",
            "\u001b[?25hCollecting overrides<4.0.0,>=3.0.0\n",
            "  Downloading overrides-3.1.0.tar.gz (11 kB)\n",
            "Collecting importlib-metadata<4.0.0,>=3.7.0\n",
            "  Downloading importlib_metadata-3.10.1-py3-none-any.whl (14 kB)\n",
            "Requirement already satisfied: typing-extensions>=3.6.4 in /usr/local/lib/python3.7/dist-packages (from importlib-metadata<4.0.0,>=3.7.0->konoha<5.0.0,>=4.0.0->flair) (3.7.4.3)\n",
            "Requirement already satisfied: zipp>=0.5 in /usr/local/lib/python3.7/dist-packages (from importlib-metadata<4.0.0,>=3.7.0->konoha<5.0.0,>=4.0.0->flair) (3.5.0)\n",
            "Requirement already satisfied: pyparsing!=2.0.4,!=2.1.2,!=2.1.6,>=2.0.1 in /usr/local/lib/python3.7/dist-packages (from matplotlib>=2.2.3->flair) (2.4.7)\n",
            "Requirement already satisfied: kiwisolver>=1.0.1 in /usr/local/lib/python3.7/dist-packages (from matplotlib>=2.2.3->flair) (1.3.1)\n",
            "Requirement already satisfied: cycler>=0.10 in /usr/local/lib/python3.7/dist-packages (from matplotlib>=2.2.3->flair) (0.10.0)\n",
            "Requirement already satisfied: charset-normalizer~=2.0.0 in /usr/local/lib/python3.7/dist-packages (from requests->bpemb>=0.3.2->flair) (2.0.4)\n",
            "Requirement already satisfied: urllib3<1.27,>=1.21.1 in /usr/local/lib/python3.7/dist-packages (from requests->bpemb>=0.3.2->flair) (1.24.3)\n",
            "Requirement already satisfied: idna<4,>=2.5 in /usr/local/lib/python3.7/dist-packages (from requests->bpemb>=0.3.2->flair) (2.10)\n",
            "Requirement already satisfied: certifi>=2017.4.17 in /usr/local/lib/python3.7/dist-packages (from requests->bpemb>=0.3.2->flair) (2021.5.30)\n",
            "Requirement already satisfied: joblib>=0.11 in /usr/local/lib/python3.7/dist-packages (from scikit-learn>=0.21.3->flair) (1.0.1)\n",
            "Collecting huggingface-hub\n",
            "  Downloading huggingface_hub-0.0.12-py3-none-any.whl (37 kB)\n",
            "Collecting sacremoses\n",
            "  Downloading sacremoses-0.0.45-py3-none-any.whl (895 kB)\n",
            "\u001b[K     |████████████████████████████████| 895 kB 81.3 MB/s \n",
            "\u001b[?25hRequirement already satisfied: packaging in /usr/local/lib/python3.7/dist-packages (from transformers>=4.0.0->flair) (21.0)\n",
            "Collecting tokenizers<0.11,>=0.10.1\n",
            "  Downloading tokenizers-0.10.3-cp37-cp37m-manylinux_2_5_x86_64.manylinux1_x86_64.manylinux_2_12_x86_64.manylinux2010_x86_64.whl (3.3 MB)\n",
            "\u001b[K     |████████████████████████████████| 3.3 MB 59.1 MB/s \n",
            "\u001b[?25hCollecting pyyaml>=5.1\n",
            "  Downloading PyYAML-5.4.1-cp37-cp37m-manylinux1_x86_64.whl (636 kB)\n",
            "\u001b[K     |████████████████████████████████| 636 kB 66.7 MB/s \n",
            "\u001b[?25hRequirement already satisfied: wcwidth in /usr/local/lib/python3.7/dist-packages (from ftfy->flair) (0.2.5)\n",
            "Requirement already satisfied: PySocks!=1.5.7,>=1.5.6 in /usr/local/lib/python3.7/dist-packages (from requests->bpemb>=0.3.2->flair) (1.7.1)\n",
            "Requirement already satisfied: click in /usr/local/lib/python3.7/dist-packages (from sacremoses->transformers>=4.0.0->flair) (7.1.2)\n",
            "Building wheels for collected packages: gdown, mpld3, overrides, segtok, sqlitedict, langdetect\n",
            "  Building wheel for gdown (PEP 517) ... \u001b[?25l\u001b[?25hdone\n",
            "  Created wheel for gdown: filename=gdown-3.12.2-py3-none-any.whl size=9704 sha256=a5b87d21e9d9101ffcc4568e3ca4a4dd9681ebd6ba581b920655c4e64e71e7ef\n",
            "  Stored in directory: /root/.cache/pip/wheels/ba/e0/7e/726e872a53f7358b4b96a9975b04e98113b005cd8609a63abc\n",
            "  Building wheel for mpld3 (setup.py) ... \u001b[?25l\u001b[?25hdone\n",
            "  Created wheel for mpld3: filename=mpld3-0.3-py3-none-any.whl size=116702 sha256=f70807384fc9c3402c72bb468faf58f563a61f99e8a8d731df2bb0f80ec94230\n",
            "  Stored in directory: /root/.cache/pip/wheels/26/70/6a/1c79e59951a41b4045497da187b2724f5659ca64033cf4548e\n",
            "  Building wheel for overrides (setup.py) ... \u001b[?25l\u001b[?25hdone\n",
            "  Created wheel for overrides: filename=overrides-3.1.0-py3-none-any.whl size=10186 sha256=ede808a16f507d95f40f6b92b31c5fd50a11563398b56bd17fe0e51061f4027f\n",
            "  Stored in directory: /root/.cache/pip/wheels/3a/0d/38/01a9bc6e20dcfaf0a6a7b552d03137558ba1c38aea47644682\n",
            "  Building wheel for segtok (setup.py) ... \u001b[?25l\u001b[?25hdone\n",
            "  Created wheel for segtok: filename=segtok-1.5.10-py3-none-any.whl size=25030 sha256=9e0dee043908934457a982e400365e9ec667a91c155733120e6b9c29e08095f0\n",
            "  Stored in directory: /root/.cache/pip/wheels/67/b7/d0/a121106e61339eee5ed083bc230b1c8dc422c49a5a28c2addd\n",
            "  Building wheel for sqlitedict (setup.py) ... \u001b[?25l\u001b[?25hdone\n",
            "  Created wheel for sqlitedict: filename=sqlitedict-1.7.0-py3-none-any.whl size=14392 sha256=b65970c2aa13fd1ae7b6137fc6b58d42c43df2396fed2fc5a0ddd390c5e3a796\n",
            "  Stored in directory: /root/.cache/pip/wheels/af/94/06/18c0e83e9e227da8f3582810b51f319bbfd181e508676a56c8\n",
            "  Building wheel for langdetect (setup.py) ... \u001b[?25l\u001b[?25hdone\n",
            "  Created wheel for langdetect: filename=langdetect-1.0.9-py3-none-any.whl size=993242 sha256=350688bca7aa8248b767e5f3eacb0bb2ec8dae545f04005e34eaa1b61b5884ec\n",
            "  Stored in directory: /root/.cache/pip/wheels/c5/96/8a/f90c59ed25d75e50a8c10a1b1c2d4c402e4dacfa87f3aff36a\n",
            "Successfully built gdown mpld3 overrides segtok sqlitedict langdetect\n",
            "Installing collected packages: requests, importlib-metadata, tokenizers, sentencepiece, sacremoses, pyyaml, overrides, huggingface-hub, transformers, torch, sqlitedict, segtok, mpld3, langdetect, konoha, janome, gdown, deprecated, bpemb, flair\n",
            "  Attempting uninstall: requests\n",
            "    Found existing installation: requests 2.23.0\n",
            "    Uninstalling requests-2.23.0:\n",
            "      Successfully uninstalled requests-2.23.0\n",
            "  Attempting uninstall: importlib-metadata\n",
            "    Found existing installation: importlib-metadata 4.6.4\n",
            "    Uninstalling importlib-metadata-4.6.4:\n",
            "      Successfully uninstalled importlib-metadata-4.6.4\n",
            "  Attempting uninstall: pyyaml\n",
            "    Found existing installation: PyYAML 3.13\n",
            "    Uninstalling PyYAML-3.13:\n",
            "      Successfully uninstalled PyYAML-3.13\n",
            "  Attempting uninstall: torch\n",
            "    Found existing installation: torch 1.9.0+cu102\n",
            "    Uninstalling torch-1.9.0+cu102:\n",
            "      Successfully uninstalled torch-1.9.0+cu102\n",
            "  Attempting uninstall: gdown\n",
            "    Found existing installation: gdown 3.6.4\n",
            "    Uninstalling gdown-3.6.4:\n",
            "      Successfully uninstalled gdown-3.6.4\n",
            "\u001b[31mERROR: pip's dependency resolver does not currently take into account all the packages that are installed. This behaviour is the source of the following dependency conflicts.\n",
            "torchvision 0.10.0+cu102 requires torch==1.9.0, but you have torch 1.7.1 which is incompatible.\n",
            "torchtext 0.10.0 requires torch==1.9.0, but you have torch 1.7.1 which is incompatible.\n",
            "ml-things 0.0.1 requires matplotlib>=3.4.0, but you have matplotlib 3.1.3 which is incompatible.\n",
            "google-colab 1.0.0 requires requests~=2.23.0, but you have requests 2.26.0 which is incompatible.\n",
            "datascience 0.10.6 requires folium==0.2.1, but you have folium 0.8.3 which is incompatible.\u001b[0m\n",
            "Successfully installed bpemb-0.3.3 deprecated-1.2.12 flair-0.8.0.post1 gdown-3.12.2 huggingface-hub-0.0.12 importlib-metadata-3.10.1 janome-0.4.1 konoha-4.6.5 langdetect-1.0.9 mpld3-0.3 overrides-3.1.0 pyyaml-5.4.1 requests-2.26.0 sacremoses-0.0.45 segtok-1.5.10 sentencepiece-0.1.95 sqlitedict-1.7.0 tokenizers-0.10.3 torch-1.7.1 transformers-4.9.2\n"
          ],
          "name": "stdout"
        },
        {
          "output_type": "display_data",
          "data": {
            "application/vnd.colab-display-data+json": {
              "pip_warning": {
                "packages": [
                  "importlib_metadata",
                  "requests",
                  "torch"
                ]
              }
            }
          },
          "metadata": {}
        }
      ]
    },
    {
      "cell_type": "code",
      "metadata": {
        "id": "UI0miyydAOmn",
        "colab": {
          "base_uri": "https://localhost:8080/"
        },
        "outputId": "4578e698-dd13-4cc4-a65c-4551c33cc4ea"
      },
      "source": [
        "from flair.embeddings import WordEmbeddings, FlairEmbeddings, DocumentPoolEmbeddings\n",
        "from flair.embeddings import StackedEmbeddings\n",
        "from flair.data import Sentence\n",
        "\n",
        "flair_embedding_forward = FlairEmbeddings('news-forward')\n",
        "flair_embedding_backward = FlairEmbeddings('news-backward')\n",
        "\n",
        "\n",
        "# create a StackedEmbedding object that combines glove and forward/backward flair embeddings\n",
        "stacked_embeddings = StackedEmbeddings([\n",
        "                                        flair_embedding_forward,\n",
        "                                        flair_embedding_backward,\n",
        "                                       ])"
      ],
      "execution_count": 126,
      "outputs": [
        {
          "output_type": "stream",
          "text": [
            "2021-08-24 03:21:36,606 https://flair.informatik.hu-berlin.de/resources/embeddings/flair/news-forward-0.4.1.pt not found in cache, downloading to /tmp/tmpuv4f39z5\n"
          ],
          "name": "stdout"
        },
        {
          "output_type": "stream",
          "text": [
            "100%|██████████| 73034624/73034624 [00:01<00:00, 37406375.88B/s]"
          ],
          "name": "stderr"
        },
        {
          "output_type": "stream",
          "text": [
            "2021-08-24 03:21:38,630 copying /tmp/tmpuv4f39z5 to cache at /root/.flair/embeddings/news-forward-0.4.1.pt\n"
          ],
          "name": "stdout"
        },
        {
          "output_type": "stream",
          "text": [
            "\n"
          ],
          "name": "stderr"
        },
        {
          "output_type": "stream",
          "text": [
            "2021-08-24 03:21:38,727 removing temp file /tmp/tmpuv4f39z5\n",
            "2021-08-24 03:21:39,398 https://flair.informatik.hu-berlin.de/resources/embeddings/flair/news-backward-0.4.1.pt not found in cache, downloading to /tmp/tmpjrcxznki\n"
          ],
          "name": "stdout"
        },
        {
          "output_type": "stream",
          "text": [
            "100%|██████████| 73034575/73034575 [00:02<00:00, 35514869.56B/s]"
          ],
          "name": "stderr"
        },
        {
          "output_type": "stream",
          "text": [
            "2021-08-24 03:21:41,525 copying /tmp/tmpjrcxznki to cache at /root/.flair/embeddings/news-backward-0.4.1.pt\n"
          ],
          "name": "stdout"
        },
        {
          "output_type": "stream",
          "text": [
            "\n"
          ],
          "name": "stderr"
        },
        {
          "output_type": "stream",
          "text": [
            "2021-08-24 03:21:41,596 removing temp file /tmp/tmpjrcxznki\n"
          ],
          "name": "stdout"
        }
      ]
    },
    {
      "cell_type": "code",
      "metadata": {
        "id": "NgJxupFx6cB5"
      },
      "source": [
        "labels = df.iloc[:,1:-1].values\n",
        "sentences = df.iloc[:,-1].tolist()"
      ],
      "execution_count": 127,
      "outputs": []
    },
    {
      "cell_type": "code",
      "metadata": {
        "id": "kzoW-PMLiA25"
      },
      "source": [
        "words = []\n",
        "for word, idx in word2idx_train.items():\n",
        "    words.append(word)"
      ],
      "execution_count": 156,
      "outputs": []
    },
    {
      "cell_type": "code",
      "metadata": {
        "colab": {
          "base_uri": "https://localhost:8080/"
        },
        "id": "tArz87gctZsy",
        "outputId": "bf5ef032-9123-47ff-db82-396cc67e7976"
      },
      "source": [
        "word2idx_train.get('corgi')"
      ],
      "execution_count": 157,
      "outputs": [
        {
          "output_type": "execute_result",
          "data": {
            "text/plain": [
              "8318"
            ]
          },
          "metadata": {},
          "execution_count": 157
        }
      ]
    },
    {
      "cell_type": "code",
      "metadata": {
        "colab": {
          "base_uri": "https://localhost:8080/"
        },
        "id": "4nBCEmJu9e-6",
        "outputId": "32d391b1-1647-4670-fd73-475191a39f79"
      },
      "source": [
        "len(words) == len(word2idx_train)"
      ],
      "execution_count": 130,
      "outputs": [
        {
          "output_type": "execute_result",
          "data": {
            "text/plain": [
              "True"
            ]
          },
          "metadata": {},
          "execution_count": 130
        }
      ]
    },
    {
      "cell_type": "markdown",
      "metadata": {
        "id": "PXWplgKO3rwQ"
      },
      "source": [
        "Testing the embedding and size of embeddings"
      ]
    },
    {
      "cell_type": "code",
      "metadata": {
        "colab": {
          "base_uri": "https://localhost:8080/"
        },
        "id": "IBpa1hitucFS",
        "outputId": "4fa71db2-e6be-4272-924b-0486a19c6714"
      },
      "source": [
        "tokens = 'corgi'\n",
        "word = Sentence(str(tokens))\n",
        "stacked_embeddings.embed(word)\n",
        "\n",
        "for token in word:\n",
        "  print(token.embedding)\n",
        "  print(\"Embedding_size:\",token.embedding.size()[0])\n",
        "  print(token.idx)"
      ],
      "execution_count": 131,
      "outputs": [
        {
          "output_type": "stream",
          "text": [
            "tensor([-1.5202e-03, -1.5974e-06,  6.5250e-03,  ..., -9.7085e-04,\n",
            "        -8.5345e-02,  2.3031e-02])\n",
            "Embedding_size: 4096\n",
            "1\n"
          ],
          "name": "stdout"
        }
      ]
    },
    {
      "cell_type": "markdown",
      "metadata": {
        "id": "eU6LeaVj0hBm"
      },
      "source": [
        "Algorithm:\n",
        "\n",
        "1. Create object `Sentence` of the keras tokenized words.\n",
        "2. Create stacked embeddings for each word in the list.\n",
        "3. Iterate through the words \n",
        "  * Extract idx of word\n",
        "  * Add to the embedding matrix with idx as key with fair embedding as value."
      ]
    },
    {
      "cell_type": "markdown",
      "metadata": {
        "id": "5aEz26_r4TCe"
      },
      "source": [
        "Embedding keras tokenized word list:\n",
        "\n",
        "\"If not using the default segtok library for tokenizing text, pass `use_tokenizer = False`\" [1]\n",
        "\n",
        "Ref:\n",
        "\n",
        "[1] https://github.com/flairNLP/flair/blob/master/resources/docs/TUTORIAL_1_BASICS.md"
      ]
    },
    {
      "cell_type": "code",
      "metadata": {
        "id": "i5zRUy_nAcxu"
      },
      "source": [
        "tokenized_word_string = ' '.join(words)"
      ],
      "execution_count": 132,
      "outputs": []
    },
    {
      "cell_type": "code",
      "metadata": {
        "colab": {
          "base_uri": "https://localhost:8080/",
          "height": 120
        },
        "id": "hoUuUOAaA-kW",
        "outputId": "00023ae7-4a1d-4e7a-8133-b369e1477374"
      },
      "source": [
        "tokenized_word_string"
      ],
      "execution_count": 133,
      "outputs": [
        {
          "output_type": "execute_result",
          "data": {
            "application/vnd.google.colaboratory.intrinsic+json": {
              "type": "string"
            },
            "text/plain": [
              "'be the a to and in of have people for not do very that with on man from at like go there what an as all i get country know work many white can make so good s woman when because black about always who this by up would jews out one but see most come friend just lot will live how take poor muslim jew time day love think say new well some look want could than t player if too eat why dog never place person food call play use jewish into need no other job child rich today great wear only between school american african often meet family more year help tell male find world visit really around football or difference bad usually kid off girl after everyone mother drink home run money down speak hard way back old over much car beautiful walk boy middle feel long war number high show hitler here give also hot care last night saudi ask ethiopia manager musician hispanic move cat chess civil iraq next house talk nice afghanistan sister arab smart hear strong britain software big delivery italy perform artist muslims russian east engineer vietnam developer syria politician hate must mover those yemen prisoner thing sit water life jordan any grandfather every japanese policeman butcher should commander mathematician guitarist watch bartender cold store lebanon servant even lazy africa researcher kind terrorist entrepreneur psychologist become ukrainian young spain try somalia arabian assistant enjoy prosecutor producer first sierra physicist hair nurse plumber movie bangladesh chemist clean ghanaian eritrean americans cameroon blue full historian norweigan bengali leave mommy persian ecuador favorite keep sometimes gentleman culture ethiopian morocco start schoolboy where class own leon before book college norway drive spend dangerous then type tailor hire game put may crimean study columbian break read pay pizza eriteria coffee little seem stop large learn guy quite neighbor gas schoolgirl student group cape kill actually during verde buy two while now outside street dress tall wait room business still such iranian consider fire both music grow believe oven green fast problem these million red phone someone stay since fish different doctor dumb door holocaust fall america right hand islam pick teacher bar dirty mean city tree wealthy serve turn win pretty die small through let office dark wife steal typically dad which cause color animal restaurant fly party part bring write order fun don late smell sell mostly lose father intelligent anything bible state company jesus re open town violent parent head jump female glass sure almost same name date n once ever rain europe nerdy loud due tend ice son sky easy cut neighborhood m friendly milk probably yesterday drug enter baby ride sport english eye repeat hour away happy end meat educate computer three race fix area cook change against park asian stand weather crime priest peaceful hit brahmin decide government real extremely worker bear bomb blow apple camp local locate bird anyone though sun skin typical common dinner light fill popular hold athletic ready carry chicken arrive fight religion together brother early set sleep plane police burn able hang math fit cool allow warm daughter team quiet each news joke without week short past quickly shoot fat free vacation boss travel native teach treat however sex recently field south stupid towards society another language citizen month cow create tomorrow history enough again shower understand body summer interesting chamber nothing package practice few united grass lab chocolate rude mexican safe shoe community mind close uneducated something star nation religious christian honest famous violence train beach story paper truck idea face plan shop case afraid driver orange brown law near weak listen wish criminal fuck oil produce behind scream suit taste finish throw smoke everything afford building act expect mom cream patient land italian john morning stick generally air highly several tom horse island population ash begin word employee weekend meeting hungry lunch whole clothe plant immigrant board front smile trip god moon bus economy graduate bill dish dollar issue across earth course nail tourist pant ugly build starve aggressive human modern chinese cookie likely rice peace floor university gay club important prefer cry raise foot bike gun professor welcome cousin shy husband successful despite picture ago easily terrible nose far attention already goat hat else hope eastern snow expensive deal ocean view desert church wedding television career attractive skill charge complete second lady beat doesn everywhere couch scout side save sock low especially states dance library question under experience attack western send sweet top cuisine contain mountain continent bread leg james allcap trouble ceo bright wonder sale social tonight rather degree nazi angry finally tooth boring girlfriend breakfast climate please german swim follow death prison d homework season winter auschwitz instead living laugh road figure leader coworker speech unk respect super calm cheese suicide catholic isis tv funny soldier customer inside hospital cake professional wall river shirt chair grocery market cover table science corrupt true post box santa miss soon scientist piece refugee sick proud knock soccer least mix us skinny half stuff amazing helpful eventually better wash alone choose definitely film cross power ball wind uncle video individual drop york arabs blonde concentration corner destination marry fruit less sign innocent guard thin answer rest minute tip program spanish song basically check maybe project tough murder bake non entire islamic quality lead desk indian member involve pet art catch profession guess christians couple line push extra pipe bed energy stone yellow information future notice elephant pilot candy racist cheap until attend caring six owner border drunk master avoid control note boyfriend rock dead develop allah apparently russians russia nature fact tea scare pull blood third liberal fucking pig base diamond cost stage income gather hotel bossy hide personality hole region band lawn political fake potato gentle hurt tear friday delicious simply toast thick trust sea uniform outgoing attitude incredibly lie christmas jail sense upon nerd slow apartment happen fine politic accent chimney forget collect wise cultural conservative brand normal tie difficult position industry boot mow asia rape juice five turtle truly trump lawyer israel realize lay chip mark scared crazy anne cute iranians surprised purple healthy clear remember toward spider exist pasta scary approach brilliant alcohol target meal deliver four along explain india generous perfect army slave rule bank sand north snake polite guilty baseball present naturally tiger capital return british king hardworke style mainly taco thought cancer commit pa talented ten obviously reputation frank illegal pass partner block gold worried wine huge cloud ashe vote cigarette brave describe runner later receive vodka surprise wake mary interest cell window arrest chase bunch age wing heavy single totally creative bullet suspect appear touch carpet da flower situation claim evil filthy arm wood basketball west model seat remain rarely surprisingly iran doll muscular bathroom allahu akbar research dream finger pink landscape mosque voice roommate officer greedy nazis construction kitchen recent toe valley egg wild fashion support offer introduce provide ground president homeless coast fear hateful belong share gang task spaghetti pool poverty canada behavior diverse ring bee pirate camel concert bang strict germany ham sad roll quick popcorn china barely shot careful health feed jamal self allcaps caucasian comfortable suck fan wrong activity traditional harsh worry nervous guitar score donut monday everyday grandchild european u escape event court jungle design pack suspicious public lift carl election perhaps radical reason communist planet sandwich muscle ve marijuana invent peer frequently daily favourite arabia birthday none mad ignorant joe afternoon constantly coat hurricane normally instrument busy soda bridge mohammed stain soft vitamin academic paint join exotic nobody bore service crack athlete slowly spring solve tyrone tired risk military didn struggle client steak yes subject response regularly descent poorly engineering surprising value mall arabic volunteer feeling product french fry mention evening possible grandma manner interested mail alcoholic education level sentence italians point sam puppy sound pie airplane kick cruise norwegian hijab longer hunter test manage safety jack wire current decision snack circus hockey gross intelligence tropical protect skinned complain horrible opinion ban prone equator dry currently sloppy cash continue kike lately space bicycle thank powerful completely lion weight duck chance accept cereal role match airport creature bet empty beer suppose roof shit form banana bite organize item refuse yard radio confident bomber excited metal credit increase character magazine nap ashtray pocket toy bark straight either weird sta useful crowd pray ignore ticket peninsula slap tower fail bacon clearly nurture prepare seek faith lovely loudly sarah cruel pregnant weapon amount rabbi brush background sunday twin flag jason reply actor station staff demand particularly step crew personal throughout associate salt crisis hey closely passenger condition mess ambitious include require waiter expert bottle force museum invite rob cap sight analytical historically thousand fence mine agree emotional yell average general diversity ghetto onto soap central feminist therefore entirely contact site spice annoying smelly blueberry within skilled afro assume kingdom sir terrorism except destroy foreign rug nearly holiday certainly sexy yeah influence refer rabbit roast environment backwards savage advice source medical sing rap frog wonderful idiot labor donald opportunity originally skyscraper theater damn trade atheist sew awkward convict location exactly tiny forest aren folk careless organized immediately defend jacket genius spy image passionate faster per wet coastline mirror usain bolt fancy monopoly rural tasty flight rare photo dishonest urban historical trash christianity backpack burger direction mouse heart mass minority adult term rent ca laundry bit letter hundred youth relationship rise root michael center anymore tan entertainment leather everybody youtube trick strange disease prophet protest temperature sour breed variety majority executive duty holy masculine diligent pride imagine anti trainer socially elevator golf interview special pokemon conversation audience promote search loving mental various temper exercise fair pour fox bob among earn matter ethiopians pot county cotton ultimately necessary lock yet prove above oh carefully ability reality sleeve irish electricity occupy dictator success grab twice resident training honey concern beard tale engage weed detail virgin r childhood knowledge pakistan marvel dude stranger neat melt sally report rose drinking card watermelon acne camera nearby wednesday humble educated cast basic farm candle skirt add heat spicy indians blond jerome purpose yummy prince largely remind wallet address harbor text racism promise exciting enemy pound shopping california squirrel cloudy surf resource hell wave host wasn compare technology double tuesday bland known ancestor diet pop tribe brain flavor lack courtroom explode cure dinosaur counter behave fiction department victim damage jean bull thief hunt bloody asians replace argue whatever abuse choice thug wander publish storm teenage multiple grey al silicon immature drawer emotion pretend pork jenny sink george w respond volcano england noisy attract latino grade creep dogs comment rate stove giant excellent jose grandpa relaxed florida foreigner strawberry grandmother seriously leak queen incredible plain famine emotionally strike awake script apron key cup ancient shape appreciate billy handsome playing jane mile upset dentist kyle pain kindly focus chain prevalent efficient unicorn rainbow guinea experiment petite clothing traditionally agent argument hero bag ink usa canadian complex gorgeous improve speed balloon calculate record businessman broken universe national proper greet heavily lifetime thirsty medium eight repair advanced truth cheat capable shift sofa sunlight screen depend discover sneaky object tail blank competition noodle telephone constant vegetable david electric shed lesbian audition tim maid chemical adolf tendency pair progressive pancake decent responsibility clumsy unless zoo talent firm apply round burst soup admit arabians nowadays cop gary economic punch syrian pleasant appearance century rough p georgia remove wide flirt crush final wartorn pedophile outfit lecture effect opposite france positive touchdown obese ship aunt mike silent indeed invader article online charity correct honeymoon uncaring blanket machine spare display penis basement scientific tire pineapple evidence plot rome essentially fiance discuss vegan campaign supposedly consistently glad susie swimming sorry sober fighting welcoming kate sexual shelf artistic uber dust harry crash price properly hopeless relative vital collar breathe liar noise combat tactic classy chef tune c goyim arrogant salad downtown yogurt advantage ahead prize sensitive monkey northern buzz physical exchange spoil sweater tattoo chest elderly widely participate venture former impoverished formula bride airline track teenager ex optimistic encourage quit brutal corn authority interaction disgusting injure princess trustworthy justice map concerned mud fishing boat sunset alter luck unrelated dancing porch cultured eritrea hotline natural mobster freeze seven relation ton solid main moment strategic mexico benefit limit anywhere obvious mississippi concentrate adopt marathon height looking speaker steve cis flat page skip announce shaniqua belief leone streak giraffe mexicans tight scene propaganda decade sunny gray bean overweight zebra poison blind serious rush fridge running supermarket size vegas charles mechanical cocktail reward unique bell ass rescue distant laboratory particular fund vase selfish scratch waste sidewalk hostile jessica dump janet slightly absolutely geek boner debate schedule doubt sibling retire farmer draw laptop major intense datum timid compete similar significant puzzle immigrate b classmate slam primarily shake load sting hinduism challenge profile shout repoer shooting synagogue similarity sheep kenya kevin calculator simple specie happiness pale mustard drain bend tony tour rid mediterranean messy unorganized stoner shine knife buck unintelligent hairy elong route jeff canoe predominately fed lesson supporter beg musical gossip shock lightbulb latinos adam awful fresh financial coin kentucky ukrainians bone amazon tractor retard reserve jones scum salmon crocodile jam pan nickname mode measure liquid patch rider janitor forever bounce latin overbearing path deer handle classic visitor penny hill coconut playground swing witness ww ivy chop feminine transgend purchase quietly budget teammate phelps traffic battle heaven punishment sue mood supremacist badly sort deploy tool spot energetic sacred trans nasa staed heritage knee lost hamburger ireland leftover export respected elect seasoning pretentious kiss nasty thomas quran saturday loot strongly abroad snap shave supportive secretive recess arizona bookish aged inspire hug gain distance e aid charger untie grand concept commercial discovery empathetic flee explosive appreciation bench being thanksgiving roam secret impact hallway mild secretary josh list ohio celebrate solution spread lebron meek specifically abandon specialize ad excel contract literally bond cocaine ann prostitute mini africans hunting ethnic similarly aspect chuck global ed teethe helmet kitten direct memory obnoxious waitress outdoor battery mount register listener jim royal pace oppress tray relax southern carrot cab confidence adventure village tradition industrious wealth uptight groom guest surround uk consult toilet policy actual settle st susan sharp sweat butter hike official prevent controversial action manual instal scam korean smoking malnourished slaughter furniture danger flute tournament kayak welfare navy virginity turban active gift freak presence japan meatball san total presidential uncomfortable germans timmy lee mining cum mushroom fluent outsider gate singer adore eruption cuddly private hut pyramid lifestyle fragile climb nun pillow essential traveler loaf performance spray aside reach autumn thinking greed terror drank abdul neighbour meanwhile adorable behead bombing juan teen spirit meticulous integrate paris payment dingo classify ruthless incompetent medicine plenty bulldog honor section thus burly hollywood honestly rowdy dedicated violet specific hollow architecture kinda dylan freedom submissive garden unit hawaii whether astronomy patrol pony cashier seemingly fabric soul orleans jazz printer cautious email crop columbia funeral hardly league charismatic weigh bath elite kim egotistical asshole notorious sheriff romantic dull pile reserved exam coal republic castle creepy system tuppence officially alligator wrestle proclaim docile humor attach leaf geeky moral pepper troop shady prayer mat launch viking insurance iced exit survive nine drone original fantastic investigate zionist congress iii sexist studious buffalo ruby sweden dessert microwave tommy survey decorate patron smooth luxurious flood billion spouse nurturing pok mon breath tidy frenchman brunette label useless trunk formal rapist cocoa bush olympic soy suddenly cooking mammal goal admire secretly shame rainy account bamboo pussy predator treatment disturb factory populate wool dick mannered swedish ghana buddhist marketing walmart material fur conference wow mixed message beef automatically bedroom guilt blare subordinate dan count goldfish podium asteroid legal protective restroom bare classical nigger overseas threat nest instruction scrawny hem effectively rachel loyal couldn affect alan stubborn competent marble platform offend cheer siesta hose kong closer hardworking tube practically vehicle square broccoli addict seashell atmosphere jello lover deep lipstick motorcycle dominant intention vast firefighter cough employment clown sushi pulp martha isn urge donate contemporary homeland regard sneak titanic happily alien resilient countryside maintain paul successfully agenda greedily period condom ely stormy injury dining colorado gesture intestine accident comprise primary toddler texas london mango represent civilian brazil negro marie painting piano newspaper random deserve physics vibrant lane wisconsin seldom security naive ski certain okay superior justify throat presentation usual competitive ok upcoming textbook briefly publicly nut ambition craft endanger directly achieve circle phd loan stable christ shark spoken methodical recognize worship defendant zit genuinely landscaper chief app deny sigh constituent explosion advance charitable accountable fortune lonely curly vatican steep dawn stink nicely ketchup instantly smoothie dominate terribly frightened ankle silver pill litter snobby philanthropist hydration pursue development pudding despise handmaid excess potter occur approximately nod taxi centre tot independent trial barbed somewhat dear edit hook ups clutch cartel plastic lush vivid relocate slim bottom journalist australia confused disney screw compose journal regime rat humid kelsi johnny sneaker rank classroom rage convince alright singe rally shocked foundation writing barber sandy website digital anyhow jelly korea ryugyong doom unoccupied complicated banker grizzly allergic peanut marcus fried amp sauce fag fuel appointment steady jury knowledgeable eve intellectual compassionate dairy onslaught washington tent chirp pigtail stinky reportedly shade westerner greasy ver mansion hip chore anita desperately somehow relate joy electronics fatal bother toss reliable babysitter robbery praise faithful warmly plight axe jon accord unclean champion title cafeteria gym statement adhd europeans lifelong studio someday explore quote comedy vision plow spit grave promptly appropriate attire playful alive destruction militia drew alaska brad coding republican bitch fisherman donkey ease fighter rook chen mission pit bind bruise killing jennifer gentlement butt peter ethical mingle earlier google starter performer financially somebody accidentally veteran axis miserable scarf chicago rocket limb koala sin outspoken standard knit patience stereotype swan press controversy habit process hummus harmony appliance scent pierre indigenous twelve movement dopamine serotonin swimmer puff shoulder fond wanna squad understanding kosher llamas llama breast aids inner alex related shrew chan got garage cheerful beauty matt penalty arrange sewing connecticut previous passion crafty pond pole calorie magnet refrigerator appeal unhelpful drool ss unrest wheelchair broadway terrain aboion judge campus combative pete print reside engine egypt las consumer portray respectful oatmeal inch session physique bearded gigantic plague bump kindness hobby shove riding solar hall following jewelry easter unfortunately routinely semitic shatter salary scamme topic pumpkin killer beak neck tame jasmine international depressed hea evanovich mystery unpleasant version bow speeding whale license ravage fleshlight mercedes nonetheless range qaeda recruit civilized columbians seafood possibly sugar excite found disorganized grateful pm asleep enforce jackie negative conclusion overall lip marriage obscure assignment rebecca belly swam eater beloved finance f tax stride passive cazar gladly isolate shiloh fascinate mighty stomach martial embrace recover shelter joan cheesecake ruin loser theory squadron skate swallow volkswagen majestic vine invention candidate monk muhammad council grape needle mutter housework sudan feature vegetarian traitor constitution garbage dive cathedral piccolo overly heather am pollution follower encounter hatred circumcise william lurk genocide mosul lecarre pulitzer facility survival unlike julius disagreement colorful propose excuse golden scuba strive stimulate untrustworthy wardrobe nephew willing cauliflower mint shifty bulletin ethnically pro lord macho sharia helpless o sanitation makeup claus faint lasagna below colony stock boil railroad guide stereotypical deed tennis status hulu introverted hoop unusual stew stamp strategy overwork puerto charming occasion downstairs horn ironic rebellious clever edge learning heel harvard disappointed favor vest rookie tank clue iv wo flour evolve technologically bihday lunatic warfare pakistani kelly wrist emily relieve boredom employ pope andy lol responsible silk hopefully rope forward cone di mug although exterminate etc sub strength shooter investigation prosperous imaginary callous shovel tlc lava access mayor virtually men exemplary outcome skull ford pickup altar crystal dealer rim crappy belonging regardless democratic cart plate workout cloth termite release exact fearful hoard inherent odor efficiency towel dressed sincere micheal sickipedia cancel evidently apart jumpsuit imprison lavish salesman worldwide molest billionaire hillbilly unnecessary magic cigar talkative curious rip surfer savanna whisper antisocial tackle chaotic explorer contrast kkk bookstore bedtime draft outlook avocado best wtf deficiency review whopper copy dough determined harass express kodiak handout cheetos orchard actress wiccan pas sharon olive warn wu missionary married raccoon combine profit educational untalented lifting foster franks venezuela hugo chavez ramble hindu lumbar household thoughtful legitimate rotate cardinal tick entrance thumb gardening quarter mate examine homemade cinema twitter scar extinguisher tallest sedan pine solely armed damned symptom daddy loss decline cia moldy shane critical sleazy bribe utterly lucy floss logic humanity colombia fiery creatively minecraft sho notre dame louisville sept headache incompatible democracy coward banislam speakfreely slutty meteor hispanics judgmental odd aardvark robe tammy trek woah stare dragon housekeeper daniel cracker mechanic astronomer bagel december bullfighte depression podcast hygiene deshawn gaming englishman udon prominent warning firefox browser chrome anybody noble warrior leadership unkempt jihad carve manhattan corruption fierce eritreans considerate doughnut judgement revolve july activist confirm obtain perfume catty expressive upper knowledgable cad reich concentrated eucalyptus basis cremate laquisha brag counselor conflict whose bass cabbage union co eleven fade naan turmoil dr calendar notoriously rapidly opinionate medal doorbell remote button divide ultra luxury vs judeo pamper moody reference gregarious cowboy outdoors stricken isaac nowhere sip sherry jimmy logitech strap lisa wildly plead niece flake dare californian vacuum fool grassland vince hostage puke starving aggresive orphan signature severely hood clueless amy deliberately artwork driving arid digger goggle interracial adrin adjust comedian crowded unable anxiety tshirt columbus maria dental vet relaxing escort courteous robber boo fluffy kittens x peacefully kite compliment alarm dig ditch dancer selection violently drown anna invest delicate tuna hijack kaboom coastal thunderstorm halloween disorder dual expel robust moviw frankly wipe moose april lottery journey primitive appendix painter fa fist gum reading nonsense clause victory construct diaper effeminate ain tightly novel firewood overprice shepherd fog nomadic ron polar fully demagnetized result teaching oppressive needlessly nightmare stalk villager poem pump extroverte salsa critic shut infest roach deeply hong terry troubled rinse anse squeaky trailer creamy demeanor frequent bumper tissue seashore marines jet safely comfortably buckeyes unfounately academia samsung steel issac luigi confine g grope snowy penthouse governance impossible fraternity ingredient robot poker supper thirty introvert smash automobile genetic rely washer immigration accepting practical avocados kenny bicep unknown hartford reunion percentage preserve underground lean noon saxophone woodwind anxious jacob palace differently brillant neo warmonger menacing malay camille terrify bug forge component durable capture haired purposely rihanna thesis diy sniff armstrong astrophysicist badge sociable liz globally absent whiskey burkas tornado inadequate lamb iphone coupon document crooked dna talker sausage communism stair plumbing copper curse shoddy romance zero illiterate phobia initial reaction silica terrance fixture naughty chromosome spos mcdonald dating discrimination unoriginal loved belt freezer vampire flamenco nationality rennie controlling timer aim squint anime winning laser handbag monarchy juul pod coke bubbly amendment ponytail bison wavy hum photography sma pug scripture wheat structure estate drama asphalt extinct carousal ben jeremy inform alt hospitable mit beta wisely sympathy dime bold uncivilized zoos undoubtedly medina capybara rodent defense zyklon parliament addition satisfy overnight vert reflection frozen marionberry technically buttery diary desperate fantasy owl closet further demonstrate occasionally gender historic stub affectionate lasagne mule annoy stern platoon graceful discussion electrical conveed semitism megan mathematicians pen francisco dryer hills anyway convenient obama disappear ufo mans sara tolerant garfield massive extreme baking croak beth salon menu cozy steam denim deaf cupboard brian lamp jake mohamme sparkling manufacturing trend opera division chat unfriendly humanitarian contribute footprint fame burka cowardly disgusted tobacco deem captain treasure accurate basket mouth floridian pin rico momentous th shouldn colleague example dorian sympathetic mischevious assimilate oasis blast somewhere universally twenty fart humidity examination chick cleric approve provoke paula persuasive holo eagle eddie exclusively columbine suspiciously baggy assign crimeans programmer chunk eah bureaucracy nigeria shore auto district worth caribbean bikini joule southeastern mitochondria swiftly sponsor rhyme repeatedly derive culinary calcium pearl prepared shopkeeper surgery inferior grace socialize aggression firework intrigue gypsy sprawl norm lookout hitch obsess worm graze illegally filth felon nick dropout subreddit horror shannon reasonable migrate soviet wilderness elitist stylish idaho mum locker carowind carolina solo violate ny alwaays duel genital suburb carpeting option visa shummer sry wheel giza paranormal peculiar positioning constellation orion mecca bestfriend overeat alteration rollercoaster cliche festivity ac dc beep smith warehouse hoe request snobbish supply satisfying boston gab rockefeller shockingly severythe tenth unhappily gaudy intersect casual milkshake artificial outstanding fitting slash handiwork joanne varying magical comet goblet madison politely evident bedevil dusty nuance chemistry blush deprivation faced greenlit precise mistreat recycling thursdays costly tator panel obstacle incident bully paradise suggestion spill destine gorilla modest outdated resentful existent imperialist feudal kung fu pediatric ward inhuman ethnicity fortnite videogame mountainous impractical supreme cou masters amaze chomp effort ballroom commonly reveal prescribe wouldn inspiration defensive ravens boob fonda ape length visibly ferrari clarity carat headed squeal narc suave fromm bodegas ukraine technical degenerate whichever impoverish celebration suppress sammy squalid solitary hopeful perspective luckily groid dice heterosexual whip scholarship award geometry pheasant exclusive lodging blog transportation purely famously shoplift robins lighting starbucks au suspend alpha westerners generator slander libel beirut effective exhibit sailor pleasure edm thrones experienced coonskin africian reenactment command umbrella satisfied candice infinitely opening agency agriculture hallmark pronounce consonant empire aligned network extremist unattractive decore iron judgemental pleased dependable crown raw calf caffeine openminde oppression harder asmara lumber ax fell swoop wage katie contest highlight townspeople ace seth wielder beaker gutte jollof jambalaya protein cob wail depiction spook lightly beyond collective darkness skating lit loiter ethan temporarily cheery whore patricia relatively spa chimpanzee relied rebuild judy quen haha cathy oddly pioneer expertly void shall answering napkin rambunctious telescope grill refined verse landmine disguise thorn satellite code flash systemic mac toxin skid hanish islands rainfall acquaintance convee devour wright misrepresent otter peacock plumage arbitrarily wrapping complicate garment dazzle throb opposition varsity quarterback galaxy loner clip barren punishing existence gaseous undocumented systematically millionaire pencil fault blame ches delighted celebrity wrestling believer heater foam stadium pickle designer kia hunch devastating fastball commerce mixer ho potential staing finding committee ringing crucial lackadaisical bbq rivalry rolex focused unjust maternal lysol bacteria hairstyle housewife collection elegant flirty rubber bureaucrat honorable acoustic delta labrador sudeep copier daycare volt overpopulate overpopulation athi v mus weekly misogynist capitalism theatre mainstream infidel slippery silly competence scenic carbohydrate supervise agression abolitionist mohammad sacramento census sean fundraiser statistic legally caste culturally indulge wildest whim baker neurotic citizenry succeed dindu nuffin swindle meth workplace droplet induce zombie flagpole logo ladder condo cuck supremacy conquer aspiration astonishment armenian shrews sassy prestigious sacrifice slanted freely accustom dictatorship poke dealing cerveza tequila javier frost amish frustrate sociological phenomenon fraud vagina bury nanny scott informal publicize temple tinker valid edwards slip sob earl shadow driveway coach august physic boarder threaten fend degeneracy satanic mph cellphone dweebs kidnap ransom slide dave wwii sentimental murdock rambo bodybuilder tylenol defuse lebanese possession lawrence hail gently cilantro documentary unamerican activities plus poc invisible seasonally radar attendance globe stickler philosophy cushion webcam magician convention indonesia dolphin alternate backward rampant bulky seatbelt marginalize additive scheme de schoolmate vengeful colonial nuclear poop brainwash briefcase starseed boris monitor bloom taliban upbeat poeple deficit shriek dine clock fragrant loyalty satan rabbis plug handwoven newly courthouse ak randomly embarrassed urinal expose safari wimpy summit flavorful suitable led hummingbird beater ghanaians mesopotamian devil eurpoe memorial suffer bathe deodorant cannibalism warming immensely chang lollipop sail erotic neighbourhood necessity predatory jailer bristle string intersection crook wang divorce wosh dese gruff variable clung urine pinocchio bonfire residence smartly amateur bisexual pretzel making kurdish erik whine tanning diplomat minister times ponte cosidere confrontational chickpea agreeable holahoax bs vessel imbibe purse russ kolton exorcist likwe preschooler safelite windshield hint ant butts glove massacre joyous k groundbreaking cloak posh pokeball pigment cease loom scrub aggressiveness excessive comfort heathen putin goodbye civilization becasue fee q circumcision spontaneous addis ababa thinker shirk overrun daytime hello vigorous jonas brothers chemotherapy yearly beneath comb shareholder convey stuffy mainland bubble carton avacado ur barry bat sweetie mm smokin execute technique unfortunate grandparent camping bedrock citrus seedy pornographic characterize notebook diabete clinic heist headline parade generation crispy picnic parcel vespa norwegians flashy spending submit rot update richard adhere childish carla realtor jen baptize fascist cranberry mein kampf cricket lively agressive bert ernie intern legend spoiled notion val nappy neuroradiologist fearlessly brace stature alma assist fashionable cruncy salty soggy paddle sidney prey refund chardonnay lynn devastate pressure broad grasp concrete soil juvenile mousse sightsee rivers yardwork koran outlet intend washing fruition preheat barrack capability loose toaster dogfighting impression overheat snore homicide pinterest reverse ra aloof leftist med temperate fifth shouting communicate yacht internal available continuously gecko ronald tangerine fiddle compassion aryan moneylender chopstick hastily confusion displaced joey extremism bih considerable scowled interpret squinty cuz timothy dorothy yarn spin spell vibe michelle fifty borscht qualify throwing carr rebel promising unequivocally regret grammar minesweeper h racial landlord binary carnivore allegedly cranjus mcbasketlball trudge slumber skater invincible minor casino beggar conscientious assess detect emergency unnecessarily pixel lloyd countless bishop capitalist standing magpie corvidae inglethorp endgame carol attribute familiar injured dustpan bandido apaches net crimea festive mo farrah gourmet benjamin conditioner brexit tariff thrive kariem redcoats revolutionary tater confidently employer pedophilia israeli compute glide unusually detective adoptable vary mandela tweed becuase ashley bent prototype shaquille hanson bun pub converse flesh tragedy obscene pier pastor virtual unavailable funding skateboard pledge roman nobel parachute qualified mooch norse recital punish nein caddy beanie brayden suprise hearing hooky enlist pacific whenever dock scholar stitch gunshot wound julie tow heartache radicalise unused ballerina isreal caput automotive patio unpatriotic brittany daesh marine rio reflect dorky dresser klan geographical standpoint expression prescott jihadi mba timidly matching swig sunburn delectable liberia disarray deeper combined windmill grind orgy beverage insatiable mafia zookeeper bluegrass mic cheeseburger phrase goofy karen orchestrate laidback atrocity tirelessly cheerio accessory whoever insignificant staple politically backup operation fairly conditioning wasteland burglarize barbarian realise scruffy trench addictive jewtube bowl accountant mr assembly soar bust investment un rodinu stale barb savvy wary analyze huddle dreadful burrito normie transport ashy multiplicative masquerade myth choir upscale claw allergy dirtbike dale breeze density federal pose endorse uneasy memorable airbnb spotless chill heavyset fireman notable airpo sandal charcoal anal destitute diplomatic yep organic playroom fae knitting crocheting retriever improper alignment offspring aryans mattress diving humiliate attene sexually assault dozen diligently descend jog float thunder unimaginative mistake latina media esteem disgust thread sole gaza strip flip mayr elvis presley mammoth baked accuse winded lame brownie cherish heirloom kilometre shiny pattern delicately error panda retractable sadio mane liverpool ft atlantic strategize nera moth adjustment convert phase disrespect distract blunt repairman koreans kennedy nominate memorize lake hysteric creator afaid sweaty nationalist winner hometown peach euro nyse forehead mannerism bachelorette wholesome jerk exceptionally toll gulf miner airy groomsman abyss glitter metropolis frim frustrated dreamy crumpet physically pristine exceedingly secure powered eskimo roku barbaric ali tile weep pregnancy pita recorded tape endzone vile twain altright skunk campsite sadly swiss chopping islamist via dvd stream pitbull brutish starwar peel gig lighten biologist collaborate principal caucasians baron tomato grimace flea uproar lil spiritual trumpet rustle fuckin gi chilly rs volatile medieval gradebook infant ryan shipwreck establishment contractor ns narrative survivor j messiah opponent rub powder frame glory definitively recommendation underpaid miami chris deceptive bawl unreliable valuable chalk frosted flakes tango norweigans oily canyon dictate supplier depress nightclub aeronautical katy perry enthusiastic haul renowned ideology participant origin heated wonderwall situ archaeologist pennsylvania militant racing significantly resourceful cower trophy nell peddle sandwhich en imago busk miguel till undemocratic psychology infamous serena williams arguably biology cynthia veey easygoe baender mlb vaunted senior geographically malnutrition shortage inequality tourism behalf craig unsatisfactory flashback crude arguing yelling parasite contamination shoelace tamper hi mop complacent depo rear reign gabriel paicular gt silence dawson hippie evict morgan publication literate propey tech jerusalem haircut trim aide pursuit disappearance clap thankful cleanse defer goddamn economically personally inmate marquis hoodie livestock shelly mob performing saying glaze sprinkler row tae kwon recognition barbershop nero cheaply respectable protester hon slavic brady womans dmv impatient oxygen edward menial distress venison avengers archaeological hashtag pow reject poster frown knelt gravestone uncreative silhouette illuminate sensual birthplace resolve landslide stephen shuttle hu dana teetotaler sideline supervisor investor preacher palestenian grassroots desire bloodthirsty preferred unreasonable nations inhabit worldly burkha sitting studiously pacifist doze bullshit alena description risky mondays plainly ally september keeper reschedule valedictorian summa laude ebony maccas prideful boyscout labonese independence feeble mitchell bargain sculpture disappointment insensitivity accomplished accommodate inconsiderate inept he naked misinform hindi bengal festival rhythm socializing garlic ideal gouge validate calculation ordeal portugese abruptly whitey hardship cynical henry ninja palestinians pave oreo harambe wars bullying precious bannon calmly file spoon greg hitchhike laborer monsoon petting diva destructive fuji typing hunger thru obnoxiously brit cal reckless decison maker polyglot nostalgia woh thrift undisciplined slob handyman furry beehive mythological offense flame simplify betty cookout mindset solider dialogue sporty impoant occupation kimchi probiotic los angeles clippers siege bahama dot bless groove shaker raincoat gamer laura cheetah alphabet giraffes cunt core react turkish expectation visible protagonist tragic instruct sesame served underway transgender inspector noun brick mujahideen faking founder denmark cub series merge swear responder preschool kneel eloquent sudden patiently miniature ribbon winery napa akashi kaikyo ninjas eager sunrise apprehend wolf jenga impressive airhead grubhub bravely reconstruct periodic therapy nourished quack linkedin trap awesome venue barack frizzy trot reservation acknowledge worthy minion awfully inscrutable plotter verypoor eyet handgun murderer murderous meadow domestic attempt dip corey guacamole anyways stability insane essex fortunately unemployment web popsicle neighbours silently farsi jealous buddy aspire phoebe uncertain ellen workforce northeast contribution independently tomahawk assad intolerant broom nia fervor hack egyptians nba meager whilst sweatshop rightly confront hardcore witty sewage petty cashew mutilation emotionless sucker regular ignorance deadly strangely internationally shia fm carnage westminster decipher pedal lowly gullible cent pervert stormfront greuze inevitable institution performingartistcanmakealotofmoney ritz caoon mistress macbook surface personable brooklyn influential breeding identify zach galifianaki painful genuine zip jap hooded sweatshirt achievement playstation bandicoot handy mathew haughty porn breadth awhile sword won xbox hijabs slavery excursion horribly mattie kirby industriously productive bitter bolsheviks commissars meanjokes pittsburgh northeastern bong jewellery arnt batman bruce wayne erupt spew liberating professorial interface internally aluminum uplifting fulfill vein oak reprimand marker astounding suffering lampshade tutorial uncomfoable horny overwatch overdue essay sonic orientation ussually gardener outrun haywire loin homeowner genocider fuhrer deathly gallow cheerleader courteously chuch password unkind educator parched overzealous halo religionofpeace yesthisissarcasm enduring handwritten entry cot xpost format production walma martinez ahhhh shopper ezidis cult handler observation prosperity rancher michelin gasajewforjesus nagging fleece indefinitely uncertantie pelt shared cheryl asylum gambler dachau twilight reactionary dora doda exploder connected anorexic stuffed juggle lend alike auschwitistic verge indiana moses trough bulk anytime remembrance wil industrialized kurt intoxicate ogle economical mama inhabitable uncare scrambled esl choo emaciate jus oversee eventual pricipal marking binder hex diesel rudely capitol exaggeration geurilla pseudo opressed dilemma feng aberration punching ple hind networking sewer genera lashawnda sepparate meditteranean steadfastly si cruiser excruciating partially wireless burner fret offensive apology workaholic fling humongous nostril laquan mmm attorney poland exhausted bulb revisionist interrogator boarish unathletic albeit stark reminder fortified ai engaged stellar curtain angrily indutrius sector rotten intellegant detain submerge admittance multilingual rethink womanizer scholarly corresponding sephora shortcake louis brutality statewide charleston mesa cubs eliminate cardinals ballad infinity cindy scenario glamorous overwhelming compromise cce judicial merit sindh sung era defeatist shepard dim surrounding goy renovate oppose extermination js effos democrat cleanliness opsec nationalism surge ucla blended spence suspicion wad missing giveaway receptionist broach pc saturn approx scottish effervescent boote bootes garb ozone genealogy volley flie underrated remake rigatoni yakuza meyer lemon optical myopic gameplay canablism tralee disgrace nowthe condescend texaschurchmassacre malik crave velvet oreos corps taboo apa unhealthy mexians conspire craftsman tho laid instinctively ply forskin demanding eke sparse fbi omar mateen carpenters dethrone bottomless comparatively rant uniformly nascar paly imperial nordic unsanitary cane bradford worthington gung motivate compelling flirtatious uniquely manga commend cornerstone navajo prophecy feisty comfoable stoudious hawaiian tues scandinavian previously amazingly baller nutritional lena avon lou kathy ambidextrous companion solicitation rockstar kitty boldly silky pure retirement flooding wendy killstreak woulf kills chem krispie zaknelson goldenpiggiez suggest luftwaffle neither disdain nd forgave mtcheeeeeeeeew jenna pictureqsue jq empathy bound revenge lobbyist denounce yiddishkeit genre dependency jug animosity crass external takeaway powerless secede false misconception antebellum neatly tattooed incidentally unpopular spiteful dynamic thrill cortex unconscious observant stae sleve brainwasher drunken mohammere villian soren irresponsible emerge homophobia individually subjugated colourful hoover commute exploitative packing biff unnoticed windpipe kwame unsocial implement ordinance scooter protractor terrorized purpoise unconcerned legalistic henderson minivan chong ling freudian observe cinematic dispute sony abraham falsely ishmael laced quantity lousy meghan communists glee alternatively ignite royale decorative thano span minuet boorish imam oddity lar sturdy suppo evolution inexperienced convoy torah inquire maggie competitor outgo synthetic industrial primal smartphone sovereignty malicious embassy seperate peg incest trannie insee cabinet goalie hanukkah schizophrenic asif unsafe contrarily loquacious vivacious mariah carey karaoke frito chatty amicable limited trader homestead acre ranch oz lous quarell breasted organizer instigate clam vike respective valet punchline precocious maya obsessive contradict homogenous vietnamese leonard annual van radically palm dearly iz sharply ish slanteye years karma cycle rebirth tequilla gta unimportant boobs lea motel injustice soo proably imaginative dimple mindfulness freshly druggie beyonce gentry gloomy jock uninteresting allegiant wahhabis impose diktat quilt handmade alfred kassidy substitute lance bored kibbles inappropriate hankerchief creation cordial unsociable likeable brute protestant bigamist eclectic texture tanisha ahme baroque romanticist conductor genesis atop operate mower zumba joint stance pact jewdo putinistan aka federation kamikaze disaster baptist zoey chide bestow confession pee carlos pérez mackinac naomi pajama junior barrel goverment statistically bastards unknowable methhead ramadan measurement spinning yang sinewy manly beast upfront sticker fucken playa smug immoral elegance disappoint writer polish repress stripper electronic arrogance unlawful pharmaceutical irritate it outsource fri mar wrecker vietmanese inherit spaced midnight absentminde melissa gass amhad easygoing apprenticeship procrastinate aicle anderson cooper junky repoe cleansing despair charmer nocturnal recite thunderous applause scope gyp fevorite fictional islamisation bumpy versatile scalpel insult amongst awaken distinguised devastated dutchman backer frugal liberate method jewess albright jewsish auschwitzersehen emotive samantha coldhearte devious uno brenda ramshackle coloured cats purr darle appendage jogger unexpectedly weaken occurrence underdeveloped comic otherwise compass born luring limitiation tit ejaculate signifcantly indisputable sickening mitzvah fischer denial plagiarism robert mellow turkey erdogan partying li thorough reverence prosporous lenient hollyjewsteinwood slight ugh bookshelf effortlessly recurrent crow hover mongolian titanium handcuff germanic plumberslooklikesupermario pervy weimerica prudish wintry skiing pastime candie loli herring neutral buster console ronnie lone profitable theft refrie andes sadistic involved girly crust progressively processing mourn mid outsized mediocre aisha brat idol assyrian statue circumambulate kabba roadway whoa osama monique hive flexible platinum xenophobic collectively interior sniper wesley piggy eiffel unintentionally scorpion venom motivated meow dumpsterfire chaos hue atleast affluent grin deck sophisticated fulfilling handicraft unicorns mermaid fad initially saintpetersburg crushing brutalizing locally fawning www thetruthseeker kokesh molyneux improvement sulfur abundant bicker snipe embellish doorway decker refrigeration porno hooker heretic regressive criticize acclimate owe muggy altitude peole argumentative vineyard chopper slump mask klike nig lamar intently flush stoned unmindful abundance barbecue obsession striped downgrade misery satanists steer tamil sync catholics akhbar believable cos defect fatality nhs surviving tht kanchiong fr beh tetibe ckp bruh maxium antarctica vow manifest destiny ideological framework expansion eugene punk eveyone staer concussion stiff alluring jaleel playfulness bowler trendy guten antarctic deliquent watson booming allahver trout intriguing leaveiranalone airborne sharpie neil johnson pety exhausting kneeling posistion aqsa inflate tense mysterious steven detanotor rentable davis knox gaggle infrastructure cd hierarchical ef scale channel celebratory healthcare legislature gut libtard patriot becky perpetually interact scissor withstand repressed ya cisfemale unwatchable favour exclude developing minimal interraction difficulty suddently dramatically left applique cluster singing preaching waterfall parody cleaver awe venous bulge autonomy inteligent lang shackle unemotional connection tigrinya hoodoo oracle pokejew pikajew infection carrey persecute tesla mitochondrial speculation ferraris underneath formation galway moslem silverware complicit betrayal fiber recommend contradiction voluptuous deepen baloon alot dishonesty climbing instructor conversational franchise cmon paki lad overlook bastard cigarettes factor gadget pedometer crinkle scandanavian grown nobility discourage farmworker unskilled wee pastry fusion countdown eighty intimidating makeover exboyfriend her behaviour inject insulin icy terrified elastic blacks routine indecent vastly curropt floral djibouti londoner invade clutter freeway coughing wheezing ramericans mansplaining architect grandson authoritarian asad samurai phillips weakling xmas insufferably muzzrat hollyjewd slaveholder uppity repo ku kikes stem extremelyrich acts dyslexic primate nah bait relinquish shrewd abdoman remarkably replica pjnet tcot tgdn ccot rednationrising teapay nra remotely intestinal macaroni adventorous barking mathematical ramirez dwarf breaking stab hoist cheeto blown incel luger meathead douchebag pushy gpa psychic sardine timely folger starbuck dweller bourgeois softly environmental stewardship glorious vibrancy encouraging proverbial exhort graciously collector subtle cologne lemur madagascar recycle yucatan subway pickpockete porcupine megalomaniacal mitten beatles unsinkable overdone turk supplemental extension disagree cred idk submarine seaman sketch doctoral dissertation expertise quantum tap snobs latter argentina consciousness charm ceain republicans repressive swede selve fetch imitate celestial atheistic netherlands equally headmaster bombshell vendor jewsual warmhearted haphazard fro bathing port trafficking irrogant pri wartime bootlegger molotov amerike suppoer wellfare shitistan waterboarde shorthand motivation quaerback tgsnt oahu luau tourisim behaved unclog otto warburg developt cannibal pedro homosexual coupling tyresse jaw aristocratic slaughterhouse max stabilize teabagger morningjoe terriost legit spectacle latvian prague towelhead raqqa pleading ultimate sis abstain weasel flamboyant structural murders yield fentanyl polymer vial fedora heisenberg imaginable butler incapacitate atlanta falcon destruct secular unbelievable barbarity thankfully unplanned sweep compensate mongrel hygenic salone contempt leading burrie clumsey kicking chairlift shred oblivious philosophical mildly rajeev milton epic plaid unofficial jambalya practicing antisemitism pint stas eyesight effectiveness efficiently cod gamemode arson alibi scarlet pavilion drag parking sentiment denny province undeveloped sicken sargeant meak unilaterally vigorously retaliate rish marianne hookah caller uneven yazidis hindus thailand meticulously scan conveniently reproduce etched kentuckian kaijew mere formality gradient relatable sensibility remarkable swollen harden poetic ill indifferent shallow mercy desalination seawater becalm latitudes entitled accomplishment relevant homophobic memree founders biography spank doctorate property tenacious panicked effo demonize propagate holocau medication eyes alert americafirst americansfirst maga gore kansas dynamite kirk biking url kristy nipple lusty lethargic jogging norris snarky hilarious ashamed vox redneck hairspray ferocious droopy govern censor uptick purge lily leash grit gallery headquaers timing prejudice sanitary pinstripe resistant piglet switch anger coconuts bottled prior nervously synonymous moron loudmouth screwer pincher sliver brightness nighttime purport scrolled domination pasture czechoslovakia unsure toothpick emoji advancement rampage manchester install pianist beekeeper regulated styling extrovert they storekeeper hooknose sparkly luther marshall upstanding erection semtex passer cerebral schizophrenia austin hydrogen carter orphanage bronze gleam vw freindly khaki tag pinnacle softy innoveyte traveller rv intent fantasize sickness harmless airforce abide lucky den buckingham autocratic reasonably butterfly drawing colour shevon obesity pandemic specify amenity metropolitan disabled zog fashioned armor deviant unnatural abomination retention portion eloquently mime kruger nestle kayla mueller frigid server enrichment relief judgment anta businesswoman joyce grossly overstate intollerant indoor decorating charlene wrinkle prayforsyria chemicalattack nosedly startup empowerment yu longerhair gf domesticate islamization starting electrician superficial bimbos um fistful groud fitness cosmetic geisha afterwork eric harold dentistry liquor herd communion finnish harm druid dreadlock vapor chic outright extinction katz preach tyler shinnig brightly hygienic eahly presently extraordinarily untrue barefoote jewdism developed unbiased gatherer housebroken hulking purposefully median conceal polluted postseason handjob sample portfolio wilson russell terriers separate reunite import analysis jihadist crosshair ahhh tibet aificial horrendous uncrowded sheng egalitarian tattoos ardent colonize bedspread turnover outline extensive credential smoothly farming leshawn deceitful innnocent gogurt slipperiness whon landfall mikepence extremly charlie warzone glossy coyote obediant harmonica narrow rel implication garcia eventempere saas management ipo southeast safaris correctly obsessed lara discriminatory vermin exterminator standoffish malodorous chink defiant masturbation penance extraordinary fatigue unsophisticated disgruntle fellow jacqui weave alternative connect fahkin depoation bountiful harvest flask iguana problom pilaw upsetting digestion fred barbeque jammed hyperinflation happend desse strudel perennial volume click apparent gangster veggie merely inquisitive untouched authoritative tease scammer deadline choppable comfy recliner baptism masse erudite theology declare redemptive warlike content juliette mayans dictatorial groupie addiction yaaaay hanz ze chainsaw perception treaty fairy botch circumsision sixth yum notallpumbersaremario lowbrow fuzzy shipping troublesome ranking statistical analyst statistician hostess pacman gamble assortment generalize manicure boycott poll faxe frontal tartar dedication himler blitzkrieg locomotive carriage samaritan gifted lobby sovereign fcn neuroscientist unintentional celia hassle unsavory campfire unattentive aromatic irritated uncouth faucet penguin antartica errand monica opulence beforehand keg bro subsequently films boyish slovenia sven polygamous hershey escalator breathing soros generously discouraging testament overcharge shamelessly author albe einstein yello holographic hugged priya attractiveness peruvian manufactured populous tab heating broker duvet pillowcase utah enteaine knockdown oxymoron bigot tolerance inclusion aware basilica nope cave walled jersey manuel moroccans gentile ps junk micro awkwardly upright sleepy markedly jea zeke deutschland molly brighton unprofessional benevolent drum hospitality polished compatible isle ff embarrase refute bw beetle fromt numerous narco breathtaking merchandise cattle smoky faintly californians consumption irrational yorkshire willingly advertise carbon physicistisnotahighlypayingjob retweete mccain workman rugby conviction ethnocentric plea coax greatness visually debt defensible roughly skyline walkie talkie malnourish moderate barbara fuse meme voodoo mumbo jumbo stanford talanted licker dup spelling pluto gasoline compliant paragraph devout buddhists emperor bungee gook fourth vrenna flatulent discernible stress punctual motherly comedic nefarious glacial novelty clipboard byproduct tinder suite unheard booze watering exspensive strife aushwitz predispose tourette thor weeding haven undergraduate women boisterous conversationalist bouncer orlando llah sunnis imaamat guidance shias isphahaan imaam reappear info selfsufficient reborn revengesaveshumanity innovation entrepreneurship unanimously lovingly cuddle tattere imbecile stooge tragically israhell masaai llamaphobia eduador tpose screech katherine paedofile dea accommodating pampered sunbathe extend branch coalition eradicate subtract prissy zone accommodation beginning disillusion paycheck hipster rag memorabilia overeducate misunderstood defdant offender enraged joseph yellowstone lavishly atheltic habitable trinity duper bougie descendant disintegrate globetrotter wherever hustle animalistic carpentry underhande freewheel nomination forearm glisten disciple massage therapist sore wellread plantation retarded auschvistic terrorize corporate manufacturer customary astrophysic intoxicated wobble bachelor thirst energetically incans grower inane warp prude reform syndicate edith robinson extravagant textile responsibly freshman highschool congregation irrelevant parole scarwney colored envy bunk execution executor distribute earnest cole talmudivision seinfeld finale viewer crawl hypersexuality promiscuity jewry hungarian massachusetts irishman jerry enlightenment feilizer mutilate wooden birth trashy curteous yamakas disposable cunning piss overdose zig zag conservatively incarcerated granny proceed hitla firendly bugridden algebra pogo groomed trillion petra bitcoin tigers refamiliarize flock miniskirt halter sinner desecrate sos rumor powell unreligious negligent alta smokescreen commie wham quisling mouthy bubblegum noticeably canine claws pottery shellfish sorter transform hay permanently babydick babyfa lgbt amusement procastinator protector whom saloon equality inventive devoutly cooked fork edgy modeling scramble fernando whatsoever twatter wetback hearted objective abaya joo lin wwi maine guessing surely beautifully permanent africanfellowdog learned intructor ste sadness getaway zionism whistle materialistic subdue til pac bomberman balance marilyn monroe dimaggio sumo wrestler cosmic impolite kissinger kushner sge hysterical stre analogy electromagnetism gravity pea detector autograph seeker snob proverbs frantically wlel llhasa tokyo thi medicene migration override allegiance mechanically vacuumed confirmation gradualy decidedly travesty olga biological ing satire incitement anglo director blowjob rehabilitation rouse roberta shack prestigeous triple chili maim assertive upside perth exploit nationally troublemak needy coarse oregon homogeneous legislation archaic cannabis roofer bel dishevel btw accompaigne clumpsy sergey simplified estimate organ perversion uninhabite flying occupied temperament rigid inf hrer egret whitespace whites weakening bakery persians marty bracelet shekel undermine iowa marrakesh mazelike djemaa el fna souks marketplace ceramic latern karate scientifically cliff disorganize belch nile mosquito patty audis witchdoctor xs nfl ly martini spearwoman notch gel nasally missy burp scoff decrepit assistance flutter frumpy tallcel tonedeaf asexual jill defenition hasn complement moist wahog showerhead tracy glowing canopy mongering wohy protesting institutionalized indoctrinate jewlord apelantic democratically darn reliably abrasive swoon eyeball sheltered recreation mediate verbal neuter tremendously paywall brisk curler seal nostalgic toughen reckon grotesque faze prick forebearance southwestern raiser perky stunning functional yolanda hostel ting kroger sperm urn dustin rival satiate corporation bigotry sexism hatre mohamed bankroll seed giants eli manning wifi theu maximum blac chyna bleach sciences socialist absolute foolishly exception nato peta nursing bilingual complexion duly finals manipulate belligerent adventurous shilling decendant vanilla siamese precaution securely exceptional bailout castration poraye heuristic absurd jewsdidthis borrow foy thiy francis banu qurayza abouit istanbul revealing glare developmental cleaner beucase everytime setup olivia crayon opinionated mulan nag aboout temp bananas tigris euphrates lemonade embark cosmopolitan unfaze heaattack gasbill disperse nonreligious diarrhea hamster elderberry forklift pompous farther recount haggle johnathan deandre rogue fluorescent straightlace hesitant palatable nt coon joyful silja europa stockholm gon builder novice abusing maniac vacant nigerian transfer underqualified disbelief unprecedented spongebob stationary overpay ineffective needlepoint adapt lmao bowman november june cyrodil thalmor renowne accomplish bombay lamborghini narcotic visualise stretch horizontally specialist britfam bearish definitive proof bathtub reformed dumping possesion lube delegate hence hezbollah sitcom lololo mack lazytown prosecute admirable fearless sake beefy validictorian avid climber wildfire diffrence roundhouse bombdefuse degrade greek nonathletic technicality morgue pssssssst eschew freud cognitive behavioral boastfully subscribe materialism dirt malcolm athiest seminar peacful brim undress businesslike calculated corpse inher freetime moss covet lgbtqia burr misanthropic runny cleansed beeyoch rpg shi cannon roastme creek laundromat sundays refrigerate brothel fanatic restrict capitulate shabby limitless looter y intervention shiism bleak carpenter spearman environmentally conscious lgbtq afghani elementary drones retail pharmacy manhood onion babies dent gastank lyric owowowowowowow deft greatly elbow weenus disconnected hamas advent wreath aharon elijah shmuel fruity straw bodega buying orient chin pang quaran preist vertical hippy actresse labeling granduncle untimely stonehenge pluarlistic racket monogamist endothermically herod pat olympics toxic lens replacement nicer cage fiercely barbie refine defusal madrassa curl hustler restore separation prom jeffrey dainty sissy desolate banter subconscious stewart judaism conjecture inventer vermont godbot foresight aloud firecracker disingenuine selfcontradicte stumble unfashionable unsystematic thirteen annually clog cartoon forgive cody bespecale famished ratajczak growth prisonplanet strangle conve yells drinker spawn bias kempt defeat toothbrush backstab eachother watching pedicure ricans vedas meatloaf balcony browse archive instinct missile airstrip cooler misogynistic islamaphobic imprisoned gummy suppoive damascus relic artifact pepsi reggie alleviate uncover adapter hardworker badminton satiete impotent tasha deliberate patriotic harrowing rounded index lambourghini apache legacy preference silas cuss velocity blackmail pun intended compasionate perpetrator cheating earning blouse sharpener minded equal simba confess masturbate bulldogs stocky revolt ethic overqualifie petersburg attacker turbulent combination rosy motive hollande cossack equipment procedure contrary foueen underage thai humility bucket catholicism granddaughter unrelenting secondary charging enable invasion theirs greeks workday frail veronica kahoot corgi repost crochet hula fulfil imigrant bestiality misogyny burqa crap wmd sightly saddam hussein retired savior crucify pedofile lickspittle naqvi heptullah shahnawaz shiftless thursday provocatively brilliantly disastrous monster simulator vr stressful characteristic ideally vede slot halfway unstable martin paedophile superhighway likewise gymnastic joxer hourly meowing somber peshmerga ceainly peak fanatical bai recipient mathematics rust naturalize keyboard strum visionary monogamous neigh unto mathematic uni renew negatively confuse ha smirk carload slogans daed wheeler scrapbook polka southwest consist forgot naming connor jamaica nigerians casually brent psychoanalyze tikrit alexander poodle maketh poised pissed raven inland trigger cord hmm warlord perserverent pimp insular kangaroos astronaut morbidly condensening thou equation chalkboard erase keystroke pupil ostentatious canvas technological mature shoppe lingerie socks separete playoff curvy clerk shwit pigfucke troll formally genitalia ted er greece tentative printing cookbook hawking paralysed nigga shwitz incarcerate orgasm equipped rectum alfredo bureaucratic grenade sronger ion lighthearted slant annalitical slate forrest inceldom taiwan int buff bashar ghouta afterwards sparce chubby principle candace reinforce multicultural melting utopia agitate stir costume teller handed insurgent savagery dumpster uninsured detach resist pe dumpling dote mah username enthusiast carrie rave toyota corallah gloried unfairly twat xeno paranoia hysteria racially fondue pest continually jockey means abusive boom tibia recall curve jacques navigate cnn stating translation politican lisper ma fundamental instability flakey lactose shrimp jong comforting overrate albert maial mossad maintenance nonexistent amazed confide crematorium rhazim dedicate clarinet limp gassy pizzeria bioethic karl marx sociology dummy peen hammer stimulating abominable matronly greta diabetes hinge repoedly privileged papercut predictable oftentime rotc enrol ap momentarily multi insecure toni morrison adderall chose sergeant insist cadet announcement alley discard uncared burglar bonus soviets yara bulldoze headquaer receiver jorge nava literal demonic broke holdomor almond mediterranian utensil fil clitoris scrabble bin somali iceland storied rugged holla importance agreement winston horrific reek havoc jab negroid gran legislator accompany hagwallah motorsport pasttime kinky relateable adic species innovative browner worser worstest benz coincidince swampwhite equivalent nobilitation boxer custom buddhism greener bowtie mustache masterpiece edgar allen poe mistreated invariably yorker counseling afterward meditation sloppily biased breakout drastic ongoing oppounity guise portuguese homemaker knack taxpayer bum untruthful washboard ab bulging futile postcard tennessee bullshtte antiquated whibte splendid doorstep adept spagetti gravy yea resistance intentionally jackson pepperonis blight exclaim speeder potentially signal ponder picturesque waterway marvelous scenery theme rothschilds clerical demonstration decrease slimy lighter hogwas vulnerable glamorise consequently unnamed rubberband fishman ledven cresskill smartwatch igorant expe blooded split demure visual jamaican takeout mousy payer justified resolution input kassandra adventuresome neglecting terrell butthole obligation welleducated joker convivial thicker dense isolationist groundwork abattoir soundproof nike appetite paneer troublemaker anglian yrs stingy proudly gua lolface fussy sopranos releasing turks eld anncoulter additional abt watchtower countryman ahmed hotbed combatant washed permission eccentric hiding attic interconnected bookworm squi spritz skim tweet sandwiches nigel farage dope typo grimey undergo slice busty cows vishas subhuman impeccably ehler danlos exhaust bbc marxist mill cleaning claire bowling gps incorrect gradually jade kindhearte enought likable richness complexity adjoining brawny pagan hysterically covered weightlift hijabi jeopardy patronized scowl heeled vindictive babe shroom mocking curry literature attentive densely someplace jumper machete louvre concious ancestry ming niggas coz animation ramon congregate planned parenthood guideline determine mutilated precisely obey regarded silcon enjoyable idiotic harlem varied backstage lizard ketchum rights'"
            ]
          },
          "metadata": {},
          "execution_count": 133
        }
      ]
    },
    {
      "cell_type": "code",
      "metadata": {
        "id": "3_PLABckxX1f"
      },
      "source": [
        "# create a sentence #\n",
        "s = Sentence(tokenized_word_string, use_tokenizer=False)\n",
        "# embed words in sentence #\n",
        "stacked_embeddings.embed(s)"
      ],
      "execution_count": 134,
      "outputs": []
    },
    {
      "cell_type": "code",
      "metadata": {
        "id": "G-MnTX77lfJj"
      },
      "source": [
        "num_words = min((MAX_VOCAB_SIZE, len(word2idx_train)+1)) # +1 added as word index start from 0\n",
        "embedding_matrix = torch.zeros((MAX_VOCAB_SIZE,EMBEDDING_DIM)) # Number of vocab, dimention per vocab"
      ],
      "execution_count": 135,
      "outputs": []
    },
    {
      "cell_type": "code",
      "metadata": {
        "colab": {
          "base_uri": "https://localhost:8080/"
        },
        "id": "r3fMhbWT7HeO",
        "outputId": "86e61d93-e9ce-427d-ce1b-cbfeb153b6cd"
      },
      "source": [
        "embedding_matrix.size()"
      ],
      "execution_count": 136,
      "outputs": [
        {
          "output_type": "execute_result",
          "data": {
            "text/plain": [
              "torch.Size([20000, 4096])"
            ]
          },
          "metadata": {},
          "execution_count": 136
        }
      ]
    },
    {
      "cell_type": "code",
      "metadata": {
        "id": "xdsG89avzIvq"
      },
      "source": [
        "for token in s:\n",
        "  index = token.idx\n",
        "  if index < MAX_VOCAB_SIZE: \n",
        "    embedding_vector = token.embedding\n",
        "    if embedding_vector is not None:\n",
        "      embedding_matrix[index] = embedding_vector"
      ],
      "execution_count": 137,
      "outputs": []
    },
    {
      "cell_type": "code",
      "metadata": {
        "colab": {
          "base_uri": "https://localhost:8080/"
        },
        "id": "hU0tGNoG5g_Z",
        "outputId": "b7e6c2ef-02c3-4e1d-ccc7-4639ad9c2d37"
      },
      "source": [
        "embedding_matrix"
      ],
      "execution_count": 138,
      "outputs": [
        {
          "output_type": "execute_result",
          "data": {
            "text/plain": [
              "tensor([[ 0.0000e+00,  0.0000e+00,  0.0000e+00,  ...,  0.0000e+00,\n",
              "          0.0000e+00,  0.0000e+00],\n",
              "        [ 6.7919e-04,  6.9230e-04,  6.5215e-03,  ..., -6.0460e-03,\n",
              "          9.9300e-03, -4.4486e-02],\n",
              "        [ 1.0635e-03,  6.2550e-05,  4.1403e-02,  ..., -1.7823e-02,\n",
              "         -7.0727e-03, -5.0215e-03],\n",
              "        ...,\n",
              "        [ 0.0000e+00,  0.0000e+00,  0.0000e+00,  ...,  0.0000e+00,\n",
              "          0.0000e+00,  0.0000e+00],\n",
              "        [ 0.0000e+00,  0.0000e+00,  0.0000e+00,  ...,  0.0000e+00,\n",
              "          0.0000e+00,  0.0000e+00],\n",
              "        [ 0.0000e+00,  0.0000e+00,  0.0000e+00,  ...,  0.0000e+00,\n",
              "          0.0000e+00,  0.0000e+00]])"
            ]
          },
          "metadata": {},
          "execution_count": 138
        }
      ]
    },
    {
      "cell_type": "markdown",
      "metadata": {
        "id": "JKpQw32A5oqy"
      },
      "source": [
        "Testing"
      ]
    },
    {
      "cell_type": "code",
      "metadata": {
        "colab": {
          "base_uri": "https://localhost:8080/"
        },
        "id": "64ePKvTo5q_0",
        "outputId": "d844711b-ff9a-46e3-c13e-bc1dacbf706f"
      },
      "source": [
        "string = \"line\"\n",
        "idx = word2idx_train.get(string)\n",
        "print(idx)"
      ],
      "execution_count": 139,
      "outputs": [
        {
          "output_type": "stream",
          "text": [
            "900\n"
          ],
          "name": "stdout"
        }
      ]
    },
    {
      "cell_type": "code",
      "metadata": {
        "colab": {
          "base_uri": "https://localhost:8080/"
        },
        "id": "8YA3ZnUs_i6g",
        "outputId": "1f780ae3-45e1-4094-b1a3-58d48f4efc8d"
      },
      "source": [
        "print(s.get_token(idx))"
      ],
      "execution_count": 140,
      "outputs": [
        {
          "output_type": "stream",
          "text": [
            "Token: 900 line\n"
          ],
          "name": "stdout"
        }
      ]
    },
    {
      "cell_type": "code",
      "metadata": {
        "colab": {
          "base_uri": "https://localhost:8080/"
        },
        "id": "VTPXrCEd6Tlm",
        "outputId": "ff45910e-5f5e-401e-ca85-67c94ab3783b"
      },
      "source": [
        "idx = idx+1 # As index start from 1\n",
        "embedding_matrix[idx]"
      ],
      "execution_count": 141,
      "outputs": [
        {
          "output_type": "execute_result",
          "data": {
            "text/plain": [
              "tensor([-0.0014,  0.0009,  0.0331,  ..., -0.0015, -0.0342, -0.0033])"
            ]
          },
          "metadata": {},
          "execution_count": 141
        }
      ]
    },
    {
      "cell_type": "code",
      "metadata": {
        "id": "pp1VcFeux3xX"
      },
      "source": [
        "embedding_matrix = embedding_matrix.numpy()"
      ],
      "execution_count": 142,
      "outputs": []
    },
    {
      "cell_type": "code",
      "metadata": {
        "id": "VZEtfid-NSTm"
      },
      "source": [
        "num_words = embedding_matrix.shape[0]\n",
        "emb_dim = embedding_matrix.shape[1]"
      ],
      "execution_count": 143,
      "outputs": []
    },
    {
      "cell_type": "code",
      "metadata": {
        "id": "VL1908FM62dL"
      },
      "source": [
        "embedding_layer_flair = Embedding(num_words,emb_dim,weights = [embedding_matrix], input_length=MAX_SEQUENCE_LENGTH,trainable = False)"
      ],
      "execution_count": 158,
      "outputs": []
    },
    {
      "cell_type": "code",
      "metadata": {
        "colab": {
          "base_uri": "https://localhost:8080/"
        },
        "id": "yMlhhC4iMqq7",
        "outputId": "420f5c79-01ea-4cc8-8dcc-a5a888cf5340"
      },
      "source": [
        "cnn = _build_CNN(len(y[0]),embedding_layer_flair)"
      ],
      "execution_count": 159,
      "outputs": [
        {
          "output_type": "stream",
          "text": [
            "Building model...\n",
            "Model: \"model_6\"\n",
            "_________________________________________________________________\n",
            "Layer (type)                 Output Shape              Param #   \n",
            "=================================================================\n",
            "input_7 (InputLayer)         [(None, 100)]             0         \n",
            "_________________________________________________________________\n",
            "embedding_6 (Embedding)      (None, 100, 4096)         81920000  \n",
            "_________________________________________________________________\n",
            "conv1d_18 (Conv1D)           (None, 98, 128)           1572992   \n",
            "_________________________________________________________________\n",
            "max_pooling1d_12 (MaxPooling (None, 32, 128)           0         \n",
            "_________________________________________________________________\n",
            "dropout_12 (Dropout)         (None, 32, 128)           0         \n",
            "_________________________________________________________________\n",
            "conv1d_19 (Conv1D)           (None, 30, 128)           49280     \n",
            "_________________________________________________________________\n",
            "max_pooling1d_13 (MaxPooling (None, 10, 128)           0         \n",
            "_________________________________________________________________\n",
            "dropout_13 (Dropout)         (None, 10, 128)           0         \n",
            "_________________________________________________________________\n",
            "conv1d_20 (Conv1D)           (None, 8, 128)            49280     \n",
            "_________________________________________________________________\n",
            "global_max_pooling1d_6 (Glob (None, 128)               0         \n",
            "_________________________________________________________________\n",
            "dense_12 (Dense)             (None, 128)               16512     \n",
            "_________________________________________________________________\n",
            "dense_13 (Dense)             (None, 7)                 903       \n",
            "=================================================================\n",
            "Total params: 83,608,967\n",
            "Trainable params: 1,688,967\n",
            "Non-trainable params: 81,920,000\n",
            "_________________________________________________________________\n",
            "None\n",
            "Done..\n"
          ],
          "name": "stdout"
        }
      ]
    },
    {
      "cell_type": "code",
      "metadata": {
        "id": "8s34oN6gMqq7",
        "colab": {
          "base_uri": "https://localhost:8080/"
        },
        "outputId": "f98a3e72-8fa0-4e8e-cdbd-e6b543db1b23"
      },
      "source": [
        "from keras.callbacks import EarlyStopping\n",
        "\n",
        "early_stopping_monitor = EarlyStopping(patience = 5)\n",
        "\n",
        "cnn_train = cnn.fit(\n",
        "    data_train,\n",
        "    labels,\n",
        "    batch_size=BATCH_SIZE,\n",
        "    epochs=EPOCHS,\n",
        "    validation_split=VALIDATION_SPLIT,\n",
        "    callbacks = [early_stopping_monitor]\n",
        ")"
      ],
      "execution_count": 160,
      "outputs": [
        {
          "output_type": "stream",
          "text": [
            "Epoch 1/40\n",
            "88/88 [==============================] - 180s 2s/step - loss: 0.4470 - accuracy: 0.3452 - val_loss: 0.3545 - val_accuracy: 0.6090\n",
            "Epoch 2/40\n",
            "88/88 [==============================] - 182s 2s/step - loss: 0.3091 - accuracy: 0.6769 - val_loss: 0.2869 - val_accuracy: 0.7390\n",
            "Epoch 3/40\n",
            "88/88 [==============================] - 179s 2s/step - loss: 0.2618 - accuracy: 0.7641 - val_loss: 0.2564 - val_accuracy: 0.8164\n",
            "Epoch 4/40\n",
            "88/88 [==============================] - 180s 2s/step - loss: 0.2329 - accuracy: 0.8223 - val_loss: 0.2599 - val_accuracy: 0.8267\n",
            "Epoch 5/40\n",
            "88/88 [==============================] - 182s 2s/step - loss: 0.2127 - accuracy: 0.8379 - val_loss: 0.2372 - val_accuracy: 0.8338\n",
            "Epoch 6/40\n",
            "88/88 [==============================] - 179s 2s/step - loss: 0.1999 - accuracy: 0.8564 - val_loss: 0.2426 - val_accuracy: 0.7901\n",
            "Epoch 7/40\n",
            "88/88 [==============================] - 180s 2s/step - loss: 0.1881 - accuracy: 0.8266 - val_loss: 0.2212 - val_accuracy: 0.8462\n",
            "Epoch 8/40\n",
            "88/88 [==============================] - 180s 2s/step - loss: 0.1782 - accuracy: 0.8515 - val_loss: 0.2256 - val_accuracy: 0.8228\n",
            "Epoch 9/40\n",
            "88/88 [==============================] - 180s 2s/step - loss: 0.1725 - accuracy: 0.8655 - val_loss: 0.2242 - val_accuracy: 0.8161\n",
            "Epoch 10/40\n",
            "88/88 [==============================] - 180s 2s/step - loss: 0.1646 - accuracy: 0.8495 - val_loss: 0.2293 - val_accuracy: 0.7887\n",
            "Epoch 11/40\n",
            "88/88 [==============================] - 180s 2s/step - loss: 0.1618 - accuracy: 0.8600 - val_loss: 0.2416 - val_accuracy: 0.7962\n",
            "Epoch 12/40\n",
            "88/88 [==============================] - 179s 2s/step - loss: 0.1544 - accuracy: 0.8543 - val_loss: 0.2420 - val_accuracy: 0.8438\n"
          ],
          "name": "stdout"
        }
      ]
    },
    {
      "cell_type": "code",
      "metadata": {
        "id": "7y8aDdrrMqq8",
        "colab": {
          "base_uri": "https://localhost:8080/",
          "height": 530
        },
        "outputId": "3e20a010-eedc-4b1b-fc50-ad220b64c05b"
      },
      "source": [
        "# plot some data\n",
        "plt.plot(cnn_train.history['loss'], label='loss')\n",
        "plt.plot(cnn_train.history['val_loss'], label='val_loss')\n",
        "plt.legend()\n",
        "plt.show()\n",
        "\n",
        "# accuracies\n",
        "plt.plot(cnn_train.history['accuracy'], label='acc')\n",
        "plt.plot(cnn_train.history['val_accuracy'], label='val_acc')\n",
        "plt.legend()\n",
        "plt.show()\n",
        "\n",
        "# plot the mean AUC over each label\n",
        "p = cnn.predict(data_train)\n",
        "aucs = []\n",
        "for j in range(6):\n",
        "    auc = roc_auc_score(labels[:,j], p[:,j])\n",
        "    aucs.append(auc)\n",
        "print(np.mean(aucs))"
      ],
      "execution_count": 161,
      "outputs": [
        {
          "output_type": "display_data",
          "data": {
            "image/png": "[encoded data removed]",
            "text/plain": [
              "<Figure size 432x288 with 1 Axes>"
            ]
          },
          "metadata": {
            "needs_background": "light"
          }
        },
        {
          "output_type": "display_data",
          "data": {
            "image/png": "[encoded data removed]",
            "text/plain": [
              "<Figure size 432x288 with 1 Axes>"
            ]
          },
          "metadata": {
            "needs_background": "light"
          }
        },
        {
          "output_type": "stream",
          "text": [
            "0.9422102147236088\n"
          ],
          "name": "stdout"
        }
      ]
    },
    {
      "cell_type": "markdown",
      "metadata": {
        "id": "hOYBuoN-Mqq8"
      },
      "source": [
        "##### Evaluation on test set (CNN)"
      ]
    },
    {
      "cell_type": "code",
      "metadata": {
        "id": "r5ebfYXeMqq8"
      },
      "source": [
        "labels = test_df.iloc[:,1:-1].values\n",
        "sentences = test_df.iloc[:,-1].values"
      ],
      "execution_count": 162,
      "outputs": []
    },
    {
      "cell_type": "code",
      "metadata": {
        "colab": {
          "base_uri": "https://localhost:8080/"
        },
        "id": "qwS58wzvMqq8",
        "outputId": "bab27f6a-5401-48bb-842d-dc7be682e7ba"
      },
      "source": [
        " test_data = preprocessing_testSet(sentences)"
      ],
      "execution_count": 163,
      "outputs": [
        {
          "output_type": "stream",
          "text": [
            "sequences[0]: [53, 72, 946, 572, 123, 4371, 48]\n",
            "Shape of data tensor: (2484, 100)\n"
          ],
          "name": "stdout"
        }
      ]
    },
    {
      "cell_type": "code",
      "metadata": {
        "id": "kcvu_yZgMqq8"
      },
      "source": [
        "test_pred = cnn.predict(test_data)\n",
        "test_df_labels = labels"
      ],
      "execution_count": 164,
      "outputs": []
    },
    {
      "cell_type": "code",
      "metadata": {
        "id": "LouD6JC5Mqq8",
        "colab": {
          "base_uri": "https://localhost:8080/"
        },
        "outputId": "e10c5023-8f61-4eb9-b372-58f67ead595c"
      },
      "source": [
        "print(get_classification_report(test_pred, test_df_labels))"
      ],
      "execution_count": 165,
      "outputs": [
        {
          "output_type": "stream",
          "text": [
            "                 precision    recall  f1-score   support\n",
            "\n",
            "      Ethnicity       0.53      0.34      0.41       784\n",
            "         gender       0.23      0.24      0.23       304\n",
            "     profession       0.42      0.29      0.34       467\n",
            "       religion       0.59      0.71      0.65       293\n",
            "Anti-stereotype       0.43      0.37      0.40       778\n",
            "     stereotype       0.60      0.44      0.51      1070\n",
            "      unrelated       0.49      0.69      0.57       636\n",
            "\n",
            "      micro avg       0.49      0.43      0.46      4332\n",
            "      macro avg       0.47      0.44      0.45      4332\n",
            "   weighted avg       0.50      0.43      0.45      4332\n",
            "    samples avg       0.47      0.47      0.47      4332\n",
            "\n"
          ],
          "name": "stdout"
        }
      ]
    },
    {
      "cell_type": "code",
      "metadata": {
        "id": "OWbSDZlLMqq9",
        "colab": {
          "base_uri": "https://localhost:8080/"
        },
        "outputId": "9a5756d9-5e7c-40a7-c5fe-e3f94bda52b8"
      },
      "source": [
        "write_to_file = True \n",
        "classification_metrics(test_pred, test_df_labels,\"CNN_Flair\",0.5)"
      ],
      "execution_count": 166,
      "outputs": [
        {
          "output_type": "stream",
          "text": [
            "Evaluation metrics for test set:\n",
            "\n",
            " ROC-AUC score: 0.701193 \n",
            "\n",
            "\n",
            " Subset accuracy : 0.333333 \n",
            "\n",
            "\n",
            " hamming_loss : 0.253681 \n",
            "\n",
            "\n",
            " hamming score : 0.427033 \n",
            "\n",
            "\n",
            " sample average  precision_sample_average : 0.474839 \n",
            "\n",
            "\n",
            " sample average  recall_sample_average : 0.468196 \n",
            "\n",
            "\n",
            " sample average  f1_sample_average : 0.467378 \n",
            "\n",
            "  Saving the metrics into a file: eval_results_CNN_Flair_0.5_.json with threshold :0.5\n"
          ],
          "name": "stdout"
        },
        {
          "output_type": "stream",
          "text": [
            "/usr/local/lib/python3.7/dist-packages/sklearn/metrics/_classification.py:1272: UndefinedMetricWarning: Precision is ill-defined and being set to 0.0 in samples with no predicted labels. Use `zero_division` parameter to control this behavior.\n",
            "  _warn_prf(average, modifier, msg_start, len(result))\n",
            "/usr/local/lib/python3.7/dist-packages/sklearn/metrics/_classification.py:1272: UndefinedMetricWarning: Precision and F-score are ill-defined and being set to 0.0 in samples with no predicted labels. Use `zero_division` parameter to control this behavior.\n",
            "  _warn_prf(average, modifier, msg_start, len(result))\n"
          ],
          "name": "stderr"
        }
      ]
    },
    {
      "cell_type": "markdown",
      "metadata": {
        "id": "eOAm96tebpZh"
      },
      "source": [
        "## Randomly initialized word embeddings with GRU and LSTM"
      ]
    },
    {
      "cell_type": "code",
      "metadata": {
        "id": "eX3Vj1PHZwKD"
      },
      "source": [
        "MAX_VOCAB_SIZE = 20000 # Based on usage\n",
        "EMBEDDING_DIM = 100 # glove dimentions\n",
        "BATCH_SIZE = 128\n",
        "EPOCHS = 10"
      ],
      "execution_count": 167,
      "outputs": []
    },
    {
      "cell_type": "code",
      "metadata": {
        "id": "xmAZjPTlis3A"
      },
      "source": [
        "embedding_layer = Embedding(MAX_VOCAB_SIZE,EMBEDDING_DIM, input_length=MAX_SEQUENCE_LENGTH,trainable = True)"
      ],
      "execution_count": 168,
      "outputs": []
    },
    {
      "cell_type": "markdown",
      "metadata": {
        "id": "8qUlKgbGDMPY"
      },
      "source": [
        "### Fasttext like model (Randomly initialized word embedding)\n",
        "\n",
        "References :\n",
        "\n",
        "  * Paper: https://arxiv.org/pdf/1607.01759.pdf \n",
        "\n",
        "  1. https://nbviewer.jupyter.org/github/amaiya/ktrain/blob/master/tutorials/tutorial-04-text-classification.ipynb\n",
        "  2. https://github.com/mvdheram/Social-bias-Detection/blob/main/Baselines_anti.ipynb\n",
        "\n",
        "Model details :\n",
        "\n",
        "1. keras `Tokenizer` to tokenize the input sequences \n",
        "  * Create tokenizer with `Tokenizer(num_words=MAX_VOCAB_SIZE)`\n",
        "  * Fit on input sequences `tokenizer.fit_on_texts(sentences)`\n",
        "  * Generate input sequences with word ids using `tokenizer.texts_to_sequences(sentences)` \n",
        "2. Randomly initialized (weights) Keras embedding layer \n",
        "  * Dimentions (Vocab size,Dimentionality of each vocab) https://www.tensorflow.org/api_docs/python/tf/keras/layers/Embedding \n",
        "  * `Embedding(max_features, 64, input_length = maxlen)`\n",
        "3. `SpatialDropout1D = 0.25`\n",
        "4. `GlobalMaxPool1D()`, \n",
        "5. `BatchNormalization()`, \n",
        "6. Dense layer ,`relu` activation , \n",
        "7. Dense layer with output dimention (`Num_of_labels`), \n",
        "8. `loss_func = 'binary_crossentropy', activation = 'sigmoid'`   \n"
      ]
    },
    {
      "cell_type": "markdown",
      "metadata": {
        "id": "fVvFHil2DMPZ"
      },
      "source": [
        "Ktrain steps:\n",
        "\n",
        "1. Load the text data and corresponding preprocessing module using `ktrain.text`.\n",
        "  * Total instances : 16544\n",
        "    * Train instances : 14889 (90%)\n",
        "    * Test instances : 1655 (10%)\n",
        "2. Load corresponding model from `ktrain.text.text_classifier`\n",
        "3. Find best learning rate using `learner.lr_find`\n",
        "4. Train the model using *learning rate scheduler* from ktrain.\n",
        "5. Validate the test set with classification metrics. "
      ]
    },
    {
      "cell_type": "code",
      "metadata": {
        "colab": {
          "base_uri": "https://localhost:8080/",
          "height": 163
        },
        "id": "_iiQYLtuDMPc",
        "outputId": "877a07f2-3df3-41de-8756-bfc9052773af"
      },
      "source": [
        "text.print_text_classifiers()"
      ],
      "execution_count": 158,
      "outputs": [
        {
          "output_type": "error",
          "ename": "NameError",
          "evalue": "ignored",
          "traceback": [
            "\u001b[0;31m---------------------------------------------------------------------------\u001b[0m",
            "\u001b[0;31mNameError\u001b[0m                                 Traceback (most recent call last)",
            "\u001b[0;32m<ipython-input-158-b40d770ae48e>\u001b[0m in \u001b[0;36m<module>\u001b[0;34m()\u001b[0m\n\u001b[0;32m----> 1\u001b[0;31m \u001b[0mtext\u001b[0m\u001b[0;34m.\u001b[0m\u001b[0mprint_text_classifiers\u001b[0m\u001b[0;34m(\u001b[0m\u001b[0;34m)\u001b[0m\u001b[0;34m\u001b[0m\u001b[0;34m\u001b[0m\u001b[0m\n\u001b[0m",
            "\u001b[0;31mNameError\u001b[0m: name 'text' is not defined"
          ]
        }
      ]
    },
    {
      "cell_type": "code",
      "metadata": {
        "colab": {
          "base_uri": "https://localhost:8080/"
        },
        "id": "lgInpcc1DMPe",
        "outputId": "45eafb94-753b-49ab-fd1e-d6e044ce1f5e"
      },
      "source": [
        "df.columns"
      ],
      "execution_count": 159,
      "outputs": [
        {
          "output_type": "execute_result",
          "data": {
            "text/plain": [
              "Index(['sentence', 'Ethnicity', 'gender', 'profession', 'religion',\n",
              "       'Anti-stereotype', 'stereotype', 'unrelated', 'clean_text'],\n",
              "      dtype='object')"
            ]
          },
          "metadata": {},
          "execution_count": 159
        }
      ]
    },
    {
      "cell_type": "code",
      "metadata": {
        "colab": {
          "base_uri": "https://localhost:8080/",
          "height": 197
        },
        "id": "f69iehkmDMPf",
        "outputId": "5d244d54-6331-492b-ca80-6b828d082b39"
      },
      "source": [
        "(x_train, y_train), (x_test, y_test), preproc = text.texts_from_df(df,'sentence',label_columns = ['Ethnicity', 'gender', 'profession', 'religion', 'Anti-stereotype',\n",
        "       'stereotype', 'unrelated'], maxlen = MAX_SEQUENCE_LENGTH, max_features = MAX_VOCAB_SIZE, preprocess_mode='standard', ngram_range=3)"
      ],
      "execution_count": 160,
      "outputs": [
        {
          "output_type": "error",
          "ename": "NameError",
          "evalue": "ignored",
          "traceback": [
            "\u001b[0;31m---------------------------------------------------------------------------\u001b[0m",
            "\u001b[0;31mNameError\u001b[0m                                 Traceback (most recent call last)",
            "\u001b[0;32m<ipython-input-160-51f1db53ee27>\u001b[0m in \u001b[0;36m<module>\u001b[0;34m()\u001b[0m\n\u001b[0;32m----> 1\u001b[0;31m (x_train, y_train), (x_test, y_test), preproc = text.texts_from_df(df,'sentence',label_columns = ['Ethnicity', 'gender', 'profession', 'religion', 'Anti-stereotype',\n\u001b[0m\u001b[1;32m      2\u001b[0m        'stereotype', 'unrelated'], maxlen = MAX_SEQUENCE_LENGTH, max_features = MAX_VOCAB_SIZE, preprocess_mode='standard', ngram_range=3)\n",
            "\u001b[0;31mNameError\u001b[0m: name 'text' is not defined"
          ]
        }
      ]
    },
    {
      "cell_type": "code",
      "metadata": {
        "id": "q9ejFfVfemu6"
      },
      "source": [
        "x_train = train_df_text.values\n",
        "y_train = train_df_labels.values\n",
        "x_val = val_df_text.values\n",
        "y_val = val_df_labels.values\n",
        "x_test = test_df_text.values\n",
        "y_test = test_df_labels.values"
      ],
      "execution_count": null,
      "outputs": []
    },
    {
      "cell_type": "code",
      "metadata": {
        "id": "RH00E2knDMPk"
      },
      "source": [
        "model = text.text_classifier('fasttext', (x_train, y_train) , preproc=preproc)"
      ],
      "execution_count": null,
      "outputs": []
    },
    {
      "cell_type": "code",
      "metadata": {
        "id": "V_NwmbEqDMPl"
      },
      "source": [
        "model.summary()"
      ],
      "execution_count": null,
      "outputs": []
    },
    {
      "cell_type": "code",
      "metadata": {
        "id": "IL_7sJroDMPm"
      },
      "source": [
        "learner = ktrain.get_learner(model, \n",
        "                             train_data=(x_train, y_train),\n",
        "                             val_data=(x_val, y_val))"
      ],
      "execution_count": null,
      "outputs": []
    },
    {
      "cell_type": "code",
      "metadata": {
        "id": "kpkgZOgsDMPm"
      },
      "source": [
        "learner.lr_find(show_plot=True)"
      ],
      "execution_count": null,
      "outputs": []
    },
    {
      "cell_type": "code",
      "metadata": {
        "id": "GKyY_6ERDMPn"
      },
      "source": [
        "learner.autofit(5e-2, 5)"
      ],
      "execution_count": null,
      "outputs": []
    },
    {
      "cell_type": "code",
      "metadata": {
        "id": "kxKasQeRDMPo"
      },
      "source": [
        "learner.plot('loss')"
      ],
      "execution_count": null,
      "outputs": []
    },
    {
      "cell_type": "markdown",
      "metadata": {
        "id": "jWtbBw_vN-FD"
      },
      "source": [
        "Correct the predictions"
      ]
    },
    {
      "cell_type": "code",
      "metadata": {
        "id": "4kcmN8twDMPp"
      },
      "source": [
        "test_pred = learner.predict()\n",
        "test_df_labels = y_test"
      ],
      "execution_count": null,
      "outputs": []
    },
    {
      "cell_type": "markdown",
      "metadata": {
        "id": "RrNpbLc4DMPq"
      },
      "source": [
        "ROC_AUC of final model"
      ]
    },
    {
      "cell_type": "code",
      "metadata": {
        "id": "Wt3-DkRzDMPq"
      },
      "source": [
        "score = roc_auc_score(test_df_labels, test_pred)\n",
        "print(\"\\n ROC-AUC score: %.6f \\n\" % (score))"
      ],
      "execution_count": null,
      "outputs": []
    },
    {
      "cell_type": "markdown",
      "metadata": {
        "id": "9mra7mlQDMPr"
      },
      "source": [
        "per_class ROC_AUC"
      ]
    },
    {
      "cell_type": "code",
      "metadata": {
        "id": "n1X1TcHPDMPs"
      },
      "source": [
        "from sklearn.metrics import roc_curve\n",
        "from collections import OrderedDict\n",
        "import numpy as np\n",
        "\n",
        "\n",
        "opti_threshold = dict()\n",
        "LABEL_COLUMNS = ['Ethnicity','gender','profession','religion','Anti-stereotype','stereotype','unrelated']\n",
        "\n",
        "for i in range(7):\n",
        "  fpr, tpr, thresholds = roc_curve(test_df_labels[:,i], test_pred[:,i])\n",
        "  print(\"AUC_ROC_score of %s is %s:\"% (LABEL_COLUMNS[i],roc_auc_score(test_df_labels[:,i], test_pred[:,i])))\n",
        "  optimal_idx = np.argmax(tpr + (1- fpr)) # Return indices of maximum array;  Criterion - Maximise TPR(recall) and TNR(specificity) \n",
        "  optimal_threshold = thresholds[optimal_idx]\n",
        "  print(\"Optimal threshold value of %s is %s:\\n\" % (LABEL_COLUMNS[i], optimal_threshold))\n",
        "  opti_threshold[i] = optimal_threshold"
      ],
      "execution_count": null,
      "outputs": []
    },
    {
      "cell_type": "markdown",
      "metadata": {
        "id": "fVX9lbw8DMPt"
      },
      "source": [
        "Classification report \n",
        "\n",
        "Threshold = 0.5"
      ]
    },
    {
      "cell_type": "code",
      "metadata": {
        "id": "vERED1FSDMPt"
      },
      "source": [
        "from sklearn.metrics import classification_report, multilabel_confusion_matrix\n",
        "\n",
        "y_pred = np.where(test_pred > 0.5, upper, lower)\n",
        "classification_report = classification_report(\n",
        "  test_df_labels, \n",
        "  y_pred, \n",
        "  target_names=LABEL_COLUMNS, \n",
        "  zero_division=0,\n",
        ")"
      ],
      "execution_count": null,
      "outputs": []
    },
    {
      "cell_type": "code",
      "metadata": {
        "id": "_wD-v5CkDMPu"
      },
      "source": [
        "print(classification_report)"
      ],
      "execution_count": null,
      "outputs": []
    },
    {
      "cell_type": "markdown",
      "metadata": {
        "id": "YaBvYUWsDMPv"
      },
      "source": [
        "Confusion matrix"
      ]
    },
    {
      "cell_type": "code",
      "metadata": {
        "id": "HyuBTD-0DMPv"
      },
      "source": [
        "pip install git+https://github.com/gmihaila/ml_things"
      ],
      "execution_count": null,
      "outputs": []
    },
    {
      "cell_type": "code",
      "metadata": {
        "id": "SxERkMc_DMPw"
      },
      "source": [
        "import matplotlib.pyplot as plt\n",
        "import seaborn as sns\n",
        "from ml_things import plot_confusion_matrix\n",
        "\n",
        "cf = multilabel_confusion_matrix(test_df_labels, \n",
        "  y_pred)"
      ],
      "execution_count": null,
      "outputs": []
    },
    {
      "cell_type": "code",
      "metadata": {
        "id": "lHjka83XDMPx"
      },
      "source": [
        "LABEL_COLUMNS = ['Ethnicity','gender','profession','religion','Anti-stereotype','stereotype','unrelated']\n",
        "for i,val in enumerate(LABEL_COLUMNS):\n",
        "  plot_confusion_matrix(y_true=test_df_labels[:,i], y_pred=y_pred[:,i], magnify=0.1, use_title='Confusion Matrix'+\" \"+ val, path='plot_confusion_matrix'+ \"_\" + val +\".png\");"
      ],
      "execution_count": null,
      "outputs": []
    },
    {
      "cell_type": "markdown",
      "metadata": {
        "id": "Q86_KCBwDMPz"
      },
      "source": [
        "Classification metrics "
      ]
    },
    {
      "cell_type": "code",
      "metadata": {
        "id": "wpyxqsNIDMPz"
      },
      "source": [
        "write_to_file = True \n",
        "classification_metrics(test_pred, test_df_labels,\"nbsvm\",0.5)"
      ],
      "execution_count": null,
      "outputs": []
    },
    {
      "cell_type": "markdown",
      "metadata": {
        "id": "EFAr3QCKhYLS"
      },
      "source": [
        "### Randomly initialized word embedding with Bi-LSTM"
      ]
    },
    {
      "cell_type": "code",
      "metadata": {
        "colab": {
          "base_uri": "https://localhost:8080/"
        },
        "id": "7HcMgzm1lHe_",
        "outputId": "19d4a22c-e261-4e7a-d486-c2ba44326702"
      },
      "source": [
        "bilstm = _build_bilstm(len(y[0]),embedding_layer)"
      ],
      "execution_count": 186,
      "outputs": [
        {
          "output_type": "stream",
          "text": [
            "Building model...\n",
            "Model: \"model_8\"\n",
            "__________________________________________________________________________________________________\n",
            "Layer (type)                    Output Shape         Param #     Connected to                     \n",
            "==================================================================================================\n",
            "input_9 (InputLayer)            [(None, 100)]        0                                            \n",
            "__________________________________________________________________________________________________\n",
            "embedding_7 (Embedding)         (None, 100, 100)     2000000     input_9[0][0]                    \n",
            "__________________________________________________________________________________________________\n",
            "spatial_dropout1d_1 (SpatialDro (None, 100, 100)     0           embedding_7[1][0]                \n",
            "__________________________________________________________________________________________________\n",
            "bidirectional_1 (Bidirectional) (None, 100, 30)      13920       spatial_dropout1d_1[0][0]        \n",
            "__________________________________________________________________________________________________\n",
            "global_average_pooling1d_1 (Glo (None, 30)           0           bidirectional_1[0][0]            \n",
            "__________________________________________________________________________________________________\n",
            "global_max_pooling1d_8 (GlobalM (None, 30)           0           bidirectional_1[0][0]            \n",
            "__________________________________________________________________________________________________\n",
            "concatenate_1 (Concatenate)     (None, 60)           0           global_average_pooling1d_1[0][0] \n",
            "                                                                 global_max_pooling1d_8[0][0]     \n",
            "__________________________________________________________________________________________________\n",
            "dense_15 (Dense)                (None, 7)            427         concatenate_1[0][0]              \n",
            "==================================================================================================\n",
            "Total params: 2,014,347\n",
            "Trainable params: 2,014,347\n",
            "Non-trainable params: 0\n",
            "__________________________________________________________________________________________________\n",
            "None\n",
            "Done..\n"
          ],
          "name": "stdout"
        }
      ]
    },
    {
      "cell_type": "code",
      "metadata": {
        "colab": {
          "base_uri": "https://localhost:8080/"
        },
        "id": "tWEOVx6ulHfE",
        "outputId": "e1f52dd0-f6b7-48d7-f11d-c78c5c4f06d4"
      },
      "source": [
        "from keras.callbacks import EarlyStopping\n",
        "\n",
        "early_stopping_monitor = EarlyStopping(patience = 5)\n",
        "\n",
        "bilstm_train = bilstm.fit(\n",
        "    data_train,\n",
        "    labels,\n",
        "    batch_size=BATCH_SIZE,\n",
        "    epochs=EPOCHS,\n",
        "    validation_split=VALIDATION_SPLIT,\n",
        "    callbacks = [early_stopping_monitor]\n",
        ")"
      ],
      "execution_count": 187,
      "outputs": [
        {
          "output_type": "stream",
          "text": [
            "Epoch 1/10\n",
            "88/88 [==============================] - 13s 113ms/step - loss: 0.5419 - accuracy: 0.0233 - val_loss: 0.4961 - val_accuracy: 0.0018\n",
            "Epoch 2/10\n",
            "88/88 [==============================] - 9s 105ms/step - loss: 0.4622 - accuracy: 0.2062 - val_loss: 0.4323 - val_accuracy: 0.2067\n",
            "Epoch 3/10\n",
            "88/88 [==============================] - 9s 104ms/step - loss: 0.4044 - accuracy: 0.3181 - val_loss: 0.3917 - val_accuracy: 0.3949\n",
            "Epoch 4/10\n",
            "88/88 [==============================] - 9s 104ms/step - loss: 0.3601 - accuracy: 0.4820 - val_loss: 0.3589 - val_accuracy: 0.5018\n",
            "Epoch 5/10\n",
            "88/88 [==============================] - 9s 105ms/step - loss: 0.3185 - accuracy: 0.5187 - val_loss: 0.3229 - val_accuracy: 0.5082\n",
            "Epoch 6/10\n",
            "88/88 [==============================] - 9s 105ms/step - loss: 0.2818 - accuracy: 0.5264 - val_loss: 0.2996 - val_accuracy: 0.4876\n",
            "Epoch 7/10\n",
            "88/88 [==============================] - 9s 106ms/step - loss: 0.2519 - accuracy: 0.6110 - val_loss: 0.2794 - val_accuracy: 0.6339\n",
            "Epoch 8/10\n",
            "88/88 [==============================] - 9s 104ms/step - loss: 0.2322 - accuracy: 0.6675 - val_loss: 0.2624 - val_accuracy: 0.6552\n",
            "Epoch 9/10\n",
            "88/88 [==============================] - 9s 106ms/step - loss: 0.2129 - accuracy: 0.6701 - val_loss: 0.2552 - val_accuracy: 0.6662\n",
            "Epoch 10/10\n",
            "88/88 [==============================] - 9s 106ms/step - loss: 0.1953 - accuracy: 0.7001 - val_loss: 0.2737 - val_accuracy: 0.6722\n"
          ],
          "name": "stdout"
        }
      ]
    },
    {
      "cell_type": "code",
      "metadata": {
        "id": "Qvcyyl69WHya"
      },
      "source": [
        "pip install matplotlib==3.1.3"
      ],
      "execution_count": null,
      "outputs": []
    },
    {
      "cell_type": "code",
      "metadata": {
        "colab": {
          "base_uri": "https://localhost:8080/",
          "height": 530
        },
        "id": "9ZsLXB_wlHfG",
        "outputId": "27d82d5f-f955-46dd-c716-b4666d35f765"
      },
      "source": [
        "# plot some data\n",
        "plt.plot(bilstm_train.history['loss'], label='loss')\n",
        "plt.plot(bilstm_train.history['val_loss'], label='val_loss')\n",
        "plt.legend()\n",
        "plt.show()\n",
        "\n",
        "# accuracies\n",
        "plt.plot(bilstm_train.history['accuracy'], label='acc')\n",
        "plt.plot(bilstm_train.history['val_accuracy'], label='val_acc')\n",
        "plt.legend()\n",
        "plt.show()\n",
        "\n",
        "# plot the mean AUC over each label\n",
        "p = bilstm.predict(data_train)\n",
        "aucs = []\n",
        "for j in range(6):\n",
        "    auc = roc_auc_score(labels[:,j], p[:,j])\n",
        "    aucs.append(auc)\n",
        "print(np.mean(aucs))"
      ],
      "execution_count": 188,
      "outputs": [
        {
          "output_type": "display_data",
          "data": {
            "image/png": "[encoded data removed]",
            "text/plain": [
              "<Figure size 432x288 with 1 Axes>"
            ]
          },
          "metadata": {
            "needs_background": "light"
          }
        },
        {
          "output_type": "display_data",
          "data": {
            "image/png": "[encoded data removed]",
            "text/plain": [
              "<Figure size 432x288 with 1 Axes>"
            ]
          },
          "metadata": {
            "needs_background": "light"
          }
        },
        {
          "output_type": "stream",
          "text": [
            "0.9369477199687667\n"
          ],
          "name": "stdout"
        }
      ]
    },
    {
      "cell_type": "markdown",
      "metadata": {
        "id": "s-vr8kKWlHfI"
      },
      "source": [
        "##### Evaluation on test set "
      ]
    },
    {
      "cell_type": "markdown",
      "metadata": {
        "id": "cPjNS1Bom90T"
      },
      "source": [
        "Run https://colab.research.google.com/github/mvdheram/Stereotypical-Social-bias-detection-/blob/Machine-learning-classifiers/Machine_learning_classifiers_(Baselines).ipynb#scrollTo=8M_1ix_RNo9m&line=1&uniqifier=1 "
      ]
    },
    {
      "cell_type": "code",
      "metadata": {
        "colab": {
          "base_uri": "https://localhost:8080/",
          "height": 753
        },
        "id": "EeXEfzgVWoXA",
        "outputId": "f5bad411-b886-499a-fe5e-55e6af5d8dc8"
      },
      "source": [
        "test_df"
      ],
      "execution_count": 189,
      "outputs": [
        {
          "output_type": "execute_result",
          "data": {
            "text/html": [
              "<div>\n",
              "<style scoped>\n",
              "    .dataframe tbody tr th:only-of-type {\n",
              "        vertical-align: middle;\n",
              "    }\n",
              "\n",
              "    .dataframe tbody tr th {\n",
              "        vertical-align: top;\n",
              "    }\n",
              "\n",
              "    .dataframe thead th {\n",
              "        text-align: right;\n",
              "    }\n",
              "</style>\n",
              "<table border=\"1\" class=\"dataframe\">\n",
              "  <thead>\n",
              "    <tr style=\"text-align: right;\">\n",
              "      <th></th>\n",
              "      <th>sentence</th>\n",
              "      <th>Ethnicity</th>\n",
              "      <th>gender</th>\n",
              "      <th>profession</th>\n",
              "      <th>religion</th>\n",
              "      <th>Anti-stereotype</th>\n",
              "      <th>stereotype</th>\n",
              "      <th>unrelated</th>\n",
              "      <th>clean_text</th>\n",
              "    </tr>\n",
              "  </thead>\n",
              "  <tbody>\n",
              "    <tr>\n",
              "      <th>0</th>\n",
              "      <td>We saw some cute horses running silently by.</td>\n",
              "      <td>0.0</td>\n",
              "      <td>0.0</td>\n",
              "      <td>0.0</td>\n",
              "      <td>0.0</td>\n",
              "      <td>0.0</td>\n",
              "      <td>0.0</td>\n",
              "      <td>1.0</td>\n",
              "      <td>see some cute horse run silently by</td>\n",
              "    </tr>\n",
              "    <tr>\n",
              "      <th>1</th>\n",
              "      <td>Try to brush contacts and contact floss everyday.</td>\n",
              "      <td>0.0</td>\n",
              "      <td>0.0</td>\n",
              "      <td>0.0</td>\n",
              "      <td>0.0</td>\n",
              "      <td>0.0</td>\n",
              "      <td>0.0</td>\n",
              "      <td>1.0</td>\n",
              "      <td>try to brush contact and contact floss everyday</td>\n",
              "    </tr>\n",
              "    <tr>\n",
              "      <th>2</th>\n",
              "      <td>why do shower heads have eleven holes because ...</td>\n",
              "      <td>0.0</td>\n",
              "      <td>0.0</td>\n",
              "      <td>0.0</td>\n",
              "      <td>1.0</td>\n",
              "      <td>0.0</td>\n",
              "      <td>1.0</td>\n",
              "      <td>0.0</td>\n",
              "      <td>why do shower head have eleven hole because je...</td>\n",
              "    </tr>\n",
              "    <tr>\n",
              "      <th>3</th>\n",
              "      <td>My sister is a schoolgirl She does not do any ...</td>\n",
              "      <td>0.0</td>\n",
              "      <td>1.0</td>\n",
              "      <td>0.0</td>\n",
              "      <td>0.0</td>\n",
              "      <td>0.0</td>\n",
              "      <td>1.0</td>\n",
              "      <td>0.0</td>\n",
              "      <td>sister be a schoolgirl do not do any work</td>\n",
              "    </tr>\n",
              "    <tr>\n",
              "      <th>4</th>\n",
              "      <td>He is an Arab from the Middle East. He is prob...</td>\n",
              "      <td>1.0</td>\n",
              "      <td>0.0</td>\n",
              "      <td>0.0</td>\n",
              "      <td>0.0</td>\n",
              "      <td>0.0</td>\n",
              "      <td>1.0</td>\n",
              "      <td>0.0</td>\n",
              "      <td>be an arab from the middle east be probably a ...</td>\n",
              "    </tr>\n",
              "    <tr>\n",
              "      <th>...</th>\n",
              "      <td>...</td>\n",
              "      <td>...</td>\n",
              "      <td>...</td>\n",
              "      <td>...</td>\n",
              "      <td>...</td>\n",
              "      <td>...</td>\n",
              "      <td>...</td>\n",
              "      <td>...</td>\n",
              "      <td>...</td>\n",
              "    </tr>\n",
              "    <tr>\n",
              "      <th>2479</th>\n",
              "      <td>I find my work to be very fulfilling.</td>\n",
              "      <td>0.0</td>\n",
              "      <td>0.0</td>\n",
              "      <td>0.0</td>\n",
              "      <td>0.0</td>\n",
              "      <td>0.0</td>\n",
              "      <td>0.0</td>\n",
              "      <td>1.0</td>\n",
              "      <td>find work to be very fulfilling</td>\n",
              "    </tr>\n",
              "    <tr>\n",
              "      <th>2480</th>\n",
              "      <td>Women who sign up on an online dating website ...</td>\n",
              "      <td>0.0</td>\n",
              "      <td>1.0</td>\n",
              "      <td>0.0</td>\n",
              "      <td>0.0</td>\n",
              "      <td>1.0</td>\n",
              "      <td>0.0</td>\n",
              "      <td>0.0</td>\n",
              "      <td>woman who sign up on an online dating website ...</td>\n",
              "    </tr>\n",
              "    <tr>\n",
              "      <th>2481</th>\n",
              "      <td>If you were black, that choice would be made f...</td>\n",
              "      <td>1.0</td>\n",
              "      <td>0.0</td>\n",
              "      <td>0.0</td>\n",
              "      <td>0.0</td>\n",
              "      <td>0.0</td>\n",
              "      <td>1.0</td>\n",
              "      <td>0.0</td>\n",
              "      <td>if be black that choice would be make for already</td>\n",
              "    </tr>\n",
              "    <tr>\n",
              "      <th>2482</th>\n",
              "      <td>Ukrainian citizens are criminal.</td>\n",
              "      <td>1.0</td>\n",
              "      <td>0.0</td>\n",
              "      <td>0.0</td>\n",
              "      <td>0.0</td>\n",
              "      <td>0.0</td>\n",
              "      <td>1.0</td>\n",
              "      <td>0.0</td>\n",
              "      <td>ukrainian citizen be criminal</td>\n",
              "    </tr>\n",
              "    <tr>\n",
              "      <th>2483</th>\n",
              "      <td>I know someone from Iraq. Her ethnic group are...</td>\n",
              "      <td>1.0</td>\n",
              "      <td>0.0</td>\n",
              "      <td>0.0</td>\n",
              "      <td>0.0</td>\n",
              "      <td>1.0</td>\n",
              "      <td>0.0</td>\n",
              "      <td>0.0</td>\n",
              "      <td>know someone from iraq ethnic group be christians</td>\n",
              "    </tr>\n",
              "  </tbody>\n",
              "</table>\n",
              "<p>2484 rows × 9 columns</p>\n",
              "</div>"
            ],
            "text/plain": [
              "                                               sentence  ...                                         clean_text\n",
              "0          We saw some cute horses running silently by.  ...                see some cute horse run silently by\n",
              "1     Try to brush contacts and contact floss everyday.  ...    try to brush contact and contact floss everyday\n",
              "2     why do shower heads have eleven holes because ...  ...  why do shower head have eleven hole because je...\n",
              "3     My sister is a schoolgirl She does not do any ...  ...          sister be a schoolgirl do not do any work\n",
              "4     He is an Arab from the Middle East. He is prob...  ...  be an arab from the middle east be probably a ...\n",
              "...                                                 ...  ...                                                ...\n",
              "2479              I find my work to be very fulfilling.  ...                    find work to be very fulfilling\n",
              "2480  Women who sign up on an online dating website ...  ...  woman who sign up on an online dating website ...\n",
              "2481  If you were black, that choice would be made f...  ...  if be black that choice would be make for already\n",
              "2482                   Ukrainian citizens are criminal.  ...                      ukrainian citizen be criminal\n",
              "2483  I know someone from Iraq. Her ethnic group are...  ...  know someone from iraq ethnic group be christians\n",
              "\n",
              "[2484 rows x 9 columns]"
            ]
          },
          "metadata": {},
          "execution_count": 189
        }
      ]
    },
    {
      "cell_type": "code",
      "metadata": {
        "id": "sQf_WeneWoXB"
      },
      "source": [
        "if 'clean_text' not in test_df.columns:\n",
        "  test_df['clean_text'] = test_df['sentence'].apply(clean_text)"
      ],
      "execution_count": 190,
      "outputs": []
    },
    {
      "cell_type": "code",
      "metadata": {
        "id": "7-8K0OcBWoXC"
      },
      "source": [
        "labels = test_df.iloc[:,1:-1].values\n",
        "sentences = test_df.iloc[:,-1].values"
      ],
      "execution_count": 191,
      "outputs": []
    },
    {
      "cell_type": "code",
      "metadata": {
        "colab": {
          "base_uri": "https://localhost:8080/"
        },
        "id": "Ugqg6sEnWoXC",
        "outputId": "f796785f-191d-4506-d600-7610b9d792b5"
      },
      "source": [
        "test_data = preprocessing_testSet(sentences)"
      ],
      "execution_count": 192,
      "outputs": [
        {
          "output_type": "stream",
          "text": [
            "sequences[0]: [53, 72, 946, 572, 123, 4371, 48]\n",
            "Shape of data tensor: (2484, 100)\n"
          ],
          "name": "stdout"
        }
      ]
    },
    {
      "cell_type": "code",
      "metadata": {
        "id": "J--30mJjWoXC"
      },
      "source": [
        "test_pred = bilstm.predict(test_data)\n",
        "test_df_labels = labels"
      ],
      "execution_count": 193,
      "outputs": []
    },
    {
      "cell_type": "code",
      "metadata": {
        "colab": {
          "base_uri": "https://localhost:8080/"
        },
        "id": "T6DXiL7aWoXC",
        "outputId": "905f62c1-4f48-489a-f6d4-23f3a92b7a76"
      },
      "source": [
        "print(get_classification_report(test_pred, test_df_labels))"
      ],
      "execution_count": 194,
      "outputs": [
        {
          "output_type": "stream",
          "text": [
            "                 precision    recall  f1-score   support\n",
            "\n",
            "      Ethnicity       0.46      0.39      0.42       784\n",
            "         gender       0.17      0.02      0.04       304\n",
            "     profession       0.46      0.19      0.27       467\n",
            "       religion       0.48      0.44      0.46       293\n",
            "Anti-stereotype       0.38      0.24      0.29       778\n",
            "     stereotype       0.56      0.51      0.53      1070\n",
            "      unrelated       0.45      0.61      0.52       636\n",
            "\n",
            "      micro avg       0.47      0.38      0.42      4332\n",
            "      macro avg       0.42      0.34      0.36      4332\n",
            "   weighted avg       0.45      0.38      0.40      4332\n",
            "    samples avg       0.45      0.41      0.42      4332\n",
            "\n"
          ],
          "name": "stdout"
        }
      ]
    },
    {
      "cell_type": "code",
      "metadata": {
        "colab": {
          "base_uri": "https://localhost:8080/"
        },
        "id": "d0g3kT60WoXD",
        "outputId": "3a3c75a1-e530-4391-b04e-751da1b979a5"
      },
      "source": [
        "write_to_file = True \n",
        "classification_metrics(test_pred, test_df_labels,\"biLSTM_Random\",0.5)"
      ],
      "execution_count": 195,
      "outputs": [
        {
          "output_type": "stream",
          "text": [
            "Evaluation metrics for test set:\n",
            "\n",
            " ROC-AUC score: 0.656377 \n",
            "\n",
            "\n",
            " Subset accuracy : 0.271337 \n",
            "\n",
            "\n",
            " hamming_loss : 0.259604 \n",
            "\n",
            "\n",
            " hamming score : 0.378422 \n",
            "\n",
            "\n",
            " sample average  precision_sample_average : 0.452228 \n",
            "\n",
            "\n",
            " sample average  recall_sample_average : 0.409219 \n",
            "\n",
            "\n",
            " sample average  f1_sample_average : 0.422303 \n",
            "\n",
            "  Saving the metrics into a file: eval_results_biLSTM_Random_0.5_.json with threshold :0.5\n"
          ],
          "name": "stdout"
        },
        {
          "output_type": "stream",
          "text": [
            "/usr/local/lib/python3.7/dist-packages/sklearn/metrics/_classification.py:1272: UndefinedMetricWarning: Precision is ill-defined and being set to 0.0 in samples with no predicted labels. Use `zero_division` parameter to control this behavior.\n",
            "  _warn_prf(average, modifier, msg_start, len(result))\n",
            "/usr/local/lib/python3.7/dist-packages/sklearn/metrics/_classification.py:1272: UndefinedMetricWarning: Precision and F-score are ill-defined and being set to 0.0 in samples with no predicted labels. Use `zero_division` parameter to control this behavior.\n",
            "  _warn_prf(average, modifier, msg_start, len(result))\n"
          ],
          "name": "stderr"
        }
      ]
    },
    {
      "cell_type": "markdown",
      "metadata": {
        "id": "6_qVBLLmDyRP"
      },
      "source": [
        "### Randomly initialized embedding with GRU"
      ]
    },
    {
      "cell_type": "code",
      "metadata": {
        "colab": {
          "base_uri": "https://localhost:8080/",
          "height": 163
        },
        "id": "sRw1Pj0fpC4g",
        "outputId": "8591efc5-1268-48ff-dcc8-a6d82a9159c2"
      },
      "source": [
        "bigru = _build_bigru(len(y[0]),embedding_layer)"
      ],
      "execution_count": null,
      "outputs": [
        {
          "output_type": "error",
          "ename": "NameError",
          "evalue": "ignored",
          "traceback": [
            "\u001b[0;31m---------------------------------------------------------------------------\u001b[0m",
            "\u001b[0;31mNameError\u001b[0m                                 Traceback (most recent call last)",
            "\u001b[0;32m<ipython-input-86-7b0f1cf297ee>\u001b[0m in \u001b[0;36m<module>\u001b[0;34m()\u001b[0m\n\u001b[0;32m----> 1\u001b[0;31m \u001b[0mbigru\u001b[0m \u001b[0;34m=\u001b[0m \u001b[0m_build_bigru\u001b[0m\u001b[0;34m(\u001b[0m\u001b[0mlen\u001b[0m\u001b[0;34m(\u001b[0m\u001b[0my\u001b[0m\u001b[0;34m[\u001b[0m\u001b[0;36m0\u001b[0m\u001b[0;34m]\u001b[0m\u001b[0;34m)\u001b[0m\u001b[0;34m,\u001b[0m\u001b[0membedding_layer\u001b[0m\u001b[0;34m)\u001b[0m\u001b[0;34m\u001b[0m\u001b[0;34m\u001b[0m\u001b[0m\n\u001b[0m",
            "\u001b[0;31mNameError\u001b[0m: name '_build_bigru' is not defined"
          ]
        }
      ]
    },
    {
      "cell_type": "code",
      "metadata": {
        "colab": {
          "base_uri": "https://localhost:8080/"
        },
        "id": "bMCldKIEpC4h",
        "outputId": "8453d52d-7c65-4ce3-e4ad-46053a6ad750"
      },
      "source": [
        "from keras.callbacks import EarlyStopping\n",
        "\n",
        "early_stopping_monitor = EarlyStopping(patience = 5)\n",
        "\n",
        "bilstm_train = bilstm.fit(\n",
        "    data_train,\n",
        "    labels,\n",
        "    batch_size=BATCH_SIZE,\n",
        "    epochs=EPOCHS,\n",
        "    validation_split=VALIDATION_SPLIT,\n",
        "    callbacks = [early_stopping_monitor]\n",
        ")"
      ],
      "execution_count": null,
      "outputs": [
        {
          "output_type": "stream",
          "text": [
            "Epoch 1/40\n",
            "88/88 [==============================] - 15s 152ms/step - loss: 0.5241 - accuracy: 0.1888 - val_loss: 0.4216 - val_accuracy: 0.4895\n",
            "Epoch 2/40\n",
            "88/88 [==============================] - 13s 146ms/step - loss: 0.4059 - accuracy: 0.4956 - val_loss: 0.4034 - val_accuracy: 0.5215\n",
            "Epoch 3/40\n",
            "88/88 [==============================] - 13s 147ms/step - loss: 0.3854 - accuracy: 0.5491 - val_loss: 0.3892 - val_accuracy: 0.5773\n",
            "Epoch 4/40\n",
            "88/88 [==============================] - 13s 145ms/step - loss: 0.3740 - accuracy: 0.5704 - val_loss: 0.3848 - val_accuracy: 0.5891\n",
            "Epoch 5/40\n",
            "88/88 [==============================] - 13s 145ms/step - loss: 0.3623 - accuracy: 0.6073 - val_loss: 0.3818 - val_accuracy: 0.6075\n",
            "Epoch 6/40\n",
            "88/88 [==============================] - 13s 147ms/step - loss: 0.3491 - accuracy: 0.6241 - val_loss: 0.3704 - val_accuracy: 0.6310\n",
            "Epoch 7/40\n",
            "88/88 [==============================] - 13s 146ms/step - loss: 0.3472 - accuracy: 0.6283 - val_loss: 0.3724 - val_accuracy: 0.5869\n",
            "Epoch 8/40\n",
            "88/88 [==============================] - 13s 145ms/step - loss: 0.3380 - accuracy: 0.6453 - val_loss: 0.3726 - val_accuracy: 0.6210\n",
            "Epoch 9/40\n",
            "88/88 [==============================] - 13s 145ms/step - loss: 0.3364 - accuracy: 0.6314 - val_loss: 0.3723 - val_accuracy: 0.6459\n",
            "Epoch 10/40\n",
            "88/88 [==============================] - 13s 147ms/step - loss: 0.3265 - accuracy: 0.6558 - val_loss: 0.3702 - val_accuracy: 0.6445\n",
            "Epoch 11/40\n",
            "88/88 [==============================] - 13s 144ms/step - loss: 0.3255 - accuracy: 0.6629 - val_loss: 0.3715 - val_accuracy: 0.6552\n",
            "Epoch 12/40\n",
            "88/88 [==============================] - 13s 146ms/step - loss: 0.3209 - accuracy: 0.6732 - val_loss: 0.3677 - val_accuracy: 0.5937\n",
            "Epoch 13/40\n",
            "88/88 [==============================] - 13s 146ms/step - loss: 0.3115 - accuracy: 0.6643 - val_loss: 0.3731 - val_accuracy: 0.5912\n",
            "Epoch 14/40\n",
            "88/88 [==============================] - 13s 145ms/step - loss: 0.3090 - accuracy: 0.6631 - val_loss: 0.3679 - val_accuracy: 0.6097\n",
            "Epoch 15/40\n",
            "88/88 [==============================] - 13s 144ms/step - loss: 0.3076 - accuracy: 0.6563 - val_loss: 0.3807 - val_accuracy: 0.6349\n",
            "Epoch 16/40\n",
            "88/88 [==============================] - 13s 146ms/step - loss: 0.3003 - accuracy: 0.6797 - val_loss: 0.3728 - val_accuracy: 0.6267\n",
            "Epoch 17/40\n",
            "88/88 [==============================] - 13s 144ms/step - loss: 0.2991 - accuracy: 0.7067 - val_loss: 0.3811 - val_accuracy: 0.6413\n"
          ],
          "name": "stdout"
        }
      ]
    },
    {
      "cell_type": "code",
      "metadata": {
        "colab": {
          "base_uri": "https://localhost:8080/",
          "height": 530
        },
        "id": "3Z4Dp8FKpC4h",
        "outputId": "9afb3894-eedc-4282-a564-615d5e3dd370"
      },
      "source": [
        "# plot some data\n",
        "plt.plot(bilstm_train.history['loss'], label='loss')\n",
        "plt.plot(bilstm_train.history['val_loss'], label='val_loss')\n",
        "plt.legend()\n",
        "plt.show()\n",
        "\n",
        "# accuracies\n",
        "plt.plot(bilstm_train.history['accuracy'], label='acc')\n",
        "plt.plot(bilstm_train.history['val_accuracy'], label='val_acc')\n",
        "plt.legend()\n",
        "plt.show()\n",
        "\n",
        "# plot the mean AUC over each label\n",
        "p = bilstm.predict(data)\n",
        "aucs = []\n",
        "for j in range(6):\n",
        "    auc = roc_auc_score(labels[:,j], p[:,j])\n",
        "    aucs.append(auc)\n",
        "print(np.mean(aucs))"
      ],
      "execution_count": null,
      "outputs": [
        {
          "output_type": "display_data",
          "data": {
            "image/png": "[encoded data removed]",
            "text/plain": [
              "<Figure size 432x288 with 1 Axes>"
            ]
          },
          "metadata": {
            "tags": [],
            "needs_background": "light"
          }
        },
        {
          "output_type": "display_data",
          "data": {
            "image/png": "[encoded data removed]",
            "text/plain": [
              "<Figure size 432x288 with 1 Axes>"
            ]
          },
          "metadata": {
            "tags": [],
            "needs_background": "light"
          }
        },
        {
          "output_type": "stream",
          "text": [
            "0.8909616414674625\n"
          ],
          "name": "stdout"
        }
      ]
    },
    {
      "cell_type": "markdown",
      "metadata": {
        "id": "u4hhYXxVpC4i"
      },
      "source": [
        "##### Evaluation on test set "
      ]
    },
    {
      "cell_type": "markdown",
      "metadata": {
        "id": "uhRnC4j2pC4i"
      },
      "source": [
        "Run https://colab.research.google.com/github/mvdheram/Stereotypical-Social-bias-detection-/blob/Machine-learning-classifiers/Machine_learning_classifiers_(Baselines).ipynb#scrollTo=8M_1ix_RNo9m&line=1&uniqifier=1 "
      ]
    },
    {
      "cell_type": "code",
      "metadata": {
        "id": "RJwQzBV6pC4j"
      },
      "source": [
        "test_pred = bigru.predict(data_test)\n",
        "test_df_labels = labels"
      ],
      "execution_count": null,
      "outputs": []
    },
    {
      "cell_type": "code",
      "metadata": {
        "colab": {
          "base_uri": "https://localhost:8080/"
        },
        "id": "EcWWjef5pC4j",
        "outputId": "5197e371-2863-4997-8ed5-38c42432f041"
      },
      "source": [
        "from sklearn.metrics import roc_curve\n",
        "from collections import OrderedDict\n",
        "import numpy as np\n",
        "\n",
        "\n",
        "opti_threshold = dict()\n",
        "LABEL_COLUMNS = ['Ethnicity','gender','profession','religion','Anti-stereotype','stereotype','unrelated']\n",
        "\n",
        "for i in range(7):\n",
        "  fpr, tpr, thresholds = roc_curve(test_df_labels[:,i], test_pred[:,i])\n",
        "  print(\"AUC_ROC_score of %s is %s:\"% (LABEL_COLUMNS[i],roc_auc_score(test_df_labels[:,i], test_pred[:,i])))\n",
        "  optimal_idx = np.argmax(tpr + (1- fpr)) # Return indices of maximum array;  Criterion - Maximise TPR(recall) and TNR(specificity) \n",
        "  optimal_threshold = thresholds[optimal_idx]\n",
        "  print(\"Optimal threshold value of %s is %s:\\n\" % (LABEL_COLUMNS[i], optimal_threshold))\n",
        "  opti_threshold[i] = optimal_threshold"
      ],
      "execution_count": null,
      "outputs": [
        {
          "output_type": "stream",
          "text": [
            "AUC_ROC_score of Ethnicity is 0.5126510630754069:\n",
            "Optimal threshold value of Ethnicity is 0.50001913:\n",
            "\n",
            "AUC_ROC_score of gender is 0.5793883814218742:\n",
            "Optimal threshold value of gender is 0.5124058:\n",
            "\n",
            "AUC_ROC_score of profession is 0.5440422739517856:\n",
            "Optimal threshold value of profession is 0.51804227:\n",
            "\n",
            "AUC_ROC_score of religion is 0.20499253948925514:\n",
            "Optimal threshold value of religion is 1.5092776:\n",
            "\n",
            "AUC_ROC_score of Anti-stereotype is 0.45009096998443104:\n",
            "Optimal threshold value of Anti-stereotype is 0.4478129:\n",
            "\n",
            "AUC_ROC_score of stereotype is 0.33232605702787854:\n",
            "Optimal threshold value of stereotype is 1.5043187:\n",
            "\n",
            "AUC_ROC_score of unrelated is 0.4739184317260027:\n",
            "Optimal threshold value of unrelated is 0.49647743:\n",
            "\n"
          ],
          "name": "stdout"
        }
      ]
    },
    {
      "cell_type": "code",
      "metadata": {
        "id": "lqs_67Z_pC4k"
      },
      "source": [
        "from sklearn.metrics import classification_report, multilabel_confusion_matrix\n",
        "\n",
        "y_pred = np.where(test_pred > 0.5, upper, lower)\n",
        "classification_report = classification_report(\n",
        "  test_df_labels, \n",
        "  y_pred, \n",
        "  target_names=LABEL_COLUMNS, \n",
        "  zero_division=0,\n",
        ")"
      ],
      "execution_count": null,
      "outputs": []
    },
    {
      "cell_type": "code",
      "metadata": {
        "colab": {
          "base_uri": "https://localhost:8080/"
        },
        "id": "OxYwEZxwpC4k",
        "outputId": "fc87e45f-7097-4469-9cf5-c1600e3bb742"
      },
      "source": [
        "print(classification_report)"
      ],
      "execution_count": null,
      "outputs": [
        {
          "output_type": "stream",
          "text": [
            "                 precision    recall  f1-score   support\n",
            "\n",
            "      Ethnicity       0.35      0.47      0.40       784\n",
            "         gender       0.13      0.89      0.23       304\n",
            "     profession       0.19      0.86      0.32       467\n",
            "       religion       0.00      0.00      0.00       293\n",
            "Anti-stereotype       0.26      0.01      0.02       778\n",
            "     stereotype       0.00      0.00      0.00      1070\n",
            "      unrelated       0.20      0.40      0.27       634\n",
            "\n",
            "      micro avg       0.20      0.30      0.24      4330\n",
            "      macro avg       0.16      0.38      0.18      4330\n",
            "   weighted avg       0.17      0.30      0.17      4330\n",
            "    samples avg       0.16      0.31      0.21      4330\n",
            "\n"
          ],
          "name": "stdout"
        }
      ]
    },
    {
      "cell_type": "code",
      "metadata": {
        "id": "m_vGF0nLpC4k"
      },
      "source": [
        "pip install git+https://github.com/gmihaila/ml_things"
      ],
      "execution_count": null,
      "outputs": []
    },
    {
      "cell_type": "code",
      "metadata": {
        "id": "4JwvavyBpC4l"
      },
      "source": [
        "import matplotlib.pyplot as plt\n",
        "import seaborn as sns\n",
        "from ml_things import plot_confusion_matrix\n",
        "\n",
        "cf = multilabel_confusion_matrix(test_df_labels, \n",
        "  y_pred)"
      ],
      "execution_count": null,
      "outputs": []
    },
    {
      "cell_type": "code",
      "metadata": {
        "colab": {
          "base_uri": "https://localhost:8080/",
          "height": 1000
        },
        "id": "LzHRoxXApC4l",
        "outputId": "1aa03884-980d-413d-a5cf-453e3df71763"
      },
      "source": [
        "LABEL_COLUMNS = ['Ethnicity','gender','profession','religion','Anti-stereotype','stereotype','unrelated']\n",
        "for i,val in enumerate(LABEL_COLUMNS):\n",
        "  plot_confusion_matrix(y_true=test_df_labels[:,i], y_pred=y_pred[:,i], magnify=0.1, use_title='Confusion Matrix'+\" \"+ val, path='plot_confusion_matrix'+ \"_\" + val +\".png\");"
      ],
      "execution_count": null,
      "outputs": [
        {
          "output_type": "stream",
          "text": [
            "Confusion matrix, without normalization\n"
          ],
          "name": "stdout"
        },
        {
          "output_type": "display_data",
          "data": {
            "image/png": "[encoded data removed]",
            "text/plain": [
              "<Figure size 1944x432 with 2 Axes>"
            ]
          },
          "metadata": {
            "tags": []
          }
        },
        {
          "output_type": "stream",
          "text": [
            "Confusion matrix, without normalization\n"
          ],
          "name": "stdout"
        },
        {
          "output_type": "display_data",
          "data": {
            "image/png": "[encoded data removed]",
            "text/plain": [
              "<Figure size 1944x432 with 2 Axes>"
            ]
          },
          "metadata": {
            "tags": []
          }
        },
        {
          "output_type": "stream",
          "text": [
            "Confusion matrix, without normalization\n"
          ],
          "name": "stdout"
        },
        {
          "output_type": "display_data",
          "data": {
            "image/png": "[encoded data removed]",
            "text/plain": [
              "<Figure size 1944x432 with 2 Axes>"
            ]
          },
          "metadata": {
            "tags": []
          }
        },
        {
          "output_type": "stream",
          "text": [
            "Confusion matrix, without normalization\n"
          ],
          "name": "stdout"
        },
        {
          "output_type": "display_data",
          "data": {
            "image/png": "[encoded data removed]",
            "text/plain": [
              "<Figure size 1944x432 with 2 Axes>"
            ]
          },
          "metadata": {
            "tags": []
          }
        },
        {
          "output_type": "stream",
          "text": [
            "Confusion matrix, without normalization\n"
          ],
          "name": "stdout"
        },
        {
          "output_type": "display_data",
          "data": {
            "image/png": "[encoded data removed]",
            "text/plain": [
              "<Figure size 1944x432 with 2 Axes>"
            ]
          },
          "metadata": {
            "tags": []
          }
        },
        {
          "output_type": "stream",
          "text": [
            "Confusion matrix, without normalization\n"
          ],
          "name": "stdout"
        },
        {
          "output_type": "display_data",
          "data": {
            "image/png": "[encoded data removed]",
            "text/plain": [
              "<Figure size 1944x432 with 2 Axes>"
            ]
          },
          "metadata": {
            "tags": []
          }
        },
        {
          "output_type": "stream",
          "text": [
            "Confusion matrix, without normalization\n"
          ],
          "name": "stdout"
        },
        {
          "output_type": "display_data",
          "data": {
            "image/png": "[encoded data removed]",
            "text/plain": [
              "<Figure size 1944x432 with 2 Axes>"
            ]
          },
          "metadata": {
            "tags": []
          }
        }
      ]
    },
    {
      "cell_type": "code",
      "metadata": {
        "colab": {
          "base_uri": "https://localhost:8080/"
        },
        "id": "IdLTFClipC4m",
        "outputId": "753daba6-c6a0-4eb8-c845-caf94e32cc60"
      },
      "source": [
        "write_to_file = True \n",
        "classification_metrics(test_pred, test_df_labels,\"CNN_Glove\",0.5)"
      ],
      "execution_count": null,
      "outputs": [
        {
          "output_type": "stream",
          "text": [
            "Evaluation metrics for test set:\n",
            "\n",
            " ROC-AUC score: 0.442487 \n",
            "\n",
            "\n",
            " Subset accuracy : 0.000000 \n",
            "\n",
            "\n",
            " hamming_loss : 0.477495 \n",
            "\n",
            "  Saving the metrics into a file: eval_results_CNN_Glove_0.5_.json with threshold :0.5\n"
          ],
          "name": "stdout"
        },
        {
          "output_type": "stream",
          "text": [
            "/usr/local/lib/python3.7/dist-packages/sklearn/metrics/_classification.py:1221: UndefinedMetricWarning: Precision is ill-defined and being set to 0.0 in samples with no predicted labels. Use `zero_division` parameter to control this behavior.\n",
            "  _warn_prf(average, modifier, msg_start, len(result))\n",
            "/usr/local/lib/python3.7/dist-packages/sklearn/metrics/_classification.py:1221: UndefinedMetricWarning: Precision and F-score are ill-defined and being set to 0.0 in samples with no predicted labels. Use `zero_division` parameter to control this behavior.\n",
            "  _warn_prf(average, modifier, msg_start, len(result))\n"
          ],
          "name": "stderr"
        }
      ]
    }
  ]
}