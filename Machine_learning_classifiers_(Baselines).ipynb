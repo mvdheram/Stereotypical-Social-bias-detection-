{
  "nbformat": 4,
  "nbformat_minor": 0,
  "metadata": {
    "colab": {
      "name": "Machine learning classifiers (Baselines).ipynb",
      "provenance": [],
      "authorship_tag": "ABX9TyPPSWPdS+ckFsOUPlwnVtAT",
      "include_colab_link": true
    },
    "kernelspec": {
      "name": "python3",
      "display_name": "Python 3"
    },
    "language_info": {
      "name": "python"
    }
  },
  "cells": [
    {
      "cell_type": "markdown",
      "metadata": {
        "id": "view-in-github",
        "colab_type": "text"
      },
      "source": [
        "<a href=\"https://colab.research.google.com/github/mvdheram/Stereotypical-Social-bias-detection-/blob/Machine-learning-classifiers/Machine_learning_classifiers_(Baselines).ipynb\" target=\"_parent\"><img src=\"https://colab.research.google.com/assets/colab-badge.svg\" alt=\"Open In Colab\"/></a>"
      ]
    },
    {
      "cell_type": "markdown",
      "metadata": {
        "id": "2A6p5QlWHuVM"
      },
      "source": [
        "Final selection :\n",
        "\n",
        "* SVM Classifier using selected features \n",
        "  * Reference : Linguistic models for detecting bias https://aclanthology.org/P13-1162.pdf\n",
        "  * \n",
        "\n",
        "  "
      ]
    }
  ]
}