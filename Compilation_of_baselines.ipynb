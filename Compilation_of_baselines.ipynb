{
  "nbformat": 4,
  "nbformat_minor": 0,
  "metadata": {
    "colab": {
      "name": "Compilation of baselines.ipynb",
      "provenance": [],
      "authorship_tag": "ABX9TyNLnvU52vKLHBcRXqKUSQH2",
      "include_colab_link": true
    },
    "kernelspec": {
      "name": "python3",
      "display_name": "Python 3"
    },
    "language_info": {
      "name": "python"
    }
  },
  "cells": [
    {
      "cell_type": "markdown",
      "metadata": {
        "id": "view-in-github",
        "colab_type": "text"
      },
      "source": [
        "<a href=\"https://colab.research.google.com/github/mvdheram/Stereotypical-Social-bias-detection-/blob/Machine-learning-classifiers/Compilation_of_baselines.ipynb\" target=\"_parent\"><img src=\"https://colab.research.google.com/assets/colab-badge.svg\" alt=\"Open In Colab\"/></a>"
      ]
    },
    {
      "cell_type": "code",
      "metadata": {
        "colab": {
          "base_uri": "https://localhost:8080/"
        },
        "id": "beL_0iHyTuhm",
        "outputId": "6a826b5f-3de9-48b1-bec6-cee796ab8b3d"
      },
      "source": [
        "from google.colab import drive\n",
        "drive.mount('/content/drive')"
      ],
      "execution_count": 1,
      "outputs": [
        {
          "output_type": "stream",
          "text": [
            "Mounted at /content/drive\n"
          ],
          "name": "stdout"
        }
      ]
    },
    {
      "cell_type": "code",
      "metadata": {
        "id": "MAxmjsPsnQlI"
      },
      "source": [
        "cnn_flair = open('/content/drive/MyDrive/Trained_models/Results_compilation /Baselines/eval_results_CNN_Flair_0.5_.json','r')\n",
        "cnn_glove = open('/content/drive/MyDrive/Trained_models/Results_compilation /Baselines/eval_results_CNN_Glove_100d_0.5_.json','r')\n",
        "cnn_fasttext = open('/content/drive/MyDrive/Trained_models/Results_compilation /Baselines/eval_results_CNN_fasttext_0.5_.json','r')\n",
        "MNB = open('/content/drive/MyDrive/Trained_models/Results_compilation /Baselines/eval_results_MultinomialNB_countVectorizer_0.5_.json','r') \n",
        "SVM_onlyFeatures = open('/content/drive/MyDrive/Trained_models/Results_compilation /Baselines/eval_results_SVM_Only_features_0.5_.json','r')\n",
        "SVM_tfidf_features = open('/content/drive/MyDrive/Trained_models/Results_compilation /Baselines/eval_results_SVM_tfidf_Selectedfeatures_0.5_.json','r')\n",
        "biLSTM_random = open('/content/drive/MyDrive/Trained_models/Results_compilation /Baselines/eval_results_biLSTM_Random_0.5_.json','r')"
      ],
      "execution_count": 2,
      "outputs": []
    },
    {
      "cell_type": "code",
      "metadata": {
        "id": "ZHCO6uxw1f30"
      },
      "source": [
        "import json \n",
        "import pandas as pd\n",
        "\n",
        "cnn_flair_metrics = json.load(cnn_flair)\n",
        "cnn_glove_metrics = json.load(cnn_glove)\n",
        "cnn_fasttext_metrics = json.load(cnn_fasttext)\n",
        "MNB_metrics = json.load(MNB)\n",
        "SVM_onlyFeatures_metrics = json.load(SVM_onlyFeatures)\n",
        "SVM_tfidf_features_metircs = json.load(SVM_tfidf_features)\n",
        "biLSTM_random_metics = json.load(biLSTM_random)"
      ],
      "execution_count": 3,
      "outputs": []
    },
    {
      "cell_type": "markdown",
      "metadata": {
        "id": "5-NiFYsl3XD5"
      },
      "source": [
        " # Sample Average precision, recall, f1-score\n",
        "\n",
        "\n",
        "'Sample_average':\n",
        "\n",
        "* Calculate metrics for each instance, and find their average (only meaningful for multilabel classification where this differs from accuracy_score)"
      ]
    },
    {
      "cell_type": "code",
      "metadata": {
        "id": "SMy0VUF137U4"
      },
      "source": [
        "metrics = [cnn_flair_metrics,cnn_glove_metrics, cnn_fasttext_metrics,MNB_metrics,SVM_onlyFeatures_metrics,SVM_tfidf_features_metircs,biLSTM_random_metics]\n",
        "metric_labels = ['sample_average_f1','sample_average_recall', 'sample_average_precision'] \n",
        "labels = ['cnn_flair','cnn_glove','cnn_fasttext','MNB','SVM_onlyFeatures','SVM_tfidf_features','biLSTM_random']"
      ],
      "execution_count": 8,
      "outputs": []
    },
    {
      "cell_type": "code",
      "metadata": {
        "colab": {
          "base_uri": "https://localhost:8080/",
          "height": 229
        },
        "id": "6UhhNkdq30Q2",
        "outputId": "7c0a06ed-268e-4a7c-9fb8-6aafb2291a93"
      },
      "source": [
        "sample_average_f1_scores = {}\n",
        "sample_average_recall = {}\n",
        "sample_average_precision  = {}\n",
        "\n",
        "for metric in metrics:\n",
        "  for label in labels: \n",
        "  sample_average_f1_scores[metric] = metric['sample_average_f1']\n",
        "  sample_average_recall[metric] = metric['sample_average_recall']\n",
        "  sample_average_precision[metric] = metirc['sample_average_precision']"
      ],
      "execution_count": 7,
      "outputs": [
        {
          "output_type": "error",
          "ename": "TypeError",
          "evalue": "ignored",
          "traceback": [
            "\u001b[0;31m---------------------------------------------------------------------------\u001b[0m",
            "\u001b[0;31mTypeError\u001b[0m                                 Traceback (most recent call last)",
            "\u001b[0;32m<ipython-input-7-b0dbbec17096>\u001b[0m in \u001b[0;36m<module>\u001b[0;34m()\u001b[0m\n\u001b[1;32m      4\u001b[0m \u001b[0;34m\u001b[0m\u001b[0m\n\u001b[1;32m      5\u001b[0m \u001b[0;32mfor\u001b[0m \u001b[0mmetric\u001b[0m \u001b[0;32min\u001b[0m \u001b[0mmetrics\u001b[0m\u001b[0;34m:\u001b[0m\u001b[0;34m\u001b[0m\u001b[0;34m\u001b[0m\u001b[0m\n\u001b[0;32m----> 6\u001b[0;31m   \u001b[0msample_average_f1_scores\u001b[0m\u001b[0;34m[\u001b[0m\u001b[0mmetric\u001b[0m\u001b[0;34m]\u001b[0m \u001b[0;34m=\u001b[0m \u001b[0mmetric\u001b[0m\u001b[0;34m[\u001b[0m\u001b[0;34m'sample_average_f1'\u001b[0m\u001b[0;34m]\u001b[0m\u001b[0;34m\u001b[0m\u001b[0;34m\u001b[0m\u001b[0m\n\u001b[0m\u001b[1;32m      7\u001b[0m   \u001b[0msample_average_recall\u001b[0m\u001b[0;34m[\u001b[0m\u001b[0mmetric\u001b[0m\u001b[0;34m]\u001b[0m \u001b[0;34m=\u001b[0m \u001b[0mmetric\u001b[0m\u001b[0;34m[\u001b[0m\u001b[0;34m'sample_average_recall'\u001b[0m\u001b[0;34m]\u001b[0m\u001b[0;34m\u001b[0m\u001b[0;34m\u001b[0m\u001b[0m\n\u001b[1;32m      8\u001b[0m   \u001b[0msample_average_precision\u001b[0m\u001b[0;34m[\u001b[0m\u001b[0mmetric\u001b[0m\u001b[0;34m]\u001b[0m \u001b[0;34m=\u001b[0m \u001b[0mmetirc\u001b[0m\u001b[0;34m[\u001b[0m\u001b[0;34m'sample_average_precision'\u001b[0m\u001b[0;34m]\u001b[0m\u001b[0;34m\u001b[0m\u001b[0;34m\u001b[0m\u001b[0m\n",
            "\u001b[0;31mTypeError\u001b[0m: unhashable type: 'dict'"
          ]
        }
      ]
    },
    {
      "cell_type": "code",
      "metadata": {
        "id": "huuOuePYj38B"
      },
      "source": [
        "sample_averge_f1scores = pd.DataFrame([cnn_flair_metrics['sample_average_f1'],cnn_glove_metrics['sample_average_f1'],cnn_fasttext_metrics['sample_average_f1'],MNB_metrics['sample_average_f1'], SVM_onlyFeatures_metrics['sample_average_f1'], SVM_tfidf_features_metircs['sample_average_f1'],biLSTM_random_metics['sample_average_f1']], index = labels)\n",
        "sample_average_recall = pd.DataFrame([cnn_flair_metrics['sample_average_recall'],cnn_glove_metrics['sample_average_recall'],cnn_fasttext_metrics['sample_average_recall'],MNB_metrics['sample_average_recall'], SVM_onlyFeatures_metrics['sample_average_recall'], SVM_tfidf_features_metircs['sample_average_recall'],biLSTM_random_metics['sample_average_recall']], index = labels)\n",
        "sample_average_precision = pd.DataFrame([cnn_flair_metrics['sample_average_precision'],cnn_glove_metrics['sample_average_precision'],cnn_fasttext_metrics['sample_average_precision'],MNB_metrics['sample_average_precision'], SVM_onlyFeatures_metrics['sample_average_precision'], SVM_tfidf_features_metircs['sample_average_precision'],biLSTM_random_metics['sample_average_precision']], index = labels)"
      ],
      "execution_count": 51,
      "outputs": []
    },
    {
      "cell_type": "code",
      "metadata": {
        "id": "H833noMqo5Xi"
      },
      "source": [
        "df = pd.concat([sample_average_precision,sample_average_recall,sample_averge_f1scores], axis = 1)"
      ],
      "execution_count": 52,
      "outputs": []
    },
    {
      "cell_type": "code",
      "metadata": {
        "id": "H5fSXcRBpvM4"
      },
      "source": [
        "df.columns = ['precision','recall', 'f1score']"
      ],
      "execution_count": 53,
      "outputs": []
    },
    {
      "cell_type": "code",
      "metadata": {
        "id": "WzwFmPAmpLES"
      },
      "source": [
        "df.columns = pd.MultiIndex.from_product([df.columns, ['sample avg']])"
      ],
      "execution_count": 55,
      "outputs": []
    },
    {
      "cell_type": "code",
      "metadata": {
        "colab": {
          "base_uri": "https://localhost:8080/",
          "height": 295
        },
        "id": "x_4jsb2YqDTA",
        "outputId": "a2bbf5e2-e6aa-48be-f8a1-ee90352baced"
      },
      "source": [
        "df"
      ],
      "execution_count": 56,
      "outputs": [
        {
          "output_type": "execute_result",
          "data": {
            "text/html": [
              "<div>\n",
              "<style scoped>\n",
              "    .dataframe tbody tr th:only-of-type {\n",
              "        vertical-align: middle;\n",
              "    }\n",
              "\n",
              "    .dataframe tbody tr th {\n",
              "        vertical-align: top;\n",
              "    }\n",
              "\n",
              "    .dataframe thead tr th {\n",
              "        text-align: left;\n",
              "    }\n",
              "</style>\n",
              "<table border=\"1\" class=\"dataframe\">\n",
              "  <thead>\n",
              "    <tr>\n",
              "      <th></th>\n",
              "      <th>precision</th>\n",
              "      <th>recall</th>\n",
              "      <th>f1score</th>\n",
              "    </tr>\n",
              "    <tr>\n",
              "      <th></th>\n",
              "      <th>sample avg</th>\n",
              "      <th>sample avg</th>\n",
              "      <th>sample avg</th>\n",
              "    </tr>\n",
              "  </thead>\n",
              "  <tbody>\n",
              "    <tr>\n",
              "      <th>cnn_flair</th>\n",
              "      <td>0.436644</td>\n",
              "      <td>0.384770</td>\n",
              "      <td>0.401813</td>\n",
              "    </tr>\n",
              "    <tr>\n",
              "      <th>cnn_glove</th>\n",
              "      <td>0.385173</td>\n",
              "      <td>0.334811</td>\n",
              "      <td>0.351262</td>\n",
              "    </tr>\n",
              "    <tr>\n",
              "      <th>cnn_fasttext</th>\n",
              "      <td>0.418345</td>\n",
              "      <td>0.368856</td>\n",
              "      <td>0.384945</td>\n",
              "    </tr>\n",
              "    <tr>\n",
              "      <th>MNB</th>\n",
              "      <td>0.748033</td>\n",
              "      <td>0.702256</td>\n",
              "      <td>0.704808</td>\n",
              "    </tr>\n",
              "    <tr>\n",
              "      <th>SVM_onlyFeatures</th>\n",
              "      <td>0.602337</td>\n",
              "      <td>0.483884</td>\n",
              "      <td>0.518695</td>\n",
              "    </tr>\n",
              "    <tr>\n",
              "      <th>SVM_tfidf_features</th>\n",
              "      <td>0.601867</td>\n",
              "      <td>0.483884</td>\n",
              "      <td>0.518574</td>\n",
              "    </tr>\n",
              "    <tr>\n",
              "      <th>biLSTM_random</th>\n",
              "      <td>0.410724</td>\n",
              "      <td>0.368050</td>\n",
              "      <td>0.379022</td>\n",
              "    </tr>\n",
              "  </tbody>\n",
              "</table>\n",
              "</div>"
            ],
            "text/plain": [
              "                    precision     recall    f1score\n",
              "                   sample avg sample avg sample avg\n",
              "cnn_flair            0.436644   0.384770   0.401813\n",
              "cnn_glove            0.385173   0.334811   0.351262\n",
              "cnn_fasttext         0.418345   0.368856   0.384945\n",
              "MNB                  0.748033   0.702256   0.704808\n",
              "SVM_onlyFeatures     0.602337   0.483884   0.518695\n",
              "SVM_tfidf_features   0.601867   0.483884   0.518574\n",
              "biLSTM_random        0.410724   0.368050   0.379022"
            ]
          },
          "metadata": {},
          "execution_count": 56
        }
      ]
    }
  ]
}