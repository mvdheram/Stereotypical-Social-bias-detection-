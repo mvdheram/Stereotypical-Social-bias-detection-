{
  "nbformat": 4,
  "nbformat_minor": 0,
  "metadata": {
    "colab": {
      "name": "Compilation of baselines.ipynb",
      "provenance": [],
      "authorship_tag": "ABX9TyNzXIo21xDCI4wQwx8u2AKE",
      "include_colab_link": true
    },
    "kernelspec": {
      "name": "python3",
      "display_name": "Python 3"
    },
    "language_info": {
      "name": "python"
    }
  },
  "cells": [
    {
      "cell_type": "markdown",
      "metadata": {
        "id": "view-in-github",
        "colab_type": "text"
      },
      "source": [
        "<a href=\"https://colab.research.google.com/github/mvdheram/Stereotypical-Social-bias-detection-/blob/Machine-learning-classifiers/Compilation_of_baselines.ipynb\" target=\"_parent\"><img src=\"https://colab.research.google.com/assets/colab-badge.svg\" alt=\"Open In Colab\"/></a>"
      ]
    },
    {
      "cell_type": "code",
      "metadata": {
        "colab": {
          "base_uri": "https://localhost:8080/"
        },
        "id": "beL_0iHyTuhm",
        "outputId": "ac9a1983-66e7-423d-8f50-54526bb5cc2b"
      },
      "source": [
        "from google.colab import drive\n",
        "drive.mount('/content/drive')"
      ],
      "execution_count": null,
      "outputs": [
        {
          "output_type": "stream",
          "text": [
            "Mounted at /content/drive\n"
          ],
          "name": "stdout"
        }
      ]
    },
    {
      "cell_type": "code",
      "metadata": {
        "id": "MAxmjsPsnQlI"
      },
      "source": [
        "cnn_flair = open('/content/drive/MyDrive/Trained_models/Results_compilation /Baselines/eval_results_CNN_Flair_0.5_.json','r')\n",
        "cnn_glove = open('/content/drive/MyDrive/Trained_models/Results_compilation /Baselines/eval_results_CNN_Glove_100d_0.5_.json','r')\n",
        "cnn_fasttext = open('/content/drive/MyDrive/Trained_models/Results_compilation /Baselines/eval_results_CNN_fasttext_0.5_.json','r')\n",
        "MNB = open('/content/drive/MyDrive/Trained_models/Results_compilation /Baselines/eval_results_MultinomialNB_countVectorizer_0.5_.json','r') \n",
        "SVM_onlyFeatures = open('/content/drive/MyDrive/Trained_models/Results_compilation /Baselines/eval_results_SVM_Only_features_0.5_.json','r')\n",
        "SVM_tfidf_features = open('/content/drive/MyDrive/Trained_models/Results_compilation /Baselines/eval_results_SVM_tfidf_Selectedfeatures_0.5_.json','r')\n",
        "biLSTM_random = open('/content/drive/MyDrive/Trained_models/Results_compilation /Baselines/eval_results_biLSTM_Random_0.5_.json','r')"
      ],
      "execution_count": 10,
      "outputs": []
    },
    {
      "cell_type": "code",
      "metadata": {
        "id": "ZHCO6uxw1f30"
      },
      "source": [
        "import json \n",
        "import pandas as pd\n",
        "\n",
        "cnn_flair_metrics = json.load(cnn_flair)\n",
        "cnn_glove_metrics = json.load(cnn_glove)\n",
        "cnn_fasttext_metrics = json.load(cnn_fasttext)\n",
        "MNB_metrics = json.load(MNB)\n",
        "SVM_onlyFeatures_metrics = json.load(SVM_onlyFeatures)\n",
        "SVM_tfidf_features_metircs = json.load(SVM_tfidf_features)\n",
        "biLSTM_random_metics = json.load(biLSTM_random)"
      ],
      "execution_count": 11,
      "outputs": []
    },
    {
      "cell_type": "markdown",
      "metadata": {
        "id": "5-NiFYsl3XD5"
      },
      "source": [
        " # Sample Average precision, recall, f1-score\n",
        "\n",
        "\n",
        "'Sample_average':\n",
        "\n",
        "* Calculate metrics for each instance, and find their average (only meaningful for multilabel classification where this differs from accuracy_score)"
      ]
    },
    {
      "cell_type": "code",
      "metadata": {
        "id": "SMy0VUF137U4"
      },
      "source": [
        "metrics = ['cnn_flair_metrics','cnn_glove_metrics', 'cnn_fasttext_metrics','MNB_metrics','SVM_onlyFeatures_metrics','SVM_tfidf_features_metircs','biLSTM_random_metics']\n",
        "labels = ['cnn_flair','cnn_glove','cnn_fasttext','MNB','SVM_onlyFeatures','SVM_tfidf_features','biLSTM_random']"
      ],
      "execution_count": 16,
      "outputs": []
    },
    {
      "cell_type": "code",
      "metadata": {
        "colab": {
          "base_uri": "https://localhost:8080/",
          "height": 229
        },
        "id": "6UhhNkdq30Q2",
        "outputId": "cddebce5-77be-4f94-84f8-3b212827faa4"
      },
      "source": [
        "sample_average_f1_scores = {}\n",
        "sample_average_recall = {}\n",
        "sample_average_precision  = {}\n",
        "\n",
        "for metric in metrics:\n",
        "  sample_average_f1_scores[metric] = metric['sample_average_f1']\n",
        "  sample_average_recall[metric] = metric['sample_average_recall']\n",
        "  sample_average_precision[metric] = metirc['sample_average_precision']"
      ],
      "execution_count": 17,
      "outputs": [
        {
          "output_type": "error",
          "ename": "TypeError",
          "evalue": "ignored",
          "traceback": [
            "\u001b[0;31m---------------------------------------------------------------------------\u001b[0m",
            "\u001b[0;31mTypeError\u001b[0m                                 Traceback (most recent call last)",
            "\u001b[0;32m<ipython-input-17-33b7d9155d95>\u001b[0m in \u001b[0;36m<module>\u001b[0;34m()\u001b[0m\n\u001b[1;32m      5\u001b[0m \u001b[0;32mfor\u001b[0m \u001b[0mmetric\u001b[0m \u001b[0;32min\u001b[0m \u001b[0mmetrics\u001b[0m\u001b[0;34m:\u001b[0m\u001b[0;34m\u001b[0m\u001b[0;34m\u001b[0m\u001b[0m\n\u001b[1;32m      6\u001b[0m   \u001b[0;32mfor\u001b[0m \u001b[0mlabel\u001b[0m \u001b[0;32min\u001b[0m \u001b[0mlabels\u001b[0m\u001b[0;34m:\u001b[0m\u001b[0;34m\u001b[0m\u001b[0;34m\u001b[0m\u001b[0m\n\u001b[0;32m----> 7\u001b[0;31m     \u001b[0msample_average_f1_scores\u001b[0m\u001b[0;34m[\u001b[0m\u001b[0mmetric\u001b[0m\u001b[0;34m]\u001b[0m \u001b[0;34m=\u001b[0m \u001b[0mmetric\u001b[0m\u001b[0;34m[\u001b[0m\u001b[0;34m'sample_average_f1'\u001b[0m\u001b[0;34m]\u001b[0m\u001b[0;34m\u001b[0m\u001b[0;34m\u001b[0m\u001b[0m\n\u001b[0m\u001b[1;32m      8\u001b[0m     \u001b[0msample_average_recall\u001b[0m\u001b[0;34m[\u001b[0m\u001b[0mmetric\u001b[0m\u001b[0;34m]\u001b[0m \u001b[0;34m=\u001b[0m \u001b[0mmetric\u001b[0m\u001b[0;34m[\u001b[0m\u001b[0;34m'sample_average_recall'\u001b[0m\u001b[0;34m]\u001b[0m\u001b[0;34m\u001b[0m\u001b[0;34m\u001b[0m\u001b[0m\n\u001b[1;32m      9\u001b[0m     \u001b[0msample_average_precision\u001b[0m\u001b[0;34m[\u001b[0m\u001b[0mmetric\u001b[0m\u001b[0;34m]\u001b[0m \u001b[0;34m=\u001b[0m \u001b[0mmetirc\u001b[0m\u001b[0;34m[\u001b[0m\u001b[0;34m'sample_average_precision'\u001b[0m\u001b[0;34m]\u001b[0m\u001b[0;34m\u001b[0m\u001b[0;34m\u001b[0m\u001b[0m\n",
            "\u001b[0;31mTypeError\u001b[0m: string indices must be integers"
          ]
        }
      ]
    },
    {
      "cell_type": "code",
      "metadata": {
        "id": "__IHA-jC3HC-"
      },
      "source": [
        "micro_avg_lms = pd.DataFrame([bert_metrics['Classification_report']['micro avg'],roberta_metrics['Classification_report']['micro avg'],gpt2_metrics['Classification_report']['micro avg'],xlnet_metrics['Classification_report']['micro avg']],index=['bert-base-uncased','roberta-base','gpt2','xlnet-base-cased'])"
      ],
      "execution_count": null,
      "outputs": []
    }
  ]
}