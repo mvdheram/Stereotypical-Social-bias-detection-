{
  "nbformat": 4,
  "nbformat_minor": 0,
  "metadata": {
    "colab": {
      "name": "Copy of Language model and visualization notes.ipynb",
      "provenance": [],
      "collapsed_sections": [
        "x9wPoTMfekOS"
      ],
      "toc_visible": true,
      "include_colab_link": true
    },
    "kernelspec": {
      "name": "python3",
      "display_name": "Python 3"
    },
    "language_info": {
      "name": "python"
    }
  },
  "cells": [
    {
      "cell_type": "markdown",
      "metadata": {
        "id": "view-in-github",
        "colab_type": "text"
      },
      "source": [
        "<a href=\"https://colab.research.google.com/github/mvdheram/Stereotypical-Social-bias-detection-/blob/Pre-trained-LM-selection-and-training/Language_model_and_visualization_notes.ipynb\" target=\"_parent\"><img src=\"https://colab.research.google.com/assets/colab-badge.svg\" alt=\"Open In Colab\"/></a>"
      ]
    },
    {
      "cell_type": "markdown",
      "metadata": {
        "id": "_WvKa-oSJrxq"
      },
      "source": [
        "# Language models"
      ]
    },
    {
      "cell_type": "markdown",
      "metadata": {
        "id": "C2i-Sr614PTb"
      },
      "source": [
        "## BERT \n",
        "\n",
        "Pre-training of Deep Bidirectional Transformers for Language Understanding\n",
        "\n",
        "Link : https://arxiv.org/pdf/1810.04805.pdf"
      ]
    },
    {
      "cell_type": "markdown",
      "metadata": {
        "id": "0bBbM9kk4dNL"
      },
      "source": [
        "Bert - **B**idirecitonal **E**ncoder **R**epresentations from **t**ransformers\n",
        "\n",
        "Architecture :\n",
        "  * Multi-layer, **bidirectional** , encoder - based transformer \n",
        "  * BERT-base - 12 Encoder stacks, 768 hidden size, 12 - Self attention head\n",
        "\n",
        "Framework :\n",
        "\n",
        "  * BERT-tokenizer :\n",
        "    * **WordPiece** embeddings \n",
        "    * Vocab size : 30,000\n",
        "    * First token `[CLS]` - The final hidden state of the 12th encoder stack\n",
        "    * Two sequences seperated by `[SEP]` \n",
        "    * End of sequence indicated by `[EOS]`\n",
        "\n",
        "    * Input : Input sentence\n",
        "    * Output : Token embedding + segment embedding + Position embedding \n",
        "    * \"BERT uniformly selects 15% of the input tokens for possible replacement. Of the selected tokens, 80% are replaced with [MASK], 10% are left unchanged,and 10% are replaced by a randomly selected vocabulary token.\" [RoBERTa paper]\n",
        "  \n",
        "  * Pre-training\n",
        "    * Task1 : Masked language model (MLM)\n",
        "      * For deep bidirectional representation, mask 15 % of all Wordpiece tokens in each sequence at random and predict the masked tokens.\n",
        "    * Task2 : Next sentence prediction (NSP)\n",
        "      * Trained to understand relationships between two sentences (Q&A, NLI)\n",
        "    * Data\n",
        "      * BookCorpus (800M words)\n",
        "      * English wikipedia (2500M words)\n",
        "  * Fine-tuning\n",
        "    * Plug-in task specific output layer and fine-tune all the parameters end to end.\n",
        "    * At output, the first token i.e `[CLS]` representation is fed into output layer for classification."
      ]
    },
    {
      "cell_type": "markdown",
      "metadata": {
        "id": "n3L3CzAu4eKL"
      },
      "source": [
        "## GPT-2\n",
        "\n",
        "Links :\n",
        "\n",
        "1. http://www.persagen.com/files/misc/radford2019language.pdf\n",
        "2. https://youtu.be/Ck9-0YkJD_Q?t=936\n",
        "3. https://www.cs.ubc.ca/~amuham01/LING530/papers/radford2018improving.pdf \n",
        "\n",
        "Model specification :\n",
        "  * 12- layer decoder- only transformer \n",
        "  * Masked self-attention heads (768 dimentional states and 12 attention heads)\n",
        "\n",
        "Basic Blocks of GPT architecture [2,3] :\n",
        "  1. GPT2 Tokenizer \n",
        "    * **Input** : Sentence \n",
        "    * **Output** : input_ids, attention_mask, labels \n",
        "    * **Vocab size** : 50k \n",
        "    * **Encoding** : Byte pair encoding (BPE) - \"Middle gorund between character level encoding and word level encoding\" [1] \n",
        "  2. GPT-2 embedding block [2] :\n",
        "      * Consists of \n",
        "        * Word embedding layer \n",
        "        * Position embedding layer\n",
        "      * **Input** : (input_ids, attention_mask, labels)- size (1,8) [*sentence, tokens*]\n",
        "      * **Output** : size (1,8,768) - [*sentence, tokens, embeddings per token*]\n",
        "  3. GPT-2 Decoder Block (x12):\n",
        "    * Consists of \n",
        "      * Attention block [2]:\n",
        "        * Consists of \n",
        "          * Self attention mechanism  ( generating Query, key, value pairs etc. of transformer) \n",
        "      * Multi layer perceptron block/ feedforward layer (MLP - Block)\n",
        "          * Consists of \n",
        "            * layer norm, convolution , activaiton function, dropout \n",
        "      * Layer Normalization \n",
        "  4. LM head layer \n",
        "    * Consists of Linear layer projected to vocab  \n",
        "\n",
        "Training data :\n",
        "  * WebText ( Web pages curated and filtered by humans - 45 million)\n",
        "    * Starting point, scraped outbound links from reddit (>3 karma)\n",
        "\n",
        "GPT2 for text classification :\n",
        "  * Remove the LM head and attach a classification layer with the output dimention equal to size of labels. \n",
        "  * Grab the output of last word embedding in the seqence because it has context information (L-R LM) until that word int he input sequence.\n",
        "    * transformer_output[0] (https://huggingface.co/transformers/_modules/transformers/models/gpt2/modeling_gpt2.html#GPT2ForSequenceClassification) \n",
        "    * Sequence classification architecture:\n",
        "      * Pooled output (last output as mentioned above)\n",
        "      * Dropout(0.1)\n",
        "      * Linear classifier layer with size (input_dim, num_class lables)\n",
        "      * Sigmoid Layer + BCE loss function \n",
        "\n",
        "\n",
        "   \n",
        "\n"
      ]
    },
    {
      "cell_type": "markdown",
      "metadata": {
        "id": "lyiRQ5uL6EAL"
      },
      "source": [
        "## XL-Net (TBD)\n",
        "\n",
        "Link : https://proceedings.neurips.cc/paper/2019/file/dc6a7e655d7e5840e66733e9ee67cc69-Paper.pdf \n",
        "\n"
      ]
    },
    {
      "cell_type": "markdown",
      "metadata": {
        "id": "LICnoEFo6BwM"
      },
      "source": [
        ""
      ]
    },
    {
      "cell_type": "markdown",
      "metadata": {
        "id": "Jtg-Q1jo6HVy"
      },
      "source": [
        "## RoBERTa \n",
        "\n",
        "Link : https://arxiv.org/abs/1907.11692\n",
        "\n",
        "\n",
        "\n",
        "\n",
        "\n",
        "\n"
      ]
    },
    {
      "cell_type": "markdown",
      "metadata": {
        "id": "_JnFSdIBGDbT"
      },
      "source": [
        "Optimized version of BERT with the following modificatoins:\n",
        "  * Removing next sentence prediction (NSP) \n",
        "  * Training on more data and bigger batches\n",
        "  * Training on longer sequences \n",
        "  * Dynamically changing the masking pattern applied to training data.\n",
        "\n",
        "Data:\n",
        "  * Increase data size to imrpove end task performance \n",
        "  * BookCorpus + Wikipedia : Original data used by BERT \n",
        "  * CC- News : English portion of CommonCrawl News dataset ( \"63 million articles crawled between September 2016 and feb 2019 - 76 GB after filtering\")\n",
        "  * OPENWEBTEXT - \"The text is web content extracted from URLs shared on Reddit with at least three upvotes. (38GB)\"\n",
        "  * \"STORIES, a dataset introduced in Trinh and Le\n",
        "(2018) containing a subset of CommonCrawl\n",
        "data filtered to match the story-like style of\n",
        "Winograd schemas. (31GB)\".\n",
        "\n",
        "Training procedure :\n",
        "  * Statis (BERT) vs Dynamic (RoBERTa) masking\n",
        "    * Dynamic masking is a strategy where masking patterns are generated for every sequence being fed into the model rather than relying on randomly masking and predicting.\n",
        "  * Model input format and Next sentence prediction \n",
        "    * Doument-sentences : Inputs to the model are packed with full sentences which do not cross document boundaries. Remove NSP loss \n",
        "  * Training with larger batch sizes \n",
        "    * 8k batch size increased when compared to BERT.\n",
        "  * Text encoding :\n",
        "    * Byte Pair encoding [BPE] which relies on subword units extracted from the training corpus compared to  BERT character level "
      ]
    },
    {
      "cell_type": "markdown",
      "metadata": {
        "id": "x9wPoTMfekOS"
      },
      "source": [
        "## Visualization (TBD)\n",
        "\n",
        "Link: https://towardsdatascience.com/visualize-bert-sequence-embeddings-an-unseen-way-1d6a351e4568\n",
        "\n",
        "\n",
        "1. https://jalammar.github.io/explaining-transformers/\n",
        "2. https://jalammar.github.io/hidden-states/\n",
        "3. BerViz : https://github.com/jessevig/bertviz"
      ]
    },
    {
      "cell_type": "markdown",
      "metadata": {
        "id": "WjnkFSkge2TE"
      },
      "source": [
        "Bert-base:\n",
        "  * 12 encoder-layer stack for building contextualized embeddings.\n",
        "  * 100 million tuneable parameters.\n",
        "  * As bert model offers its embeddings to input, its useful to viusalize layers to analyze the patterns learned on unseen data.\n",
        "\n",
        "\n",
        "Why?\n",
        "  * After training viusalize, how well each layer seperates over epochs.\n",
        "\n",
        "How?\n",
        "  * BertForSequenceClassification consists of :\n",
        "    * 1 - BertEmbedding layer -> 12 - Bertlayer -> 1 - Bertpooler -> Tanh - activation -> Dropout layer"
      ]
    },
    {
      "cell_type": "markdown",
      "metadata": {
        "id": "K4AwkYpm6M5b"
      },
      "source": [
        "# Compilation of results \n",
        "\n",
        "Reference : https://scikit-learn.org/stable/modules/model_evaluation.html#accuracy-score "
      ]
    },
    {
      "cell_type": "code",
      "metadata": {
        "colab": {
          "base_uri": "https://localhost:8080/"
        },
        "id": "nBHu71wHmqOh",
        "outputId": "faf1d484-17f6-4b7b-9413-306e92561330"
      },
      "source": [
        "from google.colab import drive\n",
        "drive.mount('/content/drive')"
      ],
      "execution_count": 1,
      "outputs": [
        {
          "output_type": "stream",
          "text": [
            "Mounted at /content/drive\n"
          ],
          "name": "stdout"
        }
      ]
    },
    {
      "cell_type": "markdown",
      "metadata": {
        "id": "HDYBrXYROZTA"
      },
      "source": [
        "### Hyper-parameter search "
      ]
    },
    {
      "cell_type": "code",
      "metadata": {
        "id": "4h2vFkB5OcmY"
      },
      "source": [
        "h_params_compiled = pd.read_csv('/content/h_params_compiled.csv', index_col= 0)"
      ],
      "execution_count": null,
      "outputs": []
    },
    {
      "cell_type": "code",
      "metadata": {
        "id": "_ytCwyYwOp7Q",
        "colab": {
          "base_uri": "https://localhost:8080/",
          "height": 173
        },
        "outputId": "0b1053b4-bad7-4259-c329-2ceac7a75553"
      },
      "source": [
        "h_params_compiled"
      ],
      "execution_count": null,
      "outputs": [
        {
          "output_type": "execute_result",
          "data": {
            "text/html": [
              "<div>\n",
              "<style scoped>\n",
              "    .dataframe tbody tr th:only-of-type {\n",
              "        vertical-align: middle;\n",
              "    }\n",
              "\n",
              "    .dataframe tbody tr th {\n",
              "        vertical-align: top;\n",
              "    }\n",
              "\n",
              "    .dataframe thead th {\n",
              "        text-align: right;\n",
              "    }\n",
              "</style>\n",
              "<table border=\"1\" class=\"dataframe\">\n",
              "  <thead>\n",
              "    <tr style=\"text-align: right;\">\n",
              "      <th></th>\n",
              "      <th>model_name</th>\n",
              "      <th>learning_rate</th>\n",
              "      <th>num_train_epochs</th>\n",
              "      <th>seed</th>\n",
              "      <th>per_device_train_batch_size</th>\n",
              "    </tr>\n",
              "  </thead>\n",
              "  <tbody>\n",
              "    <tr>\n",
              "      <th>0</th>\n",
              "      <td>roberta-base</td>\n",
              "      <td>0.000034</td>\n",
              "      <td>5</td>\n",
              "      <td>22</td>\n",
              "      <td>8</td>\n",
              "    </tr>\n",
              "    <tr>\n",
              "      <th>1</th>\n",
              "      <td>xlnet-base-cased</td>\n",
              "      <td>0.000025</td>\n",
              "      <td>2</td>\n",
              "      <td>15</td>\n",
              "      <td>32</td>\n",
              "    </tr>\n",
              "    <tr>\n",
              "      <th>2</th>\n",
              "      <td>bert-base-uncased</td>\n",
              "      <td>0.000025</td>\n",
              "      <td>2</td>\n",
              "      <td>15</td>\n",
              "      <td>32</td>\n",
              "    </tr>\n",
              "    <tr>\n",
              "      <th>3</th>\n",
              "      <td>gpt2</td>\n",
              "      <td>0.000025</td>\n",
              "      <td>2</td>\n",
              "      <td>15</td>\n",
              "      <td>32</td>\n",
              "    </tr>\n",
              "  </tbody>\n",
              "</table>\n",
              "</div>"
            ],
            "text/plain": [
              "          model_name  learning_rate  ...  seed  per_device_train_batch_size\n",
              "0       roberta-base       0.000034  ...    22                            8\n",
              "1   xlnet-base-cased       0.000025  ...    15                           32\n",
              "2  bert-base-uncased       0.000025  ...    15                           32\n",
              "3               gpt2       0.000025  ...    15                           32\n",
              "\n",
              "[4 rows x 5 columns]"
            ]
          },
          "metadata": {
            "tags": []
          },
          "execution_count": 306
        }
      ]
    },
    {
      "cell_type": "markdown",
      "metadata": {
        "id": "QQP-ex2iX9wP"
      },
      "source": [
        "### Loading the metrics"
      ]
    },
    {
      "cell_type": "code",
      "metadata": {
        "id": "RQfIxc4HYEio"
      },
      "source": [
        "bert = open('/content/drive/MyDrive/Trained_models/Results_compilation /Language models/eval_results_BERT_0.5_.json','r')\n",
        "roberta = open('/content/drive/MyDrive/Trained_models/Results_compilation /Language models/eval_results_RoBERTa_0.5_.json','r')\n",
        "gpt2 = open('/content/drive/MyDrive/Trained_models/Results_compilation /Language models/eval_results_gpt-2_0.5_.json','r')\n",
        "xlnet = open('/content/drive/MyDrive/Trained_models/Results_compilation /Language models/eval_results_xlnet_0.5_.json','r')"
      ],
      "execution_count": 2,
      "outputs": []
    },
    {
      "cell_type": "code",
      "metadata": {
        "id": "LhUcTXUWaJpS"
      },
      "source": [
        "import json \n",
        "import pandas as pd\n",
        "\n",
        "bert_metrics = json.load(bert)\n",
        "roberta_metrics = json.load(roberta)\n",
        "gpt2_metrics = json.load(gpt2)\n",
        "xlnet_metrics = json.load(xlnet)"
      ],
      "execution_count": 3,
      "outputs": []
    },
    {
      "cell_type": "markdown",
      "metadata": {
        "id": "iIV1i5a8PMCP"
      },
      "source": [
        "Metrics references:\n",
        "\n",
        "1. https://ieeexplore.ieee.org/stamp/stamp.jsp?tp=&arnumber=6471714\n",
        "2. https://mmuratarat.github.io/2020-01-25/multilabel_classification_metrics\n",
        "3. https://datascience.stackexchange.com/questions/15989/micro-average-vs-macro-average-performance-in-a-multiclass-classification-settin#comment42550_24051\n"
      ]
    },
    {
      "cell_type": "markdown",
      "metadata": {
        "id": "eiCFqDjbqaMQ"
      },
      "source": [
        "### Sample_average precision, recall, f1-score (Example-based scores)"
      ]
    },
    {
      "cell_type": "markdown",
      "metadata": {
        "id": "DPGGBl8Osyfw"
      },
      "source": [
        "#### Definition"
      ]
    },
    {
      "cell_type": "markdown",
      "metadata": {
        "id": "FSPLOrE8quuc"
      },
      "source": [
        "'Sample_average':\n",
        "\n",
        "* Calculate metrics for each instance, and find their average (only meaningful for multilabel classification where this differs from accuracy_score)."
      ]
    },
    {
      "cell_type": "markdown",
      "metadata": {
        "id": "WsrXZ0Yes12h"
      },
      "source": [
        "#### Results"
      ]
    },
    {
      "cell_type": "code",
      "metadata": {
        "id": "qtuIqCgnqqgY"
      },
      "source": [
        "metrics = ['sample_average_precision','sample_average_recall','sample_average_f1']\n",
        "results = [bert_metrics,roberta_metrics,gpt2_metrics,xlnet_metrics]\n",
        "model_name = ['bert','roberta','gpt2','xlnet']\n",
        "\n",
        "sample_avg_f1scores = []\n",
        "\n",
        "for result in results:\n",
        "  sample_avg_f1scores.append(result['sample_average_f1'])"
      ],
      "execution_count": 9,
      "outputs": []
    },
    {
      "cell_type": "code",
      "metadata": {
        "id": "ncePRu2VvKeA"
      },
      "source": [
        "sample_avg_recall = []\n",
        "\n",
        "for result in results:\n",
        "  sample_avg_recall.append(result['sample_average_recall'])"
      ],
      "execution_count": 10,
      "outputs": []
    },
    {
      "cell_type": "code",
      "metadata": {
        "id": "UO96cJtLwkPv"
      },
      "source": [
        "sample_average_precision = []\n",
        "\n",
        "for result in results:\n",
        "  sample_average_precision.append(result['sample_average_precision'])"
      ],
      "execution_count": 11,
      "outputs": []
    },
    {
      "cell_type": "code",
      "metadata": {
        "id": "5oRhS-6nwrsY"
      },
      "source": [
        "df = pd.DataFrame([sample_average_precision,sample_avg_recall,sample_avg_f1scores]).T"
      ],
      "execution_count": 15,
      "outputs": []
    },
    {
      "cell_type": "code",
      "metadata": {
        "id": "N0jjJM_JxAXZ"
      },
      "source": [
        "df.index = ['bert-base-uncased','roberta-base','gpt2','xlnet-base-cased']"
      ],
      "execution_count": 20,
      "outputs": []
    },
    {
      "cell_type": "code",
      "metadata": {
        "id": "KVD5aWPhxMgy"
      },
      "source": [
        "df.columns = ['precision','recall','f1-score']"
      ],
      "execution_count": 23,
      "outputs": []
    },
    {
      "cell_type": "code",
      "metadata": {
        "id": "6bJchbFiyRVd"
      },
      "source": [
        "df.columns = pd.MultiIndex.from_product([df.columns, ['sample avg']])"
      ],
      "execution_count": 24,
      "outputs": []
    },
    {
      "cell_type": "code",
      "metadata": {
        "id": "ccMUBPvaxWBo",
        "outputId": "4136799f-59c4-4520-def3-dc40d8ed6759",
        "colab": {
          "base_uri": "https://localhost:8080/",
          "height": 204
        }
      },
      "source": [
        "df"
      ],
      "execution_count": 25,
      "outputs": [
        {
          "output_type": "execute_result",
          "data": {
            "text/html": [
              "<div>\n",
              "<style scoped>\n",
              "    .dataframe tbody tr th:only-of-type {\n",
              "        vertical-align: middle;\n",
              "    }\n",
              "\n",
              "    .dataframe tbody tr th {\n",
              "        vertical-align: top;\n",
              "    }\n",
              "\n",
              "    .dataframe thead tr th {\n",
              "        text-align: left;\n",
              "    }\n",
              "</style>\n",
              "<table border=\"1\" class=\"dataframe\">\n",
              "  <thead>\n",
              "    <tr>\n",
              "      <th></th>\n",
              "      <th>precision</th>\n",
              "      <th>recall</th>\n",
              "      <th>f1-score</th>\n",
              "    </tr>\n",
              "    <tr>\n",
              "      <th></th>\n",
              "      <th>sample avg</th>\n",
              "      <th>sample avg</th>\n",
              "      <th>sample avg</th>\n",
              "    </tr>\n",
              "  </thead>\n",
              "  <tbody>\n",
              "    <tr>\n",
              "      <th>bert-base-uncased</th>\n",
              "      <td>0.843137</td>\n",
              "      <td>0.813054</td>\n",
              "      <td>0.819245</td>\n",
              "    </tr>\n",
              "    <tr>\n",
              "      <th>roberta-base</th>\n",
              "      <td>0.880338</td>\n",
              "      <td>0.875302</td>\n",
              "      <td>0.876430</td>\n",
              "    </tr>\n",
              "    <tr>\n",
              "      <th>gpt2</th>\n",
              "      <td>0.691714</td>\n",
              "      <td>0.530620</td>\n",
              "      <td>0.582487</td>\n",
              "    </tr>\n",
              "    <tr>\n",
              "      <th>xlnet-base-cased</th>\n",
              "      <td>0.869057</td>\n",
              "      <td>0.742949</td>\n",
              "      <td>0.784985</td>\n",
              "    </tr>\n",
              "  </tbody>\n",
              "</table>\n",
              "</div>"
            ],
            "text/plain": [
              "                   precision     recall   f1-score\n",
              "                  sample avg sample avg sample avg\n",
              "bert-base-uncased   0.843137   0.813054   0.819245\n",
              "roberta-base        0.880338   0.875302   0.876430\n",
              "gpt2                0.691714   0.530620   0.582487\n",
              "xlnet-base-cased    0.869057   0.742949   0.784985"
            ]
          },
          "metadata": {},
          "execution_count": 25
        }
      ]
    },
    {
      "cell_type": "code",
      "metadata": {
        "id": "qe3ROoINzX9o"
      },
      "source": [
        "df.to_csv('/content/drive/MyDrive/Trained_models/Results_compilation /Language models/csv files/sample_Avg.csv')"
      ],
      "execution_count": 26,
      "outputs": []
    },
    {
      "cell_type": "markdown",
      "metadata": {
        "id": "iXrIJvr9s3qO"
      },
      "source": [
        "#### Analysis"
      ]
    },
    {
      "cell_type": "markdown",
      "metadata": {
        "id": "Us2uOQsCUwuB"
      },
      "source": [
        "* Sample average scores of Roberta are slightly better when compared to bert"
      ]
    },
    {
      "cell_type": "markdown",
      "metadata": {
        "id": "0_v3Gb3mOovo"
      },
      "source": [
        "### Label based scores :\n",
        "\n",
        "Scores calculated per-label and averaged"
      ]
    },
    {
      "cell_type": "markdown",
      "metadata": {
        "id": "gdPzxCq942f-"
      },
      "source": [
        "#### Micro_avg_scores"
      ]
    },
    {
      "cell_type": "markdown",
      "metadata": {
        "id": "Ibw20dvBK_4Q"
      },
      "source": [
        "##### Definitions"
      ]
    },
    {
      "cell_type": "markdown",
      "metadata": {
        "id": "8XLJ_xlSLEOR"
      },
      "source": [
        "Quality of overall classification is defined by \n",
        "  * Micro-average :  \n",
        "    * Favours bigger classes; not preferable if the data is skewed. ??\n",
        "    * Average per-text decision. (Based on total number of text examples)\n",
        "    * In Micro-averaged, scores(precision, recall..) are calculated for entire set of data as a whole which leads to loss of correlation\n",
        "      * Micro-average treats the entire set of data as aggregate result\n",
        "      * `Precision(micro) = TP of all classes / (TP + FP) of all the classes`\n",
        "      * Gives an overall unweighted averaged measure, without giving any importance to particular class.\n",
        "        "
      ]
    },
    {
      "cell_type": "markdown",
      "metadata": {
        "id": "R2RFBlRoLVCP"
      },
      "source": [
        "##### Results"
      ]
    },
    {
      "cell_type": "code",
      "metadata": {
        "id": "R5rHpvIaczXV"
      },
      "source": [
        "micro_avg_lms = pd.DataFrame([bert_metrics['Classification_report']['micro avg'],roberta_metrics['Classification_report']['micro avg'],gpt2_metrics['Classification_report']['micro avg'],xlnet_metrics['Classification_report']['micro avg']],index=['bert-base-uncased','roberta-base','gpt2','xlnet-base-cased'])"
      ],
      "execution_count": 32,
      "outputs": []
    },
    {
      "cell_type": "code",
      "metadata": {
        "id": "ZHb9yRfJlyjv"
      },
      "source": [
        "micro_avg_lms.columns = pd.MultiIndex.from_product([micro_avg_lms.columns, ['micro avg']])"
      ],
      "execution_count": 33,
      "outputs": []
    },
    {
      "cell_type": "code",
      "metadata": {
        "id": "V_bKtSHhnuYT",
        "colab": {
          "base_uri": "https://localhost:8080/",
          "height": 204
        },
        "outputId": "3e036b6e-f00a-4617-9d40-acb6ce392ea7"
      },
      "source": [
        "micro_avg_lms"
      ],
      "execution_count": 34,
      "outputs": [
        {
          "output_type": "execute_result",
          "data": {
            "text/html": [
              "<div>\n",
              "<style scoped>\n",
              "    .dataframe tbody tr th:only-of-type {\n",
              "        vertical-align: middle;\n",
              "    }\n",
              "\n",
              "    .dataframe tbody tr th {\n",
              "        vertical-align: top;\n",
              "    }\n",
              "\n",
              "    .dataframe thead tr th {\n",
              "        text-align: left;\n",
              "    }\n",
              "</style>\n",
              "<table border=\"1\" class=\"dataframe\">\n",
              "  <thead>\n",
              "    <tr>\n",
              "      <th></th>\n",
              "      <th>precision</th>\n",
              "      <th>recall</th>\n",
              "      <th>f1-score</th>\n",
              "      <th>support</th>\n",
              "    </tr>\n",
              "    <tr>\n",
              "      <th></th>\n",
              "      <th>micro avg</th>\n",
              "      <th>micro avg</th>\n",
              "      <th>micro avg</th>\n",
              "      <th>micro avg</th>\n",
              "    </tr>\n",
              "  </thead>\n",
              "  <tbody>\n",
              "    <tr>\n",
              "      <th>bert-base-uncased</th>\n",
              "      <td>0.829431</td>\n",
              "      <td>0.801848</td>\n",
              "      <td>0.815406</td>\n",
              "      <td>4330</td>\n",
              "    </tr>\n",
              "    <tr>\n",
              "      <th>roberta-base</th>\n",
              "      <td>0.870208</td>\n",
              "      <td>0.870208</td>\n",
              "      <td>0.870208</td>\n",
              "      <td>4330</td>\n",
              "    </tr>\n",
              "    <tr>\n",
              "      <th>gpt2</th>\n",
              "      <td>0.820844</td>\n",
              "      <td>0.498383</td>\n",
              "      <td>0.620204</td>\n",
              "      <td>4330</td>\n",
              "    </tr>\n",
              "    <tr>\n",
              "      <th>xlnet-base-cased</th>\n",
              "      <td>0.885915</td>\n",
              "      <td>0.726328</td>\n",
              "      <td>0.798223</td>\n",
              "      <td>4330</td>\n",
              "    </tr>\n",
              "  </tbody>\n",
              "</table>\n",
              "</div>"
            ],
            "text/plain": [
              "                  precision    recall  f1-score   support\n",
              "                  micro avg micro avg micro avg micro avg\n",
              "bert-base-uncased  0.829431  0.801848  0.815406      4330\n",
              "roberta-base       0.870208  0.870208  0.870208      4330\n",
              "gpt2               0.820844  0.498383  0.620204      4330\n",
              "xlnet-base-cased   0.885915  0.726328  0.798223      4330"
            ]
          },
          "metadata": {},
          "execution_count": 34
        }
      ]
    },
    {
      "cell_type": "code",
      "metadata": {
        "id": "bITH4Ixv9oHJ"
      },
      "source": [
        "micro_avg_lms.to_csv('/content/drive/MyDrive/Trained_models/Results_compilation /Language models/csv files/micro_avg.csv')"
      ],
      "execution_count": 35,
      "outputs": []
    },
    {
      "cell_type": "markdown",
      "metadata": {
        "id": "pYqyI4cpKsTD"
      },
      "source": [
        "##### Analysis"
      ]
    },
    {
      "cell_type": "markdown",
      "metadata": {
        "id": "hI2kBtxMKwQ6"
      },
      "source": [
        "* **roberta-base** has higher f1-score, recall, **XLNet** precision higher when compared to others"
      ]
    },
    {
      "cell_type": "markdown",
      "metadata": {
        "id": "uEmRv45d48lH"
      },
      "source": [
        "#### Macro_avg_score"
      ]
    },
    {
      "cell_type": "markdown",
      "metadata": {
        "id": "vltfQ7fGLFnx"
      },
      "source": [
        "##### Definition"
      ]
    },
    {
      "cell_type": "markdown",
      "metadata": {
        "id": "iopE_oz_LHVY"
      },
      "source": [
        "Quality of overall classification is defined by \n",
        "  * Macro-average :\n",
        "    * A measure is the average of the same measures calculated for C classes.\n",
        "    * Macro-averaging treats all classes equally.\n",
        "    * Average per-class measure \n",
        "    * In multi-label setting, one vs all or ove vs rest strategy is used wherein one classifier is fit per class (belonging to the class or not).\n",
        "      * Macro-average calculates average of scores(precision, recall..) by calculating the score per each class and averaging per-class thus giving equal weight to all the classes"
      ]
    },
    {
      "cell_type": "markdown",
      "metadata": {
        "id": "dqhbAqpgLXIU"
      },
      "source": [
        "##### Results"
      ]
    },
    {
      "cell_type": "code",
      "metadata": {
        "id": "9I7zBk303KI3"
      },
      "source": [
        "macro_avg_lms = pd.DataFrame([bert_metrics['Classification_report']['macro avg'],roberta_metrics['Classification_report']['macro avg'],gpt2_metrics['Classification_report']['macro avg'],xlnet_metrics['Classification_report']['macro avg']],index=['bert-base-uncased','roberta-base','gpt2','xlnet-base-cased'])"
      ],
      "execution_count": 36,
      "outputs": []
    },
    {
      "cell_type": "code",
      "metadata": {
        "id": "aciRTa7a3SZH"
      },
      "source": [
        "macro_avg_lms.columns = pd.MultiIndex.from_product([macro_avg_lms.columns, ['macro avg']])"
      ],
      "execution_count": 37,
      "outputs": []
    },
    {
      "cell_type": "code",
      "metadata": {
        "id": "V_c3sIuP3b90",
        "colab": {
          "base_uri": "https://localhost:8080/",
          "height": 204
        },
        "outputId": "5fa18a6c-30c1-4eea-8c69-bb6f8f65388c"
      },
      "source": [
        "macro_avg_lms"
      ],
      "execution_count": 38,
      "outputs": [
        {
          "output_type": "execute_result",
          "data": {
            "text/html": [
              "<div>\n",
              "<style scoped>\n",
              "    .dataframe tbody tr th:only-of-type {\n",
              "        vertical-align: middle;\n",
              "    }\n",
              "\n",
              "    .dataframe tbody tr th {\n",
              "        vertical-align: top;\n",
              "    }\n",
              "\n",
              "    .dataframe thead tr th {\n",
              "        text-align: left;\n",
              "    }\n",
              "</style>\n",
              "<table border=\"1\" class=\"dataframe\">\n",
              "  <thead>\n",
              "    <tr>\n",
              "      <th></th>\n",
              "      <th>precision</th>\n",
              "      <th>recall</th>\n",
              "      <th>f1-score</th>\n",
              "      <th>support</th>\n",
              "    </tr>\n",
              "    <tr>\n",
              "      <th></th>\n",
              "      <th>macro avg</th>\n",
              "      <th>macro avg</th>\n",
              "      <th>macro avg</th>\n",
              "      <th>macro avg</th>\n",
              "    </tr>\n",
              "  </thead>\n",
              "  <tbody>\n",
              "    <tr>\n",
              "      <th>bert-base-uncased</th>\n",
              "      <td>0.855324</td>\n",
              "      <td>0.825305</td>\n",
              "      <td>0.837639</td>\n",
              "      <td>4330</td>\n",
              "    </tr>\n",
              "    <tr>\n",
              "      <th>roberta-base</th>\n",
              "      <td>0.887106</td>\n",
              "      <td>0.885664</td>\n",
              "      <td>0.885874</td>\n",
              "      <td>4330</td>\n",
              "    </tr>\n",
              "    <tr>\n",
              "      <th>gpt2</th>\n",
              "      <td>0.781890</td>\n",
              "      <td>0.547960</td>\n",
              "      <td>0.611141</td>\n",
              "      <td>4330</td>\n",
              "    </tr>\n",
              "    <tr>\n",
              "      <th>xlnet-base-cased</th>\n",
              "      <td>0.886126</td>\n",
              "      <td>0.767988</td>\n",
              "      <td>0.812584</td>\n",
              "      <td>4330</td>\n",
              "    </tr>\n",
              "  </tbody>\n",
              "</table>\n",
              "</div>"
            ],
            "text/plain": [
              "                  precision    recall  f1-score   support\n",
              "                  macro avg macro avg macro avg macro avg\n",
              "bert-base-uncased  0.855324  0.825305  0.837639      4330\n",
              "roberta-base       0.887106  0.885664  0.885874      4330\n",
              "gpt2               0.781890  0.547960  0.611141      4330\n",
              "xlnet-base-cased   0.886126  0.767988  0.812584      4330"
            ]
          },
          "metadata": {},
          "execution_count": 38
        }
      ]
    },
    {
      "cell_type": "code",
      "metadata": {
        "id": "DvPDPd82-KVI"
      },
      "source": [
        "macro_avg_lms.to_csv('/content/drive/MyDrive/Trained_models/Results_compilation /Language models/csv files/macro_avg.csv')"
      ],
      "execution_count": 39,
      "outputs": []
    },
    {
      "cell_type": "markdown",
      "metadata": {
        "id": "kEg1XwTLK1j4"
      },
      "source": [
        "##### Analysis"
      ]
    },
    {
      "cell_type": "markdown",
      "metadata": {
        "id": "tmmkx0E2K3jR"
      },
      "source": [
        "* XLNet has lower recall but precision is better than other LMS\n",
        "* Overall roberta-base has better score when considering f1-score\n",
        "* bert comes second with a good balance of precision and recall \n"
      ]
    },
    {
      "cell_type": "markdown",
      "metadata": {
        "id": "Jj7xFNtXApdx"
      },
      "source": [
        "### Hamming_loss, subset_accuracy\n",
        "\n",
        "References : \n",
        "\n",
        "  1. https://scikit-learn.org/stable/modules/generated/sklearn.metrics.hamming_loss.html\n",
        "  2. https://mmuratarat.github.io/2020-01-25/multilabel_classification_metrics\n",
        "  3. https://scikit-learn.org/stable/modules/generated/sklearn.metrics.roc_auc_score.html\n",
        "  4. https://developers.google.com/machine-learning/crash-course/classification/roc-and-auc\n"
      ]
    },
    {
      "cell_type": "markdown",
      "metadata": {
        "id": "SE1ELw_cLITH"
      },
      "source": [
        "#### Definition"
      ]
    },
    {
      "cell_type": "markdown",
      "metadata": {
        "id": "dqvy8QwdLK_K"
      },
      "source": [
        "* Hamming loss : \n",
        "  * Fraction of labels incorrectly predicted\n",
        "* Exact match ratio (Aka Accuracy):\n",
        "    * **The average per-text exact classification**\n",
        "    * It is harsh measure as exact match(prediction and true values) are taken into consideration. \n",
        "      * Why?\n",
        "        * In multi-label/class classification, a subset of correct prediction are avoided. \n",
        "    * Its based on some threshold as output probabilities are rounded to 0 if less than threshold and 1 if greater than threshold.\n",
        "* Hamming_score / Accuracy :\n",
        "  * \"Accuracy for each instance is defined as the proportion of the predicted correct labels to the total number (predicted and actual) of labels for that instance. Overall accuracy is the average across all instances. It is less ambiguously referred to as the Hamming score.\" [2]\n",
        "* AUC_ROC curve and score:\n",
        "  * Why?\n",
        "    * Compare ROC (analyze probabilities) AUC score (model performance) of two or three models for binary classification or classes when multi-class.\n",
        "    * AUC - ROC curve is a performance measurement for the classification problems at various threshold settings. \n",
        "    * ROC is a probability curve \n",
        "      * TP vs FP plotted at different thresholds\n",
        "    * AUC represents the degree or measure of separability.\n",
        "      * AUC value ranges from 0 to 1 (perfect)\n",
        "      * AUC is scale invarient \n",
        "      * AUC is classification-threshold-invariant.\n",
        "      * For multi-label/class, extend using one vs All (class 0 vs rest..), one ROC curve per label considering it as one vs rest.\n",
        "  * Sensitivity / True positive rate:\n",
        "    * Proportion of correctly classified positive samples (TP) out of total number (TP+FN) of positive classes.\n",
        "    * **Higher the better**\n",
        "  * Specificity / True Negative rate:\n",
        "    * Proportion of correctly classified negative sample (TN) out of total number of negative classes (TN+FP)\n",
        "    * **Higher the better**\n",
        "  * False Negative rate:\n",
        "    * Proportion of incorrectly classified positive class (FN) out of total number correctly predicted classes (TP + TN) by classifier.\n",
        "    * **Lower the better**\n",
        "  * False positive rate (1- Specificity) :\n",
        "    * Proportion of incorrectly classified negaitve class out of total number of correctly predicted negative class and incorrectly predicted positive class (TN + FP)\n",
        "    * **Lower the better**.\n",
        "  \n",
        "  * Probability of predicitons\n",
        "    * `Predict_proba` gives probability distribution of the prediction across different classes. \n",
        "    * The prediction is thus converted into class label by using decision threshold or threshold.\n",
        "    * Different threshold gives different results, confusion matrices which effect sensitivity and specificity.\n",
        "    * Default value of threshold is 0.5 for prediction scores ranging from 0 to 1.\n",
        "      * Prediction < 0.5 - class 0\n",
        "      * Prediction >= 0.5 - class 1\n",
        "    * Default might not always work.\n",
        "    * AUC-ROC curve gives a cumulative view of results for different threshold, thus provide a visualization to choose best threshold.\n",
        "  * Receiver Operator Characteristic (ROC) curve :\n",
        "    * Curve that plots TPR (sensitivity) and FPR (1-Specificity) probability for different thresholds.\n",
        "      * X-axis - False positive rate\n",
        "      * Y-axis - True positive rate\n",
        "      * Ideal : \n",
        "        * Higher value on y-axis and lower value on x-axis.\n",
        "          * Higher true positive rate than False positive rate.\n",
        "            \n",
        "    * Area under the curve (AUC) is the area under the ROC.\n",
        "      * \"The higher the AUC, the better the performance of the model at distinguishing between the positive and negative classes.\"\n",
        "      1. AUC = 1 - Perfect classifier\n",
        "      2. `0.5<AUC<1` - Better classifier\n",
        "      3. AUC = 0.5 - Random guess\n",
        "      4. AUC = 0 - Worst classifier (Neg as pos and pos as neg)\n",
        "      * `sklearn.metrics import roc_auc_score` \n",
        "      * `roc_auc_score(true,pred)`\n",
        "\n",
        "\n"
      ]
    },
    {
      "cell_type": "markdown",
      "metadata": {
        "id": "YToUlQujLOVs"
      },
      "source": [
        "#### Results"
      ]
    },
    {
      "cell_type": "code",
      "metadata": {
        "id": "-utZSCDs_pZe"
      },
      "source": [
        "bert = bert_metrics['hamming_loss'],bert_metrics['subset_accuracy'],bert_metrics['hamming_score'],bert_metrics['AUC_ROC_score']\n",
        "roberta = roberta_metrics['hamming_loss'],roberta_metrics['subset_accuracy'],roberta_metrics['hamming_score'],roberta_metrics['AUC_ROC_score']\n",
        "gpt2 = gpt2_metrics['hamming_loss'],gpt2_metrics['subset_accuracy'],gpt2_metrics['hamming_score'],gpt2_metrics['AUC_ROC_score']\n",
        "xlnet = xlnet_metrics['hamming_loss'],xlnet_metrics['subset_accuracy'],xlnet_metrics['hamming_score'],xlnet_metrics['AUC_ROC_score']"
      ],
      "execution_count": 43,
      "outputs": []
    },
    {
      "cell_type": "code",
      "metadata": {
        "id": "_H_fewWDJZ8U"
      },
      "source": [
        "hs_metrics = pd.DataFrame([bert,roberta,gpt2,xlnet],index=['bert-base-uncased','roberta-base','gpt2','xlnet-base-cased'],columns=['hamming_loss','subset_accuracy','hamming_score/Accuracy','AUC_ROC_score'])"
      ],
      "execution_count": 44,
      "outputs": []
    },
    {
      "cell_type": "code",
      "metadata": {
        "id": "CjK5Ya5bJrxE",
        "colab": {
          "base_uri": "https://localhost:8080/"
        },
        "outputId": "be6d8829-1f82-4570-b191-542e14b6cde6"
      },
      "source": [
        "hs_metrics"
      ],
      "execution_count": 45,
      "outputs": [
        {
          "output_type": "execute_result",
          "data": {
            "text/html": [
              "<div>\n",
              "<style scoped>\n",
              "    .dataframe tbody tr th:only-of-type {\n",
              "        vertical-align: middle;\n",
              "    }\n",
              "\n",
              "    .dataframe tbody tr th {\n",
              "        vertical-align: top;\n",
              "    }\n",
              "\n",
              "    .dataframe thead th {\n",
              "        text-align: right;\n",
              "    }\n",
              "</style>\n",
              "<table border=\"1\" class=\"dataframe\">\n",
              "  <thead>\n",
              "    <tr style=\"text-align: right;\">\n",
              "      <th></th>\n",
              "      <th>hamming_loss</th>\n",
              "      <th>subset_accuracy</th>\n",
              "      <th>hamming_score/Accuracy</th>\n",
              "      <th>AUC_ROC_score</th>\n",
              "    </tr>\n",
              "  </thead>\n",
              "  <tbody>\n",
              "    <tr>\n",
              "      <th>bert-base-uncased</th>\n",
              "      <td>0.090480</td>\n",
              "      <td>0.649879</td>\n",
              "      <td>0.772663</td>\n",
              "      <td>0.950945</td>\n",
              "    </tr>\n",
              "    <tr>\n",
              "      <th>roberta-base</th>\n",
              "      <td>0.064694</td>\n",
              "      <td>0.789283</td>\n",
              "      <td>0.848811</td>\n",
              "      <td>0.968983</td>\n",
              "    </tr>\n",
              "    <tr>\n",
              "      <th>gpt2</th>\n",
              "      <td>0.152124</td>\n",
              "      <td>0.331990</td>\n",
              "      <td>0.518466</td>\n",
              "      <td>0.892467</td>\n",
              "    </tr>\n",
              "    <tr>\n",
              "      <th>xlnet-base-cased</th>\n",
              "      <td>0.091516</td>\n",
              "      <td>0.576954</td>\n",
              "      <td>0.729654</td>\n",
              "      <td>0.956161</td>\n",
              "    </tr>\n",
              "  </tbody>\n",
              "</table>\n",
              "</div>"
            ],
            "text/plain": [
              "                   hamming_loss  ...  AUC_ROC_score\n",
              "bert-base-uncased      0.090480  ...       0.950945\n",
              "roberta-base           0.064694  ...       0.968983\n",
              "gpt2                   0.152124  ...       0.892467\n",
              "xlnet-base-cased       0.091516  ...       0.956161\n",
              "\n",
              "[4 rows x 4 columns]"
            ]
          },
          "metadata": {},
          "execution_count": 45
        }
      ]
    },
    {
      "cell_type": "code",
      "metadata": {
        "id": "fO8lAOu2-oZD"
      },
      "source": [
        "hs_metrics.to_csv('/content/drive/MyDrive/Trained_models/Results_compilation /Language models/csv files/hhaa.csv')"
      ],
      "execution_count": 46,
      "outputs": []
    },
    {
      "cell_type": "markdown",
      "metadata": {
        "id": "RPckm459K4fx"
      },
      "source": [
        "#### Analysis"
      ]
    },
    {
      "cell_type": "markdown",
      "metadata": {
        "id": "_17OJHHnK6Gw"
      },
      "source": [
        "* Hamming loss (main_metric for multi-label) is lowest for roberta-base .\n",
        "* AUC_ROC score of roberta-base has a slight margin over Xlnet and bert "
      ]
    },
    {
      "cell_type": "markdown",
      "metadata": {
        "id": "vuIJD9PYLCzO"
      },
      "source": [
        "### per_class_precision_recall_fmeasure"
      ]
    },
    {
      "cell_type": "markdown",
      "metadata": {
        "id": "Cq2eDdDpLbbK"
      },
      "source": [
        "#### Definition"
      ]
    },
    {
      "cell_type": "markdown",
      "metadata": {
        "id": "Nn93wxubLd1A"
      },
      "source": [
        "References : http://rali.iro.umontreal.ca/rali/sites/default/files/publis/SokolovaLapalme-JIPM09.pdf \n",
        "\n",
        "Precision : \n",
        "  * The number of correctly classified positive examples divided by the number of examples labeled by the model as positive.\n",
        "  * Percentage of \"correctly **predicted** (positive)\" class labels by model out of total correct predictions (positive).\n",
        "  * Agreement of the data class labels with those of a classifiers if calculated from sums of per-text decisions. \n",
        "\n",
        "\n",
        "Recall : \n",
        "  * The number of correctly classified positive examples divided by the number of positive examples in the data.\n",
        "  * Percentage of **identified positive sample** out of total positive labels in the data.\n",
        "  * Effectiveness of a classifier to identify class labels if calculated from sums of per-text decisions.\n",
        "\n",
        "F1-Measure:\n",
        "  * Harmonic mean of Precision and recall \n"
      ]
    },
    {
      "cell_type": "markdown",
      "metadata": {
        "id": "PV9Ic0JmLeMD"
      },
      "source": [
        "#### Results"
      ]
    },
    {
      "cell_type": "code",
      "metadata": {
        "id": "19FUoVteTqV4"
      },
      "source": [
        "model = {}\n",
        "Labels = ['Ethnicity','gender','profession','religion','Anti-stereotype','stereotype','unrelated']\n",
        "# model = ['bert_base_uncased','roberta-base','gpt2','xlnet-base-cased']\n",
        "metrics = [bert_metrics,roberta_metrics,gpt2_metrics,xlnet_metrics]\n",
        "model_name = ['bert','roberta','gpt2','xlnet']"
      ],
      "execution_count": 47,
      "outputs": []
    },
    {
      "cell_type": "code",
      "metadata": {
        "id": "bjgisvfCLPa2"
      },
      "source": [
        "model.clear()\n",
        "for index,metric in enumerate(metrics):\n",
        "  for label in Labels:\n",
        "    model[model_name[index] + \"_\"+ label] = metric['Classification_report'][label]"
      ],
      "execution_count": 48,
      "outputs": []
    },
    {
      "cell_type": "code",
      "metadata": {
        "id": "t9_mPyTJ4w3c"
      },
      "source": [
        "df = pd.DataFrame(model)"
      ],
      "execution_count": 49,
      "outputs": []
    },
    {
      "cell_type": "code",
      "metadata": {
        "colab": {
          "base_uri": "https://localhost:8080/"
        },
        "id": "xb4m2qCCEDLZ",
        "outputId": "81d979e0-693d-4526-ae8b-c49e2e5d59c5"
      },
      "source": [
        "df.iloc[:,14:21]"
      ],
      "execution_count": 50,
      "outputs": [
        {
          "output_type": "execute_result",
          "data": {
            "text/html": [
              "<div>\n",
              "<style scoped>\n",
              "    .dataframe tbody tr th:only-of-type {\n",
              "        vertical-align: middle;\n",
              "    }\n",
              "\n",
              "    .dataframe tbody tr th {\n",
              "        vertical-align: top;\n",
              "    }\n",
              "\n",
              "    .dataframe thead th {\n",
              "        text-align: right;\n",
              "    }\n",
              "</style>\n",
              "<table border=\"1\" class=\"dataframe\">\n",
              "  <thead>\n",
              "    <tr style=\"text-align: right;\">\n",
              "      <th></th>\n",
              "      <th>gpt2_Ethnicity</th>\n",
              "      <th>gpt2_gender</th>\n",
              "      <th>gpt2_profession</th>\n",
              "      <th>gpt2_religion</th>\n",
              "      <th>gpt2_Anti-stereotype</th>\n",
              "      <th>gpt2_stereotype</th>\n",
              "      <th>gpt2_unrelated</th>\n",
              "    </tr>\n",
              "  </thead>\n",
              "  <tbody>\n",
              "    <tr>\n",
              "      <th>precision</th>\n",
              "      <td>0.870170</td>\n",
              "      <td>0.804054</td>\n",
              "      <td>0.751269</td>\n",
              "      <td>0.897690</td>\n",
              "      <td>0.529412</td>\n",
              "      <td>0.795678</td>\n",
              "      <td>0.824957</td>\n",
              "    </tr>\n",
              "    <tr>\n",
              "      <th>recall</th>\n",
              "      <td>0.718112</td>\n",
              "      <td>0.391447</td>\n",
              "      <td>0.633833</td>\n",
              "      <td>0.928328</td>\n",
              "      <td>0.034704</td>\n",
              "      <td>0.378505</td>\n",
              "      <td>0.750789</td>\n",
              "    </tr>\n",
              "    <tr>\n",
              "      <th>f1-score</th>\n",
              "      <td>0.786862</td>\n",
              "      <td>0.526549</td>\n",
              "      <td>0.687573</td>\n",
              "      <td>0.912752</td>\n",
              "      <td>0.065139</td>\n",
              "      <td>0.512983</td>\n",
              "      <td>0.786127</td>\n",
              "    </tr>\n",
              "    <tr>\n",
              "      <th>support</th>\n",
              "      <td>784.000000</td>\n",
              "      <td>304.000000</td>\n",
              "      <td>467.000000</td>\n",
              "      <td>293.000000</td>\n",
              "      <td>778.000000</td>\n",
              "      <td>1070.000000</td>\n",
              "      <td>634.000000</td>\n",
              "    </tr>\n",
              "  </tbody>\n",
              "</table>\n",
              "</div>"
            ],
            "text/plain": [
              "           gpt2_Ethnicity  gpt2_gender  ...  gpt2_stereotype  gpt2_unrelated\n",
              "precision        0.870170     0.804054  ...         0.795678        0.824957\n",
              "recall           0.718112     0.391447  ...         0.378505        0.750789\n",
              "f1-score         0.786862     0.526549  ...         0.512983        0.786127\n",
              "support        784.000000   304.000000  ...      1070.000000      634.000000\n",
              "\n",
              "[4 rows x 7 columns]"
            ]
          },
          "metadata": {},
          "execution_count": 50
        }
      ]
    },
    {
      "cell_type": "code",
      "metadata": {
        "id": "W0OXBkzb5IgP"
      },
      "source": [
        "df_bert  = df.iloc[:,:7]\n",
        "df_bert_metrics = df_bert.copy()\n",
        "df_bert_metrics['Model_name'] = 'bert_base_uncased'\n",
        "df_bert_metrics =df_bert_metrics.set_index(['Model_name',df_bert.index])\n",
        "df_bert_metrics.columns = Labels"
      ],
      "execution_count": 51,
      "outputs": []
    },
    {
      "cell_type": "code",
      "metadata": {
        "id": "nOhV8z3j9Tot"
      },
      "source": [
        "df_roberta = df.iloc[:,7:14]\n",
        "df_roberta_metrics = df_roberta.copy()\n",
        "df_roberta_metrics['Model_name'] = 'roberta-base'\n",
        "df_roberta_metrics = df_roberta_metrics.set_index(['Model_name',df_bert.index])\n",
        "df_roberta_metrics.columns = Labels"
      ],
      "execution_count": 52,
      "outputs": []
    },
    {
      "cell_type": "code",
      "metadata": {
        "id": "847pgQ97E4UA"
      },
      "source": [
        "df_GPT2 = df.iloc[:,14:21]\n",
        "df_GPT2_metrics = df_GPT2.copy()\n",
        "df_GPT2_metrics['Model_name'] = 'gpt2'\n",
        "df_GPT2_metrics = df_GPT2_metrics.set_index(['Model_name',df_bert.index])\n",
        "df_GPT2_metrics.columns = Labels"
      ],
      "execution_count": 53,
      "outputs": []
    },
    {
      "cell_type": "code",
      "metadata": {
        "id": "OPGDUAtECJQg"
      },
      "source": [
        "df_XLNet = df.iloc[:,21:]\n",
        "df_XLNet_metrics = df_XLNet.copy()\n",
        "df_XLNet_metrics['Model_name'] = 'xlnet-base-cased'\n",
        "df_XLNet_metrics = df_XLNet_metrics.set_index(['Model_name',df_bert.index])\n",
        "df_XLNet_metrics.columns = Labels"
      ],
      "execution_count": 54,
      "outputs": []
    },
    {
      "cell_type": "code",
      "metadata": {
        "id": "K75tImcOFJ43"
      },
      "source": [
        "df_per_label = pd.concat([df_bert_metrics,df_roberta_metrics,df_XLNet_metrics,df_GPT2_metrics])"
      ],
      "execution_count": 55,
      "outputs": []
    },
    {
      "cell_type": "code",
      "metadata": {
        "colab": {
          "base_uri": "https://localhost:8080/"
        },
        "id": "cQjalw7pGEGI",
        "outputId": "3273dd14-10db-414c-d983-6aa04fc51271"
      },
      "source": [
        "df_per_label"
      ],
      "execution_count": 56,
      "outputs": [
        {
          "output_type": "execute_result",
          "data": {
            "text/html": [
              "<div>\n",
              "<style scoped>\n",
              "    .dataframe tbody tr th:only-of-type {\n",
              "        vertical-align: middle;\n",
              "    }\n",
              "\n",
              "    .dataframe tbody tr th {\n",
              "        vertical-align: top;\n",
              "    }\n",
              "\n",
              "    .dataframe thead th {\n",
              "        text-align: right;\n",
              "    }\n",
              "</style>\n",
              "<table border=\"1\" class=\"dataframe\">\n",
              "  <thead>\n",
              "    <tr style=\"text-align: right;\">\n",
              "      <th></th>\n",
              "      <th></th>\n",
              "      <th>Ethnicity</th>\n",
              "      <th>gender</th>\n",
              "      <th>profession</th>\n",
              "      <th>religion</th>\n",
              "      <th>Anti-stereotype</th>\n",
              "      <th>stereotype</th>\n",
              "      <th>unrelated</th>\n",
              "    </tr>\n",
              "    <tr>\n",
              "      <th>Model_name</th>\n",
              "      <th></th>\n",
              "      <th></th>\n",
              "      <th></th>\n",
              "      <th></th>\n",
              "      <th></th>\n",
              "      <th></th>\n",
              "      <th></th>\n",
              "      <th></th>\n",
              "    </tr>\n",
              "  </thead>\n",
              "  <tbody>\n",
              "    <tr>\n",
              "      <th rowspan=\"4\" valign=\"top\">bert_base_uncased</th>\n",
              "      <th>precision</th>\n",
              "      <td>0.931846</td>\n",
              "      <td>0.882576</td>\n",
              "      <td>0.856566</td>\n",
              "      <td>0.979661</td>\n",
              "      <td>0.664395</td>\n",
              "      <td>0.713043</td>\n",
              "      <td>0.959184</td>\n",
              "    </tr>\n",
              "    <tr>\n",
              "      <th>recall</th>\n",
              "      <td>0.959184</td>\n",
              "      <td>0.766447</td>\n",
              "      <td>0.907923</td>\n",
              "      <td>0.986348</td>\n",
              "      <td>0.501285</td>\n",
              "      <td>0.766355</td>\n",
              "      <td>0.889590</td>\n",
              "    </tr>\n",
              "    <tr>\n",
              "      <th>f1-score</th>\n",
              "      <td>0.945317</td>\n",
              "      <td>0.820423</td>\n",
              "      <td>0.881497</td>\n",
              "      <td>0.982993</td>\n",
              "      <td>0.571429</td>\n",
              "      <td>0.738739</td>\n",
              "      <td>0.923077</td>\n",
              "    </tr>\n",
              "    <tr>\n",
              "      <th>support</th>\n",
              "      <td>784.000000</td>\n",
              "      <td>304.000000</td>\n",
              "      <td>467.000000</td>\n",
              "      <td>293.000000</td>\n",
              "      <td>778.000000</td>\n",
              "      <td>1070.000000</td>\n",
              "      <td>634.000000</td>\n",
              "    </tr>\n",
              "    <tr>\n",
              "      <th rowspan=\"4\" valign=\"top\">roberta-base</th>\n",
              "      <th>precision</th>\n",
              "      <td>0.943750</td>\n",
              "      <td>0.864686</td>\n",
              "      <td>0.883910</td>\n",
              "      <td>0.986395</td>\n",
              "      <td>0.758380</td>\n",
              "      <td>0.801237</td>\n",
              "      <td>0.971380</td>\n",
              "    </tr>\n",
              "    <tr>\n",
              "      <th>recall</th>\n",
              "      <td>0.963010</td>\n",
              "      <td>0.861842</td>\n",
              "      <td>0.929336</td>\n",
              "      <td>0.989761</td>\n",
              "      <td>0.697943</td>\n",
              "      <td>0.847664</td>\n",
              "      <td>0.910095</td>\n",
              "    </tr>\n",
              "    <tr>\n",
              "      <th>f1-score</th>\n",
              "      <td>0.953283</td>\n",
              "      <td>0.863262</td>\n",
              "      <td>0.906054</td>\n",
              "      <td>0.988075</td>\n",
              "      <td>0.726908</td>\n",
              "      <td>0.823797</td>\n",
              "      <td>0.939739</td>\n",
              "    </tr>\n",
              "    <tr>\n",
              "      <th>support</th>\n",
              "      <td>784.000000</td>\n",
              "      <td>304.000000</td>\n",
              "      <td>467.000000</td>\n",
              "      <td>293.000000</td>\n",
              "      <td>778.000000</td>\n",
              "      <td>1070.000000</td>\n",
              "      <td>634.000000</td>\n",
              "    </tr>\n",
              "    <tr>\n",
              "      <th rowspan=\"4\" valign=\"top\">xlnet-base-cased</th>\n",
              "      <th>precision</th>\n",
              "      <td>0.918619</td>\n",
              "      <td>0.865672</td>\n",
              "      <td>0.867102</td>\n",
              "      <td>0.982877</td>\n",
              "      <td>0.775568</td>\n",
              "      <td>0.828571</td>\n",
              "      <td>0.964476</td>\n",
              "    </tr>\n",
              "    <tr>\n",
              "      <th>recall</th>\n",
              "      <td>0.950255</td>\n",
              "      <td>0.763158</td>\n",
              "      <td>0.852248</td>\n",
              "      <td>0.979522</td>\n",
              "      <td>0.350900</td>\n",
              "      <td>0.623364</td>\n",
              "      <td>0.856467</td>\n",
              "    </tr>\n",
              "    <tr>\n",
              "      <th>f1-score</th>\n",
              "      <td>0.934169</td>\n",
              "      <td>0.811189</td>\n",
              "      <td>0.859611</td>\n",
              "      <td>0.981197</td>\n",
              "      <td>0.483186</td>\n",
              "      <td>0.711467</td>\n",
              "      <td>0.907268</td>\n",
              "    </tr>\n",
              "    <tr>\n",
              "      <th>support</th>\n",
              "      <td>784.000000</td>\n",
              "      <td>304.000000</td>\n",
              "      <td>467.000000</td>\n",
              "      <td>293.000000</td>\n",
              "      <td>778.000000</td>\n",
              "      <td>1070.000000</td>\n",
              "      <td>634.000000</td>\n",
              "    </tr>\n",
              "    <tr>\n",
              "      <th rowspan=\"4\" valign=\"top\">gpt2</th>\n",
              "      <th>precision</th>\n",
              "      <td>0.870170</td>\n",
              "      <td>0.804054</td>\n",
              "      <td>0.751269</td>\n",
              "      <td>0.897690</td>\n",
              "      <td>0.529412</td>\n",
              "      <td>0.795678</td>\n",
              "      <td>0.824957</td>\n",
              "    </tr>\n",
              "    <tr>\n",
              "      <th>recall</th>\n",
              "      <td>0.718112</td>\n",
              "      <td>0.391447</td>\n",
              "      <td>0.633833</td>\n",
              "      <td>0.928328</td>\n",
              "      <td>0.034704</td>\n",
              "      <td>0.378505</td>\n",
              "      <td>0.750789</td>\n",
              "    </tr>\n",
              "    <tr>\n",
              "      <th>f1-score</th>\n",
              "      <td>0.786862</td>\n",
              "      <td>0.526549</td>\n",
              "      <td>0.687573</td>\n",
              "      <td>0.912752</td>\n",
              "      <td>0.065139</td>\n",
              "      <td>0.512983</td>\n",
              "      <td>0.786127</td>\n",
              "    </tr>\n",
              "    <tr>\n",
              "      <th>support</th>\n",
              "      <td>784.000000</td>\n",
              "      <td>304.000000</td>\n",
              "      <td>467.000000</td>\n",
              "      <td>293.000000</td>\n",
              "      <td>778.000000</td>\n",
              "      <td>1070.000000</td>\n",
              "      <td>634.000000</td>\n",
              "    </tr>\n",
              "  </tbody>\n",
              "</table>\n",
              "</div>"
            ],
            "text/plain": [
              "                              Ethnicity      gender  ...   stereotype   unrelated\n",
              "Model_name                                           ...                         \n",
              "bert_base_uncased precision    0.931846    0.882576  ...     0.713043    0.959184\n",
              "                  recall       0.959184    0.766447  ...     0.766355    0.889590\n",
              "                  f1-score     0.945317    0.820423  ...     0.738739    0.923077\n",
              "                  support    784.000000  304.000000  ...  1070.000000  634.000000\n",
              "roberta-base      precision    0.943750    0.864686  ...     0.801237    0.971380\n",
              "                  recall       0.963010    0.861842  ...     0.847664    0.910095\n",
              "                  f1-score     0.953283    0.863262  ...     0.823797    0.939739\n",
              "                  support    784.000000  304.000000  ...  1070.000000  634.000000\n",
              "xlnet-base-cased  precision    0.918619    0.865672  ...     0.828571    0.964476\n",
              "                  recall       0.950255    0.763158  ...     0.623364    0.856467\n",
              "                  f1-score     0.934169    0.811189  ...     0.711467    0.907268\n",
              "                  support    784.000000  304.000000  ...  1070.000000  634.000000\n",
              "gpt2              precision    0.870170    0.804054  ...     0.795678    0.824957\n",
              "                  recall       0.718112    0.391447  ...     0.378505    0.750789\n",
              "                  f1-score     0.786862    0.526549  ...     0.512983    0.786127\n",
              "                  support    784.000000  304.000000  ...  1070.000000  634.000000\n",
              "\n",
              "[16 rows x 7 columns]"
            ]
          },
          "metadata": {},
          "execution_count": 56
        }
      ]
    },
    {
      "cell_type": "code",
      "metadata": {
        "id": "IGdoX3fpOBdL"
      },
      "source": [
        "df_per_label.to_csv('/content/drive/MyDrive/Trained_models/Results_compilation /Language models/csv files/per_label_pr_rc_ac.csv')"
      ],
      "execution_count": 57,
      "outputs": []
    },
    {
      "cell_type": "code",
      "metadata": {
        "id": "X2i3yA4PON3V"
      },
      "source": [
        ""
      ],
      "execution_count": null,
      "outputs": []
    }
  ]
}