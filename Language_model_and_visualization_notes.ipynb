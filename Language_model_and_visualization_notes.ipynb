{
  "nbformat": 4,
  "nbformat_minor": 0,
  "metadata": {
    "colab": {
      "name": "Language model and visualization notes.ipynb",
      "provenance": [],
      "collapsed_sections": [
        "x9wPoTMfekOS"
      ],
      "include_colab_link": true
    },
    "kernelspec": {
      "name": "python3",
      "display_name": "Python 3"
    },
    "language_info": {
      "name": "python"
    }
  },
  "cells": [
    {
      "cell_type": "markdown",
      "metadata": {
        "id": "view-in-github",
        "colab_type": "text"
      },
      "source": [
        "<a href=\"https://colab.research.google.com/github/mvdheram/Stereotypical-Social-bias-detection-/blob/Pre-trained-LM-selection-and-training/Language_model_and_visualization_notes.ipynb\" target=\"_parent\"><img src=\"https://colab.research.google.com/assets/colab-badge.svg\" alt=\"Open In Colab\"/></a>"
      ]
    },
    {
      "cell_type": "markdown",
      "metadata": {
        "id": "C2i-Sr614PTb"
      },
      "source": [
        "# BERT : Pre-training of Deep Bidirectional Transformers for Language Understanding\n",
        "\n",
        "Link : https://arxiv.org/pdf/1810.04805.pdf"
      ]
    },
    {
      "cell_type": "markdown",
      "metadata": {
        "id": "0bBbM9kk4dNL"
      },
      "source": [
        "Bert - **B**idirecitonal **E**ncoder **R**epresentations from **t**ransformers\n",
        "\n",
        "**Introduction**:\n",
        "\n",
        "  * "
      ]
    },
    {
      "cell_type": "markdown",
      "metadata": {
        "id": "n3L3CzAu4eKL"
      },
      "source": [
        "# GPT-2\n",
        "\n",
        "Link : http://www.persagen.com/files/misc/radford2019language.pdf"
      ]
    },
    {
      "cell_type": "markdown",
      "metadata": {
        "id": "lyiRQ5uL6EAL"
      },
      "source": [
        "# XL-Net\n",
        "\n",
        "Link : https://proceedings.neurips.cc/paper/2019/file/dc6a7e655d7e5840e66733e9ee67cc69-Paper.pdf \n",
        "\n"
      ]
    },
    {
      "cell_type": "markdown",
      "metadata": {
        "id": "LICnoEFo6BwM"
      },
      "source": [
        ""
      ]
    },
    {
      "cell_type": "markdown",
      "metadata": {
        "id": "Jtg-Q1jo6HVy"
      },
      "source": [
        "# RoBERTa \n",
        "\n",
        "Link : https://arxiv.org/abs/1907.11692"
      ]
    },
    {
      "cell_type": "markdown",
      "metadata": {
        "id": "x9wPoTMfekOS"
      },
      "source": [
        "# Visualization \n",
        "\n",
        "Link: https://towardsdatascience.com/visualize-bert-sequence-embeddings-an-unseen-way-1d6a351e4568\n",
        "\n",
        "\n",
        "1. https://jalammar.github.io/explaining-transformers/\n",
        "2. https://jalammar.github.io/hidden-states/\n",
        "3. BerViz : https://github.com/jessevig/bertviz"
      ]
    },
    {
      "cell_type": "markdown",
      "metadata": {
        "id": "WjnkFSkge2TE"
      },
      "source": [
        "Bert-base:\n",
        "  * 12 encoder-layer stack for building contextualized embeddings.\n",
        "  * 100 million tuneable parameters.\n",
        "  * As bert model offers its embeddings to input, its useful to viusalize layers to analyze the patterns learned on unseen data.\n",
        "\n",
        "\n",
        "Why?\n",
        "  * After training viusalize, how well each layer seperates over epochs.\n",
        "\n",
        "How?\n",
        "  * BertForSequenceClassification consists of :\n",
        "    * 1 - BertEmbedding layer -> 12 - Bertlayer -> 1 - Bertpooler -> Tanh - activation -> Dropout layer"
      ]
    },
    {
      "cell_type": "markdown",
      "metadata": {
        "id": "K4AwkYpm6M5b"
      },
      "source": [
        "## Compilation of results "
      ]
    },
    {
      "cell_type": "code",
      "metadata": {
        "id": "N7CD0MzgzR3x"
      },
      "source": [
        "import pandas as pd\n",
        "\n",
        "bert = pd.read_json('/content/eval_results_BERT_0.5_.json')\n",
        "roberta = pd.read_json('/content/eval_results_RoBERTa_0.5_.json')\n",
        "gpt2 = pd.read_json('/content/eval_results_gpt-2_0.5_.json')\n",
        "xlnet = pd.read_json('/content/eval_results_xlnet_0.5_.json')"
      ],
      "execution_count": 2,
      "outputs": []
    },
    {
      "cell_type": "code",
      "metadata": {
        "id": "50dcfCeF2Be6",
        "outputId": "678f5e8f-4011-457f-a58a-58001a968440",
        "colab": {
          "base_uri": "https://localhost:8080/",
          "height": 1000
        }
      },
      "source": [
        "bert"
      ],
      "execution_count": 5,
      "outputs": [
        {
          "output_type": "execute_result",
          "data": {
            "text/html": [
              "<div>\n",
              "<style scoped>\n",
              "    .dataframe tbody tr th:only-of-type {\n",
              "        vertical-align: middle;\n",
              "    }\n",
              "\n",
              "    .dataframe tbody tr th {\n",
              "        vertical-align: top;\n",
              "    }\n",
              "\n",
              "    .dataframe thead th {\n",
              "        text-align: right;\n",
              "    }\n",
              "</style>\n",
              "<table border=\"1\" class=\"dataframe\">\n",
              "  <thead>\n",
              "    <tr style=\"text-align: right;\">\n",
              "      <th></th>\n",
              "      <th>AUC_ROC_score</th>\n",
              "      <th>subset_accuracy</th>\n",
              "      <th>hamming_loss</th>\n",
              "      <th>Classification_report</th>\n",
              "      <th>confusion_matrix_Ethnicity</th>\n",
              "      <th>confusion_matrix_gender</th>\n",
              "      <th>confusion_matrix_profession</th>\n",
              "      <th>confusion_matrix_religion</th>\n",
              "      <th>confusion_matrix_Anti-stereotype</th>\n",
              "      <th>confusion_matrix_stereotype</th>\n",
              "      <th>confusion_matrix_unrelated</th>\n",
              "      <th>y_pred</th>\n",
              "      <th>y_labels</th>\n",
              "      <th>threshold</th>\n",
              "    </tr>\n",
              "  </thead>\n",
              "  <tbody>\n",
              "    <tr>\n",
              "      <th>Anti-stereotype</th>\n",
              "      <td>0.952434</td>\n",
              "      <td>0.666398</td>\n",
              "      <td>0.087832</td>\n",
              "      <td>{'precision': 0.6590584878744651, 'recall': 0....</td>\n",
              "      <td>[1643   55   33  751]</td>\n",
              "      <td>[2140   38   58  246]</td>\n",
              "      <td>[1952   63   52  415]</td>\n",
              "      <td>[2183    6    5  288]</td>\n",
              "      <td>[1465  239  316  462]</td>\n",
              "      <td>[1079  333  225  845]</td>\n",
              "      <td>[1824   24   79  555]</td>\n",
              "      <td>[[0 0 0 ... 0 0 1]\\n [1 0 0 ... 1 0 0]\\n [0 0 ...</td>\n",
              "      <td>[[0. 0. 0. ... 0. 0. 1.]\\n [0. 0. 0. ... 0. 0....</td>\n",
              "      <td>0.5</td>\n",
              "    </tr>\n",
              "    <tr>\n",
              "      <th>Ethnicity</th>\n",
              "      <td>0.952434</td>\n",
              "      <td>0.666398</td>\n",
              "      <td>0.087832</td>\n",
              "      <td>{'precision': 0.931761786600496, 'recall': 0.9...</td>\n",
              "      <td>[1643   55   33  751]</td>\n",
              "      <td>[2140   38   58  246]</td>\n",
              "      <td>[1952   63   52  415]</td>\n",
              "      <td>[2183    6    5  288]</td>\n",
              "      <td>[1465  239  316  462]</td>\n",
              "      <td>[1079  333  225  845]</td>\n",
              "      <td>[1824   24   79  555]</td>\n",
              "      <td>[[0 0 0 ... 0 0 1]\\n [1 0 0 ... 1 0 0]\\n [0 0 ...</td>\n",
              "      <td>[[0. 0. 0. ... 0. 0. 1.]\\n [0. 0. 0. ... 0. 0....</td>\n",
              "      <td>0.5</td>\n",
              "    </tr>\n",
              "    <tr>\n",
              "      <th>gender</th>\n",
              "      <td>0.952434</td>\n",
              "      <td>0.666398</td>\n",
              "      <td>0.087832</td>\n",
              "      <td>{'precision': 0.8661971830985911, 'recall': 0....</td>\n",
              "      <td>[1643   55   33  751]</td>\n",
              "      <td>[2140   38   58  246]</td>\n",
              "      <td>[1952   63   52  415]</td>\n",
              "      <td>[2183    6    5  288]</td>\n",
              "      <td>[1465  239  316  462]</td>\n",
              "      <td>[1079  333  225  845]</td>\n",
              "      <td>[1824   24   79  555]</td>\n",
              "      <td>[[0 0 0 ... 0 0 1]\\n [1 0 0 ... 1 0 0]\\n [0 0 ...</td>\n",
              "      <td>[[0. 0. 0. ... 0. 0. 1.]\\n [0. 0. 0. ... 0. 0....</td>\n",
              "      <td>0.5</td>\n",
              "    </tr>\n",
              "    <tr>\n",
              "      <th>macro avg</th>\n",
              "      <td>0.952434</td>\n",
              "      <td>0.666398</td>\n",
              "      <td>0.087832</td>\n",
              "      <td>{'precision': 0.8543824058846871, 'recall': 0....</td>\n",
              "      <td>[1643   55   33  751]</td>\n",
              "      <td>[2140   38   58  246]</td>\n",
              "      <td>[1952   63   52  415]</td>\n",
              "      <td>[2183    6    5  288]</td>\n",
              "      <td>[1465  239  316  462]</td>\n",
              "      <td>[1079  333  225  845]</td>\n",
              "      <td>[1824   24   79  555]</td>\n",
              "      <td>[[0 0 0 ... 0 0 1]\\n [1 0 0 ... 1 0 0]\\n [0 0 ...</td>\n",
              "      <td>[[0. 0. 0. ... 0. 0. 1.]\\n [0. 0. 0. ... 0. 0....</td>\n",
              "      <td>0.5</td>\n",
              "    </tr>\n",
              "    <tr>\n",
              "      <th>micro avg</th>\n",
              "      <td>0.952434</td>\n",
              "      <td>0.666398</td>\n",
              "      <td>0.087832</td>\n",
              "      <td>{'precision': 0.8245370370370371, 'recall': 0....</td>\n",
              "      <td>[1643   55   33  751]</td>\n",
              "      <td>[2140   38   58  246]</td>\n",
              "      <td>[1952   63   52  415]</td>\n",
              "      <td>[2183    6    5  288]</td>\n",
              "      <td>[1465  239  316  462]</td>\n",
              "      <td>[1079  333  225  845]</td>\n",
              "      <td>[1824   24   79  555]</td>\n",
              "      <td>[[0 0 0 ... 0 0 1]\\n [1 0 0 ... 1 0 0]\\n [0 0 ...</td>\n",
              "      <td>[[0. 0. 0. ... 0. 0. 1.]\\n [0. 0. 0. ... 0. 0....</td>\n",
              "      <td>0.5</td>\n",
              "    </tr>\n",
              "    <tr>\n",
              "      <th>profession</th>\n",
              "      <td>0.952434</td>\n",
              "      <td>0.666398</td>\n",
              "      <td>0.087832</td>\n",
              "      <td>{'precision': 0.8682008368200831, 'recall': 0....</td>\n",
              "      <td>[1643   55   33  751]</td>\n",
              "      <td>[2140   38   58  246]</td>\n",
              "      <td>[1952   63   52  415]</td>\n",
              "      <td>[2183    6    5  288]</td>\n",
              "      <td>[1465  239  316  462]</td>\n",
              "      <td>[1079  333  225  845]</td>\n",
              "      <td>[1824   24   79  555]</td>\n",
              "      <td>[[0 0 0 ... 0 0 1]\\n [1 0 0 ... 1 0 0]\\n [0 0 ...</td>\n",
              "      <td>[[0. 0. 0. ... 0. 0. 1.]\\n [0. 0. 0. ... 0. 0....</td>\n",
              "      <td>0.5</td>\n",
              "    </tr>\n",
              "    <tr>\n",
              "      <th>religion</th>\n",
              "      <td>0.952434</td>\n",
              "      <td>0.666398</td>\n",
              "      <td>0.087832</td>\n",
              "      <td>{'precision': 0.9795918367346931, 'recall': 0....</td>\n",
              "      <td>[1643   55   33  751]</td>\n",
              "      <td>[2140   38   58  246]</td>\n",
              "      <td>[1952   63   52  415]</td>\n",
              "      <td>[2183    6    5  288]</td>\n",
              "      <td>[1465  239  316  462]</td>\n",
              "      <td>[1079  333  225  845]</td>\n",
              "      <td>[1824   24   79  555]</td>\n",
              "      <td>[[0 0 0 ... 0 0 1]\\n [1 0 0 ... 1 0 0]\\n [0 0 ...</td>\n",
              "      <td>[[0. 0. 0. ... 0. 0. 1.]\\n [0. 0. 0. ... 0. 0....</td>\n",
              "      <td>0.5</td>\n",
              "    </tr>\n",
              "    <tr>\n",
              "      <th>samples avg</th>\n",
              "      <td>0.952434</td>\n",
              "      <td>0.666398</td>\n",
              "      <td>0.087832</td>\n",
              "      <td>{'precision': 0.8385710448562981, 'recall': 0....</td>\n",
              "      <td>[1643   55   33  751]</td>\n",
              "      <td>[2140   38   58  246]</td>\n",
              "      <td>[1952   63   52  415]</td>\n",
              "      <td>[2183    6    5  288]</td>\n",
              "      <td>[1465  239  316  462]</td>\n",
              "      <td>[1079  333  225  845]</td>\n",
              "      <td>[1824   24   79  555]</td>\n",
              "      <td>[[0 0 0 ... 0 0 1]\\n [1 0 0 ... 1 0 0]\\n [0 0 ...</td>\n",
              "      <td>[[0. 0. 0. ... 0. 0. 1.]\\n [0. 0. 0. ... 0. 0....</td>\n",
              "      <td>0.5</td>\n",
              "    </tr>\n",
              "    <tr>\n",
              "      <th>stereotype</th>\n",
              "      <td>0.952434</td>\n",
              "      <td>0.666398</td>\n",
              "      <td>0.087832</td>\n",
              "      <td>{'precision': 0.7173174872665531, 'recall': 0....</td>\n",
              "      <td>[1643   55   33  751]</td>\n",
              "      <td>[2140   38   58  246]</td>\n",
              "      <td>[1952   63   52  415]</td>\n",
              "      <td>[2183    6    5  288]</td>\n",
              "      <td>[1465  239  316  462]</td>\n",
              "      <td>[1079  333  225  845]</td>\n",
              "      <td>[1824   24   79  555]</td>\n",
              "      <td>[[0 0 0 ... 0 0 1]\\n [1 0 0 ... 1 0 0]\\n [0 0 ...</td>\n",
              "      <td>[[0. 0. 0. ... 0. 0. 1.]\\n [0. 0. 0. ... 0. 0....</td>\n",
              "      <td>0.5</td>\n",
              "    </tr>\n",
              "    <tr>\n",
              "      <th>unrelated</th>\n",
              "      <td>0.952434</td>\n",
              "      <td>0.666398</td>\n",
              "      <td>0.087832</td>\n",
              "      <td>{'precision': 0.9585492227979271, 'recall': 0....</td>\n",
              "      <td>[1643   55   33  751]</td>\n",
              "      <td>[2140   38   58  246]</td>\n",
              "      <td>[1952   63   52  415]</td>\n",
              "      <td>[2183    6    5  288]</td>\n",
              "      <td>[1465  239  316  462]</td>\n",
              "      <td>[1079  333  225  845]</td>\n",
              "      <td>[1824   24   79  555]</td>\n",
              "      <td>[[0 0 0 ... 0 0 1]\\n [1 0 0 ... 1 0 0]\\n [0 0 ...</td>\n",
              "      <td>[[0. 0. 0. ... 0. 0. 1.]\\n [0. 0. 0. ... 0. 0....</td>\n",
              "      <td>0.5</td>\n",
              "    </tr>\n",
              "    <tr>\n",
              "      <th>weighted avg</th>\n",
              "      <td>0.952434</td>\n",
              "      <td>0.666398</td>\n",
              "      <td>0.087832</td>\n",
              "      <td>{'precision': 0.8254717795636111, 'recall': 0....</td>\n",
              "      <td>[1643   55   33  751]</td>\n",
              "      <td>[2140   38   58  246]</td>\n",
              "      <td>[1952   63   52  415]</td>\n",
              "      <td>[2183    6    5  288]</td>\n",
              "      <td>[1465  239  316  462]</td>\n",
              "      <td>[1079  333  225  845]</td>\n",
              "      <td>[1824   24   79  555]</td>\n",
              "      <td>[[0 0 0 ... 0 0 1]\\n [1 0 0 ... 1 0 0]\\n [0 0 ...</td>\n",
              "      <td>[[0. 0. 0. ... 0. 0. 1.]\\n [0. 0. 0. ... 0. 0....</td>\n",
              "      <td>0.5</td>\n",
              "    </tr>\n",
              "  </tbody>\n",
              "</table>\n",
              "</div>"
            ],
            "text/plain": [
              "                 AUC_ROC_score  ...  threshold\n",
              "Anti-stereotype       0.952434  ...        0.5\n",
              "Ethnicity             0.952434  ...        0.5\n",
              "gender                0.952434  ...        0.5\n",
              "macro avg             0.952434  ...        0.5\n",
              "micro avg             0.952434  ...        0.5\n",
              "profession            0.952434  ...        0.5\n",
              "religion              0.952434  ...        0.5\n",
              "samples avg           0.952434  ...        0.5\n",
              "stereotype            0.952434  ...        0.5\n",
              "unrelated             0.952434  ...        0.5\n",
              "weighted avg          0.952434  ...        0.5\n",
              "\n",
              "[11 rows x 14 columns]"
            ]
          },
          "metadata": {
            "tags": []
          },
          "execution_count": 5
        }
      ]
    },
    {
      "cell_type": "code",
      "metadata": {
        "id": "7z8AmCy17JWp"
      },
      "source": [
        ""
      ],
      "execution_count": null,
      "outputs": []
    }
  ]
}