{
  "nbformat": 4,
  "nbformat_minor": 0,
  "metadata": {
    "colab": {
      "name": "Pre-trained Language model selection and training.ipynb",
      "provenance": [],
      "authorship_tag": "ABX9TyP/bM+K6QlHrZ9bpKvepoAz",
      "include_colab_link": true
    },
    "kernelspec": {
      "name": "python3",
      "display_name": "Python 3"
    },
    "language_info": {
      "name": "python"
    }
  },
  "cells": [
    {
      "cell_type": "markdown",
      "metadata": {
        "id": "view-in-github",
        "colab_type": "text"
      },
      "source": [
        "<a href=\"https://colab.research.google.com/github/mvdheram/Stereotypical-Social-bias-detection-/blob/Pre-trained-LM-selection-and-training/Pre_trained_Language_model_selection_and_training.ipynb\" target=\"_parent\"><img src=\"https://colab.research.google.com/assets/colab-badge.svg\" alt=\"Open In Colab\"/></a>"
      ]
    },
    {
      "cell_type": "markdown",
      "metadata": {
        "id": "5PvoyWk40-LI"
      },
      "source": [
        "# Selecting pre-trained language model- Research"
      ]
    },
    {
      "cell_type": "code",
      "metadata": {
        "id": "PTinpa5w01na"
      },
      "source": [
        ""
      ],
      "execution_count": null,
      "outputs": []
    },
    {
      "cell_type": "markdown",
      "metadata": {
        "id": "5U6X1JDZ1FIs"
      },
      "source": [
        "# Selected models notes - Research"
      ]
    },
    {
      "cell_type": "code",
      "metadata": {
        "id": "WMNtnWBx1Nd9"
      },
      "source": [
        ""
      ],
      "execution_count": null,
      "outputs": []
    },
    {
      "cell_type": "markdown",
      "metadata": {
        "id": "OurMPLOF1Qju"
      },
      "source": [
        "# Training selected LM - Implementation "
      ]
    },
    {
      "cell_type": "code",
      "metadata": {
        "id": "ABin7WAo1Sv7"
      },
      "source": [
        ""
      ],
      "execution_count": null,
      "outputs": []
    },
    {
      "cell_type": "markdown",
      "metadata": {
        "id": "pRUmW1oi1TcU"
      },
      "source": [
        "# Analyzing results - Research"
      ]
    },
    {
      "cell_type": "code",
      "metadata": {
        "id": "4ELuPt9W1Vv-"
      },
      "source": [
        ""
      ],
      "execution_count": null,
      "outputs": []
    }
  ]
}